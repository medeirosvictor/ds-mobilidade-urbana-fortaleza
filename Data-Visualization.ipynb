{
  "cells": [
    {
      "cell_type": "markdown",
      "source": [
        "## Evaluating complete dataset (March 2020 - December 2020/Jan 1 2021)"
      ],
      "metadata": {}
    },
    {
      "cell_type": "code",
      "execution_count": 6,
      "source": [
        "import numpy as np\r\n",
        "import pandas as pd\r\n",
        "import tensorflow as tf\r\n",
        "import matplotlib.pyplot as plt\r\n",
        "from sklearn.preprocessing import OneHotEncoder\r\n",
        "from sklearn.model_selection import train_test_split\r\n",
        "from sklearn.preprocessing import MinMaxScaler\r\n",
        "from sklearn.metrics import r2_score,mean_absolute_error,mean_squared_error\r\n",
        "import seaborn as sns\r\n",
        "from math import sqrt\r\n",
        "\r\n",
        "transformar_features = False\r\n",
        "data = pd.read_csv('./data_input_zerofill.csv', sep=';', delimiter=';')\r\n",
        "# busline_filter = 41\r\n",
        "# data_model = data.loc[data['linha'] == busline_filter]\r\n",
        "# display(data_model)"
      ],
      "outputs": [],
      "metadata": {}
    },
    {
      "cell_type": "code",
      "execution_count": null,
      "source": [
        "print('Quantidade de Linhas de Onibus: ', len(data.linha.unique()))\r\n",
        "# data"
      ],
      "outputs": [
        {
          "output_type": "stream",
          "name": "stdout",
          "text": [
            "Quantidade de Linhas de Onibus:  404\n"
          ]
        }
      ],
      "metadata": {}
    },
    {
      "cell_type": "markdown",
      "source": [
        "## Sazonalidade Anual / Dia"
      ],
      "metadata": {}
    },
    {
      "cell_type": "code",
      "execution_count": null,
      "source": [
        "plt.figure(figsize=(15,5))\r\n",
        "plt.xlabel('Dias do Ano')\r\n",
        "plt.ylabel('Quantidade Valid.')\r\n",
        "plt.title(\"Sazonalidade Anual / Dia\")\r\n",
        "sns.lineplot(x=\"d_ano\", y=\"validations_per_hour\", data=data, markers=True, dashes=False, ci=None)\r\n",
        "#plt.plot(data['d_ano'], data['validations_per_hour'], 'b--')\r\n",
        "plt.show()"
      ],
      "outputs": [],
      "metadata": {}
    },
    {
      "cell_type": "markdown",
      "source": [
        "## Relacao QTD de validacoes Mensais"
      ],
      "metadata": {}
    },
    {
      "cell_type": "code",
      "execution_count": null,
      "source": [
        "plt.figure(figsize=(15,5))\r\n",
        "plt.xlabel('Meses')\r\n",
        "plt.ylabel('Quantidade Valid.')\r\n",
        "plt.title(\"Sazonalidade Mensal\")\r\n",
        "sns.set_theme(style=\"whitegrid\")\r\n",
        "sns.barplot(x=\"mes\", y=\"validations_per_hour\", data=data, color='salmon', saturation=.5)\r\n",
        "#plt.plot(data['mes'], data['validations_per_hour'], kind='bar')\r\n",
        "plt.show()"
      ],
      "outputs": [],
      "metadata": {}
    },
    {
      "cell_type": "code",
      "execution_count": null,
      "source": [
        "\r\n",
        "plt.figure(figsize=(15,5))\r\n",
        "plt.xlabel('Tempo')\r\n",
        "plt.ylabel('Quantidade')\r\n",
        "plt.title(\"Sazonalidade Mensal / Dia\")\r\n",
        "sns.barplot(x=\"d_mes\", y=\"validations_per_hour\", data=data, color=\"salmon\", saturation=.5, ci=None)\r\n",
        "#plt.plot(data['d_mes'], data['validations_per_hour'], 'b--')\r\n",
        "plt.show()"
      ],
      "outputs": [],
      "metadata": {}
    },
    {
      "cell_type": "code",
      "execution_count": null,
      "source": [
        "plt.figure(figsize=(15,5))\r\n",
        "plt.xlabel('Tempo')\r\n",
        "plt.ylabel('Quantidade')\r\n",
        "plt.title(\"Sazonalidade Mensal / Dia\")\r\n",
        "sns.barplot(x='d_semana', y='validations_per_hour', data=data, color=\"blue\", saturation=.3, ci=None)\r\n",
        "plt.show()"
      ],
      "outputs": [],
      "metadata": {}
    },
    {
      "cell_type": "code",
      "execution_count": null,
      "source": [
        "plt.figure(figsize=(15,5))\r\n",
        "plt.xlabel('Tempo')\r\n",
        "plt.ylabel('Quantidade')\r\n",
        "plt.title(\"Sazonalidade Hora\")\r\n",
        "sns.lineplot(x='hora', y='validations_per_hour', data=data, ci=None, color='orange')\r\n",
        "plt.show()"
      ],
      "outputs": [],
      "metadata": {}
    },
    {
      "cell_type": "markdown",
      "source": [
        "## Visualizacao das Linhas\r\n",
        "\r\n",
        "### Ranking"
      ],
      "metadata": {}
    },
    {
      "cell_type": "code",
      "execution_count": null,
      "source": [
        "data = pd.read_csv('./performances/ranking_top100.csv', sep=',', delimiter=',')\r\n",
        "ranking = data.sort_values('MAE', ascending=True)\r\n",
        "ranking"
      ],
      "outputs": [],
      "metadata": {}
    }
  ],
  "metadata": {
    "interpreter": {
      "hash": "4caa081543ae4d7454eea2adf6270962382d99fc25b3a6423caed7aecce4d7f8"
    },
    "kernelspec": {
      "name": "python3",
      "display_name": "Python 3.8.8 64-bit ('ml': conda)"
    },
    "language_info": {
      "name": "python",
      "version": "3.8.8",
      "mimetype": "text/x-python",
      "codemirror_mode": {
        "name": "ipython",
        "version": 3
      },
      "pygments_lexer": "ipython3",
      "nbconvert_exporter": "python",
      "file_extension": ".py"
    },
    "kernel_info": {
      "name": "python3"
    },
    "nteract": {
      "version": "nteract-front-end@1.0.0"
    }
  },
  "nbformat": 4,
  "nbformat_minor": 2
}