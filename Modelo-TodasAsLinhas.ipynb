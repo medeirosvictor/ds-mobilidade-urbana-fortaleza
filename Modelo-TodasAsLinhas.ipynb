{
  "cells": [
    {
      "cell_type": "markdown",
      "source": [
        "## Previsao de Embarque \r\n",
        "- Simples \r\n",
        "- Sem Serie Temporal\r\n",
        "- Regressao Linear\r\n",
        "- Random Forest\r\n",
        "- Com Grid Search\r\n",
        "- Bagging, Stacking e Boosting"
      ],
      "metadata": {}
    },
    {
      "cell_type": "code",
      "execution_count": 2,
      "source": [
        "import pandas as pd\r\n",
        "import matplotlib.pyplot as plt\r\n",
        "import numpy as np\r\n",
        "import seaborn as sns\r\n",
        "\r\n",
        "from sklearn.preprocessing import OneHotEncoder\r\n",
        "from sklearn.linear_model import LinearRegression\r\n",
        "from sklearn.ensemble import RandomForestRegressor, BaggingRegressor, StackingRegressor, GradientBoostingRegressor\r\n",
        "from sklearn.pipeline import make_pipeline\r\n",
        "from sklearn.datasets import make_regression\r\n",
        "import datetime as dt\r\n",
        "\r\n",
        "import warnings\r\n",
        "\r\n",
        "from sklearn.model_selection import train_test_split, cross_val_score\r\n",
        "from sklearn.metrics import mean_squared_error, r2_score, mean_absolute_error, mean_absolute_percentage_error\r\n",
        "#from sklearn.metrics import mean_absolute_percentage_error\r\n",
        "from sklearn.model_selection import RandomizedSearchCV\r\n",
        "from IPython.display import display\r\n",
        "from pprint import pprint\r\n",
        "from math import sqrt\r\n",
        "\r\n",
        "from variables import day_of_week_translator, feriados, vesperas\r\n",
        "\r\n",
        "\r\n",
        "#from shutil import unpack_archive\r\n",
        "#unpack_archive('./df_input.zip', './')"
      ],
      "outputs": [],
      "metadata": {
        "gather": {
          "logged": 1632360924338
        }
      }
    },
    {
      "cell_type": "code",
      "execution_count": 1,
      "source": [
        "# import tensorflow as tf\r\n",
        "# print(tf.config.list_physical_devices('GPU'))\r\n",
        "# print(tf.test.is_built_with_cuda())\r\n",
        "\r\n",
        "import cudf\r\n",
        "gdf = cudf.read_csv('./data_input_zerofill.csv', sep=';', delimiter=';')\r\n",
        "for column in gdf.columns:\r\n",
        "    print(gdf[column].mean())"
      ],
      "outputs": [
        {
          "output_type": "error",
          "ename": "ModuleNotFoundError",
          "evalue": "No module named 'cudf'",
          "traceback": [
            "\u001b[1;31m---------------------------------------------------------------------------\u001b[0m",
            "\u001b[1;31mModuleNotFoundError\u001b[0m                       Traceback (most recent call last)",
            "\u001b[1;32m<ipython-input-1-df2376043ab4>\u001b[0m in \u001b[0;36m<module>\u001b[1;34m\u001b[0m\n\u001b[0;32m      3\u001b[0m \u001b[1;31m# print(tf.test.is_built_with_cuda())\u001b[0m\u001b[1;33m\u001b[0m\u001b[1;33m\u001b[0m\u001b[1;33m\u001b[0m\u001b[0m\n\u001b[0;32m      4\u001b[0m \u001b[1;33m\u001b[0m\u001b[0m\n\u001b[1;32m----> 5\u001b[1;33m \u001b[1;32mimport\u001b[0m \u001b[0mcudf\u001b[0m\u001b[1;33m\u001b[0m\u001b[1;33m\u001b[0m\u001b[0m\n\u001b[0m\u001b[0;32m      6\u001b[0m \u001b[0mgdf\u001b[0m \u001b[1;33m=\u001b[0m \u001b[0mcudf\u001b[0m\u001b[1;33m.\u001b[0m\u001b[0mread_csv\u001b[0m\u001b[1;33m(\u001b[0m\u001b[1;34m'./data_input_zerofill.csv'\u001b[0m\u001b[1;33m,\u001b[0m \u001b[0msep\u001b[0m\u001b[1;33m=\u001b[0m\u001b[1;34m';'\u001b[0m\u001b[1;33m,\u001b[0m \u001b[0mdelimiter\u001b[0m\u001b[1;33m=\u001b[0m\u001b[1;34m';'\u001b[0m\u001b[1;33m)\u001b[0m\u001b[1;33m\u001b[0m\u001b[1;33m\u001b[0m\u001b[0m\n\u001b[0;32m      7\u001b[0m \u001b[1;32mfor\u001b[0m \u001b[0mcolumn\u001b[0m \u001b[1;32min\u001b[0m \u001b[0mgdf\u001b[0m\u001b[1;33m.\u001b[0m\u001b[0mcolumns\u001b[0m\u001b[1;33m:\u001b[0m\u001b[1;33m\u001b[0m\u001b[1;33m\u001b[0m\u001b[0m\n",
            "\u001b[1;31mModuleNotFoundError\u001b[0m: No module named 'cudf'"
          ]
        }
      ],
      "metadata": {}
    },
    {
      "cell_type": "markdown",
      "source": [
        "## Filtro de Onibus e definicoes de features/target"
      ],
      "metadata": {
        "nteract": {
          "transient": {
            "deleting": false
          }
        }
      }
    },
    {
      "cell_type": "code",
      "execution_count": 4,
      "source": [
        "# Reading Data file (geolocalized)\r\n",
        "data = pd.read_csv('./data_input_zerofill.csv', sep=';', delimiter=';')\r\n",
        "\r\n",
        "data_model = data.copy()\r\n",
        "\r\n",
        "#d_ano,  estao disponiveis para inserir once eu tive mais de 1 ano de dados\r\n",
        "feature_names = [\r\n",
        "    'linha',\r\n",
        "    'hour_sin', 'hour_cos', \r\n",
        "    'd_mes', 'd_ano', 'mes', 'semana_do_mes', \r\n",
        "    'domingo','segunda', 'terca', 'quarta', 'quinta', 'sexta', 'sabado', \r\n",
        "    'feriado', 'vespera_feriado']\r\n",
        "\r\n",
        "target = 'validations_per_hour'\r\n",
        "\r\n",
        "data_model.linha = data_model.linha.apply(str)\r\n",
        "# data_model.dtypes"
      ],
      "outputs": [],
      "metadata": {
        "collapsed": true,
        "jupyter": {
          "source_hidden": false,
          "outputs_hidden": false
        },
        "nteract": {
          "transient": {
            "deleting": false
          }
        },
        "gather": {
          "logged": 1632360927530
        }
      }
    },
    {
      "cell_type": "code",
      "execution_count": 5,
      "source": [
        "data_model"
      ],
      "outputs": [
        {
          "output_type": "execute_result",
          "data": {
            "text/html": [
              "<div>\n",
              "<style scoped>\n",
              "    .dataframe tbody tr th:only-of-type {\n",
              "        vertical-align: middle;\n",
              "    }\n",
              "\n",
              "    .dataframe tbody tr th {\n",
              "        vertical-align: top;\n",
              "    }\n",
              "\n",
              "    .dataframe thead th {\n",
              "        text-align: right;\n",
              "    }\n",
              "</style>\n",
              "<table border=\"1\" class=\"dataframe\">\n",
              "  <thead>\n",
              "    <tr style=\"text-align: right;\">\n",
              "      <th></th>\n",
              "      <th>linha</th>\n",
              "      <th>data_hora</th>\n",
              "      <th>validations_per_hour</th>\n",
              "      <th>d_semana</th>\n",
              "      <th>hour_sin</th>\n",
              "      <th>hour_cos</th>\n",
              "      <th>hora</th>\n",
              "      <th>d_mes</th>\n",
              "      <th>d_ano</th>\n",
              "      <th>mes</th>\n",
              "      <th>semana_do_mes</th>\n",
              "    </tr>\n",
              "  </thead>\n",
              "  <tbody>\n",
              "    <tr>\n",
              "      <th>0</th>\n",
              "      <td>1</td>\n",
              "      <td>2020-03-01 00:00:00</td>\n",
              "      <td>0</td>\n",
              "      <td>6</td>\n",
              "      <td>0.000000</td>\n",
              "      <td>1.000000</td>\n",
              "      <td>0</td>\n",
              "      <td>1</td>\n",
              "      <td>61</td>\n",
              "      <td>3</td>\n",
              "      <td>1</td>\n",
              "    </tr>\n",
              "    <tr>\n",
              "      <th>1</th>\n",
              "      <td>1</td>\n",
              "      <td>2020-03-01 01:00:00</td>\n",
              "      <td>0</td>\n",
              "      <td>6</td>\n",
              "      <td>0.269797</td>\n",
              "      <td>0.962917</td>\n",
              "      <td>1</td>\n",
              "      <td>1</td>\n",
              "      <td>61</td>\n",
              "      <td>3</td>\n",
              "      <td>1</td>\n",
              "    </tr>\n",
              "    <tr>\n",
              "      <th>2</th>\n",
              "      <td>1</td>\n",
              "      <td>2020-03-01 02:00:00</td>\n",
              "      <td>0</td>\n",
              "      <td>6</td>\n",
              "      <td>0.519584</td>\n",
              "      <td>0.854419</td>\n",
              "      <td>2</td>\n",
              "      <td>1</td>\n",
              "      <td>61</td>\n",
              "      <td>3</td>\n",
              "      <td>1</td>\n",
              "    </tr>\n",
              "    <tr>\n",
              "      <th>3</th>\n",
              "      <td>1</td>\n",
              "      <td>2020-03-01 03:00:00</td>\n",
              "      <td>0</td>\n",
              "      <td>6</td>\n",
              "      <td>0.730836</td>\n",
              "      <td>0.682553</td>\n",
              "      <td>3</td>\n",
              "      <td>1</td>\n",
              "      <td>61</td>\n",
              "      <td>3</td>\n",
              "      <td>1</td>\n",
              "    </tr>\n",
              "    <tr>\n",
              "      <th>4</th>\n",
              "      <td>1</td>\n",
              "      <td>2020-03-01 04:00:00</td>\n",
              "      <td>0</td>\n",
              "      <td>6</td>\n",
              "      <td>0.887885</td>\n",
              "      <td>0.460065</td>\n",
              "      <td>4</td>\n",
              "      <td>1</td>\n",
              "      <td>61</td>\n",
              "      <td>3</td>\n",
              "      <td>1</td>\n",
              "    </tr>\n",
              "    <tr>\n",
              "      <th>...</th>\n",
              "      <td>...</td>\n",
              "      <td>...</td>\n",
              "      <td>...</td>\n",
              "      <td>...</td>\n",
              "      <td>...</td>\n",
              "      <td>...</td>\n",
              "      <td>...</td>\n",
              "      <td>...</td>\n",
              "      <td>...</td>\n",
              "      <td>...</td>\n",
              "      <td>...</td>\n",
              "    </tr>\n",
              "    <tr>\n",
              "      <th>1604349</th>\n",
              "      <td>999</td>\n",
              "      <td>2020-12-01 08:00:00</td>\n",
              "      <td>12</td>\n",
              "      <td>1</td>\n",
              "      <td>0.816970</td>\n",
              "      <td>-0.576680</td>\n",
              "      <td>8</td>\n",
              "      <td>1</td>\n",
              "      <td>336</td>\n",
              "      <td>12</td>\n",
              "      <td>0</td>\n",
              "    </tr>\n",
              "    <tr>\n",
              "      <th>1604350</th>\n",
              "      <td>999</td>\n",
              "      <td>2020-12-01 09:00:00</td>\n",
              "      <td>1</td>\n",
              "      <td>1</td>\n",
              "      <td>0.631088</td>\n",
              "      <td>-0.775711</td>\n",
              "      <td>9</td>\n",
              "      <td>1</td>\n",
              "      <td>336</td>\n",
              "      <td>12</td>\n",
              "      <td>0</td>\n",
              "    </tr>\n",
              "    <tr>\n",
              "      <th>1604351</th>\n",
              "      <td>999</td>\n",
              "      <td>2020-12-01 10:00:00</td>\n",
              "      <td>1</td>\n",
              "      <td>1</td>\n",
              "      <td>0.398401</td>\n",
              "      <td>-0.917211</td>\n",
              "      <td>10</td>\n",
              "      <td>1</td>\n",
              "      <td>336</td>\n",
              "      <td>12</td>\n",
              "      <td>0</td>\n",
              "    </tr>\n",
              "    <tr>\n",
              "      <th>1604352</th>\n",
              "      <td>999</td>\n",
              "      <td>2020-12-01 11:00:00</td>\n",
              "      <td>5</td>\n",
              "      <td>1</td>\n",
              "      <td>0.136167</td>\n",
              "      <td>-0.990686</td>\n",
              "      <td>11</td>\n",
              "      <td>1</td>\n",
              "      <td>336</td>\n",
              "      <td>12</td>\n",
              "      <td>0</td>\n",
              "    </tr>\n",
              "    <tr>\n",
              "      <th>1604353</th>\n",
              "      <td>999</td>\n",
              "      <td>2020-12-01 12:00:00</td>\n",
              "      <td>3</td>\n",
              "      <td>1</td>\n",
              "      <td>-0.136167</td>\n",
              "      <td>-0.990686</td>\n",
              "      <td>12</td>\n",
              "      <td>1</td>\n",
              "      <td>336</td>\n",
              "      <td>12</td>\n",
              "      <td>0</td>\n",
              "    </tr>\n",
              "  </tbody>\n",
              "</table>\n",
              "<p>1604354 rows × 11 columns</p>\n",
              "</div>"
            ],
            "text/plain": [
              "        linha            data_hora  validations_per_hour  d_semana  hour_sin  \\\n",
              "0           1  2020-03-01 00:00:00                     0         6  0.000000   \n",
              "1           1  2020-03-01 01:00:00                     0         6  0.269797   \n",
              "2           1  2020-03-01 02:00:00                     0         6  0.519584   \n",
              "3           1  2020-03-01 03:00:00                     0         6  0.730836   \n",
              "4           1  2020-03-01 04:00:00                     0         6  0.887885   \n",
              "...       ...                  ...                   ...       ...       ...   \n",
              "1604349   999  2020-12-01 08:00:00                    12         1  0.816970   \n",
              "1604350   999  2020-12-01 09:00:00                     1         1  0.631088   \n",
              "1604351   999  2020-12-01 10:00:00                     1         1  0.398401   \n",
              "1604352   999  2020-12-01 11:00:00                     5         1  0.136167   \n",
              "1604353   999  2020-12-01 12:00:00                     3         1 -0.136167   \n",
              "\n",
              "         hour_cos  hora  d_mes  d_ano  mes  semana_do_mes  \n",
              "0        1.000000     0      1     61    3              1  \n",
              "1        0.962917     1      1     61    3              1  \n",
              "2        0.854419     2      1     61    3              1  \n",
              "3        0.682553     3      1     61    3              1  \n",
              "4        0.460065     4      1     61    3              1  \n",
              "...           ...   ...    ...    ...  ...            ...  \n",
              "1604349 -0.576680     8      1    336   12              0  \n",
              "1604350 -0.775711     9      1    336   12              0  \n",
              "1604351 -0.917211    10      1    336   12              0  \n",
              "1604352 -0.990686    11      1    336   12              0  \n",
              "1604353 -0.990686    12      1    336   12              0  \n",
              "\n",
              "[1604354 rows x 11 columns]"
            ]
          },
          "metadata": {},
          "execution_count": 5
        }
      ],
      "metadata": {
        "jupyter": {
          "source_hidden": false,
          "outputs_hidden": false
        },
        "nteract": {
          "transient": {
            "deleting": false
          }
        },
        "gather": {
          "logged": 1632360928431
        }
      }
    },
    {
      "cell_type": "code",
      "execution_count": 6,
      "source": [
        "one_hot_encoder = OneHotEncoder(sparse=False)\r\n",
        "\r\n",
        "data_model[['domingo','segunda', 'terca', 'quarta', 'quinta', 'sexta', 'sabado']] = one_hot_encoder.fit_transform(data_model['d_semana'].values.reshape(-1,1))\r\n",
        "data_model['feriado'] = [1 if any((x[0] == d and x[1] == m) for (_, d, m) in feriados) else 0 for x in list(zip(data_model.d_mes, data_model.mes))]\r\n",
        "data_model['vespera_feriado'] = [1 if any((x[0] == d and x[1] == m) for (_, d, m) in vesperas) else 0 for x in list(zip(data_model.d_mes, data_model.mes))]\r\n",
        "\r\n",
        "top100_linhas = data_model.linha.value_counts().index[:100]\r\n",
        "top100_linhas_data_model = data_model[data_model.linha.isin(top100_linhas)].loc[data['mes'] != 1]\r\n",
        "\r\n",
        "line_data_model = data_model.loc[data['mes'] != 1].copy()"
      ],
      "outputs": [],
      "metadata": {
        "gather": {
          "logged": 1632360940056
        }
      }
    },
    {
      "cell_type": "code",
      "execution_count": 7,
      "source": [
        "top100_linhas_data_model.to_csv(\"./dados-para-modelos/top100_linhas_data_model.csv\", index=False)"
      ],
      "outputs": [],
      "metadata": {}
    },
    {
      "cell_type": "code",
      "execution_count": 8,
      "source": [
        "#display(X)"
      ],
      "outputs": [],
      "metadata": {
        "collapsed": true,
        "jupyter": {
          "source_hidden": false,
          "outputs_hidden": false
        },
        "nteract": {
          "transient": {
            "deleting": false
          }
        },
        "gather": {
          "logged": 1632360940459
        }
      }
    },
    {
      "cell_type": "code",
      "execution_count": 9,
      "source": [
        "#display(y)"
      ],
      "outputs": [],
      "metadata": {
        "collapsed": true,
        "jupyter": {
          "source_hidden": false,
          "outputs_hidden": false
        },
        "nteract": {
          "transient": {
            "deleting": false
          }
        },
        "gather": {
          "logged": 1632360940845
        }
      }
    },
    {
      "cell_type": "markdown",
      "source": [
        "---------------------------------------------------------------------------- Fim Setup ----------------------------------------------------------------------------  \r\n",
        "# Criacao dos Modelos"
      ],
      "metadata": {
        "nteract": {
          "transient": {
            "deleting": false
          }
        }
      }
    },
    {
      "cell_type": "code",
      "execution_count": 10,
      "source": [
        "model_list = []"
      ],
      "outputs": [],
      "metadata": {
        "collapsed": true,
        "jupyter": {
          "source_hidden": false,
          "outputs_hidden": false
        },
        "nteract": {
          "transient": {
            "deleting": false
          }
        },
        "gather": {
          "logged": 1632360941131
        }
      }
    },
    {
      "cell_type": "code",
      "execution_count": 11,
      "source": [
        "def get_performance(model):\r\n",
        "    y_test_predict = model.predict(X_test)\r\n",
        "    mse = mean_squared_error(Y_test, y_test_predict)\r\n",
        "    rmse = (np.sqrt(mse))\r\n",
        "    r2 = r2_score(Y_test, y_test_predict)\r\n",
        "    mae = mean_absolute_error(Y_test, y_test_predict)\r\n",
        "    mape = mean_absolute_percentage_error(Y_test, y_test_predict) * 100\r\n",
        "    performance_scoring = [\r\n",
        "        r2,\r\n",
        "        rmse,\r\n",
        "        mae,\r\n",
        "        mape\r\n",
        "    ]\r\n",
        "    #performance_scoring = pd.DataFrame(performance_scoring,columns=['Metrica', 'Score'])\r\n",
        "    #performance_scoring['Score'] = performance_scoring['Score'].astype('float64')\r\n",
        "    return performance_scoring"
      ],
      "outputs": [],
      "metadata": {
        "collapsed": true,
        "jupyter": {
          "source_hidden": false,
          "outputs_hidden": false
        },
        "nteract": {
          "transient": {
            "deleting": false
          }
        },
        "gather": {
          "logged": 1632360941444
        }
      }
    },
    {
      "cell_type": "markdown",
      "source": [
        "### Grid Search"
      ],
      "metadata": {
        "nteract": {
          "transient": {
            "deleting": false
          }
        }
      }
    },
    {
      "cell_type": "code",
      "execution_count": 12,
      "source": [
        "LinearRegressionModel = LinearRegression()\r\n",
        "RandomForestModel = RandomForestRegressor()"
      ],
      "outputs": [],
      "metadata": {
        "collapsed": true,
        "jupyter": {
          "source_hidden": false,
          "outputs_hidden": false
        },
        "nteract": {
          "transient": {
            "deleting": false
          }
        },
        "gather": {
          "logged": 1632360941799
        }
      }
    },
    {
      "cell_type": "markdown",
      "source": [
        "#### Linear Regression Model Parameters"
      ],
      "metadata": {
        "nteract": {
          "transient": {
            "deleting": false
          }
        }
      }
    },
    {
      "cell_type": "code",
      "execution_count": 13,
      "source": [
        "# print(\"Linear Regression  Params ----> \")\r\n",
        "# pprint(LinearRegressionModel.get_params())\r\n",
        "\r\n",
        "copy_X = [True, False]\r\n",
        "fit_intercept = [True, False]\r\n",
        "n_jobs = [2, 4, 6, 8]\r\n",
        "normalize = [True, False]\r\n",
        "\r\n",
        "# Create the random grid\r\n",
        "random_grid_linearregression = {'copy_X': copy_X, 'fit_intercept': fit_intercept, 'n_jobs': n_jobs, 'normalize': normalize}"
      ],
      "outputs": [],
      "metadata": {
        "collapsed": true,
        "jupyter": {
          "source_hidden": false,
          "outputs_hidden": false
        },
        "nteract": {
          "transient": {
            "deleting": false
          }
        },
        "gather": {
          "logged": 1632360942004
        }
      }
    },
    {
      "cell_type": "markdown",
      "source": [
        "#### Random Forest Model Parameters"
      ],
      "metadata": {
        "nteract": {
          "transient": {
            "deleting": false
          }
        }
      }
    },
    {
      "cell_type": "code",
      "execution_count": 14,
      "source": [
        "# print(\"Random Forest Model Params ----> \")\r\n",
        "# pprint(RandomForestModel.get_params())\r\n",
        "\r\n",
        "# Number of trees in random forest\r\n",
        "n_estimators = [int(x) for x in np.linspace(start = 20, stop = 1000, num = 10)]\r\n",
        "\r\n",
        "n_jobs = [2, 4, 6, 8]\r\n",
        "\r\n",
        "# Number of features to consider at every split\r\n",
        "max_features = ['auto', 'sqrt']\r\n",
        "\r\n",
        "# Maximum number of levels in tree\r\n",
        "max_depth = [int(x) for x in np.linspace(10, 110, num = 11)]\r\n",
        "max_depth.append(None)\r\n",
        "\r\n",
        "# Minimum number of samples required to split a node\r\n",
        "min_samples_split = [2, 5, 10]\r\n",
        "\r\n",
        "# Minimum number of samples required at each leaf node\r\n",
        "min_samples_leaf = [1, 2, 4]\r\n",
        "\r\n",
        "# Method of selecting samples for training each tree\r\n",
        "bootstrap = [True, False]\r\n",
        "\r\n",
        "# Create the random grid\r\n",
        "random_grid_randomforest = {'n_estimators': n_estimators,\r\n",
        "               'max_features': max_features,\r\n",
        "               'max_depth': max_depth,\r\n",
        "               'min_samples_split': min_samples_split,\r\n",
        "               'min_samples_leaf': min_samples_leaf,\r\n",
        "               'bootstrap': bootstrap,\r\n",
        "               'n_jobs': n_jobs}"
      ],
      "outputs": [],
      "metadata": {
        "collapsed": true,
        "jupyter": {
          "source_hidden": false,
          "outputs_hidden": false
        },
        "nteract": {
          "transient": {
            "deleting": false
          }
        },
        "gather": {
          "logged": 1632360942214
        }
      }
    },
    {
      "cell_type": "code",
      "execution_count": 15,
      "source": [
        "X = line_data_model.filter(feature_names, axis=1)\r\n",
        "y = line_data_model.validations_per_hour\r\n",
        "\r\n",
        "# Random search of parameters, using 3 fold cross validation, \r\n",
        "# search across 100 different combinations, and use all available cores\r\n",
        "LinearRegressionModel = LinearRegression()\r\n",
        "RandomForestModel = RandomForestRegressor()\r\n",
        "gridsearch_result_randomforest = RandomizedSearchCV(estimator = RandomForestModel, param_distributions = random_grid_randomforest, n_iter = 100, cv = 3, verbose=2, random_state=42, n_jobs = -1)\r\n",
        "gridsearch_result_linearregression = RandomizedSearchCV(estimator = LinearRegressionModel, param_distributions = random_grid_linearregression, n_iter = 100, cv = 3, verbose=2, random_state=42, n_jobs = -1)\r\n",
        "\r\n",
        "# Fit the random search model\r\n",
        "X_train, X_test, Y_train, Y_test = train_test_split(X, y, test_size = 0.2, random_state=5)\r\n",
        "\r\n",
        "gridsearch_result_randomforest.fit(X_train, Y_train)\r\n",
        "gridsearch_result_linearregression.fit(X_train, Y_train)\r\n",
        "\r\n",
        "print(\"Random Forest Best Parameters -----> \")\r\n",
        "pprint(gridsearch_result_randomforest.best_params_)\r\n",
        "\r\n",
        "print(\"Linear Regression Best Parameters -----> \")\r\n",
        "pprint(gridsearch_result_linearregression.best_params_)\r\n",
        "\r\n",
        "gridsearched_random_randomforest = gridsearch_result_randomforest.best_estimator_\r\n",
        "gridsearch_random_linearregression = gridsearch_result_linearregression.best_estimator_\r\n",
        "\r\n",
        "default_linearregression_model = LinearRegressionModel.fit(X_train, Y_train)\r\n",
        "default_randomforest_model = RandomForestModel.fit(X_train, Y_train)\r\n"
      ],
      "outputs": [
        {
          "output_type": "stream",
          "name": "stdout",
          "text": [
            "Fitting 3 folds for each of 100 candidates, totalling 300 fits\n"
          ]
        },
        {
          "output_type": "stream",
          "name": "stderr",
          "text": [
            "C:\\Users\\victo\\anaconda3\\envs\\ml\\lib\\site-packages\\joblib\\externals\\loky\\process_executor.py:688: UserWarning: A worker stopped while some jobs were given to the executor. This can be caused by a too short worker timeout or by a memory leak.\n",
            "  warnings.warn(\n"
          ]
        }
      ],
      "metadata": {
        "collapsed": true,
        "jupyter": {
          "source_hidden": false,
          "outputs_hidden": false
        },
        "nteract": {
          "transient": {
            "deleting": false
          }
        },
        "gather": {
          "logged": 1632361324253
        }
      }
    },
    {
      "cell_type": "code",
      "execution_count": null,
      "source": [
        "sample = X.sample(n=1)\r\n",
        "sample"
      ],
      "outputs": [
        {
          "output_type": "execute_result",
          "data": {
            "text/html": [
              "<div>\n",
              "<style scoped>\n",
              "    .dataframe tbody tr th:only-of-type {\n",
              "        vertical-align: middle;\n",
              "    }\n",
              "\n",
              "    .dataframe tbody tr th {\n",
              "        vertical-align: top;\n",
              "    }\n",
              "\n",
              "    .dataframe thead th {\n",
              "        text-align: right;\n",
              "    }\n",
              "</style>\n",
              "<table border=\"1\" class=\"dataframe\">\n",
              "  <thead>\n",
              "    <tr style=\"text-align: right;\">\n",
              "      <th></th>\n",
              "      <th>hour_sin</th>\n",
              "      <th>hour_cos</th>\n",
              "      <th>d_mes</th>\n",
              "      <th>d_ano</th>\n",
              "      <th>mes</th>\n",
              "      <th>semana_do_mes</th>\n",
              "      <th>domingo</th>\n",
              "      <th>segunda</th>\n",
              "      <th>terca</th>\n",
              "      <th>quarta</th>\n",
              "      <th>quinta</th>\n",
              "      <th>sexta</th>\n",
              "      <th>sabado</th>\n",
              "      <th>feriado</th>\n",
              "      <th>vespera_feriado</th>\n",
              "    </tr>\n",
              "  </thead>\n",
              "  <tbody>\n",
              "    <tr>\n",
              "      <th>654697</th>\n",
              "      <td>-0.519584</td>\n",
              "      <td>0.854419</td>\n",
              "      <td>31</td>\n",
              "      <td>91</td>\n",
              "      <td>3</td>\n",
              "      <td>6</td>\n",
              "      <td>0.0</td>\n",
              "      <td>1.0</td>\n",
              "      <td>0.0</td>\n",
              "      <td>0.0</td>\n",
              "      <td>0.0</td>\n",
              "      <td>0.0</td>\n",
              "      <td>0.0</td>\n",
              "      <td>0</td>\n",
              "      <td>0</td>\n",
              "    </tr>\n",
              "  </tbody>\n",
              "</table>\n",
              "</div>"
            ],
            "text/plain": [
              "        hour_sin  hour_cos  d_mes  d_ano  mes  semana_do_mes  domingo  \\\n",
              "654697 -0.519584  0.854419     31     91    3              6      0.0   \n",
              "\n",
              "        segunda  terca  quarta  quinta  sexta  sabado  feriado  \\\n",
              "654697      1.0    0.0     0.0     0.0    0.0     0.0        0   \n",
              "\n",
              "        vespera_feriado  \n",
              "654697                0  "
            ]
          },
          "metadata": {},
          "execution_count": 15
        }
      ],
      "metadata": {
        "collapsed": true,
        "jupyter": {
          "source_hidden": false,
          "outputs_hidden": false
        },
        "nteract": {
          "transient": {
            "deleting": false
          }
        },
        "gather": {
          "logged": 1632361324634
        }
      }
    },
    {
      "cell_type": "code",
      "execution_count": null,
      "source": [
        "print(\"###  1 Modelo Por Linha (dado completo de treino)\")\r\n",
        "\r\n",
        "performance_default_linearregression_model = get_performance(default_linearregression_model)\r\n",
        "performance_default_randomforest_model = get_performance(default_randomforest_model)\r\n",
        "performance_gridsearched_linearregression_model = get_performance(gridsearch_random_linearregression)\r\n",
        "performance_gridsearched_randomforest_model = get_performance(gridsearched_random_randomforest)\r\n",
        "\r\n",
        "print(\"\\n----------------------------------------------------\\n\")\r\n",
        "print('Regressao Linear [DEFAULT]: \\n', performance_default_linearregression_model)\r\n",
        "print(\"\\n----------------------------------------------------\\n\")\r\n",
        "print('Random Forest [DEFAULT]: \\n', performance_default_randomforest_model)\r\n",
        "print(\"\\n----------------------------------------------------\\n\")\r\n",
        "print('Regressao Linear [GRID SEARCH]: \\n', performance_gridsearched_linearregression_model)\r\n",
        "print(\"\\n----------------------------------------------------\\n\")\r\n",
        "print('Random Forest [GRID SEARCH]: \\n', performance_gridsearched_randomforest_model)\r\n",
        "print(\"\\n----------------------------------------------------\\n\")\r\n",
        "\r\n",
        "print(\"\\nUtilizando sample aleatorio de dado para teste de previsao: \")\r\n",
        "\r\n",
        "predict_res = default_linearregression_model.predict(sample)\r\n",
        "\r\n",
        "print(\"Regressao Linear -> resultado do predict de test: \", predict_res)\r\n",
        "\r\n",
        "predict_res2 = default_randomforest_model.predict(sample)\r\n",
        "print(\"Random Forest -> resultado do predict de test: \", predict_res2)\r\n",
        "\r\n",
        "random_res = gridsearch_random_linearregression.predict(sample)\r\n",
        "print(\"Regressao Linear Best Grid Searched -> resultado do predict de test: \", predict_res2)\r\n",
        "\r\n",
        "random_res = gridsearched_random_randomforest.predict(sample)\r\n",
        "print(\"Random Forest Best Grid Searched -> resultado do predict de test: \", predict_res2)\r\n",
        "\r\n",
        "display(data_model.loc[sample.index[0]:sample.index[0]])\r\n",
        "\r\n",
        "performance_total = [performance_default_linearregression_model,\r\n",
        "    performance_default_randomforest_model,\r\n",
        "    performance_gridsearched_linearregression_model,\r\n",
        "    performance_gridsearched_randomforest_model]\r\n",
        "\r\n",
        "performance_total = pd.DataFrame.from_records(performance_total, columns=['R2', 'RMSE', 'MAE', 'MAPE'], \r\n",
        "    index=['LinearReg Default', 'RandomForest Default', 'LinearReg GridSearched', 'RandomForest GridSearched'])\r\n",
        "performance_total"
      ],
      "outputs": [
        {
          "output_type": "stream",
          "name": "stdout",
          "text": [
            "###  1 Modelo Por Linha (dado completo de treino)\n",
            "\n",
            "----------------------------------------------------\n",
            "\n",
            "Regressao Linear [DEFAULT]: \n",
            " [0.28273266440762923, 13.910908256525596, 9.092768259633653, 6651389874042578.0]\n",
            "\n",
            "----------------------------------------------------\n",
            "\n",
            "Random Forest [DEFAULT]: \n",
            " [0.8393815582121223, 6.58283036638177, 3.772110111025542, 1451261207550142.0]\n",
            "\n",
            "----------------------------------------------------\n",
            "\n",
            "Regressao Linear [GRID SEARCH]: \n",
            " [0.28273266440762934, 13.910908256525593, 9.092768259633763, 6651389874043057.0]\n",
            "\n",
            "----------------------------------------------------\n",
            "\n",
            "Random Forest [GRID SEARCH]: \n",
            " [0.8438291060305041, 6.491050797696332, 3.7268346343918455, 1481419379877218.5]\n",
            "\n",
            "----------------------------------------------------\n",
            "\n",
            "\n",
            "Utilizando sample aleatorio de dado para teste de previsao: \n",
            "Regressao Linear -> resultado do predict de test:  [-0.33368955]\n",
            "Random Forest -> resultado do predict de test:  [1.18]\n",
            "Regressao Linear Best Grid Searched -> resultado do predict de test:  [1.18]\n",
            "Random Forest Best Grid Searched -> resultado do predict de test:  [1.18]\n"
          ]
        },
        {
          "output_type": "display_data",
          "data": {
            "text/html": [
              "<div>\n",
              "<style scoped>\n",
              "    .dataframe tbody tr th:only-of-type {\n",
              "        vertical-align: middle;\n",
              "    }\n",
              "\n",
              "    .dataframe tbody tr th {\n",
              "        vertical-align: top;\n",
              "    }\n",
              "\n",
              "    .dataframe thead th {\n",
              "        text-align: right;\n",
              "    }\n",
              "</style>\n",
              "<table border=\"1\" class=\"dataframe\">\n",
              "  <thead>\n",
              "    <tr style=\"text-align: right;\">\n",
              "      <th></th>\n",
              "      <th>linha</th>\n",
              "      <th>data_hora</th>\n",
              "      <th>validations_per_hour</th>\n",
              "      <th>d_semana</th>\n",
              "      <th>hour_sin</th>\n",
              "      <th>hour_cos</th>\n",
              "      <th>hora</th>\n",
              "      <th>d_mes</th>\n",
              "      <th>d_ano</th>\n",
              "      <th>mes</th>\n",
              "      <th>semana_do_mes</th>\n",
              "      <th>domingo</th>\n",
              "      <th>segunda</th>\n",
              "      <th>terca</th>\n",
              "      <th>quarta</th>\n",
              "      <th>quinta</th>\n",
              "      <th>sexta</th>\n",
              "      <th>sabado</th>\n",
              "      <th>feriado</th>\n",
              "      <th>vespera_feriado</th>\n",
              "    </tr>\n",
              "  </thead>\n",
              "  <tbody>\n",
              "    <tr>\n",
              "      <th>654697</th>\n",
              "      <td>325</td>\n",
              "      <td>2020-03-31 21:00:00</td>\n",
              "      <td>0</td>\n",
              "      <td>1</td>\n",
              "      <td>-0.519584</td>\n",
              "      <td>0.854419</td>\n",
              "      <td>21</td>\n",
              "      <td>31</td>\n",
              "      <td>91</td>\n",
              "      <td>3</td>\n",
              "      <td>6</td>\n",
              "      <td>0.0</td>\n",
              "      <td>1.0</td>\n",
              "      <td>0.0</td>\n",
              "      <td>0.0</td>\n",
              "      <td>0.0</td>\n",
              "      <td>0.0</td>\n",
              "      <td>0.0</td>\n",
              "      <td>0</td>\n",
              "      <td>0</td>\n",
              "    </tr>\n",
              "  </tbody>\n",
              "</table>\n",
              "</div>"
            ],
            "text/plain": [
              "        linha            data_hora  validations_per_hour  d_semana  hour_sin  \\\n",
              "654697    325  2020-03-31 21:00:00                     0         1 -0.519584   \n",
              "\n",
              "        hour_cos  hora  d_mes  d_ano  mes  semana_do_mes  domingo  segunda  \\\n",
              "654697  0.854419    21     31     91    3              6      0.0      1.0   \n",
              "\n",
              "        terca  quarta  quinta  sexta  sabado  feriado  vespera_feriado  \n",
              "654697    0.0     0.0     0.0    0.0     0.0        0                0  "
            ]
          },
          "metadata": {}
        },
        {
          "output_type": "stream",
          "name": "stdout",
          "text": [
            "LINHA UTILIZADA PARA OS TESTES:  325\n"
          ]
        },
        {
          "output_type": "execute_result",
          "data": {
            "text/html": [
              "<div>\n",
              "<style scoped>\n",
              "    .dataframe tbody tr th:only-of-type {\n",
              "        vertical-align: middle;\n",
              "    }\n",
              "\n",
              "    .dataframe tbody tr th {\n",
              "        vertical-align: top;\n",
              "    }\n",
              "\n",
              "    .dataframe thead th {\n",
              "        text-align: right;\n",
              "    }\n",
              "</style>\n",
              "<table border=\"1\" class=\"dataframe\">\n",
              "  <thead>\n",
              "    <tr style=\"text-align: right;\">\n",
              "      <th></th>\n",
              "      <th>R2</th>\n",
              "      <th>RMSE</th>\n",
              "      <th>MAE</th>\n",
              "      <th>MAPE</th>\n",
              "    </tr>\n",
              "  </thead>\n",
              "  <tbody>\n",
              "    <tr>\n",
              "      <th>LinearReg Default</th>\n",
              "      <td>0.282733</td>\n",
              "      <td>13.910908</td>\n",
              "      <td>9.092768</td>\n",
              "      <td>6.651390e+15</td>\n",
              "    </tr>\n",
              "    <tr>\n",
              "      <th>RandomForest Default</th>\n",
              "      <td>0.839382</td>\n",
              "      <td>6.582830</td>\n",
              "      <td>3.772110</td>\n",
              "      <td>1.451261e+15</td>\n",
              "    </tr>\n",
              "    <tr>\n",
              "      <th>LinearReg GridSearched</th>\n",
              "      <td>0.282733</td>\n",
              "      <td>13.910908</td>\n",
              "      <td>9.092768</td>\n",
              "      <td>6.651390e+15</td>\n",
              "    </tr>\n",
              "    <tr>\n",
              "      <th>RandomForest GridSearched</th>\n",
              "      <td>0.843829</td>\n",
              "      <td>6.491051</td>\n",
              "      <td>3.726835</td>\n",
              "      <td>1.481419e+15</td>\n",
              "    </tr>\n",
              "  </tbody>\n",
              "</table>\n",
              "</div>"
            ],
            "text/plain": [
              "                                 R2       RMSE       MAE          MAPE\n",
              "LinearReg Default          0.282733  13.910908  9.092768  6.651390e+15\n",
              "RandomForest Default       0.839382   6.582830  3.772110  1.451261e+15\n",
              "LinearReg GridSearched     0.282733  13.910908  9.092768  6.651390e+15\n",
              "RandomForest GridSearched  0.843829   6.491051  3.726835  1.481419e+15"
            ]
          },
          "metadata": {},
          "execution_count": 18
        }
      ],
      "metadata": {
        "gather": {
          "logged": 1632361324961
        }
      }
    },
    {
      "cell_type": "markdown",
      "source": [
        "## BAGGING"
      ],
      "metadata": {
        "nteract": {
          "transient": {
            "deleting": false
          }
        }
      }
    },
    {
      "cell_type": "code",
      "execution_count": null,
      "source": [
        "#X_train, X_test, Y_train, Y_test = train_test_split(X, y, test_size = 0.2, random_state=5)\r\n",
        "warnings.filterwarnings(\"ignore\") # To ignore warnings\r\n",
        "n_jobs = -1 # This parameter conrols the parallel processing. -1 means using all processors.\r\n",
        "random_state = 42 # This parameter controls the randomness of the data. Using some int value to get same results everytime this code is run\r\n",
        "models_scores = [] # To store model scores               \r\n",
        "\r\n",
        "def bagging_model(estimator):\r\n",
        "    \"\"\"\r\n",
        "    I/P\r\n",
        "    estimator: The base estimator from which the ensemble is grown.\r\n",
        "    O/P\r\n",
        "    br_y_pred: Predictions on test data for the base estimator.\r\n",
        "    \r\n",
        "    \"\"\"\r\n",
        "    regr = BaggingRegressor(base_estimator=estimator,\r\n",
        "                            n_estimators=10,\r\n",
        "                            max_samples=1.0,\r\n",
        "                            bootstrap=True, # Samples are drawn with replacement\r\n",
        "                            n_jobs= n_jobs,\r\n",
        "                            random_state=random_state).fit(X_train, Y_train)\r\n",
        "\r\n",
        "    br_y_pred = regr.predict(X_test)\r\n",
        "\r\n",
        "    performance = get_performance(regr)\r\n",
        "    \r\n",
        "    print(f'Performance for base estimator {regr.base_estimator_} = {performance}\\n')\r\n",
        "\r\n",
        "    return regr, performance\r\n",
        "\r\n",
        "LinearRegressionModelPipeline = make_pipeline(LinearRegression())\r\n",
        "RandomForestModelPipeline = make_pipeline(RandomForestRegressor())\r\n",
        "\r\n",
        "bagging_lr_model, performance_bagging_lr_model = bagging_model(LinearRegressionModelPipeline)\r\n",
        "bagging_rf_model, performance_bagging_rf_model = bagging_model(RandomForestModelPipeline)\r\n",
        "\r\n",
        "df2 = pd.DataFrame([performance_bagging_lr_model, performance_bagging_rf_model], columns=['R2','RMSE','MAE', 'MAPE'], \r\n",
        "    index=['LinearRegression Bagging', 'RandomForest Bagging'])\r\n",
        "performance_total = pd.concat([df2, performance_total])\r\n"
      ],
      "outputs": [
        {
          "output_type": "stream",
          "name": "stdout",
          "text": [
            "Performance for base estimator Pipeline(steps=[('linearregression', LinearRegression())]) = [0.2816338060093573, 13.921559981118556, 9.141566316192247, 6709371162030357.0]\n",
            "\n",
            "Performance for base estimator Pipeline(steps=[('randomforestregressor', RandomForestRegressor())]) = [0.8440012163730188, 6.487473034524317, 3.730506660900495, 1580768646381240.5]\n",
            "\n"
          ]
        }
      ],
      "metadata": {
        "collapsed": true,
        "jupyter": {
          "source_hidden": false,
          "outputs_hidden": false
        },
        "nteract": {
          "transient": {
            "deleting": false
          }
        },
        "gather": {
          "logged": 1632361332525
        }
      }
    },
    {
      "cell_type": "markdown",
      "source": [
        "# STACKING"
      ],
      "metadata": {
        "nteract": {
          "transient": {
            "deleting": false
          }
        }
      }
    },
    {
      "cell_type": "code",
      "execution_count": null,
      "source": [
        "\r\n",
        "estimators = [ ('random_forest', RandomForestModelPipeline), ('linear_reg', LinearRegressionModelPipeline)]\r\n",
        "\r\n",
        "stack = StackingRegressor(estimators=estimators, final_estimator= RandomForestModelPipeline, cv= 5, n_jobs= n_jobs, passthrough = True)\r\n",
        "\r\n",
        "stack.fit(X_train, Y_train)\r\n",
        "\r\n",
        "performance = get_performance(stack)\r\n",
        "\r\n",
        "df2 = pd.DataFrame([performance], columns=['R2','RMSE','MAE', 'MAPE'], \r\n",
        "    index=['Stacking Regressors'])\r\n",
        "\r\n",
        "performance_total = pd.concat([df2, performance_total])\r\n"
      ],
      "outputs": [],
      "metadata": {
        "collapsed": true,
        "jupyter": {
          "source_hidden": false,
          "outputs_hidden": false
        },
        "nteract": {
          "transient": {
            "deleting": false
          }
        },
        "gather": {
          "logged": 1632361341280
        }
      }
    },
    {
      "cell_type": "markdown",
      "source": [
        "# BOOSTING"
      ],
      "metadata": {
        "nteract": {
          "transient": {
            "deleting": false
          }
        }
      }
    },
    {
      "cell_type": "code",
      "execution_count": null,
      "source": [
        "gradient_boosting_regressor= GradientBoostingRegressor(n_estimators=3000, learning_rate=0.05,\r\n",
        "                                   max_depth=4, max_features='sqrt',\r\n",
        "                                   min_samples_leaf=15, min_samples_split=10, \r\n",
        "                                   loss='huber', random_state = random_state)\r\n",
        "\r\n",
        "gradient_boosting_regressor.fit(X_train, Y_train)\r\n",
        "\r\n",
        "performance = get_performance(gradient_boosting_regressor)\r\n",
        "\r\n",
        "df2 = pd.DataFrame([performance], columns=['R2','RMSE','MAE', 'MAPE'], \r\n",
        "    index=['GradientBoostingRegressor'])\r\n",
        "\r\n",
        "performance_total = pd.concat([df2, performance_total])\r\n"
      ],
      "outputs": [],
      "metadata": {
        "collapsed": true,
        "jupyter": {
          "source_hidden": false,
          "outputs_hidden": false
        },
        "nteract": {
          "transient": {
            "deleting": false
          }
        },
        "gather": {
          "logged": 1632361361458
        }
      }
    },
    {
      "cell_type": "code",
      "execution_count": null,
      "source": [
        "performance_total.to_csv('./performances/modelo-todasaslinhas/performance_total.csv', index=False)"
      ],
      "outputs": [],
      "metadata": {
        "collapsed": true,
        "jupyter": {
          "source_hidden": false,
          "outputs_hidden": false
        },
        "nteract": {
          "transient": {
            "deleting": false
          }
        },
        "gather": {
          "logged": 1632369757434
        }
      }
    },
    {
      "cell_type": "code",
      "execution_count": null,
      "source": [
        "performance_total.sort_values('MAE', ascending=True)"
      ],
      "outputs": [
        {
          "output_type": "execute_result",
          "data": {
            "text/html": [
              "<div>\n",
              "<style scoped>\n",
              "    .dataframe tbody tr th:only-of-type {\n",
              "        vertical-align: middle;\n",
              "    }\n",
              "\n",
              "    .dataframe tbody tr th {\n",
              "        vertical-align: top;\n",
              "    }\n",
              "\n",
              "    .dataframe thead th {\n",
              "        text-align: right;\n",
              "    }\n",
              "</style>\n",
              "<table border=\"1\" class=\"dataframe\">\n",
              "  <thead>\n",
              "    <tr style=\"text-align: right;\">\n",
              "      <th></th>\n",
              "      <th>R2</th>\n",
              "      <th>RMSE</th>\n",
              "      <th>MAE</th>\n",
              "      <th>MAPE</th>\n",
              "    </tr>\n",
              "  </thead>\n",
              "  <tbody>\n",
              "    <tr>\n",
              "      <th>Stacking Regressors</th>\n",
              "      <td>0.845052</td>\n",
              "      <td>6.465589</td>\n",
              "      <td>3.720887</td>\n",
              "      <td>1.260921e+15</td>\n",
              "    </tr>\n",
              "    <tr>\n",
              "      <th>RandomForest GridSearched</th>\n",
              "      <td>0.843829</td>\n",
              "      <td>6.491051</td>\n",
              "      <td>3.726835</td>\n",
              "      <td>1.481419e+15</td>\n",
              "    </tr>\n",
              "    <tr>\n",
              "      <th>RandomForest Bagging</th>\n",
              "      <td>0.844001</td>\n",
              "      <td>6.487473</td>\n",
              "      <td>3.730507</td>\n",
              "      <td>1.580769e+15</td>\n",
              "    </tr>\n",
              "    <tr>\n",
              "      <th>RandomForest Default</th>\n",
              "      <td>0.839382</td>\n",
              "      <td>6.582830</td>\n",
              "      <td>3.772110</td>\n",
              "      <td>1.451261e+15</td>\n",
              "    </tr>\n",
              "    <tr>\n",
              "      <th>GradientBoostingRegressor</th>\n",
              "      <td>0.853538</td>\n",
              "      <td>6.286042</td>\n",
              "      <td>4.010444</td>\n",
              "      <td>2.092254e+15</td>\n",
              "    </tr>\n",
              "    <tr>\n",
              "      <th>LinearReg Default</th>\n",
              "      <td>0.282733</td>\n",
              "      <td>13.910908</td>\n",
              "      <td>9.092768</td>\n",
              "      <td>6.651390e+15</td>\n",
              "    </tr>\n",
              "    <tr>\n",
              "      <th>LinearReg GridSearched</th>\n",
              "      <td>0.282733</td>\n",
              "      <td>13.910908</td>\n",
              "      <td>9.092768</td>\n",
              "      <td>6.651390e+15</td>\n",
              "    </tr>\n",
              "    <tr>\n",
              "      <th>LinearRegression Bagging</th>\n",
              "      <td>0.281634</td>\n",
              "      <td>13.921560</td>\n",
              "      <td>9.141566</td>\n",
              "      <td>6.709371e+15</td>\n",
              "    </tr>\n",
              "  </tbody>\n",
              "</table>\n",
              "</div>"
            ],
            "text/plain": [
              "                                 R2       RMSE       MAE          MAPE\n",
              "Stacking Regressors        0.845052   6.465589  3.720887  1.260921e+15\n",
              "RandomForest GridSearched  0.843829   6.491051  3.726835  1.481419e+15\n",
              "RandomForest Bagging       0.844001   6.487473  3.730507  1.580769e+15\n",
              "RandomForest Default       0.839382   6.582830  3.772110  1.451261e+15\n",
              "GradientBoostingRegressor  0.853538   6.286042  4.010444  2.092254e+15\n",
              "LinearReg Default          0.282733  13.910908  9.092768  6.651390e+15\n",
              "LinearReg GridSearched     0.282733  13.910908  9.092768  6.651390e+15\n",
              "LinearRegression Bagging   0.281634  13.921560  9.141566  6.709371e+15"
            ]
          },
          "metadata": {},
          "execution_count": 25
        }
      ],
      "metadata": {}
    },
    {
      "cell_type": "markdown",
      "source": [
        "### Todos os modelos treinados dentro de *model_list*"
      ],
      "metadata": {
        "nteract": {
          "transient": {
            "deleting": false
          }
        }
      }
    },
    {
      "cell_type": "code",
      "execution_count": 26,
      "source": [
        "model_list = [\r\n",
        "    stack,\r\n",
        "    gradient_boosting_regressor,\r\n",
        "    bagging_rf_model,\r\n",
        "    default_randomforest_model,\r\n",
        "    #default_linearregression_model,\r\n",
        "    #gridsearch_result_linearregression,\r\n",
        "    #gridsearch_result_randomforest,\r\n",
        "    #bagging_lr_model,\r\n",
        "]"
      ],
      "outputs": [],
      "metadata": {
        "collapsed": true,
        "jupyter": {
          "source_hidden": false,
          "outputs_hidden": false
        },
        "nteract": {
          "transient": {
            "deleting": false
          }
        },
        "gather": {
          "logged": 1632363793252
        }
      }
    },
    {
      "cell_type": "markdown",
      "source": [
        "## Treinar com 1 mes, prever N semanas"
      ],
      "metadata": {
        "nteract": {
          "transient": {
            "deleting": false
          }
        }
      }
    },
    {
      "cell_type": "code",
      "execution_count": 27,
      "source": [
        "# Jan, Fev, Mar, Abril, Maio\r\n",
        "# treina com mar, preve 2 semanas de abril\r\n",
        "\r\n",
        "mes_de_treino = 6\r\n",
        "mes_de_previsao = 4\r\n",
        "\r\n",
        "line_mes_data_model = line_data_model[line_data_model.mes == mes_de_treino]\r\n",
        "\r\n",
        "line_mes_data_model_predict = line_data_model[line_data_model.mes == mes_de_previsao]\r\n",
        "\r\n",
        "df_prev = line_mes_data_model_predict[line_mes_data_model_predict.semana_do_mes <=  2].filter(feature_names, axis = 1)\r\n",
        "real_values = pd.DataFrame(line_mes_data_model_predict[line_mes_data_model_predict.semana_do_mes <=  2].validations_per_hour)\r\n",
        "\r\n",
        "X = line_mes_data_model.filter(feature_names, axis=1)\r\n",
        "y = line_mes_data_model.validations_per_hour\r\n",
        "X_train, X_test, Y_train, Y_test = train_test_split(X, y, test_size = 0.2, random_state=5)\r\n",
        "\r\n",
        "predictions = [[],[],[],[]]\r\n",
        "performances = list()\r\n",
        "df_prev\r\n",
        "for i, model in enumerate(model_list):\r\n",
        "        model.fit(X_train, Y_train)\r\n",
        "        performances.append(get_performance(model))\r\n",
        "\r\n",
        "        for index, row in df_prev.iterrows():\r\n",
        "            predictions[i].append(model.predict([row])[0])\r\n",
        "\r\n",
        "df_performance = pd.DataFrame(performances)\r\n",
        "df_performance.to_csv('./performances/modelo-todasaslinhas/linha'+str(busline_filter)+'_1mes('+str(mes_de_treino)+')_2semanas('+str(mes_de_previsao)+')_performance.csv', index=False)\r\n",
        "df_predict_dados = real_values\r\n",
        "df_predict_dados['validations_per_hour_predicted'] = predictions[0]\r\n",
        "df_predict_dados.to_csv('./predict-vs-real/modelo-todasaslinhas/linha'+str(busline_filter)+'_1mes('+str(mes_de_treino)+')_2semanas('+str(mes_de_previsao)+')_predict.csv', index=False)"
      ],
      "outputs": [],
      "metadata": {
        "jupyter": {
          "source_hidden": false,
          "outputs_hidden": false
        },
        "nteract": {
          "transient": {
            "deleting": false
          }
        },
        "gather": {
          "logged": 1632364536684
        }
      }
    },
    {
      "cell_type": "markdown",
      "source": [
        "### Treinar com (N-Y) meses, Prever mes (N)"
      ],
      "metadata": {
        "nteract": {
          "transient": {
            "deleting": false
          }
        }
      }
    },
    {
      "cell_type": "code",
      "execution_count": 28,
      "source": [
        "#X_train, Y_train\r\n",
        "#X_test, Y_test\r\n",
        "#X_train, X_test, Y_train, Y_test = train_test_split(X, y, test_size = 0.2, random_state=5)\r\n",
        "# X = line_data_model.filter(feature_names, axis=1)\r\n",
        "# y = line_data_model.validations_per_hour\r\n",
        "\r\n",
        "#quantos meses (comecando do final do dado) vou prever\r\n",
        "\r\n",
        "# model_list = [\r\n",
        "#     default_linearregression_model,\r\n",
        "#     default_randomforest_model,\r\n",
        "#     gridsearch_result_linearregression,\r\n",
        "#     gridsearch_result_randomforest,\r\n",
        "#     bagging_lr_model,\r\n",
        "#     bagging_rf_model,\r\n",
        "#     stack,\r\n",
        "#     gradient_boosting_regressor\r\n",
        "# ]\r\n",
        "\r\n",
        "for hzp in range(4, 8):\r\n",
        "    horizonte_de_previsao = hzp\r\n",
        "    meses = line_data_model.mes.sort_values().unique()\r\n",
        "    horizonte_de_treinamento = meses[:meses.size - horizonte_de_previsao]\r\n",
        "    meses_de_previsao = meses[meses.size - horizonte_de_previsao:]\r\n",
        "\r\n",
        "    predictions = [[],[],[],[],[],[],[],[]]\r\n",
        "    performances = [[],[],[],[],[],[],[],[]]\r\n",
        "\r\n",
        "    df_treinamento = line_data_model[line_data_model.mes.isin(horizonte_de_treinamento)].copy()\r\n",
        "    df_previsao = line_data_model[line_data_model.mes.isin(meses_de_previsao)].copy()\r\n",
        "    df_prev = df_previsao.filter(feature_names, axis = 1)\r\n",
        "    df_results = df_previsao.filter('validations_per_hour', axis = 1)\r\n",
        "\r\n",
        "    print(df_results.__len__())\r\n",
        "\r\n",
        "    X = df_treinamento.filter(feature_names, axis=1)\r\n",
        "    y = df_treinamento.validations_per_hour\r\n",
        "    X_train, X_test, Y_train, Y_test = train_test_split(X, y, test_size = 0.2, random_state=5)\r\n",
        "\r\n",
        "    for i, model in enumerate(model_list):\r\n",
        "        model.fit(X_train, Y_train)\r\n",
        "        performances[i].append(get_performance(model))\r\n",
        "\r\n",
        "        for index, row in df_prev.iterrows():\r\n",
        "            predictions[i].append(model.predict([row])[0])\r\n",
        "    \r\n",
        "    df_results = df_previsao.validations_per_hour\r\n",
        "\r\n",
        "    df_performance = pd.DataFrame(performances)\r\n",
        "    df_performance.to_csv('./performances/modelo-todasaslinhas/performance_'+str(hzp)+'_meses.csv', index=False)\r\n",
        "\r\n",
        "    plt_size = hzp * 360\r\n",
        "\r\n",
        "    plt.figure(figsize=(30, 10))\r\n",
        "    plt.plot(range(len(df_results) - plt_size), df_results[plt_size:], color='blue')\r\n",
        "    plt.plot(range(len(predictions[0]) - plt_size ), predictions[2][plt_size:], color='red')\r\n",
        "    plt.xlabel('True Values')\r\n",
        "    plt.ylabel('Predictions')\r\n",
        "    plt.show()\r\n",
        "\r\n",
        "#print(predictions[0])\r\n"
      ],
      "outputs": [
        {
          "output_type": "stream",
          "name": "stdout",
          "text": [
            "2967\n"
          ]
        },
        {
          "output_type": "error",
          "ename": "KeyboardInterrupt",
          "evalue": "",
          "traceback": [
            "\u001b[1;31m---------------------------------------------------------------------------\u001b[0m",
            "\u001b[1;31mKeyboardInterrupt\u001b[0m                         Traceback (most recent call last)",
            "\u001b[1;32m<ipython-input-28-87a2d59eb1a2>\u001b[0m in \u001b[0;36m<module>\u001b[1;34m\u001b[0m\n\u001b[0;32m     43\u001b[0m \u001b[1;33m\u001b[0m\u001b[0m\n\u001b[0;32m     44\u001b[0m         \u001b[1;32mfor\u001b[0m \u001b[0mindex\u001b[0m\u001b[1;33m,\u001b[0m \u001b[0mrow\u001b[0m \u001b[1;32min\u001b[0m \u001b[0mdf_prev\u001b[0m\u001b[1;33m.\u001b[0m\u001b[0miterrows\u001b[0m\u001b[1;33m(\u001b[0m\u001b[1;33m)\u001b[0m\u001b[1;33m:\u001b[0m\u001b[1;33m\u001b[0m\u001b[1;33m\u001b[0m\u001b[0m\n\u001b[1;32m---> 45\u001b[1;33m             \u001b[0mpredictions\u001b[0m\u001b[1;33m[\u001b[0m\u001b[0mi\u001b[0m\u001b[1;33m]\u001b[0m\u001b[1;33m.\u001b[0m\u001b[0mappend\u001b[0m\u001b[1;33m(\u001b[0m\u001b[0mmodel\u001b[0m\u001b[1;33m.\u001b[0m\u001b[0mpredict\u001b[0m\u001b[1;33m(\u001b[0m\u001b[1;33m[\u001b[0m\u001b[0mrow\u001b[0m\u001b[1;33m]\u001b[0m\u001b[1;33m)\u001b[0m\u001b[1;33m[\u001b[0m\u001b[1;36m0\u001b[0m\u001b[1;33m]\u001b[0m\u001b[1;33m)\u001b[0m\u001b[1;33m\u001b[0m\u001b[1;33m\u001b[0m\u001b[0m\n\u001b[0m\u001b[0;32m     46\u001b[0m \u001b[1;33m\u001b[0m\u001b[0m\n\u001b[0;32m     47\u001b[0m     \u001b[0mdf_results\u001b[0m \u001b[1;33m=\u001b[0m \u001b[0mdf_previsao\u001b[0m\u001b[1;33m.\u001b[0m\u001b[0mvalidations_per_hour\u001b[0m\u001b[1;33m\u001b[0m\u001b[1;33m\u001b[0m\u001b[0m\n",
            "\u001b[1;32m~\\anaconda3\\envs\\ml\\lib\\site-packages\\sklearn\\ensemble\\_bagging.py\u001b[0m in \u001b[0;36mpredict\u001b[1;34m(self, X)\u001b[0m\n\u001b[0;32m   1034\u001b[0m                                                              self.n_jobs)\n\u001b[0;32m   1035\u001b[0m \u001b[1;33m\u001b[0m\u001b[0m\n\u001b[1;32m-> 1036\u001b[1;33m         all_y_hat = Parallel(n_jobs=n_jobs, verbose=self.verbose)(\n\u001b[0m\u001b[0;32m   1037\u001b[0m             delayed(_parallel_predict_regression)(\n\u001b[0;32m   1038\u001b[0m                 \u001b[0mself\u001b[0m\u001b[1;33m.\u001b[0m\u001b[0mestimators_\u001b[0m\u001b[1;33m[\u001b[0m\u001b[0mstarts\u001b[0m\u001b[1;33m[\u001b[0m\u001b[0mi\u001b[0m\u001b[1;33m]\u001b[0m\u001b[1;33m:\u001b[0m\u001b[0mstarts\u001b[0m\u001b[1;33m[\u001b[0m\u001b[0mi\u001b[0m \u001b[1;33m+\u001b[0m \u001b[1;36m1\u001b[0m\u001b[1;33m]\u001b[0m\u001b[1;33m]\u001b[0m\u001b[1;33m,\u001b[0m\u001b[1;33m\u001b[0m\u001b[1;33m\u001b[0m\u001b[0m\n",
            "\u001b[1;32m~\\anaconda3\\envs\\ml\\lib\\site-packages\\joblib\\parallel.py\u001b[0m in \u001b[0;36m__call__\u001b[1;34m(self, iterable)\u001b[0m\n\u001b[0;32m   1052\u001b[0m \u001b[1;33m\u001b[0m\u001b[0m\n\u001b[0;32m   1053\u001b[0m             \u001b[1;32mwith\u001b[0m \u001b[0mself\u001b[0m\u001b[1;33m.\u001b[0m\u001b[0m_backend\u001b[0m\u001b[1;33m.\u001b[0m\u001b[0mretrieval_context\u001b[0m\u001b[1;33m(\u001b[0m\u001b[1;33m)\u001b[0m\u001b[1;33m:\u001b[0m\u001b[1;33m\u001b[0m\u001b[1;33m\u001b[0m\u001b[0m\n\u001b[1;32m-> 1054\u001b[1;33m                 \u001b[0mself\u001b[0m\u001b[1;33m.\u001b[0m\u001b[0mretrieve\u001b[0m\u001b[1;33m(\u001b[0m\u001b[1;33m)\u001b[0m\u001b[1;33m\u001b[0m\u001b[1;33m\u001b[0m\u001b[0m\n\u001b[0m\u001b[0;32m   1055\u001b[0m             \u001b[1;31m# Make sure that we get a last message telling us we are done\u001b[0m\u001b[1;33m\u001b[0m\u001b[1;33m\u001b[0m\u001b[1;33m\u001b[0m\u001b[0m\n\u001b[0;32m   1056\u001b[0m             \u001b[0melapsed_time\u001b[0m \u001b[1;33m=\u001b[0m \u001b[0mtime\u001b[0m\u001b[1;33m.\u001b[0m\u001b[0mtime\u001b[0m\u001b[1;33m(\u001b[0m\u001b[1;33m)\u001b[0m \u001b[1;33m-\u001b[0m \u001b[0mself\u001b[0m\u001b[1;33m.\u001b[0m\u001b[0m_start_time\u001b[0m\u001b[1;33m\u001b[0m\u001b[1;33m\u001b[0m\u001b[0m\n",
            "\u001b[1;32m~\\anaconda3\\envs\\ml\\lib\\site-packages\\joblib\\parallel.py\u001b[0m in \u001b[0;36mretrieve\u001b[1;34m(self)\u001b[0m\n\u001b[0;32m    931\u001b[0m             \u001b[1;32mtry\u001b[0m\u001b[1;33m:\u001b[0m\u001b[1;33m\u001b[0m\u001b[1;33m\u001b[0m\u001b[0m\n\u001b[0;32m    932\u001b[0m                 \u001b[1;32mif\u001b[0m \u001b[0mgetattr\u001b[0m\u001b[1;33m(\u001b[0m\u001b[0mself\u001b[0m\u001b[1;33m.\u001b[0m\u001b[0m_backend\u001b[0m\u001b[1;33m,\u001b[0m \u001b[1;34m'supports_timeout'\u001b[0m\u001b[1;33m,\u001b[0m \u001b[1;32mFalse\u001b[0m\u001b[1;33m)\u001b[0m\u001b[1;33m:\u001b[0m\u001b[1;33m\u001b[0m\u001b[1;33m\u001b[0m\u001b[0m\n\u001b[1;32m--> 933\u001b[1;33m                     \u001b[0mself\u001b[0m\u001b[1;33m.\u001b[0m\u001b[0m_output\u001b[0m\u001b[1;33m.\u001b[0m\u001b[0mextend\u001b[0m\u001b[1;33m(\u001b[0m\u001b[0mjob\u001b[0m\u001b[1;33m.\u001b[0m\u001b[0mget\u001b[0m\u001b[1;33m(\u001b[0m\u001b[0mtimeout\u001b[0m\u001b[1;33m=\u001b[0m\u001b[0mself\u001b[0m\u001b[1;33m.\u001b[0m\u001b[0mtimeout\u001b[0m\u001b[1;33m)\u001b[0m\u001b[1;33m)\u001b[0m\u001b[1;33m\u001b[0m\u001b[1;33m\u001b[0m\u001b[0m\n\u001b[0m\u001b[0;32m    934\u001b[0m                 \u001b[1;32melse\u001b[0m\u001b[1;33m:\u001b[0m\u001b[1;33m\u001b[0m\u001b[1;33m\u001b[0m\u001b[0m\n\u001b[0;32m    935\u001b[0m                     \u001b[0mself\u001b[0m\u001b[1;33m.\u001b[0m\u001b[0m_output\u001b[0m\u001b[1;33m.\u001b[0m\u001b[0mextend\u001b[0m\u001b[1;33m(\u001b[0m\u001b[0mjob\u001b[0m\u001b[1;33m.\u001b[0m\u001b[0mget\u001b[0m\u001b[1;33m(\u001b[0m\u001b[1;33m)\u001b[0m\u001b[1;33m)\u001b[0m\u001b[1;33m\u001b[0m\u001b[1;33m\u001b[0m\u001b[0m\n",
            "\u001b[1;32m~\\anaconda3\\envs\\ml\\lib\\site-packages\\joblib\\_parallel_backends.py\u001b[0m in \u001b[0;36mwrap_future_result\u001b[1;34m(future, timeout)\u001b[0m\n\u001b[0;32m    540\u001b[0m         AsyncResults.get from multiprocessing.\"\"\"\n\u001b[0;32m    541\u001b[0m         \u001b[1;32mtry\u001b[0m\u001b[1;33m:\u001b[0m\u001b[1;33m\u001b[0m\u001b[1;33m\u001b[0m\u001b[0m\n\u001b[1;32m--> 542\u001b[1;33m             \u001b[1;32mreturn\u001b[0m \u001b[0mfuture\u001b[0m\u001b[1;33m.\u001b[0m\u001b[0mresult\u001b[0m\u001b[1;33m(\u001b[0m\u001b[0mtimeout\u001b[0m\u001b[1;33m=\u001b[0m\u001b[0mtimeout\u001b[0m\u001b[1;33m)\u001b[0m\u001b[1;33m\u001b[0m\u001b[1;33m\u001b[0m\u001b[0m\n\u001b[0m\u001b[0;32m    543\u001b[0m         \u001b[1;32mexcept\u001b[0m \u001b[0mCfTimeoutError\u001b[0m \u001b[1;32mas\u001b[0m \u001b[0me\u001b[0m\u001b[1;33m:\u001b[0m\u001b[1;33m\u001b[0m\u001b[1;33m\u001b[0m\u001b[0m\n\u001b[0;32m    544\u001b[0m             \u001b[1;32mraise\u001b[0m \u001b[0mTimeoutError\u001b[0m \u001b[1;32mfrom\u001b[0m \u001b[0me\u001b[0m\u001b[1;33m\u001b[0m\u001b[1;33m\u001b[0m\u001b[0m\n",
            "\u001b[1;32m~\\anaconda3\\envs\\ml\\lib\\concurrent\\futures\\_base.py\u001b[0m in \u001b[0;36mresult\u001b[1;34m(self, timeout)\u001b[0m\n\u001b[0;32m    432\u001b[0m                 \u001b[1;32mreturn\u001b[0m \u001b[0mself\u001b[0m\u001b[1;33m.\u001b[0m\u001b[0m__get_result\u001b[0m\u001b[1;33m(\u001b[0m\u001b[1;33m)\u001b[0m\u001b[1;33m\u001b[0m\u001b[1;33m\u001b[0m\u001b[0m\n\u001b[0;32m    433\u001b[0m \u001b[1;33m\u001b[0m\u001b[0m\n\u001b[1;32m--> 434\u001b[1;33m             \u001b[0mself\u001b[0m\u001b[1;33m.\u001b[0m\u001b[0m_condition\u001b[0m\u001b[1;33m.\u001b[0m\u001b[0mwait\u001b[0m\u001b[1;33m(\u001b[0m\u001b[0mtimeout\u001b[0m\u001b[1;33m)\u001b[0m\u001b[1;33m\u001b[0m\u001b[1;33m\u001b[0m\u001b[0m\n\u001b[0m\u001b[0;32m    435\u001b[0m \u001b[1;33m\u001b[0m\u001b[0m\n\u001b[0;32m    436\u001b[0m             \u001b[1;32mif\u001b[0m \u001b[0mself\u001b[0m\u001b[1;33m.\u001b[0m\u001b[0m_state\u001b[0m \u001b[1;32min\u001b[0m \u001b[1;33m[\u001b[0m\u001b[0mCANCELLED\u001b[0m\u001b[1;33m,\u001b[0m \u001b[0mCANCELLED_AND_NOTIFIED\u001b[0m\u001b[1;33m]\u001b[0m\u001b[1;33m:\u001b[0m\u001b[1;33m\u001b[0m\u001b[1;33m\u001b[0m\u001b[0m\n",
            "\u001b[1;32m~\\anaconda3\\envs\\ml\\lib\\threading.py\u001b[0m in \u001b[0;36mwait\u001b[1;34m(self, timeout)\u001b[0m\n\u001b[0;32m    300\u001b[0m         \u001b[1;32mtry\u001b[0m\u001b[1;33m:\u001b[0m    \u001b[1;31m# restore state no matter what (e.g., KeyboardInterrupt)\u001b[0m\u001b[1;33m\u001b[0m\u001b[1;33m\u001b[0m\u001b[0m\n\u001b[0;32m    301\u001b[0m             \u001b[1;32mif\u001b[0m \u001b[0mtimeout\u001b[0m \u001b[1;32mis\u001b[0m \u001b[1;32mNone\u001b[0m\u001b[1;33m:\u001b[0m\u001b[1;33m\u001b[0m\u001b[1;33m\u001b[0m\u001b[0m\n\u001b[1;32m--> 302\u001b[1;33m                 \u001b[0mwaiter\u001b[0m\u001b[1;33m.\u001b[0m\u001b[0macquire\u001b[0m\u001b[1;33m(\u001b[0m\u001b[1;33m)\u001b[0m\u001b[1;33m\u001b[0m\u001b[1;33m\u001b[0m\u001b[0m\n\u001b[0m\u001b[0;32m    303\u001b[0m                 \u001b[0mgotit\u001b[0m \u001b[1;33m=\u001b[0m \u001b[1;32mTrue\u001b[0m\u001b[1;33m\u001b[0m\u001b[1;33m\u001b[0m\u001b[0m\n\u001b[0;32m    304\u001b[0m             \u001b[1;32melse\u001b[0m\u001b[1;33m:\u001b[0m\u001b[1;33m\u001b[0m\u001b[1;33m\u001b[0m\u001b[0m\n",
            "\u001b[1;31mKeyboardInterrupt\u001b[0m: "
          ]
        }
      ],
      "metadata": {
        "jupyter": {
          "source_hidden": false,
          "outputs_hidden": false
        },
        "nteract": {
          "transient": {
            "deleting": false
          }
        },
        "gather": {
          "logged": 1631467016584
        }
      }
    },
    {
      "cell_type": "code",
      "execution_count": null,
      "source": [
        "plt.figure(figsize=(30, 10))\r\n",
        "plt.plot(range(len(df_results) - plt_size), df_results[plt_size:], color='blue')\r\n",
        "plt.plot(range(len(predictions[2]) - plt_size ), predictions[0][plt_size:], color='red')\r\n",
        "plt.xlabel('True Values')\r\n",
        "plt.ylabel('Predictions')\r\n",
        "plt.show()"
      ],
      "outputs": [],
      "metadata": {
        "jupyter": {
          "source_hidden": false,
          "outputs_hidden": false
        },
        "nteract": {
          "transient": {
            "deleting": false
          }
        },
        "gather": {
          "logged": 1631409753552
        }
      }
    },
    {
      "cell_type": "code",
      "execution_count": null,
      "source": [
        "performances"
      ],
      "outputs": [],
      "metadata": {
        "jupyter": {
          "source_hidden": false,
          "outputs_hidden": false
        },
        "nteract": {
          "transient": {
            "deleting": false
          }
        },
        "gather": {
          "logged": 1631409753830
        }
      }
    },
    {
      "cell_type": "code",
      "execution_count": null,
      "source": [
        "df = pd.DataFrame(predictions)\r\n",
        "df.to_csv('/previsoes/predictions0.csv', index=False)"
      ],
      "outputs": [],
      "metadata": {
        "jupyter": {
          "source_hidden": false,
          "outputs_hidden": false
        },
        "nteract": {
          "transient": {
            "deleting": false
          }
        },
        "gather": {
          "logged": 1631409754004
        }
      }
    },
    {
      "cell_type": "code",
      "execution_count": null,
      "source": [
        "# ACCESS IN ORDER PREDICTION VALUES\r\n",
        "df.iloc[0]"
      ],
      "outputs": [],
      "metadata": {
        "jupyter": {
          "source_hidden": false,
          "outputs_hidden": false
        },
        "nteract": {
          "transient": {
            "deleting": false
          }
        },
        "gather": {
          "logged": 1631409754185
        }
      }
    },
    {
      "cell_type": "code",
      "execution_count": null,
      "source": [
        "# #top 100 exampled linhas\r\n",
        "# #data_model.linha.value_counts().index[:100]\r\n",
        "\r\n",
        "# print(data_model.linha.value_counts().index[:100])\r\n",
        "\r\n",
        "d_31 = [1, 3, 5, 7, 8, 10, 12]\r\n",
        "d_30 = [4, 6, 9, 11]\r\n",
        "\r\n",
        "\r\n",
        "from datetime import datetime\r\n",
        "import datetime\r\n",
        "import calendar\r\n",
        "\r\n",
        "def week_of_month(tgtdate):\r\n",
        "    tgtdate = tgtdate.to_pydatetime()\r\n",
        "    startdate = 0\r\n",
        "\r\n",
        "    days_this_month = calendar.mdays[tgtdate.month]\r\n",
        "    for i in range(1, days_this_month):\r\n",
        "        d = datetime.datetime(tgtdate.year, tgtdate.month, i)\r\n",
        "        if d.day - d.weekday() > 0:\r\n",
        "            startdate = d\r\n",
        "            break\r\n",
        "    # now we canuse the modulo 7 appraoch\r\n",
        "    return (tgtdate - startdate).days //7 + 1\r\n",
        "\r\n",
        "# #ate outubro para prever novembro\r\n",
        "# for linha in top100_linhas:\r\n",
        "#     #linha filter\r\n",
        "#     currentLinhaData = data_model[data_model.linha == linha]\r\n",
        "#     print(currentLinhaData)\r\n",
        "#     for mes in range(3, 12):\r\n",
        "#         currentLinhaData = currentLinhaData[currentLinhaData.mes == mes]\r\n",
        "\r\n",
        "#         if mes in d_31:\r\n",
        "#             d_d = 31\r\n",
        "#         elif mes in d_30:\r\n",
        "#             d_d = 30\r\n",
        "#         else:\r\n",
        "#             d_d = 29\r\n",
        "        \r\n",
        "#         for dia in range(1, d_d):\r\n",
        "#             currentLinhaData = currentLinhaData[currentLinhaData.d_mes == dia]\r\n",
        "#             for hora in range(24):\r\n",
        "#                 currentLinhaData = currentLinhaData[currentLinhaData.hora == hora]\r\n",
        "#                 if currentLinhaData.empty:\r\n",
        "#                     # feature_names = [\r\n",
        "#                     # 'hour_sin', 'hour_cos', \r\n",
        "#                     # 'd_mes', 'mes', 'semana_do_mes', \r\n",
        "#                     # 'domingo','segunda', 'terca', 'quarta', 'quinta', 'sexta', 'sabado', \r\n",
        "#                     # 'feriado', 'vespera_feriado']\r\n",
        "#                     # target = 'validations_per_hour'\r\n",
        "\r\n",
        "#                     # a_row = pd.Series([1, 2])\r\n",
        "#                     # df = pd.DataFrame([[3, 4], [5, 6]])\r\n",
        "#                     # row_df = pd.DataFrame([a_row])\r\n",
        "#                     # df = pd.concat([row_df, df], ignore_index=True)\r\n",
        "\r\n",
        "#                     h_sin = np.sin(2 * np.pi * hora/23.0)\r\n",
        "#                     h_cos = np.cos(2 * np.pi * hora/23.0)\r\n",
        "#                     semana_do_mes = (dia-1) // 7 + 1\r\n",
        "#                     #dia do ano\r\n",
        "#                     ins = pd.Series([linha, data_hora, 0, h_sin, h_cos, dia, mes, semana_do_mes *DIASDASEMANAENCODED, *feriado, *vesperaferiado])\r\n",
        "#                     ins_df = pd.DataFrame([ins])\r\n",
        "\r\n",
        "#                     currentLinhaData = pd.concat([ins_df, currentLinhaData], ignore_index=True)\r\n",
        "#                     print(f\"INSERINDO MISSING HORA {hora} no dia {dia} do mes {mes}\")\r\n",
        "\r\n",
        "# t = data_model[data_model.linha.isin(data_model.linha.value_counts().index[:100])]\r\n",
        "# t"
      ],
      "outputs": [],
      "metadata": {
        "jupyter": {
          "source_hidden": false,
          "outputs_hidden": false
        },
        "nteract": {
          "transient": {
            "deleting": false
          }
        },
        "gather": {
          "logged": 1631409754438
        }
      }
    },
    {
      "cell_type": "markdown",
      "source": [
        "## Ranking Linhas de Onibus"
      ],
      "metadata": {
        "nteract": {
          "transient": {
            "deleting": false
          }
        }
      }
    },
    {
      "cell_type": "code",
      "execution_count": null,
      "source": [
        "\r\n",
        "# print(data_model.linha.value_counts(ascending=True)[data_model['linha'].value_counts() < 100])\r\n",
        "\r\n",
        "# linha_lista = data_model.linha.unique()\r\n",
        "# linha_lista = linha_lista[:10]\r\n",
        "res_map = list()\r\n",
        "for linha in top100_linhas:\r\n",
        "    for model in model_list:\r\n",
        "        \r\n",
        "        # X = currentLinhaData.filter(['hour_sin', 'hour_cos', \r\n",
        "        # 'd_mes', 'd_ano', 'mes', 'semana_do_mes', \r\n",
        "        # 'domingo','segunda', 'terca', 'quarta', 'quinta', 'sexta', 'sabado', \r\n",
        "        # 'feriado', 'vespera_feriado'], axis=1)\r\n",
        "        # y = currentLinhaData.validations_per_hour\r\n",
        "\r\n",
        "        currentLinhaData = top100_linhas_data_model.loc[data['linha'] == linha].copy()\r\n",
        "        X = currentLinhaData.filter(feature_names, axis=1)\r\n",
        "        y = currentLinhaData.validations_per_hour\r\n",
        "        X_train, X_test, Y_train, Y_test = train_test_split(X, y, test_size = 0.2, random_state=5)\r\n",
        "\r\n",
        "        model.fit(X_train, Y_train)\r\n",
        "        performance = get_performance(model)\r\n",
        "        performance.insert(0, linha)\r\n",
        "        res_map.append(performance)\r\n",
        "res_map = pd.DataFrame(res_map, columns=[\"Linha\", \"R2\", \"RMSE\", \"MAE\", 'MAPE'])\r\n",
        "r = res_map.sort_values('MAE', ascending=True)\r\n",
        "r.to_csv(\"./performances/modelo-todasaslinhas/ranking_top100.csv\", index=False)\r\n",
        "\r\n"
      ],
      "outputs": [],
      "metadata": {
        "gather": {
          "logged": 1631409754617
        }
      }
    },
    {
      "cell_type": "code",
      "execution_count": null,
      "source": [],
      "outputs": [],
      "metadata": {}
    },
    {
      "cell_type": "code",
      "execution_count": null,
      "source": [
        "r.to_csv(\"./performances/modelo-todasaslinhas/ranking_top100.csv\", index=False)\r\n",
        "r"
      ],
      "outputs": [],
      "metadata": {
        "jupyter": {
          "source_hidden": false,
          "outputs_hidden": false
        },
        "nteract": {
          "transient": {
            "deleting": false
          }
        },
        "gather": {
          "logged": 1631504448928
        }
      }
    },
    {
      "cell_type": "code",
      "execution_count": null,
      "source": [
        "# res_map = pd.DataFrame(res_map,columns=['Linha', \r\n",
        "#     # '[LR][DEF]R2', '[LR][DF]RMSE', '[LR][DF]MAE',\r\n",
        "#     '[RF][GS]R2', '[RF][GS]RMSE', '[RF][GS]MAE',\r\n",
        "#     # '[LR][BAG]R2', '[LR][BAG]RMSE', '[LR][BAG]MAE',\r\n",
        "#     '[RF][BAG]R2', '[RF][BAG]RMSE', '[RF][BAG]MAE',\r\n",
        "#     '[STK]R2', '[STK]RMSE', '[STK]MAE',\r\n",
        "#     # '[BOS]R2', '[BOS]RMSE', '[BOS]MAE' \r\n",
        "#     ])\r\n",
        "res_map = pd.DataFrame(res_map,columns=['Linha','R2', 'RMSE', 'MAE', 'MAPE'])\r\n",
        "\r\n",
        "#performance_scoring['Score'] = performance_scoring['Score'].astype('float64')\r\n",
        "res_map = res_map.sort_values('R2').reset_index(drop=True)\r\n",
        "res_map.to_csv('./top100linhas_rank.csv', index=False)\r\n",
        "res_map"
      ],
      "outputs": [],
      "metadata": {
        "jupyter": {
          "source_hidden": false,
          "outputs_hidden": false
        },
        "nteract": {
          "transient": {
            "deleting": false
          }
        },
        "gather": {
          "logged": 1631504114908
        }
      }
    },
    {
      "cell_type": "markdown",
      "source": [
        "## Avaliacao dos dados atualmente\r\n",
        "404 linhas  \r\n",
        "358 com pelo menos 10 exemplos\r\n",
        "\r\n"
      ],
      "metadata": {
        "nteract": {
          "transient": {
            "deleting": false
          }
        }
      }
    },
    {
      "cell_type": "code",
      "execution_count": null,
      "source": [
        "# res_map.to_csv('./modelo-todasaslinhas/classic-linha-comp.csv', index = False)"
      ],
      "outputs": [],
      "metadata": {
        "collapsed": true,
        "gather": {
          "logged": 1631409754780
        },
        "jupyter": {
          "outputs_hidden": false,
          "source_hidden": false
        },
        "nteract": {
          "transient": {
            "deleting": false
          }
        }
      }
    },
    {
      "cell_type": "code",
      "execution_count": null,
      "source": [],
      "outputs": [],
      "metadata": {
        "collapsed": true,
        "jupyter": {
          "source_hidden": false,
          "outputs_hidden": false
        },
        "nteract": {
          "transient": {
            "deleting": false
          }
        }
      }
    }
  ],
  "metadata": {
    "interpreter": {
      "hash": "4caa081543ae4d7454eea2adf6270962382d99fc25b3a6423caed7aecce4d7f8"
    },
    "kernel_info": {
      "name": "python38-azureml"
    },
    "kernelspec": {
      "name": "python3",
      "display_name": "Python 3.8.8 64-bit ('ml': conda)"
    },
    "language_info": {
      "name": "python",
      "version": "3.8.8",
      "mimetype": "text/x-python",
      "codemirror_mode": {
        "name": "ipython",
        "version": 3
      },
      "pygments_lexer": "ipython3",
      "nbconvert_exporter": "python",
      "file_extension": ".py"
    },
    "microsoft": {
      "host": {
        "AzureML": {
          "notebookHasBeenCompleted": true
        }
      }
    },
    "nteract": {
      "version": "nteract-front-end@1.0.0"
    }
  },
  "nbformat": 4,
  "nbformat_minor": 5
}