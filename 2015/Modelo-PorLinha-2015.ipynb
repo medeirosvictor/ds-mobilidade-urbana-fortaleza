{
  "cells": [
    {
      "cell_type": "markdown",
      "metadata": {},
      "source": [
        "## Previsao de Embarque \n",
        "- Simples \n",
        "- Sem Serie Temporal\n",
        "- Regressao Linear\n",
        "- Random Forest\n",
        "- Com Grid Search\n",
        "- Bagging, Stacking e Boosting"
      ]
    },
    {
      "cell_type": "code",
      "execution_count": 46,
      "metadata": {
        "gather": {
          "logged": 1632360924338
        }
      },
      "outputs": [],
      "source": [
        "import pandas as pd\n",
        "import matplotlib.pyplot as plt\n",
        "import numpy as np\n",
        "import seaborn as sns\n",
        "\n",
        "from sklearn.preprocessing import OneHotEncoder\n",
        "from sklearn.linear_model import LinearRegression, Ridge, ElasticNet, Lasso\n",
        "from sklearn.svm import SVR\n",
        "from sklearn.ensemble import RandomForestRegressor, BaggingRegressor, StackingRegressor, GradientBoostingRegressor\n",
        "from sklearn.kernel_ridge import KernelRidge\n",
        "from sklearn.preprocessing import RobustScaler\n",
        "from sklearn.tree import DecisionTreeRegressor\n",
        "from sklearn.pipeline import make_pipeline\n",
        "import xgboost as xg\n",
        "import lightgbm as lgb\n",
        "\n",
        "import warnings\n",
        "\n",
        "from sklearn.model_selection import train_test_split, cross_val_score\n",
        "from sklearn.metrics import mean_squared_error, r2_score, mean_absolute_error, mean_absolute_percentage_error\n",
        "from sklearn.model_selection import RandomizedSearchCV\n",
        "from IPython.display import display\n",
        "from pprint import pprint\n",
        "from math import sqrt\n",
        "\n",
        "from variables import feriados_2015, feriados_2018, vesperas_2015, vesperas_2018, feriados_2020, vesperas_2020\n",
        "\n",
        "#from shutil import unpack_archive\n",
        "#unpack_archive('./df_input.zip', './')"
      ]
    },
    {
      "cell_type": "markdown",
      "metadata": {
        "nteract": {
          "transient": {
            "deleting": false
          }
        }
      },
      "source": [
        "## Filtro de Onibus e definicoes de features/target"
      ]
    },
    {
      "cell_type": "code",
      "execution_count": null,
      "id": "f494b675",
      "metadata": {},
      "outputs": [],
      "source": [
        "year = 2015\n",
        "\n",
        "if (year == 2015):\n",
        "    feriados = feriados_2015\n",
        "    vesperas = vesperas_2015\n",
        "    data = pd.read_csv('../data_input_zerofill_2015.csv', delimiter=\";\")\n",
        "elif (year == 2018):\n",
        "    feriados = feriados_2018\n",
        "    vesperas = vesperas_2018\n",
        "    data = pd.read_csv('../data_input_zerofill_2018.csv', delimiter=\",\")\n",
        "elif (year == 2020):\n",
        "    feriados = feriados_2020\n",
        "    vesperas = vesperas_2020\n",
        "    data = pd.read_csv('../data_input_zerofill_2020.csv', delimiter=\";\")\n"
      ]
    },
    {
      "cell_type": "code",
      "execution_count": null,
      "metadata": {
        "collapsed": true,
        "gather": {
          "logged": 1632360927530
        },
        "jupyter": {
          "outputs_hidden": false,
          "source_hidden": false
        },
        "nteract": {
          "transient": {
            "deleting": false
          }
        }
      },
      "outputs": [],
      "source": [
        "\n",
        "\n",
        "data['data_hora'] = pd.to_datetime(data['data_hora'], format='%Y/%m/%d %H:%M:%S', errors='coerce')\n",
        "data_model = data.loc[data.data_hora.dt.year == year].copy()\n",
        "\n",
        "#d_ano,  estao disponiveis para inserir once eu tive mais de 1 ano de dados\n",
        "feature_names = [\n",
        "    # 'hora',\n",
        "    'hour_sin',\n",
        "    'hour_cos',\n",
        "    'd_mes',\n",
        "    'd_ano',\n",
        "    'mes',\n",
        "    'semana_do_mes',\n",
        "    'domingo','segunda', 'terca', 'quarta', 'quinta', 'sexta', 'sabado',\n",
        "    'feriado', 'vespera_feriado']\n",
        "\n",
        "target = 'validations_per_hour'\n",
        "\n",
        "busline_filter = 41"
      ]
    },
    {
      "cell_type": "code",
      "execution_count": null,
      "metadata": {
        "gather": {
          "logged": 1632360940056
        }
      },
      "outputs": [],
      "source": [
        "one_hot_encoder = OneHotEncoder(sparse=False)\n",
        "\n",
        "data_model[['domingo','segunda', 'terca', 'quarta', 'quinta', 'sexta', 'sabado']] = one_hot_encoder.fit_transform(data_model['d_semana'].values.reshape(-1,1))\n",
        "data_model['feriado'] = [1 if any((x[0] == d and x[1] == m) for (_, d, m) in feriados) else 0 for x in list(zip(data_model.d_mes, data_model.mes))]\n",
        "data_model['vespera_feriado'] = [1 if any((x[0] == d and x[1] == m) for (_, d, m) in vesperas) else 0 for x in list(zip(data_model.d_mes, data_model.mes))]\n",
        "\n",
        "top100_linhas = data_model.groupby(data_model.linha).sum().reset_index().sort_values('validations_per_hour', ascending=False).index[:100].to_list()\n",
        "top100_linhas_data_model = data_model[data_model.linha.isin(top100_linhas)]\n",
        "\n",
        "top100_linhas_data_model.to_csv(\"../dados-para-modelos/2015/top100_linhas_data_model_2015.csv\", index=False)\n",
        "line_data_model = top100_linhas_data_model.loc[top100_linhas_data_model['linha'] == busline_filter].copy()\n",
        "\n",
        "#sns.set(rc={'figure.figsize':(15,10)})\n",
        "# sns.heatmap(top100_linhas_data_model.corr()[['validations_per_hour']].sort_values(by='validations_per_hour', ascending=False)\n",
        "# , vmin=-1, vmax=1, annot=True)"
      ]
    },
    {
      "cell_type": "code",
      "execution_count": null,
      "metadata": {},
      "outputs": [],
      "source": [
        "line_data_model"
      ]
    },
    {
      "cell_type": "code",
      "execution_count": null,
      "metadata": {
        "collapsed": true,
        "gather": {
          "logged": 1632360940459
        },
        "jupyter": {
          "outputs_hidden": false,
          "source_hidden": false
        },
        "nteract": {
          "transient": {
            "deleting": false
          }
        }
      },
      "outputs": [],
      "source": [
        "#display(X)"
      ]
    },
    {
      "cell_type": "code",
      "execution_count": null,
      "metadata": {
        "collapsed": true,
        "gather": {
          "logged": 1632360940845
        },
        "jupyter": {
          "outputs_hidden": false,
          "source_hidden": false
        },
        "nteract": {
          "transient": {
            "deleting": false
          }
        }
      },
      "outputs": [],
      "source": [
        "#display(y)"
      ]
    },
    {
      "cell_type": "markdown",
      "metadata": {
        "nteract": {
          "transient": {
            "deleting": false
          }
        }
      },
      "source": [
        "---------------------------------------------------------------------------- Fim Setup ----------------------------------------------------------------------------  \n",
        "# Criacao dos Modelos"
      ]
    },
    {
      "cell_type": "code",
      "execution_count": null,
      "metadata": {},
      "outputs": [],
      "source": [
        "# Per Line Data\n",
        "\n",
        "X = line_data_model.filter(feature_names, axis=1)\n",
        "y = line_data_model.validations_per_hour\n",
        "X_train, X_test, Y_train, Y_test = train_test_split(X, y, test_size = 0.2, random_state=5)"
      ]
    },
    {
      "cell_type": "code",
      "execution_count": null,
      "metadata": {
        "collapsed": true,
        "gather": {
          "logged": 1632360941131
        },
        "jupyter": {
          "outputs_hidden": false,
          "source_hidden": false
        },
        "nteract": {
          "transient": {
            "deleting": false
          }
        }
      },
      "outputs": [],
      "source": [
        "model_list = []"
      ]
    },
    {
      "cell_type": "code",
      "execution_count": null,
      "metadata": {
        "collapsed": true,
        "gather": {
          "logged": 1632360941444
        },
        "jupyter": {
          "outputs_hidden": false,
          "source_hidden": false
        },
        "nteract": {
          "transient": {
            "deleting": false
          }
        }
      },
      "outputs": [],
      "source": [
        "def get_performance(model):\n",
        "    y_test_predict = model.predict(X_test)\n",
        "    mse = mean_squared_error(Y_test, y_test_predict)\n",
        "    rmse = (np.sqrt(mse))\n",
        "    r2 = r2_score(Y_test, y_test_predict)\n",
        "    mae = mean_absolute_error(Y_test, y_test_predict)\n",
        "    mape = mean_absolute_percentage_error(Y_test, y_test_predict) * 100\n",
        "    performance_scoring = [\n",
        "        r2,\n",
        "        rmse,\n",
        "        mae,\n",
        "        mape\n",
        "    ]\n",
        "    #performance_scoring = pd.DataFrame(performance_scoring,columns=['Metrica', 'Score'])\n",
        "    #performance_scoring['Score'] = performance_scoring['Score'].astype('float64')\n",
        "    return performance_scoring"
      ]
    },
    {
      "cell_type": "code",
      "execution_count": null,
      "metadata": {
        "collapsed": true,
        "gather": {
          "logged": 1632360941799
        },
        "jupyter": {
          "outputs_hidden": false,
          "source_hidden": false
        },
        "nteract": {
          "transient": {
            "deleting": false
          }
        }
      },
      "outputs": [],
      "source": [
        "LinearRegressionModel = LinearRegression()\n",
        "RandomForestModel = RandomForestRegressor()"
      ]
    },
    {
      "cell_type": "markdown",
      "metadata": {
        "nteract": {
          "transient": {
            "deleting": false
          }
        }
      },
      "source": [
        "#### Linear Regression Model Parameters"
      ]
    },
    {
      "cell_type": "code",
      "execution_count": null,
      "metadata": {
        "collapsed": true,
        "gather": {
          "logged": 1632360942004
        },
        "jupyter": {
          "outputs_hidden": false,
          "source_hidden": false
        },
        "nteract": {
          "transient": {
            "deleting": false
          }
        }
      },
      "outputs": [],
      "source": [
        "# print(\"Linear Regression  Params ----> \")\n",
        "# pprint(LinearRegressionModel.get_params())\n",
        "\n",
        "copy_X = [True, False]\n",
        "fit_intercept = [True, False]\n",
        "n_jobs = [2, 4, 6, 8]\n",
        "normalize = [True, False]\n",
        "\n",
        "# Create the random grid\n",
        "random_grid_linearregression = {'copy_X': copy_X, 'fit_intercept': fit_intercept, 'n_jobs': n_jobs, 'normalize': normalize}"
      ]
    },
    {
      "cell_type": "markdown",
      "metadata": {
        "nteract": {
          "transient": {
            "deleting": false
          }
        }
      },
      "source": [
        "#### Random Forest Model Parameters"
      ]
    },
    {
      "cell_type": "code",
      "execution_count": null,
      "metadata": {
        "collapsed": true,
        "gather": {
          "logged": 1632360942214
        },
        "jupyter": {
          "outputs_hidden": false,
          "source_hidden": false
        },
        "nteract": {
          "transient": {
            "deleting": false
          }
        }
      },
      "outputs": [],
      "source": [
        "# print(\"Random Forest Model Params ----> \")\n",
        "# pprint(RandomForestModel.get_params())\n",
        "\n",
        "# Number of trees in random forest\n",
        "n_estimators = [int(x) for x in np.linspace(start = 20, stop = 1000, num = 10)]\n",
        "\n",
        "n_jobs = [2, 4, 6, 8]\n",
        "\n",
        "# Number of features to consider at every split\n",
        "max_features = ['auto', 'sqrt']\n",
        "\n",
        "# Maximum number of levels in tree\n",
        "max_depth = [int(x) for x in np.linspace(10, 110, num = 11)]\n",
        "max_depth.append(None)\n",
        "\n",
        "# Minimum number of samples required to split a node\n",
        "min_samples_split = [2, 5, 10]\n",
        "\n",
        "# Minimum number of samples required at each leaf node\n",
        "min_samples_leaf = [1, 2, 4]\n",
        "\n",
        "# Method of selecting samples for training each tree\n",
        "bootstrap = [True, False]\n",
        "\n",
        "# Create the random grid\n",
        "random_grid_randomforest = {'n_estimators': n_estimators,\n",
        "               'max_features': max_features,\n",
        "               'max_depth': max_depth,\n",
        "               'min_samples_split': min_samples_split,\n",
        "               'min_samples_leaf': min_samples_leaf,\n",
        "               'bootstrap': bootstrap,\n",
        "               'n_jobs': n_jobs}"
      ]
    },
    {
      "cell_type": "markdown",
      "metadata": {},
      "source": [
        "# Grid Searched"
      ]
    },
    {
      "cell_type": "code",
      "execution_count": null,
      "metadata": {
        "collapsed": true,
        "gather": {
          "logged": 1632361324253
        },
        "jupyter": {
          "outputs_hidden": false,
          "source_hidden": false
        },
        "nteract": {
          "transient": {
            "deleting": false
          }
        }
      },
      "outputs": [],
      "source": [
        "# Random search of parameters, using 3 fold cross validation, \n",
        "# search across 100 different combinations, and use all available cores\n",
        "LinearRegressionModel = LinearRegression()\n",
        "RandomForestModel = RandomForestRegressor()\n",
        "gridsearch_result_randomforest = RandomizedSearchCV(estimator = RandomForestModel, param_distributions = random_grid_randomforest, n_iter = 100, cv = 3, verbose=2, random_state=42, n_jobs = -1)\n",
        "gridsearch_result_linearregression = RandomizedSearchCV(estimator = LinearRegressionModel, param_distributions = random_grid_linearregression, n_iter = 100, cv = 3, verbose=2, random_state=42, n_jobs = -1)\n",
        "\n",
        "# Fit the random search model\n",
        "\n",
        "gridsearch_result_randomforest.fit(X_train, Y_train)\n",
        "gridsearch_result_linearregression.fit(X_train, Y_train)\n",
        "\n",
        "print(\"Random Forest Best Parameters -----> \")\n",
        "pprint(gridsearch_result_randomforest.best_params_)\n",
        "\n",
        "print(\"Linear Regression Best Parameters -----> \")\n",
        "pprint(gridsearch_result_linearregression.best_params_)\n",
        "\n",
        "gridsearched_random_randomforest = gridsearch_result_randomforest.best_estimator_\n",
        "gridsearched_random_linearregression = gridsearch_result_linearregression.best_estimator_\n",
        "\n",
        "default_linearregression_model = LinearRegressionModel.fit(X_train, Y_train)\n",
        "default_randomforest_model = RandomForestModel.fit(X_train, Y_train)\n",
        "\n",
        "GridSearchedRandomForestModelPipeline = make_pipeline(gridsearched_random_randomforest)\n",
        "DefaultRandomForestModelPipeline = make_pipeline(default_randomforest_model)\n"
      ]
    },
    {
      "cell_type": "code",
      "execution_count": null,
      "metadata": {},
      "outputs": [],
      "source": [
        "performance_default_randomforest_model = get_performance(default_randomforest_model)\n",
        "performance_gridsearched_randomforest_model = get_performance(gridsearched_random_randomforest)\n",
        "performance_gridsearched_linearregression_model = get_performance(gridsearched_random_linearregression)\n",
        "performance_default_linearregression_model = get_performance(default_linearregression_model)\n",
        "\n",
        "print(\"\\n----------------------------------------------------\\n\")\n",
        "print('Regressao Linear [DEFAULT]: \\n', performance_default_linearregression_model)\n",
        "print(\"\\n----------------------------------------------------\\n\")\n",
        "print('Random Forest [DEFAULT]: \\n', performance_default_randomforest_model)\n",
        "print(\"\\n----------------------------------------------------\\n\")\n",
        "print('Regressao Linear [GRID SEARCH]: \\n', performance_gridsearched_linearregression_model)\n",
        "print(\"\\n----------------------------------------------------\\n\")\n",
        "print('Random Forest [GRID SEARCH]: \\n', performance_gridsearched_randomforest_model)\n",
        "print(\"\\n----------------------------------------------------\\n\")\n",
        "\n",
        "performance_total = [performance_default_linearregression_model,\n",
        "    performance_default_randomforest_model,\n",
        "    performance_gridsearched_linearregression_model,\n",
        "    performance_gridsearched_randomforest_model]\n",
        "\n",
        "performance_total = pd.DataFrame.from_records(performance_total, columns=['R2', 'RMSE', 'MAE', 'MAPE'], \n",
        "    index=['Regressao Linear Default', 'RandomForest Default', 'Regressao Linear Grid Searched', 'RandomForest GridSearched'])\n",
        "performance_total"
      ]
    },
    {
      "cell_type": "code",
      "execution_count": null,
      "metadata": {},
      "outputs": [],
      "source": [
        "RidgeRegressionModel = Ridge(alpha=.5)\n",
        "ridge = RidgeRegressionModel.fit(X_train, Y_train)\n",
        "performance_ridge = get_performance(ridge)\n",
        "df2 = pd.DataFrame([performance_ridge], columns=['R2','RMSE','MAE', 'MAPE'], \n",
        "    index=['Ridge Regression'])\n",
        "performance_total = pd.concat([df2, performance_total])\n"
      ]
    },
    {
      "cell_type": "code",
      "execution_count": null,
      "metadata": {},
      "outputs": [],
      "source": [
        "DecitionTreeModel = DecisionTreeRegressor()\n",
        "dtm = DecitionTreeModel.fit(X_train, Y_train)\n",
        "performance_dtm = get_performance(dtm)\n",
        "df2 = pd.DataFrame([performance_dtm], columns=['R2','RMSE','MAE', 'MAPE'], \n",
        "    index=['Arvore de Decisao'])\n",
        "performance_total = pd.concat([df2, performance_total])\n"
      ]
    },
    {
      "cell_type": "code",
      "execution_count": null,
      "metadata": {},
      "outputs": [],
      "source": [
        "SVRModel = SVR()\n",
        "svr = SVRModel.fit(X_train, Y_train)\n",
        "performance_SVR = get_performance(svr)\n",
        "df2 = pd.DataFrame([performance_SVR], columns=['R2','RMSE','MAE', 'MAPE'], \n",
        "    index=['SVR Regression'])\n",
        "performance_total = pd.concat([df2, performance_total])"
      ]
    },
    {
      "cell_type": "code",
      "execution_count": null,
      "metadata": {},
      "outputs": [],
      "source": []
    },
    {
      "cell_type": "markdown",
      "metadata": {
        "nteract": {
          "transient": {
            "deleting": false
          }
        }
      },
      "source": [
        "# BAGGING"
      ]
    },
    {
      "cell_type": "code",
      "execution_count": null,
      "metadata": {
        "collapsed": true,
        "gather": {
          "logged": 1632361332525
        },
        "jupyter": {
          "outputs_hidden": false,
          "source_hidden": false
        },
        "nteract": {
          "transient": {
            "deleting": false
          }
        }
      },
      "outputs": [],
      "source": [
        "warnings.filterwarnings(\"ignore\") # To ignore warnings\n",
        "n_jobs = -1 # This parameter conrols the parallel processing. -1 means using all processors.\n",
        "random_state = 42 # This parameter controls the randomness of the data. Using some int value to get same results everytime this code is run\n",
        "models_scores = [] # To store model scores               \n",
        "\n",
        "def bagging_model(estimator):\n",
        "    \"\"\"\n",
        "    I/P\n",
        "    estimator: The base estimator from which the ensemble is grown.\n",
        "    O/P\n",
        "    br_y_pred: Predictions on test data for the base estimator.\n",
        "    \n",
        "    \"\"\"\n",
        "    regr = BaggingRegressor(base_estimator=estimator,\n",
        "                            n_estimators=10,\n",
        "                            max_samples=1.0,\n",
        "                            bootstrap=True, # Samples are drawn with replacement\n",
        "                            n_jobs= n_jobs,\n",
        "                            random_state=random_state).fit(X_train, Y_train)\n",
        "\n",
        "    br_y_pred = regr.predict(X_test)\n",
        "\n",
        "    performance = get_performance(regr)\n",
        "    \n",
        "    print(f'Performance for base estimator {regr.base_estimator_} = {performance}\\n')\n",
        "\n",
        "    return regr, performance\n",
        "\n",
        "LinearRegressionModelPipeline = make_pipeline(gridsearched_random_linearregression)\n",
        "RandomForestModelPipeline = make_pipeline(gridsearched_random_randomforest)\n",
        "DecisionTreeModelPipeline = make_pipeline(dtm)\n",
        "\n",
        "bagging_lr_model, performance_bagging_lr_model = bagging_model(LinearRegressionModelPipeline)\n",
        "bagging_rf_model, performance_bagging_rf_model = bagging_model(RandomForestModelPipeline)\n",
        "bagging_dt_model, performance_bagging_dt_model = bagging_model(DecisionTreeModelPipeline)\n",
        "\n",
        "df2 = pd.DataFrame([performance_bagging_lr_model, performance_bagging_rf_model, performance_bagging_dt_model], columns=['R2','RMSE','MAE', 'MAPE'], \n",
        "    index=['Regressao Linear Bagging', 'RandomForest Bagging', 'Decision Tree Bagging'])\n",
        "performance_total = pd.concat([df2, performance_total])\n",
        "\n",
        "BaggingLinearRegressionModelPipeline = make_pipeline(bagging_lr_model)\n",
        "BaggingRandomForestModelPipeline = make_pipeline(bagging_rf_model)\n",
        "BaggingDecisionTreeModelPipeline = make_pipeline(bagging_dt_model)\n",
        "\n"
      ]
    },
    {
      "cell_type": "code",
      "execution_count": null,
      "metadata": {},
      "outputs": [],
      "source": [
        "performance_total.sort_values('MAE')"
      ]
    },
    {
      "cell_type": "markdown",
      "metadata": {
        "nteract": {
          "transient": {
            "deleting": false
          }
        }
      },
      "source": [
        "# BOOSTING"
      ]
    },
    {
      "cell_type": "code",
      "execution_count": null,
      "metadata": {
        "collapsed": true,
        "gather": {
          "logged": 1632361361458
        },
        "jupyter": {
          "outputs_hidden": false,
          "source_hidden": false
        },
        "nteract": {
          "transient": {
            "deleting": false
          }
        }
      },
      "outputs": [],
      "source": [
        "gradient_boosting_regressor= GradientBoostingRegressor(n_estimators=3000, learning_rate=0.05,\n",
        "                                   max_depth=4, max_features='sqrt',\n",
        "                                   min_samples_leaf=15, min_samples_split=10, \n",
        "                                   loss='huber', random_state = random_state)\n",
        "\n",
        "gradient_boosting_regressor.fit(X_train, Y_train)\n",
        "\n",
        "performance = get_performance(gradient_boosting_regressor)\n",
        "\n",
        "df2 = pd.DataFrame([performance], columns=['R2','RMSE','MAE', 'MAPE'], \n",
        "    index=['GradientBoostingRegressor'])\n",
        "\n",
        "GradientBoostingModelPipeline = make_pipeline(gradient_boosting_regressor)\n",
        "\n",
        "performance_total = pd.concat([df2, performance_total])\n"
      ]
    },
    {
      "cell_type": "markdown",
      "metadata": {},
      "source": [
        "# STACKING"
      ]
    },
    {
      "cell_type": "code",
      "execution_count": 22,
      "metadata": {},
      "outputs": [],
      "source": [
        "estimators = [\n",
        "    ('gridseached_randomforest', GridSearchedRandomForestModelPipeline),\n",
        "    ('bagging_randomforest',BaggingRandomForestModelPipeline),\n",
        "    ('gradient_boosting', GradientBoostingModelPipeline),\n",
        "    ('random_forest_default', DefaultRandomForestModelPipeline)\n",
        "]\n",
        "\n",
        "stack = StackingRegressor(estimators=estimators, final_estimator=LinearRegressionModelPipeline, cv= 5, passthrough = True)\n",
        "\n",
        "stack.fit(X_train, Y_train)\n",
        "\n",
        "performance = get_performance(stack)\n",
        "\n",
        "df2 = pd.DataFrame([performance], columns=['R2','RMSE','MAE', 'MAPE'], \n",
        "    index=['Stacking Regressors'])\n",
        "\n",
        "performance_total = pd.concat([df2, performance_total])"
      ]
    },
    {
      "cell_type": "markdown",
      "id": "69f2c81f",
      "metadata": {},
      "source": [
        "# extreme Gradient Boosting"
      ]
    },
    {
      "cell_type": "code",
      "execution_count": 23,
      "id": "140f5fce",
      "metadata": {},
      "outputs": [],
      "source": [
        "xgb_r = xg.XGBRegressor(n_estimators = 100, seed = 42, eval_metric='mae', booster='gbtree')"
      ]
    },
    {
      "cell_type": "code",
      "execution_count": 24,
      "metadata": {},
      "outputs": [
        {
          "name": "stdout",
          "output_type": "stream",
          "text": [
            "LINHA UTILIZADA PARA OS TESTES:  41\n",
            "\n",
            "Utilizando sample aleatorio de dado para teste de previsao: \n"
          ]
        },
        {
          "data": {
            "text/html": [
              "<div>\n",
              "<style scoped>\n",
              "    .dataframe tbody tr th:only-of-type {\n",
              "        vertical-align: middle;\n",
              "    }\n",
              "\n",
              "    .dataframe tbody tr th {\n",
              "        vertical-align: top;\n",
              "    }\n",
              "\n",
              "    .dataframe thead th {\n",
              "        text-align: right;\n",
              "    }\n",
              "</style>\n",
              "<table border=\"1\" class=\"dataframe\">\n",
              "  <thead>\n",
              "    <tr style=\"text-align: right;\">\n",
              "      <th></th>\n",
              "      <th>linha</th>\n",
              "      <th>data_hora</th>\n",
              "      <th>validations_per_hour</th>\n",
              "      <th>d_semana</th>\n",
              "      <th>hour_sin</th>\n",
              "      <th>hour_cos</th>\n",
              "      <th>hora</th>\n",
              "      <th>d_mes</th>\n",
              "      <th>d_ano</th>\n",
              "      <th>mes</th>\n",
              "      <th>semana_do_mes</th>\n",
              "      <th>domingo</th>\n",
              "      <th>segunda</th>\n",
              "      <th>terca</th>\n",
              "      <th>quarta</th>\n",
              "      <th>quinta</th>\n",
              "      <th>sexta</th>\n",
              "      <th>sabado</th>\n",
              "      <th>feriado</th>\n",
              "      <th>vespera_feriado</th>\n",
              "    </tr>\n",
              "  </thead>\n",
              "  <tbody>\n",
              "    <tr>\n",
              "      <th>236835</th>\n",
              "      <td>41</td>\n",
              "      <td>2015-09-05 05:00:00</td>\n",
              "      <td>321</td>\n",
              "      <td>5</td>\n",
              "      <td>0.979084</td>\n",
              "      <td>0.203456</td>\n",
              "      <td>5</td>\n",
              "      <td>5</td>\n",
              "      <td>248</td>\n",
              "      <td>9</td>\n",
              "      <td>0</td>\n",
              "      <td>0.0</td>\n",
              "      <td>0.0</td>\n",
              "      <td>0.0</td>\n",
              "      <td>0.0</td>\n",
              "      <td>0.0</td>\n",
              "      <td>1.0</td>\n",
              "      <td>0.0</td>\n",
              "      <td>0</td>\n",
              "      <td>0</td>\n",
              "    </tr>\n",
              "  </tbody>\n",
              "</table>\n",
              "</div>"
            ],
            "text/plain": [
              "        linha           data_hora  validations_per_hour  d_semana  hour_sin  \\\n",
              "236835     41 2015-09-05 05:00:00                   321         5  0.979084   \n",
              "\n",
              "        hour_cos  hora  d_mes  d_ano  mes  semana_do_mes  domingo  segunda  \\\n",
              "236835  0.203456     5      5    248    9              0      0.0      0.0   \n",
              "\n",
              "        terca  quarta  quinta  sexta  sabado  feriado  vespera_feriado  \n",
              "236835    0.0     0.0     0.0    1.0     0.0        0                0  "
            ]
          },
          "metadata": {},
          "output_type": "display_data"
        },
        {
          "name": "stdout",
          "output_type": "stream",
          "text": [
            "Stacked Regressor -> resultado do predict de test:  [315.05008976]\n",
            "gradient_boosting_regressor -> resultado do predict de test:  [327.46709697]\n",
            "bagging_rf_model -> resultado do predict de test:  [382.12989011]\n",
            "Random Forest Best Grid Searched -> resultado do predict de test:  [321.]\n",
            "Random Forest Default -> resultado do predict de test:  [353.17]\n",
            "bagging_lr_model -> resultado do predict de test:  [326.5796875]\n",
            "Regressao Linear Default -> resultado do predict de test:  [324.85656758]\n",
            "Regressao Linear Best Grid Searched -> resultado do predict de test:  [328.5]\n"
          ]
        }
      ],
      "source": [
        "# model_list = [\n",
        "#     stack,\n",
        "#     gradient_boosting_regressor,\n",
        "#     bagging_rf_model,\n",
        "#     default_randomforest_model,\n",
        "#     #default_linearregression_model,\n",
        "#     #gridsearched_result_linearregression,\n",
        "#     #gridsearched_random_randomforest,\n",
        "#     #bagging_lr_model,\n",
        "# ]\n",
        "\n",
        "sample = X.sample(n=1)\n",
        "sample\n",
        "\n",
        "print('LINHA UTILIZADA PARA OS TESTES: ', busline_filter)\n",
        "\n",
        "print(\"\\nUtilizando sample aleatorio de dado para teste de previsao: \")\n",
        "\n",
        "display(data_model.loc[sample.index])\n",
        "\n",
        "res = stack.predict(sample)\n",
        "print(\"Stacked Regressor -> resultado do predict de test: \", res)\n",
        "\n",
        "res = gradient_boosting_regressor.predict(sample)\n",
        "print(\"gradient_boosting_regressor -> resultado do predict de test: \", res)\n",
        "\n",
        "res = bagging_rf_model.predict(sample)\n",
        "print(\"bagging_rf_model -> resultado do predict de test: \", res)\n",
        "\n",
        "res = gridsearched_random_randomforest.predict(sample)\n",
        "print(\"Random Forest Best Grid Searched -> resultado do predict de test: \", res)\n",
        "\n",
        "res = default_randomforest_model.predict(sample)\n",
        "print(\"Random Forest Default -> resultado do predict de test: \", res)\n",
        "\n",
        "res = bagging_lr_model.predict(sample)\n",
        "print(\"bagging_lr_model -> resultado do predict de test: \", res)\n",
        "\n",
        "res = default_linearregression_model.predict(sample)\n",
        "print(\"Regressao Linear Default -> resultado do predict de test: \", res)\n",
        "\n",
        "res = gridsearched_random_linearregression.predict(sample)\n",
        "print(\"Regressao Linear Best Grid Searched -> resultado do predict de test: \", res)"
      ]
    },
    {
      "cell_type": "code",
      "execution_count": 25,
      "metadata": {
        "collapsed": true,
        "gather": {
          "logged": 1632369757434
        },
        "jupyter": {
          "outputs_hidden": false,
          "source_hidden": false
        },
        "nteract": {
          "transient": {
            "deleting": false
          }
        }
      },
      "outputs": [],
      "source": [
        "performance_total = performance_total.sort_values('MAE', ascending=True)\n",
        "performance_total.to_csv('../performances/2015/performance_total_linha'+str(busline_filter)+'.csv', index=False)"
      ]
    },
    {
      "cell_type": "code",
      "execution_count": 26,
      "metadata": {},
      "outputs": [
        {
          "data": {
            "text/html": [
              "<div>\n",
              "<style scoped>\n",
              "    .dataframe tbody tr th:only-of-type {\n",
              "        vertical-align: middle;\n",
              "    }\n",
              "\n",
              "    .dataframe tbody tr th {\n",
              "        vertical-align: top;\n",
              "    }\n",
              "\n",
              "    .dataframe thead th {\n",
              "        text-align: right;\n",
              "    }\n",
              "</style>\n",
              "<table border=\"1\" class=\"dataframe\">\n",
              "  <thead>\n",
              "    <tr style=\"text-align: right;\">\n",
              "      <th></th>\n",
              "      <th>R2</th>\n",
              "      <th>RMSE</th>\n",
              "      <th>MAE</th>\n",
              "      <th>MAPE</th>\n",
              "    </tr>\n",
              "  </thead>\n",
              "  <tbody>\n",
              "    <tr>\n",
              "      <th>GradientBoostingRegressor</th>\n",
              "      <td>0.957011</td>\n",
              "      <td>91.484948</td>\n",
              "      <td>58.921671</td>\n",
              "      <td>3.807748e+18</td>\n",
              "    </tr>\n",
              "    <tr>\n",
              "      <th>Stacking Regressors</th>\n",
              "      <td>0.957860</td>\n",
              "      <td>90.577826</td>\n",
              "      <td>60.187934</td>\n",
              "      <td>3.684428e+18</td>\n",
              "    </tr>\n",
              "    <tr>\n",
              "      <th>RandomForest Default</th>\n",
              "      <td>0.919496</td>\n",
              "      <td>125.193705</td>\n",
              "      <td>68.679556</td>\n",
              "      <td>3.896226e+18</td>\n",
              "    </tr>\n",
              "    <tr>\n",
              "      <th>RandomForest GridSearched</th>\n",
              "      <td>0.936495</td>\n",
              "      <td>111.192621</td>\n",
              "      <td>70.028200</td>\n",
              "      <td>3.413658e+18</td>\n",
              "    </tr>\n",
              "    <tr>\n",
              "      <th>RandomForest Bagging</th>\n",
              "      <td>0.936290</td>\n",
              "      <td>111.371839</td>\n",
              "      <td>71.287584</td>\n",
              "      <td>4.122329e+18</td>\n",
              "    </tr>\n",
              "    <tr>\n",
              "      <th>Decision Tree Bagging</th>\n",
              "      <td>0.909524</td>\n",
              "      <td>132.720835</td>\n",
              "      <td>74.196412</td>\n",
              "      <td>4.139324e+18</td>\n",
              "    </tr>\n",
              "    <tr>\n",
              "      <th>Arvore de Decisao</th>\n",
              "      <td>0.881583</td>\n",
              "      <td>151.837603</td>\n",
              "      <td>83.092728</td>\n",
              "      <td>2.844534e+18</td>\n",
              "    </tr>\n",
              "    <tr>\n",
              "      <th>Ridge Regression</th>\n",
              "      <td>0.475805</td>\n",
              "      <td>319.462070</td>\n",
              "      <td>247.810547</td>\n",
              "      <td>1.357519e+19</td>\n",
              "    </tr>\n",
              "    <tr>\n",
              "      <th>Regressao Linear Grid Searched</th>\n",
              "      <td>0.475763</td>\n",
              "      <td>319.474757</td>\n",
              "      <td>247.819966</td>\n",
              "      <td>1.362699e+19</td>\n",
              "    </tr>\n",
              "    <tr>\n",
              "      <th>Regressao Linear Default</th>\n",
              "      <td>0.475739</td>\n",
              "      <td>319.482169</td>\n",
              "      <td>247.837282</td>\n",
              "      <td>1.358084e+19</td>\n",
              "    </tr>\n",
              "    <tr>\n",
              "      <th>Regressao Linear Bagging</th>\n",
              "      <td>0.475934</td>\n",
              "      <td>319.422842</td>\n",
              "      <td>248.092450</td>\n",
              "      <td>1.353591e+19</td>\n",
              "    </tr>\n",
              "    <tr>\n",
              "      <th>SVR Regression</th>\n",
              "      <td>-0.000887</td>\n",
              "      <td>441.433723</td>\n",
              "      <td>354.291421</td>\n",
              "      <td>3.458119e+19</td>\n",
              "    </tr>\n",
              "  </tbody>\n",
              "</table>\n",
              "</div>"
            ],
            "text/plain": [
              "                                      R2        RMSE         MAE          MAPE\n",
              "GradientBoostingRegressor       0.957011   91.484948   58.921671  3.807748e+18\n",
              "Stacking Regressors             0.957860   90.577826   60.187934  3.684428e+18\n",
              "RandomForest Default            0.919496  125.193705   68.679556  3.896226e+18\n",
              "RandomForest GridSearched       0.936495  111.192621   70.028200  3.413658e+18\n",
              "RandomForest Bagging            0.936290  111.371839   71.287584  4.122329e+18\n",
              "Decision Tree Bagging           0.909524  132.720835   74.196412  4.139324e+18\n",
              "Arvore de Decisao               0.881583  151.837603   83.092728  2.844534e+18\n",
              "Ridge Regression                0.475805  319.462070  247.810547  1.357519e+19\n",
              "Regressao Linear Grid Searched  0.475763  319.474757  247.819966  1.362699e+19\n",
              "Regressao Linear Default        0.475739  319.482169  247.837282  1.358084e+19\n",
              "Regressao Linear Bagging        0.475934  319.422842  248.092450  1.353591e+19\n",
              "SVR Regression                 -0.000887  441.433723  354.291421  3.458119e+19"
            ]
          },
          "execution_count": 26,
          "metadata": {},
          "output_type": "execute_result"
        }
      ],
      "source": [
        "performance_total"
      ]
    },
    {
      "cell_type": "markdown",
      "metadata": {
        "nteract": {
          "transient": {
            "deleting": false
          }
        }
      },
      "source": [
        "### Todos os modelos treinados dentro de *model_list*"
      ]
    },
    {
      "cell_type": "code",
      "execution_count": 27,
      "metadata": {
        "collapsed": true,
        "gather": {
          "logged": 1632363793252
        },
        "jupyter": {
          "outputs_hidden": false,
          "source_hidden": false
        },
        "nteract": {
          "transient": {
            "deleting": false
          }
        }
      },
      "outputs": [],
      "source": [
        "model_list = [\n",
        "    stack,\n",
        "    gradient_boosting_regressor,\n",
        "    bagging_rf_model,\n",
        "    default_randomforest_model,\n",
        "    gridsearch_result_randomforest\n",
        "]"
      ]
    },
    {
      "cell_type": "code",
      "execution_count": 28,
      "metadata": {},
      "outputs": [
        {
          "data": {
            "text/html": [
              "<div>\n",
              "<style scoped>\n",
              "    .dataframe tbody tr th:only-of-type {\n",
              "        vertical-align: middle;\n",
              "    }\n",
              "\n",
              "    .dataframe tbody tr th {\n",
              "        vertical-align: top;\n",
              "    }\n",
              "\n",
              "    .dataframe thead th {\n",
              "        text-align: right;\n",
              "    }\n",
              "</style>\n",
              "<table border=\"1\" class=\"dataframe\">\n",
              "  <thead>\n",
              "    <tr style=\"text-align: right;\">\n",
              "      <th></th>\n",
              "      <th>linha</th>\n",
              "      <th>data_hora</th>\n",
              "      <th>validations_per_hour</th>\n",
              "      <th>d_semana</th>\n",
              "      <th>hour_sin</th>\n",
              "      <th>hour_cos</th>\n",
              "      <th>hora</th>\n",
              "      <th>d_mes</th>\n",
              "      <th>d_ano</th>\n",
              "      <th>mes</th>\n",
              "      <th>semana_do_mes</th>\n",
              "      <th>domingo</th>\n",
              "      <th>segunda</th>\n",
              "      <th>terca</th>\n",
              "      <th>quarta</th>\n",
              "      <th>quinta</th>\n",
              "      <th>sexta</th>\n",
              "      <th>sabado</th>\n",
              "      <th>feriado</th>\n",
              "      <th>vespera_feriado</th>\n",
              "    </tr>\n",
              "  </thead>\n",
              "  <tbody>\n",
              "    <tr>\n",
              "      <th>230377</th>\n",
              "      <td>41</td>\n",
              "      <td>2015-01-02 01:00:00</td>\n",
              "      <td>0</td>\n",
              "      <td>4</td>\n",
              "      <td>2.697968e-01</td>\n",
              "      <td>0.962917</td>\n",
              "      <td>1</td>\n",
              "      <td>2</td>\n",
              "      <td>2</td>\n",
              "      <td>1</td>\n",
              "      <td>1</td>\n",
              "      <td>0.0</td>\n",
              "      <td>0.0</td>\n",
              "      <td>0.0</td>\n",
              "      <td>0.0</td>\n",
              "      <td>1.0</td>\n",
              "      <td>0.0</td>\n",
              "      <td>0.0</td>\n",
              "      <td>0</td>\n",
              "      <td>0</td>\n",
              "    </tr>\n",
              "    <tr>\n",
              "      <th>230378</th>\n",
              "      <td>41</td>\n",
              "      <td>2015-01-02 02:00:00</td>\n",
              "      <td>0</td>\n",
              "      <td>4</td>\n",
              "      <td>5.195840e-01</td>\n",
              "      <td>0.854419</td>\n",
              "      <td>2</td>\n",
              "      <td>2</td>\n",
              "      <td>2</td>\n",
              "      <td>1</td>\n",
              "      <td>1</td>\n",
              "      <td>0.0</td>\n",
              "      <td>0.0</td>\n",
              "      <td>0.0</td>\n",
              "      <td>0.0</td>\n",
              "      <td>1.0</td>\n",
              "      <td>0.0</td>\n",
              "      <td>0.0</td>\n",
              "      <td>0</td>\n",
              "      <td>0</td>\n",
              "    </tr>\n",
              "    <tr>\n",
              "      <th>230379</th>\n",
              "      <td>41</td>\n",
              "      <td>2015-01-02 03:00:00</td>\n",
              "      <td>0</td>\n",
              "      <td>4</td>\n",
              "      <td>7.308360e-01</td>\n",
              "      <td>0.682553</td>\n",
              "      <td>3</td>\n",
              "      <td>2</td>\n",
              "      <td>2</td>\n",
              "      <td>1</td>\n",
              "      <td>1</td>\n",
              "      <td>0.0</td>\n",
              "      <td>0.0</td>\n",
              "      <td>0.0</td>\n",
              "      <td>0.0</td>\n",
              "      <td>1.0</td>\n",
              "      <td>0.0</td>\n",
              "      <td>0.0</td>\n",
              "      <td>0</td>\n",
              "      <td>0</td>\n",
              "    </tr>\n",
              "    <tr>\n",
              "      <th>230380</th>\n",
              "      <td>41</td>\n",
              "      <td>2015-01-03 01:00:00</td>\n",
              "      <td>0</td>\n",
              "      <td>5</td>\n",
              "      <td>2.697968e-01</td>\n",
              "      <td>0.962917</td>\n",
              "      <td>1</td>\n",
              "      <td>3</td>\n",
              "      <td>3</td>\n",
              "      <td>1</td>\n",
              "      <td>1</td>\n",
              "      <td>0.0</td>\n",
              "      <td>0.0</td>\n",
              "      <td>0.0</td>\n",
              "      <td>0.0</td>\n",
              "      <td>0.0</td>\n",
              "      <td>1.0</td>\n",
              "      <td>0.0</td>\n",
              "      <td>0</td>\n",
              "      <td>0</td>\n",
              "    </tr>\n",
              "    <tr>\n",
              "      <th>230381</th>\n",
              "      <td>41</td>\n",
              "      <td>2015-01-03 02:00:00</td>\n",
              "      <td>0</td>\n",
              "      <td>5</td>\n",
              "      <td>5.195840e-01</td>\n",
              "      <td>0.854419</td>\n",
              "      <td>2</td>\n",
              "      <td>3</td>\n",
              "      <td>3</td>\n",
              "      <td>1</td>\n",
              "      <td>1</td>\n",
              "      <td>0.0</td>\n",
              "      <td>0.0</td>\n",
              "      <td>0.0</td>\n",
              "      <td>0.0</td>\n",
              "      <td>0.0</td>\n",
              "      <td>1.0</td>\n",
              "      <td>0.0</td>\n",
              "      <td>0</td>\n",
              "      <td>0</td>\n",
              "    </tr>\n",
              "    <tr>\n",
              "      <th>...</th>\n",
              "      <td>...</td>\n",
              "      <td>...</td>\n",
              "      <td>...</td>\n",
              "      <td>...</td>\n",
              "      <td>...</td>\n",
              "      <td>...</td>\n",
              "      <td>...</td>\n",
              "      <td>...</td>\n",
              "      <td>...</td>\n",
              "      <td>...</td>\n",
              "      <td>...</td>\n",
              "      <td>...</td>\n",
              "      <td>...</td>\n",
              "      <td>...</td>\n",
              "      <td>...</td>\n",
              "      <td>...</td>\n",
              "      <td>...</td>\n",
              "      <td>...</td>\n",
              "      <td>...</td>\n",
              "      <td>...</td>\n",
              "    </tr>\n",
              "    <tr>\n",
              "      <th>239285</th>\n",
              "      <td>41</td>\n",
              "      <td>2015-12-31 19:00:00</td>\n",
              "      <td>574</td>\n",
              "      <td>3</td>\n",
              "      <td>-8.878852e-01</td>\n",
              "      <td>0.460065</td>\n",
              "      <td>19</td>\n",
              "      <td>31</td>\n",
              "      <td>365</td>\n",
              "      <td>12</td>\n",
              "      <td>4</td>\n",
              "      <td>0.0</td>\n",
              "      <td>0.0</td>\n",
              "      <td>0.0</td>\n",
              "      <td>1.0</td>\n",
              "      <td>0.0</td>\n",
              "      <td>0.0</td>\n",
              "      <td>0.0</td>\n",
              "      <td>0</td>\n",
              "      <td>1</td>\n",
              "    </tr>\n",
              "    <tr>\n",
              "      <th>239286</th>\n",
              "      <td>41</td>\n",
              "      <td>2015-12-31 20:00:00</td>\n",
              "      <td>432</td>\n",
              "      <td>3</td>\n",
              "      <td>-7.308360e-01</td>\n",
              "      <td>0.682553</td>\n",
              "      <td>20</td>\n",
              "      <td>31</td>\n",
              "      <td>365</td>\n",
              "      <td>12</td>\n",
              "      <td>4</td>\n",
              "      <td>0.0</td>\n",
              "      <td>0.0</td>\n",
              "      <td>0.0</td>\n",
              "      <td>1.0</td>\n",
              "      <td>0.0</td>\n",
              "      <td>0.0</td>\n",
              "      <td>0.0</td>\n",
              "      <td>0</td>\n",
              "      <td>1</td>\n",
              "    </tr>\n",
              "    <tr>\n",
              "      <th>239287</th>\n",
              "      <td>41</td>\n",
              "      <td>2015-12-31 21:00:00</td>\n",
              "      <td>331</td>\n",
              "      <td>3</td>\n",
              "      <td>-5.195840e-01</td>\n",
              "      <td>0.854419</td>\n",
              "      <td>21</td>\n",
              "      <td>31</td>\n",
              "      <td>365</td>\n",
              "      <td>12</td>\n",
              "      <td>4</td>\n",
              "      <td>0.0</td>\n",
              "      <td>0.0</td>\n",
              "      <td>0.0</td>\n",
              "      <td>1.0</td>\n",
              "      <td>0.0</td>\n",
              "      <td>0.0</td>\n",
              "      <td>0.0</td>\n",
              "      <td>0</td>\n",
              "      <td>1</td>\n",
              "    </tr>\n",
              "    <tr>\n",
              "      <th>239288</th>\n",
              "      <td>41</td>\n",
              "      <td>2015-12-31 22:00:00</td>\n",
              "      <td>178</td>\n",
              "      <td>3</td>\n",
              "      <td>-2.697968e-01</td>\n",
              "      <td>0.962917</td>\n",
              "      <td>22</td>\n",
              "      <td>31</td>\n",
              "      <td>365</td>\n",
              "      <td>12</td>\n",
              "      <td>4</td>\n",
              "      <td>0.0</td>\n",
              "      <td>0.0</td>\n",
              "      <td>0.0</td>\n",
              "      <td>1.0</td>\n",
              "      <td>0.0</td>\n",
              "      <td>0.0</td>\n",
              "      <td>0.0</td>\n",
              "      <td>0</td>\n",
              "      <td>1</td>\n",
              "    </tr>\n",
              "    <tr>\n",
              "      <th>239289</th>\n",
              "      <td>41</td>\n",
              "      <td>2015-12-31 23:00:00</td>\n",
              "      <td>33</td>\n",
              "      <td>3</td>\n",
              "      <td>-2.449294e-16</td>\n",
              "      <td>1.000000</td>\n",
              "      <td>23</td>\n",
              "      <td>31</td>\n",
              "      <td>365</td>\n",
              "      <td>12</td>\n",
              "      <td>4</td>\n",
              "      <td>0.0</td>\n",
              "      <td>0.0</td>\n",
              "      <td>0.0</td>\n",
              "      <td>1.0</td>\n",
              "      <td>0.0</td>\n",
              "      <td>0.0</td>\n",
              "      <td>0.0</td>\n",
              "      <td>0</td>\n",
              "      <td>1</td>\n",
              "    </tr>\n",
              "  </tbody>\n",
              "</table>\n",
              "<p>8913 rows × 20 columns</p>\n",
              "</div>"
            ],
            "text/plain": [
              "        linha           data_hora  validations_per_hour  d_semana  \\\n",
              "230377     41 2015-01-02 01:00:00                     0         4   \n",
              "230378     41 2015-01-02 02:00:00                     0         4   \n",
              "230379     41 2015-01-02 03:00:00                     0         4   \n",
              "230380     41 2015-01-03 01:00:00                     0         5   \n",
              "230381     41 2015-01-03 02:00:00                     0         5   \n",
              "...       ...                 ...                   ...       ...   \n",
              "239285     41 2015-12-31 19:00:00                   574         3   \n",
              "239286     41 2015-12-31 20:00:00                   432         3   \n",
              "239287     41 2015-12-31 21:00:00                   331         3   \n",
              "239288     41 2015-12-31 22:00:00                   178         3   \n",
              "239289     41 2015-12-31 23:00:00                    33         3   \n",
              "\n",
              "            hour_sin  hour_cos  hora  d_mes  d_ano  mes  semana_do_mes  \\\n",
              "230377  2.697968e-01  0.962917     1      2      2    1              1   \n",
              "230378  5.195840e-01  0.854419     2      2      2    1              1   \n",
              "230379  7.308360e-01  0.682553     3      2      2    1              1   \n",
              "230380  2.697968e-01  0.962917     1      3      3    1              1   \n",
              "230381  5.195840e-01  0.854419     2      3      3    1              1   \n",
              "...              ...       ...   ...    ...    ...  ...            ...   \n",
              "239285 -8.878852e-01  0.460065    19     31    365   12              4   \n",
              "239286 -7.308360e-01  0.682553    20     31    365   12              4   \n",
              "239287 -5.195840e-01  0.854419    21     31    365   12              4   \n",
              "239288 -2.697968e-01  0.962917    22     31    365   12              4   \n",
              "239289 -2.449294e-16  1.000000    23     31    365   12              4   \n",
              "\n",
              "        domingo  segunda  terca  quarta  quinta  sexta  sabado  feriado  \\\n",
              "230377      0.0      0.0    0.0     0.0     1.0    0.0     0.0        0   \n",
              "230378      0.0      0.0    0.0     0.0     1.0    0.0     0.0        0   \n",
              "230379      0.0      0.0    0.0     0.0     1.0    0.0     0.0        0   \n",
              "230380      0.0      0.0    0.0     0.0     0.0    1.0     0.0        0   \n",
              "230381      0.0      0.0    0.0     0.0     0.0    1.0     0.0        0   \n",
              "...         ...      ...    ...     ...     ...    ...     ...      ...   \n",
              "239285      0.0      0.0    0.0     1.0     0.0    0.0     0.0        0   \n",
              "239286      0.0      0.0    0.0     1.0     0.0    0.0     0.0        0   \n",
              "239287      0.0      0.0    0.0     1.0     0.0    0.0     0.0        0   \n",
              "239288      0.0      0.0    0.0     1.0     0.0    0.0     0.0        0   \n",
              "239289      0.0      0.0    0.0     1.0     0.0    0.0     0.0        0   \n",
              "\n",
              "        vespera_feriado  \n",
              "230377                0  \n",
              "230378                0  \n",
              "230379                0  \n",
              "230380                0  \n",
              "230381                0  \n",
              "...                 ...  \n",
              "239285                1  \n",
              "239286                1  \n",
              "239287                1  \n",
              "239288                1  \n",
              "239289                1  \n",
              "\n",
              "[8913 rows x 20 columns]"
            ]
          },
          "execution_count": 28,
          "metadata": {},
          "output_type": "execute_result"
        }
      ],
      "source": [
        "line_data_model"
      ]
    },
    {
      "cell_type": "code",
      "execution_count": 29,
      "id": "0ea61126",
      "metadata": {},
      "outputs": [
        {
          "data": {
            "text/html": [
              "<div>\n",
              "<style scoped>\n",
              "    .dataframe tbody tr th:only-of-type {\n",
              "        vertical-align: middle;\n",
              "    }\n",
              "\n",
              "    .dataframe tbody tr th {\n",
              "        vertical-align: top;\n",
              "    }\n",
              "\n",
              "    .dataframe thead th {\n",
              "        text-align: right;\n",
              "    }\n",
              "</style>\n",
              "<table border=\"1\" class=\"dataframe\">\n",
              "  <thead>\n",
              "    <tr style=\"text-align: right;\">\n",
              "      <th></th>\n",
              "      <th>R2</th>\n",
              "      <th>RMSE</th>\n",
              "      <th>MAE</th>\n",
              "      <th>MAPE</th>\n",
              "    </tr>\n",
              "  </thead>\n",
              "  <tbody>\n",
              "    <tr>\n",
              "      <th>GradientBoostingRegressor</th>\n",
              "      <td>0.957011</td>\n",
              "      <td>91.484948</td>\n",
              "      <td>58.921671</td>\n",
              "      <td>3.807748e+18</td>\n",
              "    </tr>\n",
              "    <tr>\n",
              "      <th>Stacking Regressors</th>\n",
              "      <td>0.957860</td>\n",
              "      <td>90.577826</td>\n",
              "      <td>60.187934</td>\n",
              "      <td>3.684428e+18</td>\n",
              "    </tr>\n",
              "    <tr>\n",
              "      <th>RandomForest Default</th>\n",
              "      <td>0.919496</td>\n",
              "      <td>125.193705</td>\n",
              "      <td>68.679556</td>\n",
              "      <td>3.896226e+18</td>\n",
              "    </tr>\n",
              "    <tr>\n",
              "      <th>RandomForest GridSearched</th>\n",
              "      <td>0.936495</td>\n",
              "      <td>111.192621</td>\n",
              "      <td>70.028200</td>\n",
              "      <td>3.413658e+18</td>\n",
              "    </tr>\n",
              "    <tr>\n",
              "      <th>RandomForest Bagging</th>\n",
              "      <td>0.936290</td>\n",
              "      <td>111.371839</td>\n",
              "      <td>71.287584</td>\n",
              "      <td>4.122329e+18</td>\n",
              "    </tr>\n",
              "    <tr>\n",
              "      <th>Decision Tree Bagging</th>\n",
              "      <td>0.909524</td>\n",
              "      <td>132.720835</td>\n",
              "      <td>74.196412</td>\n",
              "      <td>4.139324e+18</td>\n",
              "    </tr>\n",
              "    <tr>\n",
              "      <th>Arvore de Decisao</th>\n",
              "      <td>0.881583</td>\n",
              "      <td>151.837603</td>\n",
              "      <td>83.092728</td>\n",
              "      <td>2.844534e+18</td>\n",
              "    </tr>\n",
              "    <tr>\n",
              "      <th>Ridge Regression</th>\n",
              "      <td>0.475805</td>\n",
              "      <td>319.462070</td>\n",
              "      <td>247.810547</td>\n",
              "      <td>1.357519e+19</td>\n",
              "    </tr>\n",
              "    <tr>\n",
              "      <th>Regressao Linear Grid Searched</th>\n",
              "      <td>0.475763</td>\n",
              "      <td>319.474757</td>\n",
              "      <td>247.819966</td>\n",
              "      <td>1.362699e+19</td>\n",
              "    </tr>\n",
              "    <tr>\n",
              "      <th>Regressao Linear Default</th>\n",
              "      <td>0.475739</td>\n",
              "      <td>319.482169</td>\n",
              "      <td>247.837282</td>\n",
              "      <td>1.358084e+19</td>\n",
              "    </tr>\n",
              "    <tr>\n",
              "      <th>Regressao Linear Bagging</th>\n",
              "      <td>0.475934</td>\n",
              "      <td>319.422842</td>\n",
              "      <td>248.092450</td>\n",
              "      <td>1.353591e+19</td>\n",
              "    </tr>\n",
              "    <tr>\n",
              "      <th>SVR Regression</th>\n",
              "      <td>-0.000887</td>\n",
              "      <td>441.433723</td>\n",
              "      <td>354.291421</td>\n",
              "      <td>3.458119e+19</td>\n",
              "    </tr>\n",
              "  </tbody>\n",
              "</table>\n",
              "</div>"
            ],
            "text/plain": [
              "                                      R2        RMSE         MAE          MAPE\n",
              "GradientBoostingRegressor       0.957011   91.484948   58.921671  3.807748e+18\n",
              "Stacking Regressors             0.957860   90.577826   60.187934  3.684428e+18\n",
              "RandomForest Default            0.919496  125.193705   68.679556  3.896226e+18\n",
              "RandomForest GridSearched       0.936495  111.192621   70.028200  3.413658e+18\n",
              "RandomForest Bagging            0.936290  111.371839   71.287584  4.122329e+18\n",
              "Decision Tree Bagging           0.909524  132.720835   74.196412  4.139324e+18\n",
              "Arvore de Decisao               0.881583  151.837603   83.092728  2.844534e+18\n",
              "Ridge Regression                0.475805  319.462070  247.810547  1.357519e+19\n",
              "Regressao Linear Grid Searched  0.475763  319.474757  247.819966  1.362699e+19\n",
              "Regressao Linear Default        0.475739  319.482169  247.837282  1.358084e+19\n",
              "Regressao Linear Bagging        0.475934  319.422842  248.092450  1.353591e+19\n",
              "SVR Regression                 -0.000887  441.433723  354.291421  3.458119e+19"
            ]
          },
          "execution_count": 29,
          "metadata": {},
          "output_type": "execute_result"
        }
      ],
      "source": [
        "performance_total"
      ]
    },
    {
      "cell_type": "code",
      "execution_count": 30,
      "id": "9f46a4de",
      "metadata": {},
      "outputs": [],
      "source": [
        "def get_performance(model):\n",
        "    y_test_predict = model.predict(X_test)\n",
        "    mse = mean_squared_error(Y_test, y_test_predict)\n",
        "    rmse = (np.sqrt(mse))\n",
        "    r2 = r2_score(Y_test, y_test_predict)\n",
        "    mae = mean_absolute_error(Y_test, y_test_predict)\n",
        "    mape = mean_absolute_percentage_error(Y_test, y_test_predict)\n",
        "    performance_scoring = [\n",
        "        r2,\n",
        "        rmse,\n",
        "        mae,\n",
        "        mape\n",
        "    ]\n",
        "    #performance_scoring = pd.DataFrame(performance_scoring,columns=['Metrica', 'Score'])\n",
        "    #performance_scoring['Score'] = performance_scoring['Score'].astype('float64')\n",
        "    return performance_scoring"
      ]
    },
    {
      "cell_type": "code",
      "execution_count": 31,
      "id": "2ab117cd",
      "metadata": {},
      "outputs": [],
      "source": [
        "\n",
        "# brf = BaggingRegressor(base_estimator=RandomForestModel,\n",
        "#                             n_estimators=10,\n",
        "#                             max_samples=1.0,\n",
        "#                             bootstrap=True, # Samples are drawn with replacement\n",
        "#                             n_jobs= n_jobs,\n",
        "#                             random_state=random_state).fit(X_train, Y_train)"
      ]
    },
    {
      "cell_type": "markdown",
      "metadata": {},
      "source": [
        "# Prever 24hrs (geracao de grafico)"
      ]
    },
    {
      "cell_type": "code",
      "execution_count": 148,
      "id": "1b23612f",
      "metadata": {},
      "outputs": [
        {
          "name": "stdout",
          "output_type": "stream",
          "text": [
            "          0          1          2             3\n",
            "0  0.976612  68.787691  45.162029  3.991455e+15\n",
            "          0          1          2             3\n",
            "0  0.977506  67.459835  45.432132  3.154091e+15\n",
            "          0          1          2             3\n",
            "0  0.977039  68.157761  45.554951  3.686475e+15\n",
            "          0          1          2             3\n",
            "0  0.977407  67.608861  44.895625  2.901340e+15\n",
            "          0          1          2             3\n",
            "0  0.976672  68.700117  45.168432  3.158101e+15\n",
            "          0          1          2             3\n",
            "0  0.977685  67.192271  45.441236  2.966767e+15\n",
            "          0          1          2             3\n",
            "0  0.976884  68.387232  45.012033  2.888441e+15\n",
            "          0          1          2             3\n",
            "0  0.977266  67.818923  45.168537  3.981965e+15\n",
            "          0          1          2             3\n",
            "0  0.977025  68.178603  45.215302  4.152958e+15\n",
            "          0          1          2             3\n",
            "0  0.977842  66.954869  44.768669  2.351535e+15\n",
            "          0          1          2             3\n",
            "0  0.976927  68.323737  45.399254  2.884683e+15\n"
          ]
        }
      ],
      "source": [
        "# model_list = [\n",
        "#     stack,\n",
        "#     gradient_boosting_regressor,\n",
        "#     bagging_rf_model,\n",
        "#     default_randomforest_model,\n",
        "#     gridsearch_result_randomforest\n",
        "# RandomForest GridSearched\n",
        "# RandomForest Bagging\n",
        "\n",
        "\n",
        "    # objective ='reg:linear',\n",
        "                  \n",
        "  \n",
        "# Fitting the model\n",
        "xgb_r = xg.XGBRegressor(n_estimators = 100, eval_metric='mae', booster='gbtree')\n",
        "for i in range(0, 11):\n",
        "    meses_de_treino = [1,2,3]\n",
        "    mes_de_previsao = 4\n",
        "\n",
        "    line_mes_data_model = line_data_model[line_data_model.mes.isin(meses_de_treino)].copy()\n",
        "\n",
        "    X = line_mes_data_model.filter(feature_names, axis=1)\n",
        "    y = line_mes_data_model.validations_per_hour\n",
        "    X_train, X_test, Y_train, Y_test = train_test_split(X, y, test_size = 0.2, random_state=7)\n",
        "\n",
        "    estimators = [\n",
        "        ('decision_tree', dtm),\n",
        "        # ('bagging_dtm', bagging_dt_model),\n",
        "        ('linear_regression',LinearRegressionModel),\n",
        "        # ('e_gradient_boosting', xgb_r),\n",
        "        # ('t',lgb.LGBMRegressor(n_estimators=5000, bagging_freq = 24, random_state = 42))\n",
        "    ]\n",
        "\n",
        "    stack = StackingRegressor(estimators=estimators, final_estimator=RandomForestModel, cv= 7, passthrough = True)\n",
        "    \n",
        "    model = stack\n",
        "\n",
        "    line_mes_data_model_predict = line_data_model[line_data_model.mes == mes_de_previsao].copy()\n",
        "    # .loc[line_mes_data_model_predict.d_mes < 6]\n",
        "    df_prev = line_mes_data_model_predict[line_mes_data_model_predict.d_mes >= 1].filter(feature_names, axis = 1).copy()\n",
        "    real_values = pd.DataFrame(line_mes_data_model_predict[line_mes_data_model_predict.d_mes >= 1].validations_per_hour).copy()\n",
        "\n",
        "    predictions = []\n",
        "    performances = list()\n",
        "\n",
        "    model.fit(X_train, Y_train)\n",
        "    performances.append(get_performance(model))\n",
        "\n",
        "    for index, row in df_prev.iterrows():\n",
        "        row_df = pd.DataFrame(row).T\n",
        "        predictions.append(model.predict(row_df.values)[0])\n",
        "    \n",
        "    df_performance = pd.DataFrame(performances)\n",
        "    df_predict_dados = real_values\n",
        "    df_predict_dados['validations_per_hour_predicted'] = predictions\n",
        "    print(df_performance)"
      ]
    },
    {
      "cell_type": "code",
      "execution_count": 149,
      "metadata": {},
      "outputs": [
        {
          "data": {
            "image/png": "[encoded data removed]",
            "text/plain": [
              "<Figure size 1440x720 with 1 Axes>"
            ]
          },
          "metadata": {
            "needs_background": "light"
          },
          "output_type": "display_data"
        }
      ],
      "source": [
        "# 168 == quantidade de horas previstas em 1 semana\n",
        "plt_size = 168\n",
        "# plt.rc('patch',linewidth=2)\n",
        "plt.rc('axes', linewidth=2, labelpad=5)\n",
        "# plt.rc('xtick.minor', size=8, width=4)\n",
        "# plt.rc('ytick.minor', size=8, width=4)\n",
        "# ax.set_facecolor(\"white\")\n",
        "plt.rc('text', usetex=True)\n",
        "plt.rc('font', family='serif', serif='Computer Modern', size=42)\n",
        "plt.figure(figsize=(20,10))\n",
        "plt.plot(range(df_predict_dados.validations_per_hour.size), df_predict_dados.validations_per_hour.values, color='navy', label=\"Valores reais\")\n",
        "plt.plot(range(predictions.__len__()), predictions, color='darkorange',linestyle='dashed', label=\"Valores previstos\", linewidth=4)\n",
        "# plt.plot(range(df_Abril_xGB.__len__()), df_Abril_xGB, color='indigo',linestyle='dashed', label=\"Valores previstos: Random Forest\", linewidth=2)\n",
        "# plt.plot(range(df_Abril_StackingA.__len__()), df_Abril_StackingA, color='rebeccapurple',linestyle='dashed', label=\"Valores previstos: Stacking A\", linewidth=2)\n",
        "\n",
        "\n",
        "# plt.xticks(range(0,24))\n",
        "plt.legend(fontsize=30)\n",
        "plt.xlabel('Hora', fontsize=32)\n",
        "plt.xticks(fontsize=32)\n",
        "plt.yticks(fontsize=32)\n",
        "plt.title(\"Stacking eGB - Treinado com os meses de fevereiro a dezembro - Prevendo primeira semana de janeiro\", fontsize=32)\n",
        "plt.ylabel('Quantidade de embarques', fontsize=32)\n",
        "plt.savefig(f'../images/stacking-egb-{year}-all-predict-janeiro-w1.pdf')\n",
        "plt.show()"
      ]
    },
    {
      "cell_type": "code",
      "execution_count": 150,
      "id": "b960ad55",
      "metadata": {},
      "outputs": [
        {
          "data": {
            "image/png": "[encoded data removed]",
            "text/plain": [
              "<Figure size 720x720 with 1 Axes>"
            ]
          },
          "metadata": {
            "needs_background": "light"
          },
          "output_type": "display_data"
        }
      ],
      "source": [
        "\n",
        "real_values = df_predict_dados.validations_per_hour\n",
        "predictions = predictions\n",
        "\n",
        "plt.rc('patch',linewidth=2)\n",
        "plt.rc('axes', linewidth=2, labelpad=5)\n",
        "plt.rc('xtick.minor', size=8, width=4)\n",
        "plt.rc('ytick.minor', size=8, width=4)\n",
        "\n",
        "plt.rc('text', usetex=True)\n",
        "plt.rc('font', family='serif', serif='Computer Modern', size=18)\n",
        "plt.figure(figsize=(10,10))\n",
        "plt.scatter(real_values, predictions, c='darkcyan')\n",
        "\n",
        "p1 = max(max(predictions), max(real_values.values))\n",
        "p2 = min(min(predictions), min(real_values.values))\n",
        "plt.plot([p1, p2], [p1, p2], 'brown')\n",
        "\n",
        "plt.xlabel('Valores Reais', fontsize=18)\n",
        "plt.ylabel('Valores previstos', fontsize=18)\n",
        "plt.axis('equal')\n",
        "\n",
        "plt.savefig(f'../images/stacking-egb-{year}-all-predict-janeiro-w1-scatterplot.pdf')\n",
        "plt.show()"
      ]
    },
    {
      "cell_type": "code",
      "execution_count": null,
      "id": "477170da",
      "metadata": {},
      "outputs": [],
      "source": [
        "\n"
      ]
    },
    {
      "cell_type": "markdown",
      "metadata": {
        "nteract": {
          "transient": {
            "deleting": false
          }
        }
      },
      "source": [
        "# Treinar com 1 mes, prever N semanas"
      ]
    },
    {
      "cell_type": "code",
      "execution_count": null,
      "metadata": {
        "gather": {
          "logged": 1632364536684
        },
        "jupyter": {
          "outputs_hidden": false,
          "source_hidden": false
        },
        "nteract": {
          "transient": {
            "deleting": false
          }
        }
      },
      "outputs": [],
      "source": [
        "# Jan, Fev, Mar, Abril, Maio\n",
        "# treina com mar, preve 2 semanas de abril\n",
        "\n",
        "# meses_de_treino = [1,2,3]\n",
        "# mes_de_previsao = 4\n",
        "\n",
        "# line_mes_data_model = line_data_model[line_data_model.mes.isin(meses_de_treino)]\n",
        "\n",
        "# line_mes_data_model_predict = line_data_model[line_data_model.mes == mes_de_previsao]\n",
        "\n",
        "# df_prev = line_mes_data_model_predict[line_mes_data_model_predict.d_mes <  8].filter(feature_names, axis = 1)\n",
        "# real_values = pd.DataFrame(line_mes_data_model_predict[line_mes_data_model_predict.d_mes <  8].validations_per_hour)\n",
        "\n",
        "# X = line_mes_data_model.filter(feature_names, axis=1)\n",
        "# y = line_mes_data_model.validations_per_hour\n",
        "# X_train, X_test, Y_train, Y_test = train_test_split(X, y, test_size = 0.2, random_state=5)\n",
        "\n",
        "# predictions = [[],[],[],[],[]]\n",
        "# performances = list()\n",
        "\n",
        "# for i, model in enumerate(model_list):\n",
        "#         model.fit(X_train, Y_train)\n",
        "#         performances.append(get_performance(model))\n",
        "\n",
        "#         for index, row in df_prev.iterrows():\n",
        "#             predictions[i].append(model.predict([row])[0])\n"
      ]
    },
    {
      "cell_type": "code",
      "execution_count": null,
      "metadata": {},
      "outputs": [],
      "source": [
        "# df_performance = pd.DataFrame(performances)\n",
        "# df_performance.to_csv('../performances/2015/linha'+str(busline_filter)+'_'+str(meses_de_treino)+'meses_1semana('+str(mes_de_previsao)+')_performance.csv', index=False)\n",
        "# df_predict_dados = real_values\n",
        "# df_predict_dados['validations_per_hour_predicted'] = predictions[0]\n",
        "\n",
        "# df_predict_dados.to_csv('../predict-vs-real/2015/linha'+str(busline_filter)+'_'+str(meses_de_treino)+'meses_1semana('+str(mes_de_previsao)+')_predict.csv', index=False)\n",
        "\n",
        "# df_performance"
      ]
    },
    {
      "cell_type": "code",
      "execution_count": null,
      "metadata": {},
      "outputs": [],
      "source": [
        "# # 168 == quantidade de horas previstas em 1 semana\n",
        "# plt_size = 168\n",
        "\n",
        "# plt.figure(figsize=(30, 10))\n",
        "# plt.plot(range(df_predict_dados.validations_per_hour.size), df_predict_dados.validations_per_hour.values, color='blue')\n",
        "# plt.plot(range(predictions[0].__len__()), predictions[0], color='red')\n",
        "# plt.xlabel('True Values')\n",
        "# plt.ylabel('Predictions')\n",
        "# plt.show()"
      ]
    },
    {
      "cell_type": "code",
      "execution_count": null,
      "metadata": {},
      "outputs": [],
      "source": [
        "# line_data_model.loc[line_data_model.mes == 4].loc[line_data_model.d_mes < 8]"
      ]
    },
    {
      "cell_type": "markdown",
      "metadata": {
        "nteract": {
          "transient": {
            "deleting": false
          }
        }
      },
      "source": [
        "### Treinar com (N-Y) meses, Prever mes (N)"
      ]
    },
    {
      "cell_type": "code",
      "execution_count": null,
      "metadata": {
        "gather": {
          "logged": 1631467016584
        },
        "jupyter": {
          "outputs_hidden": false,
          "source_hidden": false
        },
        "nteract": {
          "transient": {
            "deleting": false
          }
        }
      },
      "outputs": [],
      "source": [
        "# # Jan, Fev, Mar, Abril, Maio\n",
        "# # treina com mar, preve 2 semanas de abril\n",
        "\n",
        "# meses_de_treino = [1,2,3]\n",
        "# mes_de_previsao = 4\n",
        "# dias_de_previsao = 7\n",
        "\n",
        "# line_mes_data_model = line_data_model[line_data_model.mes.isin(meses_de_treino)]\n",
        "\n",
        "# line_mes_data_model_predict = line_data_model[line_data_model.mes == mes_de_previsao]\n",
        "\n",
        "# df_prev = line_mes_data_model_predict[line_mes_data_model_predict.d_mes <  dias_de_previsao+1].filter(feature_names, axis = 1)\n",
        "# real_values = pd.DataFrame(line_mes_data_model_predict[line_mes_data_model_predict.d_mes <  dias_de_previsao+1].validations_per_hour)\n",
        "\n",
        "# X = line_mes_data_model.filter(feature_names, axis=1)\n",
        "# y = line_mes_data_model.validations_per_hour\n",
        "# X_train, X_test, Y_train, Y_test = train_test_split(X, y, test_size = 0.2, random_state=5)\n",
        "\n",
        "# predictions = [[],[],[],[],[]]\n",
        "# performances = list()\n",
        "\n",
        "# for i, model in enumerate(model_list):\n",
        "#         model.fit(X_train, Y_train)\n",
        "#         performances.append(get_performance(model))\n",
        "\n",
        "#         for index, row in df_prev.iterrows():\n",
        "#             predictions[i].append(model.predict([row])[0])\n"
      ]
    },
    {
      "cell_type": "code",
      "execution_count": null,
      "metadata": {
        "gather": {
          "logged": 1631409753552
        },
        "jupyter": {
          "outputs_hidden": false,
          "source_hidden": false
        },
        "nteract": {
          "transient": {
            "deleting": false
          }
        }
      },
      "outputs": [],
      "source": [
        "# 168 == quantidade de horas previstas em 1 semana\n",
        "# plt_size = 168\n",
        "\n",
        "# plt.figure(figsize=(30, 10))\n",
        "# plt.plot(range(df_results.size), df_results.values, color='blue')\n",
        "# plt.plot(range(predictions.__len__()), predictions, color='red')\n",
        "# plt.xlabel('True Values')\n",
        "# plt.ylabel('Predictions')\n",
        "# plt.show()"
      ]
    },
    {
      "cell_type": "code",
      "execution_count": null,
      "metadata": {
        "gather": {
          "logged": 1631409753830
        },
        "jupyter": {
          "outputs_hidden": false,
          "source_hidden": false
        },
        "nteract": {
          "transient": {
            "deleting": false
          }
        }
      },
      "outputs": [],
      "source": [
        "# performances"
      ]
    },
    {
      "cell_type": "markdown",
      "metadata": {
        "nteract": {
          "transient": {
            "deleting": false
          }
        }
      },
      "source": [
        "## Ranking Linhas de Onibus"
      ]
    },
    {
      "cell_type": "code",
      "execution_count": null,
      "metadata": {
        "gather": {
          "logged": 1631409754617
        }
      },
      "outputs": [],
      "source": [
        "\n",
        "# print(data_model.linha.value_counts(ascending=True)[data_model['linha'].value_counts() < 100])\n",
        "\n",
        "# linha_lista = data_model.linha.unique()\n",
        "# linha_lista = linha_lista[:10]\n",
        "# res_map = list()\n",
        "# top100_linhas = data_model.linha.value_counts().index[:100]\n",
        "\n",
        "# for linha in top100_linhas:\n",
        "#     currentLinhaData = top100_linhas_data_model.loc[top100_linhas_data_model['linha'] == linha].copy()\n",
        "#     X = currentLinhaData.filter(feature_names, axis=1)\n",
        "#     y = currentLinhaData.validations_per_hour\n",
        "#     X_train, X_test, Y_train, Y_test = train_test_split(X, y, test_size = 0.2, random_state=5)\n",
        "#     for model in model_list:\n",
        "#         model.fit(X_train, Y_train)\n",
        "#         performance = get_performance(model)\n",
        "#         performance.insert(0, linha)\n",
        "#         res_map.append(performance)\n",
        "# res_map = pd.DataFrame(res_map, columns=[\"Linha\", \"R2\", \"RMSE\", \"MAE\", 'MAPE'])\n",
        "# r = res_map.sort_values('MAE', ascending=True)\n",
        "# r.to_csv(\"../performances/2015/ranking_top100_2015.csv\", index=False)\n",
        "\n"
      ]
    },
    {
      "cell_type": "code",
      "execution_count": null,
      "metadata": {
        "gather": {
          "logged": 1631504114908
        },
        "jupyter": {
          "outputs_hidden": false,
          "source_hidden": false
        },
        "nteract": {
          "transient": {
            "deleting": false
          }
        }
      },
      "outputs": [],
      "source": [
        "# res_map = pd.DataFrame(res_map,columns=['Linha', \n",
        "#     # '[LR][DEF]R2', '[LR][DF]RMSE', '[LR][DF]MAE',\n",
        "#     '[RF][GS]R2', '[RF][GS]RMSE', '[RF][GS]MAE',\n",
        "#     # '[LR][BAG]R2', '[LR][BAG]RMSE', '[LR][BAG]MAE',\n",
        "#     '[RF][BAG]R2', '[RF][BAG]RMSE', '[RF][BAG]MAE',\n",
        "#     '[STK]R2', '[STK]RMSE', '[STK]MAE',\n",
        "#     # '[BOS]R2', '[BOS]RMSE', '[BOS]MAE' \n",
        "#     ])\n",
        "# res_map = pd.DataFrame(res_map,columns=['Linha','R2', 'RMSE', 'MAE', 'MAPE'])\n",
        "\n",
        "# #performance_scoring['Score'] = performance_scoring['Score'].astype('float64')\n",
        "# res_map = res_map.sort_values('MAE', ascending=True).reset_index(drop=True)\n",
        "# res_map = res_map.drop_duplicates(subset='Linha', keep=\"first\").reset_index(drop=True)\n",
        "# res_map.to_csv('../top100linhas_rank_2015.csv', index=False)\n",
        "# res_map"
      ]
    }
  ],
  "metadata": {
    "interpreter": {
      "hash": "4caa081543ae4d7454eea2adf6270962382d99fc25b3a6423caed7aecce4d7f8"
    },
    "kernel_info": {
      "name": "python38-azureml"
    },
    "kernelspec": {
      "display_name": "Python 3.8.8 64-bit ('ml': conda)",
      "name": "python3"
    },
    "language_info": {
      "codemirror_mode": {
        "name": "ipython",
        "version": 3
      },
      "file_extension": ".py",
      "mimetype": "text/x-python",
      "name": "python",
      "nbconvert_exporter": "python",
      "pygments_lexer": "ipython3",
      "version": "3.8.8"
    },
    "microsoft": {
      "host": {
        "AzureML": {
          "notebookHasBeenCompleted": true
        }
      }
    },
    "nteract": {
      "version": "nteract-front-end@1.0.0"
    }
  },
  "nbformat": 4,
  "nbformat_minor": 5
}
