{
  "cells": [
    {
      "cell_type": "markdown",
      "metadata": {},
      "source": [
        "## Previsao de Embarque \n",
        "- Simples \n",
        "- Sem Serie Temporal\n",
        "- Regressao Linear\n",
        "- Random Forest\n",
        "- Com Grid Search\n",
        "- Bagging, Stacking e Boosting"
      ]
    },
    {
      "cell_type": "code",
      "execution_count": 29,
      "metadata": {
        "gather": {
          "logged": 1632360924338
        }
      },
      "outputs": [],
      "source": [
        "import pandas as pd\n",
        "import matplotlib.pyplot as plt\n",
        "import numpy as np\n",
        "import seaborn as sns\n",
        "\n",
        "from sklearn.preprocessing import OneHotEncoder\n",
        "from sklearn.linear_model import LinearRegression\n",
        "from sklearn.ensemble import RandomForestRegressor, BaggingRegressor, StackingRegressor, GradientBoostingRegressor\n",
        "from sklearn.pipeline import make_pipeline\n",
        "from sklearn.datasets import make_regression\n",
        "import datetime as dt\n",
        "\n",
        "import warnings\n",
        "\n",
        "from sklearn.model_selection import train_test_split, cross_val_score\n",
        "from sklearn.metrics import mean_squared_error, r2_score, mean_absolute_error, mean_absolute_percentage_error\n",
        "from sklearn.model_selection import RandomizedSearchCV\n",
        "from IPython.display import display\n",
        "from pprint import pprint\n",
        "from math import sqrt\n",
        "\n",
        "from variables import day_of_week_translator, feriados, vesperas\n",
        "\n",
        "#from shutil import unpack_archive\n",
        "#unpack_archive('./df_input.zip', './')"
      ]
    },
    {
      "cell_type": "markdown",
      "metadata": {
        "nteract": {
          "transient": {
            "deleting": false
          }
        }
      },
      "source": [
        "## Filtro de Onibus e definicoes de features/target"
      ]
    },
    {
      "cell_type": "code",
      "execution_count": 30,
      "metadata": {
        "collapsed": true,
        "gather": {
          "logged": 1632360927530
        },
        "jupyter": {
          "outputs_hidden": false,
          "source_hidden": false
        },
        "nteract": {
          "transient": {
            "deleting": false
          }
        }
      },
      "outputs": [],
      "source": [
        "# Reading Data file (geolocalized)\n",
        "data = pd.read_csv('../data_input_zerofill_2015.csv', delimiter=\";\")\n",
        "\n",
        "busline_filter = 41\n",
        "data_model = data.copy()\n",
        "\n",
        "#d_ano,  estao disponiveis para inserir once eu tive mais de 1 ano de dados\n",
        "feature_names = [\n",
        "    'hour_sin', 'hour_cos', \n",
        "    'd_mes', 'd_ano', 'mes', 'semana_do_mes', \n",
        "    'domingo','segunda', 'terca', 'quarta', 'quinta', 'sexta', 'sabado', \n",
        "    'feriado', 'vespera_feriado']\n",
        "\n",
        "target = 'validations_per_hour'"
      ]
    },
    {
      "cell_type": "code",
      "execution_count": 31,
      "metadata": {
        "gather": {
          "logged": 1632360927873
        }
      },
      "outputs": [
        {
          "data": {
            "text/html": [
              "<div>\n",
              "<style scoped>\n",
              "    .dataframe tbody tr th:only-of-type {\n",
              "        vertical-align: middle;\n",
              "    }\n",
              "\n",
              "    .dataframe tbody tr th {\n",
              "        vertical-align: top;\n",
              "    }\n",
              "\n",
              "    .dataframe thead th {\n",
              "        text-align: right;\n",
              "    }\n",
              "</style>\n",
              "<table border=\"1\" class=\"dataframe\">\n",
              "  <thead>\n",
              "    <tr style=\"text-align: right;\">\n",
              "      <th></th>\n",
              "      <th>linha</th>\n",
              "      <th>data_hora</th>\n",
              "      <th>validations_per_hour</th>\n",
              "      <th>d_semana</th>\n",
              "      <th>hour_sin</th>\n",
              "      <th>hour_cos</th>\n",
              "      <th>hora</th>\n",
              "      <th>d_mes</th>\n",
              "      <th>d_ano</th>\n",
              "      <th>mes</th>\n",
              "      <th>semana_do_mes</th>\n",
              "    </tr>\n",
              "  </thead>\n",
              "  <tbody>\n",
              "    <tr>\n",
              "      <th>0</th>\n",
              "      <td>1</td>\n",
              "      <td>2015-01-15 02:00:00</td>\n",
              "      <td>0</td>\n",
              "      <td>3</td>\n",
              "      <td>0.519584</td>\n",
              "      <td>0.854419</td>\n",
              "      <td>2</td>\n",
              "      <td>15</td>\n",
              "      <td>15</td>\n",
              "      <td>1</td>\n",
              "      <td>3</td>\n",
              "    </tr>\n",
              "    <tr>\n",
              "      <th>1</th>\n",
              "      <td>1</td>\n",
              "      <td>2015-01-25 02:00:00</td>\n",
              "      <td>0</td>\n",
              "      <td>6</td>\n",
              "      <td>0.519584</td>\n",
              "      <td>0.854419</td>\n",
              "      <td>2</td>\n",
              "      <td>25</td>\n",
              "      <td>25</td>\n",
              "      <td>1</td>\n",
              "      <td>4</td>\n",
              "    </tr>\n",
              "    <tr>\n",
              "      <th>2</th>\n",
              "      <td>1</td>\n",
              "      <td>2015-01-25 06:00:00</td>\n",
              "      <td>0</td>\n",
              "      <td>6</td>\n",
              "      <td>0.997669</td>\n",
              "      <td>-0.068242</td>\n",
              "      <td>6</td>\n",
              "      <td>25</td>\n",
              "      <td>25</td>\n",
              "      <td>1</td>\n",
              "      <td>4</td>\n",
              "    </tr>\n",
              "    <tr>\n",
              "      <th>3</th>\n",
              "      <td>1</td>\n",
              "      <td>2015-01-25 07:00:00</td>\n",
              "      <td>0</td>\n",
              "      <td>6</td>\n",
              "      <td>0.942261</td>\n",
              "      <td>-0.334880</td>\n",
              "      <td>7</td>\n",
              "      <td>25</td>\n",
              "      <td>25</td>\n",
              "      <td>1</td>\n",
              "      <td>4</td>\n",
              "    </tr>\n",
              "    <tr>\n",
              "      <th>4</th>\n",
              "      <td>1</td>\n",
              "      <td>2015-01-25 08:00:00</td>\n",
              "      <td>0</td>\n",
              "      <td>6</td>\n",
              "      <td>0.816970</td>\n",
              "      <td>-0.576680</td>\n",
              "      <td>8</td>\n",
              "      <td>25</td>\n",
              "      <td>25</td>\n",
              "      <td>1</td>\n",
              "      <td>4</td>\n",
              "    </tr>\n",
              "    <tr>\n",
              "      <th>...</th>\n",
              "      <td>...</td>\n",
              "      <td>...</td>\n",
              "      <td>...</td>\n",
              "      <td>...</td>\n",
              "      <td>...</td>\n",
              "      <td>...</td>\n",
              "      <td>...</td>\n",
              "      <td>...</td>\n",
              "      <td>...</td>\n",
              "      <td>...</td>\n",
              "      <td>...</td>\n",
              "    </tr>\n",
              "    <tr>\n",
              "      <th>2081985</th>\n",
              "      <td>999</td>\n",
              "      <td>2015-12-05 09:00:00</td>\n",
              "      <td>18</td>\n",
              "      <td>5</td>\n",
              "      <td>0.631088</td>\n",
              "      <td>-0.775711</td>\n",
              "      <td>9</td>\n",
              "      <td>5</td>\n",
              "      <td>339</td>\n",
              "      <td>12</td>\n",
              "      <td>0</td>\n",
              "    </tr>\n",
              "    <tr>\n",
              "      <th>2081986</th>\n",
              "      <td>999</td>\n",
              "      <td>2015-12-05 10:00:00</td>\n",
              "      <td>64</td>\n",
              "      <td>5</td>\n",
              "      <td>0.398401</td>\n",
              "      <td>-0.917211</td>\n",
              "      <td>10</td>\n",
              "      <td>5</td>\n",
              "      <td>339</td>\n",
              "      <td>12</td>\n",
              "      <td>0</td>\n",
              "    </tr>\n",
              "    <tr>\n",
              "      <th>2081987</th>\n",
              "      <td>999</td>\n",
              "      <td>2015-12-05 11:00:00</td>\n",
              "      <td>8</td>\n",
              "      <td>5</td>\n",
              "      <td>0.136167</td>\n",
              "      <td>-0.990686</td>\n",
              "      <td>11</td>\n",
              "      <td>5</td>\n",
              "      <td>339</td>\n",
              "      <td>12</td>\n",
              "      <td>0</td>\n",
              "    </tr>\n",
              "    <tr>\n",
              "      <th>2081988</th>\n",
              "      <td>999</td>\n",
              "      <td>2015-12-05 12:00:00</td>\n",
              "      <td>43</td>\n",
              "      <td>5</td>\n",
              "      <td>-0.136167</td>\n",
              "      <td>-0.990686</td>\n",
              "      <td>12</td>\n",
              "      <td>5</td>\n",
              "      <td>339</td>\n",
              "      <td>12</td>\n",
              "      <td>0</td>\n",
              "    </tr>\n",
              "    <tr>\n",
              "      <th>2081989</th>\n",
              "      <td>999</td>\n",
              "      <td>2015-12-31 07:00:00</td>\n",
              "      <td>1</td>\n",
              "      <td>3</td>\n",
              "      <td>0.942261</td>\n",
              "      <td>-0.334880</td>\n",
              "      <td>7</td>\n",
              "      <td>31</td>\n",
              "      <td>365</td>\n",
              "      <td>12</td>\n",
              "      <td>4</td>\n",
              "    </tr>\n",
              "  </tbody>\n",
              "</table>\n",
              "<p>2081990 rows × 11 columns</p>\n",
              "</div>"
            ],
            "text/plain": [
              "         linha            data_hora  validations_per_hour  d_semana  hour_sin  \\\n",
              "0            1  2015-01-15 02:00:00                     0         3  0.519584   \n",
              "1            1  2015-01-25 02:00:00                     0         6  0.519584   \n",
              "2            1  2015-01-25 06:00:00                     0         6  0.997669   \n",
              "3            1  2015-01-25 07:00:00                     0         6  0.942261   \n",
              "4            1  2015-01-25 08:00:00                     0         6  0.816970   \n",
              "...        ...                  ...                   ...       ...       ...   \n",
              "2081985    999  2015-12-05 09:00:00                    18         5  0.631088   \n",
              "2081986    999  2015-12-05 10:00:00                    64         5  0.398401   \n",
              "2081987    999  2015-12-05 11:00:00                     8         5  0.136167   \n",
              "2081988    999  2015-12-05 12:00:00                    43         5 -0.136167   \n",
              "2081989    999  2015-12-31 07:00:00                     1         3  0.942261   \n",
              "\n",
              "         hour_cos  hora  d_mes  d_ano  mes  semana_do_mes  \n",
              "0        0.854419     2     15     15    1              3  \n",
              "1        0.854419     2     25     25    1              4  \n",
              "2       -0.068242     6     25     25    1              4  \n",
              "3       -0.334880     7     25     25    1              4  \n",
              "4       -0.576680     8     25     25    1              4  \n",
              "...           ...   ...    ...    ...  ...            ...  \n",
              "2081985 -0.775711     9      5    339   12              0  \n",
              "2081986 -0.917211    10      5    339   12              0  \n",
              "2081987 -0.990686    11      5    339   12              0  \n",
              "2081988 -0.990686    12      5    339   12              0  \n",
              "2081989 -0.334880     7     31    365   12              4  \n",
              "\n",
              "[2081990 rows x 11 columns]"
            ]
          },
          "execution_count": 31,
          "metadata": {},
          "output_type": "execute_result"
        }
      ],
      "source": [
        "data_model"
      ]
    },
    {
      "cell_type": "code",
      "execution_count": 32,
      "metadata": {
        "gather": {
          "logged": 1632360940056
        }
      },
      "outputs": [],
      "source": [
        "one_hot_encoder = OneHotEncoder(sparse=False)\n",
        "\n",
        "data_model[['domingo','segunda', 'terca', 'quarta', 'quinta', 'sexta', 'sabado']] = one_hot_encoder.fit_transform(data_model['d_semana'].values.reshape(-1,1))\n",
        "data_model['feriado'] = [1 if any((x[0] == d and x[1] == m) for (_, d, m) in feriados) else 0 for x in list(zip(data_model.d_mes, data_model.mes))]\n",
        "data_model['vespera_feriado'] = [1 if any((x[0] == d and x[1] == m) for (_, d, m) in vesperas) else 0 for x in list(zip(data_model.d_mes, data_model.mes))]\n",
        "\n",
        "top100_linhas = data_model.linha.value_counts().index[:100]\n",
        "top100_linhas_data_model = data_model[data_model.linha.isin(top100_linhas)].loc[data['mes'] != 8]\n",
        "\n",
        "top100_linhas_data_model.to_csv(\"../dados-para-modelos/2015/top100_linhas_data_model_2015.csv\", index=False)\n",
        "sns.set(rc={'figure.figsize':(15,10)})\n",
        "\n",
        "# sns.heatmap(top100_linhas_data_model.corr()[['validations_per_hour']].sort_values(by='validations_per_hour', ascending=False)\n",
        "# , vmin=-1, vmax=1, annot=True)\n",
        "\n",
        "line_data_model = data_model.loc[data['linha'] == busline_filter].loc[data['mes'] != 8].copy()"
      ]
    },
    {
      "cell_type": "code",
      "execution_count": 33,
      "metadata": {},
      "outputs": [
        {
          "data": {
            "text/html": [
              "<div>\n",
              "<style scoped>\n",
              "    .dataframe tbody tr th:only-of-type {\n",
              "        vertical-align: middle;\n",
              "    }\n",
              "\n",
              "    .dataframe tbody tr th {\n",
              "        vertical-align: top;\n",
              "    }\n",
              "\n",
              "    .dataframe thead th {\n",
              "        text-align: right;\n",
              "    }\n",
              "</style>\n",
              "<table border=\"1\" class=\"dataframe\">\n",
              "  <thead>\n",
              "    <tr style=\"text-align: right;\">\n",
              "      <th></th>\n",
              "      <th>linha</th>\n",
              "      <th>data_hora</th>\n",
              "      <th>validations_per_hour</th>\n",
              "      <th>d_semana</th>\n",
              "      <th>hour_sin</th>\n",
              "      <th>hour_cos</th>\n",
              "      <th>hora</th>\n",
              "      <th>d_mes</th>\n",
              "      <th>d_ano</th>\n",
              "      <th>mes</th>\n",
              "      <th>semana_do_mes</th>\n",
              "      <th>domingo</th>\n",
              "      <th>segunda</th>\n",
              "      <th>terca</th>\n",
              "      <th>quarta</th>\n",
              "      <th>quinta</th>\n",
              "      <th>sexta</th>\n",
              "      <th>sabado</th>\n",
              "      <th>feriado</th>\n",
              "      <th>vespera_feriado</th>\n",
              "    </tr>\n",
              "  </thead>\n",
              "  <tbody>\n",
              "    <tr>\n",
              "      <th>0</th>\n",
              "      <td>1</td>\n",
              "      <td>2015-01-15 02:00:00</td>\n",
              "      <td>0</td>\n",
              "      <td>3</td>\n",
              "      <td>5.195840e-01</td>\n",
              "      <td>0.854419</td>\n",
              "      <td>2</td>\n",
              "      <td>15</td>\n",
              "      <td>15</td>\n",
              "      <td>1</td>\n",
              "      <td>3</td>\n",
              "      <td>0.0</td>\n",
              "      <td>0.0</td>\n",
              "      <td>0.0</td>\n",
              "      <td>1.0</td>\n",
              "      <td>0.0</td>\n",
              "      <td>0.0</td>\n",
              "      <td>0.0</td>\n",
              "      <td>0</td>\n",
              "      <td>0</td>\n",
              "    </tr>\n",
              "    <tr>\n",
              "      <th>1</th>\n",
              "      <td>1</td>\n",
              "      <td>2015-01-25 02:00:00</td>\n",
              "      <td>0</td>\n",
              "      <td>6</td>\n",
              "      <td>5.195840e-01</td>\n",
              "      <td>0.854419</td>\n",
              "      <td>2</td>\n",
              "      <td>25</td>\n",
              "      <td>25</td>\n",
              "      <td>1</td>\n",
              "      <td>4</td>\n",
              "      <td>0.0</td>\n",
              "      <td>0.0</td>\n",
              "      <td>0.0</td>\n",
              "      <td>0.0</td>\n",
              "      <td>0.0</td>\n",
              "      <td>0.0</td>\n",
              "      <td>1.0</td>\n",
              "      <td>0</td>\n",
              "      <td>0</td>\n",
              "    </tr>\n",
              "    <tr>\n",
              "      <th>2</th>\n",
              "      <td>1</td>\n",
              "      <td>2015-01-25 06:00:00</td>\n",
              "      <td>0</td>\n",
              "      <td>6</td>\n",
              "      <td>9.976688e-01</td>\n",
              "      <td>-0.068242</td>\n",
              "      <td>6</td>\n",
              "      <td>25</td>\n",
              "      <td>25</td>\n",
              "      <td>1</td>\n",
              "      <td>4</td>\n",
              "      <td>0.0</td>\n",
              "      <td>0.0</td>\n",
              "      <td>0.0</td>\n",
              "      <td>0.0</td>\n",
              "      <td>0.0</td>\n",
              "      <td>0.0</td>\n",
              "      <td>1.0</td>\n",
              "      <td>0</td>\n",
              "      <td>0</td>\n",
              "    </tr>\n",
              "    <tr>\n",
              "      <th>3</th>\n",
              "      <td>1</td>\n",
              "      <td>2015-01-25 07:00:00</td>\n",
              "      <td>0</td>\n",
              "      <td>6</td>\n",
              "      <td>9.422609e-01</td>\n",
              "      <td>-0.334880</td>\n",
              "      <td>7</td>\n",
              "      <td>25</td>\n",
              "      <td>25</td>\n",
              "      <td>1</td>\n",
              "      <td>4</td>\n",
              "      <td>0.0</td>\n",
              "      <td>0.0</td>\n",
              "      <td>0.0</td>\n",
              "      <td>0.0</td>\n",
              "      <td>0.0</td>\n",
              "      <td>0.0</td>\n",
              "      <td>1.0</td>\n",
              "      <td>0</td>\n",
              "      <td>0</td>\n",
              "    </tr>\n",
              "    <tr>\n",
              "      <th>4</th>\n",
              "      <td>1</td>\n",
              "      <td>2015-01-25 08:00:00</td>\n",
              "      <td>0</td>\n",
              "      <td>6</td>\n",
              "      <td>8.169699e-01</td>\n",
              "      <td>-0.576680</td>\n",
              "      <td>8</td>\n",
              "      <td>25</td>\n",
              "      <td>25</td>\n",
              "      <td>1</td>\n",
              "      <td>4</td>\n",
              "      <td>0.0</td>\n",
              "      <td>0.0</td>\n",
              "      <td>0.0</td>\n",
              "      <td>0.0</td>\n",
              "      <td>0.0</td>\n",
              "      <td>0.0</td>\n",
              "      <td>1.0</td>\n",
              "      <td>0</td>\n",
              "      <td>0</td>\n",
              "    </tr>\n",
              "    <tr>\n",
              "      <th>...</th>\n",
              "      <td>...</td>\n",
              "      <td>...</td>\n",
              "      <td>...</td>\n",
              "      <td>...</td>\n",
              "      <td>...</td>\n",
              "      <td>...</td>\n",
              "      <td>...</td>\n",
              "      <td>...</td>\n",
              "      <td>...</td>\n",
              "      <td>...</td>\n",
              "      <td>...</td>\n",
              "      <td>...</td>\n",
              "      <td>...</td>\n",
              "      <td>...</td>\n",
              "      <td>...</td>\n",
              "      <td>...</td>\n",
              "      <td>...</td>\n",
              "      <td>...</td>\n",
              "      <td>...</td>\n",
              "      <td>...</td>\n",
              "    </tr>\n",
              "    <tr>\n",
              "      <th>2080785</th>\n",
              "      <td>920</td>\n",
              "      <td>2015-12-31 19:00:00</td>\n",
              "      <td>234</td>\n",
              "      <td>3</td>\n",
              "      <td>-8.878852e-01</td>\n",
              "      <td>0.460065</td>\n",
              "      <td>19</td>\n",
              "      <td>31</td>\n",
              "      <td>365</td>\n",
              "      <td>12</td>\n",
              "      <td>4</td>\n",
              "      <td>0.0</td>\n",
              "      <td>0.0</td>\n",
              "      <td>0.0</td>\n",
              "      <td>1.0</td>\n",
              "      <td>0.0</td>\n",
              "      <td>0.0</td>\n",
              "      <td>0.0</td>\n",
              "      <td>0</td>\n",
              "      <td>1</td>\n",
              "    </tr>\n",
              "    <tr>\n",
              "      <th>2080786</th>\n",
              "      <td>920</td>\n",
              "      <td>2015-12-31 20:00:00</td>\n",
              "      <td>240</td>\n",
              "      <td>3</td>\n",
              "      <td>-7.308360e-01</td>\n",
              "      <td>0.682553</td>\n",
              "      <td>20</td>\n",
              "      <td>31</td>\n",
              "      <td>365</td>\n",
              "      <td>12</td>\n",
              "      <td>4</td>\n",
              "      <td>0.0</td>\n",
              "      <td>0.0</td>\n",
              "      <td>0.0</td>\n",
              "      <td>1.0</td>\n",
              "      <td>0.0</td>\n",
              "      <td>0.0</td>\n",
              "      <td>0.0</td>\n",
              "      <td>0</td>\n",
              "      <td>1</td>\n",
              "    </tr>\n",
              "    <tr>\n",
              "      <th>2080787</th>\n",
              "      <td>920</td>\n",
              "      <td>2015-12-31 21:00:00</td>\n",
              "      <td>222</td>\n",
              "      <td>3</td>\n",
              "      <td>-5.195840e-01</td>\n",
              "      <td>0.854419</td>\n",
              "      <td>21</td>\n",
              "      <td>31</td>\n",
              "      <td>365</td>\n",
              "      <td>12</td>\n",
              "      <td>4</td>\n",
              "      <td>0.0</td>\n",
              "      <td>0.0</td>\n",
              "      <td>0.0</td>\n",
              "      <td>1.0</td>\n",
              "      <td>0.0</td>\n",
              "      <td>0.0</td>\n",
              "      <td>0.0</td>\n",
              "      <td>0</td>\n",
              "      <td>1</td>\n",
              "    </tr>\n",
              "    <tr>\n",
              "      <th>2080788</th>\n",
              "      <td>920</td>\n",
              "      <td>2015-12-31 22:00:00</td>\n",
              "      <td>147</td>\n",
              "      <td>3</td>\n",
              "      <td>-2.697968e-01</td>\n",
              "      <td>0.962917</td>\n",
              "      <td>22</td>\n",
              "      <td>31</td>\n",
              "      <td>365</td>\n",
              "      <td>12</td>\n",
              "      <td>4</td>\n",
              "      <td>0.0</td>\n",
              "      <td>0.0</td>\n",
              "      <td>0.0</td>\n",
              "      <td>1.0</td>\n",
              "      <td>0.0</td>\n",
              "      <td>0.0</td>\n",
              "      <td>0.0</td>\n",
              "      <td>0</td>\n",
              "      <td>1</td>\n",
              "    </tr>\n",
              "    <tr>\n",
              "      <th>2080789</th>\n",
              "      <td>920</td>\n",
              "      <td>2015-12-31 23:00:00</td>\n",
              "      <td>20</td>\n",
              "      <td>3</td>\n",
              "      <td>-2.449294e-16</td>\n",
              "      <td>1.000000</td>\n",
              "      <td>23</td>\n",
              "      <td>31</td>\n",
              "      <td>365</td>\n",
              "      <td>12</td>\n",
              "      <td>4</td>\n",
              "      <td>0.0</td>\n",
              "      <td>0.0</td>\n",
              "      <td>0.0</td>\n",
              "      <td>1.0</td>\n",
              "      <td>0.0</td>\n",
              "      <td>0.0</td>\n",
              "      <td>0.0</td>\n",
              "      <td>0</td>\n",
              "      <td>1</td>\n",
              "    </tr>\n",
              "  </tbody>\n",
              "</table>\n",
              "<p>815402 rows × 20 columns</p>\n",
              "</div>"
            ],
            "text/plain": [
              "         linha            data_hora  validations_per_hour  d_semana  \\\n",
              "0            1  2015-01-15 02:00:00                     0         3   \n",
              "1            1  2015-01-25 02:00:00                     0         6   \n",
              "2            1  2015-01-25 06:00:00                     0         6   \n",
              "3            1  2015-01-25 07:00:00                     0         6   \n",
              "4            1  2015-01-25 08:00:00                     0         6   \n",
              "...        ...                  ...                   ...       ...   \n",
              "2080785    920  2015-12-31 19:00:00                   234         3   \n",
              "2080786    920  2015-12-31 20:00:00                   240         3   \n",
              "2080787    920  2015-12-31 21:00:00                   222         3   \n",
              "2080788    920  2015-12-31 22:00:00                   147         3   \n",
              "2080789    920  2015-12-31 23:00:00                    20         3   \n",
              "\n",
              "             hour_sin  hour_cos  hora  d_mes  d_ano  mes  semana_do_mes  \\\n",
              "0        5.195840e-01  0.854419     2     15     15    1              3   \n",
              "1        5.195840e-01  0.854419     2     25     25    1              4   \n",
              "2        9.976688e-01 -0.068242     6     25     25    1              4   \n",
              "3        9.422609e-01 -0.334880     7     25     25    1              4   \n",
              "4        8.169699e-01 -0.576680     8     25     25    1              4   \n",
              "...               ...       ...   ...    ...    ...  ...            ...   \n",
              "2080785 -8.878852e-01  0.460065    19     31    365   12              4   \n",
              "2080786 -7.308360e-01  0.682553    20     31    365   12              4   \n",
              "2080787 -5.195840e-01  0.854419    21     31    365   12              4   \n",
              "2080788 -2.697968e-01  0.962917    22     31    365   12              4   \n",
              "2080789 -2.449294e-16  1.000000    23     31    365   12              4   \n",
              "\n",
              "         domingo  segunda  terca  quarta  quinta  sexta  sabado  feriado  \\\n",
              "0            0.0      0.0    0.0     1.0     0.0    0.0     0.0        0   \n",
              "1            0.0      0.0    0.0     0.0     0.0    0.0     1.0        0   \n",
              "2            0.0      0.0    0.0     0.0     0.0    0.0     1.0        0   \n",
              "3            0.0      0.0    0.0     0.0     0.0    0.0     1.0        0   \n",
              "4            0.0      0.0    0.0     0.0     0.0    0.0     1.0        0   \n",
              "...          ...      ...    ...     ...     ...    ...     ...      ...   \n",
              "2080785      0.0      0.0    0.0     1.0     0.0    0.0     0.0        0   \n",
              "2080786      0.0      0.0    0.0     1.0     0.0    0.0     0.0        0   \n",
              "2080787      0.0      0.0    0.0     1.0     0.0    0.0     0.0        0   \n",
              "2080788      0.0      0.0    0.0     1.0     0.0    0.0     0.0        0   \n",
              "2080789      0.0      0.0    0.0     1.0     0.0    0.0     0.0        0   \n",
              "\n",
              "         vespera_feriado  \n",
              "0                      0  \n",
              "1                      0  \n",
              "2                      0  \n",
              "3                      0  \n",
              "4                      0  \n",
              "...                  ...  \n",
              "2080785                1  \n",
              "2080786                1  \n",
              "2080787                1  \n",
              "2080788                1  \n",
              "2080789                1  \n",
              "\n",
              "[815402 rows x 20 columns]"
            ]
          },
          "execution_count": 33,
          "metadata": {},
          "output_type": "execute_result"
        }
      ],
      "source": [
        "top100_linhas_data_model"
      ]
    },
    {
      "cell_type": "code",
      "execution_count": 34,
      "metadata": {
        "collapsed": true,
        "gather": {
          "logged": 1632360940459
        },
        "jupyter": {
          "outputs_hidden": false,
          "source_hidden": false
        },
        "nteract": {
          "transient": {
            "deleting": false
          }
        }
      },
      "outputs": [],
      "source": [
        "#display(X)"
      ]
    },
    {
      "cell_type": "code",
      "execution_count": 35,
      "metadata": {
        "collapsed": true,
        "gather": {
          "logged": 1632360940845
        },
        "jupyter": {
          "outputs_hidden": false,
          "source_hidden": false
        },
        "nteract": {
          "transient": {
            "deleting": false
          }
        }
      },
      "outputs": [],
      "source": [
        "#display(y)"
      ]
    },
    {
      "cell_type": "markdown",
      "metadata": {
        "nteract": {
          "transient": {
            "deleting": false
          }
        }
      },
      "source": [
        "---------------------------------------------------------------------------- Fim Setup ----------------------------------------------------------------------------  \n",
        "# Criacao dos Modelos"
      ]
    },
    {
      "cell_type": "code",
      "execution_count": 36,
      "metadata": {},
      "outputs": [],
      "source": [
        "# Per Line Data\n",
        "\n",
        "X = line_data_model.filter(feature_names, axis=1)\n",
        "y = line_data_model.validations_per_hour\n",
        "X_train, X_test, Y_train, Y_test = train_test_split(X, y, test_size = 0.2, random_state=5)"
      ]
    },
    {
      "cell_type": "code",
      "execution_count": 37,
      "metadata": {
        "collapsed": true,
        "gather": {
          "logged": 1632360941131
        },
        "jupyter": {
          "outputs_hidden": false,
          "source_hidden": false
        },
        "nteract": {
          "transient": {
            "deleting": false
          }
        }
      },
      "outputs": [],
      "source": [
        "model_list = []"
      ]
    },
    {
      "cell_type": "code",
      "execution_count": 38,
      "metadata": {
        "collapsed": true,
        "gather": {
          "logged": 1632360941444
        },
        "jupyter": {
          "outputs_hidden": false,
          "source_hidden": false
        },
        "nteract": {
          "transient": {
            "deleting": false
          }
        }
      },
      "outputs": [],
      "source": [
        "def get_performance(model):\n",
        "    y_test_predict = model.predict(X_test)\n",
        "    mse = mean_squared_error(Y_test, y_test_predict)\n",
        "    rmse = (np.sqrt(mse))\n",
        "    r2 = r2_score(Y_test, y_test_predict)\n",
        "    mae = mean_absolute_error(Y_test, y_test_predict)\n",
        "    mape = mean_absolute_percentage_error(Y_test, y_test_predict) * 100\n",
        "    performance_scoring = [\n",
        "        r2,\n",
        "        rmse,\n",
        "        mae,\n",
        "        mape\n",
        "    ]\n",
        "    #performance_scoring = pd.DataFrame(performance_scoring,columns=['Metrica', 'Score'])\n",
        "    #performance_scoring['Score'] = performance_scoring['Score'].astype('float64')\n",
        "    return performance_scoring"
      ]
    },
    {
      "cell_type": "code",
      "execution_count": 39,
      "metadata": {
        "collapsed": true,
        "gather": {
          "logged": 1632360941799
        },
        "jupyter": {
          "outputs_hidden": false,
          "source_hidden": false
        },
        "nteract": {
          "transient": {
            "deleting": false
          }
        }
      },
      "outputs": [],
      "source": [
        "LinearRegressionModel = LinearRegression()\n",
        "RandomForestModel = RandomForestRegressor()"
      ]
    },
    {
      "cell_type": "markdown",
      "metadata": {
        "nteract": {
          "transient": {
            "deleting": false
          }
        }
      },
      "source": [
        "#### Linear Regression Model Parameters"
      ]
    },
    {
      "cell_type": "code",
      "execution_count": 40,
      "metadata": {
        "collapsed": true,
        "gather": {
          "logged": 1632360942004
        },
        "jupyter": {
          "outputs_hidden": false,
          "source_hidden": false
        },
        "nteract": {
          "transient": {
            "deleting": false
          }
        }
      },
      "outputs": [],
      "source": [
        "# print(\"Linear Regression  Params ----> \")\n",
        "# pprint(LinearRegressionModel.get_params())\n",
        "\n",
        "copy_X = [True, False]\n",
        "fit_intercept = [True, False]\n",
        "n_jobs = [2, 4, 6, 8]\n",
        "normalize = [True, False]\n",
        "\n",
        "# Create the random grid\n",
        "random_grid_linearregression = {'copy_X': copy_X, 'fit_intercept': fit_intercept, 'n_jobs': n_jobs, 'normalize': normalize}"
      ]
    },
    {
      "cell_type": "markdown",
      "metadata": {
        "nteract": {
          "transient": {
            "deleting": false
          }
        }
      },
      "source": [
        "#### Random Forest Model Parameters"
      ]
    },
    {
      "cell_type": "code",
      "execution_count": 41,
      "metadata": {
        "collapsed": true,
        "gather": {
          "logged": 1632360942214
        },
        "jupyter": {
          "outputs_hidden": false,
          "source_hidden": false
        },
        "nteract": {
          "transient": {
            "deleting": false
          }
        }
      },
      "outputs": [],
      "source": [
        "# print(\"Random Forest Model Params ----> \")\n",
        "# pprint(RandomForestModel.get_params())\n",
        "\n",
        "# Number of trees in random forest\n",
        "n_estimators = [int(x) for x in np.linspace(start = 20, stop = 1000, num = 10)]\n",
        "\n",
        "n_jobs = [2, 4, 6, 8]\n",
        "\n",
        "# Number of features to consider at every split\n",
        "max_features = ['auto', 'sqrt']\n",
        "\n",
        "# Maximum number of levels in tree\n",
        "max_depth = [int(x) for x in np.linspace(10, 110, num = 11)]\n",
        "max_depth.append(None)\n",
        "\n",
        "# Minimum number of samples required to split a node\n",
        "min_samples_split = [2, 5, 10]\n",
        "\n",
        "# Minimum number of samples required at each leaf node\n",
        "min_samples_leaf = [1, 2, 4]\n",
        "\n",
        "# Method of selecting samples for training each tree\n",
        "bootstrap = [True, False]\n",
        "\n",
        "# Create the random grid\n",
        "random_grid_randomforest = {'n_estimators': n_estimators,\n",
        "               'max_features': max_features,\n",
        "               'max_depth': max_depth,\n",
        "               'min_samples_split': min_samples_split,\n",
        "               'min_samples_leaf': min_samples_leaf,\n",
        "               'bootstrap': bootstrap,\n",
        "               'n_jobs': n_jobs}"
      ]
    },
    {
      "cell_type": "markdown",
      "metadata": {},
      "source": [
        "# Grid Searched"
      ]
    },
    {
      "cell_type": "code",
      "execution_count": 42,
      "metadata": {
        "collapsed": true,
        "gather": {
          "logged": 1632361324253
        },
        "jupyter": {
          "outputs_hidden": false,
          "source_hidden": false
        },
        "nteract": {
          "transient": {
            "deleting": false
          }
        }
      },
      "outputs": [
        {
          "name": "stdout",
          "output_type": "stream",
          "text": [
            "Fitting 3 folds for each of 100 candidates, totalling 300 fits\n",
            "Fitting 3 folds for each of 32 candidates, totalling 96 fits\n",
            "Random Forest Best Parameters -----> \n",
            "{'bootstrap': False,\n",
            " 'max_depth': 110,\n",
            " 'max_features': 'sqrt',\n",
            " 'min_samples_leaf': 1,\n",
            " 'min_samples_split': 2,\n",
            " 'n_estimators': 455,\n",
            " 'n_jobs': 2}\n",
            "Linear Regression Best Parameters -----> \n",
            "{'copy_X': True, 'fit_intercept': False, 'n_jobs': 2, 'normalize': True}\n"
          ]
        }
      ],
      "source": [
        "# Random search of parameters, using 3 fold cross validation, \n",
        "# search across 100 different combinations, and use all available cores\n",
        "LinearRegressionModel = LinearRegression()\n",
        "RandomForestModel = RandomForestRegressor()\n",
        "gridsearch_result_randomforest = RandomizedSearchCV(estimator = RandomForestModel, param_distributions = random_grid_randomforest, n_iter = 100, cv = 3, verbose=2, random_state=42, n_jobs = -1)\n",
        "gridsearch_result_linearregression = RandomizedSearchCV(estimator = LinearRegressionModel, param_distributions = random_grid_linearregression, n_iter = 100, cv = 3, verbose=2, random_state=42, n_jobs = -1)\n",
        "\n",
        "# Fit the random search model\n",
        "\n",
        "gridsearch_result_randomforest.fit(X_train, Y_train)\n",
        "gridsearch_result_linearregression.fit(X_train, Y_train)\n",
        "\n",
        "print(\"Random Forest Best Parameters -----> \")\n",
        "pprint(gridsearch_result_randomforest.best_params_)\n",
        "\n",
        "print(\"Linear Regression Best Parameters -----> \")\n",
        "pprint(gridsearch_result_linearregression.best_params_)\n",
        "\n",
        "gridsearched_random_randomforest = gridsearch_result_randomforest.best_estimator_\n",
        "gridsearched_random_linearregression = gridsearch_result_linearregression.best_estimator_\n",
        "\n",
        "default_linearregression_model = LinearRegressionModel.fit(X_train, Y_train)\n",
        "default_randomforest_model = RandomForestModel.fit(X_train, Y_train)\n",
        "\n",
        "GridSearchedRandomForestModelPipeline = make_pipeline(gridsearched_random_randomforest)\n",
        "DefaultRandomForestModelPipeline = make_pipeline(default_randomforest_model)\n"
      ]
    },
    {
      "cell_type": "code",
      "execution_count": 43,
      "metadata": {},
      "outputs": [
        {
          "name": "stdout",
          "output_type": "stream",
          "text": [
            "\n",
            "----------------------------------------------------\n",
            "\n",
            "Regressao Linear [DEFAULT]: \n",
            " [0.436572871539908, 326.0775002848704, 251.35267177600483, 1.4307770373080023e+19]\n",
            "\n",
            "----------------------------------------------------\n",
            "\n",
            "Random Forest [DEFAULT]: \n",
            " [0.9130915426299729, 128.06574393049175, 67.5746197821696, 4.775104326659622e+18]\n",
            "\n",
            "----------------------------------------------------\n",
            "\n",
            "Regressao Linear [GRID SEARCH]: \n",
            " [0.436572871539909, 326.07750028487015, 251.35267177600142, 1.4307770373079427e+19]\n",
            "\n",
            "----------------------------------------------------\n",
            "\n",
            "Random Forest [GRID SEARCH]: \n",
            " [0.9286137216440059, 116.0671516022776, 71.43918304462755, 4.0434424847486147e+18]\n",
            "\n",
            "----------------------------------------------------\n",
            "\n"
          ]
        },
        {
          "data": {
            "text/html": [
              "<div>\n",
              "<style scoped>\n",
              "    .dataframe tbody tr th:only-of-type {\n",
              "        vertical-align: middle;\n",
              "    }\n",
              "\n",
              "    .dataframe tbody tr th {\n",
              "        vertical-align: top;\n",
              "    }\n",
              "\n",
              "    .dataframe thead th {\n",
              "        text-align: right;\n",
              "    }\n",
              "</style>\n",
              "<table border=\"1\" class=\"dataframe\">\n",
              "  <thead>\n",
              "    <tr style=\"text-align: right;\">\n",
              "      <th></th>\n",
              "      <th>R2</th>\n",
              "      <th>RMSE</th>\n",
              "      <th>MAE</th>\n",
              "      <th>MAPE</th>\n",
              "    </tr>\n",
              "  </thead>\n",
              "  <tbody>\n",
              "    <tr>\n",
              "      <th>LinearReg Default</th>\n",
              "      <td>0.436573</td>\n",
              "      <td>326.077500</td>\n",
              "      <td>251.352672</td>\n",
              "      <td>1.430777e+19</td>\n",
              "    </tr>\n",
              "    <tr>\n",
              "      <th>RandomForest Default</th>\n",
              "      <td>0.913092</td>\n",
              "      <td>128.065744</td>\n",
              "      <td>67.574620</td>\n",
              "      <td>4.775104e+18</td>\n",
              "    </tr>\n",
              "    <tr>\n",
              "      <th>LinearReg GridSearched</th>\n",
              "      <td>0.436573</td>\n",
              "      <td>326.077500</td>\n",
              "      <td>251.352672</td>\n",
              "      <td>1.430777e+19</td>\n",
              "    </tr>\n",
              "    <tr>\n",
              "      <th>RandomForest GridSearched</th>\n",
              "      <td>0.928614</td>\n",
              "      <td>116.067152</td>\n",
              "      <td>71.439183</td>\n",
              "      <td>4.043442e+18</td>\n",
              "    </tr>\n",
              "  </tbody>\n",
              "</table>\n",
              "</div>"
            ],
            "text/plain": [
              "                                 R2        RMSE         MAE          MAPE\n",
              "LinearReg Default          0.436573  326.077500  251.352672  1.430777e+19\n",
              "RandomForest Default       0.913092  128.065744   67.574620  4.775104e+18\n",
              "LinearReg GridSearched     0.436573  326.077500  251.352672  1.430777e+19\n",
              "RandomForest GridSearched  0.928614  116.067152   71.439183  4.043442e+18"
            ]
          },
          "execution_count": 43,
          "metadata": {},
          "output_type": "execute_result"
        }
      ],
      "source": [
        "performance_default_randomforest_model = get_performance(default_randomforest_model)\n",
        "performance_gridsearched_randomforest_model = get_performance(gridsearched_random_randomforest)\n",
        "performance_gridsearched_linearregression_model = get_performance(gridsearched_random_linearregression)\n",
        "performance_default_linearregression_model = get_performance(default_linearregression_model)\n",
        "\n",
        "print(\"\\n----------------------------------------------------\\n\")\n",
        "print('Regressao Linear [DEFAULT]: \\n', performance_default_linearregression_model)\n",
        "print(\"\\n----------------------------------------------------\\n\")\n",
        "print('Random Forest [DEFAULT]: \\n', performance_default_randomforest_model)\n",
        "print(\"\\n----------------------------------------------------\\n\")\n",
        "print('Regressao Linear [GRID SEARCH]: \\n', performance_gridsearched_linearregression_model)\n",
        "print(\"\\n----------------------------------------------------\\n\")\n",
        "print('Random Forest [GRID SEARCH]: \\n', performance_gridsearched_randomforest_model)\n",
        "print(\"\\n----------------------------------------------------\\n\")\n",
        "\n",
        "performance_total = [performance_default_linearregression_model,\n",
        "    performance_default_randomforest_model,\n",
        "    performance_gridsearched_linearregression_model,\n",
        "    performance_gridsearched_randomforest_model]\n",
        "\n",
        "performance_total = pd.DataFrame.from_records(performance_total, columns=['R2', 'RMSE', 'MAE', 'MAPE'], \n",
        "    index=['LinearReg Default', 'RandomForest Default', 'LinearReg GridSearched', 'RandomForest GridSearched'])\n",
        "performance_total"
      ]
    },
    {
      "cell_type": "markdown",
      "metadata": {
        "nteract": {
          "transient": {
            "deleting": false
          }
        }
      },
      "source": [
        "# BAGGING"
      ]
    },
    {
      "cell_type": "code",
      "execution_count": 44,
      "metadata": {
        "collapsed": true,
        "gather": {
          "logged": 1632361332525
        },
        "jupyter": {
          "outputs_hidden": false,
          "source_hidden": false
        },
        "nteract": {
          "transient": {
            "deleting": false
          }
        }
      },
      "outputs": [
        {
          "name": "stdout",
          "output_type": "stream",
          "text": [
            "Performance for base estimator Pipeline(steps=[('linearregression', LinearRegression())]) = [0.4358762931081954, 326.27900672772085, 252.22924429812392, 1.444632288850111e+19]\n",
            "\n",
            "Performance for base estimator Pipeline(steps=[('randomforestregressor', RandomForestRegressor())]) = [0.9062632693581588, 133.00159740950357, 69.30567811629938, 5.2575900895704e+18]\n",
            "\n"
          ]
        }
      ],
      "source": [
        "warnings.filterwarnings(\"ignore\") # To ignore warnings\n",
        "n_jobs = -1 # This parameter conrols the parallel processing. -1 means using all processors.\n",
        "random_state = 42 # This parameter controls the randomness of the data. Using some int value to get same results everytime this code is run\n",
        "models_scores = [] # To store model scores               \n",
        "\n",
        "def bagging_model(estimator):\n",
        "    \"\"\"\n",
        "    I/P\n",
        "    estimator: The base estimator from which the ensemble is grown.\n",
        "    O/P\n",
        "    br_y_pred: Predictions on test data for the base estimator.\n",
        "    \n",
        "    \"\"\"\n",
        "    regr = BaggingRegressor(base_estimator=estimator,\n",
        "                            n_estimators=10,\n",
        "                            max_samples=1.0,\n",
        "                            bootstrap=True, # Samples are drawn with replacement\n",
        "                            n_jobs= n_jobs,\n",
        "                            random_state=random_state).fit(X_train, Y_train)\n",
        "\n",
        "    br_y_pred = regr.predict(X_test)\n",
        "\n",
        "    performance = get_performance(regr)\n",
        "    \n",
        "    print(f'Performance for base estimator {regr.base_estimator_} = {performance}\\n')\n",
        "\n",
        "    return regr, performance\n",
        "\n",
        "LinearRegressionModelPipeline = make_pipeline(LinearRegression())\n",
        "RandomForestModelPipeline = make_pipeline(RandomForestRegressor())\n",
        "\n",
        "\n",
        "bagging_lr_model, performance_bagging_lr_model = bagging_model(LinearRegressionModelPipeline)\n",
        "bagging_rf_model, performance_bagging_rf_model = bagging_model(RandomForestModelPipeline)\n",
        "\n",
        "df2 = pd.DataFrame([performance_bagging_lr_model, performance_bagging_rf_model], columns=['R2','RMSE','MAE', 'MAPE'], \n",
        "    index=['LinearRegression Bagging', 'RandomForest Bagging'])\n",
        "performance_total = pd.concat([df2, performance_total])\n",
        "\n",
        "BaggingLinearRegressionModelPipeline = make_pipeline(bagging_lr_model)\n",
        "BaggingRandomForestModelPipeline = make_pipeline(bagging_rf_model)\n"
      ]
    },
    {
      "cell_type": "markdown",
      "metadata": {
        "nteract": {
          "transient": {
            "deleting": false
          }
        }
      },
      "source": [
        "# BOOSTING"
      ]
    },
    {
      "cell_type": "code",
      "execution_count": 45,
      "metadata": {
        "collapsed": true,
        "gather": {
          "logged": 1632361361458
        },
        "jupyter": {
          "outputs_hidden": false,
          "source_hidden": false
        },
        "nteract": {
          "transient": {
            "deleting": false
          }
        }
      },
      "outputs": [],
      "source": [
        "gradient_boosting_regressor= GradientBoostingRegressor(n_estimators=3000, learning_rate=0.05,\n",
        "                                   max_depth=4, max_features='sqrt',\n",
        "                                   min_samples_leaf=15, min_samples_split=10, \n",
        "                                   loss='huber', random_state = random_state)\n",
        "\n",
        "gradient_boosting_regressor.fit(X_train, Y_train)\n",
        "\n",
        "performance = get_performance(gradient_boosting_regressor)\n",
        "\n",
        "df2 = pd.DataFrame([performance], columns=['R2','RMSE','MAE', 'MAPE'], \n",
        "    index=['GradientBoostingRegressor'])\n",
        "\n",
        "GradientBoostingModelPipeline = make_pipeline(gradient_boosting_regressor)\n",
        "\n",
        "performance_total = pd.concat([df2, performance_total])\n"
      ]
    },
    {
      "cell_type": "markdown",
      "metadata": {},
      "source": [
        "# STACKING"
      ]
    },
    {
      "cell_type": "code",
      "execution_count": 46,
      "metadata": {},
      "outputs": [],
      "source": [
        "estimators = [\n",
        "    ('gridseached_randomforest', GridSearchedRandomForestModelPipeline),\n",
        "    ('bagging_randomforest',BaggingRandomForestModelPipeline),\n",
        "    ('gradient_boosting', GradientBoostingModelPipeline), \n",
        "    ('random_forest_default', DefaultRandomForestModelPipeline)\n",
        "]\n",
        "\n",
        "stack = StackingRegressor(estimators=estimators, final_estimator=DefaultRandomForestModelPipeline, cv= 5, n_jobs= n_jobs, passthrough = True)\n",
        "\n",
        "stack.fit(X_train, Y_train)\n",
        "\n",
        "performance = get_performance(stack)\n",
        "\n",
        "df2 = pd.DataFrame([performance], columns=['R2','RMSE','MAE', 'MAPE'], \n",
        "    index=['Stacking Regressors'])\n",
        "\n",
        "performance_total = pd.concat([df2, performance_total])"
      ]
    },
    {
      "cell_type": "code",
      "execution_count": null,
      "metadata": {},
      "outputs": [
        {
          "name": "stdout",
          "output_type": "stream",
          "text": [
            "LINHA UTILIZADA PARA OS TESTES:  41\n",
            "\n",
            "Utilizando sample aleatorio de dado para teste de previsao: \n"
          ]
        },
        {
          "data": {
            "text/html": [
              "<div>\n",
              "<style scoped>\n",
              "    .dataframe tbody tr th:only-of-type {\n",
              "        vertical-align: middle;\n",
              "    }\n",
              "\n",
              "    .dataframe tbody tr th {\n",
              "        vertical-align: top;\n",
              "    }\n",
              "\n",
              "    .dataframe thead th {\n",
              "        text-align: right;\n",
              "    }\n",
              "</style>\n",
              "<table border=\"1\" class=\"dataframe\">\n",
              "  <thead>\n",
              "    <tr style=\"text-align: right;\">\n",
              "      <th></th>\n",
              "      <th>linha</th>\n",
              "      <th>data_hora</th>\n",
              "      <th>validations_per_hour</th>\n",
              "      <th>d_semana</th>\n",
              "      <th>hour_sin</th>\n",
              "      <th>hour_cos</th>\n",
              "      <th>hora</th>\n",
              "      <th>d_mes</th>\n",
              "      <th>d_ano</th>\n",
              "      <th>mes</th>\n",
              "      <th>semana_do_mes</th>\n",
              "      <th>domingo</th>\n",
              "      <th>segunda</th>\n",
              "      <th>terca</th>\n",
              "      <th>quarta</th>\n",
              "      <th>quinta</th>\n",
              "      <th>sexta</th>\n",
              "      <th>sabado</th>\n",
              "      <th>feriado</th>\n",
              "      <th>vespera_feriado</th>\n",
              "    </tr>\n",
              "  </thead>\n",
              "  <tbody>\n",
              "    <tr>\n",
              "      <th>231612</th>\n",
              "      <td>41</td>\n",
              "      <td>2015-12-23 01:00:00</td>\n",
              "      <td>0</td>\n",
              "      <td>2</td>\n",
              "      <td>0.269797</td>\n",
              "      <td>0.962917</td>\n",
              "      <td>1</td>\n",
              "      <td>23</td>\n",
              "      <td>357</td>\n",
              "      <td>12</td>\n",
              "      <td>4</td>\n",
              "      <td>0.0</td>\n",
              "      <td>0.0</td>\n",
              "      <td>1.0</td>\n",
              "      <td>0.0</td>\n",
              "      <td>0.0</td>\n",
              "      <td>0.0</td>\n",
              "      <td>0.0</td>\n",
              "      <td>0</td>\n",
              "      <td>0</td>\n",
              "    </tr>\n",
              "  </tbody>\n",
              "</table>\n",
              "</div>"
            ],
            "text/plain": [
              "        linha            data_hora  validations_per_hour  d_semana  hour_sin  \\\n",
              "231612     41  2015-12-23 01:00:00                     0         2  0.269797   \n",
              "\n",
              "        hour_cos  hora  d_mes  d_ano  mes  semana_do_mes  domingo  segunda  \\\n",
              "231612  0.962917     1     23    357   12              4      0.0      0.0   \n",
              "\n",
              "        terca  quarta  quinta  sexta  sabado  feriado  vespera_feriado  \n",
              "231612    1.0     0.0     0.0    0.0     0.0        0                0  "
            ]
          },
          "metadata": {},
          "output_type": "display_data"
        },
        {
          "name": "stdout",
          "output_type": "stream",
          "text": [
            "Stacked Regressor -> resultado do predict de test:  [0.]\n",
            "gradient_boosting_regressor -> resultado do predict de test:  [21.08956237]\n",
            "bagging_rf_model -> resultado do predict de test:  [0.]\n",
            "Random Forest Best Grid Searched -> resultado do predict de test:  [0.]\n",
            "Random Forest Default -> resultado do predict de test:  [0.]\n",
            "bagging_lr_model -> resultado do predict de test:  [286.71349482]\n",
            "Regressao Linear Default -> resultado do predict de test:  [282.18490188]\n",
            "Regressao Linear Best Grid Searched -> resultado do predict de test:  [282.18490188]\n"
          ]
        }
      ],
      "source": [
        "# model_list = [\n",
        "#     stack,\n",
        "#     gradient_boosting_regressor,\n",
        "#     bagging_rf_model,\n",
        "#     default_randomforest_model,\n",
        "#     #default_linearregression_model,\n",
        "#     #gridsearched_result_linearregression,\n",
        "#     #gridsearched_random_randomforest,\n",
        "#     #bagging_lr_model,\n",
        "# ]\n",
        "\n",
        "sample = X.sample(n=1)\n",
        "sample\n",
        "\n",
        "print('LINHA UTILIZADA PARA OS TESTES: ', busline_filter)\n",
        "\n",
        "print(\"\\nUtilizando sample aleatorio de dado para teste de previsao: \")\n",
        "\n",
        "display(data_model.loc[sample.index[0]:sample.index[0]])\n",
        "\n",
        "res = stack.predict(sample)\n",
        "print(\"Stacked Regressor -> resultado do predict de test: \", res)\n",
        "\n",
        "res = gradient_boosting_regressor.predict(sample)\n",
        "print(\"gradient_boosting_regressor -> resultado do predict de test: \", res)\n",
        "\n",
        "res = bagging_rf_model.predict(sample)\n",
        "print(\"bagging_rf_model -> resultado do predict de test: \", res)\n",
        "\n",
        "res = gridsearched_random_randomforest.predict(sample)\n",
        "print(\"Random Forest Best Grid Searched -> resultado do predict de test: \", res)\n",
        "\n",
        "res = default_randomforest_model.predict(sample)\n",
        "print(\"Random Forest Default -> resultado do predict de test: \", res)\n",
        "\n",
        "res = bagging_lr_model.predict(sample)\n",
        "print(\"bagging_lr_model -> resultado do predict de test: \", res)\n",
        "\n",
        "res = default_linearregression_model.predict(sample)\n",
        "print(\"Regressao Linear Default -> resultado do predict de test: \", res)\n",
        "\n",
        "res = gridsearched_random_linearregression.predict(sample)\n",
        "print(\"Regressao Linear Best Grid Searched -> resultado do predict de test: \", res)"
      ]
    },
    {
      "cell_type": "code",
      "execution_count": null,
      "metadata": {
        "collapsed": true,
        "gather": {
          "logged": 1632369757434
        },
        "jupyter": {
          "outputs_hidden": false,
          "source_hidden": false
        },
        "nteract": {
          "transient": {
            "deleting": false
          }
        }
      },
      "outputs": [],
      "source": [
        "#performance_total.to_csv('../performances/2015/performance_total_linha'+str(busline_filter)+'.csv', index=False)"
      ]
    },
    {
      "cell_type": "code",
      "execution_count": null,
      "metadata": {},
      "outputs": [
        {
          "data": {
            "text/html": [
              "<div>\n",
              "<style scoped>\n",
              "    .dataframe tbody tr th:only-of-type {\n",
              "        vertical-align: middle;\n",
              "    }\n",
              "\n",
              "    .dataframe tbody tr th {\n",
              "        vertical-align: top;\n",
              "    }\n",
              "\n",
              "    .dataframe thead th {\n",
              "        text-align: right;\n",
              "    }\n",
              "</style>\n",
              "<table border=\"1\" class=\"dataframe\">\n",
              "  <thead>\n",
              "    <tr style=\"text-align: right;\">\n",
              "      <th></th>\n",
              "      <th>R2</th>\n",
              "      <th>RMSE</th>\n",
              "      <th>MAE</th>\n",
              "      <th>MAPE</th>\n",
              "    </tr>\n",
              "  </thead>\n",
              "  <tbody>\n",
              "    <tr>\n",
              "      <th>Stacking Regressors</th>\n",
              "      <td>0.969980</td>\n",
              "      <td>75.267178</td>\n",
              "      <td>46.876932</td>\n",
              "      <td>1.161348e+18</td>\n",
              "    </tr>\n",
              "    <tr>\n",
              "      <th>GradientBoostingRegressor</th>\n",
              "      <td>0.951662</td>\n",
              "      <td>95.509346</td>\n",
              "      <td>59.197949</td>\n",
              "      <td>4.590700e+18</td>\n",
              "    </tr>\n",
              "    <tr>\n",
              "      <th>RandomForest Default</th>\n",
              "      <td>0.912492</td>\n",
              "      <td>128.506787</td>\n",
              "      <td>68.087513</td>\n",
              "      <td>4.848482e+18</td>\n",
              "    </tr>\n",
              "    <tr>\n",
              "      <th>RandomForest Bagging</th>\n",
              "      <td>0.906263</td>\n",
              "      <td>133.001597</td>\n",
              "      <td>69.305678</td>\n",
              "      <td>5.257590e+18</td>\n",
              "    </tr>\n",
              "    <tr>\n",
              "      <th>RandomForest GridSearched</th>\n",
              "      <td>0.928788</td>\n",
              "      <td>115.925096</td>\n",
              "      <td>71.528854</td>\n",
              "      <td>4.059628e+18</td>\n",
              "    </tr>\n",
              "    <tr>\n",
              "      <th>LinearReg GridSearched</th>\n",
              "      <td>0.436573</td>\n",
              "      <td>326.077500</td>\n",
              "      <td>251.352672</td>\n",
              "      <td>1.430777e+19</td>\n",
              "    </tr>\n",
              "    <tr>\n",
              "      <th>LinearReg Default</th>\n",
              "      <td>0.436573</td>\n",
              "      <td>326.077500</td>\n",
              "      <td>251.352672</td>\n",
              "      <td>1.430777e+19</td>\n",
              "    </tr>\n",
              "    <tr>\n",
              "      <th>LinearRegression Bagging</th>\n",
              "      <td>0.435876</td>\n",
              "      <td>326.279007</td>\n",
              "      <td>252.229244</td>\n",
              "      <td>1.444632e+19</td>\n",
              "    </tr>\n",
              "  </tbody>\n",
              "</table>\n",
              "</div>"
            ],
            "text/plain": [
              "                                 R2        RMSE         MAE          MAPE\n",
              "Stacking Regressors        0.969980   75.267178   46.876932  1.161348e+18\n",
              "GradientBoostingRegressor  0.951662   95.509346   59.197949  4.590700e+18\n",
              "RandomForest Default       0.912492  128.506787   68.087513  4.848482e+18\n",
              "RandomForest Bagging       0.906263  133.001597   69.305678  5.257590e+18\n",
              "RandomForest GridSearched  0.928788  115.925096   71.528854  4.059628e+18\n",
              "LinearReg GridSearched     0.436573  326.077500  251.352672  1.430777e+19\n",
              "LinearReg Default          0.436573  326.077500  251.352672  1.430777e+19\n",
              "LinearRegression Bagging   0.435876  326.279007  252.229244  1.444632e+19"
            ]
          },
          "execution_count": 21,
          "metadata": {},
          "output_type": "execute_result"
        }
      ],
      "source": [
        "performance_total.sort_values('MAE', ascending=True)"
      ]
    },
    {
      "cell_type": "markdown",
      "metadata": {
        "nteract": {
          "transient": {
            "deleting": false
          }
        }
      },
      "source": [
        "### Todos os modelos treinados dentro de *model_list*"
      ]
    },
    {
      "cell_type": "code",
      "execution_count": null,
      "metadata": {
        "collapsed": true,
        "gather": {
          "logged": 1632363793252
        },
        "jupyter": {
          "outputs_hidden": false,
          "source_hidden": false
        },
        "nteract": {
          "transient": {
            "deleting": false
          }
        }
      },
      "outputs": [],
      "source": [
        "model_list = [\n",
        "    stack,\n",
        "    gradient_boosting_regressor,\n",
        "    bagging_rf_model,\n",
        "    default_randomforest_model,\n",
        "    gridsearch_result_randomforest,\n",
        "    #default_linearregression_model,\n",
        "    #gridsearch_result_linearregression,\n",
        "    #bagging_lr_model,\n",
        "]"
      ]
    },
    {
      "cell_type": "markdown",
      "metadata": {
        "nteract": {
          "transient": {
            "deleting": false
          }
        }
      },
      "source": [
        "## Treinar com 1 mes, prever N semanas"
      ]
    },
    {
      "cell_type": "code",
      "execution_count": null,
      "metadata": {
        "gather": {
          "logged": 1632364536684
        },
        "jupyter": {
          "outputs_hidden": false,
          "source_hidden": false
        },
        "nteract": {
          "transient": {
            "deleting": false
          }
        }
      },
      "outputs": [
        {
          "name": "stdout",
          "output_type": "stream",
          "text": [
            "Fitting 3 folds for each of 100 candidates, totalling 300 fits\n"
          ]
        }
      ],
      "source": [
        "# Jan, Fev, Mar, Abril, Maio\n",
        "# treina com mar, preve 2 semanas de abril\n",
        "\n",
        "mes_de_treino = 3\n",
        "mes_de_previsao = 4\n",
        "\n",
        "line_mes_data_model = line_data_model[line_data_model.mes == mes_de_treino]\n",
        "\n",
        "line_mes_data_model_predict = line_data_model[line_data_model.mes == mes_de_previsao]\n",
        "\n",
        "df_prev = line_mes_data_model_predict[line_mes_data_model_predict.semana_do_mes <  2].filter(feature_names, axis = 1)\n",
        "real_values = pd.DataFrame(line_mes_data_model_predict[line_mes_data_model_predict.semana_do_mes <  2].validations_per_hour)\n",
        "\n",
        "X = line_mes_data_model.filter(feature_names, axis=1)\n",
        "y = line_mes_data_model.validations_per_hour\n",
        "X_train, X_test, Y_train, Y_test = train_test_split(X, y, test_size = 0.2, random_state=5)\n",
        "\n",
        "predictions = [[],[],[],[],[]]\n",
        "performances = list()\n",
        "\n",
        "for i, model in enumerate(model_list):\n",
        "        model.fit(X_train, Y_train)\n",
        "        performances.append(get_performance(model))\n",
        "\n",
        "        for index, row in df_prev.iterrows():\n",
        "            predictions[i].append(model.predict([row])[0])\n"
      ]
    },
    {
      "cell_type": "code",
      "execution_count": null,
      "metadata": {},
      "outputs": [
        {
          "data": {
            "text/html": [
              "<div>\n",
              "<style scoped>\n",
              "    .dataframe tbody tr th:only-of-type {\n",
              "        vertical-align: middle;\n",
              "    }\n",
              "\n",
              "    .dataframe tbody tr th {\n",
              "        vertical-align: top;\n",
              "    }\n",
              "\n",
              "    .dataframe thead th {\n",
              "        text-align: right;\n",
              "    }\n",
              "</style>\n",
              "<table border=\"1\" class=\"dataframe\">\n",
              "  <thead>\n",
              "    <tr style=\"text-align: right;\">\n",
              "      <th></th>\n",
              "      <th>validations_per_hour</th>\n",
              "      <th>validations_per_hour_predicted</th>\n",
              "    </tr>\n",
              "  </thead>\n",
              "  <tbody>\n",
              "    <tr>\n",
              "      <th>230684</th>\n",
              "      <td>0</td>\n",
              "      <td>0.9500</td>\n",
              "    </tr>\n",
              "    <tr>\n",
              "      <th>230685</th>\n",
              "      <td>0</td>\n",
              "      <td>0.2900</td>\n",
              "    </tr>\n",
              "    <tr>\n",
              "      <th>230686</th>\n",
              "      <td>0</td>\n",
              "      <td>3.7000</td>\n",
              "    </tr>\n",
              "    <tr>\n",
              "      <th>230687</th>\n",
              "      <td>0</td>\n",
              "      <td>0.2900</td>\n",
              "    </tr>\n",
              "    <tr>\n",
              "      <th>230688</th>\n",
              "      <td>0</td>\n",
              "      <td>0.2900</td>\n",
              "    </tr>\n",
              "    <tr>\n",
              "      <th>...</th>\n",
              "      <td>...</td>\n",
              "      <td>...</td>\n",
              "    </tr>\n",
              "    <tr>\n",
              "      <th>233770</th>\n",
              "      <td>452</td>\n",
              "      <td>621.2400</td>\n",
              "    </tr>\n",
              "    <tr>\n",
              "      <th>233771</th>\n",
              "      <td>436</td>\n",
              "      <td>519.0900</td>\n",
              "    </tr>\n",
              "    <tr>\n",
              "      <th>233772</th>\n",
              "      <td>320</td>\n",
              "      <td>380.9900</td>\n",
              "    </tr>\n",
              "    <tr>\n",
              "      <th>233773</th>\n",
              "      <td>136</td>\n",
              "      <td>229.1100</td>\n",
              "    </tr>\n",
              "    <tr>\n",
              "      <th>233774</th>\n",
              "      <td>106</td>\n",
              "      <td>36.7435</td>\n",
              "    </tr>\n",
              "  </tbody>\n",
              "</table>\n",
              "<p>268 rows × 2 columns</p>\n",
              "</div>"
            ],
            "text/plain": [
              "        validations_per_hour  validations_per_hour_predicted\n",
              "230684                     0                          0.9500\n",
              "230685                     0                          0.2900\n",
              "230686                     0                          3.7000\n",
              "230687                     0                          0.2900\n",
              "230688                     0                          0.2900\n",
              "...                      ...                             ...\n",
              "233770                   452                        621.2400\n",
              "233771                   436                        519.0900\n",
              "233772                   320                        380.9900\n",
              "233773                   136                        229.1100\n",
              "233774                   106                         36.7435\n",
              "\n",
              "[268 rows x 2 columns]"
            ]
          },
          "execution_count": 24,
          "metadata": {},
          "output_type": "execute_result"
        }
      ],
      "source": [
        "df_performance = pd.DataFrame(performances)\n",
        "df_performance.to_csv('../performances/2015/linha'+str(busline_filter)+'_1mes('+str(mes_de_treino)+')_1semanas('+str(mes_de_previsao)+')_performance.csv', index=False)\n",
        "df_predict_dados = real_values\n",
        "df_predict_dados['validations_per_hour_predicted'] = predictions[0]\n",
        "\n",
        "df_predict_dados.to_csv('../predict-vs-real/2015/linha'+str(busline_filter)+'_1mes('+str(mes_de_treino)+')_1semanas('+str(mes_de_previsao)+')_predict.csv', index=False)\n",
        "df_predict_dados"
      ]
    },
    {
      "cell_type": "markdown",
      "metadata": {
        "nteract": {
          "transient": {
            "deleting": false
          }
        }
      },
      "source": [
        "### Treinar com (N-Y) meses, Prever mes (N)"
      ]
    },
    {
      "cell_type": "code",
      "execution_count": null,
      "metadata": {
        "gather": {
          "logged": 1631467016584
        },
        "jupyter": {
          "outputs_hidden": false,
          "source_hidden": false
        },
        "nteract": {
          "transient": {
            "deleting": false
          }
        }
      },
      "outputs": [
        {
          "name": "stdout",
          "output_type": "stream",
          "text": [
            "168\n"
          ]
        }
      ],
      "source": [
        "predictions = []\n",
        "performances = [[],[],[],[],[],[],[],[]]\n",
        "\n",
        "df_treinamento = line_data_model[line_data_model.mes < 6].copy()\n",
        "df_previsao = line_data_model[line_data_model.mes == 6].loc[line_data_model.d_mes < 8].copy()\n",
        "df_prev = df_previsao.filter(feature_names, axis = 1)\n",
        "df_results = df_previsao.filter('validations_per_hour', axis = 1)\n",
        "\n",
        "print(df_results.__len__())\n",
        "\n",
        "X = df_treinamento.filter(feature_names, axis=1)\n",
        "y = df_treinamento.validations_per_hour\n",
        "X_train, X_test, Y_train, Y_test = train_test_split(X, y, test_size = 0.2, random_state=5)\n",
        "\n",
        "\n",
        "stack.fit(X_train, Y_train)\n",
        "# performances[i].append(get_performance(stack))\n",
        "\n",
        "for index, row in df_prev.iterrows():\n",
        "    predictions.append(stack.predict([row])[0])\n",
        "\n",
        "df_results = df_previsao.validations_per_hour\n",
        "\n",
        "df_performance = pd.DataFrame(performances)\n",
        "df_performance.to_csv('../performances/2020/performance_9_meses_predict_10th_stacking.csv', index=False)\n",
        "\n",
        "\n"
      ]
    },
    {
      "cell_type": "code",
      "execution_count": null,
      "metadata": {
        "gather": {
          "logged": 1631409753552
        },
        "jupyter": {
          "outputs_hidden": false,
          "source_hidden": false
        },
        "nteract": {
          "transient": {
            "deleting": false
          }
        }
      },
      "outputs": [
        {
          "data": {
            "image/png": "[encoded data removed]",
            "text/plain": [
              "<Figure size 2160x720 with 1 Axes>"
            ]
          },
          "metadata": {},
          "output_type": "display_data"
        }
      ],
      "source": [
        "# 168 == quantidade de horas previstas em 1 semana\n",
        "plt_size = 168\n",
        "\n",
        "plt.figure(figsize=(30, 10))\n",
        "plt.plot(range(df_results.size), df_results.values, color='blue')\n",
        "plt.plot(range(predictions.__len__()), predictions, color='red')\n",
        "plt.xlabel('True Values')\n",
        "plt.ylabel('Predictions')\n",
        "plt.show()"
      ]
    },
    {
      "cell_type": "code",
      "execution_count": null,
      "metadata": {
        "gather": {
          "logged": 1631409753830
        },
        "jupyter": {
          "outputs_hidden": false,
          "source_hidden": false
        },
        "nteract": {
          "transient": {
            "deleting": false
          }
        }
      },
      "outputs": [],
      "source": [
        "performances"
      ]
    },
    {
      "cell_type": "markdown",
      "metadata": {
        "nteract": {
          "transient": {
            "deleting": false
          }
        }
      },
      "source": [
        "## Ranking Linhas de Onibus"
      ]
    },
    {
      "cell_type": "code",
      "execution_count": 29,
      "metadata": {
        "gather": {
          "logged": 1631409754617
        }
      },
      "outputs": [
        {
          "name": "stdout",
          "output_type": "stream",
          "text": [
            "Fitting 3 folds for each of 100 candidates, totalling 300 fits\n",
            "Fitting 3 folds for each of 100 candidates, totalling 300 fits\n",
            "Fitting 3 folds for each of 100 candidates, totalling 300 fits\n",
            "Fitting 3 folds for each of 100 candidates, totalling 300 fits\n",
            "Fitting 3 folds for each of 100 candidates, totalling 300 fits\n",
            "Fitting 3 folds for each of 100 candidates, totalling 300 fits\n",
            "Fitting 3 folds for each of 100 candidates, totalling 300 fits\n",
            "Fitting 3 folds for each of 100 candidates, totalling 300 fits\n",
            "Fitting 3 folds for each of 100 candidates, totalling 300 fits\n",
            "Fitting 3 folds for each of 100 candidates, totalling 300 fits\n",
            "Fitting 3 folds for each of 100 candidates, totalling 300 fits\n",
            "Fitting 3 folds for each of 100 candidates, totalling 300 fits\n",
            "Fitting 3 folds for each of 100 candidates, totalling 300 fits\n",
            "Fitting 3 folds for each of 100 candidates, totalling 300 fits\n",
            "Fitting 3 folds for each of 100 candidates, totalling 300 fits\n",
            "Fitting 3 folds for each of 100 candidates, totalling 300 fits\n",
            "Fitting 3 folds for each of 100 candidates, totalling 300 fits\n",
            "Fitting 3 folds for each of 100 candidates, totalling 300 fits\n",
            "Fitting 3 folds for each of 100 candidates, totalling 300 fits\n",
            "Fitting 3 folds for each of 100 candidates, totalling 300 fits\n",
            "Fitting 3 folds for each of 100 candidates, totalling 300 fits\n",
            "Fitting 3 folds for each of 100 candidates, totalling 300 fits\n",
            "Fitting 3 folds for each of 100 candidates, totalling 300 fits\n",
            "Fitting 3 folds for each of 100 candidates, totalling 300 fits\n",
            "Fitting 3 folds for each of 100 candidates, totalling 300 fits\n",
            "Fitting 3 folds for each of 100 candidates, totalling 300 fits\n",
            "Fitting 3 folds for each of 100 candidates, totalling 300 fits\n",
            "Fitting 3 folds for each of 100 candidates, totalling 300 fits\n",
            "Fitting 3 folds for each of 100 candidates, totalling 300 fits\n",
            "Fitting 3 folds for each of 100 candidates, totalling 300 fits\n",
            "Fitting 3 folds for each of 100 candidates, totalling 300 fits\n",
            "Fitting 3 folds for each of 100 candidates, totalling 300 fits\n",
            "Fitting 3 folds for each of 100 candidates, totalling 300 fits\n",
            "Fitting 3 folds for each of 100 candidates, totalling 300 fits\n",
            "Fitting 3 folds for each of 100 candidates, totalling 300 fits\n",
            "Fitting 3 folds for each of 100 candidates, totalling 300 fits\n",
            "Fitting 3 folds for each of 100 candidates, totalling 300 fits\n",
            "Fitting 3 folds for each of 100 candidates, totalling 300 fits\n",
            "Fitting 3 folds for each of 100 candidates, totalling 300 fits\n",
            "Fitting 3 folds for each of 100 candidates, totalling 300 fits\n",
            "Fitting 3 folds for each of 100 candidates, totalling 300 fits\n",
            "Fitting 3 folds for each of 100 candidates, totalling 300 fits\n",
            "Fitting 3 folds for each of 100 candidates, totalling 300 fits\n",
            "Fitting 3 folds for each of 100 candidates, totalling 300 fits\n",
            "Fitting 3 folds for each of 100 candidates, totalling 300 fits\n",
            "Fitting 3 folds for each of 100 candidates, totalling 300 fits\n",
            "Fitting 3 folds for each of 100 candidates, totalling 300 fits\n",
            "Fitting 3 folds for each of 100 candidates, totalling 300 fits\n",
            "Fitting 3 folds for each of 100 candidates, totalling 300 fits\n",
            "Fitting 3 folds for each of 100 candidates, totalling 300 fits\n",
            "Fitting 3 folds for each of 100 candidates, totalling 300 fits\n",
            "Fitting 3 folds for each of 100 candidates, totalling 300 fits\n",
            "Fitting 3 folds for each of 100 candidates, totalling 300 fits\n",
            "Fitting 3 folds for each of 100 candidates, totalling 300 fits\n",
            "Fitting 3 folds for each of 100 candidates, totalling 300 fits\n",
            "Fitting 3 folds for each of 100 candidates, totalling 300 fits\n",
            "Fitting 3 folds for each of 100 candidates, totalling 300 fits\n",
            "Fitting 3 folds for each of 100 candidates, totalling 300 fits\n",
            "Fitting 3 folds for each of 100 candidates, totalling 300 fits\n",
            "Fitting 3 folds for each of 100 candidates, totalling 300 fits\n",
            "Fitting 3 folds for each of 100 candidates, totalling 300 fits\n",
            "Fitting 3 folds for each of 100 candidates, totalling 300 fits\n",
            "Fitting 3 folds for each of 100 candidates, totalling 300 fits\n",
            "Fitting 3 folds for each of 100 candidates, totalling 300 fits\n",
            "Fitting 3 folds for each of 100 candidates, totalling 300 fits\n",
            "Fitting 3 folds for each of 100 candidates, totalling 300 fits\n",
            "Fitting 3 folds for each of 100 candidates, totalling 300 fits\n",
            "Fitting 3 folds for each of 100 candidates, totalling 300 fits\n",
            "Fitting 3 folds for each of 100 candidates, totalling 300 fits\n",
            "Fitting 3 folds for each of 100 candidates, totalling 300 fits\n",
            "Fitting 3 folds for each of 100 candidates, totalling 300 fits\n",
            "Fitting 3 folds for each of 100 candidates, totalling 300 fits\n",
            "Fitting 3 folds for each of 100 candidates, totalling 300 fits\n",
            "Fitting 3 folds for each of 100 candidates, totalling 300 fits\n",
            "Fitting 3 folds for each of 100 candidates, totalling 300 fits\n",
            "Fitting 3 folds for each of 100 candidates, totalling 300 fits\n",
            "Fitting 3 folds for each of 100 candidates, totalling 300 fits\n",
            "Fitting 3 folds for each of 100 candidates, totalling 300 fits\n",
            "Fitting 3 folds for each of 100 candidates, totalling 300 fits\n",
            "Fitting 3 folds for each of 100 candidates, totalling 300 fits\n",
            "Fitting 3 folds for each of 100 candidates, totalling 300 fits\n",
            "Fitting 3 folds for each of 100 candidates, totalling 300 fits\n",
            "Fitting 3 folds for each of 100 candidates, totalling 300 fits\n",
            "Fitting 3 folds for each of 100 candidates, totalling 300 fits\n",
            "Fitting 3 folds for each of 100 candidates, totalling 300 fits\n",
            "Fitting 3 folds for each of 100 candidates, totalling 300 fits\n",
            "Fitting 3 folds for each of 100 candidates, totalling 300 fits\n",
            "Fitting 3 folds for each of 100 candidates, totalling 300 fits\n",
            "Fitting 3 folds for each of 100 candidates, totalling 300 fits\n",
            "Fitting 3 folds for each of 100 candidates, totalling 300 fits\n",
            "Fitting 3 folds for each of 100 candidates, totalling 300 fits\n",
            "Fitting 3 folds for each of 100 candidates, totalling 300 fits\n",
            "Fitting 3 folds for each of 100 candidates, totalling 300 fits\n",
            "Fitting 3 folds for each of 100 candidates, totalling 300 fits\n",
            "Fitting 3 folds for each of 100 candidates, totalling 300 fits\n",
            "Fitting 3 folds for each of 100 candidates, totalling 300 fits\n",
            "Fitting 3 folds for each of 100 candidates, totalling 300 fits\n",
            "Fitting 3 folds for each of 100 candidates, totalling 300 fits\n",
            "Fitting 3 folds for each of 100 candidates, totalling 300 fits\n",
            "Fitting 3 folds for each of 100 candidates, totalling 300 fits\n"
          ]
        }
      ],
      "source": [
        "\n",
        "# print(data_model.linha.value_counts(ascending=True)[data_model['linha'].value_counts() < 100])\n",
        "\n",
        "# linha_lista = data_model.linha.unique()\n",
        "# linha_lista = linha_lista[:10]\n",
        "res_map = list()\n",
        "top100_linhas = data_model.linha.value_counts().index[:100]\n",
        "\n",
        "for linha in top100_linhas:\n",
        "    currentLinhaData = top100_linhas_data_model.loc[top100_linhas_data_model['linha'] == linha].copy()\n",
        "    X = currentLinhaData.filter(feature_names, axis=1)\n",
        "    y = currentLinhaData.validations_per_hour\n",
        "    X_train, X_test, Y_train, Y_test = train_test_split(X, y, test_size = 0.2, random_state=5)\n",
        "    for model in model_list:\n",
        "        model.fit(X_train, Y_train)\n",
        "        performance = get_performance(model)\n",
        "        performance.insert(0, linha)\n",
        "        res_map.append(performance)\n",
        "res_map = pd.DataFrame(res_map, columns=[\"Linha\", \"R2\", \"RMSE\", \"MAE\", 'MAPE'])\n",
        "r = res_map.sort_values('MAE', ascending=True)\n",
        "r.to_csv(\"../performances/2015/ranking_top100_2015.csv\", index=False)\n",
        "\n"
      ]
    },
    {
      "cell_type": "code",
      "execution_count": null,
      "metadata": {
        "gather": {
          "logged": 1631504114908
        },
        "jupyter": {
          "outputs_hidden": false,
          "source_hidden": false
        },
        "nteract": {
          "transient": {
            "deleting": false
          }
        }
      },
      "outputs": [],
      "source": [
        "# res_map = pd.DataFrame(res_map,columns=['Linha', \n",
        "#     # '[LR][DEF]R2', '[LR][DF]RMSE', '[LR][DF]MAE',\n",
        "#     '[RF][GS]R2', '[RF][GS]RMSE', '[RF][GS]MAE',\n",
        "#     # '[LR][BAG]R2', '[LR][BAG]RMSE', '[LR][BAG]MAE',\n",
        "#     '[RF][BAG]R2', '[RF][BAG]RMSE', '[RF][BAG]MAE',\n",
        "#     '[STK]R2', '[STK]RMSE', '[STK]MAE',\n",
        "#     # '[BOS]R2', '[BOS]RMSE', '[BOS]MAE' \n",
        "#     ])\n",
        "res_map = pd.DataFrame(res_map,columns=['Linha','R2', 'RMSE', 'MAE', 'MAPE'])\n",
        "\n",
        "#performance_scoring['Score'] = performance_scoring['Score'].astype('float64')\n",
        "res_map = res_map.sort_values('MAE', ascending=True).reset_index(drop=True)\n",
        "res_map = res_map.drop_duplicates(subset='Linha', keep=\"first\").reset_index(drop=True)\n",
        "res_map.to_csv('../top100linhas_rank_2015.csv', index=False)\n",
        "res_map"
      ]
    }
  ],
  "metadata": {
    "interpreter": {
      "hash": "4caa081543ae4d7454eea2adf6270962382d99fc25b3a6423caed7aecce4d7f8"
    },
    "kernel_info": {
      "name": "python38-azureml"
    },
    "kernelspec": {
      "display_name": "Python 3.8.8 64-bit ('ml': conda)",
      "name": "python3"
    },
    "language_info": {
      "codemirror_mode": {
        "name": "ipython",
        "version": 3
      },
      "file_extension": ".py",
      "mimetype": "text/x-python",
      "name": "python",
      "nbconvert_exporter": "python",
      "pygments_lexer": "ipython3",
      "version": "3.8.8"
    },
    "microsoft": {
      "host": {
        "AzureML": {
          "notebookHasBeenCompleted": true
        }
      }
    },
    "nteract": {
      "version": "nteract-front-end@1.0.0"
    }
  },
  "nbformat": 4,
  "nbformat_minor": 5
}
