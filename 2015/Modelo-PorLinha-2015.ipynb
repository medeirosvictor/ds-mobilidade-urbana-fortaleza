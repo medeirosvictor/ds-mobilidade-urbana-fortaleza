{
  "cells": [
    {
      "cell_type": "markdown",
      "metadata": {},
      "source": [
        "## Previsao de Embarque \n",
        "- Simples \n",
        "- Sem Serie Temporal\n",
        "- Regressao Linear\n",
        "- Random Forest\n",
        "- Com Grid Search\n",
        "- Bagging, Stacking e Boosting"
      ]
    },
    {
      "cell_type": "code",
      "execution_count": 1,
      "metadata": {
        "gather": {
          "logged": 1632360924338
        }
      },
      "outputs": [],
      "source": [
        "import pandas as pd\n",
        "import matplotlib.pyplot as plt\n",
        "import numpy as np\n",
        "import seaborn as sns\n",
        "\n",
        "from sklearn.preprocessing import OneHotEncoder\n",
        "from sklearn.linear_model import LinearRegression, Ridge, ElasticNet, Lasso\n",
        "from sklearn.svm import SVR\n",
        "from sklearn.ensemble import RandomForestRegressor, BaggingRegressor, StackingRegressor, GradientBoostingRegressor\n",
        "from sklearn.kernel_ridge import KernelRidge\n",
        "from sklearn.preprocessing import RobustScaler\n",
        "from sklearn.tree import DecisionTreeRegressor\n",
        "from sklearn.pipeline import make_pipeline\n",
        "import xgboost as xg\n",
        "import lightgbm as lgb\n",
        "\n",
        "import warnings\n",
        "\n",
        "from sklearn.model_selection import train_test_split, cross_val_score\n",
        "from sklearn.metrics import mean_squared_error, r2_score, mean_absolute_error, mean_absolute_percentage_error\n",
        "from sklearn.model_selection import RandomizedSearchCV\n",
        "from IPython.display import display\n",
        "from pprint import pprint\n",
        "from math import sqrt\n",
        "\n",
        "from variables import feriados_2015, feriados_2018, vesperas_2015, vesperas_2018, feriados_2020, vesperas_2020\n",
        "\n",
        "#from shutil import unpack_archive\n",
        "#unpack_archive('./df_input.zip', './')"
      ]
    },
    {
      "cell_type": "markdown",
      "metadata": {
        "nteract": {
          "transient": {
            "deleting": false
          }
        }
      },
      "source": [
        "## Filtro de Onibus e definicoes de features/target"
      ]
    },
    {
      "cell_type": "code",
      "execution_count": 2,
      "id": "f494b675",
      "metadata": {},
      "outputs": [],
      "source": [
        "year = 2015\n",
        "\n",
        "if (year == 2015):\n",
        "    feriados = feriados_2015\n",
        "    vesperas = vesperas_2015\n",
        "    data = pd.read_csv('../data_input_zerofill_2015.csv', delimiter=\";\")\n",
        "elif (year == 2018):\n",
        "    feriados = feriados_2018\n",
        "    vesperas = vesperas_2018\n",
        "    data = pd.read_csv('../data_input_zerofill_2018.csv', delimiter=\",\")\n",
        "elif (year == 2020):\n",
        "    feriados = feriados_2020\n",
        "    vesperas = vesperas_2020\n",
        "    data = pd.read_csv('../data_input_zerofill_2020.csv', delimiter=\";\")\n"
      ]
    },
    {
      "cell_type": "code",
      "execution_count": 3,
      "metadata": {
        "collapsed": true,
        "gather": {
          "logged": 1632360927530
        },
        "jupyter": {
          "outputs_hidden": false,
          "source_hidden": false
        },
        "nteract": {
          "transient": {
            "deleting": false
          }
        }
      },
      "outputs": [],
      "source": [
        "\n",
        "data['data_hora'] = pd.to_datetime(data['data_hora'], format='%Y/%m/%d %H:%M:%S', errors='coerce')\n",
        "data_model = data.loc[data.data_hora.dt.year == year].copy()\n",
        "\n",
        "#d_ano,  estao disponiveis para inserir once eu tive mais de 1 ano de dados\n",
        "feature_names = [\n",
        "    # 'hora',\n",
        "    'hour_sin',\n",
        "    'hour_cos',\n",
        "    'd_mes',\n",
        "    'd_ano',\n",
        "    'mes',\n",
        "    'semana_do_mes',\n",
        "    'domingo','segunda', 'terca', 'quarta', 'quinta', 'sexta', 'sabado',\n",
        "    'feriado', 'vespera_feriado']\n",
        "\n",
        "target = 'validations_per_hour'\n",
        "\n",
        "# 45 *\n",
        "# 3 *\n",
        "# 42 *\n",
        "# 51 * \n",
        "# 52 * \n",
        "# 24 * \n",
        "# 76 * \n",
        "# 26 *\n",
        "# 44\n",
        "\n",
        "busline_filter = 44"
      ]
    },
    {
      "cell_type": "code",
      "execution_count": 4,
      "id": "f2128ef3",
      "metadata": {},
      "outputs": [],
      "source": [
        "one_hot_encoder = OneHotEncoder(sparse=False)\n",
        "\n",
        "data_model[['domingo','segunda', 'terca', 'quarta', 'quinta', 'sexta', 'sabado']] = one_hot_encoder.fit_transform(data_model['d_semana'].values.reshape(-1,1))\n",
        "data_model['feriado'] = [1 if any((x[0] == d and x[1] == m) for (_, d, m) in feriados) else 0 for x in list(zip(data_model.d_mes, data_model.mes))]\n",
        "data_model['vespera_feriado'] = [1 if any((x[0] == d and x[1] == m) for (_, d, m) in vesperas) else 0 for x in list(zip(data_model.d_mes, data_model.mes))]\n"
      ]
    },
    {
      "cell_type": "code",
      "execution_count": 5,
      "id": "36a7fb5a",
      "metadata": {},
      "outputs": [
        {
          "data": {
            "text/html": [
              "<div>\n",
              "<style scoped>\n",
              "    .dataframe tbody tr th:only-of-type {\n",
              "        vertical-align: middle;\n",
              "    }\n",
              "\n",
              "    .dataframe tbody tr th {\n",
              "        vertical-align: top;\n",
              "    }\n",
              "\n",
              "    .dataframe thead th {\n",
              "        text-align: right;\n",
              "    }\n",
              "</style>\n",
              "<table border=\"1\" class=\"dataframe\">\n",
              "  <thead>\n",
              "    <tr style=\"text-align: right;\">\n",
              "      <th></th>\n",
              "      <th>linha</th>\n",
              "      <th>data_hora</th>\n",
              "      <th>validations_per_hour</th>\n",
              "      <th>d_semana</th>\n",
              "      <th>hour_sin</th>\n",
              "      <th>hour_cos</th>\n",
              "      <th>hora</th>\n",
              "      <th>d_mes</th>\n",
              "      <th>d_ano</th>\n",
              "      <th>mes</th>\n",
              "      <th>semana_do_mes</th>\n",
              "      <th>domingo</th>\n",
              "      <th>segunda</th>\n",
              "      <th>terca</th>\n",
              "      <th>quarta</th>\n",
              "      <th>quinta</th>\n",
              "      <th>sexta</th>\n",
              "      <th>sabado</th>\n",
              "      <th>feriado</th>\n",
              "      <th>vespera_feriado</th>\n",
              "    </tr>\n",
              "  </thead>\n",
              "  <tbody>\n",
              "    <tr>\n",
              "      <th>257085</th>\n",
              "      <td>44</td>\n",
              "      <td>2015-01-01 00:00:00</td>\n",
              "      <td>0</td>\n",
              "      <td>3</td>\n",
              "      <td>0.000000e+00</td>\n",
              "      <td>1.000000</td>\n",
              "      <td>0</td>\n",
              "      <td>1</td>\n",
              "      <td>1</td>\n",
              "      <td>1</td>\n",
              "      <td>1</td>\n",
              "      <td>0.0</td>\n",
              "      <td>0.0</td>\n",
              "      <td>0.0</td>\n",
              "      <td>1.0</td>\n",
              "      <td>0.0</td>\n",
              "      <td>0.0</td>\n",
              "      <td>0.0</td>\n",
              "      <td>1</td>\n",
              "      <td>0</td>\n",
              "    </tr>\n",
              "    <tr>\n",
              "      <th>257086</th>\n",
              "      <td>44</td>\n",
              "      <td>2015-01-01 01:00:00</td>\n",
              "      <td>0</td>\n",
              "      <td>3</td>\n",
              "      <td>2.697968e-01</td>\n",
              "      <td>0.962917</td>\n",
              "      <td>1</td>\n",
              "      <td>1</td>\n",
              "      <td>1</td>\n",
              "      <td>1</td>\n",
              "      <td>1</td>\n",
              "      <td>0.0</td>\n",
              "      <td>0.0</td>\n",
              "      <td>0.0</td>\n",
              "      <td>1.0</td>\n",
              "      <td>0.0</td>\n",
              "      <td>0.0</td>\n",
              "      <td>0.0</td>\n",
              "      <td>1</td>\n",
              "      <td>0</td>\n",
              "    </tr>\n",
              "    <tr>\n",
              "      <th>257087</th>\n",
              "      <td>44</td>\n",
              "      <td>2015-01-01 02:00:00</td>\n",
              "      <td>0</td>\n",
              "      <td>3</td>\n",
              "      <td>5.195840e-01</td>\n",
              "      <td>0.854419</td>\n",
              "      <td>2</td>\n",
              "      <td>1</td>\n",
              "      <td>1</td>\n",
              "      <td>1</td>\n",
              "      <td>1</td>\n",
              "      <td>0.0</td>\n",
              "      <td>0.0</td>\n",
              "      <td>0.0</td>\n",
              "      <td>1.0</td>\n",
              "      <td>0.0</td>\n",
              "      <td>0.0</td>\n",
              "      <td>0.0</td>\n",
              "      <td>1</td>\n",
              "      <td>0</td>\n",
              "    </tr>\n",
              "    <tr>\n",
              "      <th>257088</th>\n",
              "      <td>44</td>\n",
              "      <td>2015-01-01 03:00:00</td>\n",
              "      <td>0</td>\n",
              "      <td>3</td>\n",
              "      <td>7.308360e-01</td>\n",
              "      <td>0.682553</td>\n",
              "      <td>3</td>\n",
              "      <td>1</td>\n",
              "      <td>1</td>\n",
              "      <td>1</td>\n",
              "      <td>1</td>\n",
              "      <td>0.0</td>\n",
              "      <td>0.0</td>\n",
              "      <td>0.0</td>\n",
              "      <td>1.0</td>\n",
              "      <td>0.0</td>\n",
              "      <td>0.0</td>\n",
              "      <td>0.0</td>\n",
              "      <td>1</td>\n",
              "      <td>0</td>\n",
              "    </tr>\n",
              "    <tr>\n",
              "      <th>257089</th>\n",
              "      <td>44</td>\n",
              "      <td>2015-01-01 04:00:00</td>\n",
              "      <td>0</td>\n",
              "      <td>3</td>\n",
              "      <td>8.878852e-01</td>\n",
              "      <td>0.460065</td>\n",
              "      <td>4</td>\n",
              "      <td>1</td>\n",
              "      <td>1</td>\n",
              "      <td>1</td>\n",
              "      <td>1</td>\n",
              "      <td>0.0</td>\n",
              "      <td>0.0</td>\n",
              "      <td>0.0</td>\n",
              "      <td>1.0</td>\n",
              "      <td>0.0</td>\n",
              "      <td>0.0</td>\n",
              "      <td>0.0</td>\n",
              "      <td>1</td>\n",
              "      <td>0</td>\n",
              "    </tr>\n",
              "    <tr>\n",
              "      <th>...</th>\n",
              "      <td>...</td>\n",
              "      <td>...</td>\n",
              "      <td>...</td>\n",
              "      <td>...</td>\n",
              "      <td>...</td>\n",
              "      <td>...</td>\n",
              "      <td>...</td>\n",
              "      <td>...</td>\n",
              "      <td>...</td>\n",
              "      <td>...</td>\n",
              "      <td>...</td>\n",
              "      <td>...</td>\n",
              "      <td>...</td>\n",
              "      <td>...</td>\n",
              "      <td>...</td>\n",
              "      <td>...</td>\n",
              "      <td>...</td>\n",
              "      <td>...</td>\n",
              "      <td>...</td>\n",
              "      <td>...</td>\n",
              "    </tr>\n",
              "    <tr>\n",
              "      <th>265961</th>\n",
              "      <td>44</td>\n",
              "      <td>2015-12-31 19:00:00</td>\n",
              "      <td>417</td>\n",
              "      <td>3</td>\n",
              "      <td>-8.878852e-01</td>\n",
              "      <td>0.460065</td>\n",
              "      <td>19</td>\n",
              "      <td>31</td>\n",
              "      <td>365</td>\n",
              "      <td>12</td>\n",
              "      <td>4</td>\n",
              "      <td>0.0</td>\n",
              "      <td>0.0</td>\n",
              "      <td>0.0</td>\n",
              "      <td>1.0</td>\n",
              "      <td>0.0</td>\n",
              "      <td>0.0</td>\n",
              "      <td>0.0</td>\n",
              "      <td>0</td>\n",
              "      <td>1</td>\n",
              "    </tr>\n",
              "    <tr>\n",
              "      <th>265962</th>\n",
              "      <td>44</td>\n",
              "      <td>2015-12-31 20:00:00</td>\n",
              "      <td>261</td>\n",
              "      <td>3</td>\n",
              "      <td>-7.308360e-01</td>\n",
              "      <td>0.682553</td>\n",
              "      <td>20</td>\n",
              "      <td>31</td>\n",
              "      <td>365</td>\n",
              "      <td>12</td>\n",
              "      <td>4</td>\n",
              "      <td>0.0</td>\n",
              "      <td>0.0</td>\n",
              "      <td>0.0</td>\n",
              "      <td>1.0</td>\n",
              "      <td>0.0</td>\n",
              "      <td>0.0</td>\n",
              "      <td>0.0</td>\n",
              "      <td>0</td>\n",
              "      <td>1</td>\n",
              "    </tr>\n",
              "    <tr>\n",
              "      <th>265963</th>\n",
              "      <td>44</td>\n",
              "      <td>2015-12-31 21:00:00</td>\n",
              "      <td>240</td>\n",
              "      <td>3</td>\n",
              "      <td>-5.195840e-01</td>\n",
              "      <td>0.854419</td>\n",
              "      <td>21</td>\n",
              "      <td>31</td>\n",
              "      <td>365</td>\n",
              "      <td>12</td>\n",
              "      <td>4</td>\n",
              "      <td>0.0</td>\n",
              "      <td>0.0</td>\n",
              "      <td>0.0</td>\n",
              "      <td>1.0</td>\n",
              "      <td>0.0</td>\n",
              "      <td>0.0</td>\n",
              "      <td>0.0</td>\n",
              "      <td>0</td>\n",
              "      <td>1</td>\n",
              "    </tr>\n",
              "    <tr>\n",
              "      <th>265964</th>\n",
              "      <td>44</td>\n",
              "      <td>2015-12-31 22:00:00</td>\n",
              "      <td>168</td>\n",
              "      <td>3</td>\n",
              "      <td>-2.697968e-01</td>\n",
              "      <td>0.962917</td>\n",
              "      <td>22</td>\n",
              "      <td>31</td>\n",
              "      <td>365</td>\n",
              "      <td>12</td>\n",
              "      <td>4</td>\n",
              "      <td>0.0</td>\n",
              "      <td>0.0</td>\n",
              "      <td>0.0</td>\n",
              "      <td>1.0</td>\n",
              "      <td>0.0</td>\n",
              "      <td>0.0</td>\n",
              "      <td>0.0</td>\n",
              "      <td>0</td>\n",
              "      <td>1</td>\n",
              "    </tr>\n",
              "    <tr>\n",
              "      <th>265965</th>\n",
              "      <td>44</td>\n",
              "      <td>2015-12-31 23:00:00</td>\n",
              "      <td>46</td>\n",
              "      <td>3</td>\n",
              "      <td>-2.449294e-16</td>\n",
              "      <td>1.000000</td>\n",
              "      <td>23</td>\n",
              "      <td>31</td>\n",
              "      <td>365</td>\n",
              "      <td>12</td>\n",
              "      <td>4</td>\n",
              "      <td>0.0</td>\n",
              "      <td>0.0</td>\n",
              "      <td>0.0</td>\n",
              "      <td>1.0</td>\n",
              "      <td>0.0</td>\n",
              "      <td>0.0</td>\n",
              "      <td>0.0</td>\n",
              "      <td>0</td>\n",
              "      <td>1</td>\n",
              "    </tr>\n",
              "  </tbody>\n",
              "</table>\n",
              "<p>8881 rows × 20 columns</p>\n",
              "</div>"
            ],
            "text/plain": [
              "        linha           data_hora  validations_per_hour  d_semana  \\\n",
              "257085     44 2015-01-01 00:00:00                     0         3   \n",
              "257086     44 2015-01-01 01:00:00                     0         3   \n",
              "257087     44 2015-01-01 02:00:00                     0         3   \n",
              "257088     44 2015-01-01 03:00:00                     0         3   \n",
              "257089     44 2015-01-01 04:00:00                     0         3   \n",
              "...       ...                 ...                   ...       ...   \n",
              "265961     44 2015-12-31 19:00:00                   417         3   \n",
              "265962     44 2015-12-31 20:00:00                   261         3   \n",
              "265963     44 2015-12-31 21:00:00                   240         3   \n",
              "265964     44 2015-12-31 22:00:00                   168         3   \n",
              "265965     44 2015-12-31 23:00:00                    46         3   \n",
              "\n",
              "            hour_sin  hour_cos  hora  d_mes  d_ano  mes  semana_do_mes  \\\n",
              "257085  0.000000e+00  1.000000     0      1      1    1              1   \n",
              "257086  2.697968e-01  0.962917     1      1      1    1              1   \n",
              "257087  5.195840e-01  0.854419     2      1      1    1              1   \n",
              "257088  7.308360e-01  0.682553     3      1      1    1              1   \n",
              "257089  8.878852e-01  0.460065     4      1      1    1              1   \n",
              "...              ...       ...   ...    ...    ...  ...            ...   \n",
              "265961 -8.878852e-01  0.460065    19     31    365   12              4   \n",
              "265962 -7.308360e-01  0.682553    20     31    365   12              4   \n",
              "265963 -5.195840e-01  0.854419    21     31    365   12              4   \n",
              "265964 -2.697968e-01  0.962917    22     31    365   12              4   \n",
              "265965 -2.449294e-16  1.000000    23     31    365   12              4   \n",
              "\n",
              "        domingo  segunda  terca  quarta  quinta  sexta  sabado  feriado  \\\n",
              "257085      0.0      0.0    0.0     1.0     0.0    0.0     0.0        1   \n",
              "257086      0.0      0.0    0.0     1.0     0.0    0.0     0.0        1   \n",
              "257087      0.0      0.0    0.0     1.0     0.0    0.0     0.0        1   \n",
              "257088      0.0      0.0    0.0     1.0     0.0    0.0     0.0        1   \n",
              "257089      0.0      0.0    0.0     1.0     0.0    0.0     0.0        1   \n",
              "...         ...      ...    ...     ...     ...    ...     ...      ...   \n",
              "265961      0.0      0.0    0.0     1.0     0.0    0.0     0.0        0   \n",
              "265962      0.0      0.0    0.0     1.0     0.0    0.0     0.0        0   \n",
              "265963      0.0      0.0    0.0     1.0     0.0    0.0     0.0        0   \n",
              "265964      0.0      0.0    0.0     1.0     0.0    0.0     0.0        0   \n",
              "265965      0.0      0.0    0.0     1.0     0.0    0.0     0.0        0   \n",
              "\n",
              "        vespera_feriado  \n",
              "257085                0  \n",
              "257086                0  \n",
              "257087                0  \n",
              "257088                0  \n",
              "257089                0  \n",
              "...                 ...  \n",
              "265961                1  \n",
              "265962                1  \n",
              "265963                1  \n",
              "265964                1  \n",
              "265965                1  \n",
              "\n",
              "[8881 rows x 20 columns]"
            ]
          },
          "execution_count": 5,
          "metadata": {},
          "output_type": "execute_result"
        }
      ],
      "source": [
        "data_model.loc[data_model.linha == busline_filter]"
      ]
    },
    {
      "cell_type": "code",
      "execution_count": 6,
      "metadata": {
        "gather": {
          "logged": 1632360940056
        }
      },
      "outputs": [
        {
          "data": {
            "text/html": [
              "<div>\n",
              "<style scoped>\n",
              "    .dataframe tbody tr th:only-of-type {\n",
              "        vertical-align: middle;\n",
              "    }\n",
              "\n",
              "    .dataframe tbody tr th {\n",
              "        vertical-align: top;\n",
              "    }\n",
              "\n",
              "    .dataframe thead th {\n",
              "        text-align: right;\n",
              "    }\n",
              "</style>\n",
              "<table border=\"1\" class=\"dataframe\">\n",
              "  <thead>\n",
              "    <tr style=\"text-align: right;\">\n",
              "      <th></th>\n",
              "      <th>linha</th>\n",
              "      <th>data_hora</th>\n",
              "      <th>validations_per_hour</th>\n",
              "      <th>d_semana</th>\n",
              "      <th>hour_sin</th>\n",
              "      <th>hour_cos</th>\n",
              "      <th>hora</th>\n",
              "      <th>d_mes</th>\n",
              "      <th>d_ano</th>\n",
              "      <th>mes</th>\n",
              "      <th>semana_do_mes</th>\n",
              "      <th>domingo</th>\n",
              "      <th>segunda</th>\n",
              "      <th>terca</th>\n",
              "      <th>quarta</th>\n",
              "      <th>quinta</th>\n",
              "      <th>sexta</th>\n",
              "      <th>sabado</th>\n",
              "      <th>feriado</th>\n",
              "      <th>vespera_feriado</th>\n",
              "    </tr>\n",
              "  </thead>\n",
              "  <tbody>\n",
              "    <tr>\n",
              "      <th>257085</th>\n",
              "      <td>44</td>\n",
              "      <td>2015-01-01 00:00:00</td>\n",
              "      <td>0</td>\n",
              "      <td>3</td>\n",
              "      <td>0.000000e+00</td>\n",
              "      <td>1.000000</td>\n",
              "      <td>0</td>\n",
              "      <td>1</td>\n",
              "      <td>1</td>\n",
              "      <td>1</td>\n",
              "      <td>1</td>\n",
              "      <td>0.0</td>\n",
              "      <td>0.0</td>\n",
              "      <td>0.0</td>\n",
              "      <td>1.0</td>\n",
              "      <td>0.0</td>\n",
              "      <td>0.0</td>\n",
              "      <td>0.0</td>\n",
              "      <td>1</td>\n",
              "      <td>0</td>\n",
              "    </tr>\n",
              "    <tr>\n",
              "      <th>257086</th>\n",
              "      <td>44</td>\n",
              "      <td>2015-01-01 01:00:00</td>\n",
              "      <td>0</td>\n",
              "      <td>3</td>\n",
              "      <td>2.697968e-01</td>\n",
              "      <td>0.962917</td>\n",
              "      <td>1</td>\n",
              "      <td>1</td>\n",
              "      <td>1</td>\n",
              "      <td>1</td>\n",
              "      <td>1</td>\n",
              "      <td>0.0</td>\n",
              "      <td>0.0</td>\n",
              "      <td>0.0</td>\n",
              "      <td>1.0</td>\n",
              "      <td>0.0</td>\n",
              "      <td>0.0</td>\n",
              "      <td>0.0</td>\n",
              "      <td>1</td>\n",
              "      <td>0</td>\n",
              "    </tr>\n",
              "    <tr>\n",
              "      <th>257087</th>\n",
              "      <td>44</td>\n",
              "      <td>2015-01-01 02:00:00</td>\n",
              "      <td>0</td>\n",
              "      <td>3</td>\n",
              "      <td>5.195840e-01</td>\n",
              "      <td>0.854419</td>\n",
              "      <td>2</td>\n",
              "      <td>1</td>\n",
              "      <td>1</td>\n",
              "      <td>1</td>\n",
              "      <td>1</td>\n",
              "      <td>0.0</td>\n",
              "      <td>0.0</td>\n",
              "      <td>0.0</td>\n",
              "      <td>1.0</td>\n",
              "      <td>0.0</td>\n",
              "      <td>0.0</td>\n",
              "      <td>0.0</td>\n",
              "      <td>1</td>\n",
              "      <td>0</td>\n",
              "    </tr>\n",
              "    <tr>\n",
              "      <th>257088</th>\n",
              "      <td>44</td>\n",
              "      <td>2015-01-01 03:00:00</td>\n",
              "      <td>0</td>\n",
              "      <td>3</td>\n",
              "      <td>7.308360e-01</td>\n",
              "      <td>0.682553</td>\n",
              "      <td>3</td>\n",
              "      <td>1</td>\n",
              "      <td>1</td>\n",
              "      <td>1</td>\n",
              "      <td>1</td>\n",
              "      <td>0.0</td>\n",
              "      <td>0.0</td>\n",
              "      <td>0.0</td>\n",
              "      <td>1.0</td>\n",
              "      <td>0.0</td>\n",
              "      <td>0.0</td>\n",
              "      <td>0.0</td>\n",
              "      <td>1</td>\n",
              "      <td>0</td>\n",
              "    </tr>\n",
              "    <tr>\n",
              "      <th>257089</th>\n",
              "      <td>44</td>\n",
              "      <td>2015-01-01 04:00:00</td>\n",
              "      <td>0</td>\n",
              "      <td>3</td>\n",
              "      <td>8.878852e-01</td>\n",
              "      <td>0.460065</td>\n",
              "      <td>4</td>\n",
              "      <td>1</td>\n",
              "      <td>1</td>\n",
              "      <td>1</td>\n",
              "      <td>1</td>\n",
              "      <td>0.0</td>\n",
              "      <td>0.0</td>\n",
              "      <td>0.0</td>\n",
              "      <td>1.0</td>\n",
              "      <td>0.0</td>\n",
              "      <td>0.0</td>\n",
              "      <td>0.0</td>\n",
              "      <td>1</td>\n",
              "      <td>0</td>\n",
              "    </tr>\n",
              "    <tr>\n",
              "      <th>...</th>\n",
              "      <td>...</td>\n",
              "      <td>...</td>\n",
              "      <td>...</td>\n",
              "      <td>...</td>\n",
              "      <td>...</td>\n",
              "      <td>...</td>\n",
              "      <td>...</td>\n",
              "      <td>...</td>\n",
              "      <td>...</td>\n",
              "      <td>...</td>\n",
              "      <td>...</td>\n",
              "      <td>...</td>\n",
              "      <td>...</td>\n",
              "      <td>...</td>\n",
              "      <td>...</td>\n",
              "      <td>...</td>\n",
              "      <td>...</td>\n",
              "      <td>...</td>\n",
              "      <td>...</td>\n",
              "      <td>...</td>\n",
              "    </tr>\n",
              "    <tr>\n",
              "      <th>265961</th>\n",
              "      <td>44</td>\n",
              "      <td>2015-12-31 19:00:00</td>\n",
              "      <td>417</td>\n",
              "      <td>3</td>\n",
              "      <td>-8.878852e-01</td>\n",
              "      <td>0.460065</td>\n",
              "      <td>19</td>\n",
              "      <td>31</td>\n",
              "      <td>365</td>\n",
              "      <td>12</td>\n",
              "      <td>4</td>\n",
              "      <td>0.0</td>\n",
              "      <td>0.0</td>\n",
              "      <td>0.0</td>\n",
              "      <td>1.0</td>\n",
              "      <td>0.0</td>\n",
              "      <td>0.0</td>\n",
              "      <td>0.0</td>\n",
              "      <td>0</td>\n",
              "      <td>1</td>\n",
              "    </tr>\n",
              "    <tr>\n",
              "      <th>265962</th>\n",
              "      <td>44</td>\n",
              "      <td>2015-12-31 20:00:00</td>\n",
              "      <td>261</td>\n",
              "      <td>3</td>\n",
              "      <td>-7.308360e-01</td>\n",
              "      <td>0.682553</td>\n",
              "      <td>20</td>\n",
              "      <td>31</td>\n",
              "      <td>365</td>\n",
              "      <td>12</td>\n",
              "      <td>4</td>\n",
              "      <td>0.0</td>\n",
              "      <td>0.0</td>\n",
              "      <td>0.0</td>\n",
              "      <td>1.0</td>\n",
              "      <td>0.0</td>\n",
              "      <td>0.0</td>\n",
              "      <td>0.0</td>\n",
              "      <td>0</td>\n",
              "      <td>1</td>\n",
              "    </tr>\n",
              "    <tr>\n",
              "      <th>265963</th>\n",
              "      <td>44</td>\n",
              "      <td>2015-12-31 21:00:00</td>\n",
              "      <td>240</td>\n",
              "      <td>3</td>\n",
              "      <td>-5.195840e-01</td>\n",
              "      <td>0.854419</td>\n",
              "      <td>21</td>\n",
              "      <td>31</td>\n",
              "      <td>365</td>\n",
              "      <td>12</td>\n",
              "      <td>4</td>\n",
              "      <td>0.0</td>\n",
              "      <td>0.0</td>\n",
              "      <td>0.0</td>\n",
              "      <td>1.0</td>\n",
              "      <td>0.0</td>\n",
              "      <td>0.0</td>\n",
              "      <td>0.0</td>\n",
              "      <td>0</td>\n",
              "      <td>1</td>\n",
              "    </tr>\n",
              "    <tr>\n",
              "      <th>265964</th>\n",
              "      <td>44</td>\n",
              "      <td>2015-12-31 22:00:00</td>\n",
              "      <td>168</td>\n",
              "      <td>3</td>\n",
              "      <td>-2.697968e-01</td>\n",
              "      <td>0.962917</td>\n",
              "      <td>22</td>\n",
              "      <td>31</td>\n",
              "      <td>365</td>\n",
              "      <td>12</td>\n",
              "      <td>4</td>\n",
              "      <td>0.0</td>\n",
              "      <td>0.0</td>\n",
              "      <td>0.0</td>\n",
              "      <td>1.0</td>\n",
              "      <td>0.0</td>\n",
              "      <td>0.0</td>\n",
              "      <td>0.0</td>\n",
              "      <td>0</td>\n",
              "      <td>1</td>\n",
              "    </tr>\n",
              "    <tr>\n",
              "      <th>265965</th>\n",
              "      <td>44</td>\n",
              "      <td>2015-12-31 23:00:00</td>\n",
              "      <td>46</td>\n",
              "      <td>3</td>\n",
              "      <td>-2.449294e-16</td>\n",
              "      <td>1.000000</td>\n",
              "      <td>23</td>\n",
              "      <td>31</td>\n",
              "      <td>365</td>\n",
              "      <td>12</td>\n",
              "      <td>4</td>\n",
              "      <td>0.0</td>\n",
              "      <td>0.0</td>\n",
              "      <td>0.0</td>\n",
              "      <td>1.0</td>\n",
              "      <td>0.0</td>\n",
              "      <td>0.0</td>\n",
              "      <td>0.0</td>\n",
              "      <td>0</td>\n",
              "      <td>1</td>\n",
              "    </tr>\n",
              "  </tbody>\n",
              "</table>\n",
              "<p>8881 rows × 20 columns</p>\n",
              "</div>"
            ],
            "text/plain": [
              "        linha           data_hora  validations_per_hour  d_semana  \\\n",
              "257085     44 2015-01-01 00:00:00                     0         3   \n",
              "257086     44 2015-01-01 01:00:00                     0         3   \n",
              "257087     44 2015-01-01 02:00:00                     0         3   \n",
              "257088     44 2015-01-01 03:00:00                     0         3   \n",
              "257089     44 2015-01-01 04:00:00                     0         3   \n",
              "...       ...                 ...                   ...       ...   \n",
              "265961     44 2015-12-31 19:00:00                   417         3   \n",
              "265962     44 2015-12-31 20:00:00                   261         3   \n",
              "265963     44 2015-12-31 21:00:00                   240         3   \n",
              "265964     44 2015-12-31 22:00:00                   168         3   \n",
              "265965     44 2015-12-31 23:00:00                    46         3   \n",
              "\n",
              "            hour_sin  hour_cos  hora  d_mes  d_ano  mes  semana_do_mes  \\\n",
              "257085  0.000000e+00  1.000000     0      1      1    1              1   \n",
              "257086  2.697968e-01  0.962917     1      1      1    1              1   \n",
              "257087  5.195840e-01  0.854419     2      1      1    1              1   \n",
              "257088  7.308360e-01  0.682553     3      1      1    1              1   \n",
              "257089  8.878852e-01  0.460065     4      1      1    1              1   \n",
              "...              ...       ...   ...    ...    ...  ...            ...   \n",
              "265961 -8.878852e-01  0.460065    19     31    365   12              4   \n",
              "265962 -7.308360e-01  0.682553    20     31    365   12              4   \n",
              "265963 -5.195840e-01  0.854419    21     31    365   12              4   \n",
              "265964 -2.697968e-01  0.962917    22     31    365   12              4   \n",
              "265965 -2.449294e-16  1.000000    23     31    365   12              4   \n",
              "\n",
              "        domingo  segunda  terca  quarta  quinta  sexta  sabado  feriado  \\\n",
              "257085      0.0      0.0    0.0     1.0     0.0    0.0     0.0        1   \n",
              "257086      0.0      0.0    0.0     1.0     0.0    0.0     0.0        1   \n",
              "257087      0.0      0.0    0.0     1.0     0.0    0.0     0.0        1   \n",
              "257088      0.0      0.0    0.0     1.0     0.0    0.0     0.0        1   \n",
              "257089      0.0      0.0    0.0     1.0     0.0    0.0     0.0        1   \n",
              "...         ...      ...    ...     ...     ...    ...     ...      ...   \n",
              "265961      0.0      0.0    0.0     1.0     0.0    0.0     0.0        0   \n",
              "265962      0.0      0.0    0.0     1.0     0.0    0.0     0.0        0   \n",
              "265963      0.0      0.0    0.0     1.0     0.0    0.0     0.0        0   \n",
              "265964      0.0      0.0    0.0     1.0     0.0    0.0     0.0        0   \n",
              "265965      0.0      0.0    0.0     1.0     0.0    0.0     0.0        0   \n",
              "\n",
              "        vespera_feriado  \n",
              "257085                0  \n",
              "257086                0  \n",
              "257087                0  \n",
              "257088                0  \n",
              "257089                0  \n",
              "...                 ...  \n",
              "265961                1  \n",
              "265962                1  \n",
              "265963                1  \n",
              "265964                1  \n",
              "265965                1  \n",
              "\n",
              "[8881 rows x 20 columns]"
            ]
          },
          "execution_count": 6,
          "metadata": {},
          "output_type": "execute_result"
        }
      ],
      "source": [
        "\n",
        "top100_linhas = data_model.groupby(data_model.linha).sum().sort_values('validations_per_hour', ascending=False).reset_index().index[:50].to_list()\n",
        "top100_linhas_data_model = data_model[data_model.linha.isin(top100_linhas)]\n",
        "\n",
        "top100_linhas_data_model.to_csv(\"../dados-para-modelos/2015/top100_linhas_data_model_2015.csv\", index=False)\n",
        "line_data_model = data_model.loc[data_model['linha'] == busline_filter].copy()\n",
        "line_data_model\n",
        "#sns.set(rc={'figure.figsize':(15,10)})\n",
        "# sns.heatmap(top100_linhas_data_model.corr()[['validations_per_hour']].sort_values(by='validations_per_hour', ascending=False)\n",
        "# , vmin=-1, vmax=1, annot=True)"
      ]
    },
    {
      "cell_type": "code",
      "execution_count": 7,
      "metadata": {
        "collapsed": true,
        "gather": {
          "logged": 1632360940459
        },
        "jupyter": {
          "outputs_hidden": false,
          "source_hidden": false
        },
        "nteract": {
          "transient": {
            "deleting": false
          }
        }
      },
      "outputs": [],
      "source": [
        "#display(X)"
      ]
    },
    {
      "cell_type": "code",
      "execution_count": 8,
      "metadata": {
        "collapsed": true,
        "gather": {
          "logged": 1632360940845
        },
        "jupyter": {
          "outputs_hidden": false,
          "source_hidden": false
        },
        "nteract": {
          "transient": {
            "deleting": false
          }
        }
      },
      "outputs": [],
      "source": [
        "#display(y)"
      ]
    },
    {
      "cell_type": "markdown",
      "metadata": {
        "nteract": {
          "transient": {
            "deleting": false
          }
        }
      },
      "source": [
        "---------------------------------------------------------------------------- Fim Setup ----------------------------------------------------------------------------  \n",
        "# Criacao dos Modelos"
      ]
    },
    {
      "cell_type": "code",
      "execution_count": 9,
      "metadata": {},
      "outputs": [],
      "source": [
        "# Per Line Data\n",
        "X = line_data_model.filter(feature_names, axis=1)\n",
        "y = line_data_model.validations_per_hour\n",
        "X_train, X_test, Y_train, Y_test = train_test_split(X, y, test_size = 0.2, random_state=5)"
      ]
    },
    {
      "cell_type": "code",
      "execution_count": 10,
      "metadata": {
        "collapsed": true,
        "gather": {
          "logged": 1632360941131
        },
        "jupyter": {
          "outputs_hidden": false,
          "source_hidden": false
        },
        "nteract": {
          "transient": {
            "deleting": false
          }
        }
      },
      "outputs": [],
      "source": [
        "model_list = []"
      ]
    },
    {
      "cell_type": "code",
      "execution_count": 11,
      "metadata": {
        "collapsed": true,
        "gather": {
          "logged": 1632360941444
        },
        "jupyter": {
          "outputs_hidden": false,
          "source_hidden": false
        },
        "nteract": {
          "transient": {
            "deleting": false
          }
        }
      },
      "outputs": [],
      "source": [
        "def get_performance(model):\n",
        "    y_test_predict = model.predict(X_test)\n",
        "    mse = mean_squared_error(Y_test, y_test_predict)\n",
        "    rmse = (np.sqrt(mse))\n",
        "    r2 = r2_score(Y_test, y_test_predict)\n",
        "    mae = mean_absolute_error(Y_test, y_test_predict)\n",
        "    mape = mean_absolute_percentage_error(Y_test, y_test_predict) * 100\n",
        "    performance_scoring = [\n",
        "        r2,\n",
        "        rmse,\n",
        "        mae,\n",
        "        mape\n",
        "    ]\n",
        "    #performance_scoring = pd.DataFrame(performance_scoring,columns=['Metrica', 'Score'])\n",
        "    #performance_scoring['Score'] = performance_scoring['Score'].astype('float64')\n",
        "    return performance_scoring"
      ]
    },
    {
      "cell_type": "code",
      "execution_count": 12,
      "metadata": {
        "collapsed": true,
        "gather": {
          "logged": 1632360941799
        },
        "jupyter": {
          "outputs_hidden": false,
          "source_hidden": false
        },
        "nteract": {
          "transient": {
            "deleting": false
          }
        }
      },
      "outputs": [],
      "source": [
        "LinearRegressionModel = LinearRegression()\n",
        "RandomForestModel = RandomForestRegressor()"
      ]
    },
    {
      "cell_type": "markdown",
      "metadata": {
        "nteract": {
          "transient": {
            "deleting": false
          }
        }
      },
      "source": [
        "#### Linear Regression Model Parameters"
      ]
    },
    {
      "cell_type": "code",
      "execution_count": 13,
      "metadata": {
        "collapsed": true,
        "gather": {
          "logged": 1632360942004
        },
        "jupyter": {
          "outputs_hidden": false,
          "source_hidden": false
        },
        "nteract": {
          "transient": {
            "deleting": false
          }
        }
      },
      "outputs": [],
      "source": [
        "# print(\"Linear Regression  Params ----> \")\n",
        "# pprint(LinearRegressionModel.get_params())\n",
        "\n",
        "copy_X = [True, False]\n",
        "fit_intercept = [True, False]\n",
        "n_jobs = [2, 4, 6, 8]\n",
        "normalize = [True, False]\n",
        "\n",
        "# Create the random grid\n",
        "random_grid_linearregression = {'copy_X': copy_X, 'fit_intercept': fit_intercept, 'n_jobs': n_jobs, 'normalize': normalize}"
      ]
    },
    {
      "cell_type": "markdown",
      "metadata": {
        "nteract": {
          "transient": {
            "deleting": false
          }
        }
      },
      "source": [
        "#### Random Forest Model Parameters"
      ]
    },
    {
      "cell_type": "code",
      "execution_count": 14,
      "metadata": {
        "collapsed": true,
        "gather": {
          "logged": 1632360942214
        },
        "jupyter": {
          "outputs_hidden": false,
          "source_hidden": false
        },
        "nteract": {
          "transient": {
            "deleting": false
          }
        }
      },
      "outputs": [],
      "source": [
        "# print(\"Random Forest Model Params ----> \")\n",
        "# pprint(RandomForestModel.get_params())\n",
        "\n",
        "# Number of trees in random forest\n",
        "n_estimators = [int(x) for x in np.linspace(start = 20, stop = 1000, num = 10)]\n",
        "\n",
        "n_jobs = [2, 4, 6, 8]\n",
        "\n",
        "# Number of features to consider at every split\n",
        "max_features = ['auto', 'sqrt']\n",
        "\n",
        "# Maximum number of levels in tree\n",
        "max_depth = [int(x) for x in np.linspace(10, 110, num = 11)]\n",
        "max_depth.append(None)\n",
        "\n",
        "# Minimum number of samples required to split a node\n",
        "min_samples_split = [2, 5, 10]\n",
        "\n",
        "# Minimum number of samples required at each leaf node\n",
        "min_samples_leaf = [1, 2, 4]\n",
        "\n",
        "# Method of selecting samples for training each tree\n",
        "bootstrap = [True, False]\n",
        "\n",
        "# Create the random grid\n",
        "random_grid_randomforest = {'n_estimators': n_estimators,\n",
        "               'max_features': max_features,\n",
        "               'max_depth': max_depth,\n",
        "               'min_samples_split': min_samples_split,\n",
        "               'min_samples_leaf': min_samples_leaf,\n",
        "               'bootstrap': bootstrap,\n",
        "               'n_jobs': n_jobs}"
      ]
    },
    {
      "cell_type": "markdown",
      "metadata": {},
      "source": [
        "# Grid Searched"
      ]
    },
    {
      "cell_type": "code",
      "execution_count": 15,
      "metadata": {
        "collapsed": true,
        "gather": {
          "logged": 1632361324253
        },
        "jupyter": {
          "outputs_hidden": false,
          "source_hidden": false
        },
        "nteract": {
          "transient": {
            "deleting": false
          }
        }
      },
      "outputs": [
        {
          "name": "stdout",
          "output_type": "stream",
          "text": [
            "Fitting 3 folds for each of 100 candidates, totalling 300 fits\n"
          ]
        },
        {
          "name": "stderr",
          "output_type": "stream",
          "text": [
            "C:\\Users\\victo\\anaconda3\\envs\\ml\\lib\\site-packages\\sklearn\\model_selection\\_search.py:285: UserWarning: The total space of parameters 32 is smaller than n_iter=100. Running 32 iterations. For exhaustive searches, use GridSearchCV.\n",
            "  warnings.warn(\n"
          ]
        },
        {
          "name": "stdout",
          "output_type": "stream",
          "text": [
            "Fitting 3 folds for each of 32 candidates, totalling 96 fits\n",
            "Random Forest Best Parameters -----> \n",
            "{'bootstrap': False,\n",
            " 'max_depth': 60,\n",
            " 'max_features': 'sqrt',\n",
            " 'min_samples_leaf': 1,\n",
            " 'min_samples_split': 5,\n",
            " 'n_estimators': 673,\n",
            " 'n_jobs': 6}\n",
            "Linear Regression Best Parameters -----> \n",
            "{'copy_X': True, 'fit_intercept': False, 'n_jobs': 2, 'normalize': True}\n"
          ]
        }
      ],
      "source": [
        "# Random search of parameters, using 3 fold cross validation, \n",
        "# search across 100 different combinations, and use all available cores\n",
        "LinearRegressionModel = LinearRegression()\n",
        "RandomForestModel = RandomForestRegressor()\n",
        "gridsearch_result_randomforest = RandomizedSearchCV(estimator = RandomForestModel, param_distributions = random_grid_randomforest, n_iter = 100, cv = 3, verbose=2, random_state=42, n_jobs = -1)\n",
        "gridsearch_result_linearregression = RandomizedSearchCV(estimator = LinearRegressionModel, param_distributions = random_grid_linearregression, n_iter = 100, cv = 3, verbose=2, random_state=42, n_jobs = -1)\n",
        "\n",
        "# Fit the random search model\n",
        "\n",
        "gridsearch_result_randomforest.fit(X_train, Y_train)\n",
        "gridsearch_result_linearregression.fit(X_train, Y_train)\n",
        "\n",
        "print(\"Random Forest Best Parameters -----> \")\n",
        "pprint(gridsearch_result_randomforest.best_params_)\n",
        "\n",
        "print(\"Linear Regression Best Parameters -----> \")\n",
        "pprint(gridsearch_result_linearregression.best_params_)\n",
        "\n",
        "gridsearched_random_randomforest = gridsearch_result_randomforest.best_estimator_\n",
        "gridsearched_random_linearregression = gridsearch_result_linearregression.best_estimator_\n",
        "\n",
        "default_linearregression_model = LinearRegressionModel.fit(X_train, Y_train)\n",
        "default_randomforest_model = RandomForestModel.fit(X_train, Y_train)\n",
        "\n",
        "GridSearchedRandomForestModelPipeline = make_pipeline(gridsearched_random_randomforest)\n",
        "DefaultRandomForestModelPipeline = make_pipeline(default_randomforest_model)\n"
      ]
    },
    {
      "cell_type": "code",
      "execution_count": 16,
      "metadata": {},
      "outputs": [
        {
          "name": "stdout",
          "output_type": "stream",
          "text": [
            "\n",
            "----------------------------------------------------\n",
            "\n",
            "Regressao Linear [DEFAULT]: \n",
            " [0.5751962682717108, 226.54487499931764, 171.7216074289124, 1.2643521456206586e+19]\n",
            "\n",
            "----------------------------------------------------\n",
            "\n",
            "Random Forest [DEFAULT]: \n",
            " [0.9340437555002955, 89.26640396145604, 49.29618984645067, 2.43189315334813e+18]\n",
            "\n",
            "----------------------------------------------------\n",
            "\n",
            "Regressao Linear [GRID SEARCH]: \n",
            " [0.5751962682717127, 226.54487499931716, 171.72160742890867, 1.264352145620556e+19]\n",
            "\n",
            "----------------------------------------------------\n",
            "\n",
            "Random Forest [GRID SEARCH]: \n",
            " [0.9526402054125082, 75.64234521678165, 48.361596487839364, 2.2424729871113344e+18]\n",
            "\n",
            "----------------------------------------------------\n",
            "\n"
          ]
        },
        {
          "data": {
            "text/html": [
              "<div>\n",
              "<style scoped>\n",
              "    .dataframe tbody tr th:only-of-type {\n",
              "        vertical-align: middle;\n",
              "    }\n",
              "\n",
              "    .dataframe tbody tr th {\n",
              "        vertical-align: top;\n",
              "    }\n",
              "\n",
              "    .dataframe thead th {\n",
              "        text-align: right;\n",
              "    }\n",
              "</style>\n",
              "<table border=\"1\" class=\"dataframe\">\n",
              "  <thead>\n",
              "    <tr style=\"text-align: right;\">\n",
              "      <th></th>\n",
              "      <th>R2</th>\n",
              "      <th>RMSE</th>\n",
              "      <th>MAE</th>\n",
              "      <th>MAPE</th>\n",
              "    </tr>\n",
              "  </thead>\n",
              "  <tbody>\n",
              "    <tr>\n",
              "      <th>Regressao Linear Default</th>\n",
              "      <td>0.575196</td>\n",
              "      <td>226.544875</td>\n",
              "      <td>171.721607</td>\n",
              "      <td>1.264352e+19</td>\n",
              "    </tr>\n",
              "    <tr>\n",
              "      <th>RandomForest Default</th>\n",
              "      <td>0.934044</td>\n",
              "      <td>89.266404</td>\n",
              "      <td>49.296190</td>\n",
              "      <td>2.431893e+18</td>\n",
              "    </tr>\n",
              "    <tr>\n",
              "      <th>Regressao Linear Grid Searched</th>\n",
              "      <td>0.575196</td>\n",
              "      <td>226.544875</td>\n",
              "      <td>171.721607</td>\n",
              "      <td>1.264352e+19</td>\n",
              "    </tr>\n",
              "    <tr>\n",
              "      <th>RandomForest GridSearched</th>\n",
              "      <td>0.952640</td>\n",
              "      <td>75.642345</td>\n",
              "      <td>48.361596</td>\n",
              "      <td>2.242473e+18</td>\n",
              "    </tr>\n",
              "  </tbody>\n",
              "</table>\n",
              "</div>"
            ],
            "text/plain": [
              "                                      R2        RMSE         MAE          MAPE\n",
              "Regressao Linear Default        0.575196  226.544875  171.721607  1.264352e+19\n",
              "RandomForest Default            0.934044   89.266404   49.296190  2.431893e+18\n",
              "Regressao Linear Grid Searched  0.575196  226.544875  171.721607  1.264352e+19\n",
              "RandomForest GridSearched       0.952640   75.642345   48.361596  2.242473e+18"
            ]
          },
          "execution_count": 16,
          "metadata": {},
          "output_type": "execute_result"
        }
      ],
      "source": [
        "performance_default_randomforest_model = get_performance(default_randomforest_model)\n",
        "performance_gridsearched_randomforest_model = get_performance(gridsearched_random_randomforest)\n",
        "performance_gridsearched_linearregression_model = get_performance(gridsearched_random_linearregression)\n",
        "performance_default_linearregression_model = get_performance(default_linearregression_model)\n",
        "\n",
        "performance_total = [performance_default_linearregression_model,\n",
        "    performance_default_randomforest_model,\n",
        "    performance_gridsearched_linearregression_model,\n",
        "    performance_gridsearched_randomforest_model]\n",
        "\n",
        "performance_total = pd.DataFrame.from_records(performance_total, columns=['R2', 'RMSE', 'MAE', 'MAPE'], \n",
        "    index=['Regressao Linear Default', 'RandomForest Default', 'Regressao Linear Grid Searched', 'RandomForest GridSearched'])\n",
        "performance_total"
      ]
    },
    {
      "cell_type": "code",
      "execution_count": 17,
      "metadata": {},
      "outputs": [],
      "source": [
        "RidgeRegressionModel = Ridge(alpha=.5)\n",
        "ridge = RidgeRegressionModel.fit(X_train, Y_train)\n",
        "performance_ridge = get_performance(ridge)\n",
        "df2 = pd.DataFrame([performance_ridge], columns=['R2','RMSE','MAE', 'MAPE'], \n",
        "    index=['Ridge Regression'])\n",
        "performance_total = pd.concat([df2, performance_total])\n"
      ]
    },
    {
      "cell_type": "code",
      "execution_count": 18,
      "metadata": {},
      "outputs": [],
      "source": [
        "DecitionTreeModel = DecisionTreeRegressor()\n",
        "dtm = DecitionTreeModel.fit(X_train, Y_train)\n",
        "performance_dtm = get_performance(dtm)\n",
        "df2 = pd.DataFrame([performance_dtm], columns=['R2','RMSE','MAE', 'MAPE'], \n",
        "    index=['Arvore de Decisao'])\n",
        "performance_total = pd.concat([df2, performance_total])\n"
      ]
    },
    {
      "cell_type": "code",
      "execution_count": 19,
      "metadata": {},
      "outputs": [],
      "source": [
        "SVRModel = SVR()\n",
        "svr = SVRModel.fit(X_train, Y_train)\n",
        "performance_SVR = get_performance(svr)\n",
        "df2 = pd.DataFrame([performance_SVR], columns=['R2','RMSE','MAE', 'MAPE'], \n",
        "    index=['SVR Regression'])\n",
        "performance_total = pd.concat([df2, performance_total])"
      ]
    },
    {
      "cell_type": "markdown",
      "metadata": {
        "nteract": {
          "transient": {
            "deleting": false
          }
        }
      },
      "source": [
        "# BAGGING"
      ]
    },
    {
      "cell_type": "code",
      "execution_count": 20,
      "metadata": {
        "collapsed": true,
        "gather": {
          "logged": 1632361332525
        },
        "jupyter": {
          "outputs_hidden": false,
          "source_hidden": false
        },
        "nteract": {
          "transient": {
            "deleting": false
          }
        }
      },
      "outputs": [
        {
          "name": "stdout",
          "output_type": "stream",
          "text": [
            "Performance for base estimator Pipeline(steps=[('linearregression',\n",
            "                 LinearRegression(fit_intercept=False, n_jobs=2,\n",
            "                                  normalize=True))]) = [0.5753789195324729, 226.49616643961684, 171.64838768132321, 1.2669403771123485e+19]\n",
            "\n",
            "Performance for base estimator Pipeline(steps=[('randomforestregressor',\n",
            "                 RandomForestRegressor(bootstrap=False, max_depth=60,\n",
            "                                       max_features='sqrt', min_samples_split=5,\n",
            "                                       n_estimators=673, n_jobs=6))]) = [0.9504637736214129, 77.36090468874018, 50.06435672008227, 2.628410465741402e+18]\n",
            "\n",
            "Performance for base estimator Pipeline(steps=[('decisiontreeregressor', DecisionTreeRegressor())]) = [0.9258519984237844, 94.64764348505922, 52.05188211806952, 2.5134487300216883e+18]\n",
            "\n"
          ]
        }
      ],
      "source": [
        "warnings.filterwarnings(\"ignore\") # To ignore warnings\n",
        "n_jobs = -1 # This parameter conrols the parallel processing. -1 means using all processors.\n",
        "random_state = 42 # This parameter controls the randomness of the data. Using some int value to get same results everytime this code is run\n",
        "models_scores = [] # To store model scores               \n",
        "\n",
        "def bagging_model(estimator):\n",
        "    \"\"\"\n",
        "    I/P\n",
        "    estimator: The base estimator from which the ensemble is grown.\n",
        "    O/P\n",
        "    br_y_pred: Predictions on test data for the base estimator.\n",
        "    \n",
        "    \"\"\"\n",
        "    regr = BaggingRegressor(base_estimator=estimator,\n",
        "                            n_estimators=10,\n",
        "                            max_samples=1.0,\n",
        "                            bootstrap=True, # Samples are drawn with replacement\n",
        "                            n_jobs= n_jobs,\n",
        "                            random_state=random_state).fit(X_train, Y_train)\n",
        "\n",
        "    br_y_pred = regr.predict(X_test)\n",
        "\n",
        "    performance = get_performance(regr)\n",
        "    \n",
        "    print(f'Performance for base estimator {regr.base_estimator_} = {performance}\\n')\n",
        "\n",
        "    return regr, performance\n",
        "\n",
        "LinearRegressionModelPipeline = make_pipeline(gridsearched_random_linearregression)\n",
        "RandomForestModelPipeline = make_pipeline(gridsearched_random_randomforest)\n",
        "DecisionTreeModelPipeline = make_pipeline(dtm)\n",
        "\n",
        "bagging_lr_model, performance_bagging_lr_model = bagging_model(LinearRegressionModelPipeline)\n",
        "bagging_rf_model, performance_bagging_rf_model = bagging_model(RandomForestModelPipeline)\n",
        "bagging_dt_model, performance_bagging_dt_model = bagging_model(DecisionTreeModelPipeline)\n",
        "\n",
        "df2 = pd.DataFrame([performance_bagging_lr_model, performance_bagging_rf_model, performance_bagging_dt_model], columns=['R2','RMSE','MAE', 'MAPE'], \n",
        "    index=['Regressao Linear Bagging', 'RandomForest Bagging', 'Decision Tree Bagging'])\n",
        "performance_total = pd.concat([df2, performance_total])\n",
        "\n",
        "BaggingLinearRegressionModelPipeline = make_pipeline(bagging_lr_model)\n",
        "BaggingRandomForestModelPipeline = make_pipeline(bagging_rf_model)\n",
        "BaggingDecisionTreeModelPipeline = make_pipeline(bagging_dt_model)\n",
        "\n"
      ]
    },
    {
      "cell_type": "markdown",
      "metadata": {
        "nteract": {
          "transient": {
            "deleting": false
          }
        }
      },
      "source": [
        "# BOOSTING"
      ]
    },
    {
      "cell_type": "code",
      "execution_count": 22,
      "metadata": {
        "collapsed": true,
        "gather": {
          "logged": 1632361361458
        },
        "jupyter": {
          "outputs_hidden": false,
          "source_hidden": false
        },
        "nteract": {
          "transient": {
            "deleting": false
          }
        }
      },
      "outputs": [],
      "source": [
        "gradient_boosting_regressor= GradientBoostingRegressor(n_estimators=3000, learning_rate=0.05,\n",
        "                                   max_depth=4, max_features='sqrt',\n",
        "                                   min_samples_leaf=15, min_samples_split=10, \n",
        "                                   loss='huber', random_state = random_state)\n",
        "\n",
        "gradient_boosting_regressor.fit(X_train, Y_train)\n",
        "\n",
        "performance = get_performance(gradient_boosting_regressor)\n",
        "\n",
        "df2 = pd.DataFrame([performance], columns=['R2','RMSE','MAE', 'MAPE'], \n",
        "    index=['GradientBoostingRegressor'])\n",
        "\n",
        "GradientBoostingModelPipeline = make_pipeline(gradient_boosting_regressor)\n",
        "\n",
        "performance_total = pd.concat([df2, performance_total])\n"
      ]
    },
    {
      "cell_type": "markdown",
      "metadata": {},
      "source": [
        "# STACKING"
      ]
    },
    {
      "cell_type": "code",
      "execution_count": 23,
      "metadata": {},
      "outputs": [],
      "source": [
        "estimators = [\n",
        "    ('gridseached_randomforest', GridSearchedRandomForestModelPipeline),\n",
        "    ('bagging_randomforest',BaggingRandomForestModelPipeline),\n",
        "    ('gradient_boosting', GradientBoostingModelPipeline),\n",
        "    ('random_forest_default', DefaultRandomForestModelPipeline)\n",
        "]\n",
        "\n",
        "stack = StackingRegressor(estimators=estimators, final_estimator=LinearRegressionModelPipeline, cv= 5, passthrough = True)\n",
        "\n",
        "stack.fit(X_train, Y_train)\n",
        "\n",
        "performance = get_performance(stack)\n",
        "\n",
        "df2 = pd.DataFrame([performance], columns=['R2','RMSE','MAE', 'MAPE'], \n",
        "    index=['Stacking Regressors'])\n",
        "\n",
        "performance_total = pd.concat([df2, performance_total])"
      ]
    },
    {
      "cell_type": "markdown",
      "id": "69f2c81f",
      "metadata": {},
      "source": [
        "# extreme Gradient Boosting"
      ]
    },
    {
      "cell_type": "code",
      "execution_count": 63,
      "id": "140f5fce",
      "metadata": {},
      "outputs": [],
      "source": [
        "xgb_r = xg.XGBRegressor(n_estimators = 100, seed = 42, eval_metric='mae', booster='gbtree')\n",
        "xgb_r.fit(X_train, Y_train)\n",
        "performance = get_performance(xgb_r)\n",
        "\n",
        "df2 = pd.DataFrame([performance], columns=['R2','RMSE','MAE', 'MAPE'], \n",
        "    index=['extremeGradientBoosting'])\n",
        "\n",
        "performance_total = pd.concat([df2, performance_total])"
      ]
    },
    {
      "cell_type": "code",
      "execution_count": 64,
      "metadata": {},
      "outputs": [
        {
          "data": {
            "text/html": [
              "<div>\n",
              "<style scoped>\n",
              "    .dataframe tbody tr th:only-of-type {\n",
              "        vertical-align: middle;\n",
              "    }\n",
              "\n",
              "    .dataframe tbody tr th {\n",
              "        vertical-align: top;\n",
              "    }\n",
              "\n",
              "    .dataframe thead th {\n",
              "        text-align: right;\n",
              "    }\n",
              "</style>\n",
              "<table border=\"1\" class=\"dataframe\">\n",
              "  <thead>\n",
              "    <tr style=\"text-align: right;\">\n",
              "      <th></th>\n",
              "      <th>R2</th>\n",
              "      <th>RMSE</th>\n",
              "      <th>MAE</th>\n",
              "      <th>MAPE</th>\n",
              "    </tr>\n",
              "  </thead>\n",
              "  <tbody>\n",
              "    <tr>\n",
              "      <th>extremeGradientBoosting</th>\n",
              "      <td>0.970148</td>\n",
              "      <td>62.139214</td>\n",
              "      <td>43.357706</td>\n",
              "      <td>8.820434e+15</td>\n",
              "    </tr>\n",
              "    <tr>\n",
              "      <th>Stacking Regressors</th>\n",
              "      <td>0.970148</td>\n",
              "      <td>62.139214</td>\n",
              "      <td>43.357706</td>\n",
              "      <td>8.820434e+15</td>\n",
              "    </tr>\n",
              "    <tr>\n",
              "      <th>GradientBoostingRegressor</th>\n",
              "      <td>0.967365</td>\n",
              "      <td>62.791296</td>\n",
              "      <td>42.200692</td>\n",
              "      <td>2.116460e+18</td>\n",
              "    </tr>\n",
              "    <tr>\n",
              "      <th>Stacking Regressors</th>\n",
              "      <td>0.967437</td>\n",
              "      <td>62.722198</td>\n",
              "      <td>42.630869</td>\n",
              "      <td>1.925401e+18</td>\n",
              "    </tr>\n",
              "    <tr>\n",
              "      <th>RandomForest GridSearched</th>\n",
              "      <td>0.952640</td>\n",
              "      <td>75.642345</td>\n",
              "      <td>48.361596</td>\n",
              "      <td>2.242473e+18</td>\n",
              "    </tr>\n",
              "    <tr>\n",
              "      <th>RandomForest Default</th>\n",
              "      <td>0.934044</td>\n",
              "      <td>89.266404</td>\n",
              "      <td>49.296190</td>\n",
              "      <td>2.431893e+18</td>\n",
              "    </tr>\n",
              "    <tr>\n",
              "      <th>RandomForest Bagging</th>\n",
              "      <td>0.950464</td>\n",
              "      <td>77.360905</td>\n",
              "      <td>50.064357</td>\n",
              "      <td>2.628410e+18</td>\n",
              "    </tr>\n",
              "    <tr>\n",
              "      <th>Decision Tree Bagging</th>\n",
              "      <td>0.925852</td>\n",
              "      <td>94.647643</td>\n",
              "      <td>52.051882</td>\n",
              "      <td>2.513449e+18</td>\n",
              "    </tr>\n",
              "    <tr>\n",
              "      <th>Arvore de Decisao</th>\n",
              "      <td>0.850421</td>\n",
              "      <td>134.429862</td>\n",
              "      <td>64.877884</td>\n",
              "      <td>2.201872e+18</td>\n",
              "    </tr>\n",
              "    <tr>\n",
              "      <th>Regressao Linear Bagging</th>\n",
              "      <td>0.575379</td>\n",
              "      <td>226.496166</td>\n",
              "      <td>171.648388</td>\n",
              "      <td>1.266940e+19</td>\n",
              "    </tr>\n",
              "    <tr>\n",
              "      <th>Ridge Regression</th>\n",
              "      <td>0.575256</td>\n",
              "      <td>226.528967</td>\n",
              "      <td>171.679072</td>\n",
              "      <td>1.264846e+19</td>\n",
              "    </tr>\n",
              "    <tr>\n",
              "      <th>Regressao Linear Grid Searched</th>\n",
              "      <td>0.575196</td>\n",
              "      <td>226.544875</td>\n",
              "      <td>171.721607</td>\n",
              "      <td>1.264352e+19</td>\n",
              "    </tr>\n",
              "    <tr>\n",
              "      <th>Regressao Linear Default</th>\n",
              "      <td>0.575196</td>\n",
              "      <td>226.544875</td>\n",
              "      <td>171.721607</td>\n",
              "      <td>1.264352e+19</td>\n",
              "    </tr>\n",
              "    <tr>\n",
              "      <th>SVR Regression</th>\n",
              "      <td>-0.001191</td>\n",
              "      <td>347.791139</td>\n",
              "      <td>296.195287</td>\n",
              "      <td>3.479353e+19</td>\n",
              "    </tr>\n",
              "  </tbody>\n",
              "</table>\n",
              "</div>"
            ],
            "text/plain": [
              "                                      R2        RMSE         MAE          MAPE\n",
              "extremeGradientBoosting         0.970148   62.139214   43.357706  8.820434e+15\n",
              "Stacking Regressors             0.970148   62.139214   43.357706  8.820434e+15\n",
              "GradientBoostingRegressor       0.967365   62.791296   42.200692  2.116460e+18\n",
              "Stacking Regressors             0.967437   62.722198   42.630869  1.925401e+18\n",
              "RandomForest GridSearched       0.952640   75.642345   48.361596  2.242473e+18\n",
              "RandomForest Default            0.934044   89.266404   49.296190  2.431893e+18\n",
              "RandomForest Bagging            0.950464   77.360905   50.064357  2.628410e+18\n",
              "Decision Tree Bagging           0.925852   94.647643   52.051882  2.513449e+18\n",
              "Arvore de Decisao               0.850421  134.429862   64.877884  2.201872e+18\n",
              "Regressao Linear Bagging        0.575379  226.496166  171.648388  1.266940e+19\n",
              "Ridge Regression                0.575256  226.528967  171.679072  1.264846e+19\n",
              "Regressao Linear Grid Searched  0.575196  226.544875  171.721607  1.264352e+19\n",
              "Regressao Linear Default        0.575196  226.544875  171.721607  1.264352e+19\n",
              "SVR Regression                 -0.001191  347.791139  296.195287  3.479353e+19"
            ]
          },
          "execution_count": 64,
          "metadata": {},
          "output_type": "execute_result"
        }
      ],
      "source": [
        "performance_total"
      ]
    },
    {
      "cell_type": "markdown",
      "metadata": {
        "nteract": {
          "transient": {
            "deleting": false
          }
        }
      },
      "source": [
        "### Todos os modelos treinados dentro de *model_list*"
      ]
    },
    {
      "cell_type": "code",
      "execution_count": 28,
      "metadata": {
        "collapsed": true,
        "gather": {
          "logged": 1632363793252
        },
        "jupyter": {
          "outputs_hidden": false,
          "source_hidden": false
        },
        "nteract": {
          "transient": {
            "deleting": false
          }
        }
      },
      "outputs": [],
      "source": [
        "model_list = [\n",
        "    stack,\n",
        "    gradient_boosting_regressor,\n",
        "    bagging_rf_model,\n",
        "    default_randomforest_model,\n",
        "    gridsearch_result_randomforest\n",
        "]"
      ]
    },
    {
      "cell_type": "code",
      "execution_count": 31,
      "id": "9f46a4de",
      "metadata": {},
      "outputs": [],
      "source": [
        "def get_performance(model):\n",
        "    y_test_predict = model.predict(X_test)\n",
        "    mse = mean_squared_error(Y_test, y_test_predict)\n",
        "    rmse = (np.sqrt(mse))\n",
        "    r2 = r2_score(Y_test, y_test_predict)\n",
        "    mae = mean_absolute_error(Y_test, y_test_predict)\n",
        "    mape = mean_absolute_percentage_error(Y_test, y_test_predict)\n",
        "    performance_scoring = [\n",
        "        r2,\n",
        "        rmse,\n",
        "        mae,\n",
        "        mape\n",
        "    ]\n",
        "    #performance_scoring = pd.DataFrame(performance_scoring,columns=['Metrica', 'Score'])\n",
        "    #performance_scoring['Score'] = performance_scoring['Score'].astype('float64')\n",
        "    return performance_scoring"
      ]
    },
    {
      "cell_type": "code",
      "execution_count": 32,
      "id": "2ab117cd",
      "metadata": {},
      "outputs": [],
      "source": [
        "\n",
        "# brf = BaggingRegressor(base_estimator=RandomForestModel,\n",
        "#                             n_estimators=10,\n",
        "#                             max_samples=1.0,\n",
        "#                             bootstrap=True, # Samples are drawn with replacement\n",
        "#                             n_jobs= n_jobs,\n",
        "#                             random_state=random_state).fit(X_train, Y_train)"
      ]
    },
    {
      "cell_type": "code",
      "execution_count": 189,
      "id": "4cd4343e",
      "metadata": {},
      "outputs": [
        {
          "data": {
            "text/html": [
              "<div>\n",
              "<style scoped>\n",
              "    .dataframe tbody tr th:only-of-type {\n",
              "        vertical-align: middle;\n",
              "    }\n",
              "\n",
              "    .dataframe tbody tr th {\n",
              "        vertical-align: top;\n",
              "    }\n",
              "\n",
              "    .dataframe thead th {\n",
              "        text-align: right;\n",
              "    }\n",
              "</style>\n",
              "<table border=\"1\" class=\"dataframe\">\n",
              "  <thead>\n",
              "    <tr style=\"text-align: right;\">\n",
              "      <th></th>\n",
              "      <th>linha</th>\n",
              "      <th>data_hora</th>\n",
              "      <th>validations_per_hour</th>\n",
              "      <th>d_semana</th>\n",
              "      <th>hour_sin</th>\n",
              "      <th>hour_cos</th>\n",
              "      <th>hora</th>\n",
              "      <th>d_mes</th>\n",
              "      <th>d_ano</th>\n",
              "      <th>mes</th>\n",
              "      <th>semana_do_mes</th>\n",
              "      <th>domingo</th>\n",
              "      <th>segunda</th>\n",
              "      <th>terca</th>\n",
              "      <th>quarta</th>\n",
              "      <th>quinta</th>\n",
              "      <th>sexta</th>\n",
              "      <th>sabado</th>\n",
              "      <th>feriado</th>\n",
              "      <th>vespera_feriado</th>\n",
              "    </tr>\n",
              "  </thead>\n",
              "  <tbody>\n",
              "    <tr>\n",
              "      <th>265966</th>\n",
              "      <td>45</td>\n",
              "      <td>2015-01-01 01:00:00</td>\n",
              "      <td>0</td>\n",
              "      <td>3</td>\n",
              "      <td>2.697968e-01</td>\n",
              "      <td>0.962917</td>\n",
              "      <td>1</td>\n",
              "      <td>1</td>\n",
              "      <td>1</td>\n",
              "      <td>1</td>\n",
              "      <td>1</td>\n",
              "      <td>0.0</td>\n",
              "      <td>0.0</td>\n",
              "      <td>0.0</td>\n",
              "      <td>1.0</td>\n",
              "      <td>0.0</td>\n",
              "      <td>0.0</td>\n",
              "      <td>0.0</td>\n",
              "      <td>1</td>\n",
              "      <td>0</td>\n",
              "    </tr>\n",
              "    <tr>\n",
              "      <th>265967</th>\n",
              "      <td>45</td>\n",
              "      <td>2015-01-01 02:00:00</td>\n",
              "      <td>0</td>\n",
              "      <td>3</td>\n",
              "      <td>5.195840e-01</td>\n",
              "      <td>0.854419</td>\n",
              "      <td>2</td>\n",
              "      <td>1</td>\n",
              "      <td>1</td>\n",
              "      <td>1</td>\n",
              "      <td>1</td>\n",
              "      <td>0.0</td>\n",
              "      <td>0.0</td>\n",
              "      <td>0.0</td>\n",
              "      <td>1.0</td>\n",
              "      <td>0.0</td>\n",
              "      <td>0.0</td>\n",
              "      <td>0.0</td>\n",
              "      <td>1</td>\n",
              "      <td>0</td>\n",
              "    </tr>\n",
              "    <tr>\n",
              "      <th>265968</th>\n",
              "      <td>45</td>\n",
              "      <td>2015-01-01 03:00:00</td>\n",
              "      <td>0</td>\n",
              "      <td>3</td>\n",
              "      <td>7.308360e-01</td>\n",
              "      <td>0.682553</td>\n",
              "      <td>3</td>\n",
              "      <td>1</td>\n",
              "      <td>1</td>\n",
              "      <td>1</td>\n",
              "      <td>1</td>\n",
              "      <td>0.0</td>\n",
              "      <td>0.0</td>\n",
              "      <td>0.0</td>\n",
              "      <td>1.0</td>\n",
              "      <td>0.0</td>\n",
              "      <td>0.0</td>\n",
              "      <td>0.0</td>\n",
              "      <td>1</td>\n",
              "      <td>0</td>\n",
              "    </tr>\n",
              "    <tr>\n",
              "      <th>265969</th>\n",
              "      <td>45</td>\n",
              "      <td>2015-01-02 01:00:00</td>\n",
              "      <td>0</td>\n",
              "      <td>4</td>\n",
              "      <td>2.697968e-01</td>\n",
              "      <td>0.962917</td>\n",
              "      <td>1</td>\n",
              "      <td>2</td>\n",
              "      <td>2</td>\n",
              "      <td>1</td>\n",
              "      <td>1</td>\n",
              "      <td>0.0</td>\n",
              "      <td>0.0</td>\n",
              "      <td>0.0</td>\n",
              "      <td>0.0</td>\n",
              "      <td>1.0</td>\n",
              "      <td>0.0</td>\n",
              "      <td>0.0</td>\n",
              "      <td>0</td>\n",
              "      <td>0</td>\n",
              "    </tr>\n",
              "    <tr>\n",
              "      <th>265970</th>\n",
              "      <td>45</td>\n",
              "      <td>2015-01-02 02:00:00</td>\n",
              "      <td>0</td>\n",
              "      <td>4</td>\n",
              "      <td>5.195840e-01</td>\n",
              "      <td>0.854419</td>\n",
              "      <td>2</td>\n",
              "      <td>2</td>\n",
              "      <td>2</td>\n",
              "      <td>1</td>\n",
              "      <td>1</td>\n",
              "      <td>0.0</td>\n",
              "      <td>0.0</td>\n",
              "      <td>0.0</td>\n",
              "      <td>0.0</td>\n",
              "      <td>1.0</td>\n",
              "      <td>0.0</td>\n",
              "      <td>0.0</td>\n",
              "      <td>0</td>\n",
              "      <td>0</td>\n",
              "    </tr>\n",
              "    <tr>\n",
              "      <th>...</th>\n",
              "      <td>...</td>\n",
              "      <td>...</td>\n",
              "      <td>...</td>\n",
              "      <td>...</td>\n",
              "      <td>...</td>\n",
              "      <td>...</td>\n",
              "      <td>...</td>\n",
              "      <td>...</td>\n",
              "      <td>...</td>\n",
              "      <td>...</td>\n",
              "      <td>...</td>\n",
              "      <td>...</td>\n",
              "      <td>...</td>\n",
              "      <td>...</td>\n",
              "      <td>...</td>\n",
              "      <td>...</td>\n",
              "      <td>...</td>\n",
              "      <td>...</td>\n",
              "      <td>...</td>\n",
              "      <td>...</td>\n",
              "    </tr>\n",
              "    <tr>\n",
              "      <th>274855</th>\n",
              "      <td>45</td>\n",
              "      <td>2015-12-31 19:00:00</td>\n",
              "      <td>582</td>\n",
              "      <td>3</td>\n",
              "      <td>-8.878852e-01</td>\n",
              "      <td>0.460065</td>\n",
              "      <td>19</td>\n",
              "      <td>31</td>\n",
              "      <td>365</td>\n",
              "      <td>12</td>\n",
              "      <td>4</td>\n",
              "      <td>0.0</td>\n",
              "      <td>0.0</td>\n",
              "      <td>0.0</td>\n",
              "      <td>1.0</td>\n",
              "      <td>0.0</td>\n",
              "      <td>0.0</td>\n",
              "      <td>0.0</td>\n",
              "      <td>0</td>\n",
              "      <td>1</td>\n",
              "    </tr>\n",
              "    <tr>\n",
              "      <th>274856</th>\n",
              "      <td>45</td>\n",
              "      <td>2015-12-31 20:00:00</td>\n",
              "      <td>508</td>\n",
              "      <td>3</td>\n",
              "      <td>-7.308360e-01</td>\n",
              "      <td>0.682553</td>\n",
              "      <td>20</td>\n",
              "      <td>31</td>\n",
              "      <td>365</td>\n",
              "      <td>12</td>\n",
              "      <td>4</td>\n",
              "      <td>0.0</td>\n",
              "      <td>0.0</td>\n",
              "      <td>0.0</td>\n",
              "      <td>1.0</td>\n",
              "      <td>0.0</td>\n",
              "      <td>0.0</td>\n",
              "      <td>0.0</td>\n",
              "      <td>0</td>\n",
              "      <td>1</td>\n",
              "    </tr>\n",
              "    <tr>\n",
              "      <th>274857</th>\n",
              "      <td>45</td>\n",
              "      <td>2015-12-31 21:00:00</td>\n",
              "      <td>335</td>\n",
              "      <td>3</td>\n",
              "      <td>-5.195840e-01</td>\n",
              "      <td>0.854419</td>\n",
              "      <td>21</td>\n",
              "      <td>31</td>\n",
              "      <td>365</td>\n",
              "      <td>12</td>\n",
              "      <td>4</td>\n",
              "      <td>0.0</td>\n",
              "      <td>0.0</td>\n",
              "      <td>0.0</td>\n",
              "      <td>1.0</td>\n",
              "      <td>0.0</td>\n",
              "      <td>0.0</td>\n",
              "      <td>0.0</td>\n",
              "      <td>0</td>\n",
              "      <td>1</td>\n",
              "    </tr>\n",
              "    <tr>\n",
              "      <th>274858</th>\n",
              "      <td>45</td>\n",
              "      <td>2015-12-31 22:00:00</td>\n",
              "      <td>204</td>\n",
              "      <td>3</td>\n",
              "      <td>-2.697968e-01</td>\n",
              "      <td>0.962917</td>\n",
              "      <td>22</td>\n",
              "      <td>31</td>\n",
              "      <td>365</td>\n",
              "      <td>12</td>\n",
              "      <td>4</td>\n",
              "      <td>0.0</td>\n",
              "      <td>0.0</td>\n",
              "      <td>0.0</td>\n",
              "      <td>1.0</td>\n",
              "      <td>0.0</td>\n",
              "      <td>0.0</td>\n",
              "      <td>0.0</td>\n",
              "      <td>0</td>\n",
              "      <td>1</td>\n",
              "    </tr>\n",
              "    <tr>\n",
              "      <th>274859</th>\n",
              "      <td>45</td>\n",
              "      <td>2015-12-31 23:00:00</td>\n",
              "      <td>64</td>\n",
              "      <td>3</td>\n",
              "      <td>-2.449294e-16</td>\n",
              "      <td>1.000000</td>\n",
              "      <td>23</td>\n",
              "      <td>31</td>\n",
              "      <td>365</td>\n",
              "      <td>12</td>\n",
              "      <td>4</td>\n",
              "      <td>0.0</td>\n",
              "      <td>0.0</td>\n",
              "      <td>0.0</td>\n",
              "      <td>1.0</td>\n",
              "      <td>0.0</td>\n",
              "      <td>0.0</td>\n",
              "      <td>0.0</td>\n",
              "      <td>0</td>\n",
              "      <td>1</td>\n",
              "    </tr>\n",
              "  </tbody>\n",
              "</table>\n",
              "<p>8894 rows × 20 columns</p>\n",
              "</div>"
            ],
            "text/plain": [
              "        linha           data_hora  validations_per_hour  d_semana  \\\n",
              "265966     45 2015-01-01 01:00:00                     0         3   \n",
              "265967     45 2015-01-01 02:00:00                     0         3   \n",
              "265968     45 2015-01-01 03:00:00                     0         3   \n",
              "265969     45 2015-01-02 01:00:00                     0         4   \n",
              "265970     45 2015-01-02 02:00:00                     0         4   \n",
              "...       ...                 ...                   ...       ...   \n",
              "274855     45 2015-12-31 19:00:00                   582         3   \n",
              "274856     45 2015-12-31 20:00:00                   508         3   \n",
              "274857     45 2015-12-31 21:00:00                   335         3   \n",
              "274858     45 2015-12-31 22:00:00                   204         3   \n",
              "274859     45 2015-12-31 23:00:00                    64         3   \n",
              "\n",
              "            hour_sin  hour_cos  hora  d_mes  d_ano  mes  semana_do_mes  \\\n",
              "265966  2.697968e-01  0.962917     1      1      1    1              1   \n",
              "265967  5.195840e-01  0.854419     2      1      1    1              1   \n",
              "265968  7.308360e-01  0.682553     3      1      1    1              1   \n",
              "265969  2.697968e-01  0.962917     1      2      2    1              1   \n",
              "265970  5.195840e-01  0.854419     2      2      2    1              1   \n",
              "...              ...       ...   ...    ...    ...  ...            ...   \n",
              "274855 -8.878852e-01  0.460065    19     31    365   12              4   \n",
              "274856 -7.308360e-01  0.682553    20     31    365   12              4   \n",
              "274857 -5.195840e-01  0.854419    21     31    365   12              4   \n",
              "274858 -2.697968e-01  0.962917    22     31    365   12              4   \n",
              "274859 -2.449294e-16  1.000000    23     31    365   12              4   \n",
              "\n",
              "        domingo  segunda  terca  quarta  quinta  sexta  sabado  feriado  \\\n",
              "265966      0.0      0.0    0.0     1.0     0.0    0.0     0.0        1   \n",
              "265967      0.0      0.0    0.0     1.0     0.0    0.0     0.0        1   \n",
              "265968      0.0      0.0    0.0     1.0     0.0    0.0     0.0        1   \n",
              "265969      0.0      0.0    0.0     0.0     1.0    0.0     0.0        0   \n",
              "265970      0.0      0.0    0.0     0.0     1.0    0.0     0.0        0   \n",
              "...         ...      ...    ...     ...     ...    ...     ...      ...   \n",
              "274855      0.0      0.0    0.0     1.0     0.0    0.0     0.0        0   \n",
              "274856      0.0      0.0    0.0     1.0     0.0    0.0     0.0        0   \n",
              "274857      0.0      0.0    0.0     1.0     0.0    0.0     0.0        0   \n",
              "274858      0.0      0.0    0.0     1.0     0.0    0.0     0.0        0   \n",
              "274859      0.0      0.0    0.0     1.0     0.0    0.0     0.0        0   \n",
              "\n",
              "        vespera_feriado  \n",
              "265966                0  \n",
              "265967                0  \n",
              "265968                0  \n",
              "265969                0  \n",
              "265970                0  \n",
              "...                 ...  \n",
              "274855                1  \n",
              "274856                1  \n",
              "274857                1  \n",
              "274858                1  \n",
              "274859                1  \n",
              "\n",
              "[8894 rows x 20 columns]"
            ]
          },
          "execution_count": 189,
          "metadata": {},
          "output_type": "execute_result"
        }
      ],
      "source": [
        "# 45 *\n",
        "# 3 *\n",
        "# 42 *\n",
        "# 51 * \n",
        "# 52 * \n",
        "# 24 * \n",
        "# 76 * \n",
        "# 26 *\n",
        "# 44\n",
        "busline_filter = 45\n",
        "line_data_model = data_model.loc[data_model['linha'] == busline_filter].copy()\n",
        "line_data_model"
      ]
    },
    {
      "cell_type": "markdown",
      "metadata": {},
      "source": [
        "# Prever 24hrs (geracao de grafico)"
      ]
    },
    {
      "cell_type": "code",
      "execution_count": 190,
      "id": "1b23612f",
      "metadata": {},
      "outputs": [],
      "source": [
        "# model_list = [\n",
        "#     stack,\n",
        "#     gradient_boosting_regressor,\n",
        "#     bagging_rf_model,\n",
        "#     default_randomforest_model,\n",
        "#     gridsearch_result_randomforest\n",
        "# RandomForest GridSearched\n",
        "# RandomForest Bagging\n",
        "\n",
        "\n",
        "    # objective ='reg:linear',\n",
        "                  \n",
        "  \n",
        "# Fitting the model\n",
        "xgb_r = xg.XGBRegressor(n_estimators = 100, eval_metric='mae', booster='gbtree')\n",
        "df_perf = pd.DataFrame()\n",
        "for i in range(0, 11):\n",
        "    meses_de_treino = [1,2,3,4,5,6,7,8,9,10]\n",
        "    mes_de_previsao = 11\n",
        "\n",
        "    line_mes_data_model = line_data_model[line_data_model.mes.isin(meses_de_treino)].copy()\n",
        "\n",
        "    X = line_mes_data_model.filter(feature_names, axis=1)\n",
        "    y = line_mes_data_model.validations_per_hour\n",
        "    X_train, X_test, Y_train, Y_test = train_test_split(X, y, test_size = 0.2, random_state=7)\n",
        "\n",
        "    estimators = [\n",
        "        ('decision_tree', dtm),\n",
        "        ('linear_regression', LinearRegressionModel),\n",
        "        ('e_gradient_boosting', xgb_r),\n",
        "        # ('rf', RandomForestModel)\n",
        "    ]\n",
        "\n",
        "    stack = StackingRegressor(estimators=estimators, final_estimator=RandomForestModel, cv= 7, passthrough = True)\n",
        "    \n",
        "    model = stack\n",
        "\n",
        "    line_mes_data_model_predict = line_data_model[line_data_model.mes == mes_de_previsao].copy()\n",
        "    # .loc[line_mes_data_model_predict.d_mes < 6]\n",
        "    df_prev = line_mes_data_model_predict[line_mes_data_model_predict.d_mes >= 1].loc[line_mes_data_model_predict.d_mes < 8].filter(feature_names, axis = 1).copy()\n",
        "    real_values = pd.DataFrame(line_mes_data_model_predict[line_mes_data_model_predict.d_mes >= 1].loc[line_mes_data_model_predict.d_mes < 8].validations_per_hour).copy()\n",
        "\n",
        "    predictions = []\n",
        "    performances = list()\n",
        "\n",
        "    model.fit(X_train, Y_train)\n",
        "    performances.append(get_performance(model))\n",
        "\n",
        "    for index, row in df_prev.iterrows():\n",
        "        row_df = pd.DataFrame(row).T\n",
        "        predictions.append(model.predict(row_df.values)[0])\n",
        "    \n",
        "    df_perf = pd.concat([df_perf, pd.DataFrame(performances)])\n",
        "    df_predict_dados = real_values\n",
        "    df_predict_dados['validations_per_hour_predicted'] = predictions"
      ]
    },
    {
      "cell_type": "code",
      "execution_count": 191,
      "id": "863fd035",
      "metadata": {},
      "outputs": [
        {
          "name": "stdout",
          "output_type": "stream",
          "text": [
            "0.975462\n",
            "66.573389\n",
            "41.756060\n",
            "6.497725\n"
          ]
        }
      ],
      "source": [
        "import decimal\n",
        "        \n",
        "def value_to_decimal(value, decimal_places):\n",
        "    decimal.getcontext().rounding = decimal.ROUND_HALF_UP  # define rounding method\n",
        "    return decimal.Decimal(str(float(value))).quantize(decimal.Decimal('1e-{}'.format(decimal_places)))\n",
        "\n",
        "print(value_to_decimal(df_perf[0].mean(), 6))\n",
        "print(value_to_decimal(df_perf[1].mean(), 6))\n",
        "print(value_to_decimal(df_perf[2].mean(), 6))\n",
        "print(value_to_decimal(df_perf[3].mean()/10**15, 6))"
      ]
    },
    {
      "cell_type": "code",
      "execution_count": 192,
      "metadata": {},
      "outputs": [
        {
          "data": {
            "image/png": "[encoded data removed]",
            "text/plain": [
              "<Figure size 1440x720 with 1 Axes>"
            ]
          },
          "metadata": {
            "needs_background": "light"
          },
          "output_type": "display_data"
        }
      ],
      "source": [
        "# 168 == quantidade de horas previstas em 1 semana\n",
        "plt_size = 168\n",
        "# plt.rc('patch',linewidth=2)\n",
        "plt.rc('axes', linewidth=2, labelpad=5)\n",
        "# plt.rc('xtick.minor', size=8, width=4)\n",
        "# plt.rc('ytick.minor', size=8, width=4)\n",
        "# ax.set_facecolor(\"white\")\n",
        "plt.rc('text', usetex=True)\n",
        "plt.rc('font', family='serif', serif='Computer Modern', size=42)\n",
        "plt.figure(figsize=(20,10))\n",
        "plt.plot(range(df_predict_dados.validations_per_hour.size), df_predict_dados.validations_per_hour.values, color='navy', label=\"Valores reais\")\n",
        "plt.plot(range(predictions.__len__()), predictions, color='darkorange',linestyle='dashed', label=\"Valores previstos\", linewidth=4)\n",
        "# plt.plot(range(df_Abril_xGB.__len__()), df_Abril_xGB, color='indigo',linestyle='dashed', label=\"Valores previstos: Random Forest\", linewidth=2)\n",
        "# plt.plot(range(df_Abril_StackingA.__len__()), df_Abril_StackingA, color='rebeccapurple',linestyle='dashed', label=\"Valores previstos: Stacking A\", linewidth=2)\n",
        "\n",
        "\n",
        "# plt.xticks(range(0,24))\n",
        "modelo = 'Stacking eGB'\n",
        "plt.legend(fontsize=30)\n",
        "plt.xlabel('Hora', fontsize=32)\n",
        "plt.xticks(fontsize=32)\n",
        "plt.yticks(fontsize=32)\n",
        "plt.title(f\"{modelo} - Treinado com os meses de janeiro a outubro - Prevendo primeira semana de novembro\", fontsize=32)\n",
        "plt.ylabel('Quantidade de embarques', fontsize=32)\n",
        "plt.savefig(f'../images/apendice-{busline_filter}-{modelo}-{year}-predict-1wNov.pdf')\n",
        "plt.show()"
      ]
    },
    {
      "cell_type": "code",
      "execution_count": 193,
      "id": "b960ad55",
      "metadata": {},
      "outputs": [],
      "source": [
        "\n",
        "# real_values = df_predict_dados.validations_per_hour\n",
        "# predictions = predictions\n",
        "\n",
        "# plt.rc('patch',linewidth=2)\n",
        "# plt.rc('axes', linewidth=2, labelpad=5)\n",
        "# plt.rc('xtick.minor', size=8, width=4)\n",
        "# plt.rc('ytick.minor', size=8, width=4)\n",
        "\n",
        "# plt.rc('text', usetex=True)\n",
        "# plt.rc('font', family='serif', serif='Computer Modern', size=18)\n",
        "# plt.figure(figsize=(10,10))\n",
        "# plt.scatter(real_values, predictions, c='darkcyan')\n",
        "\n",
        "# p1 = max(max(predictions), max(real_values.values))\n",
        "# p2 = min(min(predictions), min(real_values.values))\n",
        "# plt.plot([p1, p2], [p1, p2], 'brown')\n",
        "\n",
        "# plt.xlabel('Valores Reais', fontsize=18)\n",
        "# plt.ylabel('Valores previstos', fontsize=18)\n",
        "# plt.axis('equal')\n",
        "\n",
        "# plt.savefig(f'../images/apendice-{busline_filter}-{modelo}-{year}-predict-10nov-scatterplot.pdf')\n",
        "# plt.show()"
      ]
    },
    {
      "cell_type": "code",
      "execution_count": null,
      "id": "477170da",
      "metadata": {},
      "outputs": [],
      "source": [
        "\n"
      ]
    },
    {
      "cell_type": "markdown",
      "metadata": {
        "nteract": {
          "transient": {
            "deleting": false
          }
        }
      },
      "source": [
        "# Treinar com 1 mes, prever N semanas"
      ]
    },
    {
      "cell_type": "code",
      "execution_count": 194,
      "metadata": {
        "gather": {
          "logged": 1632364536684
        },
        "jupyter": {
          "outputs_hidden": false,
          "source_hidden": false
        },
        "nteract": {
          "transient": {
            "deleting": false
          }
        }
      },
      "outputs": [],
      "source": [
        "# Jan, Fev, Mar, Abril, Maio\n",
        "# treina com mar, preve 2 semanas de abril\n",
        "\n",
        "# meses_de_treino = [1,2,3]\n",
        "# mes_de_previsao = 4\n",
        "\n",
        "# line_mes_data_model = line_data_model[line_data_model.mes.isin(meses_de_treino)]\n",
        "\n",
        "# line_mes_data_model_predict = line_data_model[line_data_model.mes == mes_de_previsao]\n",
        "\n",
        "# df_prev = line_mes_data_model_predict[line_mes_data_model_predict.d_mes <  8].filter(feature_names, axis = 1)\n",
        "# real_values = pd.DataFrame(line_mes_data_model_predict[line_mes_data_model_predict.d_mes <  8].validations_per_hour)\n",
        "\n",
        "# X = line_mes_data_model.filter(feature_names, axis=1)\n",
        "# y = line_mes_data_model.validations_per_hour\n",
        "# X_train, X_test, Y_train, Y_test = train_test_split(X, y, test_size = 0.2, random_state=5)\n",
        "\n",
        "# predictions = [[],[],[],[],[]]\n",
        "# performances = list()\n",
        "\n",
        "# for i, model in enumerate(model_list):\n",
        "#         model.fit(X_train, Y_train)\n",
        "#         performances.append(get_performance(model))\n",
        "\n",
        "#         for index, row in df_prev.iterrows():\n",
        "#             predictions[i].append(model.predict([row])[0])\n"
      ]
    },
    {
      "cell_type": "code",
      "execution_count": 195,
      "metadata": {},
      "outputs": [],
      "source": [
        "# df_performance = pd.DataFrame(performances)\n",
        "# df_performance.to_csv('../performances/2015/linha'+str(busline_filter)+'_'+str(meses_de_treino)+'meses_1semana('+str(mes_de_previsao)+')_performance.csv', index=False)\n",
        "# df_predict_dados = real_values\n",
        "# df_predict_dados['validations_per_hour_predicted'] = predictions[0]\n",
        "\n",
        "# df_predict_dados.to_csv('../predict-vs-real/2015/linha'+str(busline_filter)+'_'+str(meses_de_treino)+'meses_1semana('+str(mes_de_previsao)+')_predict.csv', index=False)\n",
        "\n",
        "# df_performance"
      ]
    },
    {
      "cell_type": "code",
      "execution_count": 196,
      "metadata": {},
      "outputs": [],
      "source": [
        "# # 168 == quantidade de horas previstas em 1 semana\n",
        "# plt_size = 168\n",
        "\n",
        "# plt.figure(figsize=(30, 10))\n",
        "# plt.plot(range(df_predict_dados.validations_per_hour.size), df_predict_dados.validations_per_hour.values, color='blue')\n",
        "# plt.plot(range(predictions[0].__len__()), predictions[0], color='red')\n",
        "# plt.xlabel('True Values')\n",
        "# plt.ylabel('Predictions')\n",
        "# plt.show()"
      ]
    },
    {
      "cell_type": "code",
      "execution_count": 197,
      "metadata": {},
      "outputs": [],
      "source": [
        "# line_data_model.loc[line_data_model.mes == 4].loc[line_data_model.d_mes < 8]"
      ]
    },
    {
      "cell_type": "markdown",
      "metadata": {
        "nteract": {
          "transient": {
            "deleting": false
          }
        }
      },
      "source": [
        "### Treinar com (N-Y) meses, Prever mes (N)"
      ]
    },
    {
      "cell_type": "code",
      "execution_count": 198,
      "metadata": {
        "gather": {
          "logged": 1631467016584
        },
        "jupyter": {
          "outputs_hidden": false,
          "source_hidden": false
        },
        "nteract": {
          "transient": {
            "deleting": false
          }
        }
      },
      "outputs": [],
      "source": [
        "# # Jan, Fev, Mar, Abril, Maio\n",
        "# # treina com mar, preve 2 semanas de abril\n",
        "\n",
        "# meses_de_treino = [1,2,3]\n",
        "# mes_de_previsao = 4\n",
        "# dias_de_previsao = 7\n",
        "\n",
        "# line_mes_data_model = line_data_model[line_data_model.mes.isin(meses_de_treino)]\n",
        "\n",
        "# line_mes_data_model_predict = line_data_model[line_data_model.mes == mes_de_previsao]\n",
        "\n",
        "# df_prev = line_mes_data_model_predict[line_mes_data_model_predict.d_mes <  dias_de_previsao+1].filter(feature_names, axis = 1)\n",
        "# real_values = pd.DataFrame(line_mes_data_model_predict[line_mes_data_model_predict.d_mes <  dias_de_previsao+1].validations_per_hour)\n",
        "\n",
        "# X = line_mes_data_model.filter(feature_names, axis=1)\n",
        "# y = line_mes_data_model.validations_per_hour\n",
        "# X_train, X_test, Y_train, Y_test = train_test_split(X, y, test_size = 0.2, random_state=5)\n",
        "\n",
        "# predictions = [[],[],[],[],[]]\n",
        "# performances = list()\n",
        "\n",
        "# for i, model in enumerate(model_list):\n",
        "#         model.fit(X_train, Y_train)\n",
        "#         performances.append(get_performance(model))\n",
        "\n",
        "#         for index, row in df_prev.iterrows():\n",
        "#             predictions[i].append(model.predict([row])[0])\n"
      ]
    },
    {
      "cell_type": "code",
      "execution_count": 199,
      "metadata": {
        "gather": {
          "logged": 1631409753552
        },
        "jupyter": {
          "outputs_hidden": false,
          "source_hidden": false
        },
        "nteract": {
          "transient": {
            "deleting": false
          }
        }
      },
      "outputs": [],
      "source": [
        "# 168 == quantidade de horas previstas em 1 semana\n",
        "# plt_size = 168\n",
        "\n",
        "# plt.figure(figsize=(30, 10))\n",
        "# plt.plot(range(df_results.size), df_results.values, color='blue')\n",
        "# plt.plot(range(predictions.__len__()), predictions, color='red')\n",
        "# plt.xlabel('True Values')\n",
        "# plt.ylabel('Predictions')\n",
        "# plt.show()"
      ]
    },
    {
      "cell_type": "code",
      "execution_count": 200,
      "metadata": {
        "gather": {
          "logged": 1631409753830
        },
        "jupyter": {
          "outputs_hidden": false,
          "source_hidden": false
        },
        "nteract": {
          "transient": {
            "deleting": false
          }
        }
      },
      "outputs": [],
      "source": [
        "# performances"
      ]
    },
    {
      "cell_type": "markdown",
      "metadata": {
        "nteract": {
          "transient": {
            "deleting": false
          }
        }
      },
      "source": [
        "## Ranking Linhas de Onibus"
      ]
    },
    {
      "cell_type": "code",
      "execution_count": 201,
      "metadata": {
        "gather": {
          "logged": 1631409754617
        }
      },
      "outputs": [],
      "source": [
        "\n",
        "# print(data_model.linha.value_counts(ascending=True)[data_model['linha'].value_counts() < 100])\n",
        "\n",
        "# linha_lista = data_model.linha.unique()\n",
        "# linha_lista = linha_lista[:10]\n",
        "# res_map = list()\n",
        "# top100_linhas = data_model.linha.value_counts().index[:100]\n",
        "\n",
        "# for linha in top100_linhas:\n",
        "#     currentLinhaData = top100_linhas_data_model.loc[top100_linhas_data_model['linha'] == linha].copy()\n",
        "#     X = currentLinhaData.filter(feature_names, axis=1)\n",
        "#     y = currentLinhaData.validations_per_hour\n",
        "#     X_train, X_test, Y_train, Y_test = train_test_split(X, y, test_size = 0.2, random_state=5)\n",
        "#     for model in model_list:\n",
        "#         model.fit(X_train, Y_train)\n",
        "#         performance = get_performance(model)\n",
        "#         performance.insert(0, linha)\n",
        "#         res_map.append(performance)\n",
        "# res_map = pd.DataFrame(res_map, columns=[\"Linha\", \"R2\", \"RMSE\", \"MAE\", 'MAPE'])\n",
        "# r = res_map.sort_values('MAE', ascending=True)\n",
        "# r.to_csv(\"../performances/2015/ranking_top100_2015.csv\", index=False)\n",
        "\n"
      ]
    },
    {
      "cell_type": "code",
      "execution_count": 202,
      "metadata": {
        "gather": {
          "logged": 1631504114908
        },
        "jupyter": {
          "outputs_hidden": false,
          "source_hidden": false
        },
        "nteract": {
          "transient": {
            "deleting": false
          }
        }
      },
      "outputs": [],
      "source": [
        "# res_map = pd.DataFrame(res_map,columns=['Linha', \n",
        "#     # '[LR][DEF]R2', '[LR][DF]RMSE', '[LR][DF]MAE',\n",
        "#     '[RF][GS]R2', '[RF][GS]RMSE', '[RF][GS]MAE',\n",
        "#     # '[LR][BAG]R2', '[LR][BAG]RMSE', '[LR][BAG]MAE',\n",
        "#     '[RF][BAG]R2', '[RF][BAG]RMSE', '[RF][BAG]MAE',\n",
        "#     '[STK]R2', '[STK]RMSE', '[STK]MAE',\n",
        "#     # '[BOS]R2', '[BOS]RMSE', '[BOS]MAE' \n",
        "#     ])\n",
        "# res_map = pd.DataFrame(res_map,columns=['Linha','R2', 'RMSE', 'MAE', 'MAPE'])\n",
        "\n",
        "# #performance_scoring['Score'] = performance_scoring['Score'].astype('float64')\n",
        "# res_map = res_map.sort_values('MAE', ascending=True).reset_index(drop=True)\n",
        "# res_map = res_map.drop_duplicates(subset='Linha', keep=\"first\").reset_index(drop=True)\n",
        "# res_map.to_csv('../top100linhas_rank_2015.csv', index=False)\n",
        "# res_map"
      ]
    }
  ],
  "metadata": {
    "interpreter": {
      "hash": "4caa081543ae4d7454eea2adf6270962382d99fc25b3a6423caed7aecce4d7f8"
    },
    "kernel_info": {
      "name": "python38-azureml"
    },
    "kernelspec": {
      "display_name": "Python 3.8.8 64-bit ('ml': conda)",
      "name": "python3"
    },
    "language_info": {
      "codemirror_mode": {
        "name": "ipython",
        "version": 3
      },
      "file_extension": ".py",
      "mimetype": "text/x-python",
      "name": "python",
      "nbconvert_exporter": "python",
      "pygments_lexer": "ipython3",
      "version": "3.8.8"
    },
    "microsoft": {
      "host": {
        "AzureML": {
          "notebookHasBeenCompleted": true
        }
      }
    },
    "nteract": {
      "version": "nteract-front-end@1.0.0"
    }
  },
  "nbformat": 4,
  "nbformat_minor": 5
}
