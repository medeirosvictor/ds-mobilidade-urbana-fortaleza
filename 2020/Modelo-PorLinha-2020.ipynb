{
  "cells": [
    {
      "cell_type": "markdown",
      "metadata": {},
      "source": [
        "## Previsao de Embarque \n",
        "- Simples \n",
        "- Sem Serie Temporal\n",
        "- Regressao Linear\n",
        "- Random Forest\n",
        "- Com Grid Search\n",
        "- Bagging, Stacking e Boosting"
      ]
    },
    {
      "cell_type": "code",
      "execution_count": 69,
      "metadata": {
        "gather": {
          "logged": 1632360924338
        }
      },
      "outputs": [],
      "source": [
        "import pandas as pd\n",
        "import matplotlib.pyplot as plt\n",
        "import numpy as np\n",
        "import seaborn as sns\n",
        "\n",
        "from sklearn.preprocessing import OneHotEncoder\n",
        "from sklearn.linear_model import LinearRegression\n",
        "from sklearn.ensemble import RandomForestRegressor, BaggingRegressor, StackingRegressor, GradientBoostingRegressor\n",
        "from sklearn.pipeline import make_pipeline\n",
        "from sklearn.datasets import make_regression\n",
        "import datetime as dt\n",
        "\n",
        "import warnings\n",
        "\n",
        "from sklearn.model_selection import train_test_split, cross_val_score\n",
        "from sklearn.metrics import mean_squared_error, r2_score, mean_absolute_error, mean_absolute_percentage_error\n",
        "from sklearn.model_selection import RandomizedSearchCV\n",
        "from IPython.display import display\n",
        "from pprint import pprint\n",
        "from math import sqrt\n",
        "\n",
        "from variables import day_of_week_translator, feriados, vesperas\n",
        "\n",
        "#from shutil import unpack_archive\n",
        "#unpack_archive('./df_input.zip', './')"
      ]
    },
    {
      "cell_type": "markdown",
      "metadata": {
        "nteract": {
          "transient": {
            "deleting": false
          }
        }
      },
      "source": [
        "## Filtro de Onibus e definicoes de features/target"
      ]
    },
    {
      "cell_type": "code",
      "execution_count": 70,
      "metadata": {
        "collapsed": true,
        "gather": {
          "logged": 1632360927530
        },
        "jupyter": {
          "outputs_hidden": false,
          "source_hidden": false
        },
        "nteract": {
          "transient": {
            "deleting": false
          }
        }
      },
      "outputs": [],
      "source": [
        "# Reading Data file (geolocalized)\n",
        "data = pd.read_csv('../data_input_zerofill_2020.csv', sep=';', delimiter=';')\n",
        "\n",
        "busline_filter = 41\n",
        "data_model = data.copy()\n",
        "\n",
        "#d_ano,  estao disponiveis para inserir once eu tive mais de 1 ano de dados\n",
        "feature_names = [\n",
        "    'hour_sin', 'hour_cos', \n",
        "    'd_mes', 'd_ano', 'mes', 'semana_do_mes', \n",
        "    'domingo','segunda', 'terca', 'quarta', 'quinta', 'sexta', 'sabado', \n",
        "    'feriado', 'vespera_feriado']\n",
        "\n",
        "target = 'validations_per_hour'"
      ]
    },
    {
      "cell_type": "code",
      "execution_count": 71,
      "metadata": {
        "gather": {
          "logged": 1632360927873
        }
      },
      "outputs": [
        {
          "data": {
            "text/html": [
              "<div>\n",
              "<style scoped>\n",
              "    .dataframe tbody tr th:only-of-type {\n",
              "        vertical-align: middle;\n",
              "    }\n",
              "\n",
              "    .dataframe tbody tr th {\n",
              "        vertical-align: top;\n",
              "    }\n",
              "\n",
              "    .dataframe thead th {\n",
              "        text-align: right;\n",
              "    }\n",
              "</style>\n",
              "<table border=\"1\" class=\"dataframe\">\n",
              "  <thead>\n",
              "    <tr style=\"text-align: right;\">\n",
              "      <th></th>\n",
              "      <th>linha</th>\n",
              "      <th>data_hora</th>\n",
              "      <th>validations_per_hour</th>\n",
              "      <th>d_semana</th>\n",
              "      <th>hour_sin</th>\n",
              "      <th>hour_cos</th>\n",
              "      <th>hora</th>\n",
              "      <th>d_mes</th>\n",
              "      <th>d_ano</th>\n",
              "      <th>mes</th>\n",
              "      <th>semana_do_mes</th>\n",
              "    </tr>\n",
              "  </thead>\n",
              "  <tbody>\n",
              "    <tr>\n",
              "      <th>0</th>\n",
              "      <td>1</td>\n",
              "      <td>2020-03-01 00:00:00</td>\n",
              "      <td>0</td>\n",
              "      <td>6</td>\n",
              "      <td>0.000000</td>\n",
              "      <td>1.000000</td>\n",
              "      <td>0</td>\n",
              "      <td>1</td>\n",
              "      <td>61</td>\n",
              "      <td>3</td>\n",
              "      <td>1</td>\n",
              "    </tr>\n",
              "    <tr>\n",
              "      <th>1</th>\n",
              "      <td>1</td>\n",
              "      <td>2020-03-01 01:00:00</td>\n",
              "      <td>0</td>\n",
              "      <td>6</td>\n",
              "      <td>0.269797</td>\n",
              "      <td>0.962917</td>\n",
              "      <td>1</td>\n",
              "      <td>1</td>\n",
              "      <td>61</td>\n",
              "      <td>3</td>\n",
              "      <td>1</td>\n",
              "    </tr>\n",
              "    <tr>\n",
              "      <th>2</th>\n",
              "      <td>1</td>\n",
              "      <td>2020-03-01 02:00:00</td>\n",
              "      <td>0</td>\n",
              "      <td>6</td>\n",
              "      <td>0.519584</td>\n",
              "      <td>0.854419</td>\n",
              "      <td>2</td>\n",
              "      <td>1</td>\n",
              "      <td>61</td>\n",
              "      <td>3</td>\n",
              "      <td>1</td>\n",
              "    </tr>\n",
              "    <tr>\n",
              "      <th>3</th>\n",
              "      <td>1</td>\n",
              "      <td>2020-03-01 03:00:00</td>\n",
              "      <td>0</td>\n",
              "      <td>6</td>\n",
              "      <td>0.730836</td>\n",
              "      <td>0.682553</td>\n",
              "      <td>3</td>\n",
              "      <td>1</td>\n",
              "      <td>61</td>\n",
              "      <td>3</td>\n",
              "      <td>1</td>\n",
              "    </tr>\n",
              "    <tr>\n",
              "      <th>4</th>\n",
              "      <td>1</td>\n",
              "      <td>2020-03-01 04:00:00</td>\n",
              "      <td>0</td>\n",
              "      <td>6</td>\n",
              "      <td>0.887885</td>\n",
              "      <td>0.460065</td>\n",
              "      <td>4</td>\n",
              "      <td>1</td>\n",
              "      <td>61</td>\n",
              "      <td>3</td>\n",
              "      <td>1</td>\n",
              "    </tr>\n",
              "    <tr>\n",
              "      <th>...</th>\n",
              "      <td>...</td>\n",
              "      <td>...</td>\n",
              "      <td>...</td>\n",
              "      <td>...</td>\n",
              "      <td>...</td>\n",
              "      <td>...</td>\n",
              "      <td>...</td>\n",
              "      <td>...</td>\n",
              "      <td>...</td>\n",
              "      <td>...</td>\n",
              "      <td>...</td>\n",
              "    </tr>\n",
              "    <tr>\n",
              "      <th>1604349</th>\n",
              "      <td>999</td>\n",
              "      <td>2020-12-01 08:00:00</td>\n",
              "      <td>12</td>\n",
              "      <td>1</td>\n",
              "      <td>0.816970</td>\n",
              "      <td>-0.576680</td>\n",
              "      <td>8</td>\n",
              "      <td>1</td>\n",
              "      <td>336</td>\n",
              "      <td>12</td>\n",
              "      <td>0</td>\n",
              "    </tr>\n",
              "    <tr>\n",
              "      <th>1604350</th>\n",
              "      <td>999</td>\n",
              "      <td>2020-12-01 09:00:00</td>\n",
              "      <td>1</td>\n",
              "      <td>1</td>\n",
              "      <td>0.631088</td>\n",
              "      <td>-0.775711</td>\n",
              "      <td>9</td>\n",
              "      <td>1</td>\n",
              "      <td>336</td>\n",
              "      <td>12</td>\n",
              "      <td>0</td>\n",
              "    </tr>\n",
              "    <tr>\n",
              "      <th>1604351</th>\n",
              "      <td>999</td>\n",
              "      <td>2020-12-01 10:00:00</td>\n",
              "      <td>1</td>\n",
              "      <td>1</td>\n",
              "      <td>0.398401</td>\n",
              "      <td>-0.917211</td>\n",
              "      <td>10</td>\n",
              "      <td>1</td>\n",
              "      <td>336</td>\n",
              "      <td>12</td>\n",
              "      <td>0</td>\n",
              "    </tr>\n",
              "    <tr>\n",
              "      <th>1604352</th>\n",
              "      <td>999</td>\n",
              "      <td>2020-12-01 11:00:00</td>\n",
              "      <td>5</td>\n",
              "      <td>1</td>\n",
              "      <td>0.136167</td>\n",
              "      <td>-0.990686</td>\n",
              "      <td>11</td>\n",
              "      <td>1</td>\n",
              "      <td>336</td>\n",
              "      <td>12</td>\n",
              "      <td>0</td>\n",
              "    </tr>\n",
              "    <tr>\n",
              "      <th>1604353</th>\n",
              "      <td>999</td>\n",
              "      <td>2020-12-01 12:00:00</td>\n",
              "      <td>3</td>\n",
              "      <td>1</td>\n",
              "      <td>-0.136167</td>\n",
              "      <td>-0.990686</td>\n",
              "      <td>12</td>\n",
              "      <td>1</td>\n",
              "      <td>336</td>\n",
              "      <td>12</td>\n",
              "      <td>0</td>\n",
              "    </tr>\n",
              "  </tbody>\n",
              "</table>\n",
              "<p>1604354 rows × 11 columns</p>\n",
              "</div>"
            ],
            "text/plain": [
              "         linha            data_hora  validations_per_hour  d_semana  hour_sin  \\\n",
              "0            1  2020-03-01 00:00:00                     0         6  0.000000   \n",
              "1            1  2020-03-01 01:00:00                     0         6  0.269797   \n",
              "2            1  2020-03-01 02:00:00                     0         6  0.519584   \n",
              "3            1  2020-03-01 03:00:00                     0         6  0.730836   \n",
              "4            1  2020-03-01 04:00:00                     0         6  0.887885   \n",
              "...        ...                  ...                   ...       ...       ...   \n",
              "1604349    999  2020-12-01 08:00:00                    12         1  0.816970   \n",
              "1604350    999  2020-12-01 09:00:00                     1         1  0.631088   \n",
              "1604351    999  2020-12-01 10:00:00                     1         1  0.398401   \n",
              "1604352    999  2020-12-01 11:00:00                     5         1  0.136167   \n",
              "1604353    999  2020-12-01 12:00:00                     3         1 -0.136167   \n",
              "\n",
              "         hour_cos  hora  d_mes  d_ano  mes  semana_do_mes  \n",
              "0        1.000000     0      1     61    3              1  \n",
              "1        0.962917     1      1     61    3              1  \n",
              "2        0.854419     2      1     61    3              1  \n",
              "3        0.682553     3      1     61    3              1  \n",
              "4        0.460065     4      1     61    3              1  \n",
              "...           ...   ...    ...    ...  ...            ...  \n",
              "1604349 -0.576680     8      1    336   12              0  \n",
              "1604350 -0.775711     9      1    336   12              0  \n",
              "1604351 -0.917211    10      1    336   12              0  \n",
              "1604352 -0.990686    11      1    336   12              0  \n",
              "1604353 -0.990686    12      1    336   12              0  \n",
              "\n",
              "[1604354 rows x 11 columns]"
            ]
          },
          "execution_count": 71,
          "metadata": {},
          "output_type": "execute_result"
        }
      ],
      "source": [
        "data_model"
      ]
    },
    {
      "cell_type": "code",
      "execution_count": 72,
      "metadata": {
        "gather": {
          "logged": 1632360940056
        }
      },
      "outputs": [],
      "source": [
        "one_hot_encoder = OneHotEncoder(sparse=False)\n",
        "\n",
        "data_model[['domingo','segunda', 'terca', 'quarta', 'quinta', 'sexta', 'sabado']] = one_hot_encoder.fit_transform(data_model['d_semana'].values.reshape(-1,1))\n",
        "data_model['feriado'] = [1 if any((x[0] == d and x[1] == m) for (_, d, m) in feriados) else 0 for x in list(zip(data_model.d_mes, data_model.mes))]\n",
        "data_model['vespera_feriado'] = [1 if any((x[0] == d and x[1] == m) for (_, d, m) in vesperas) else 0 for x in list(zip(data_model.d_mes, data_model.mes))]\n",
        "\n",
        "top100_linhas = data_model.linha.value_counts().index[:100]\n",
        "top100_linhas_data_model = data_model[data_model.linha.isin(top100_linhas)].loc[data['mes'] != 1]\n",
        "\n",
        "line_data_model = data_model.loc[data['linha'] == busline_filter].loc[data['mes'] != 1].copy()"
      ]
    },
    {
      "cell_type": "code",
      "execution_count": 73,
      "metadata": {},
      "outputs": [
        {
          "data": {
            "text/plain": [
              "<AxesSubplot:>"
            ]
          },
          "execution_count": 73,
          "metadata": {},
          "output_type": "execute_result"
        },
        {
          "data": {
            "image/png": "[encoded data removed]",
            "text/plain": [
              "<Figure size 1080x720 with 2 Axes>"
            ]
          },
          "metadata": {},
          "output_type": "display_data"
        }
      ],
      "source": [
        "#top100_linhas_data_model.to_csv(\"./dados-para-modelos/top100_linhas_data_model.csv\", index=False)\n",
        "sns.set(rc={'figure.figsize':(15,10)})\n",
        "\n",
        "sns.heatmap(top100_linhas_data_model.corr()[['validations_per_hour']].sort_values(by='validations_per_hour', ascending=False)\n",
        ", vmin=-1, vmax=1, annot=True)"
      ]
    },
    {
      "cell_type": "code",
      "execution_count": 74,
      "metadata": {
        "collapsed": true,
        "gather": {
          "logged": 1632360940459
        },
        "jupyter": {
          "outputs_hidden": false,
          "source_hidden": false
        },
        "nteract": {
          "transient": {
            "deleting": false
          }
        }
      },
      "outputs": [],
      "source": [
        "#display(X)"
      ]
    },
    {
      "cell_type": "code",
      "execution_count": 75,
      "metadata": {
        "collapsed": true,
        "gather": {
          "logged": 1632360940845
        },
        "jupyter": {
          "outputs_hidden": false,
          "source_hidden": false
        },
        "nteract": {
          "transient": {
            "deleting": false
          }
        }
      },
      "outputs": [],
      "source": [
        "#display(y)"
      ]
    },
    {
      "cell_type": "markdown",
      "metadata": {
        "nteract": {
          "transient": {
            "deleting": false
          }
        }
      },
      "source": [
        "---------------------------------------------------------------------------- Fim Setup ----------------------------------------------------------------------------  \n",
        "# Criacao dos Modelos"
      ]
    },
    {
      "cell_type": "code",
      "execution_count": 76,
      "metadata": {
        "collapsed": true,
        "gather": {
          "logged": 1632360941131
        },
        "jupyter": {
          "outputs_hidden": false,
          "source_hidden": false
        },
        "nteract": {
          "transient": {
            "deleting": false
          }
        }
      },
      "outputs": [],
      "source": [
        "model_list = []"
      ]
    },
    {
      "cell_type": "code",
      "execution_count": 77,
      "metadata": {
        "collapsed": true,
        "gather": {
          "logged": 1632360941444
        },
        "jupyter": {
          "outputs_hidden": false,
          "source_hidden": false
        },
        "nteract": {
          "transient": {
            "deleting": false
          }
        }
      },
      "outputs": [],
      "source": [
        "def get_performance(model):\n",
        "    y_test_predict = model.predict(X_test)\n",
        "    mse = mean_squared_error(Y_test, y_test_predict)\n",
        "    rmse = (np.sqrt(mse))\n",
        "    r2 = r2_score(Y_test, y_test_predict)\n",
        "    mae = mean_absolute_error(Y_test, y_test_predict)\n",
        "    mape = mean_absolute_percentage_error(Y_test, y_test_predict) * 100\n",
        "    performance_scoring = [\n",
        "        r2,\n",
        "        rmse,\n",
        "        mae,\n",
        "        mape\n",
        "    ]\n",
        "    #performance_scoring = pd.DataFrame(performance_scoring,columns=['Metrica', 'Score'])\n",
        "    #performance_scoring['Score'] = performance_scoring['Score'].astype('float64')\n",
        "    return performance_scoring"
      ]
    },
    {
      "cell_type": "markdown",
      "metadata": {
        "nteract": {
          "transient": {
            "deleting": false
          }
        }
      },
      "source": [
        "### Grid Search"
      ]
    },
    {
      "cell_type": "code",
      "execution_count": 78,
      "metadata": {
        "collapsed": true,
        "gather": {
          "logged": 1632360941799
        },
        "jupyter": {
          "outputs_hidden": false,
          "source_hidden": false
        },
        "nteract": {
          "transient": {
            "deleting": false
          }
        }
      },
      "outputs": [],
      "source": [
        "LinearRegressionModel = LinearRegression()\n",
        "RandomForestModel = RandomForestRegressor()"
      ]
    },
    {
      "cell_type": "markdown",
      "metadata": {
        "nteract": {
          "transient": {
            "deleting": false
          }
        }
      },
      "source": [
        "#### Linear Regression Model Parameters"
      ]
    },
    {
      "cell_type": "code",
      "execution_count": 79,
      "metadata": {
        "collapsed": true,
        "gather": {
          "logged": 1632360942004
        },
        "jupyter": {
          "outputs_hidden": false,
          "source_hidden": false
        },
        "nteract": {
          "transient": {
            "deleting": false
          }
        }
      },
      "outputs": [],
      "source": [
        "# print(\"Linear Regression  Params ----> \")\n",
        "# pprint(LinearRegressionModel.get_params())\n",
        "\n",
        "copy_X = [True, False]\n",
        "fit_intercept = [True, False]\n",
        "n_jobs = [2, 4, 6, 8]\n",
        "normalize = [True, False]\n",
        "\n",
        "# Create the random grid\n",
        "random_grid_linearregression = {'copy_X': copy_X, 'fit_intercept': fit_intercept, 'n_jobs': n_jobs, 'normalize': normalize}"
      ]
    },
    {
      "cell_type": "markdown",
      "metadata": {
        "nteract": {
          "transient": {
            "deleting": false
          }
        }
      },
      "source": [
        "#### Random Forest Model Parameters"
      ]
    },
    {
      "cell_type": "code",
      "execution_count": 80,
      "metadata": {
        "collapsed": true,
        "gather": {
          "logged": 1632360942214
        },
        "jupyter": {
          "outputs_hidden": false,
          "source_hidden": false
        },
        "nteract": {
          "transient": {
            "deleting": false
          }
        }
      },
      "outputs": [],
      "source": [
        "# print(\"Random Forest Model Params ----> \")\n",
        "# pprint(RandomForestModel.get_params())\n",
        "\n",
        "# Number of trees in random forest\n",
        "n_estimators = [int(x) for x in np.linspace(start = 20, stop = 1000, num = 10)]\n",
        "\n",
        "n_jobs = [2, 4, 6, 8]\n",
        "\n",
        "# Number of features to consider at every split\n",
        "max_features = ['auto', 'sqrt']\n",
        "\n",
        "# Maximum number of levels in tree\n",
        "max_depth = [int(x) for x in np.linspace(10, 110, num = 11)]\n",
        "max_depth.append(None)\n",
        "\n",
        "# Minimum number of samples required to split a node\n",
        "min_samples_split = [2, 5, 10]\n",
        "\n",
        "# Minimum number of samples required at each leaf node\n",
        "min_samples_leaf = [1, 2, 4]\n",
        "\n",
        "# Method of selecting samples for training each tree\n",
        "bootstrap = [True, False]\n",
        "\n",
        "# Create the random grid\n",
        "random_grid_randomforest = {'n_estimators': n_estimators,\n",
        "               'max_features': max_features,\n",
        "               'max_depth': max_depth,\n",
        "               'min_samples_split': min_samples_split,\n",
        "               'min_samples_leaf': min_samples_leaf,\n",
        "               'bootstrap': bootstrap,\n",
        "               'n_jobs': n_jobs}"
      ]
    },
    {
      "cell_type": "code",
      "execution_count": 81,
      "metadata": {
        "collapsed": true,
        "gather": {
          "logged": 1632361324253
        },
        "jupyter": {
          "outputs_hidden": false,
          "source_hidden": false
        },
        "nteract": {
          "transient": {
            "deleting": false
          }
        }
      },
      "outputs": [
        {
          "name": "stdout",
          "output_type": "stream",
          "text": [
            "Fitting 3 folds for each of 100 candidates, totalling 300 fits\n",
            "Fitting 3 folds for each of 32 candidates, totalling 96 fits\n",
            "Random Forest Best Parameters -----> \n",
            "{'bootstrap': True,\n",
            " 'max_depth': 80,\n",
            " 'max_features': 'auto',\n",
            " 'min_samples_leaf': 1,\n",
            " 'min_samples_split': 2,\n",
            " 'n_estimators': 455,\n",
            " 'n_jobs': 2}\n",
            "Linear Regression Best Parameters -----> \n",
            "{'copy_X': True, 'fit_intercept': False, 'n_jobs': 2, 'normalize': True}\n"
          ]
        }
      ],
      "source": [
        "X = line_data_model.filter(feature_names, axis=1)\n",
        "y = line_data_model.validations_per_hour\n",
        "\n",
        "# Random search of parameters, using 3 fold cross validation, \n",
        "# search across 100 different combinations, and use all available cores\n",
        "LinearRegressionModel = LinearRegression()\n",
        "RandomForestModel = RandomForestRegressor()\n",
        "gridsearch_result_randomforest = RandomizedSearchCV(estimator = RandomForestModel, param_distributions = random_grid_randomforest, n_iter = 100, cv = 3, verbose=2, random_state=42, n_jobs = -1)\n",
        "gridsearch_result_linearregression = RandomizedSearchCV(estimator = LinearRegressionModel, param_distributions = random_grid_linearregression, n_iter = 100, cv = 3, verbose=2, random_state=42, n_jobs = -1)\n",
        "\n",
        "# Fit the random search model\n",
        "X_train, X_test, Y_train, Y_test = train_test_split(X, y, test_size = 0.2, random_state=5)\n",
        "\n",
        "gridsearch_result_randomforest.fit(X_train, Y_train)\n",
        "gridsearch_result_linearregression.fit(X_train, Y_train)\n",
        "\n",
        "print(\"Random Forest Best Parameters -----> \")\n",
        "pprint(gridsearch_result_randomforest.best_params_)\n",
        "\n",
        "print(\"Linear Regression Best Parameters -----> \")\n",
        "pprint(gridsearch_result_linearregression.best_params_)\n",
        "\n",
        "gridsearched_random_randomforest = gridsearch_result_randomforest.best_estimator_\n",
        "gridsearch_random_linearregression = gridsearch_result_linearregression.best_estimator_\n",
        "\n",
        "default_linearregression_model = LinearRegressionModel.fit(X_train, Y_train)\n",
        "default_randomforest_model = RandomForestModel.fit(X_train, Y_train)\n",
        "\n",
        "\n",
        "GridSearchedRandomForestModelPipeline = make_pipeline(gridsearched_random_randomforest)\n",
        "DefaultRandomForestModelPipeline = make_pipeline(default_randomforest_model)\n"
      ]
    },
    {
      "cell_type": "code",
      "execution_count": 82,
      "metadata": {
        "gather": {
          "logged": 1632361324961
        }
      },
      "outputs": [
        {
          "name": "stdout",
          "output_type": "stream",
          "text": [
            "###  1 Modelo Por Linha (dado completo de treino)\n",
            "\n",
            "----------------------------------------------------\n",
            "\n",
            "Regressao Linear [DEFAULT]: \n",
            " [0.43594093778347964, 206.16030120634358, 147.39658826199798, 1.1773615582796288e+19]\n",
            "\n",
            "----------------------------------------------------\n",
            "\n",
            "Random Forest [DEFAULT]: \n",
            " [0.9294364711296166, 72.91768889756649, 31.873121194139195, 2.2036740445278513e+18]\n",
            "\n",
            "----------------------------------------------------\n",
            "\n",
            "Regressao Linear [GRID SEARCH]: \n",
            " [0.43594093778347787, 206.16030120634392, 147.39658826199602, 1.177361558279597e+19]\n",
            "\n",
            "----------------------------------------------------\n",
            "\n",
            "Random Forest [GRID SEARCH]: \n",
            " [0.9334636632116474, 70.80634762465122, 31.532772368876547, 2.187458699539806e+18]\n",
            "\n",
            "----------------------------------------------------\n",
            "\n",
            "\n",
            "Utilizando sample aleatorio de dado para teste de previsao: \n",
            "Regressao Linear -> resultado do predict de test:  [410.61506986]\n",
            "Random Forest -> resultado do predict de test:  [314.2]\n",
            "Regressao Linear Best Grid Searched -> resultado do predict de test:  [314.2]\n",
            "Random Forest Best Grid Searched -> resultado do predict de test:  [314.2]\n"
          ]
        },
        {
          "data": {
            "text/html": [
              "<div>\n",
              "<style scoped>\n",
              "    .dataframe tbody tr th:only-of-type {\n",
              "        vertical-align: middle;\n",
              "    }\n",
              "\n",
              "    .dataframe tbody tr th {\n",
              "        vertical-align: top;\n",
              "    }\n",
              "\n",
              "    .dataframe thead th {\n",
              "        text-align: right;\n",
              "    }\n",
              "</style>\n",
              "<table border=\"1\" class=\"dataframe\">\n",
              "  <thead>\n",
              "    <tr style=\"text-align: right;\">\n",
              "      <th></th>\n",
              "      <th>linha</th>\n",
              "      <th>data_hora</th>\n",
              "      <th>validations_per_hour</th>\n",
              "      <th>d_semana</th>\n",
              "      <th>hour_sin</th>\n",
              "      <th>hour_cos</th>\n",
              "      <th>hora</th>\n",
              "      <th>d_mes</th>\n",
              "      <th>d_ano</th>\n",
              "      <th>mes</th>\n",
              "      <th>semana_do_mes</th>\n",
              "      <th>domingo</th>\n",
              "      <th>segunda</th>\n",
              "      <th>terca</th>\n",
              "      <th>quarta</th>\n",
              "      <th>quinta</th>\n",
              "      <th>sexta</th>\n",
              "      <th>sabado</th>\n",
              "      <th>feriado</th>\n",
              "      <th>vespera_feriado</th>\n",
              "    </tr>\n",
              "  </thead>\n",
              "  <tbody>\n",
              "    <tr>\n",
              "      <th>174633</th>\n",
              "      <td>41</td>\n",
              "      <td>2020-07-09 08:00:00</td>\n",
              "      <td>295</td>\n",
              "      <td>3</td>\n",
              "      <td>0.81697</td>\n",
              "      <td>-0.57668</td>\n",
              "      <td>8</td>\n",
              "      <td>9</td>\n",
              "      <td>191</td>\n",
              "      <td>7</td>\n",
              "      <td>1</td>\n",
              "      <td>0.0</td>\n",
              "      <td>0.0</td>\n",
              "      <td>0.0</td>\n",
              "      <td>1.0</td>\n",
              "      <td>0.0</td>\n",
              "      <td>0.0</td>\n",
              "      <td>0.0</td>\n",
              "      <td>0</td>\n",
              "      <td>0</td>\n",
              "    </tr>\n",
              "  </tbody>\n",
              "</table>\n",
              "</div>"
            ],
            "text/plain": [
              "        linha            data_hora  validations_per_hour  d_semana  hour_sin  \\\n",
              "174633     41  2020-07-09 08:00:00                   295         3   0.81697   \n",
              "\n",
              "        hour_cos  hora  d_mes  d_ano  mes  semana_do_mes  domingo  segunda  \\\n",
              "174633  -0.57668     8      9    191    7              1      0.0      0.0   \n",
              "\n",
              "        terca  quarta  quinta  sexta  sabado  feriado  vespera_feriado  \n",
              "174633    0.0     1.0     0.0    0.0     0.0        0                0  "
            ]
          },
          "metadata": {},
          "output_type": "display_data"
        },
        {
          "name": "stdout",
          "output_type": "stream",
          "text": [
            "LINHA UTILIZADA PARA OS TESTES:  41\n"
          ]
        },
        {
          "data": {
            "text/html": [
              "<div>\n",
              "<style scoped>\n",
              "    .dataframe tbody tr th:only-of-type {\n",
              "        vertical-align: middle;\n",
              "    }\n",
              "\n",
              "    .dataframe tbody tr th {\n",
              "        vertical-align: top;\n",
              "    }\n",
              "\n",
              "    .dataframe thead th {\n",
              "        text-align: right;\n",
              "    }\n",
              "</style>\n",
              "<table border=\"1\" class=\"dataframe\">\n",
              "  <thead>\n",
              "    <tr style=\"text-align: right;\">\n",
              "      <th></th>\n",
              "      <th>R2</th>\n",
              "      <th>RMSE</th>\n",
              "      <th>MAE</th>\n",
              "      <th>MAPE</th>\n",
              "    </tr>\n",
              "  </thead>\n",
              "  <tbody>\n",
              "    <tr>\n",
              "      <th>LinearReg Default</th>\n",
              "      <td>0.435941</td>\n",
              "      <td>206.160301</td>\n",
              "      <td>147.396588</td>\n",
              "      <td>1.177362e+19</td>\n",
              "    </tr>\n",
              "    <tr>\n",
              "      <th>RandomForest Default</th>\n",
              "      <td>0.929436</td>\n",
              "      <td>72.917689</td>\n",
              "      <td>31.873121</td>\n",
              "      <td>2.203674e+18</td>\n",
              "    </tr>\n",
              "    <tr>\n",
              "      <th>LinearReg GridSearched</th>\n",
              "      <td>0.435941</td>\n",
              "      <td>206.160301</td>\n",
              "      <td>147.396588</td>\n",
              "      <td>1.177362e+19</td>\n",
              "    </tr>\n",
              "    <tr>\n",
              "      <th>RandomForest GridSearched</th>\n",
              "      <td>0.933464</td>\n",
              "      <td>70.806348</td>\n",
              "      <td>31.532772</td>\n",
              "      <td>2.187459e+18</td>\n",
              "    </tr>\n",
              "  </tbody>\n",
              "</table>\n",
              "</div>"
            ],
            "text/plain": [
              "                                 R2        RMSE         MAE          MAPE\n",
              "LinearReg Default          0.435941  206.160301  147.396588  1.177362e+19\n",
              "RandomForest Default       0.929436   72.917689   31.873121  2.203674e+18\n",
              "LinearReg GridSearched     0.435941  206.160301  147.396588  1.177362e+19\n",
              "RandomForest GridSearched  0.933464   70.806348   31.532772  2.187459e+18"
            ]
          },
          "execution_count": 82,
          "metadata": {},
          "output_type": "execute_result"
        }
      ],
      "source": [
        "sample = X.sample(n=1)\n",
        "print(\"###  1 Modelo Por Linha (dado completo de treino)\")\n",
        "\n",
        "performance_default_linearregression_model = get_performance(default_linearregression_model)\n",
        "performance_default_randomforest_model = get_performance(default_randomforest_model)\n",
        "performance_gridsearched_linearregression_model = get_performance(gridsearch_random_linearregression)\n",
        "performance_gridsearched_randomforest_model = get_performance(gridsearched_random_randomforest)\n",
        "\n",
        "print(\"\\n----------------------------------------------------\\n\")\n",
        "print('Regressao Linear [DEFAULT]: \\n', performance_default_linearregression_model)\n",
        "print(\"\\n----------------------------------------------------\\n\")\n",
        "print('Random Forest [DEFAULT]: \\n', performance_default_randomforest_model)\n",
        "print(\"\\n----------------------------------------------------\\n\")\n",
        "print('Regressao Linear [GRID SEARCH]: \\n', performance_gridsearched_linearregression_model)\n",
        "print(\"\\n----------------------------------------------------\\n\")\n",
        "print('Random Forest [GRID SEARCH]: \\n', performance_gridsearched_randomforest_model)\n",
        "print(\"\\n----------------------------------------------------\\n\")\n",
        "\n",
        "print(\"\\nUtilizando sample aleatorio de dado para teste de previsao: \")\n",
        "\n",
        "predict_res = default_linearregression_model.predict(sample)\n",
        "\n",
        "print(\"Regressao Linear -> resultado do predict de test: \", predict_res)\n",
        "\n",
        "predict_res2 = default_randomforest_model.predict(sample)\n",
        "print(\"Random Forest -> resultado do predict de test: \", predict_res2)\n",
        "\n",
        "random_res = gridsearch_random_linearregression.predict(sample)\n",
        "print(\"Regressao Linear Best Grid Searched -> resultado do predict de test: \", predict_res2)\n",
        "\n",
        "random_res = gridsearched_random_randomforest.predict(sample)\n",
        "print(\"Random Forest Best Grid Searched -> resultado do predict de test: \", predict_res2)\n",
        "\n",
        "display(data_model.loc[sample.index[0]:sample.index[0]])\n",
        "\n",
        "print('LINHA UTILIZADA PARA OS TESTES: ', busline_filter)\n",
        "\n",
        "performance_total = [performance_default_linearregression_model,\n",
        "    performance_default_randomforest_model,\n",
        "    performance_gridsearched_linearregression_model,\n",
        "    performance_gridsearched_randomforest_model]\n",
        "\n",
        "performance_total = pd.DataFrame.from_records(performance_total, columns=['R2', 'RMSE', 'MAE', 'MAPE'], \n",
        "    index=['LinearReg Default', 'RandomForest Default', 'LinearReg GridSearched', 'RandomForest GridSearched'])\n",
        "performance_total"
      ]
    },
    {
      "cell_type": "markdown",
      "metadata": {
        "nteract": {
          "transient": {
            "deleting": false
          }
        }
      },
      "source": [
        "## BAGGING"
      ]
    },
    {
      "cell_type": "code",
      "execution_count": 83,
      "metadata": {
        "collapsed": true,
        "gather": {
          "logged": 1632361332525
        },
        "jupyter": {
          "outputs_hidden": false,
          "source_hidden": false
        },
        "nteract": {
          "transient": {
            "deleting": false
          }
        }
      },
      "outputs": [
        {
          "name": "stdout",
          "output_type": "stream",
          "text": [
            "Performance for base estimator Pipeline(steps=[('linearregression', LinearRegression())]) = [0.43460556176658094, 206.40419301921003, 146.92854965787035, 1.1681624102064103e+19]\n",
            "\n",
            "Performance for base estimator Pipeline(steps=[('randomforestregressor', RandomForestRegressor())]) = [0.9313618247536739, 71.91601497234409, 33.229468370228766, 2.412757437952674e+18]\n",
            "\n"
          ]
        }
      ],
      "source": [
        "#X_train, X_test, Y_train, Y_test = train_test_split(X, y, test_size = 0.2, random_state=5)\n",
        "warnings.filterwarnings(\"ignore\") # To ignore warnings\n",
        "n_jobs = -1 # This parameter conrols the parallel processing. -1 means using all processors.\n",
        "random_state = 42 # This parameter controls the randomness of the data. Using some int value to get same results everytime this code is run\n",
        "models_scores = [] # To store model scores               \n",
        "\n",
        "def bagging_model(estimator):\n",
        "    \"\"\"\n",
        "    I/P\n",
        "    estimator: The base estimator from which the ensemble is grown.\n",
        "    O/P\n",
        "    br_y_pred: Predictions on test data for the base estimator.\n",
        "    \n",
        "    \"\"\"\n",
        "    regr = BaggingRegressor(base_estimator=estimator,\n",
        "                            n_estimators=10,\n",
        "                            max_samples=1.0,\n",
        "                            bootstrap=True, # Samples are drawn with replacement\n",
        "                            n_jobs= n_jobs,\n",
        "                            random_state=random_state).fit(X_train, Y_train)\n",
        "\n",
        "    br_y_pred = regr.predict(X_test)\n",
        "\n",
        "    performance = get_performance(regr)\n",
        "    \n",
        "    print(f'Performance for base estimator {regr.base_estimator_} = {performance}\\n')\n",
        "\n",
        "    return regr, performance\n",
        "\n",
        "LinearRegressionModelPipeline = make_pipeline(LinearRegression())\n",
        "RandomForestModelPipeline = make_pipeline(RandomForestRegressor())\n",
        "\n",
        "bagging_lr_model, performance_bagging_lr_model = bagging_model(LinearRegressionModelPipeline)\n",
        "bagging_rf_model, performance_bagging_rf_model = bagging_model(RandomForestModelPipeline)\n",
        "\n",
        "df2 = pd.DataFrame([performance_bagging_lr_model, performance_bagging_rf_model], columns=['R2','RMSE','MAE', 'MAPE'], \n",
        "    index=['LinearRegression Bagging', 'RandomForest Bagging'])\n",
        "performance_total = pd.concat([df2, performance_total])\n",
        "\n",
        "\n",
        "BaggingLinearRegressionModelPipeline = make_pipeline(bagging_lr_model)\n",
        "BaggingRandomForestModelPipeline = make_pipeline(bagging_rf_model)\n"
      ]
    },
    {
      "cell_type": "markdown",
      "metadata": {
        "nteract": {
          "transient": {
            "deleting": false
          }
        }
      },
      "source": [
        "# BOOSTING"
      ]
    },
    {
      "cell_type": "code",
      "execution_count": 84,
      "metadata": {
        "collapsed": true,
        "gather": {
          "logged": 1632361341280
        },
        "jupyter": {
          "outputs_hidden": false,
          "source_hidden": false
        },
        "nteract": {
          "transient": {
            "deleting": false
          }
        }
      },
      "outputs": [],
      "source": [
        "gradient_boosting_regressor= GradientBoostingRegressor(n_estimators=3000, learning_rate=0.05,\n",
        "                                   max_depth=4, max_features='sqrt',\n",
        "                                   min_samples_leaf=15, min_samples_split=10, \n",
        "                                   loss='huber', random_state = random_state)\n",
        "\n",
        "gradient_boosting_regressor.fit(X_train, Y_train)\n",
        "\n",
        "performance = get_performance(gradient_boosting_regressor)\n",
        "\n",
        "df2 = pd.DataFrame([performance], columns=['R2','RMSE','MAE', 'MAPE'], \n",
        "    index=['GradientBoostingRegressor'])\n",
        "\n",
        "performance_total = pd.concat([df2, performance_total])\n",
        "GradientBoostingModelPipeline = make_pipeline(gradient_boosting_regressor)\n"
      ]
    },
    {
      "cell_type": "markdown",
      "metadata": {},
      "source": [
        "# STACKING"
      ]
    },
    {
      "cell_type": "code",
      "execution_count": 85,
      "metadata": {},
      "outputs": [],
      "source": [
        "\n",
        "estimators = [\n",
        "    ('gridseached_randomforest', GridSearchedRandomForestModelPipeline),\n",
        "    ('bagging_randomforest',BaggingRandomForestModelPipeline),\n",
        "    ('gradient_boosting', GradientBoostingModelPipeline), \n",
        "    ('random_forest_default', DefaultRandomForestModelPipeline)\n",
        "]\n",
        "\n",
        "stack = StackingRegressor(estimators=estimators, final_estimator=DefaultRandomForestModelPipeline, cv= 5, n_jobs= n_jobs, passthrough = True)\n",
        "\n",
        "stack.fit(X_train, Y_train)\n",
        "\n",
        "performance = get_performance(stack)\n",
        "\n",
        "df2 = pd.DataFrame([performance], columns=['R2','RMSE','MAE', 'MAPE'], \n",
        "    index=['Stacking Regressors'])\n",
        "\n",
        "performance_total = pd.concat([df2, performance_total])"
      ]
    },
    {
      "cell_type": "code",
      "execution_count": null,
      "metadata": {
        "collapsed": true,
        "gather": {
          "logged": 1632369757434
        },
        "jupyter": {
          "outputs_hidden": false,
          "source_hidden": false
        },
        "nteract": {
          "transient": {
            "deleting": false
          }
        }
      },
      "outputs": [],
      "source": [
        "performance_total.to_csv('../performances/2020/performance_total_linha'+str(busline_filter)+'.csv', index=False)"
      ]
    },
    {
      "cell_type": "code",
      "execution_count": null,
      "metadata": {},
      "outputs": [
        {
          "data": {
            "text/html": [
              "<div>\n",
              "<style scoped>\n",
              "    .dataframe tbody tr th:only-of-type {\n",
              "        vertical-align: middle;\n",
              "    }\n",
              "\n",
              "    .dataframe tbody tr th {\n",
              "        vertical-align: top;\n",
              "    }\n",
              "\n",
              "    .dataframe thead th {\n",
              "        text-align: right;\n",
              "    }\n",
              "</style>\n",
              "<table border=\"1\" class=\"dataframe\">\n",
              "  <thead>\n",
              "    <tr style=\"text-align: right;\">\n",
              "      <th></th>\n",
              "      <th>R2</th>\n",
              "      <th>RMSE</th>\n",
              "      <th>MAE</th>\n",
              "      <th>MAPE</th>\n",
              "    </tr>\n",
              "  </thead>\n",
              "  <tbody>\n",
              "    <tr>\n",
              "      <th>Stacking Regressors</th>\n",
              "      <td>0.968067</td>\n",
              "      <td>49.052826</td>\n",
              "      <td>24.830254</td>\n",
              "      <td>9.740188e+17</td>\n",
              "    </tr>\n",
              "    <tr>\n",
              "      <th>RandomForest Default</th>\n",
              "      <td>0.936410</td>\n",
              "      <td>69.220756</td>\n",
              "      <td>31.236818</td>\n",
              "      <td>2.149918e+18</td>\n",
              "    </tr>\n",
              "    <tr>\n",
              "      <th>RandomForest GridSearched</th>\n",
              "      <td>0.934326</td>\n",
              "      <td>70.346211</td>\n",
              "      <td>31.372282</td>\n",
              "      <td>2.177731e+18</td>\n",
              "    </tr>\n",
              "    <tr>\n",
              "      <th>RandomForest Bagging</th>\n",
              "      <td>0.931362</td>\n",
              "      <td>71.916015</td>\n",
              "      <td>33.229468</td>\n",
              "      <td>2.412757e+18</td>\n",
              "    </tr>\n",
              "    <tr>\n",
              "      <th>GradientBoostingRegressor</th>\n",
              "      <td>0.949120</td>\n",
              "      <td>61.918133</td>\n",
              "      <td>34.693086</td>\n",
              "      <td>3.520398e+18</td>\n",
              "    </tr>\n",
              "    <tr>\n",
              "      <th>LinearRegression Bagging</th>\n",
              "      <td>0.434606</td>\n",
              "      <td>206.404193</td>\n",
              "      <td>146.928550</td>\n",
              "      <td>1.168162e+19</td>\n",
              "    </tr>\n",
              "    <tr>\n",
              "      <th>LinearReg GridSearched</th>\n",
              "      <td>0.435941</td>\n",
              "      <td>206.160301</td>\n",
              "      <td>147.396588</td>\n",
              "      <td>1.177362e+19</td>\n",
              "    </tr>\n",
              "    <tr>\n",
              "      <th>LinearReg Default</th>\n",
              "      <td>0.435941</td>\n",
              "      <td>206.160301</td>\n",
              "      <td>147.396588</td>\n",
              "      <td>1.177362e+19</td>\n",
              "    </tr>\n",
              "  </tbody>\n",
              "</table>\n",
              "</div>"
            ],
            "text/plain": [
              "                                 R2        RMSE         MAE          MAPE\n",
              "Stacking Regressors        0.968067   49.052826   24.830254  9.740188e+17\n",
              "RandomForest Default       0.936410   69.220756   31.236818  2.149918e+18\n",
              "RandomForest GridSearched  0.934326   70.346211   31.372282  2.177731e+18\n",
              "RandomForest Bagging       0.931362   71.916015   33.229468  2.412757e+18\n",
              "GradientBoostingRegressor  0.949120   61.918133   34.693086  3.520398e+18\n",
              "LinearRegression Bagging   0.434606  206.404193  146.928550  1.168162e+19\n",
              "LinearReg GridSearched     0.435941  206.160301  147.396588  1.177362e+19\n",
              "LinearReg Default          0.435941  206.160301  147.396588  1.177362e+19"
            ]
          },
          "execution_count": 28,
          "metadata": {},
          "output_type": "execute_result"
        }
      ],
      "source": [
        "performance_total.sort_values('MAE', ascending=True)"
      ]
    },
    {
      "cell_type": "markdown",
      "metadata": {
        "nteract": {
          "transient": {
            "deleting": false
          }
        }
      },
      "source": [
        "### Todos os modelos treinados dentro de *model_list*"
      ]
    },
    {
      "cell_type": "code",
      "execution_count": null,
      "metadata": {
        "collapsed": true,
        "gather": {
          "logged": 1632363793252
        },
        "jupyter": {
          "outputs_hidden": false,
          "source_hidden": false
        },
        "nteract": {
          "transient": {
            "deleting": false
          }
        }
      },
      "outputs": [],
      "source": [
        "model_list = [\n",
        "    stack,\n",
        "    gradient_boosting_regressor,\n",
        "    bagging_rf_model,\n",
        "    default_randomforest_model,\n",
        "    #default_linearregression_model,\n",
        "    #gridsearch_result_linearregression,\n",
        "    #gridsearch_result_randomforest,\n",
        "    #bagging_lr_model,\n",
        "]"
      ]
    },
    {
      "cell_type": "markdown",
      "metadata": {
        "nteract": {
          "transient": {
            "deleting": false
          }
        }
      },
      "source": [
        "## Treinar com 1 mes, prever N semanas"
      ]
    },
    {
      "cell_type": "code",
      "execution_count": null,
      "metadata": {
        "gather": {
          "logged": 1632364536684
        },
        "jupyter": {
          "outputs_hidden": false,
          "source_hidden": false
        },
        "nteract": {
          "transient": {
            "deleting": false
          }
        }
      },
      "outputs": [],
      "source": [
        "# Jan, Fev, Mar, Abril, Maio\n",
        "# treina com mar, preve 2 semanas de abril\n",
        "\n",
        "mes_de_treino = 3\n",
        "mes_de_previsao = 4\n",
        "\n",
        "line_mes_data_model = line_data_model[line_data_model.mes == mes_de_treino]\n",
        "\n",
        "line_mes_data_model_predict = line_data_model[line_data_model.mes == mes_de_previsao]\n",
        "\n",
        "df_prev = line_mes_data_model_predict[line_mes_data_model_predict.semana_do_mes <  2].filter(feature_names, axis = 1)\n",
        "real_values = pd.DataFrame(line_mes_data_model_predict[line_mes_data_model_predict.semana_do_mes <  2].validations_per_hour)\n",
        "\n",
        "X = line_mes_data_model.filter(feature_names, axis=1)\n",
        "y = line_mes_data_model.validations_per_hour\n",
        "X_train, X_test, Y_train, Y_test = train_test_split(X, y, test_size = 0.2, random_state=5)\n",
        "\n",
        "predictions = [[],[],[],[]]\n",
        "performances = list()\n",
        "df_prev\n",
        "for i, model in enumerate(model_list):\n",
        "        model.fit(X_train, Y_train)\n",
        "        performances.append(get_performance(model))\n",
        "\n",
        "        for index, row in df_prev.iterrows():\n",
        "            predictions[i].append(model.predict([row])[0])\n",
        "\n",
        "df_performance = pd.DataFrame(performances)\n",
        "df_performance.to_csv('./performances/linha'+str(busline_filter)+'_1mes('+str(mes_de_treino)+')_1semanas('+str(mes_de_previsao)+')_performance.csv', index=False)\n",
        "df_predict_dados = real_values\n",
        "df_predict_dados['validations_per_hour_predicted'] = predictions[0]\n",
        "df_predict_dados.to_csv('./predict-vs-real/linha'+str(busline_filter)+'_1mes('+str(mes_de_treino)+')_1semanas('+str(mes_de_previsao)+')_predict.csv', index=False)"
      ]
    },
    {
      "cell_type": "markdown",
      "metadata": {
        "nteract": {
          "transient": {
            "deleting": false
          }
        }
      },
      "source": [
        "### Treinar com (N-Y) meses, Prever mes (N)"
      ]
    },
    {
      "cell_type": "code",
      "execution_count": null,
      "metadata": {
        "gather": {
          "logged": 1631467016584
        },
        "jupyter": {
          "outputs_hidden": false,
          "source_hidden": false
        },
        "nteract": {
          "transient": {
            "deleting": false
          }
        }
      },
      "outputs": [
        {
          "name": "stdout",
          "output_type": "stream",
          "text": [
            "168\n"
          ]
        }
      ],
      "source": [
        "predictions = []\n",
        "performances = [[],[],[],[],[],[],[],[]]\n",
        "\n",
        "df_treinamento = line_data_model[line_data_model.mes < 6].copy()\n",
        "df_previsao = line_data_model[line_data_model.mes == 6].loc[line_data_model.d_mes < 8].copy()\n",
        "df_prev = df_previsao.filter(feature_names, axis = 1)\n",
        "df_results = df_previsao.filter('validations_per_hour', axis = 1)\n",
        "\n",
        "print(df_results.__len__())\n",
        "\n",
        "X = df_treinamento.filter(feature_names, axis=1)\n",
        "y = df_treinamento.validations_per_hour\n",
        "X_train, X_test, Y_train, Y_test = train_test_split(X, y, test_size = 0.2, random_state=5)\n",
        "\n",
        "\n",
        "stack.fit(X_train, Y_train)\n",
        "# performances[i].append(get_performance(stack))\n",
        "\n",
        "for index, row in df_prev.iterrows():\n",
        "    predictions.append(stack.predict([row])[0])\n",
        "\n",
        "df_results = df_previsao.validations_per_hour\n",
        "\n",
        "df_performance = pd.DataFrame(performances)\n",
        "df_performance.to_csv('../performances/2020/performance_9_meses_predict_10th_stacking.csv', index=False)\n",
        "\n",
        "\n"
      ]
    },
    {
      "cell_type": "code",
      "execution_count": null,
      "metadata": {},
      "outputs": [
        {
          "data": {
            "image/png": "[encoded data removed]",
            "text/plain": [
              "<Figure size 2160x720 with 1 Axes>"
            ]
          },
          "metadata": {},
          "output_type": "display_data"
        }
      ],
      "source": [
        "# 168 == quantidade de horas previstas em 1 semana\n",
        "plt_size = 168\n",
        "\n",
        "plt.figure(figsize=(30, 10))\n",
        "plt.plot(range(df_results.size), df_results.values, color='blue')\n",
        "plt.plot(range(predictions.__len__()), predictions, color='red')\n",
        "plt.xlabel('True Values')\n",
        "plt.ylabel('Predictions')\n",
        "plt.show()"
      ]
    },
    {
      "cell_type": "code",
      "execution_count": null,
      "metadata": {
        "gather": {
          "logged": 1631409753552
        },
        "jupyter": {
          "outputs_hidden": false,
          "source_hidden": false
        },
        "nteract": {
          "transient": {
            "deleting": false
          }
        }
      },
      "outputs": [],
      "source": [
        "plt.figure(figsize=(30, 10))\n",
        "plt.plot(range(len(df_results) - plt_size), df_results[plt_size:], color='blue')\n",
        "plt.plot(range(len(predictions[2]) - plt_size ), predictions[0][plt_size:], color='red')\n",
        "plt.xlabel('True Values')\n",
        "plt.ylabel('Predictions')\n",
        "plt.show()"
      ]
    },
    {
      "cell_type": "code",
      "execution_count": null,
      "metadata": {
        "gather": {
          "logged": 1631409753830
        },
        "jupyter": {
          "outputs_hidden": false,
          "source_hidden": false
        },
        "nteract": {
          "transient": {
            "deleting": false
          }
        }
      },
      "outputs": [],
      "source": [
        "performances"
      ]
    },
    {
      "cell_type": "code",
      "execution_count": null,
      "metadata": {
        "gather": {
          "logged": 1631409754004
        },
        "jupyter": {
          "outputs_hidden": false,
          "source_hidden": false
        },
        "nteract": {
          "transient": {
            "deleting": false
          }
        }
      },
      "outputs": [],
      "source": [
        "df = pd.DataFrame(predictions)\n",
        "df.to_csv('predictions0.csv', index=False)"
      ]
    },
    {
      "cell_type": "code",
      "execution_count": null,
      "metadata": {
        "gather": {
          "logged": 1631409754185
        },
        "jupyter": {
          "outputs_hidden": false,
          "source_hidden": false
        },
        "nteract": {
          "transient": {
            "deleting": false
          }
        }
      },
      "outputs": [],
      "source": [
        "# ACCESS IN ORDER PREDICTION VALUES\n",
        "df.iloc[0]"
      ]
    },
    {
      "cell_type": "code",
      "execution_count": null,
      "metadata": {
        "gather": {
          "logged": 1631409754438
        },
        "jupyter": {
          "outputs_hidden": false,
          "source_hidden": false
        },
        "nteract": {
          "transient": {
            "deleting": false
          }
        }
      },
      "outputs": [],
      "source": [
        "# #top 100 exampled linhas\n",
        "# #data_model.linha.value_counts().index[:100]\n",
        "\n",
        "# print(data_model.linha.value_counts().index[:100])\n",
        "\n",
        "d_31 = [1, 3, 5, 7, 8, 10, 12]\n",
        "d_30 = [4, 6, 9, 11]\n",
        "\n",
        "\n",
        "from datetime import datetime\n",
        "import datetime\n",
        "import calendar\n",
        "\n",
        "def week_of_month(tgtdate):\n",
        "    tgtdate = tgtdate.to_pydatetime()\n",
        "    startdate = 0\n",
        "\n",
        "    days_this_month = calendar.mdays[tgtdate.month]\n",
        "    for i in range(1, days_this_month):\n",
        "        d = datetime.datetime(tgtdate.year, tgtdate.month, i)\n",
        "        if d.day - d.weekday() > 0:\n",
        "            startdate = d\n",
        "            break\n",
        "    # now we canuse the modulo 7 appraoch\n",
        "    return (tgtdate - startdate).days //7 + 1\n",
        "\n",
        "# #ate outubro para prever novembro\n",
        "# for linha in top100_linhas:\n",
        "#     #linha filter\n",
        "#     currentLinhaData = data_model[data_model.linha == linha]\n",
        "#     print(currentLinhaData)\n",
        "#     for mes in range(3, 12):\n",
        "#         currentLinhaData = currentLinhaData[currentLinhaData.mes == mes]\n",
        "\n",
        "#         if mes in d_31:\n",
        "#             d_d = 31\n",
        "#         elif mes in d_30:\n",
        "#             d_d = 30\n",
        "#         else:\n",
        "#             d_d = 29\n",
        "        \n",
        "#         for dia in range(1, d_d):\n",
        "#             currentLinhaData = currentLinhaData[currentLinhaData.d_mes == dia]\n",
        "#             for hora in range(24):\n",
        "#                 currentLinhaData = currentLinhaData[currentLinhaData.hora == hora]\n",
        "#                 if currentLinhaData.empty:\n",
        "#                     # feature_names = [\n",
        "#                     # 'hour_sin', 'hour_cos', \n",
        "#                     # 'd_mes', 'mes', 'semana_do_mes', \n",
        "#                     # 'domingo','segunda', 'terca', 'quarta', 'quinta', 'sexta', 'sabado', \n",
        "#                     # 'feriado', 'vespera_feriado']\n",
        "#                     # target = 'validations_per_hour'\n",
        "\n",
        "#                     # a_row = pd.Series([1, 2])\n",
        "#                     # df = pd.DataFrame([[3, 4], [5, 6]])\n",
        "#                     # row_df = pd.DataFrame([a_row])\n",
        "#                     # df = pd.concat([row_df, df], ignore_index=True)\n",
        "\n",
        "#                     h_sin = np.sin(2 * np.pi * hora/23.0)\n",
        "#                     h_cos = np.cos(2 * np.pi * hora/23.0)\n",
        "#                     semana_do_mes = (dia-1) // 7 + 1\n",
        "#                     #dia do ano\n",
        "#                     ins = pd.Series([linha, data_hora, 0, h_sin, h_cos, dia, mes, semana_do_mes *DIASDASEMANAENCODED, *feriado, *vesperaferiado])\n",
        "#                     ins_df = pd.DataFrame([ins])\n",
        "\n",
        "#                     currentLinhaData = pd.concat([ins_df, currentLinhaData], ignore_index=True)\n",
        "#                     print(f\"INSERINDO MISSING HORA {hora} no dia {dia} do mes {mes}\")\n",
        "\n",
        "# t = data_model[data_model.linha.isin(data_model.linha.value_counts().index[:100])]\n",
        "# t"
      ]
    },
    {
      "cell_type": "markdown",
      "metadata": {
        "nteract": {
          "transient": {
            "deleting": false
          }
        }
      },
      "source": [
        "## Ranking Linhas de Onibus"
      ]
    },
    {
      "cell_type": "code",
      "execution_count": null,
      "metadata": {
        "gather": {
          "logged": 1631409754617
        }
      },
      "outputs": [],
      "source": [
        "\n",
        "# print(data_model.linha.value_counts(ascending=True)[data_model['linha'].value_counts() < 100])\n",
        "\n",
        "# linha_lista = data_model.linha.unique()\n",
        "# linha_lista = linha_lista[:10]\n",
        "res_map = list()\n",
        "for linha in top100_linhas:\n",
        "    for model in model_list:\n",
        "        \n",
        "        # X = currentLinhaData.filter(['hour_sin', 'hour_cos', \n",
        "        # 'd_mes', 'd_ano', 'mes', 'semana_do_mes', \n",
        "        # 'domingo','segunda', 'terca', 'quarta', 'quinta', 'sexta', 'sabado', \n",
        "        # 'feriado', 'vespera_feriado'], axis=1)\n",
        "        # y = currentLinhaData.validations_per_hour\n",
        "\n",
        "        currentLinhaData = top100_linhas_data_model.loc[data['linha'] == linha].copy()\n",
        "        X = currentLinhaData.filter(feature_names, axis=1)\n",
        "        y = currentLinhaData.validations_per_hour\n",
        "        X_train, X_test, Y_train, Y_test = train_test_split(X, y, test_size = 0.2, random_state=5)\n",
        "\n",
        "        model.fit(X_train, Y_train)\n",
        "        performance = get_performance(model)\n",
        "        performance.insert(0, linha)\n",
        "        res_map.append(performance)\n",
        "res_map = pd.DataFrame(res_map, columns=[\"Linha\", \"R2\", \"RMSE\", \"MAE\", 'MAPE'])\n",
        "r = res_map.sort_values('MAE', ascending=True)\n",
        "r.to_csv(\"./performances/ranking_top100.csv\", index=False)\n",
        "\n"
      ]
    },
    {
      "cell_type": "code",
      "execution_count": null,
      "metadata": {},
      "outputs": [],
      "source": []
    },
    {
      "cell_type": "code",
      "execution_count": null,
      "metadata": {
        "gather": {
          "logged": 1631504448928
        },
        "jupyter": {
          "outputs_hidden": false,
          "source_hidden": false
        },
        "nteract": {
          "transient": {
            "deleting": false
          }
        }
      },
      "outputs": [],
      "source": [
        "r.to_csv(\"./performances/ranking_top100.csv\", index=False)\n",
        "r"
      ]
    },
    {
      "cell_type": "code",
      "execution_count": null,
      "metadata": {
        "gather": {
          "logged": 1631504114908
        },
        "jupyter": {
          "outputs_hidden": false,
          "source_hidden": false
        },
        "nteract": {
          "transient": {
            "deleting": false
          }
        }
      },
      "outputs": [],
      "source": [
        "# res_map = pd.DataFrame(res_map,columns=['Linha', \n",
        "#     # '[LR][DEF]R2', '[LR][DF]RMSE', '[LR][DF]MAE',\n",
        "#     '[RF][GS]R2', '[RF][GS]RMSE', '[RF][GS]MAE',\n",
        "#     # '[LR][BAG]R2', '[LR][BAG]RMSE', '[LR][BAG]MAE',\n",
        "#     '[RF][BAG]R2', '[RF][BAG]RMSE', '[RF][BAG]MAE',\n",
        "#     '[STK]R2', '[STK]RMSE', '[STK]MAE',\n",
        "#     # '[BOS]R2', '[BOS]RMSE', '[BOS]MAE' \n",
        "#     ])\n",
        "res_map = pd.DataFrame(res_map,columns=['Linha','R2', 'RMSE', 'MAE', 'MAPE'])\n",
        "\n",
        "#performance_scoring['Score'] = performance_scoring['Score'].astype('float64')\n",
        "res_map = res_map.sort_values('R2').reset_index(drop=True)\n",
        "res_map.to_csv('./top100linhas_rank.csv', index=False)\n",
        "res_map"
      ]
    },
    {
      "cell_type": "markdown",
      "metadata": {
        "nteract": {
          "transient": {
            "deleting": false
          }
        }
      },
      "source": [
        "## Avaliacao dos dados atualmente\n",
        "404 linhas  \n",
        "358 com pelo menos 10 exemplos\n",
        "\n"
      ]
    },
    {
      "cell_type": "code",
      "execution_count": null,
      "metadata": {
        "collapsed": true,
        "gather": {
          "logged": 1631409754780
        },
        "jupyter": {
          "outputs_hidden": false,
          "source_hidden": false
        },
        "nteract": {
          "transient": {
            "deleting": false
          }
        }
      },
      "outputs": [],
      "source": [
        "# res_map.to_csv('./classic-linha-comp.csv', index = False)"
      ]
    },
    {
      "cell_type": "code",
      "execution_count": null,
      "metadata": {
        "collapsed": true,
        "jupyter": {
          "outputs_hidden": false,
          "source_hidden": false
        },
        "nteract": {
          "transient": {
            "deleting": false
          }
        }
      },
      "outputs": [],
      "source": []
    }
  ],
  "metadata": {
    "interpreter": {
      "hash": "4caa081543ae4d7454eea2adf6270962382d99fc25b3a6423caed7aecce4d7f8"
    },
    "kernel_info": {
      "name": "python38-azureml"
    },
    "kernelspec": {
      "display_name": "Python 3.8.8 64-bit ('ml': conda)",
      "name": "python3"
    },
    "language_info": {
      "codemirror_mode": {
        "name": "ipython",
        "version": 3
      },
      "file_extension": ".py",
      "mimetype": "text/x-python",
      "name": "python",
      "nbconvert_exporter": "python",
      "pygments_lexer": "ipython3",
      "version": "3.8.8"
    },
    "microsoft": {
      "host": {
        "AzureML": {
          "notebookHasBeenCompleted": true
        }
      }
    },
    "nteract": {
      "version": "nteract-front-end@1.0.0"
    }
  },
  "nbformat": 4,
  "nbformat_minor": 5
}
