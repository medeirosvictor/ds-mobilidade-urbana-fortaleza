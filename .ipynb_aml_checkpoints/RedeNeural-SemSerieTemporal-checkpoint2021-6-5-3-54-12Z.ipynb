{
  "cells": [
    {
      "cell_type": "code",
      "source": [
        "import pandas as pd\n",
        "import matplotlib.pyplot as plt\n",
        "import numpy as np\n",
        "import tensorflow as tf\n",
        "from sklearn.compose import make_column_transformer, ColumnTransformer\n",
        "from sklearn.preprocessing import OneHotEncoder\n",
        "from sklearn.linear_model import LinearRegression\n",
        "from sklearn.ensemble import RandomForestRegressor\n",
        "from sklearn.model_selection import train_test_split, cross_val_score\n",
        "from sklearn.metrics import mean_squared_error, r2_score, mean_absolute_error\n",
        "#from sklearn.metrics import mean_absolute_percentage_error\n",
        "from sklearn.model_selection import RandomizedSearchCV\n",
        "from sklearn.preprocessing import MinMaxScaler\n",
        "from IPython.display import display\n",
        "from pprint import pprint\n",
        "from math import sqrt\n",
        "\n",
        "#from shutil import unpack_archive\n",
        "#unpack_archive('./df_input.zip', './')\n"
      ],
      "outputs": [],
      "execution_count": 1,
      "metadata": {
        "gather": {
          "logged": 1625454106819
        }
      }
    },
    {
      "cell_type": "code",
      "source": [
        "day_of_week_translator = {\r\n",
        "    0: \"Domingo\",\r\n",
        "    1: \"Segunda\",\r\n",
        "    2: \"Terca\",\r\n",
        "    3: \"Quarta\",\r\n",
        "    4: \"Quinta\",\r\n",
        "    5: \"Sexta\",\r\n",
        "    6: \"Sabado\"\r\n",
        "}\r\n",
        "\r\n",
        "feriados = [\r\n",
        "            ['Ano Novo', 1, 1],\r\n",
        "            ['Carnaval', 24, 2],\r\n",
        "            ['Carnaval', 25, 2],\r\n",
        "            ['Carnaval', 26, 2],\r\n",
        "            ['Dia de São José', 19, 3],\r\n",
        "            ['Data Magna', 25, 3],\r\n",
        "            ['Sexta-Feira Santa', 10, 4],\r\n",
        "            ['Aniversário de Fortaleza', 13, 4],\r\n",
        "            ['Tiradentes', 21, 4],\r\n",
        "            ['Dia do Trabalho', 1, 5],\r\n",
        "            ['Corpus Christi', 28, 5],\r\n",
        "            ['N. Senhora da Assunção', 27, 5],\r\n",
        "            ['Independência do Brasil', 7, 9],\r\n",
        "            ['N. Senhora de Aparecida', 12, 10],\r\n",
        "            ['Dia de Finados', 2, 11],\r\n",
        "            ['Proclamação da Republica', 15, 11],\r\n",
        "            ['Natal', 25, 12],\r\n",
        "]\r\n",
        "\r\n",
        "vesperas = [\r\n",
        "            ['Ano Novo', 31, 12],\r\n",
        "            ['Carnaval', 23, 2],\r\n",
        "            ['Dia de São José', 18, 3],\r\n",
        "            ['Data Magna', 24, 3],\r\n",
        "            ['Sexta-Feira Santa', 9, 4],\r\n",
        "            ['Aniversário de Fortaleza', 12, 4],\r\n",
        "            ['Tiradentes', 20, 4],\r\n",
        "            ['Dia do Trabalho', 30, 4],\r\n",
        "            ['N. Senhora da Assunção', 26, 5],\r\n",
        "            ['Independência do Brasil', 6, 9],\r\n",
        "            ['N. Senhora de Aparecida', 11, 10],\r\n",
        "            ['Dia de Finados', 1, 11],\r\n",
        "            ['Proclamação da Republica', 14, 11],\r\n",
        "            ['Natal', 24, 12],\r\n",
        "]"
      ],
      "outputs": [],
      "execution_count": 2,
      "metadata": {
        "collapsed": true,
        "jupyter": {
          "source_hidden": false,
          "outputs_hidden": false
        },
        "nteract": {
          "transient": {
            "deleting": false
          }
        },
        "gather": {
          "logged": 1625454106943
        }
      }
    },
    {
      "cell_type": "code",
      "source": [
        "# Reading Data file (geolocalized)\n",
        "data = pd.read_csv('./df_input.csv', sep=';', delimiter=';')\n",
        "\n",
        "transformar_features = True\n",
        "busline_filter = 41\n",
        "data_model = data.copy()\n",
        "\n",
        "one_hot_encoder = OneHotEncoder(sparse=False)\n",
        "\n",
        "data_model[['domingo','segunda', 'terca', 'quarta', 'quinta', 'sexta', 'sabado']] = one_hot_encoder.fit_transform(data_model['d_semana'].values.reshape(-1,1))\n",
        "data_model['feriado'] = [1 if any((x[0] == d and x[1] == m) for (_, d, m) in feriados) else 0 for x in list(zip(data_model.d_mes, data_model.mes))]\n",
        "data_model['vespera_feriado'] = [1 if any((x[0] == d and x[1] == m) for (_, d, m) in vesperas) else 0 for x in list(zip(data_model.d_mes, data_model.mes))]\n",
        "\n",
        "encoded_model_data = data_model.loc[data['linha'] == busline_filter].copy()\n",
        "df_dados_model = encoded_model_data.copy()\n",
        "display(encoded_model_data)"
      ],
      "outputs": [
        {
          "output_type": "display_data",
          "data": {
            "text/plain": "         linha            data_hora  validations_per_hour  d_semana  \\\n2418        41  2020-03-01 04:00:00                    25         6   \n2419        41  2020-03-01 05:00:00                   168         6   \n2420        41  2020-03-01 06:00:00                   310         6   \n2421        41  2020-03-01 07:00:00                   339         6   \n2422        41  2020-03-01 08:00:00                   286         6   \n...        ...                  ...                   ...       ...   \n1418148     41  2020-12-31 20:00:00                   138         3   \n1418149     41  2020-12-31 21:00:00                    83         3   \n1418150     41  2020-12-31 22:00:00                    54         3   \n1418151     41  2020-12-31 23:00:00                    30         3   \n1418152     41  2021-01-01 00:00:00                     2         4   \n\n             hour_sin  hour_cos  hora  d_mes  d_ano  mes  semana_do_mes  \\\n2418     8.878852e-01  0.460065     4      1     61    3              0   \n2419     9.790841e-01  0.203456     5      1     61    3              0   \n2420     9.976688e-01 -0.068242     6      1     61    3              0   \n2421     9.422609e-01 -0.334880     7      1     61    3              0   \n2422     8.169699e-01 -0.576680     8      1     61    3              0   \n...               ...       ...   ...    ...    ...  ...            ...   \n1418148 -7.308360e-01  0.682553    20     31    366   12              4   \n1418149 -5.195840e-01  0.854419    21     31    366   12              4   \n1418150 -2.697968e-01  0.962917    22     31    366   12              4   \n1418151 -2.449294e-16  1.000000    23     31    366   12              4   \n1418152  0.000000e+00  1.000000     0      1      1    1              0   \n\n         domingo  segunda  terca  quarta  quinta  sexta  sabado  feriado  \\\n2418         0.0      0.0    0.0     0.0     0.0    0.0     1.0        0   \n2419         0.0      0.0    0.0     0.0     0.0    0.0     1.0        0   \n2420         0.0      0.0    0.0     0.0     0.0    0.0     1.0        0   \n2421         0.0      0.0    0.0     0.0     0.0    0.0     1.0        0   \n2422         0.0      0.0    0.0     0.0     0.0    0.0     1.0        0   \n...          ...      ...    ...     ...     ...    ...     ...      ...   \n1418148      0.0      0.0    0.0     1.0     0.0    0.0     0.0        0   \n1418149      0.0      0.0    0.0     1.0     0.0    0.0     0.0        0   \n1418150      0.0      0.0    0.0     1.0     0.0    0.0     0.0        0   \n1418151      0.0      0.0    0.0     1.0     0.0    0.0     0.0        0   \n1418152      0.0      0.0    0.0     0.0     1.0    0.0     0.0        1   \n\n         vespera_feriado  \n2418                   0  \n2419                   0  \n2420                   0  \n2421                   0  \n2422                   0  \n...                  ...  \n1418148                1  \n1418149                1  \n1418150                1  \n1418151                1  \n1418152                0  \n\n[6172 rows x 20 columns]",
            "text/html": "<div>\n<style scoped>\n    .dataframe tbody tr th:only-of-type {\n        vertical-align: middle;\n    }\n\n    .dataframe tbody tr th {\n        vertical-align: top;\n    }\n\n    .dataframe thead th {\n        text-align: right;\n    }\n</style>\n<table border=\"1\" class=\"dataframe\">\n  <thead>\n    <tr style=\"text-align: right;\">\n      <th></th>\n      <th>linha</th>\n      <th>data_hora</th>\n      <th>validations_per_hour</th>\n      <th>d_semana</th>\n      <th>hour_sin</th>\n      <th>hour_cos</th>\n      <th>hora</th>\n      <th>d_mes</th>\n      <th>d_ano</th>\n      <th>mes</th>\n      <th>semana_do_mes</th>\n      <th>domingo</th>\n      <th>segunda</th>\n      <th>terca</th>\n      <th>quarta</th>\n      <th>quinta</th>\n      <th>sexta</th>\n      <th>sabado</th>\n      <th>feriado</th>\n      <th>vespera_feriado</th>\n    </tr>\n  </thead>\n  <tbody>\n    <tr>\n      <th>2418</th>\n      <td>41</td>\n      <td>2020-03-01 04:00:00</td>\n      <td>25</td>\n      <td>6</td>\n      <td>8.878852e-01</td>\n      <td>0.460065</td>\n      <td>4</td>\n      <td>1</td>\n      <td>61</td>\n      <td>3</td>\n      <td>0</td>\n      <td>0.0</td>\n      <td>0.0</td>\n      <td>0.0</td>\n      <td>0.0</td>\n      <td>0.0</td>\n      <td>0.0</td>\n      <td>1.0</td>\n      <td>0</td>\n      <td>0</td>\n    </tr>\n    <tr>\n      <th>2419</th>\n      <td>41</td>\n      <td>2020-03-01 05:00:00</td>\n      <td>168</td>\n      <td>6</td>\n      <td>9.790841e-01</td>\n      <td>0.203456</td>\n      <td>5</td>\n      <td>1</td>\n      <td>61</td>\n      <td>3</td>\n      <td>0</td>\n      <td>0.0</td>\n      <td>0.0</td>\n      <td>0.0</td>\n      <td>0.0</td>\n      <td>0.0</td>\n      <td>0.0</td>\n      <td>1.0</td>\n      <td>0</td>\n      <td>0</td>\n    </tr>\n    <tr>\n      <th>2420</th>\n      <td>41</td>\n      <td>2020-03-01 06:00:00</td>\n      <td>310</td>\n      <td>6</td>\n      <td>9.976688e-01</td>\n      <td>-0.068242</td>\n      <td>6</td>\n      <td>1</td>\n      <td>61</td>\n      <td>3</td>\n      <td>0</td>\n      <td>0.0</td>\n      <td>0.0</td>\n      <td>0.0</td>\n      <td>0.0</td>\n      <td>0.0</td>\n      <td>0.0</td>\n      <td>1.0</td>\n      <td>0</td>\n      <td>0</td>\n    </tr>\n    <tr>\n      <th>2421</th>\n      <td>41</td>\n      <td>2020-03-01 07:00:00</td>\n      <td>339</td>\n      <td>6</td>\n      <td>9.422609e-01</td>\n      <td>-0.334880</td>\n      <td>7</td>\n      <td>1</td>\n      <td>61</td>\n      <td>3</td>\n      <td>0</td>\n      <td>0.0</td>\n      <td>0.0</td>\n      <td>0.0</td>\n      <td>0.0</td>\n      <td>0.0</td>\n      <td>0.0</td>\n      <td>1.0</td>\n      <td>0</td>\n      <td>0</td>\n    </tr>\n    <tr>\n      <th>2422</th>\n      <td>41</td>\n      <td>2020-03-01 08:00:00</td>\n      <td>286</td>\n      <td>6</td>\n      <td>8.169699e-01</td>\n      <td>-0.576680</td>\n      <td>8</td>\n      <td>1</td>\n      <td>61</td>\n      <td>3</td>\n      <td>0</td>\n      <td>0.0</td>\n      <td>0.0</td>\n      <td>0.0</td>\n      <td>0.0</td>\n      <td>0.0</td>\n      <td>0.0</td>\n      <td>1.0</td>\n      <td>0</td>\n      <td>0</td>\n    </tr>\n    <tr>\n      <th>...</th>\n      <td>...</td>\n      <td>...</td>\n      <td>...</td>\n      <td>...</td>\n      <td>...</td>\n      <td>...</td>\n      <td>...</td>\n      <td>...</td>\n      <td>...</td>\n      <td>...</td>\n      <td>...</td>\n      <td>...</td>\n      <td>...</td>\n      <td>...</td>\n      <td>...</td>\n      <td>...</td>\n      <td>...</td>\n      <td>...</td>\n      <td>...</td>\n      <td>...</td>\n    </tr>\n    <tr>\n      <th>1418148</th>\n      <td>41</td>\n      <td>2020-12-31 20:00:00</td>\n      <td>138</td>\n      <td>3</td>\n      <td>-7.308360e-01</td>\n      <td>0.682553</td>\n      <td>20</td>\n      <td>31</td>\n      <td>366</td>\n      <td>12</td>\n      <td>4</td>\n      <td>0.0</td>\n      <td>0.0</td>\n      <td>0.0</td>\n      <td>1.0</td>\n      <td>0.0</td>\n      <td>0.0</td>\n      <td>0.0</td>\n      <td>0</td>\n      <td>1</td>\n    </tr>\n    <tr>\n      <th>1418149</th>\n      <td>41</td>\n      <td>2020-12-31 21:00:00</td>\n      <td>83</td>\n      <td>3</td>\n      <td>-5.195840e-01</td>\n      <td>0.854419</td>\n      <td>21</td>\n      <td>31</td>\n      <td>366</td>\n      <td>12</td>\n      <td>4</td>\n      <td>0.0</td>\n      <td>0.0</td>\n      <td>0.0</td>\n      <td>1.0</td>\n      <td>0.0</td>\n      <td>0.0</td>\n      <td>0.0</td>\n      <td>0</td>\n      <td>1</td>\n    </tr>\n    <tr>\n      <th>1418150</th>\n      <td>41</td>\n      <td>2020-12-31 22:00:00</td>\n      <td>54</td>\n      <td>3</td>\n      <td>-2.697968e-01</td>\n      <td>0.962917</td>\n      <td>22</td>\n      <td>31</td>\n      <td>366</td>\n      <td>12</td>\n      <td>4</td>\n      <td>0.0</td>\n      <td>0.0</td>\n      <td>0.0</td>\n      <td>1.0</td>\n      <td>0.0</td>\n      <td>0.0</td>\n      <td>0.0</td>\n      <td>0</td>\n      <td>1</td>\n    </tr>\n    <tr>\n      <th>1418151</th>\n      <td>41</td>\n      <td>2020-12-31 23:00:00</td>\n      <td>30</td>\n      <td>3</td>\n      <td>-2.449294e-16</td>\n      <td>1.000000</td>\n      <td>23</td>\n      <td>31</td>\n      <td>366</td>\n      <td>12</td>\n      <td>4</td>\n      <td>0.0</td>\n      <td>0.0</td>\n      <td>0.0</td>\n      <td>1.0</td>\n      <td>0.0</td>\n      <td>0.0</td>\n      <td>0.0</td>\n      <td>0</td>\n      <td>1</td>\n    </tr>\n    <tr>\n      <th>1418152</th>\n      <td>41</td>\n      <td>2021-01-01 00:00:00</td>\n      <td>2</td>\n      <td>4</td>\n      <td>0.000000e+00</td>\n      <td>1.000000</td>\n      <td>0</td>\n      <td>1</td>\n      <td>1</td>\n      <td>1</td>\n      <td>0</td>\n      <td>0.0</td>\n      <td>0.0</td>\n      <td>0.0</td>\n      <td>0.0</td>\n      <td>1.0</td>\n      <td>0.0</td>\n      <td>0.0</td>\n      <td>1</td>\n      <td>0</td>\n    </tr>\n  </tbody>\n</table>\n<p>6172 rows × 20 columns</p>\n</div>"
          },
          "metadata": {}
        }
      ],
      "execution_count": 3,
      "metadata": {
        "gather": {
          "logged": 1625454120272
        }
      }
    },
    {
      "cell_type": "code",
      "source": [
        "feature_names = [\n",
        "    'd_semana', 'hour_sin', 'hour_cos', \n",
        "    'd_mes', 'd_ano', 'mes', 'semana_do_mes', \n",
        "    'domingo','segunda', 'terca', 'quarta', 'quinta', 'sexta', 'sabado', \n",
        "    'feriado', 'vespera_feriado']\n",
        "\n",
        "target = encoded_model_data['validations_per_hour']\n",
        "\n",
        "if(transformar_features): \n",
        "    scaler = MinMaxScaler(feature_range=(0, 1))\n",
        "\n",
        "    df_dados_model[feature_names] = scaler.fit_transform(df_dados_model[feature_names])\n",
        "\n",
        "    df_dados_model\n",
        "df_dados_model"
      ],
      "outputs": [
        {
          "output_type": "execute_result",
          "execution_count": 4,
          "data": {
            "text/plain": "         linha            data_hora  validations_per_hour  d_semana  hour_sin  \\\n2418        41  2020-03-01 04:00:00                    25  1.000000  0.944980   \n2419        41  2020-03-01 05:00:00                   168  1.000000  0.990686   \n2420        41  2020-03-01 06:00:00                   310  1.000000  1.000000   \n2421        41  2020-03-01 07:00:00                   339  1.000000  0.972231   \n2422        41  2020-03-01 08:00:00                   286  1.000000  0.909439   \n...        ...                  ...                   ...       ...       ...   \n1418148     41  2020-12-31 20:00:00                   138  0.500000  0.133728   \n1418149     41  2020-12-31 21:00:00                    83  0.500000  0.239601   \n1418150     41  2020-12-31 22:00:00                    54  0.500000  0.364786   \n1418151     41  2020-12-31 23:00:00                    30  0.500000  0.500000   \n1418152     41  2021-01-01 00:00:00                     2  0.666667  0.500000   \n\n         hour_cos  hora  d_mes     d_ano       mes  semana_do_mes  domingo  \\\n2418     0.728769     4    0.0  0.164384  0.181818            0.0      0.0   \n2419     0.599865     5    0.0  0.164384  0.181818            0.0      0.0   \n2420     0.463380     6    0.0  0.164384  0.181818            0.0      0.0   \n2421     0.329437     7    0.0  0.164384  0.181818            0.0      0.0   \n2422     0.207971     8    0.0  0.164384  0.181818            0.0      0.0   \n...           ...   ...    ...       ...       ...            ...      ...   \n1418148  0.840534    20    1.0  1.000000  1.000000            0.8      0.0   \n1418149  0.926869    21    1.0  1.000000  1.000000            0.8      0.0   \n1418150  0.981372    22    1.0  1.000000  1.000000            0.8      0.0   \n1418151  1.000000    23    1.0  1.000000  1.000000            0.8      0.0   \n1418152  1.000000     0    0.0  0.000000  0.000000            0.0      0.0   \n\n         segunda  terca  quarta  quinta  sexta  sabado  feriado  \\\n2418         0.0    0.0     0.0     0.0    0.0     1.0      0.0   \n2419         0.0    0.0     0.0     0.0    0.0     1.0      0.0   \n2420         0.0    0.0     0.0     0.0    0.0     1.0      0.0   \n2421         0.0    0.0     0.0     0.0    0.0     1.0      0.0   \n2422         0.0    0.0     0.0     0.0    0.0     1.0      0.0   \n...          ...    ...     ...     ...    ...     ...      ...   \n1418148      0.0    0.0     1.0     0.0    0.0     0.0      0.0   \n1418149      0.0    0.0     1.0     0.0    0.0     0.0      0.0   \n1418150      0.0    0.0     1.0     0.0    0.0     0.0      0.0   \n1418151      0.0    0.0     1.0     0.0    0.0     0.0      0.0   \n1418152      0.0    0.0     0.0     1.0    0.0     0.0      1.0   \n\n         vespera_feriado  \n2418                 0.0  \n2419                 0.0  \n2420                 0.0  \n2421                 0.0  \n2422                 0.0  \n...                  ...  \n1418148              1.0  \n1418149              1.0  \n1418150              1.0  \n1418151              1.0  \n1418152              0.0  \n\n[6172 rows x 20 columns]",
            "text/html": "<div>\n<style scoped>\n    .dataframe tbody tr th:only-of-type {\n        vertical-align: middle;\n    }\n\n    .dataframe tbody tr th {\n        vertical-align: top;\n    }\n\n    .dataframe thead th {\n        text-align: right;\n    }\n</style>\n<table border=\"1\" class=\"dataframe\">\n  <thead>\n    <tr style=\"text-align: right;\">\n      <th></th>\n      <th>linha</th>\n      <th>data_hora</th>\n      <th>validations_per_hour</th>\n      <th>d_semana</th>\n      <th>hour_sin</th>\n      <th>hour_cos</th>\n      <th>hora</th>\n      <th>d_mes</th>\n      <th>d_ano</th>\n      <th>mes</th>\n      <th>semana_do_mes</th>\n      <th>domingo</th>\n      <th>segunda</th>\n      <th>terca</th>\n      <th>quarta</th>\n      <th>quinta</th>\n      <th>sexta</th>\n      <th>sabado</th>\n      <th>feriado</th>\n      <th>vespera_feriado</th>\n    </tr>\n  </thead>\n  <tbody>\n    <tr>\n      <th>2418</th>\n      <td>41</td>\n      <td>2020-03-01 04:00:00</td>\n      <td>25</td>\n      <td>1.000000</td>\n      <td>0.944980</td>\n      <td>0.728769</td>\n      <td>4</td>\n      <td>0.0</td>\n      <td>0.164384</td>\n      <td>0.181818</td>\n      <td>0.0</td>\n      <td>0.0</td>\n      <td>0.0</td>\n      <td>0.0</td>\n      <td>0.0</td>\n      <td>0.0</td>\n      <td>0.0</td>\n      <td>1.0</td>\n      <td>0.0</td>\n      <td>0.0</td>\n    </tr>\n    <tr>\n      <th>2419</th>\n      <td>41</td>\n      <td>2020-03-01 05:00:00</td>\n      <td>168</td>\n      <td>1.000000</td>\n      <td>0.990686</td>\n      <td>0.599865</td>\n      <td>5</td>\n      <td>0.0</td>\n      <td>0.164384</td>\n      <td>0.181818</td>\n      <td>0.0</td>\n      <td>0.0</td>\n      <td>0.0</td>\n      <td>0.0</td>\n      <td>0.0</td>\n      <td>0.0</td>\n      <td>0.0</td>\n      <td>1.0</td>\n      <td>0.0</td>\n      <td>0.0</td>\n    </tr>\n    <tr>\n      <th>2420</th>\n      <td>41</td>\n      <td>2020-03-01 06:00:00</td>\n      <td>310</td>\n      <td>1.000000</td>\n      <td>1.000000</td>\n      <td>0.463380</td>\n      <td>6</td>\n      <td>0.0</td>\n      <td>0.164384</td>\n      <td>0.181818</td>\n      <td>0.0</td>\n      <td>0.0</td>\n      <td>0.0</td>\n      <td>0.0</td>\n      <td>0.0</td>\n      <td>0.0</td>\n      <td>0.0</td>\n      <td>1.0</td>\n      <td>0.0</td>\n      <td>0.0</td>\n    </tr>\n    <tr>\n      <th>2421</th>\n      <td>41</td>\n      <td>2020-03-01 07:00:00</td>\n      <td>339</td>\n      <td>1.000000</td>\n      <td>0.972231</td>\n      <td>0.329437</td>\n      <td>7</td>\n      <td>0.0</td>\n      <td>0.164384</td>\n      <td>0.181818</td>\n      <td>0.0</td>\n      <td>0.0</td>\n      <td>0.0</td>\n      <td>0.0</td>\n      <td>0.0</td>\n      <td>0.0</td>\n      <td>0.0</td>\n      <td>1.0</td>\n      <td>0.0</td>\n      <td>0.0</td>\n    </tr>\n    <tr>\n      <th>2422</th>\n      <td>41</td>\n      <td>2020-03-01 08:00:00</td>\n      <td>286</td>\n      <td>1.000000</td>\n      <td>0.909439</td>\n      <td>0.207971</td>\n      <td>8</td>\n      <td>0.0</td>\n      <td>0.164384</td>\n      <td>0.181818</td>\n      <td>0.0</td>\n      <td>0.0</td>\n      <td>0.0</td>\n      <td>0.0</td>\n      <td>0.0</td>\n      <td>0.0</td>\n      <td>0.0</td>\n      <td>1.0</td>\n      <td>0.0</td>\n      <td>0.0</td>\n    </tr>\n    <tr>\n      <th>...</th>\n      <td>...</td>\n      <td>...</td>\n      <td>...</td>\n      <td>...</td>\n      <td>...</td>\n      <td>...</td>\n      <td>...</td>\n      <td>...</td>\n      <td>...</td>\n      <td>...</td>\n      <td>...</td>\n      <td>...</td>\n      <td>...</td>\n      <td>...</td>\n      <td>...</td>\n      <td>...</td>\n      <td>...</td>\n      <td>...</td>\n      <td>...</td>\n      <td>...</td>\n    </tr>\n    <tr>\n      <th>1418148</th>\n      <td>41</td>\n      <td>2020-12-31 20:00:00</td>\n      <td>138</td>\n      <td>0.500000</td>\n      <td>0.133728</td>\n      <td>0.840534</td>\n      <td>20</td>\n      <td>1.0</td>\n      <td>1.000000</td>\n      <td>1.000000</td>\n      <td>0.8</td>\n      <td>0.0</td>\n      <td>0.0</td>\n      <td>0.0</td>\n      <td>1.0</td>\n      <td>0.0</td>\n      <td>0.0</td>\n      <td>0.0</td>\n      <td>0.0</td>\n      <td>1.0</td>\n    </tr>\n    <tr>\n      <th>1418149</th>\n      <td>41</td>\n      <td>2020-12-31 21:00:00</td>\n      <td>83</td>\n      <td>0.500000</td>\n      <td>0.239601</td>\n      <td>0.926869</td>\n      <td>21</td>\n      <td>1.0</td>\n      <td>1.000000</td>\n      <td>1.000000</td>\n      <td>0.8</td>\n      <td>0.0</td>\n      <td>0.0</td>\n      <td>0.0</td>\n      <td>1.0</td>\n      <td>0.0</td>\n      <td>0.0</td>\n      <td>0.0</td>\n      <td>0.0</td>\n      <td>1.0</td>\n    </tr>\n    <tr>\n      <th>1418150</th>\n      <td>41</td>\n      <td>2020-12-31 22:00:00</td>\n      <td>54</td>\n      <td>0.500000</td>\n      <td>0.364786</td>\n      <td>0.981372</td>\n      <td>22</td>\n      <td>1.0</td>\n      <td>1.000000</td>\n      <td>1.000000</td>\n      <td>0.8</td>\n      <td>0.0</td>\n      <td>0.0</td>\n      <td>0.0</td>\n      <td>1.0</td>\n      <td>0.0</td>\n      <td>0.0</td>\n      <td>0.0</td>\n      <td>0.0</td>\n      <td>1.0</td>\n    </tr>\n    <tr>\n      <th>1418151</th>\n      <td>41</td>\n      <td>2020-12-31 23:00:00</td>\n      <td>30</td>\n      <td>0.500000</td>\n      <td>0.500000</td>\n      <td>1.000000</td>\n      <td>23</td>\n      <td>1.0</td>\n      <td>1.000000</td>\n      <td>1.000000</td>\n      <td>0.8</td>\n      <td>0.0</td>\n      <td>0.0</td>\n      <td>0.0</td>\n      <td>1.0</td>\n      <td>0.0</td>\n      <td>0.0</td>\n      <td>0.0</td>\n      <td>0.0</td>\n      <td>1.0</td>\n    </tr>\n    <tr>\n      <th>1418152</th>\n      <td>41</td>\n      <td>2021-01-01 00:00:00</td>\n      <td>2</td>\n      <td>0.666667</td>\n      <td>0.500000</td>\n      <td>1.000000</td>\n      <td>0</td>\n      <td>0.0</td>\n      <td>0.000000</td>\n      <td>0.000000</td>\n      <td>0.0</td>\n      <td>0.0</td>\n      <td>0.0</td>\n      <td>0.0</td>\n      <td>0.0</td>\n      <td>1.0</td>\n      <td>0.0</td>\n      <td>0.0</td>\n      <td>1.0</td>\n      <td>0.0</td>\n    </tr>\n  </tbody>\n</table>\n<p>6172 rows × 20 columns</p>\n</div>"
          },
          "metadata": {}
        }
      ],
      "execution_count": 4,
      "metadata": {
        "gather": {
          "logged": 1625454120442
        }
      }
    },
    {
      "cell_type": "code",
      "source": [
        "X = df_dados_model.filter(['d_semana', 'hour_sin', 'hour_cos', 'hour_cos', \n",
        "    'd_mes', 'd_ano', 'mes', 'semana_do_mes', \n",
        "    'domingo','segunda', 'terca', 'quarta', 'quinta', 'sexta', 'sabado', \n",
        "    'feriado', 'vespera_feriado'], axis=1)\n",
        "y = df_dados_model.validations_per_hour\n",
        "X_train, X_test, y_train, y_test = train_test_split(X, y, test_size = 0.2, random_state=5)"
      ],
      "outputs": [],
      "execution_count": 5,
      "metadata": {
        "gather": {
          "logged": 1625454120574
        }
      }
    },
    {
      "cell_type": "code",
      "source": [
        "def getModel():\n",
        "    model = tf.keras.Sequential()\n",
        "    \n",
        "    # MLP    \n",
        "    model.add(tf.keras.layers.Dense(300, activation=\"relu\"))\n",
        "    model.add(tf.keras.layers.Dense(100, activation=\"relu\"))\n",
        "    model.add(tf.keras.layers.Dense(30, activation=\"relu\"))\n",
        "    model.add(tf.keras.layers.Dense(10, activation=\"relu\"))\n",
        "    \n",
        "    # Vanilla LSTM\n",
        "    # model.add(tf.keras.layers.LSTM(100, activation='relu', input_shape=(X_train.shape[1], X_train.shape[2])))\n",
        "        \n",
        "    # Stacked LSTM\n",
        "    # model.add(tf.keras.layers.LSTM(100, activation='relu', return_sequences=True, input_shape=(X_train.shape[1], X_train.shape[2]) ))\n",
        "    # model.add(tf.keras.layers.LSTM(75, activation='relu', return_sequences=True))\n",
        "    # model.add(tf.keras.layers.LSTM(50, activation='relu', return_sequences=True))\n",
        "    # model.add(tf.keras.layers.LSTM(10, activation='relu'))\n",
        "    \n",
        "    # Bidirectional LSTM\n",
        "#     model.add(tf.keras.layers.Bidirectional(tf.keras.layers.LSTM(50, activation='relu'), input_shape=(X_train.shape[1], X_train.shape[2])))\n",
        "    \n",
        "    model.add(tf.keras.layers.Dense(units=1,activation='softplus'))\n",
        "    # model.add(tf.keras.layers.Dense(units=1))\n",
        "\n",
        "    return model"
      ],
      "outputs": [],
      "execution_count": 6,
      "metadata": {
        "gather": {
          "logged": 1625454120814
        }
      }
    },
    {
      "cell_type": "code",
      "source": [
        "model = getModel()\n",
        "\n",
        "optimizer = tf.keras.optimizers.Adam(0.002)\n",
        "\n",
        "model.compile(\n",
        "  loss='mse',\n",
        "  optimizer=optimizer\n",
        ")\n",
        "# model.compile(\n",
        "#   loss='mean_squared_error',\n",
        "#   optimizer=tf.keras.optimizers.SGD(0.05)\n",
        "# )\n",
        "\n",
        "#model.summary()"
      ],
      "outputs": [],
      "execution_count": 7,
      "metadata": {
        "gather": {
          "logged": 1625454121053
        }
      }
    },
    {
      "cell_type": "code",
      "source": [
        "callbacks = [tf.keras.callbacks.ReduceLROnPlateau(monitor='val_loss', factor=0.1, patience=10, verbose=1, min_delta=1e-4, mode='min')]\n",
        "\n",
        "callbacks.append(tf.keras.callbacks.EarlyStopping(monitor='val_loss', patience=10, verbose=0, restore_best_weights=True))\n",
        "\n",
        "history = model.fit(\n",
        "    X_train, y_train,\n",
        "    epochs=500,\n",
        "    batch_size=48,\n",
        "    validation_split=0.2,\n",
        "    callbacks=callbacks,\n",
        "    shuffle=False\n",
        ")"
      ],
      "outputs": [
        {
          "output_type": "stream",
          "name": "stdout",
          "text": [
            "Epoch 1/500\n",
            "WARNING:tensorflow:Layer dense is casting an input tensor from dtype float64 to the layer's dtype of float32, which is new behavior in TensorFlow 2.  The layer has dtype float32 because its dtype defaults to floatx.\n",
            "\n",
            "If you intended to run this layer in float32, you can safely ignore this warning. If in doubt, this warning is likely only an issue if you are porting a TensorFlow 1.X model to TensorFlow 2.\n",
            "\n",
            "To change all layers to have dtype float64 by default, call `tf.keras.backend.set_floatx('float64')`. To change just this layer, pass dtype='float64' to the layer constructor. If you are the author of this layer, you can disable autocasting by passing autocast=False to the base Layer constructor.\n",
            "\n",
            "83/83 [==============================] - 0s 3ms/step - loss: 105927.7422 - val_loss: 59901.0703\b\b\b\b\b\b\b\b\b\b\b\b\b\b\b\b\b\b\b\b\b\b\b\b\b\b\b\b\b\b\b\b\b\b\b\b\b\b\b\b\b\n",
            "Epoch 2/500\n",
            "83/83 [==============================] - 0s 2ms/step - loss: 49170.8359 - val_loss: 44956.0195\b\b\b\b\b\b\b\b\b\b\b\b\b\b\b\b\b\b\b\b\b\b\b\b\b\b\b\b\b\b\b\b\b\b\b\b\b\b\b\b\n",
            "Epoch 3/500\n",
            "83/83 [==============================] - 0s 2ms/step - loss: 42046.6523 - val_loss: 43601.2852\b\b\b\b\b\b\b\b\b\b\b\b\b\b\b\b\b\b\b\b\b\b\b\b\b\b\b\b\b\b\b\b\b\b\b\b\b\b\b\b\n",
            "Epoch 4/500\n",
            "83/83 [==============================] - 0s 2ms/step - loss: 40572.1445 - val_loss: 42400.8477\b\b\b\b\b\b\b\b\b\b\b\b\b\b\b\b\b\b\b\b\b\b\b\b\b\b\b\b\b\b\b\b\b\b\b\b\b\b\b\b\n",
            "Epoch 5/500\n",
            "83/83 [==============================] - 0s 2ms/step - loss: 38855.2812 - val_loss: 40359.8359\b\b\b\b\b\b\b\b\b\b\b\b\b\b\b\b\b\b\b\b\b\b\b\b\b\b\b\b\b\b\b\b\b\b\b\b\b\b\b\b\n",
            "Epoch 6/500\n",
            "83/83 [==============================] - 0s 2ms/step - loss: 36260.3750 - val_loss: 37487.8984\b\b\b\b\b\b\b\b\b\b\b\b\b\b\b\b\b\b\b\b\b\b\b\b\b\b\b\b\b\b\b\b\b\b\b\b\b\b\b\b\n",
            "Epoch 7/500\n",
            "83/83 [==============================] - 0s 2ms/step - loss: 33108.2266 - val_loss: 34374.5703\b\b\b\b\b\b\b\b\b\b\b\b\b\b\b\b\b\b\b\b\b\b\b\b\b\b\b\b\b\b\b\b\b\b\b\b\b\b\b\b\n",
            "Epoch 8/500\n",
            "83/83 [==============================] - 0s 2ms/step - loss: 29825.8086 - val_loss: 30786.2031\b\b\b\b\b\b\b\b\b\b\b\b\b\b\b\b\b\b\b\b\b\b\b\b\b\b\b\b\b\b\b\b\b\b\b\b\b\b\b\b\n",
            "Epoch 9/500\n",
            "83/83 [==============================] - 0s 2ms/step - loss: 26693.8477 - val_loss: 27118.6973\b\b\b\b\b\b\b\b\b\b\b\b\b\b\b\b\b\b\b\b\b\b\b\b\b\b\b\b\b\b\b\b\b\b\b\b\b\b\b\b\n",
            "Epoch 10/500\n",
            "83/83 [==============================] - 0s 2ms/step - loss: 23911.4219 - val_loss: 24043.0684\b\b\b\b\b\b\b\b\b\b\b\b\b\b\b\b\b\b\b\b\b\b\b\b\b\b\b\b\b\b\b\b\b\b\b\b\b\b\b\b\n",
            "Epoch 11/500\n",
            "83/83 [==============================] - 0s 2ms/step - loss: 21599.4160 - val_loss: 21591.4238\b\b\b\b\b\b\b\b\b\b\b\b\b\b\b\b\b\b\b\b\b\b\b\b\b\b\b\b\b\b\b\b\b\b\b\b\b\b\b\b\n",
            "Epoch 12/500\n",
            "83/83 [==============================] - 0s 2ms/step - loss: 19610.7129 - val_loss: 19346.0215\b\b\b\b\b\b\b\b\b\b\b\b\b\b\b\b\b\b\b\b\b\b\b\b\b\b\b\b\b\b\b\b\b\b\b\b\b\b\b\b\n",
            "Epoch 13/500\n",
            "83/83 [==============================] - 0s 2ms/step - loss: 17788.3301 - val_loss: 17376.0605\b\b\b\b\b\b\b\b\b\b\b\b\b\b\b\b\b\b\b\b\b\b\b\b\b\b\b\b\b\b\b\b\b\b\b\b\b\b\b\b\n",
            "Epoch 14/500\n",
            "83/83 [==============================] - 0s 2ms/step - loss: 15893.2217 - val_loss: 15222.3154\b\b\b\b\b\b\b\b\b\b\b\b\b\b\b\b\b\b\b\b\b\b\b\b\b\b\b\b\b\b\b\b\b\b\b\b\b\b\b\b\n",
            "Epoch 15/500\n",
            "83/83 [==============================] - 0s 2ms/step - loss: 14144.4092 - val_loss: 13517.4697\b\b\b\b\b\b\b\b\b\b\b\b\b\b\b\b\b\b\b\b\b\b\b\b\b\b\b\b\b\b\b\b\b\b\b\b\b\b\b\b\n",
            "Epoch 16/500\n",
            "83/83 [==============================] - 0s 2ms/step - loss: 12616.2666 - val_loss: 12042.1484\b\b\b\b\b\b\b\b\b\b\b\b\b\b\b\b\b\b\b\b\b\b\b\b\b\b\b\b\b\b\b\b\b\b\b\b\b\b\b\b\n",
            "Epoch 17/500\n",
            "83/83 [==============================] - 0s 2ms/step - loss: 11254.0605 - val_loss: 10939.0117\b\b\b\b\b\b\b\b\b\b\b\b\b\b\b\b\b\b\b\b\b\b\b\b\b\b\b\b\b\b\b\b\b\b\b\b\b\b\b\b\n",
            "Epoch 18/500\n",
            "83/83 [==============================] - 0s 2ms/step - loss: 10166.7021 - val_loss: 10027.4141\b\b\b\b\b\b\b\b\b\b\b\b\b\b\b\b\b\b\b\b\b\b\b\b\b\b\b\b\b\b\b\b\b\b\b\b\b\b\b\b\n",
            "Epoch 19/500\n",
            "83/83 [==============================] - 0s 2ms/step - loss: 9294.3047 - val_loss: 9416.2188\b\b\b\b\b\b\b\b\b\b\b\b\b\b\b\b\b\b\b\b\b\b\b\b\b\b\b\b\b\b\b\b\b\b\b\b\b\b\b\b\n",
            "Epoch 20/500\n",
            "83/83 [==============================] - 0s 2ms/step - loss: 8598.7334 - val_loss: 8865.3672\b\b\b\b\b\b\b\b\b\b\b\b\b\b\b\b\b\b\b\b\b\b\b\b\b\b\b\b\b\b\b\b\b\b\b\b\b\b\b\b\n",
            "Epoch 21/500\n",
            "83/83 [==============================] - 0s 2ms/step - loss: 8015.9541 - val_loss: 8449.8896\b\b\b\b\b\b\b\b\b\b\b\b\b\b\b\b\b\b\b\b\b\b\b\b\b\b\b\b\b\b\b\b\b\b\b\b\b\b\b\b\n",
            "Epoch 22/500\n",
            "83/83 [==============================] - 0s 2ms/step - loss: 7570.5249 - val_loss: 8118.0098\b\b\b\b\b\b\b\b\b\b\b\b\b\b\b\b\b\b\b\b\b\b\b\b\b\b\b\b\b\b\b\b\b\b\b\b\b\b\b\b\n",
            "Epoch 23/500\n",
            "83/83 [==============================] - 0s 1ms/step - loss: 7189.2417 - val_loss: 7814.8999\b\b\b\b\b\b\b\b\b\b\b\b\b\b\b\b\b\b\b\b\b\b\b\b\b\b\b\b\b\b\b\b\b\b\b\b\b\b\b\b\n",
            "Epoch 24/500\n",
            "83/83 [==============================] - 0s 2ms/step - loss: 6873.3979 - val_loss: 7481.8052\b\b\b\b\b\b\b\b\b\b\b\b\b\b\b\b\b\b\b\b\b\b\b\b\b\b\b\b\b\b\b\b\b\b\b\b\b\b\b\b\n",
            "Epoch 25/500\n",
            "83/83 [==============================] - 0s 2ms/step - loss: 6591.7930 - val_loss: 7185.1797\b\b\b\b\b\b\b\b\b\b\b\b\b\b\b\b\b\b\b\b\b\b\b\b\b\b\b\b\b\b\b\b\b\b\b\b\b\b\b\b\n",
            "Epoch 26/500\n",
            "83/83 [==============================] - 0s 1ms/step - loss: 6333.7993 - val_loss: 6954.4243\b\b\b\b\b\b\b\b\b\b\b\b\b\b\b\b\b\b\b\b\b\b\b\b\b\b\b\b\b\b\b\b\b\b\b\b\b\b\b\b\n",
            "Epoch 27/500\n",
            "83/83 [==============================] - 0s 2ms/step - loss: 6078.1084 - val_loss: 6634.0972\b\b\b\b\b\b\b\b\b\b\b\b\b\b\b\b\b\b\b\b\b\b\b\b\b\b\b\b\b\b\b\b\b\b\b\b\b\b\b\b\n",
            "Epoch 28/500\n",
            "83/83 [==============================] - 0s 2ms/step - loss: 5850.0767 - val_loss: 6500.4438\b\b\b\b\b\b\b\b\b\b\b\b\b\b\b\b\b\b\b\b\b\b\b\b\b\b\b\b\b\b\b\b\b\b\b\b\b\b\b\b\n",
            "Epoch 29/500\n",
            "83/83 [==============================] - 0s 2ms/step - loss: 5636.2261 - val_loss: 6292.3237\b\b\b\b\b\b\b\b\b\b\b\b\b\b\b\b\b\b\b\b\b\b\b\b\b\b\b\b\b\b\b\b\b\b\b\b\b\b\b\b\n",
            "Epoch 30/500\n",
            "83/83 [==============================] - 0s 1ms/step - loss: 5435.9102 - val_loss: 6385.2520\b\b\b\b\b\b\b\b\b\b\b\b\b\b\b\b\b\b\b\b\b\b\b\b\b\b\b\b\b\b\b\b\b\b\b\b\b\b\b\b\n",
            "Epoch 31/500\n",
            "83/83 [==============================] - 0s 2ms/step - loss: 5282.9785 - val_loss: 6149.8926\b\b\b\b\b\b\b\b\b\b\b\b\b\b\b\b\b\b\b\b\b\b\b\b\b\b\b\b\b\b\b\b\b\b\b\b\b\b\b\b\n",
            "Epoch 32/500\n",
            "83/83 [==============================] - 0s 2ms/step - loss: 5100.0503 - val_loss: 5920.8530\b\b\b\b\b\b\b\b\b\b\b\b\b\b\b\b\b\b\b\b\b\b\b\b\b\b\b\b\b\b\b\b\b\b\b\b\b\b\b\b\n",
            "Epoch 33/500\n",
            "83/83 [==============================] - 0s 2ms/step - loss: 4920.2300 - val_loss: 5690.7529\b\b\b\b\b\b\b\b\b\b\b\b\b\b\b\b\b\b\b\b\b\b\b\b\b\b\b\b\b\b\b\b\b\b\b\b\b\b\b\b\n",
            "Epoch 34/500\n",
            "83/83 [==============================] - 0s 2ms/step - loss: 4771.7476 - val_loss: 5511.0728\b\b\b\b\b\b\b\b\b\b\b\b\b\b\b\b\b\b\b\b\b\b\b\b\b\b\b\b\b\b\b\b\b\b\b\b\b\b\b\b\n",
            "Epoch 35/500\n",
            "83/83 [==============================] - 0s 2ms/step - loss: 4628.7788 - val_loss: 5368.0811\b\b\b\b\b\b\b\b\b\b\b\b\b\b\b\b\b\b\b\b\b\b\b\b\b\b\b\b\b\b\b\b\b\b\b\b\b\b\b\b\n",
            "Epoch 36/500\n",
            "83/83 [==============================] - 0s 2ms/step - loss: 4502.4336 - val_loss: 5258.5894\b\b\b\b\b\b\b\b\b\b\b\b\b\b\b\b\b\b\b\b\b\b\b\b\b\b\b\b\b\b\b\b\b\b\b\b\b\b\b\b\n",
            "Epoch 37/500\n",
            "83/83 [==============================] - 0s 2ms/step - loss: 4390.9517 - val_loss: 5140.5234\b\b\b\b\b\b\b\b\b\b\b\b\b\b\b\b\b\b\b\b\b\b\b\b\b\b\b\b\b\b\b\b\b\b\b\b\b\b\b\b\n",
            "Epoch 38/500\n",
            "83/83 [==============================] - 0s 2ms/step - loss: 4286.0298 - val_loss: 5071.9912\b\b\b\b\b\b\b\b\b\b\b\b\b\b\b\b\b\b\b\b\b\b\b\b\b\b\b\b\b\b\b\b\b\b\b\b\b\b\b\b\n",
            "Epoch 39/500\n",
            "83/83 [==============================] - 0s 2ms/step - loss: 4189.3252 - val_loss: 4971.3638\b\b\b\b\b\b\b\b\b\b\b\b\b\b\b\b\b\b\b\b\b\b\b\b\b\b\b\b\b\b\b\b\b\b\b\b\b\b\b\b\n",
            "Epoch 40/500\n",
            "83/83 [==============================] - 0s 2ms/step - loss: 4125.4600 - val_loss: 4925.4849\b\b\b\b\b\b\b\b\b\b\b\b\b\b\b\b\b\b\b\b\b\b\b\b\b\b\b\b\b\b\b\b\b\b\b\b\b\b\b\b\n",
            "Epoch 41/500\n",
            "83/83 [==============================] - 0s 2ms/step - loss: 4041.4421 - val_loss: 4842.5605\b\b\b\b\b\b\b\b\b\b\b\b\b\b\b\b\b\b\b\b\b\b\b\b\b\b\b\b\b\b\b\b\b\b\b\b\b\b\b\b\n",
            "Epoch 42/500\n",
            "83/83 [==============================] - 0s 2ms/step - loss: 3959.1414 - val_loss: 4729.3115\b\b\b\b\b\b\b\b\b\b\b\b\b\b\b\b\b\b\b\b\b\b\b\b\b\b\b\b\b\b\b\b\b\b\b\b\b\b\b\b\n",
            "Epoch 43/500\n",
            "83/83 [==============================] - 0s 2ms/step - loss: 3887.4990 - val_loss: 4720.7803\b\b\b\b\b\b\b\b\b\b\b\b\b\b\b\b\b\b\b\b\b\b\b\b\b\b\b\b\b\b\b\b\b\b\b\b\b\b\b\b\n",
            "Epoch 44/500\n",
            "83/83 [==============================] - 0s 2ms/step - loss: 3820.4163 - val_loss: 4648.9556\b\b\b\b\b\b\b\b\b\b\b\b\b\b\b\b\b\b\b\b\b\b\b\b\b\b\b\b\b\b\b\b\b\b\b\b\b\b\b\b\n",
            "Epoch 45/500\n",
            "83/83 [==============================] - 0s 2ms/step - loss: 3758.9080 - val_loss: 4598.5337\b\b\b\b\b\b\b\b\b\b\b\b\b\b\b\b\b\b\b\b\b\b\b\b\b\b\b\b\b\b\b\b\b\b\b\b\b\b\b\b\n",
            "Epoch 46/500\n",
            "83/83 [==============================] - 0s 2ms/step - loss: 3709.0447 - val_loss: 4558.2554\b\b\b\b\b\b\b\b\b\b\b\b\b\b\b\b\b\b\b\b\b\b\b\b\b\b\b\b\b\b\b\b\b\b\b\b\b\b\b\b\n",
            "Epoch 47/500\n",
            "83/83 [==============================] - 0s 2ms/step - loss: 3649.5217 - val_loss: 4502.6929\b\b\b\b\b\b\b\b\b\b\b\b\b\b\b\b\b\b\b\b\b\b\b\b\b\b\b\b\b\b\b\b\b\b\b\b\b\b\b\b\n",
            "Epoch 48/500\n",
            "83/83 [==============================] - 0s 1ms/step - loss: 3604.4866 - val_loss: 4458.3232\b\b\b\b\b\b\b\b\b\b\b\b\b\b\b\b\b\b\b\b\b\b\b\b\b\b\b\b\b\b\b\b\b\b\b\b\b\b\b\b\n",
            "Epoch 49/500\n",
            "83/83 [==============================] - 0s 2ms/step - loss: 3545.4355 - val_loss: 4426.9546\b\b\b\b\b\b\b\b\b\b\b\b\b\b\b\b\b\b\b\b\b\b\b\b\b\b\b\b\b\b\b\b\b\b\b\b\b\b\b\b\n",
            "Epoch 50/500\n",
            "83/83 [==============================] - 0s 2ms/step - loss: 3514.0076 - val_loss: 4393.6045\b\b\b\b\b\b\b\b\b\b\b\b\b\b\b\b\b\b\b\b\b\b\b\b\b\b\b\b\b\b\b\b\b\b\b\b\b\b\b\b\n",
            "Epoch 51/500\n",
            "83/83 [==============================] - 0s 2ms/step - loss: 3476.7834 - val_loss: 4363.1436\b\b\b\b\b\b\b\b\b\b\b\b\b\b\b\b\b\b\b\b\b\b\b\b\b\b\b\b\b\b\b\b\b\b\b\b\b\b\b\b\n",
            "Epoch 52/500\n",
            "83/83 [==============================] - 0s 2ms/step - loss: 3435.5029 - val_loss: 4292.7393\b\b\b\b\b\b\b\b\b\b\b\b\b\b\b\b\b\b\b\b\b\b\b\b\b\b\b\b\b\b\b\b\b\b\b\b\b\b\b\b\n",
            "Epoch 53/500\n",
            "83/83 [==============================] - 0s 2ms/step - loss: 3410.6538 - val_loss: 4201.1953\b\b\b\b\b\b\b\b\b\b\b\b\b\b\b\b\b\b\b\b\b\b\b\b\b\b\b\b\b\b\b\b\b\b\b\b\b\b\b\b\n",
            "Epoch 54/500\n",
            "83/83 [==============================] - 0s 2ms/step - loss: 3354.9409 - val_loss: 4204.0356\b\b\b\b\b\b\b\b\b\b\b\b\b\b\b\b\b\b\b\b\b\b\b\b\b\b\b\b\b\b\b\b\b\b\b\b\b\b\b\b\n",
            "Epoch 55/500\n",
            "83/83 [==============================] - 0s 2ms/step - loss: 3329.7649 - val_loss: 4166.1147\b\b\b\b\b\b\b\b\b\b\b\b\b\b\b\b\b\b\b\b\b\b\b\b\b\b\b\b\b\b\b\b\b\b\b\b\b\b\b\b\n",
            "Epoch 56/500\n",
            "83/83 [==============================] - 0s 2ms/step - loss: 3297.6814 - val_loss: 4184.8037\b\b\b\b\b\b\b\b\b\b\b\b\b\b\b\b\b\b\b\b\b\b\b\b\b\b\b\b\b\b\b\b\b\b\b\b\b\b\b\b\n",
            "Epoch 57/500\n",
            "83/83 [==============================] - 0s 1ms/step - loss: 3256.9985 - val_loss: 4160.8140\b\b\b\b\b\b\b\b\b\b\b\b\b\b\b\b\b\b\b\b\b\b\b\b\b\b\b\b\b\b\b\b\b\b\b\b\b\b\b\b\n",
            "Epoch 58/500\n",
            "83/83 [==============================] - 0s 2ms/step - loss: 3223.0876 - val_loss: 4082.8621\b\b\b\b\b\b\b\b\b\b\b\b\b\b\b\b\b\b\b\b\b\b\b\b\b\b\b\b\b\b\b\b\b\b\b\b\b\b\b\b\n",
            "Epoch 59/500\n",
            "83/83 [==============================] - 0s 2ms/step - loss: 3202.5410 - val_loss: 4046.5054\b\b\b\b\b\b\b\b\b\b\b\b\b\b\b\b\b\b\b\b\b\b\b\b\b\b\b\b\b\b\b\b\b\b\b\b\b\b\b\b\n",
            "Epoch 60/500\n",
            "83/83 [==============================] - 0s 2ms/step - loss: 3167.1172 - val_loss: 4023.6816\b\b\b\b\b\b\b\b\b\b\b\b\b\b\b\b\b\b\b\b\b\b\b\b\b\b\b\b\b\b\b\b\b\b\b\b\b\b\b\b\n",
            "Epoch 61/500\n",
            "83/83 [==============================] - 0s 2ms/step - loss: 3145.9346 - val_loss: 4036.2290\b\b\b\b\b\b\b\b\b\b\b\b\b\b\b\b\b\b\b\b\b\b\b\b\b\b\b\b\b\b\b\b\b\b\b\b\b\b\b\b\n",
            "Epoch 62/500\n",
            "83/83 [==============================] - 0s 2ms/step - loss: 3111.6401 - val_loss: 4031.5432\b\b\b\b\b\b\b\b\b\b\b\b\b\b\b\b\b\b\b\b\b\b\b\b\b\b\b\b\b\b\b\b\b\b\b\b\b\b\b\b\n",
            "Epoch 63/500\n",
            "83/83 [==============================] - 0s 2ms/step - loss: 3088.5154 - val_loss: 4042.4897\b\b\b\b\b\b\b\b\b\b\b\b\b\b\b\b\b\b\b\b\b\b\b\b\b\b\b\b\b\b\b\b\b\b\b\b\b\b\b\b\n",
            "Epoch 64/500\n",
            "83/83 [==============================] - 0s 2ms/step - loss: 3065.0076 - val_loss: 4076.5686\b\b\b\b\b\b\b\b\b\b\b\b\b\b\b\b\b\b\b\b\b\b\b\b\b\b\b\b\b\b\b\b\b\b\b\b\b\b\b\b\n",
            "Epoch 65/500\n",
            "83/83 [==============================] - 0s 2ms/step - loss: 3049.7764 - val_loss: 4186.3911\b\b\b\b\b\b\b\b\b\b\b\b\b\b\b\b\b\b\b\b\b\b\b\b\b\b\b\b\b\b\b\b\b\b\b\b\b\b\b\b\n",
            "Epoch 66/500\n",
            "83/83 [==============================] - 0s 2ms/step - loss: 3028.5566 - val_loss: 4037.5764\b\b\b\b\b\b\b\b\b\b\b\b\b\b\b\b\b\b\b\b\b\b\b\b\b\b\b\b\b\b\b\b\b\b\b\b\b\b\b\b\n",
            "Epoch 67/500\n",
            "83/83 [==============================] - 0s 2ms/step - loss: 3014.7036 - val_loss: 4027.6833\b\b\b\b\b\b\b\b\b\b\b\b\b\b\b\b\b\b\b\b\b\b\b\b\b\b\b\b\b\b\b\b\b\b\b\b\b\b\b\b\n",
            "Epoch 68/500\n",
            "83/83 [==============================] - 0s 2ms/step - loss: 2996.9402 - val_loss: 4033.1978\b\b\b\b\b\b\b\b\b\b\b\b\b\b\b\b\b\b\b\b\b\b\b\b\b\b\b\b\b\b\b\b\b\b\b\b\b\b\b\b\n",
            "Epoch 69/500\n",
            "83/83 [==============================] - 0s 2ms/step - loss: 2971.3157 - val_loss: 3974.8933\b\b\b\b\b\b\b\b\b\b\b\b\b\b\b\b\b\b\b\b\b\b\b\b\b\b\b\b\b\b\b\b\b\b\b\b\b\b\b\b\n",
            "Epoch 70/500\n",
            "83/83 [==============================] - 0s 2ms/step - loss: 2971.8479 - val_loss: 3999.0166\b\b\b\b\b\b\b\b\b\b\b\b\b\b\b\b\b\b\b\b\b\b\b\b\b\b\b\b\b\b\b\b\b\b\b\b\b\b\b\b\n",
            "Epoch 71/500\n",
            "83/83 [==============================] - 0s 2ms/step - loss: 2948.4739 - val_loss: 4031.3921\b\b\b\b\b\b\b\b\b\b\b\b\b\b\b\b\b\b\b\b\b\b\b\b\b\b\b\b\b\b\b\b\b\b\b\b\b\b\b\b\n",
            "Epoch 72/500\n",
            "83/83 [==============================] - 0s 2ms/step - loss: 2928.6765 - val_loss: 4072.4685\b\b\b\b\b\b\b\b\b\b\b\b\b\b\b\b\b\b\b\b\b\b\b\b\b\b\b\b\b\b\b\b\b\b\b\b\b\b\b\b\n",
            "Epoch 73/500\n",
            "83/83 [==============================] - 0s 2ms/step - loss: 2904.0508 - val_loss: 3986.3083\b\b\b\b\b\b\b\b\b\b\b\b\b\b\b\b\b\b\b\b\b\b\b\b\b\b\b\b\b\b\b\b\b\b\b\b\b\b\b\b\n",
            "Epoch 74/500\n",
            "83/83 [==============================] - 0s 2ms/step - loss: 2893.1448 - val_loss: 3972.9753\b\b\b\b\b\b\b\b\b\b\b\b\b\b\b\b\b\b\b\b\b\b\b\b\b\b\b\b\b\b\b\b\b\b\b\b\b\b\b\b\n",
            "Epoch 75/500\n",
            "83/83 [==============================] - 0s 2ms/step - loss: 2879.8325 - val_loss: 3958.8860\b\b\b\b\b\b\b\b\b\b\b\b\b\b\b\b\b\b\b\b\b\b\b\b\b\b\b\b\b\b\b\b\b\b\b\b\b\b\b\b\n",
            "Epoch 76/500\n",
            "83/83 [==============================] - 0s 2ms/step - loss: 2859.9153 - val_loss: 3996.1016\b\b\b\b\b\b\b\b\b\b\b\b\b\b\b\b\b\b\b\b\b\b\b\b\b\b\b\b\b\b\b\b\b\b\b\b\b\b\b\b\n",
            "Epoch 77/500\n",
            "83/83 [==============================] - 0s 2ms/step - loss: 2834.9116 - val_loss: 3950.6763\b\b\b\b\b\b\b\b\b\b\b\b\b\b\b\b\b\b\b\b\b\b\b\b\b\b\b\b\b\b\b\b\b\b\b\b\b\b\b\b\n",
            "Epoch 78/500\n",
            "83/83 [==============================] - 0s 2ms/step - loss: 2830.3682 - val_loss: 3964.3792\b\b\b\b\b\b\b\b\b\b\b\b\b\b\b\b\b\b\b\b\b\b\b\b\b\b\b\b\b\b\b\b\b\b\b\b\b\b\b\b\n",
            "Epoch 79/500\n",
            "83/83 [==============================] - 0s 2ms/step - loss: 2813.4517 - val_loss: 3922.6418\b\b\b\b\b\b\b\b\b\b\b\b\b\b\b\b\b\b\b\b\b\b\b\b\b\b\b\b\b\b\b\b\b\b\b\b\b\b\b\b\n",
            "Epoch 80/500\n",
            "83/83 [==============================] - 0s 2ms/step - loss: 2805.0698 - val_loss: 3914.4810\b\b\b\b\b\b\b\b\b\b\b\b\b\b\b\b\b\b\b\b\b\b\b\b\b\b\b\b\b\b\b\b\b\b\b\b\b\b\b\b\n",
            "Epoch 81/500\n",
            "83/83 [==============================] - 0s 2ms/step - loss: 2787.7688 - val_loss: 3904.8879\b\b\b\b\b\b\b\b\b\b\b\b\b\b\b\b\b\b\b\b\b\b\b\b\b\b\b\b\b\b\b\b\b\b\b\b\b\b\b\b\n",
            "Epoch 82/500\n",
            "83/83 [==============================] - 0s 2ms/step - loss: 2785.9487 - val_loss: 3871.9033\b\b\b\b\b\b\b\b\b\b\b\b\b\b\b\b\b\b\b\b\b\b\b\b\b\b\b\b\b\b\b\b\b\b\b\b\b\b\b\b\n",
            "Epoch 83/500\n",
            "83/83 [==============================] - 0s 2ms/step - loss: 2770.1008 - val_loss: 3863.0269\b\b\b\b\b\b\b\b\b\b\b\b\b\b\b\b\b\b\b\b\b\b\b\b\b\b\b\b\b\b\b\b\b\b\b\b\b\b\b\b\n",
            "Epoch 84/500\n",
            "83/83 [==============================] - 0s 2ms/step - loss: 2756.4084 - val_loss: 3858.5200\b\b\b\b\b\b\b\b\b\b\b\b\b\b\b\b\b\b\b\b\b\b\b\b\b\b\b\b\b\b\b\b\b\b\b\b\b\b\b\b\n",
            "Epoch 85/500\n",
            "83/83 [==============================] - 0s 2ms/step - loss: 2745.5037 - val_loss: 3886.2837\b\b\b\b\b\b\b\b\b\b\b\b\b\b\b\b\b\b\b\b\b\b\b\b\b\b\b\b\b\b\b\b\b\b\b\b\b\b\b\b\n",
            "Epoch 86/500\n",
            "83/83 [==============================] - 0s 2ms/step - loss: 2723.8391 - val_loss: 3855.7756\b\b\b\b\b\b\b\b\b\b\b\b\b\b\b\b\b\b\b\b\b\b\b\b\b\b\b\b\b\b\b\b\b\b\b\b\b\b\b\b\n",
            "Epoch 87/500\n",
            "83/83 [==============================] - 0s 2ms/step - loss: 2723.0574 - val_loss: 3811.2383\b\b\b\b\b\b\b\b\b\b\b\b\b\b\b\b\b\b\b\b\b\b\b\b\b\b\b\b\b\b\b\b\b\b\b\b\b\b\b\b\n",
            "Epoch 88/500\n",
            "83/83 [==============================] - 0s 2ms/step - loss: 2710.3862 - val_loss: 3824.5569\b\b\b\b\b\b\b\b\b\b\b\b\b\b\b\b\b\b\b\b\b\b\b\b\b\b\b\b\b\b\b\b\b\b\b\b\b\b\b\b\n",
            "Epoch 89/500\n",
            "83/83 [==============================] - 0s 2ms/step - loss: 2700.2627 - val_loss: 3848.6836\b\b\b\b\b\b\b\b\b\b\b\b\b\b\b\b\b\b\b\b\b\b\b\b\b\b\b\b\b\b\b\b\b\b\b\b\b\b\b\b\n",
            "Epoch 90/500\n",
            "83/83 [==============================] - 0s 2ms/step - loss: 2688.4827 - val_loss: 3814.3215\b\b\b\b\b\b\b\b\b\b\b\b\b\b\b\b\b\b\b\b\b\b\b\b\b\b\b\b\b\b\b\b\b\b\b\b\b\b\b\b\n",
            "Epoch 91/500\n",
            "83/83 [==============================] - 0s 2ms/step - loss: 2670.8276 - val_loss: 3734.3591\b\b\b\b\b\b\b\b\b\b\b\b\b\b\b\b\b\b\b\b\b\b\b\b\b\b\b\b\b\b\b\b\b\b\b\b\b\b\b\b\n",
            "Epoch 92/500\n",
            "83/83 [==============================] - 0s 2ms/step - loss: 2653.4021 - val_loss: 3741.5457\b\b\b\b\b\b\b\b\b\b\b\b\b\b\b\b\b\b\b\b\b\b\b\b\b\b\b\b\b\b\b\b\b\b\b\b\b\b\b\b\n",
            "Epoch 93/500\n",
            "83/83 [==============================] - 0s 2ms/step - loss: 2638.5747 - val_loss: 3722.8938\b\b\b\b\b\b\b\b\b\b\b\b\b\b\b\b\b\b\b\b\b\b\b\b\b\b\b\b\b\b\b\b\b\b\b\b\b\b\b\b\n",
            "Epoch 94/500\n",
            "83/83 [==============================] - 0s 2ms/step - loss: 2633.3308 - val_loss: 3701.6758\b\b\b\b\b\b\b\b\b\b\b\b\b\b\b\b\b\b\b\b\b\b\b\b\b\b\b\b\b\b\b\b\b\b\b\b\b\b\b\b\n",
            "Epoch 95/500\n",
            "83/83 [==============================] - 0s 2ms/step - loss: 2618.4036 - val_loss: 3685.8904\b\b\b\b\b\b\b\b\b\b\b\b\b\b\b\b\b\b\b\b\b\b\b\b\b\b\b\b\b\b\b\b\b\b\b\b\b\b\b\b\n",
            "Epoch 96/500\n",
            "83/83 [==============================] - 0s 2ms/step - loss: 2611.6780 - val_loss: 3685.9775\b\b\b\b\b\b\b\b\b\b\b\b\b\b\b\b\b\b\b\b\b\b\b\b\b\b\b\b\b\b\b\b\b\b\b\b\b\b\b\b\n",
            "Epoch 97/500\n",
            "83/83 [==============================] - 0s 2ms/step - loss: 2598.0627 - val_loss: 3688.4893\b\b\b\b\b\b\b\b\b\b\b\b\b\b\b\b\b\b\b\b\b\b\b\b\b\b\b\b\b\b\b\b\b\b\b\b\b\b\b\b\n",
            "Epoch 98/500\n",
            "83/83 [==============================] - 0s 2ms/step - loss: 2587.7712 - val_loss: 3681.5962\b\b\b\b\b\b\b\b\b\b\b\b\b\b\b\b\b\b\b\b\b\b\b\b\b\b\b\b\b\b\b\b\b\b\b\b\b\b\b\b\n",
            "Epoch 99/500\n",
            "83/83 [==============================] - 0s 2ms/step - loss: 2581.7356 - val_loss: 3710.8728\b\b\b\b\b\b\b\b\b\b\b\b\b\b\b\b\b\b\b\b\b\b\b\b\b\b\b\b\b\b\b\b\b\b\b\b\b\b\b\b\n",
            "Epoch 100/500\n",
            "83/83 [==============================] - 0s 2ms/step - loss: 2574.9780 - val_loss: 3698.1519\b\b\b\b\b\b\b\b\b\b\b\b\b\b\b\b\b\b\b\b\b\b\b\b\b\b\b\b\b\b\b\b\b\b\b\b\b\b\b\b\n",
            "Epoch 101/500\n",
            "83/83 [==============================] - 0s 2ms/step - loss: 2563.7524 - val_loss: 3688.4045\b\b\b\b\b\b\b\b\b\b\b\b\b\b\b\b\b\b\b\b\b\b\b\b\b\b\b\b\b\b\b\b\b\b\b\b\b\b\b\b\n",
            "Epoch 102/500\n",
            "83/83 [==============================] - 0s 2ms/step - loss: 2557.5442 - val_loss: 3749.6150\b\b\b\b\b\b\b\b\b\b\b\b\b\b\b\b\b\b\b\b\b\b\b\b\b\b\b\b\b\b\b\b\b\b\b\b\b\b\b\b\n",
            "Epoch 103/500\n",
            "83/83 [==============================] - 0s 2ms/step - loss: 2540.1877 - val_loss: 3672.5186\b\b\b\b\b\b\b\b\b\b\b\b\b\b\b\b\b\b\b\b\b\b\b\b\b\b\b\b\b\b\b\b\b\b\b\b\b\b\b\b\n",
            "Epoch 104/500\n",
            "83/83 [==============================] - 0s 2ms/step - loss: 2531.7163 - val_loss: 3650.6038\b\b\b\b\b\b\b\b\b\b\b\b\b\b\b\b\b\b\b\b\b\b\b\b\b\b\b\b\b\b\b\b\b\b\b\b\b\b\b\b\n",
            "Epoch 105/500\n",
            "83/83 [==============================] - 0s 2ms/step - loss: 2515.0481 - val_loss: 3706.4153\b\b\b\b\b\b\b\b\b\b\b\b\b\b\b\b\b\b\b\b\b\b\b\b\b\b\b\b\b\b\b\b\b\b\b\b\b\b\b\b\n",
            "Epoch 106/500\n",
            "83/83 [==============================] - 0s 2ms/step - loss: 2512.7952 - val_loss: 3611.2649\b\b\b\b\b\b\b\b\b\b\b\b\b\b\b\b\b\b\b\b\b\b\b\b\b\b\b\b\b\b\b\b\b\b\b\b\b\b\b\b\n",
            "Epoch 107/500\n",
            "83/83 [==============================] - 0s 2ms/step - loss: 2501.6138 - val_loss: 3608.1179\b\b\b\b\b\b\b\b\b\b\b\b\b\b\b\b\b\b\b\b\b\b\b\b\b\b\b\b\b\b\b\b\b\b\b\b\b\b\b\b\n",
            "Epoch 108/500\n",
            "83/83 [==============================] - 0s 2ms/step - loss: 2494.1931 - val_loss: 3611.0823\b\b\b\b\b\b\b\b\b\b\b\b\b\b\b\b\b\b\b\b\b\b\b\b\b\b\b\b\b\b\b\b\b\b\b\b\b\b\b\b\n",
            "Epoch 109/500\n",
            "83/83 [==============================] - 0s 2ms/step - loss: 2479.6113 - val_loss: 3610.0952\b\b\b\b\b\b\b\b\b\b\b\b\b\b\b\b\b\b\b\b\b\b\b\b\b\b\b\b\b\b\b\b\b\b\b\b\b\b\b\b\n",
            "Epoch 110/500\n",
            "83/83 [==============================] - 0s 2ms/step - loss: 2467.7573 - val_loss: 3612.3196\b\b\b\b\b\b\b\b\b\b\b\b\b\b\b\b\b\b\b\b\b\b\b\b\b\b\b\b\b\b\b\b\b\b\b\b\b\b\b\b\n",
            "Epoch 111/500\n",
            "83/83 [==============================] - 0s 1ms/step - loss: 2461.7656 - val_loss: 3573.6511\b\b\b\b\b\b\b\b\b\b\b\b\b\b\b\b\b\b\b\b\b\b\b\b\b\b\b\b\b\b\b\b\b\b\b\b\b\b\b\b\n",
            "Epoch 112/500\n",
            "83/83 [==============================] - 0s 2ms/step - loss: 2447.8860 - val_loss: 3536.0876\b\b\b\b\b\b\b\b\b\b\b\b\b\b\b\b\b\b\b\b\b\b\b\b\b\b\b\b\b\b\b\b\b\b\b\b\b\b\b\b\n",
            "Epoch 113/500\n",
            "83/83 [==============================] - 0s 1ms/step - loss: 2442.5706 - val_loss: 3554.5581\b\b\b\b\b\b\b\b\b\b\b\b\b\b\b\b\b\b\b\b\b\b\b\b\b\b\b\b\b\b\b\b\b\b\b\b\b\b\b\b\n",
            "Epoch 114/500\n",
            "83/83 [==============================] - 0s 2ms/step - loss: 2427.6528 - val_loss: 3547.9250\b\b\b\b\b\b\b\b\b\b\b\b\b\b\b\b\b\b\b\b\b\b\b\b\b\b\b\b\b\b\b\b\b\b\b\b\b\b\b\b\n",
            "Epoch 115/500\n",
            "83/83 [==============================] - 0s 2ms/step - loss: 2420.0879 - val_loss: 3557.5969\b\b\b\b\b\b\b\b\b\b\b\b\b\b\b\b\b\b\b\b\b\b\b\b\b\b\b\b\b\b\b\b\b\b\b\b\b\b\b\b\n",
            "Epoch 116/500\n",
            "83/83 [==============================] - 0s 1ms/step - loss: 2415.0708 - val_loss: 3558.0168\b\b\b\b\b\b\b\b\b\b\b\b\b\b\b\b\b\b\b\b\b\b\b\b\b\b\b\b\b\b\b\b\b\b\b\b\b\b\b\b\n",
            "Epoch 117/500\n",
            "83/83 [==============================] - 0s 2ms/step - loss: 2404.3000 - val_loss: 3541.6934\b\b\b\b\b\b\b\b\b\b\b\b\b\b\b\b\b\b\b\b\b\b\b\b\b\b\b\b\b\b\b\b\b\b\b\b\b\b\b\b\n",
            "Epoch 118/500\n",
            "83/83 [==============================] - 0s 2ms/step - loss: 2405.1072 - val_loss: 3547.3408\b\b\b\b\b\b\b\b\b\b\b\b\b\b\b\b\b\b\b\b\b\b\b\b\b\b\b\b\b\b\b\b\b\b\b\b\b\b\b\b\n",
            "Epoch 119/500\n",
            "83/83 [==============================] - 0s 2ms/step - loss: 2393.6511 - val_loss: 3487.1851\b\b\b\b\b\b\b\b\b\b\b\b\b\b\b\b\b\b\b\b\b\b\b\b\b\b\b\b\b\b\b\b\b\b\b\b\b\b\b\b\n",
            "Epoch 120/500\n",
            "83/83 [==============================] - 0s 2ms/step - loss: 2387.4624 - val_loss: 3579.1777\b\b\b\b\b\b\b\b\b\b\b\b\b\b\b\b\b\b\b\b\b\b\b\b\b\b\b\b\b\b\b\b\b\b\b\b\b\b\b\b\n",
            "Epoch 121/500\n",
            "83/83 [==============================] - 0s 2ms/step - loss: 2383.7974 - val_loss: 3540.8892\b\b\b\b\b\b\b\b\b\b\b\b\b\b\b\b\b\b\b\b\b\b\b\b\b\b\b\b\b\b\b\b\b\b\b\b\b\b\b\b\n",
            "Epoch 122/500\n",
            "83/83 [==============================] - 0s 2ms/step - loss: 2373.8408 - val_loss: 3519.8372\b\b\b\b\b\b\b\b\b\b\b\b\b\b\b\b\b\b\b\b\b\b\b\b\b\b\b\b\b\b\b\b\b\b\b\b\b\b\b\b\n",
            "Epoch 123/500\n",
            "83/83 [==============================] - 0s 2ms/step - loss: 2366.8120 - val_loss: 3534.7559\b\b\b\b\b\b\b\b\b\b\b\b\b\b\b\b\b\b\b\b\b\b\b\b\b\b\b\b\b\b\b\b\b\b\b\b\b\b\b\b\n",
            "Epoch 124/500\n",
            "83/83 [==============================] - 0s 2ms/step - loss: 2356.8987 - val_loss: 3473.6904\b\b\b\b\b\b\b\b\b\b\b\b\b\b\b\b\b\b\b\b\b\b\b\b\b\b\b\b\b\b\b\b\b\b\b\b\b\b\b\b\n",
            "Epoch 125/500\n",
            "83/83 [==============================] - 0s 2ms/step - loss: 2355.5093 - val_loss: 3538.8628\b\b\b\b\b\b\b\b\b\b\b\b\b\b\b\b\b\b\b\b\b\b\b\b\b\b\b\b\b\b\b\b\b\b\b\b\b\b\b\b\n",
            "Epoch 126/500\n",
            "83/83 [==============================] - 0s 1ms/step - loss: 2341.2014 - val_loss: 3492.9294\b\b\b\b\b\b\b\b\b\b\b\b\b\b\b\b\b\b\b\b\b\b\b\b\b\b\b\b\b\b\b\b\b\b\b\b\b\b\b\b\n",
            "Epoch 127/500\n",
            "83/83 [==============================] - 0s 2ms/step - loss: 2355.0356 - val_loss: 3464.1196\b\b\b\b\b\b\b\b\b\b\b\b\b\b\b\b\b\b\b\b\b\b\b\b\b\b\b\b\b\b\b\b\b\b\b\b\b\b\b\b\n",
            "Epoch 128/500\n",
            "83/83 [==============================] - 0s 2ms/step - loss: 2338.8330 - val_loss: 3527.7769\b\b\b\b\b\b\b\b\b\b\b\b\b\b\b\b\b\b\b\b\b\b\b\b\b\b\b\b\b\b\b\b\b\b\b\b\b\b\b\b\n",
            "Epoch 129/500\n",
            "83/83 [==============================] - 0s 2ms/step - loss: 2344.9631 - val_loss: 3445.3479\b\b\b\b\b\b\b\b\b\b\b\b\b\b\b\b\b\b\b\b\b\b\b\b\b\b\b\b\b\b\b\b\b\b\b\b\b\b\b\b\n",
            "Epoch 130/500\n",
            "83/83 [==============================] - 0s 2ms/step - loss: 2339.5352 - val_loss: 3422.9995\b\b\b\b\b\b\b\b\b\b\b\b\b\b\b\b\b\b\b\b\b\b\b\b\b\b\b\b\b\b\b\b\b\b\b\b\b\b\b\b\n",
            "Epoch 131/500\n",
            "83/83 [==============================] - 0s 2ms/step - loss: 2322.2864 - val_loss: 3441.1138\b\b\b\b\b\b\b\b\b\b\b\b\b\b\b\b\b\b\b\b\b\b\b\b\b\b\b\b\b\b\b\b\b\b\b\b\b\b\b\b\n",
            "Epoch 132/500\n",
            "83/83 [==============================] - 0s 2ms/step - loss: 2327.7832 - val_loss: 3401.0571\b\b\b\b\b\b\b\b\b\b\b\b\b\b\b\b\b\b\b\b\b\b\b\b\b\b\b\b\b\b\b\b\b\b\b\b\b\b\b\b\n",
            "Epoch 133/500\n",
            "83/83 [==============================] - 0s 2ms/step - loss: 2314.3916 - val_loss: 3385.3486\b\b\b\b\b\b\b\b\b\b\b\b\b\b\b\b\b\b\b\b\b\b\b\b\b\b\b\b\b\b\b\b\b\b\b\b\b\b\b\b\n",
            "Epoch 134/500\n",
            "83/83 [==============================] - 0s 2ms/step - loss: 2310.8291 - val_loss: 3374.3379\b\b\b\b\b\b\b\b\b\b\b\b\b\b\b\b\b\b\b\b\b\b\b\b\b\b\b\b\b\b\b\b\b\b\b\b\b\b\b\b\n",
            "Epoch 135/500\n",
            "83/83 [==============================] - 0s 2ms/step - loss: 2307.4849 - val_loss: 3453.9292\b\b\b\b\b\b\b\b\b\b\b\b\b\b\b\b\b\b\b\b\b\b\b\b\b\b\b\b\b\b\b\b\b\b\b\b\b\b\b\b\n",
            "Epoch 136/500\n",
            "83/83 [==============================] - 0s 2ms/step - loss: 2312.5120 - val_loss: 3395.1741\b\b\b\b\b\b\b\b\b\b\b\b\b\b\b\b\b\b\b\b\b\b\b\b\b\b\b\b\b\b\b\b\b\b\b\b\b\b\b\b\n",
            "Epoch 137/500\n",
            "83/83 [==============================] - 0s 2ms/step - loss: 2298.4351 - val_loss: 3411.0344\b\b\b\b\b\b\b\b\b\b\b\b\b\b\b\b\b\b\b\b\b\b\b\b\b\b\b\b\b\b\b\b\b\b\b\b\b\b\b\b\n",
            "Epoch 138/500\n",
            "83/83 [==============================] - 0s 2ms/step - loss: 2291.0098 - val_loss: 3394.7886\b\b\b\b\b\b\b\b\b\b\b\b\b\b\b\b\b\b\b\b\b\b\b\b\b\b\b\b\b\b\b\b\b\b\b\b\b\b\b\b\n",
            "Epoch 139/500\n",
            "83/83 [==============================] - 0s 2ms/step - loss: 2286.6379 - val_loss: 3417.0950\b\b\b\b\b\b\b\b\b\b\b\b\b\b\b\b\b\b\b\b\b\b\b\b\b\b\b\b\b\b\b\b\b\b\b\b\b\b\b\b\n",
            "Epoch 140/500\n",
            "83/83 [==============================] - 0s 2ms/step - loss: 2293.3557 - val_loss: 3414.4221\b\b\b\b\b\b\b\b\b\b\b\b\b\b\b\b\b\b\b\b\b\b\b\b\b\b\b\b\b\b\b\b\b\b\b\b\b\b\b\b\n",
            "Epoch 141/500\n",
            "83/83 [==============================] - 0s 2ms/step - loss: 2272.4678 - val_loss: 3424.8809\b\b\b\b\b\b\b\b\b\b\b\b\b\b\b\b\b\b\b\b\b\b\b\b\b\b\b\b\b\b\b\b\b\b\b\b\b\b\b\b\n",
            "Epoch 142/500\n",
            "83/83 [==============================] - 0s 1ms/step - loss: 2268.0208 - val_loss: 3366.6838\b\b\b\b\b\b\b\b\b\b\b\b\b\b\b\b\b\b\b\b\b\b\b\b\b\b\b\b\b\b\b\b\b\b\b\b\b\b\b\b\n",
            "Epoch 143/500\n",
            "83/83 [==============================] - 0s 1ms/step - loss: 2259.8152 - val_loss: 3348.1389\b\b\b\b\b\b\b\b\b\b\b\b\b\b\b\b\b\b\b\b\b\b\b\b\b\b\b\b\b\b\b\b\b\b\b\b\b\b\b\b\n",
            "Epoch 144/500\n",
            "83/83 [==============================] - 0s 2ms/step - loss: 2259.8462 - val_loss: 3346.5078\b\b\b\b\b\b\b\b\b\b\b\b\b\b\b\b\b\b\b\b\b\b\b\b\b\b\b\b\b\b\b\b\b\b\b\b\b\b\b\b\n",
            "Epoch 145/500\n",
            "83/83 [==============================] - 0s 2ms/step - loss: 2261.3086 - val_loss: 3367.0205\b\b\b\b\b\b\b\b\b\b\b\b\b\b\b\b\b\b\b\b\b\b\b\b\b\b\b\b\b\b\b\b\b\b\b\b\b\b\b\b\n",
            "Epoch 146/500\n",
            "83/83 [==============================] - 0s 2ms/step - loss: 2245.9055 - val_loss: 3340.1062\b\b\b\b\b\b\b\b\b\b\b\b\b\b\b\b\b\b\b\b\b\b\b\b\b\b\b\b\b\b\b\b\b\b\b\b\b\b\b\b\n",
            "Epoch 147/500\n",
            "83/83 [==============================] - 0s 2ms/step - loss: 2256.3430 - val_loss: 3346.7446\b\b\b\b\b\b\b\b\b\b\b\b\b\b\b\b\b\b\b\b\b\b\b\b\b\b\b\b\b\b\b\b\b\b\b\b\b\b\b\b\n",
            "Epoch 148/500\n",
            "83/83 [==============================] - 0s 2ms/step - loss: 2258.4746 - val_loss: 3382.8374\b\b\b\b\b\b\b\b\b\b\b\b\b\b\b\b\b\b\b\b\b\b\b\b\b\b\b\b\b\b\b\b\b\b\b\b\b\b\b\b\n",
            "Epoch 149/500\n",
            "83/83 [==============================] - 0s 2ms/step - loss: 2257.5073 - val_loss: 3331.8293\b\b\b\b\b\b\b\b\b\b\b\b\b\b\b\b\b\b\b\b\b\b\b\b\b\b\b\b\b\b\b\b\b\b\b\b\b\b\b\b\n",
            "Epoch 150/500\n",
            "83/83 [==============================] - 0s 2ms/step - loss: 2260.0515 - val_loss: 3397.4490\b\b\b\b\b\b\b\b\b\b\b\b\b\b\b\b\b\b\b\b\b\b\b\b\b\b\b\b\b\b\b\b\b\b\b\b\b\b\b\b\n",
            "Epoch 151/500\n",
            "83/83 [==============================] - 0s 2ms/step - loss: 2262.3330 - val_loss: 3372.1689\b\b\b\b\b\b\b\b\b\b\b\b\b\b\b\b\b\b\b\b\b\b\b\b\b\b\b\b\b\b\b\b\b\b\b\b\b\b\b\b\n",
            "Epoch 152/500\n",
            "83/83 [==============================] - 0s 1ms/step - loss: 2279.8574 - val_loss: 3382.5261\b\b\b\b\b\b\b\b\b\b\b\b\b\b\b\b\b\b\b\b\b\b\b\b\b\b\b\b\b\b\b\b\b\b\b\b\b\b\b\b\n",
            "Epoch 153/500\n",
            "83/83 [==============================] - 0s 2ms/step - loss: 2284.5981 - val_loss: 3421.8508\b\b\b\b\b\b\b\b\b\b\b\b\b\b\b\b\b\b\b\b\b\b\b\b\b\b\b\b\b\b\b\b\b\b\b\b\b\b\b\b\n",
            "Epoch 154/500\n",
            "83/83 [==============================] - 0s 2ms/step - loss: 2299.3142 - val_loss: 3455.3999\b\b\b\b\b\b\b\b\b\b\b\b\b\b\b\b\b\b\b\b\b\b\b\b\b\b\b\b\b\b\b\b\b\b\b\b\b\b\b\b\n",
            "Epoch 155/500\n",
            "83/83 [==============================] - 0s 2ms/step - loss: 2329.3887 - val_loss: 3515.3860\b\b\b\b\b\b\b\b\b\b\b\b\b\b\b\b\b\b\b\b\b\b\b\b\b\b\b\b\b\b\b\b\b\b\b\b\b\b\b\b\n",
            "Epoch 156/500\n",
            "83/83 [==============================] - 0s 2ms/step - loss: 2352.7161 - val_loss: 3573.8684\b\b\b\b\b\b\b\b\b\b\b\b\b\b\b\b\b\b\b\b\b\b\b\b\b\b\b\b\b\b\b\b\b\b\b\b\b\b\b\b\n",
            "Epoch 157/500\n",
            "83/83 [==============================] - 0s 2ms/step - loss: 2382.7676 - val_loss: 3581.2571\b\b\b\b\b\b\b\b\b\b\b\b\b\b\b\b\b\b\b\b\b\b\b\b\b\b\b\b\b\b\b\b\b\b\b\b\b\b\b\b\n",
            "Epoch 158/500\n",
            "83/83 [==============================] - 0s 2ms/step - loss: 2444.6472 - val_loss: 3588.2622\b\b\b\b\b\b\b\b\b\b\b\b\b\b\b\b\b\b\b\b\b\b\b\b\b\b\b\b\b\b\b\b\b\b\b\b\b\b\b\b\n",
            "Epoch 159/500\n",
            "83/83 [==============================] - 0s 2ms/step - loss: 2531.4954 - val_loss: 3281.2742\b\b\b\b\b\b\b\b\b\b\b\b\b\b\b\b\b\b\b\b\b\b\b\b\b\b\b\b\b\b\b\b\b\b\b\b\b\b\b\b\n",
            "Epoch 160/500\n",
            "83/83 [==============================] - 0s 1ms/step - loss: 2657.8516 - val_loss: 3041.6863\b\b\b\b\b\b\b\b\b\b\b\b\b\b\b\b\b\b\b\b\b\b\b\b\b\b\b\b\b\b\b\b\b\b\b\b\b\b\b\b\n",
            "Epoch 161/500\n",
            "83/83 [==============================] - 0s 1ms/step - loss: 2701.4482 - val_loss: 2915.4670\b\b\b\b\b\b\b\b\b\b\b\b\b\b\b\b\b\b\b\b\b\b\b\b\b\b\b\b\b\b\b\b\b\b\b\b\b\b\b\b\n",
            "Epoch 162/500\n",
            "83/83 [==============================] - 0s 2ms/step - loss: 2629.6499 - val_loss: 3072.3040\b\b\b\b\b\b\b\b\b\b\b\b\b\b\b\b\b\b\b\b\b\b\b\b\b\b\b\b\b\b\b\b\b\b\b\b\b\b\b\b\n",
            "Epoch 163/500\n",
            "83/83 [==============================] - 0s 2ms/step - loss: 2482.4275 - val_loss: 3065.6914\b\b\b\b\b\b\b\b\b\b\b\b\b\b\b\b\b\b\b\b\b\b\b\b\b\b\b\b\b\b\b\b\b\b\b\b\b\b\b\b\n",
            "Epoch 164/500\n",
            "83/83 [==============================] - 0s 2ms/step - loss: 2365.9160 - val_loss: 2947.6709\b\b\b\b\b\b\b\b\b\b\b\b\b\b\b\b\b\b\b\b\b\b\b\b\b\b\b\b\b\b\b\b\b\b\b\b\b\b\b\b\n",
            "Epoch 165/500\n",
            "83/83 [==============================] - 0s 2ms/step - loss: 2298.6133 - val_loss: 2928.9102\b\b\b\b\b\b\b\b\b\b\b\b\b\b\b\b\b\b\b\b\b\b\b\b\b\b\b\b\b\b\b\b\b\b\b\b\b\b\b\b\n",
            "Epoch 166/500\n",
            "83/83 [==============================] - 0s 2ms/step - loss: 2237.9746 - val_loss: 2907.0356\b\b\b\b\b\b\b\b\b\b\b\b\b\b\b\b\b\b\b\b\b\b\b\b\b\b\b\b\b\b\b\b\b\b\b\b\b\b\b\b\n",
            "Epoch 167/500\n",
            "83/83 [==============================] - 0s 2ms/step - loss: 2193.9133 - val_loss: 2887.8489\b\b\b\b\b\b\b\b\b\b\b\b\b\b\b\b\b\b\b\b\b\b\b\b\b\b\b\b\b\b\b\b\b\b\b\b\b\b\b\b\n",
            "Epoch 168/500\n",
            "83/83 [==============================] - 0s 2ms/step - loss: 2149.2825 - val_loss: 2854.8103\b\b\b\b\b\b\b\b\b\b\b\b\b\b\b\b\b\b\b\b\b\b\b\b\b\b\b\b\b\b\b\b\b\b\b\b\b\b\b\b\n",
            "Epoch 169/500\n",
            "83/83 [==============================] - 0s 2ms/step - loss: 2112.4038 - val_loss: 2845.3359\b\b\b\b\b\b\b\b\b\b\b\b\b\b\b\b\b\b\b\b\b\b\b\b\b\b\b\b\b\b\b\b\b\b\b\b\b\b\b\b\n",
            "Epoch 170/500\n",
            "83/83 [==============================] - 0s 2ms/step - loss: 2079.1919 - val_loss: 2840.8291\b\b\b\b\b\b\b\b\b\b\b\b\b\b\b\b\b\b\b\b\b\b\b\b\b\b\b\b\b\b\b\b\b\b\b\b\b\b\b\b\n",
            "Epoch 171/500\n",
            "83/83 [==============================] - 0s 2ms/step - loss: 2067.7310 - val_loss: 2842.1455\b\b\b\b\b\b\b\b\b\b\b\b\b\b\b\b\b\b\b\b\b\b\b\b\b\b\b\b\b\b\b\b\b\b\b\b\b\b\b\b\n",
            "Epoch 172/500\n",
            "83/83 [==============================] - 0s 2ms/step - loss: 2067.9426 - val_loss: 2850.2427\b\b\b\b\b\b\b\b\b\b\b\b\b\b\b\b\b\b\b\b\b\b\b\b\b\b\b\b\b\b\b\b\b\b\b\b\b\b\b\b\n",
            "Epoch 173/500\n",
            "83/83 [==============================] - 0s 2ms/step - loss: 2044.9174 - val_loss: 2859.2625\b\b\b\b\b\b\b\b\b\b\b\b\b\b\b\b\b\b\b\b\b\b\b\b\b\b\b\b\b\b\b\b\b\b\b\b\b\b\b\b\n",
            "Epoch 174/500\n",
            "83/83 [==============================] - 0s 2ms/step - loss: 2035.5229 - val_loss: 2864.0085\b\b\b\b\b\b\b\b\b\b\b\b\b\b\b\b\b\b\b\b\b\b\b\b\b\b\b\b\b\b\b\b\b\b\b\b\b\b\b\b\n",
            "Epoch 175/500\n",
            "83/83 [==============================] - 0s 2ms/step - loss: 2031.6487 - val_loss: 2862.7061\b\b\b\b\b\b\b\b\b\b\b\b\b\b\b\b\b\b\b\b\b\b\b\b\b\b\b\b\b\b\b\b\b\b\b\b\b\b\b\b\n",
            "Epoch 176/500\n",
            "83/83 [==============================] - 0s 2ms/step - loss: 2020.6193 - val_loss: 2857.0220\b\b\b\b\b\b\b\b\b\b\b\b\b\b\b\b\b\b\b\b\b\b\b\b\b\b\b\b\b\b\b\b\b\b\b\b\b\b\b\b\n",
            "Epoch 177/500\n",
            "83/83 [==============================] - 0s 2ms/step - loss: 2024.2028 - val_loss: 2852.4683\b\b\b\b\b\b\b\b\b\b\b\b\b\b\b\b\b\b\b\b\b\b\b\b\b\b\b\b\b\b\b\b\b\b\b\b\b\b\b\b\n",
            "Epoch 178/500\n",
            "83/83 [==============================] - 0s 2ms/step - loss: 2023.8933 - val_loss: 2850.8811\b\b\b\b\b\b\b\b\b\b\b\b\b\b\b\b\b\b\b\b\b\b\b\b\b\b\b\b\b\b\b\b\b\b\b\b\b\b\b\b\n",
            "Epoch 179/500\n",
            "83/83 [==============================] - 0s 1ms/step - loss: 2013.4304 - val_loss: 2894.4470\b\b\b\b\b\b\b\b\b\b\b\b\b\b\b\b\b\b\b\b\b\b\b\b\b\b\b\b\b\b\b\b\b\b\b\b\b\b\b\b\n",
            "Epoch 180/500\n",
            "43/83 [==============>...............] - ETA: 0s - loss: 2041.6196\b\b\b\b\b\b\b\b\b\b\b\b\b\b\b\b\b\b\b\b\b\b\b\b\b\b\b\b\b\b\b\b\b\b\b\b\b\b\b\b\b\b\b\b\b\b\b\b\b\b\b\b\b\b\b\b\b\b\b\b\b\b\b\b\b\b\n",
            "Epoch 00180: ReduceLROnPlateau reducing learning rate to 0.00020000000949949026.\n",
            "83/83 [==============================] - 0s 2ms/step - loss: 1980.5840 - val_loss: 2909.1208\n"
          ]
        }
      ],
      "execution_count": 8,
      "metadata": {
        "tags": [],
        "gather": {
          "logged": 1625454146753
        }
      }
    },
    {
      "cell_type": "code",
      "source": [
        "pd.DataFrame(history.history).plot(figsize=(8, 5))\n",
        "plt.grid(True)\n",
        "# plt.gca().set_ylim(0, 1) # set the vertical range to [0-1]\n",
        "plt.show()"
      ],
      "outputs": [
        {
          "output_type": "display_data",
          "data": {
            "text/plain": "<Figure size 576x360 with 1 Axes>",
            "image/png": "[encoded data removed]"
          },
          "metadata": {
            "needs_background": "light"
          }
        }
      ],
      "execution_count": 9,
      "metadata": {
        "gather": {
          "logged": 1625454147053
        }
      }
    },
    {
      "cell_type": "code",
      "source": [
        "sample = X_test.sample(n=1)\r\n",
        "predict_res = model.predict(sample)\r\n",
        "\r\n",
        "print(\"Random -> resultado do predict de test: \", predict_res)"
      ],
      "outputs": [
        {
          "output_type": "stream",
          "name": "stdout",
          "text": [
            "Random -> resultado do predict de test:  [[83.591095]]\n"
          ]
        }
      ],
      "execution_count": 10,
      "metadata": {
        "collapsed": true,
        "jupyter": {
          "source_hidden": false,
          "outputs_hidden": false
        },
        "nteract": {
          "transient": {
            "deleting": false
          }
        },
        "gather": {
          "logged": 1625454147216
        }
      }
    },
    {
      "cell_type": "code",
      "source": [
        "display(df_dados_model.loc[sample.index[0]:sample.index[0]])"
      ],
      "outputs": [
        {
          "output_type": "display_data",
          "data": {
            "text/plain": "        linha            data_hora  validations_per_hour  d_semana  hour_sin  \\\n874558     41  2020-09-07 00:00:00                    26       0.0       0.5   \n\n        hour_cos  hora  d_mes     d_ano       mes  semana_do_mes  domingo  \\\n874558       1.0     0    0.2  0.684932  0.727273            0.2      1.0   \n\n        segunda  terca  quarta  quinta  sexta  sabado  feriado  \\\n874558      0.0    0.0     0.0     0.0    0.0     0.0      1.0   \n\n        vespera_feriado  \n874558              0.0  ",
            "text/html": "<div>\n<style scoped>\n    .dataframe tbody tr th:only-of-type {\n        vertical-align: middle;\n    }\n\n    .dataframe tbody tr th {\n        vertical-align: top;\n    }\n\n    .dataframe thead th {\n        text-align: right;\n    }\n</style>\n<table border=\"1\" class=\"dataframe\">\n  <thead>\n    <tr style=\"text-align: right;\">\n      <th></th>\n      <th>linha</th>\n      <th>data_hora</th>\n      <th>validations_per_hour</th>\n      <th>d_semana</th>\n      <th>hour_sin</th>\n      <th>hour_cos</th>\n      <th>hora</th>\n      <th>d_mes</th>\n      <th>d_ano</th>\n      <th>mes</th>\n      <th>semana_do_mes</th>\n      <th>domingo</th>\n      <th>segunda</th>\n      <th>terca</th>\n      <th>quarta</th>\n      <th>quinta</th>\n      <th>sexta</th>\n      <th>sabado</th>\n      <th>feriado</th>\n      <th>vespera_feriado</th>\n    </tr>\n  </thead>\n  <tbody>\n    <tr>\n      <th>874558</th>\n      <td>41</td>\n      <td>2020-09-07 00:00:00</td>\n      <td>26</td>\n      <td>0.0</td>\n      <td>0.5</td>\n      <td>1.0</td>\n      <td>0</td>\n      <td>0.2</td>\n      <td>0.684932</td>\n      <td>0.727273</td>\n      <td>0.2</td>\n      <td>1.0</td>\n      <td>0.0</td>\n      <td>0.0</td>\n      <td>0.0</td>\n      <td>0.0</td>\n      <td>0.0</td>\n      <td>0.0</td>\n      <td>1.0</td>\n      <td>0.0</td>\n    </tr>\n  </tbody>\n</table>\n</div>"
          },
          "metadata": {}
        }
      ],
      "execution_count": 11,
      "metadata": {
        "collapsed": true,
        "jupyter": {
          "source_hidden": false,
          "outputs_hidden": false
        },
        "nteract": {
          "transient": {
            "deleting": false
          }
        },
        "gather": {
          "logged": 1625454147347
        }
      }
    },
    {
      "cell_type": "code",
      "source": [
        "## Contrucao de exemplo para previsoes\r\n",
        "# 'd_semana', 'hour_sin', 'hour_cos', \r\n",
        "    # 'd_mes', 'd_ano', 'mes', 'semana_do_mes', \r\n",
        "    # 'domingo','segunda', 'terca', 'quarta', 'quinta', 'sexta', 'sabado', \r\n",
        "    # 'feriado', 'vespera_feriado'\r\n",
        "# 24hrs para cada dia para uma determinada linha unica no caso do treinamento\r\n",
        "predicts = []\r\n",
        "test_cases = [\r\n",
        "    [0, 24, 24, 2, 122, 5, 2,1,0,0,0,0,0,0,0,0], #domingo (2 de maio de 2021)\r\n",
        "    [1, 24, 24, 3, 123, 5, 2,0,1,0,0,0,0,0,0,0], #segunda\r\n",
        "    [2, 24, 24, 4, 124, 5, 2,0,0,1,0,0,0,0,0,0], #terca\r\n",
        "    [3, 24, 24, 5, 125, 5, 2,0,0,0,1,0,0,0,0,0], #quarta\r\n",
        "    [4, 24, 24, 6, 126, 5, 2,0,0,0,0,1,0,0,0,0], #quinta\r\n",
        "    [5, 24, 24, 7, 127, 5, 2,0,0,0,0,0,1,0,0,0], #sexta\r\n",
        "    [6, 24, 24, 8, 128, 5, 2,0,0,0,0,0,0,1,0,0] #sabado\r\n",
        "]\r\n",
        "\r\n",
        "\r\n",
        "for case in test_cases:\r\n",
        "    for h in range(0,23):\r\n",
        "        case[1] = np.sin(2 * np.pi * h /23.0) #h_sin\r\n",
        "        case[2] = np.cos(2 * np.pi * h /23.0) #h_cos\r\n",
        "        pred = model.predict(case)\r\n",
        "        predicts.append(pred)\r\n",
        "\r\n",
        "#plot predictions\r\n",
        "\r\n",
        "plt.figure(figsize=(12, 5))\r\n",
        "plt.plot(predicts)\r\n"
      ],
      "outputs": [
        {
          "output_type": "stream",
          "name": "stderr",
          "text": [
            "<>:9: SyntaxWarning: list indices must be integers or slices, not tuple; perhaps you missed a comma?\n",
            "<>:9: SyntaxWarning: list indices must be integers or slices, not tuple; perhaps you missed a comma?\n",
            "<ipython-input-12-c6083dccd606>:9: SyntaxWarning: list indices must be integers or slices, not tuple; perhaps you missed a comma?\n",
            "  [0, 24, 24, 2, 122, 5, 2,1,0,0,0,0,0,0,0,0] #domingo (2 de maio de 2021)\n"
          ]
        },
        {
          "output_type": "error",
          "ename": "TypeError",
          "evalue": "list indices must be integers or slices, not tuple",
          "traceback": [
            "\u001b[0;31m---------------------------------------------------------------------------\u001b[0m",
            "\u001b[0;31mTypeError\u001b[0m                                 Traceback (most recent call last)",
            "\u001b[0;32m<ipython-input-12-c6083dccd606>\u001b[0m in \u001b[0;36m<module>\u001b[0;34m\u001b[0m\n\u001b[1;32m      7\u001b[0m \u001b[0mpredicts\u001b[0m \u001b[0;34m=\u001b[0m \u001b[0;34m[\u001b[0m\u001b[0;34m]\u001b[0m\u001b[0;34m\u001b[0m\u001b[0;34m\u001b[0m\u001b[0m\n\u001b[1;32m      8\u001b[0m test_cases = [\n\u001b[0;32m----> 9\u001b[0;31m     \u001b[0;34m[\u001b[0m\u001b[0;36m0\u001b[0m\u001b[0;34m,\u001b[0m \u001b[0;36m24\u001b[0m\u001b[0;34m,\u001b[0m \u001b[0;36m24\u001b[0m\u001b[0;34m,\u001b[0m \u001b[0;36m2\u001b[0m\u001b[0;34m,\u001b[0m \u001b[0;36m122\u001b[0m\u001b[0;34m,\u001b[0m \u001b[0;36m5\u001b[0m\u001b[0;34m,\u001b[0m \u001b[0;36m2\u001b[0m\u001b[0;34m,\u001b[0m\u001b[0;36m1\u001b[0m\u001b[0;34m,\u001b[0m\u001b[0;36m0\u001b[0m\u001b[0;34m,\u001b[0m\u001b[0;36m0\u001b[0m\u001b[0;34m,\u001b[0m\u001b[0;36m0\u001b[0m\u001b[0;34m,\u001b[0m\u001b[0;36m0\u001b[0m\u001b[0;34m,\u001b[0m\u001b[0;36m0\u001b[0m\u001b[0;34m,\u001b[0m\u001b[0;36m0\u001b[0m\u001b[0;34m,\u001b[0m\u001b[0;36m0\u001b[0m\u001b[0;34m,\u001b[0m\u001b[0;36m0\u001b[0m\u001b[0;34m]\u001b[0m \u001b[0;31m#domingo (2 de maio de 2021)\u001b[0m\u001b[0;34m\u001b[0m\u001b[0;34m\u001b[0m\u001b[0m\n\u001b[0m\u001b[1;32m     10\u001b[0m     \u001b[0;34m[\u001b[0m\u001b[0;36m1\u001b[0m\u001b[0;34m,\u001b[0m \u001b[0;36m24\u001b[0m\u001b[0;34m,\u001b[0m \u001b[0;36m24\u001b[0m\u001b[0;34m,\u001b[0m \u001b[0;36m3\u001b[0m\u001b[0;34m,\u001b[0m \u001b[0;36m123\u001b[0m\u001b[0;34m,\u001b[0m \u001b[0;36m5\u001b[0m\u001b[0;34m,\u001b[0m \u001b[0;36m2\u001b[0m\u001b[0;34m,\u001b[0m\u001b[0;36m0\u001b[0m\u001b[0;34m,\u001b[0m\u001b[0;36m1\u001b[0m\u001b[0;34m,\u001b[0m\u001b[0;36m0\u001b[0m\u001b[0;34m,\u001b[0m\u001b[0;36m0\u001b[0m\u001b[0;34m,\u001b[0m\u001b[0;36m0\u001b[0m\u001b[0;34m,\u001b[0m\u001b[0;36m0\u001b[0m\u001b[0;34m,\u001b[0m\u001b[0;36m0\u001b[0m\u001b[0;34m,\u001b[0m\u001b[0;36m0\u001b[0m\u001b[0;34m,\u001b[0m\u001b[0;36m0\u001b[0m\u001b[0;34m]\u001b[0m \u001b[0;31m#segunda\u001b[0m\u001b[0;34m\u001b[0m\u001b[0;34m\u001b[0m\u001b[0m\n\u001b[1;32m     11\u001b[0m     \u001b[0;34m[\u001b[0m\u001b[0;36m2\u001b[0m\u001b[0;34m,\u001b[0m \u001b[0;36m24\u001b[0m\u001b[0;34m,\u001b[0m \u001b[0;36m24\u001b[0m\u001b[0;34m,\u001b[0m \u001b[0;36m4\u001b[0m\u001b[0;34m,\u001b[0m \u001b[0;36m124\u001b[0m\u001b[0;34m,\u001b[0m \u001b[0;36m5\u001b[0m\u001b[0;34m,\u001b[0m \u001b[0;36m2\u001b[0m\u001b[0;34m,\u001b[0m\u001b[0;36m0\u001b[0m\u001b[0;34m,\u001b[0m\u001b[0;36m0\u001b[0m\u001b[0;34m,\u001b[0m\u001b[0;36m1\u001b[0m\u001b[0;34m,\u001b[0m\u001b[0;36m0\u001b[0m\u001b[0;34m,\u001b[0m\u001b[0;36m0\u001b[0m\u001b[0;34m,\u001b[0m\u001b[0;36m0\u001b[0m\u001b[0;34m,\u001b[0m\u001b[0;36m0\u001b[0m\u001b[0;34m,\u001b[0m\u001b[0;36m0\u001b[0m\u001b[0;34m,\u001b[0m\u001b[0;36m0\u001b[0m\u001b[0;34m]\u001b[0m \u001b[0;31m#terca\u001b[0m\u001b[0;34m\u001b[0m\u001b[0;34m\u001b[0m\u001b[0m\n",
            "\u001b[0;31mTypeError\u001b[0m: list indices must be integers or slices, not tuple"
          ]
        }
      ],
      "execution_count": 12,
      "metadata": {
        "collapsed": true,
        "jupyter": {
          "source_hidden": false,
          "outputs_hidden": false
        },
        "nteract": {
          "transient": {
            "deleting": false
          }
        }
      }
    },
    {
      "cell_type": "code",
      "source": [
        "# PREVENDO test_size DIAS\n",
        "\n",
        "# preds = []\n",
        "\n",
        "# base_teste = np.copy(X_test)\n",
        "\n",
        "# for i in range(len(base_teste)):\n",
        "    \n",
        "#     y_pred = model.predict(np.array([base_teste[i]]))[0][0]\n",
        "\n",
        "#     preds.append(y_pred)\n",
        "\n",
        "#     for k in range(len(preds)):\n",
        "        \n",
        "#         if k < time_steps:\n",
        "#             if(i<len(base_teste)-1):\n",
        "#                 base_teste[i+1][0][(time_steps-1)-k] = preds[(len(preds)-1)-k]\n",
        "\n",
        "# preds"
      ],
      "outputs": [],
      "execution_count": null,
      "metadata": {}
    },
    {
      "cell_type": "code",
      "source": [
        "base_teste[0].shape"
      ],
      "outputs": [],
      "execution_count": null,
      "metadata": {}
    },
    {
      "cell_type": "code",
      "source": [
        "# APLICANDO O INVERSE SCALING NOS DADOS\n",
        "if(transformar_features):\n",
        "    df_dados_model[feature_names] = scaler.inverse_transform(df_dados_model[feature_names])\n",
        "# dados_predito"
      ],
      "outputs": [],
      "execution_count": null,
      "metadata": {}
    },
    {
      "cell_type": "code",
      "source": [
        "df_real_predito = pd.DataFrame({'real':dados_real,'predito':dados_predito})\n",
        "\n",
        "df_real_predito"
      ],
      "outputs": [],
      "execution_count": null,
      "metadata": {}
    },
    {
      "cell_type": "code",
      "source": [
        "plt.figure(figsize=(15,5))\n",
        "# plt.plot(range(len(y_train)),y_train, 'g--')\n",
        "plt.plot(range(len(df_real_predito['predito'])),df_real_predito['predito'], 'g--')\n",
        "plt.plot(range(len(df_real_predito['real'])),df_real_predito['real'], 'b')\n",
        "# plt.xlim(0,200)\n",
        "# plt.ylim(40,200)\n",
        "plt.show()"
      ],
      "outputs": [],
      "execution_count": null,
      "metadata": {}
    },
    {
      "cell_type": "code",
      "source": [
        "plt.scatter(df_real_predito['real'],df_real_predito['predito'])\n",
        "\n",
        "plt.xlabel('Real')\n",
        "plt.ylabel('Predito')\n",
        "\n",
        "plt.show()\n",
        "print('r2=',r2_score(df_real_predito['real'].array,df_real_predito['predito'].array))\n",
        "print('rmse=',sqrt(mean_squared_error(df_real_predito['real'].array,df_real_predito['predito'].array)))\n",
        "print('mae=',mean_absolute_error(df_real_predito['real'].array,df_real_predito['predito'].array))"
      ],
      "outputs": [],
      "execution_count": null,
      "metadata": {}
    },
    {
      "cell_type": "code",
      "source": [],
      "outputs": [],
      "execution_count": null,
      "metadata": {}
    }
  ],
  "metadata": {
    "interpreter": {
      "hash": "4caa081543ae4d7454eea2adf6270962382d99fc25b3a6423caed7aecce4d7f8"
    },
    "kernelspec": {
      "name": "python38-azureml",
      "language": "python",
      "display_name": "Python 3.8 - AzureML"
    },
    "language_info": {
      "name": "python",
      "version": "3.8.1",
      "mimetype": "text/x-python",
      "codemirror_mode": {
        "name": "ipython",
        "version": 3
      },
      "pygments_lexer": "ipython3",
      "nbconvert_exporter": "python",
      "file_extension": ".py"
    },
    "nteract": {
      "version": "nteract-front-end@1.0.0"
    },
    "kernel_info": {
      "name": "python38-azureml"
    }
  },
  "nbformat": 4,
  "nbformat_minor": 2
}