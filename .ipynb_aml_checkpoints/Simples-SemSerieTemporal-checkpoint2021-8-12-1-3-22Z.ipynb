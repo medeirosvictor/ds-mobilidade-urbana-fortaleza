{
  "cells": [
    {
      "cell_type": "markdown",
      "source": [
        "## Previsao de Embarque \r\n",
        "- Simples \r\n",
        "- Sem Serie Temporal\r\n",
        "- Regressao Linear\r\n",
        "- Random Forest\r\n",
        "- Com Grid Search\r\n",
        "- Bagging, Stacking e Boosting"
      ],
      "metadata": {},
      "id": "cb33d1de-7a2c-42c9-ace8-56f64b8c5847"
    },
    {
      "cell_type": "code",
      "source": [
        "import pandas as pd\r\n",
        "import matplotlib.pyplot as plt\r\n",
        "import numpy as np\r\n",
        "import seaborn as sns\r\n",
        "\r\n",
        "from sklearn.preprocessing import OneHotEncoder\r\n",
        "from sklearn.linear_model import LinearRegression\r\n",
        "from sklearn.ensemble import RandomForestRegressor, BaggingRegressor, StackingRegressor, GradientBoostingRegressor\r\n",
        "from sklearn.pipeline import make_pipeline\r\n",
        "from sklearn.datasets import make_regression\r\n",
        "\r\n",
        "import warnings\r\n",
        "\r\n",
        "from sklearn.model_selection import train_test_split, cross_val_score\r\n",
        "from sklearn.metrics import mean_squared_error, r2_score, mean_absolute_error\r\n",
        "#from sklearn.metrics import mean_absolute_percentage_error\r\n",
        "from sklearn.model_selection import RandomizedSearchCV\r\n",
        "from IPython.display import display\r\n",
        "from pprint import pprint\r\n",
        "from math import sqrt\r\n",
        "\r\n",
        "#from shutil import unpack_archive\r\n",
        "#unpack_archive('./df_input.zip', './')"
      ],
      "outputs": [],
      "execution_count": 1,
      "metadata": {
        "gather": {
          "logged": 1631324891309
        }
      },
      "id": "590f3a91-077c-483c-8472-063d0d47c026"
    },
    {
      "cell_type": "markdown",
      "source": [
        "## Filtro de Onibus e definicoes de features/target"
      ],
      "metadata": {
        "nteract": {
          "transient": {
            "deleting": false
          }
        }
      },
      "id": "869d1469-9da1-453e-bdf1-39e6456a90f0"
    },
    {
      "cell_type": "code",
      "source": [
        "# Reading Data file (geolocalized)\r\n",
        "data = pd.read_csv('./df_input.csv', sep=';', delimiter=';')\r\n",
        "\r\n",
        "busline_filter = 41\r\n",
        "data_model = data.copy()\r\n",
        "\r\n",
        "#d_ano,  estao disponiveis para inserir once eu tive mais de 1 ano de dados\r\n",
        "feature_names = [\r\n",
        "    'hour_sin', 'hour_cos', \r\n",
        "    'd_mes', 'd_ano', 'mes', 'semana_do_mes', \r\n",
        "    'domingo','segunda', 'terca', 'quarta', 'quinta', 'sexta', 'sabado', \r\n",
        "    'feriado', 'vespera_feriado']\r\n",
        "\r\n",
        "target = 'validations_per_hour'"
      ],
      "outputs": [],
      "execution_count": 2,
      "metadata": {
        "collapsed": true,
        "jupyter": {
          "source_hidden": false,
          "outputs_hidden": false
        },
        "nteract": {
          "transient": {
            "deleting": false
          }
        },
        "gather": {
          "logged": 1631324895997
        }
      },
      "id": "5e22e982-8dfb-4a0d-aea8-afb0a085ceb3"
    },
    {
      "cell_type": "code",
      "source": [
        "day_of_week_translator = {\n",
        "    0: \"Domingo\",\n",
        "    1: \"Segunda\",\n",
        "    2: \"Terca\",\n",
        "    3: \"Quarta\",\n",
        "    4: \"Quinta\",\n",
        "    5: \"Sexta\",\n",
        "    6: \"Sabado\"\n",
        "}\n",
        "\n",
        "feriados = [\n",
        "            ['Ano Novo', 1, 1],\n",
        "            ['Carnaval', 24, 2],\n",
        "            ['Carnaval', 25, 2],\n",
        "            ['Carnaval', 26, 2],\n",
        "            ['Dia de São José', 19, 3],\n",
        "            ['Data Magna', 25, 3],\n",
        "            ['Sexta-Feira Santa', 10, 4],\n",
        "            ['Aniversário de Fortaleza', 13, 4],\n",
        "            ['Tiradentes', 21, 4],\n",
        "            ['Dia do Trabalho', 1, 5],\n",
        "            ['Corpus Christi', 28, 5],\n",
        "            ['N. Senhora da Assunção', 27, 5],\n",
        "            ['Independência do Brasil', 7, 9],\n",
        "            ['N. Senhora de Aparecida', 12, 10],\n",
        "            ['Dia de Finados', 2, 11],\n",
        "            ['Proclamação da Republica', 15, 11],\n",
        "            ['Natal', 25, 12],\n",
        "]\n",
        "\n",
        "vesperas = [\n",
        "            ['Ano Novo', 31, 12],\n",
        "            ['Carnaval', 23, 2],\n",
        "            ['Dia de São José', 18, 3],\n",
        "            ['Data Magna', 24, 3],\n",
        "            ['Sexta-Feira Santa', 9, 4],\n",
        "            ['Aniversário de Fortaleza', 12, 4],\n",
        "            ['Tiradentes', 20, 4],\n",
        "            ['Dia do Trabalho', 30, 4],\n",
        "            ['N. Senhora da Assunção', 26, 5],\n",
        "            ['Independência do Brasil', 6, 9],\n",
        "            ['N. Senhora de Aparecida', 11, 10],\n",
        "            ['Dia de Finados', 1, 11],\n",
        "            ['Proclamação da Republica', 14, 11],\n",
        "            ['Natal', 24, 12],\n",
        "]"
      ],
      "outputs": [],
      "execution_count": 4,
      "metadata": {
        "gather": {
          "logged": 1631324896617
        }
      },
      "id": "fa96d5ca-4a79-4bc9-849d-a47e61639274"
    },
    {
      "cell_type": "code",
      "source": [
        "one_hot_encoder = OneHotEncoder(sparse=False)\r\n",
        "\r\n",
        "data_model[['domingo','segunda', 'terca', 'quarta', 'quinta', 'sexta', 'sabado']] = one_hot_encoder.fit_transform(data_model['d_semana'].values.reshape(-1,1))\r\n",
        "data_model['feriado'] = [1 if any((x[0] == d and x[1] == m) for (_, d, m) in feriados) else 0 for x in list(zip(data_model.d_mes, data_model.mes))]\r\n",
        "data_model['vespera_feriado'] = [1 if any((x[0] == d and x[1] == m) for (_, d, m) in vesperas) else 0 for x in list(zip(data_model.d_mes, data_model.mes))]\r\n",
        "\r\n",
        "top100_linhas = data_model.linha.value_counts().index[:100]\r\n",
        "top100_linhas_data_model = data_model[data_model.linha.isin(top100_linhas)].loc[data['mes'] != 1]\r\n",
        "top100_linhas_data_model\r\n",
        "\r\n",
        "line_data_model = data_model.loc[data['linha'] == busline_filter].loc[data['mes'] != 1].copy()\r\n",
        "\r\n",
        "X = line_data_model.filter(feature_names, axis=1)\r\n",
        "y = line_data_model.validations_per_hour"
      ],
      "outputs": [],
      "execution_count": 29,
      "metadata": {
        "gather": {
          "logged": 1631329954067
        }
      },
      "id": "6bce8a86-d991-4364-96e9-dbd3e82084e3"
    },
    {
      "cell_type": "code",
      "source": [
        "#top100_linhas_data_model.to_csv('./top100.csv', index=False)\r\n",
        "top100_linhas_data_model"
      ],
      "outputs": [],
      "execution_count": 34,
      "metadata": {
        "jupyter": {
          "source_hidden": false,
          "outputs_hidden": false
        },
        "nteract": {
          "transient": {
            "deleting": false
          }
        },
        "gather": {
          "logged": 1631338994653
        }
      },
      "id": "cce410a4-2c61-4339-b028-4da9033a61df"
    },
    {
      "cell_type": "code",
      "source": [
        "#display(X)"
      ],
      "outputs": [],
      "execution_count": 6,
      "metadata": {
        "collapsed": true,
        "jupyter": {
          "source_hidden": false,
          "outputs_hidden": false
        },
        "nteract": {
          "transient": {
            "deleting": false
          }
        },
        "gather": {
          "logged": 1631324905752
        }
      },
      "id": "f2a98351-c864-49d0-a182-3cba98de2eb7"
    },
    {
      "cell_type": "code",
      "source": [
        "#display(y)"
      ],
      "outputs": [],
      "execution_count": 7,
      "metadata": {
        "collapsed": true,
        "jupyter": {
          "source_hidden": false,
          "outputs_hidden": false
        },
        "nteract": {
          "transient": {
            "deleting": false
          }
        },
        "gather": {
          "logged": 1631324905925
        }
      },
      "id": "cbda2dde-fe1d-4c91-823e-c1d4f1af5ec1"
    },
    {
      "cell_type": "markdown",
      "source": [
        "---------------------------------------------------------------------------- Fim Setup ----------------------------------------------------------------------------  \r\n",
        "# Criacao dos Modelos"
      ],
      "metadata": {
        "nteract": {
          "transient": {
            "deleting": false
          }
        }
      },
      "id": "72de803e-424a-42c5-9ba4-dab62dd89ab1"
    },
    {
      "cell_type": "code",
      "source": [
        "model_list = []"
      ],
      "outputs": [],
      "execution_count": 8,
      "metadata": {
        "collapsed": true,
        "jupyter": {
          "source_hidden": false,
          "outputs_hidden": false
        },
        "nteract": {
          "transient": {
            "deleting": false
          }
        },
        "gather": {
          "logged": 1631324906099
        }
      },
      "id": "f467e4f4-195c-4df1-b1c6-01a12cf5a2f8"
    },
    {
      "cell_type": "code",
      "source": [
        "def get_performance(model):\r\n",
        "    y_test_predict = model.predict(X_test)\r\n",
        "    mse = mean_squared_error(Y_test, y_test_predict)\r\n",
        "    rmse = (np.sqrt(mse))\r\n",
        "    r2 = r2_score(Y_test, y_test_predict)\r\n",
        "    mae = mean_absolute_error(Y_test, y_test_predict)\r\n",
        "    #mape = mean_absolute_percentage_error(Y_test, y_test_predict)\r\n",
        "    performance_scoring = [\r\n",
        "        r2,\r\n",
        "        rmse,\r\n",
        "        mae,\r\n",
        "        #mape\r\n",
        "    ]\r\n",
        "    #performance_scoring = pd.DataFrame(performance_scoring,columns=['Metrica', 'Score'])\r\n",
        "    #performance_scoring['Score'] = performance_scoring['Score'].astype('float64')\r\n",
        "    return performance_scoring"
      ],
      "outputs": [],
      "execution_count": 9,
      "metadata": {
        "collapsed": true,
        "jupyter": {
          "source_hidden": false,
          "outputs_hidden": false
        },
        "nteract": {
          "transient": {
            "deleting": false
          }
        },
        "gather": {
          "logged": 1631324906458
        }
      },
      "id": "871f0085-01e9-4694-9d3e-0210e260c87f"
    },
    {
      "cell_type": "markdown",
      "source": [
        "### Grid Search"
      ],
      "metadata": {
        "nteract": {
          "transient": {
            "deleting": false
          }
        }
      },
      "id": "4dae3130-a63c-4ac7-a471-a1e428809d7b"
    },
    {
      "cell_type": "code",
      "source": [
        "LinearRegressionModel = LinearRegression()\r\n",
        "RandomForestModel = RandomForestRegressor()"
      ],
      "outputs": [],
      "execution_count": 10,
      "metadata": {
        "collapsed": true,
        "jupyter": {
          "source_hidden": false,
          "outputs_hidden": false
        },
        "nteract": {
          "transient": {
            "deleting": false
          }
        },
        "gather": {
          "logged": 1631324906636
        }
      },
      "id": "2d8e04cf-b35c-4d00-8a55-c96e1863e9d5"
    },
    {
      "cell_type": "markdown",
      "source": [
        "#### Linear Regression Model Parameters"
      ],
      "metadata": {
        "nteract": {
          "transient": {
            "deleting": false
          }
        }
      },
      "id": "42cb2b42-702e-4ddb-943a-dd4d6e5b8f01"
    },
    {
      "cell_type": "code",
      "source": [
        "print(\"Linear Regression  Params ----> \")\r\n",
        "pprint(LinearRegressionModel.get_params())\r\n",
        "\r\n",
        "copy_X = [True, False]\r\n",
        "fit_intercept = [True, False]\r\n",
        "n_jobs = [2, 4, 6, 8]\r\n",
        "normalize = [True, False]\r\n",
        "\r\n",
        "\r\n",
        "# Create the random grid\r\n",
        "random_grid_linearregression = {'copy_X': copy_X, 'fit_intercept': fit_intercept, 'n_jobs': n_jobs, 'normalize': normalize}\r\n",
        "\r\n",
        "print(\"Random Grid - LINEAR REGRESSION\")\r\n",
        "pprint(random_grid_linearregression)"
      ],
      "outputs": [
        {
          "output_type": "stream",
          "name": "stdout",
          "text": "Linear Regression  Params ----> \n{'copy_X': True, 'fit_intercept': True, 'n_jobs': None, 'normalize': False}\nRandom Grid - LINEAR REGRESSION\n{'copy_X': [True, False],\n 'fit_intercept': [True, False],\n 'n_jobs': [2, 4, 6, 8],\n 'normalize': [True, False]}\n"
        }
      ],
      "execution_count": 11,
      "metadata": {
        "collapsed": true,
        "jupyter": {
          "source_hidden": false,
          "outputs_hidden": false
        },
        "nteract": {
          "transient": {
            "deleting": false
          }
        },
        "gather": {
          "logged": 1631324906904
        }
      },
      "id": "bc5966c3-11f4-43e0-8f23-fc3a3da37702"
    },
    {
      "cell_type": "markdown",
      "source": [
        "#### Random Forest Model Parameters"
      ],
      "metadata": {
        "nteract": {
          "transient": {
            "deleting": false
          }
        }
      },
      "id": "62959193-309d-45aa-9882-5c798cf85fcf"
    },
    {
      "cell_type": "code",
      "source": [
        "print(\"Random Forest Model Params ----> \")\r\n",
        "pprint(RandomForestModel.get_params())\r\n",
        "\r\n",
        "# Number of trees in random forest\r\n",
        "n_estimators = [int(x) for x in np.linspace(start = 20, stop = 1000, num = 10)]\r\n",
        "\r\n",
        "n_jobs = [2, 4, 6, 8]\r\n",
        "\r\n",
        "# Number of features to consider at every split\r\n",
        "max_features = ['auto', 'sqrt']\r\n",
        "\r\n",
        "# Maximum number of levels in tree\r\n",
        "max_depth = [int(x) for x in np.linspace(10, 110, num = 11)]\r\n",
        "max_depth.append(None)\r\n",
        "\r\n",
        "# Minimum number of samples required to split a node\r\n",
        "min_samples_split = [2, 5, 10]\r\n",
        "\r\n",
        "# Minimum number of samples required at each leaf node\r\n",
        "min_samples_leaf = [1, 2, 4]\r\n",
        "\r\n",
        "# Method of selecting samples for training each tree\r\n",
        "bootstrap = [True, False]\r\n",
        "\r\n",
        "# Create the random grid\r\n",
        "random_grid_randomforest = {'n_estimators': n_estimators,\r\n",
        "               'max_features': max_features,\r\n",
        "               'max_depth': max_depth,\r\n",
        "               'min_samples_split': min_samples_split,\r\n",
        "               'min_samples_leaf': min_samples_leaf,\r\n",
        "               'bootstrap': bootstrap,\r\n",
        "               'n_jobs': n_jobs}\r\n",
        "\r\n",
        "print(\"Random Grid - RANDOM FOREST\")\r\n",
        "pprint(random_grid_randomforest)"
      ],
      "outputs": [
        {
          "output_type": "stream",
          "name": "stdout",
          "text": "Random Forest Model Params ----> \n{'bootstrap': True,\n 'ccp_alpha': 0.0,\n 'criterion': 'mse',\n 'max_depth': None,\n 'max_features': 'auto',\n 'max_leaf_nodes': None,\n 'max_samples': None,\n 'min_impurity_decrease': 0.0,\n 'min_impurity_split': None,\n 'min_samples_leaf': 1,\n 'min_samples_split': 2,\n 'min_weight_fraction_leaf': 0.0,\n 'n_estimators': 100,\n 'n_jobs': None,\n 'oob_score': False,\n 'random_state': None,\n 'verbose': 0,\n 'warm_start': False}\nRandom Grid - RANDOM FOREST\n{'bootstrap': [True, False],\n 'max_depth': [10, 20, 30, 40, 50, 60, 70, 80, 90, 100, 110, None],\n 'max_features': ['auto', 'sqrt'],\n 'min_samples_leaf': [1, 2, 4],\n 'min_samples_split': [2, 5, 10],\n 'n_estimators': [20, 128, 237, 346, 455, 564, 673, 782, 891, 1000],\n 'n_jobs': [2, 4, 6, 8]}\n"
        }
      ],
      "execution_count": 12,
      "metadata": {
        "collapsed": true,
        "jupyter": {
          "source_hidden": false,
          "outputs_hidden": false
        },
        "nteract": {
          "transient": {
            "deleting": false
          }
        },
        "gather": {
          "logged": 1631324907096
        }
      },
      "id": "6485223f-efbf-48ee-9f5f-3b728871a9ed"
    },
    {
      "cell_type": "code",
      "source": [
        "# Random search of parameters, using 3 fold cross validation, \r\n",
        "# search across 100 different combinations, and use all available cores\r\n",
        "LinearRegressionModel = LinearRegression()\r\n",
        "RandomForestModel = RandomForestRegressor()\r\n",
        "gridsearch_result_randomforest = RandomizedSearchCV(estimator = RandomForestModel, param_distributions = random_grid_randomforest, n_iter = 100, cv = 3, verbose=2, random_state=42, n_jobs = -1)\r\n",
        "gridsearch_result_linearregression = RandomizedSearchCV(estimator = LinearRegressionModel, param_distributions = random_grid_linearregression, n_iter = 100, cv = 3, verbose=2, random_state=42, n_jobs = -1)\r\n",
        "\r\n",
        "# Fit the random search model\r\n",
        "X_train, X_test, Y_train, Y_test = train_test_split(X, y, test_size = 0.2, random_state=5)\r\n",
        "\r\n",
        "gridsearch_result_randomforest.fit(X_train, Y_train)\r\n",
        "gridsearch_result_linearregression.fit(X_train, Y_train)\r\n",
        "\r\n",
        "print(\"Random Forest Best Parameters -----> \")\r\n",
        "pprint(gridsearch_result_randomforest.best_params_)\r\n",
        "\r\n",
        "print(\"Linear Regression Best Parameters -----> \")\r\n",
        "pprint(gridsearch_result_linearregression.best_params_)\r\n",
        "\r\n",
        "gridsearched_random_randomforest = gridsearch_result_randomforest.best_estimator_\r\n",
        "gridsearch_random_linearregression = gridsearch_result_linearregression.best_estimator_\r\n",
        "\r\n",
        "default_linearregression_model = LinearRegressionModel.fit(X_train, Y_train)\r\n",
        "default_randomforest_model = RandomForestModel.fit(X_train, Y_train)\r\n"
      ],
      "outputs": [
        {
          "output_type": "stream",
          "name": "stdout",
          "text": "Fitting 3 folds for each of 100 candidates, totalling 300 fits\nFitting 3 folds for each of 32 candidates, totalling 96 fits\nRandom Forest Best Parameters -----> \n{'bootstrap': True,\n 'max_depth': 110,\n 'max_features': 'auto',\n 'min_samples_leaf': 1,\n 'min_samples_split': 2,\n 'n_estimators': 237,\n 'n_jobs': 2}\nLinear Regression Best Parameters -----> \n{'copy_X': True, 'fit_intercept': False, 'n_jobs': 2, 'normalize': True}\n"
        },
        {
          "output_type": "stream",
          "name": "stderr",
          "text": "[Parallel(n_jobs=-1)]: Using backend LokyBackend with 4 concurrent workers.\n[Parallel(n_jobs=-1)]: Done  33 tasks      | elapsed:   34.2s\n/anaconda/envs/azureml_py38/lib/python3.8/site-packages/joblib/externals/loky/process_executor.py:703: UserWarning: A worker stopped while some jobs were given to the executor. This can be caused by a too short worker timeout or by a memory leak.\n  warnings.warn(\n[Parallel(n_jobs=-1)]: Done 154 tasks      | elapsed:  3.1min\n[Parallel(n_jobs=-1)]: Done 300 out of 300 | elapsed:  5.5min finished\n/anaconda/envs/azureml_py38/lib/python3.8/site-packages/sklearn/model_selection/_search.py:277: UserWarning: The total space of parameters 32 is smaller than n_iter=100. Running 32 iterations. For exhaustive searches, use GridSearchCV.\n  warnings.warn(\n[Parallel(n_jobs=-1)]: Using backend LokyBackend with 4 concurrent workers.\n[Parallel(n_jobs=-1)]: Done  44 tasks      | elapsed:    0.8s\n[Parallel(n_jobs=-1)]: Done  96 out of  96 | elapsed:    0.9s finished\n"
        }
      ],
      "execution_count": 13,
      "metadata": {
        "collapsed": true,
        "jupyter": {
          "source_hidden": false,
          "outputs_hidden": false
        },
        "nteract": {
          "transient": {
            "deleting": false
          }
        },
        "gather": {
          "logged": 1631325242743
        }
      },
      "id": "f775c71d-f8ed-459b-a4e3-1569d6fa6a00"
    },
    {
      "cell_type": "code",
      "source": [
        "sample = X.sample(n=1)\r\n",
        "sample"
      ],
      "outputs": [
        {
          "output_type": "execute_result",
          "execution_count": 14,
          "data": {
            "text/plain": "        hour_sin  hour_cos  d_mes  d_ano  mes  semana_do_mes  domingo  \\\n988552 -0.398401 -0.917211     30    274    9              4      0.0   \n\n        segunda  terca  quarta  quinta  sexta  sabado  feriado  \\\n988552      0.0    1.0     0.0     0.0    0.0     0.0        0   \n\n        vespera_feriado  \n988552                0  ",
            "text/html": "<div>\n<style scoped>\n    .dataframe tbody tr th:only-of-type {\n        vertical-align: middle;\n    }\n\n    .dataframe tbody tr th {\n        vertical-align: top;\n    }\n\n    .dataframe thead th {\n        text-align: right;\n    }\n</style>\n<table border=\"1\" class=\"dataframe\">\n  <thead>\n    <tr style=\"text-align: right;\">\n      <th></th>\n      <th>hour_sin</th>\n      <th>hour_cos</th>\n      <th>d_mes</th>\n      <th>d_ano</th>\n      <th>mes</th>\n      <th>semana_do_mes</th>\n      <th>domingo</th>\n      <th>segunda</th>\n      <th>terca</th>\n      <th>quarta</th>\n      <th>quinta</th>\n      <th>sexta</th>\n      <th>sabado</th>\n      <th>feriado</th>\n      <th>vespera_feriado</th>\n    </tr>\n  </thead>\n  <tbody>\n    <tr>\n      <th>988552</th>\n      <td>-0.398401</td>\n      <td>-0.917211</td>\n      <td>30</td>\n      <td>274</td>\n      <td>9</td>\n      <td>4</td>\n      <td>0.0</td>\n      <td>0.0</td>\n      <td>1.0</td>\n      <td>0.0</td>\n      <td>0.0</td>\n      <td>0.0</td>\n      <td>0.0</td>\n      <td>0</td>\n      <td>0</td>\n    </tr>\n  </tbody>\n</table>\n</div>"
          },
          "metadata": {}
        }
      ],
      "execution_count": 14,
      "metadata": {
        "collapsed": true,
        "jupyter": {
          "source_hidden": false,
          "outputs_hidden": false
        },
        "nteract": {
          "transient": {
            "deleting": false
          }
        },
        "gather": {
          "logged": 1631325243109
        }
      },
      "id": "b97a4671-b20c-4109-bf85-0e1d8df65a2c"
    },
    {
      "cell_type": "code",
      "source": [
        "print(\"###  1 Modelo Por Linha (dado completo de treino)\")\r\n",
        "\r\n",
        "performance_default_linearregression_model = get_performance(default_linearregression_model)\r\n",
        "performance_default_randomforest_model = get_performance(default_randomforest_model)\r\n",
        "performance_gridsearched_linearregression_model = get_performance(gridsearch_random_linearregression)\r\n",
        "performance_gridsearched_randomforest_model = get_performance(gridsearched_random_randomforest)\r\n",
        "\r\n",
        "print(\"\\n----------------------------------------------------\\n\")\r\n",
        "print('Regressao Linear [DEFAULT]: \\n', performance_default_linearregression_model)\r\n",
        "print(\"\\n----------------------------------------------------\\n\")\r\n",
        "print('Random Forest [DEFAULT]: \\n', performance_default_randomforest_model)\r\n",
        "print(\"\\n----------------------------------------------------\\n\")\r\n",
        "print('Regressao Linear [GRID SEARCH]: \\n', performance_gridsearched_linearregression_model)\r\n",
        "print(\"\\n----------------------------------------------------\\n\")\r\n",
        "print('Random Forest [GRID SEARCH]: \\n', performance_gridsearched_randomforest_model)\r\n",
        "print(\"\\n----------------------------------------------------\\n\")\r\n",
        "\r\n",
        "print(\"\\nUtilizando sample aleatorio de dado para teste de previsao: \")\r\n",
        "\r\n",
        "predict_res = default_linearregression_model.predict(sample)\r\n",
        "\r\n",
        "print(\"Regressao Linear -> resultado do predict de test: \", predict_res)\r\n",
        "\r\n",
        "predict_res2 = default_randomforest_model.predict(sample)\r\n",
        "print(\"Random Forest -> resultado do predict de test: \", predict_res2)\r\n",
        "\r\n",
        "random_res = gridsearch_random_linearregression.predict(sample)\r\n",
        "print(\"Regressao Linear Best Grid Searched -> resultado do predict de test: \", predict_res2)\r\n",
        "\r\n",
        "random_res = gridsearched_random_randomforest.predict(sample)\r\n",
        "print(\"Random Forest Best Grid Searched -> resultado do predict de test: \", predict_res2)\r\n",
        "\r\n",
        "display(data_model.loc[sample.index[0]:sample.index[0]])\r\n",
        "\r\n",
        "print('LINHA UTILIZADA PARA OS TESTES: ', busline_filter)\r\n",
        "\r\n",
        "performance_total = [performance_default_linearregression_model,\r\n",
        "    performance_default_randomforest_model,\r\n",
        "    performance_gridsearched_linearregression_model,\r\n",
        "    performance_gridsearched_randomforest_model]\r\n",
        "\r\n",
        "performance_total = pd.DataFrame.from_records(performance_total, columns=['R2', 'RMSE', 'MAE'], \r\n",
        "    index=['LinearReg Default', 'RandomForest Default', 'LinearReg GridSearched', 'RandomForest GridSearched'])\r\n",
        "performance_total"
      ],
      "outputs": [
        {
          "output_type": "stream",
          "name": "stdout",
          "text": "###  1 Modelo Por Linha (dado completo de treino)\n\n----------------------------------------------------\n\nRegressao Linear [DEFAULT]: \n [0.38108258495687986, 212.46178497824638, 158.53020063087848]\n\n----------------------------------------------------\n\nRandom Forest [DEFAULT]: \n [0.9764906381747931, 41.40806099698248, 29.89730762161815]\n\n----------------------------------------------------\n\nRegressao Linear [GRID SEARCH]: \n [0.3810825849568801, 212.46178497824636, 158.53020063087783]\n\n----------------------------------------------------\n\nRandom Forest [GRID SEARCH]: \n [0.9770358053975098, 40.925131503206515, 29.584536267640864]\n\n----------------------------------------------------\n\n\nUtilizando sample aleatorio de dado para teste de previsao: \nRegressao Linear -> resultado do predict de test:  [539.37036208]\nRandom Forest -> resultado do predict de test:  [475.57]\nRegressao Linear Best Grid Searched -> resultado do predict de test:  [475.57]\nRandom Forest Best Grid Searched -> resultado do predict de test:  [475.57]\n"
        },
        {
          "output_type": "display_data",
          "data": {
            "text/plain": "        linha            data_hora  validations_per_hour  d_semana  hour_sin  \\\n988552     41  2020-09-30 13:00:00                   477         2 -0.398401   \n\n        hour_cos  hora  d_mes  d_ano  mes  semana_do_mes  domingo  segunda  \\\n988552 -0.917211    13     30    274    9              4      0.0      0.0   \n\n        terca  quarta  quinta  sexta  sabado  feriado  vespera_feriado  \n988552    1.0     0.0     0.0    0.0     0.0        0                0  ",
            "text/html": "<div>\n<style scoped>\n    .dataframe tbody tr th:only-of-type {\n        vertical-align: middle;\n    }\n\n    .dataframe tbody tr th {\n        vertical-align: top;\n    }\n\n    .dataframe thead th {\n        text-align: right;\n    }\n</style>\n<table border=\"1\" class=\"dataframe\">\n  <thead>\n    <tr style=\"text-align: right;\">\n      <th></th>\n      <th>linha</th>\n      <th>data_hora</th>\n      <th>validations_per_hour</th>\n      <th>d_semana</th>\n      <th>hour_sin</th>\n      <th>hour_cos</th>\n      <th>hora</th>\n      <th>d_mes</th>\n      <th>d_ano</th>\n      <th>mes</th>\n      <th>semana_do_mes</th>\n      <th>domingo</th>\n      <th>segunda</th>\n      <th>terca</th>\n      <th>quarta</th>\n      <th>quinta</th>\n      <th>sexta</th>\n      <th>sabado</th>\n      <th>feriado</th>\n      <th>vespera_feriado</th>\n    </tr>\n  </thead>\n  <tbody>\n    <tr>\n      <th>988552</th>\n      <td>41</td>\n      <td>2020-09-30 13:00:00</td>\n      <td>477</td>\n      <td>2</td>\n      <td>-0.398401</td>\n      <td>-0.917211</td>\n      <td>13</td>\n      <td>30</td>\n      <td>274</td>\n      <td>9</td>\n      <td>4</td>\n      <td>0.0</td>\n      <td>0.0</td>\n      <td>1.0</td>\n      <td>0.0</td>\n      <td>0.0</td>\n      <td>0.0</td>\n      <td>0.0</td>\n      <td>0</td>\n      <td>0</td>\n    </tr>\n  </tbody>\n</table>\n</div>"
          },
          "metadata": {}
        },
        {
          "output_type": "stream",
          "name": "stdout",
          "text": "LINHA UTILIZADA PARA OS TESTES:  41\n"
        },
        {
          "output_type": "execute_result",
          "execution_count": 15,
          "data": {
            "text/plain": "                                 R2        RMSE         MAE\nLinearReg Default          0.381083  212.461785  158.530201\nRandomForest Default       0.976491   41.408061   29.897308\nLinearReg GridSearched     0.381083  212.461785  158.530201\nRandomForest GridSearched  0.977036   40.925132   29.584536",
            "text/html": "<div>\n<style scoped>\n    .dataframe tbody tr th:only-of-type {\n        vertical-align: middle;\n    }\n\n    .dataframe tbody tr th {\n        vertical-align: top;\n    }\n\n    .dataframe thead th {\n        text-align: right;\n    }\n</style>\n<table border=\"1\" class=\"dataframe\">\n  <thead>\n    <tr style=\"text-align: right;\">\n      <th></th>\n      <th>R2</th>\n      <th>RMSE</th>\n      <th>MAE</th>\n    </tr>\n  </thead>\n  <tbody>\n    <tr>\n      <th>LinearReg Default</th>\n      <td>0.381083</td>\n      <td>212.461785</td>\n      <td>158.530201</td>\n    </tr>\n    <tr>\n      <th>RandomForest Default</th>\n      <td>0.976491</td>\n      <td>41.408061</td>\n      <td>29.897308</td>\n    </tr>\n    <tr>\n      <th>LinearReg GridSearched</th>\n      <td>0.381083</td>\n      <td>212.461785</td>\n      <td>158.530201</td>\n    </tr>\n    <tr>\n      <th>RandomForest GridSearched</th>\n      <td>0.977036</td>\n      <td>40.925132</td>\n      <td>29.584536</td>\n    </tr>\n  </tbody>\n</table>\n</div>"
          },
          "metadata": {}
        }
      ],
      "execution_count": 15,
      "metadata": {
        "gather": {
          "logged": 1631325243354
        }
      },
      "id": "19ec5db2-903e-4d5e-ac06-e218249b1bdd"
    },
    {
      "cell_type": "markdown",
      "source": [
        "## BAGGING"
      ],
      "metadata": {
        "nteract": {
          "transient": {
            "deleting": false
          }
        }
      },
      "id": "4b8fd889-6b65-486c-8d1a-6b7f0d298400"
    },
    {
      "cell_type": "code",
      "source": [
        "#X_train, X_test, Y_train, Y_test = train_test_split(X, y, test_size = 0.2, random_state=5)\r\n",
        "warnings.filterwarnings(\"ignore\") # To ignore warnings\r\n",
        "n_jobs = -1 # This parameter conrols the parallel processing. -1 means using all processors.\r\n",
        "random_state = 42 # This parameter controls the randomness of the data. Using some int value to get same results everytime this code is run\r\n",
        "models_scores = [] # To store model scores               \r\n",
        "\r\n",
        "def bagging_model(estimator):\r\n",
        "    \"\"\"\r\n",
        "    I/P\r\n",
        "    estimator: The base estimator from which the ensemble is grown.\r\n",
        "    O/P\r\n",
        "    br_y_pred: Predictions on test data for the base estimator.\r\n",
        "    \r\n",
        "    \"\"\"\r\n",
        "    regr = BaggingRegressor(base_estimator=estimator,\r\n",
        "                            n_estimators=10,\r\n",
        "                            max_samples=1.0,\r\n",
        "                            bootstrap=True, # Samples are drawn with replacement\r\n",
        "                            n_jobs= n_jobs,\r\n",
        "                            random_state=random_state).fit(X_train, Y_train)\r\n",
        "\r\n",
        "    br_y_pred = regr.predict(X_test)\r\n",
        "\r\n",
        "    performance = get_performance(regr)\r\n",
        "    \r\n",
        "    print(f'Performance for base estimator {regr.base_estimator_} = {performance}\\n')\r\n",
        "\r\n",
        "    return regr, performance\r\n",
        "\r\n",
        "LinearRegressionModelPipeline = make_pipeline(LinearRegression())\r\n",
        "RandomForestModelPipeline = make_pipeline(RandomForestRegressor())\r\n",
        "\r\n",
        "bagging_lr_model, performance_bagging_lr_model = bagging_model(LinearRegressionModelPipeline)\r\n",
        "bagging_rf_model, performance_bagging_rf_model = bagging_model(RandomForestModelPipeline)\r\n",
        "\r\n",
        "df2 = pd.DataFrame([performance_bagging_lr_model, performance_bagging_rf_model], columns=['R2','RMSE','MAE'], \r\n",
        "    index=['LinearRegression Bagging', 'RandomForest Bagging'])\r\n",
        "performance_total = pd.concat([df2, performance_total])\r\n"
      ],
      "outputs": [
        {
          "output_type": "stream",
          "name": "stdout",
          "text": "Performance for base estimator Pipeline(memory=None,\n         steps=[('linearregression',\n                 LinearRegression(copy_X=True, fit_intercept=True, n_jobs=None,\n                                  normalize=False))],\n         verbose=False) = [0.38046972703661563, 212.56694979259984, 158.72459287274364]\n\nPerformance for base estimator Pipeline(memory=None,\n         steps=[('randomforestregressor',\n                 RandomForestRegressor(bootstrap=True, ccp_alpha=0.0,\n                                       criterion='mse', max_depth=None,\n                                       max_features='auto', max_leaf_nodes=None,\n                                       max_samples=None,\n                                       min_impurity_decrease=0.0,\n                                       min_impurity_split=None,\n                                       min_samples_leaf=1, min_samples_split=2,\n                                       min_weight_fraction_leaf=0.0,\n                                       n_estimators=100, n_jobs=None,\n                                       oob_score=False, random_state=None,\n                                       verbose=0, warm_start=False))],\n         verbose=False) = [0.9760571367115033, 41.78808959901574, 29.900033053687203]\n\n"
        }
      ],
      "execution_count": 16,
      "metadata": {
        "collapsed": true,
        "jupyter": {
          "source_hidden": false,
          "outputs_hidden": false
        },
        "nteract": {
          "transient": {
            "deleting": false
          }
        },
        "gather": {
          "logged": 1631325251458
        }
      },
      "id": "7808b1b3-dc28-4d3f-8b14-15781bd7f294"
    },
    {
      "cell_type": "markdown",
      "source": [
        "# STACKING"
      ],
      "metadata": {
        "nteract": {
          "transient": {
            "deleting": false
          }
        }
      },
      "id": "731700fd-b25f-4051-a677-e5e8cdf17363"
    },
    {
      "cell_type": "code",
      "source": [
        "\r\n",
        "estimators = [ ('random_forest', RandomForestModelPipeline), ('linear_reg', LinearRegressionModelPipeline)]\r\n",
        "\r\n",
        "stack = StackingRegressor(estimators=estimators, final_estimator= RandomForestModelPipeline, cv= 5, n_jobs= n_jobs, passthrough = True)\r\n",
        "\r\n",
        "stack.fit(X_train, Y_train)\r\n",
        "\r\n",
        "performance = get_performance(stack)\r\n",
        "\r\n",
        "df2 = pd.DataFrame([performance], columns=['R2','RMSE','MAE'], \r\n",
        "    index=['Stacking Regressors'])\r\n",
        "\r\n",
        "performance_total = pd.concat([df2, performance_total])\r\n"
      ],
      "outputs": [],
      "execution_count": 17,
      "metadata": {
        "collapsed": true,
        "jupyter": {
          "source_hidden": false,
          "outputs_hidden": false
        },
        "nteract": {
          "transient": {
            "deleting": false
          }
        },
        "gather": {
          "logged": 1631325258269
        }
      },
      "id": "47711335-0579-4ce4-a2a8-3dbdd690125c"
    },
    {
      "cell_type": "markdown",
      "source": [
        "# BOOSTING"
      ],
      "metadata": {
        "nteract": {
          "transient": {
            "deleting": false
          }
        }
      },
      "id": "59d186e1-0c00-4178-9028-d5ba275f5563"
    },
    {
      "cell_type": "code",
      "source": [
        "gradient_boosting_regressor= GradientBoostingRegressor(n_estimators=3000, learning_rate=0.05,\r\n",
        "                                   max_depth=4, max_features='sqrt',\r\n",
        "                                   min_samples_leaf=15, min_samples_split=10, \r\n",
        "                                   loss='huber', random_state = random_state)\r\n",
        "\r\n",
        "gradient_boosting_regressor.fit(X_train, Y_train)\r\n",
        "\r\n",
        "performance = get_performance(gradient_boosting_regressor)\r\n",
        "\r\n",
        "df2 = pd.DataFrame([performance], columns=['R2','RMSE','MAE'], \r\n",
        "    index=['GradientBoostingRegressor'])\r\n",
        "\r\n",
        "performance_total = pd.concat([df2, performance_total])\r\n"
      ],
      "outputs": [],
      "execution_count": 18,
      "metadata": {
        "collapsed": true,
        "jupyter": {
          "source_hidden": false,
          "outputs_hidden": false
        },
        "nteract": {
          "transient": {
            "deleting": false
          }
        },
        "gather": {
          "logged": 1631325271756
        }
      },
      "id": "b773e04f-0613-494a-b113-f7c357b0fb39"
    },
    {
      "cell_type": "code",
      "source": [
        "print('PERFORMANCE DOS MODELOS PARA A LINHA: ', busline_filter)\n",
        "performance_total.sort_values('R2', ascending=False)"
      ],
      "outputs": [
        {
          "output_type": "stream",
          "name": "stdout",
          "text": "PERFORMANCE DOS MODELOS PARA A LINHA:  41\n"
        },
        {
          "output_type": "execute_result",
          "execution_count": 19,
          "data": {
            "text/plain": "                                 R2        RMSE         MAE\nRandomForest GridSearched  0.977036   40.925132   29.584536\nRandomForest Default       0.976491   41.408061   29.897308\nStacking Regressors        0.976352   41.529853   29.713498\nRandomForest Bagging       0.976057   41.788090   29.900033\nGradientBoostingRegressor  0.973293   44.134100   31.719544\nLinearReg GridSearched     0.381083  212.461785  158.530201\nLinearReg Default          0.381083  212.461785  158.530201\nLinearRegression Bagging   0.380470  212.566950  158.724593",
            "text/html": "<div>\n<style scoped>\n    .dataframe tbody tr th:only-of-type {\n        vertical-align: middle;\n    }\n\n    .dataframe tbody tr th {\n        vertical-align: top;\n    }\n\n    .dataframe thead th {\n        text-align: right;\n    }\n</style>\n<table border=\"1\" class=\"dataframe\">\n  <thead>\n    <tr style=\"text-align: right;\">\n      <th></th>\n      <th>R2</th>\n      <th>RMSE</th>\n      <th>MAE</th>\n    </tr>\n  </thead>\n  <tbody>\n    <tr>\n      <th>RandomForest GridSearched</th>\n      <td>0.977036</td>\n      <td>40.925132</td>\n      <td>29.584536</td>\n    </tr>\n    <tr>\n      <th>RandomForest Default</th>\n      <td>0.976491</td>\n      <td>41.408061</td>\n      <td>29.897308</td>\n    </tr>\n    <tr>\n      <th>Stacking Regressors</th>\n      <td>0.976352</td>\n      <td>41.529853</td>\n      <td>29.713498</td>\n    </tr>\n    <tr>\n      <th>RandomForest Bagging</th>\n      <td>0.976057</td>\n      <td>41.788090</td>\n      <td>29.900033</td>\n    </tr>\n    <tr>\n      <th>GradientBoostingRegressor</th>\n      <td>0.973293</td>\n      <td>44.134100</td>\n      <td>31.719544</td>\n    </tr>\n    <tr>\n      <th>LinearReg GridSearched</th>\n      <td>0.381083</td>\n      <td>212.461785</td>\n      <td>158.530201</td>\n    </tr>\n    <tr>\n      <th>LinearReg Default</th>\n      <td>0.381083</td>\n      <td>212.461785</td>\n      <td>158.530201</td>\n    </tr>\n    <tr>\n      <th>LinearRegression Bagging</th>\n      <td>0.380470</td>\n      <td>212.566950</td>\n      <td>158.724593</td>\n    </tr>\n  </tbody>\n</table>\n</div>"
          },
          "metadata": {}
        }
      ],
      "execution_count": 19,
      "metadata": {
        "collapsed": true,
        "jupyter": {
          "source_hidden": false,
          "outputs_hidden": false
        },
        "nteract": {
          "transient": {
            "deleting": false
          }
        },
        "gather": {
          "logged": 1631325272116
        }
      },
      "id": "19ecda2f-975d-407f-915e-86fb10e9f6ee"
    },
    {
      "cell_type": "markdown",
      "source": [
        "### Todos os modelos treinados dentro de *model_list*"
      ],
      "metadata": {
        "nteract": {
          "transient": {
            "deleting": false
          }
        }
      },
      "id": "c9ecde7a-fa59-465a-937f-a49031e1f9cf"
    },
    {
      "cell_type": "code",
      "source": [],
      "outputs": [],
      "execution_count": null,
      "metadata": {
        "jupyter": {
          "source_hidden": false,
          "outputs_hidden": false
        },
        "nteract": {
          "transient": {
            "deleting": false
          }
        },
        "gather": {
          "logged": 1630809400245
        }
      },
      "id": "9e3c923e-ec1f-4a05-b4b8-941a4a77dc7e"
    },
    {
      "cell_type": "code",
      "source": [
        "model_list = [\n",
        "    default_linearregression_model,\n",
        "    default_randomforest_model,\n",
        "    gridsearch_result_linearregression,\n",
        "    gridsearch_result_randomforest,\n",
        "    bagging_lr_model,\n",
        "    bagging_rf_model,\n",
        "    stack,\n",
        "    gradient_boosting_regressor\n",
        "]"
      ],
      "outputs": [],
      "execution_count": 20,
      "metadata": {
        "collapsed": true,
        "jupyter": {
          "source_hidden": false,
          "outputs_hidden": false
        },
        "nteract": {
          "transient": {
            "deleting": false
          }
        },
        "gather": {
          "logged": 1631325272341
        }
      },
      "id": "11b581ce-baa4-4cb1-9fef-cc50b1c59c0a"
    },
    {
      "cell_type": "markdown",
      "source": [
        "### Treinar com (N-Y) meses, Prever mes (N)"
      ],
      "metadata": {
        "nteract": {
          "transient": {
            "deleting": false
          }
        }
      },
      "id": "a967473b-956b-41f9-bb16-1fdc58690c81"
    },
    {
      "cell_type": "code",
      "source": [
        "#X_train, Y_train\r\n",
        "#X_test, Y_test\r\n",
        "#X_train, X_test, Y_train, Y_test = train_test_split(X, y, test_size = 0.2, random_state=5)\r\n",
        "# X = line_data_model.filter(feature_names, axis=1)\r\n",
        "# y = line_data_model.validations_per_hour\r\n",
        "\r\n",
        "#quantos meses (comecando do final do dado) vou prever\r\n",
        "horizonte_de_previsao = 1\r\n",
        "meses = line_data_model.mes.sort_values().unique()\r\n",
        "horizonte_de_treinamento = meses[:meses.size - horizonte_de_previsao]\r\n",
        "meses_de_previsao = meses[meses.size - horizonte_de_previsao:] \r\n",
        "print(horizonte_de_treinamento)\r\n",
        "print(meses_de_previsao)\r\n",
        "df_treinamento = line_data_model[line_data_model.mes.isin(horizonte_de_treinamento)].copy()\r\n",
        "df_previsao = line_data_model[line_data_model.mes.isin(meses_de_previsao)].copy()\r\n",
        "df_prev = df_previsao.filter(feature_names, axis = 1)\r\n",
        "df_results = df_previsao.filter('validations_per_hour', axis = 1)\r\n",
        "\r\n",
        "X = df_treinamento.filter(feature_names, axis=1)\r\n",
        "y = df_treinamento.validations_per_hour\r\n",
        "X_train, X_test, Y_train, Y_test = train_test_split(X, y, test_size = 0.2, random_state=5)\r\n",
        "\r\n",
        "\r\n",
        "print(busline_filter)\r\n",
        "# print(df_treinamento)\r\n",
        "print(df_previsao.head())\r\n",
        "\r\n",
        "# model_list = [\r\n",
        "#     default_linearregression_model,\r\n",
        "#     default_randomforest_model,\r\n",
        "#     gridsearch_result_linearregression,\r\n",
        "#     gridsearch_result_randomforest,\r\n",
        "#     bagging_lr_model,\r\n",
        "#     bagging_rf_model,\r\n",
        "#     stack,\r\n",
        "#     gradient_boosting_regressor\r\n",
        "# ]\r\n",
        "\r\n",
        "predictions = [[],[],[],[],[],[],[],[]]\r\n",
        "performances = [[],[],[],[],[],[],[],[]]\r\n",
        "\r\n",
        "for i, model in enumerate(model_list):\r\n",
        "    model.fit(X_train, Y_train)\r\n",
        "    performances[i].append(get_performance(model))\r\n",
        "\r\n",
        "    for index, row in df_prev.iterrows():\r\n",
        "        predictions[i].append(model.predict([row])[0])\r\n",
        "\r\n",
        "print(predictions[0])\r\n"
      ],
      "outputs": [
        {
          "output_type": "stream",
          "name": "stdout",
          "text": "[ 3  4  5  6  7  8  9 10 11]\n[12]\n41\n         linha            data_hora  validations_per_hour  d_semana  hour_sin  \\\n1270969     41  2020-12-01 00:00:00                     9         1  0.000000   \n1276203     41  2020-12-01 04:00:00                    55         1  0.887885   \n1276204     41  2020-12-01 05:00:00                   501         1  0.979084   \n1276205     41  2020-12-01 06:00:00                   935         1  0.997669   \n1276206     41  2020-12-01 07:00:00                  1030         1  0.942261   \n\n         hour_cos  hora  d_mes  d_ano  mes  semana_do_mes  domingo  segunda  \\\n1270969  1.000000     0      1    336   12              0      0.0      1.0   \n1276203  0.460065     4      1    336   12              0      0.0      1.0   \n1276204  0.203456     5      1    336   12              0      0.0      1.0   \n1276205 -0.068242     6      1    336   12              0      0.0      1.0   \n1276206 -0.334880     7      1    336   12              0      0.0      1.0   \n\n         terca  quarta  quinta  sexta  sabado  feriado  vespera_feriado  \n1270969    0.0     0.0     0.0    0.0     0.0        0                0  \n1276203    0.0     0.0     0.0    0.0     0.0        0                0  \n1276204    0.0     0.0     0.0    0.0     0.0        0                0  \n1276205    0.0     0.0     0.0    0.0     0.0        0                0  \n1276206    0.0     0.0     0.0    0.0     0.0        0                0  \nFitting 3 folds for each of 32 candidates, totalling 96 fits\nFitting 3 folds for each of 100 candidates, totalling 300 fits\n[350.0221656529003, 377.56249114881496, 409.8512817024749, 448.5649410232569, 490.832254102546, 533.5184476893425, 573.4576820816552, 607.6878469744462, 633.6702476302017, 649.4778882538586, 653.9383884555042, 646.7209333406128, 628.3608085373963, 600.2197005105264, 564.3847065053534, 523.5135440930518, 480.63744041661505, 438.93631994060127, 401.5029640007848, 371.11363336101306, 350.0221656529003, 352.1066110070867, 379.64693650300137, 411.93572705666134, 450.6493863774433, 492.91669945673243, 535.6028930435289, 575.5421274358416, 609.7722923286326, 635.7546929843882, 651.562333608045, 656.0228338096906, 648.8053786947992, 630.4452538915828, 602.3041458647128, 566.4691518595398, 525.5979894472382, 482.72188577080146, 441.0207652947877, 403.5874093549712, 373.1980787151995, 352.1066110070867, 336.52642588452557, 364.0667513804402, 396.3555419341002, 435.06920125488216, 477.3365143341713, 520.0227079209677, 559.9619423132805, 594.1921072060715, 620.174507861827, 635.9821484854839, 640.4426486871295, 633.225193572238, 614.8650687690211, 586.7239607421517, 550.8889667369787, 510.01780432467706, 467.1417006482403, 425.44058017222653, 388.00722423241007, 357.6178935926383, 336.52642588452557, 335.87998149448674, 275.57736867014876, 307.8661592238087, 346.5798185445907, 388.8471316238798, 431.53332521067625, 471.47255960298855, 505.70272449577953, 531.6851251515355, 547.4927657751924, 551.953265976838, 544.7358108619466, 526.3756860587297, 498.23457803185977, 462.39958402668674, 421.5284216143856, 378.6523179379484, 336.95119746193507, 299.5178415221186, 269.1285108823464, 248.03704317423365, 120.36637069108406, 147.90669618699917, 180.19548674065868, 218.9091460614411, 261.17645914073023, 303.8626527275262, 343.80188711983897, 378.03205201262995, 404.0144526683855, 419.82209329204284, 424.28259349368795, 417.065138378797, 398.7050135755801, 370.5639055487102, 334.72891154353715, 293.857749131236, 250.9816454547988, 209.28052497878548, 171.84716903896856, 141.45783839919682, 120.36637069108406, 334.17866821459285, 361.718993710508, 394.0077842641675, 432.72144358494995, 474.9887566642391, 517.674950251035, 557.6141846433478, 591.8443495361388, 617.8267501918943, 633.6343908155517, 638.0948910171968, 630.8774359023058, 612.5173110990889, 584.376203072219, 548.541209067046, 507.6700466547444, 464.79394297830765, 423.09282250229387, 385.6594665624774, 355.27013592270566, 334.17866821459285, 340.4550455401153, 367.9953710360304, 400.2841615896899, 438.99782091047234, 481.26513398976147, 523.9513275765574, 563.8905619688702, 598.1207268616612, 624.1031275174167, 639.9107681410736, 644.3712683427192, 637.1538132278282, 618.7936884246113, 590.6525803977414, 554.8175863925684, 513.9464239802668, 471.07032030383004, 429.36919982781626, 391.9358438879998, 361.54651324822805, 340.4550455401153, 342.5394908943017, 370.07981639021637, 402.36860694387633, 441.0822662646583, 483.3495793439474, 526.0357729307439, 565.9750073230566, 600.2051722158476, 626.1875728716032, 641.99521349526, 646.4557136969056, 639.2382585820142, 620.8781337787977, 592.7370257519278, 556.9020317467548, 516.0308693344532, 473.15476565801646, 431.4536451820027, 394.0202892421862, 363.63095860241447, 342.5394908943017, 326.95930577174056, 354.4996312676552, 386.7884218213152, 425.50208114209715, 467.7693942213863, 510.4555878081827, 550.3948222004955, 584.6249870932864, 610.607387749042, 626.4150283726989, 630.8755285743445, 623.658073459453, 605.2979486562366, 577.1568406293667, 541.3218466241937, 500.45068421189205, 457.5745805354553, 415.8734600594415, 378.44010411962506, 348.0507734798533, 326.95930577174056, 326.31286138170174, 353.8531868776164, 386.14197743127636, 424.85563675205833, 467.12294983134746, 509.8091434181439, 549.7483778104562, 583.9785427032472, 609.9609433590032, 625.7685839826601, 630.2290841843056, 623.0116290694142, 604.6515042661973, 576.5103962393279, 540.6754022341548, 499.80423982185323, 456.9281361454165, 415.2270156694027, 377.79365972958624, 347.4043290898145, 326.31286138170174, 238.46992306144864, 266.01024855736375, 298.2990391110237, 337.0126984318057, 379.2800115110948, 421.96620509789125, 461.90543949020355, 496.13560438299453, 522.1180050387505, 537.9256456624074, 542.386145864053, 535.1686907491616, 516.8085659459447, 488.6674579190752, 452.8324639139022, 411.9613015016006, 369.0851978251634, 327.38407734915006, 289.9507214093336, 259.56139076956185, 238.4699230614491, 110.79925057829905, 138.33957607421416, 170.62836662787413, 209.3420259486561, 251.60933902794523, 294.29553261474166, 334.23476700705396, 368.46493189984494, 394.4473325556005, 410.25497317925783, 414.7154733809034, 407.49801826601197, 389.1378934627951, 360.9967854359252, 325.16179143075215, 284.290629018451, 241.4145253420138, 199.71340486600047, 162.280048926184, 131.8907182864118, 110.79925057829905, 324.61154810180784, 352.151873597723, 384.4406641513825, 423.15432347216495, 465.42163655145407, 508.10783013825005, 548.0470645305628, 582.2772294233538, 608.2596300791093, 624.0672707027667, 628.5277709044118, 621.3103157895208, 602.9501909863039, 574.809082959434, 538.974088954261, 498.1029265419594, 455.22682286552265, 413.5257023895093, 376.0923464496924, 345.70301580992066, 324.61154810180784, 330.8879254273303, 360.5126962774318, 392.8014868310913, 431.51514615187375, 473.7824592311629, 516.4686528179589, 556.4078872102716, 590.6380521030626, 616.6204527588181, 632.428093382475, 636.8885935841206, 629.6711384692296, 611.3110136660127, 583.1699056391428, 547.3349116339698, 506.4637492216682, 463.58764554523145, 421.88652506921767, 384.4531691294012, 354.06383848962946, 332.9723707815167, 317.39218565895555, 344.9325111548702, 377.2213017085302, 415.93496102931215, 458.2022741086013, 500.8884676953977, 540.8277020877105, 575.0578669805014, 601.040267636257, 616.8479082599139, 621.3084084615595, 614.090953346668, 595.7308285434516, 567.5897205165817, 531.7547265114086, 490.88356409910705, 448.0074604226703, 406.3063399466565, 368.87298400684006, 338.4836533670683, 317.39218565895555, 316.74574126891673, 344.2860667648314, 376.57485731849135, 415.2885166392733, 457.55582971856245, 500.2420233053589, 540.1812576976716, 574.4114225904626, 600.3938232462182, 616.201463869875, 620.6619640715206, 613.4445089566292, 595.0843841534128, 566.9432761265429, 531.1082821213698, 490.2371197090682, 447.3610160326315, 405.6598955566177, 368.22653961680123, 337.8372089770295, 316.74574126891673, 228.9028029486641, 256.44312844457875, 288.7319189982387, 327.4455783190207, 369.7128913983098, 412.39908498510624, 452.33831937741854, 486.5684842702095, 512.5508849259655, 528.3585255496224, 532.819025751268, 525.6015706363766, 507.2414458331597, 479.1003378062902, 443.2653438011172, 402.3941813888156, 359.51807771237884, 317.81695723636506, 280.3836012965486, 249.99427065677685, 228.9028029486641, 101.23213046551405, 128.77245596142916, 161.06124651508912, 199.7749058358711, 242.04221891516022, 284.72841250195665, 324.66764689426896, 358.89781178705994, 384.88021244281595, 400.6878530664728, 405.1483532681184, 397.93089815322696, 379.5707733500101, 351.4296653231406, 315.5946713179676, 274.723508905666, 231.8474052292288, 190.14628475321547, 152.712928813399, 122.3235981736268, 101.2321304655145, 315.04442798902284, 342.584753484938, 374.87354403859797, 413.58720335937994, 455.85451643866907, 498.5407100254655, 538.4799444177778, 572.7101093105688, 598.6925099663243, 614.5001505899817, 618.9606507916272, 611.7431956767358, 593.3830708735189, 565.241962846649, 529.406968841476, 488.53580642917484, 445.65970275273764, 403.9585822767243, 366.52522633690785, 336.1358956971356, 315.04442798902284, 321.3208053145453, 348.8611308104604, 381.1499213641199, 419.86358068490233, 462.13089376419146, 504.81708735098744, 544.7563217433002, 578.9864866360912, 604.9688872918467, 620.7765279155041, 625.2370281171492, 618.0195730022582, 599.6594481990413, 571.5183401721714, 535.6833461669984, 494.8121837546968, 451.93608007826003, 410.2349596022467, 372.8016036624298, 342.41227302265804, 321.3208053145453, 323.4052506687317, 350.9455761646468, 383.2343667183063, 421.94802603908875, 464.21533911837787, 506.90153270517385, 546.8407670974866, 581.0709319902776, 607.0533326460331, 622.86097326969, 627.3214734713356, 620.1040183564446, 601.7438935532277, 573.6027855263578, 537.7677915211848, 496.8966291088832, 454.02052543244645, 412.31940495643266, 374.8860490166162, 344.49671837684446, 323.4052506687317, 292.3214494443326, 319.8617749402477, 352.15056549390727, 390.8642248146897, 433.1315378939788, 475.8177314807748, 515.7569658730876, 549.9871307658785, 575.9695314216341, 591.777172045291, 596.2376722469365, 589.0202171320456, 570.6600923288287, 542.5189843019588, 506.68399029678574, 465.81282788448414, 422.9367242080474, 381.2356037320336, 343.80224779221714, 313.41291715244535, 292.3214494443326, 141.7900687823726, 169.33039427828726, 201.61918483194722, 240.3328441527292, 282.6001572320183, 325.28635081881475, 365.2255852111275, 399.4557501039185, 425.43815075967404, 441.2457913833309, 445.7062915849765, 438.48883647008506, 420.12871166686864, 391.9876036399987, 356.1526096348257, 315.2814472225241, 272.40534354608735, 230.70422307007357, 193.2708671302571, 162.88153649048536, 141.7900687823726, 219.33568283587908, 246.87600833179374, 279.1647988854537, 317.8784582062357, 360.1457712855248, 402.83196487232124, 442.771199264634, 477.001364157425, 502.9837648131805, 518.7914054368374, 523.251905638483, 516.0344505235915, 497.6743257203751, 469.5332176935052, 433.6982236883322, 392.8270612760306, 349.95095759959383, 308.24983712358005, 270.8164811837636, 240.42715054399184, 219.33568283587908, 91.6650103527295, 119.20533584864415, 151.49412640230412, 190.2077857230861, 232.47509880237521, 275.16129238917165, 315.10052678148395, 349.33069167427493, 375.31309233003094, 391.1207329536878, 395.5812331553334, 388.36377804044196, 370.0036532372251, 341.8625452103556, 306.0275512051826, 265.156388792881, 222.28028511644425, 180.57916464043046, 143.145808700614, 112.75647806084226, 91.6650103527295, 305.47730787623783, 333.01763337215294, 365.30642392581296, 404.02008324659494, 446.28739632588406, 488.9735899126805, 528.9128243049928, 563.1429891977838, 589.1253898535398, 604.9330304771967, 609.3935306788422, 602.1760755639508, 583.8159507607339, 555.6748427338645, 519.8398487286914, 478.96868631638984, 436.09258263995264, 394.3914621639393, 356.95810622412284, 326.5687755843506, 305.47730787623783, 311.7536852017603, 339.2940106976754, 371.58280125133535, 410.2964605721173, 452.56377365140645, 495.24996723820243, 535.1892016305152, 569.4193665233062, 595.4017671790617, 611.209407802719, 615.6699080043646, 608.4524528894732, 590.0923280862563, 561.9512200593864, 526.1162260542134, 485.2450636419122, 442.368959965475, 400.6678394894617, 363.23448354964523, 332.84515290987304, 311.7536852017603, 313.8381305559467, 341.3784560518618, 373.6672466055213, 412.38090592630374, 454.64821900559286, 497.33441259238884, 537.2736469847016, 571.5038118774926, 597.4862125332481, 613.2938531569055, 617.7543533585506, 610.5368982436596, 592.1767734404427, 564.0356654135728, 528.2006714083998, 487.3295089960982, 444.45340531966144, 402.7522848436481, 365.3189289038312, 334.92959826405945, 313.8381305559467, 282.7543293315476, 310.2946548274627, 342.58344538112226, 381.2971047019047, 423.5644177811938, 466.2506113679898, 506.18984576030255, 540.4200106530935, 566.4024113088491, 582.210051932506, 586.6705521341515, 579.4530970192606, 561.0929722160437, 532.9518641891738, 497.11687018400073, 456.24570777169913, 413.3696040952624, 371.6684836192486, 334.2351276794321, 303.84579703966034, 282.7543293315476]\n"
        },
        {
          "output_type": "stream",
          "name": "stderr",
          "text": "[Parallel(n_jobs=-1)]: Using backend LokyBackend with 4 concurrent workers.\n[Parallel(n_jobs=-1)]: Done  96 out of  96 | elapsed:    0.2s finished\n[Parallel(n_jobs=-1)]: Using backend LokyBackend with 4 concurrent workers.\n[Parallel(n_jobs=-1)]: Done  33 tasks      | elapsed:   30.3s\n[Parallel(n_jobs=-1)]: Done 154 tasks      | elapsed:  2.7min\n[Parallel(n_jobs=-1)]: Done 300 out of 300 | elapsed:  4.9min finished\n"
        }
      ],
      "execution_count": 21,
      "metadata": {
        "jupyter": {
          "source_hidden": false,
          "outputs_hidden": false
        },
        "nteract": {
          "transient": {
            "deleting": false
          }
        },
        "gather": {
          "logged": 1631326286847
        }
      },
      "id": "0e6903d9-7ebb-4aa9-8ee2-97b71c80e379"
    },
    {
      "cell_type": "code",
      "source": [
        "df_results = df_previsao.validations_per_hour\r\n",
        "\r\n",
        "plt.figure(figsize=(30, 10))\r\n",
        "plt.plot(range(len(df_results) - 360), df_results[360:], color='blue')\r\n",
        "plt.plot(range(len(predictions[2]) - 360 ), predictions[6][360:], color='red')\r\n",
        "plt.xlabel('True Values')\r\n",
        "plt.ylabel('Predictions')\r\n",
        "plt.show()"
      ],
      "outputs": [
        {
          "output_type": "display_data",
          "data": {
            "text/plain": "<Figure size 2160x720 with 1 Axes>",
            "image/png": "[encoded data removed]"
          },
          "metadata": {
            "needs_background": "light"
          }
        }
      ],
      "execution_count": 22,
      "metadata": {
        "jupyter": {
          "source_hidden": false,
          "outputs_hidden": false
        },
        "nteract": {
          "transient": {
            "deleting": false
          }
        },
        "gather": {
          "logged": 1631326287343
        }
      },
      "id": "d071a8d4-e118-4241-bbde-9026e6bd8e4d"
    },
    {
      "cell_type": "code",
      "source": [
        "performances"
      ],
      "outputs": [
        {
          "output_type": "execute_result",
          "execution_count": 23,
          "data": {
            "text/plain": "[[[0.3402516714526712, 206.53696111633892, 156.16409052662618]],\n [[0.9742687025346599, 40.78866358443349, 29.52013194711847]],\n [[0.3402516714526712, 206.53696111633892, 156.16409052662618]],\n [[0.9748103747818954, 40.357056831066615, 29.275709905276763]],\n [[0.33978281098305163, 206.61033744320397, 156.07879345950028]],\n [[0.9743009803356733, 40.763072540890896, 29.33468111635295]],\n [[0.9747583337113785, 40.39872360438851, 28.873849848115345]],\n [[0.9729962077397567, 41.785058312766395, 30.861473457983486]]]"
          },
          "metadata": {}
        }
      ],
      "execution_count": 23,
      "metadata": {
        "jupyter": {
          "source_hidden": false,
          "outputs_hidden": false
        },
        "nteract": {
          "transient": {
            "deleting": false
          }
        },
        "gather": {
          "logged": 1631326287722
        }
      },
      "id": "bc399eac-e71c-49eb-a945-751138193d94"
    },
    {
      "cell_type": "code",
      "source": [
        "df = pd.DataFrame(predictions)\n",
        "df.to_csv('predictions0.csv', index=False)"
      ],
      "outputs": [],
      "execution_count": 24,
      "metadata": {
        "jupyter": {
          "source_hidden": false,
          "outputs_hidden": false
        },
        "nteract": {
          "transient": {
            "deleting": false
          }
        },
        "gather": {
          "logged": 1631326287979
        }
      },
      "id": "16cf83c6-7905-483b-bdd9-3c22504cb6cf"
    },
    {
      "cell_type": "code",
      "source": [
        "# ACCESS IN ORDER PREDICTION VALUES\n",
        "df.iloc[0]"
      ],
      "outputs": [
        {
          "output_type": "execute_result",
          "execution_count": 25,
          "data": {
            "text/plain": "0      350.022166\n1      377.562491\n2      409.851282\n3      448.564941\n4      490.832254\n          ...    \n604    413.369604\n605    371.668484\n606    334.235128\n607    303.845797\n608    282.754329\nName: 0, Length: 609, dtype: float64"
          },
          "metadata": {}
        }
      ],
      "execution_count": 25,
      "metadata": {
        "jupyter": {
          "source_hidden": false,
          "outputs_hidden": false
        },
        "nteract": {
          "transient": {
            "deleting": false
          }
        },
        "gather": {
          "logged": 1631326288434
        }
      },
      "id": "ab226546-84f4-493e-baab-ddc591f26a50"
    },
    {
      "cell_type": "code",
      "source": [
        "# #top 100 exampled linhas\r\n",
        "# #data_model.linha.value_counts().index[:100]\r\n",
        "\r\n",
        "# print(data_model.linha.value_counts().index[:100])\r\n",
        "\r\n",
        "d_31 = [1, 3, 5, 7, 8, 10, 12]\r\n",
        "d_30 = [4, 6, 9, 11]\r\n",
        "\r\n",
        "from datetime import datetime\r\n",
        "import datetime\r\n",
        "import calendar\r\n",
        "\r\n",
        "def week_of_month(tgtdate):\r\n",
        "    tgtdate = tgtdate.to_pydatetime()\r\n",
        "    startdate = 0\r\n",
        "\r\n",
        "    days_this_month = calendar.mdays[tgtdate.month]\r\n",
        "    for i in range(1, days_this_month):\r\n",
        "        d = datetime.datetime(tgtdate.year, tgtdate.month, i)\r\n",
        "        if d.day - d.weekday() > 0:\r\n",
        "            startdate = d\r\n",
        "            break\r\n",
        "    # now we canuse the modulo 7 appraoch\r\n",
        "    return (tgtdate - startdate).days //7 + 1\r\n",
        "\r\n",
        "# #ate outubro para prever novembro\r\n",
        "# for linha in top100_linhas:\r\n",
        "#     #linha filter\r\n",
        "#     currentLinhaData = data_model[data_model.linha == linha]\r\n",
        "#     print(currentLinhaData)\r\n",
        "#     for mes in range(3, 12):\r\n",
        "#         currentLinhaData = currentLinhaData[currentLinhaData.mes == mes]\r\n",
        "\r\n",
        "#         if mes in d_31:\r\n",
        "#             d_d = 31\r\n",
        "#         elif mes in d_30:\r\n",
        "#             d_d = 30\r\n",
        "#         else:\r\n",
        "#             d_d = 29\r\n",
        "        \r\n",
        "#         for dia in range(1, d_d):\r\n",
        "#             currentLinhaData = currentLinhaData[currentLinhaData.d_mes == dia]\r\n",
        "#             for hora in range(24):\r\n",
        "#                 currentLinhaData = currentLinhaData[currentLinhaData.hora == hora]\r\n",
        "#                 if currentLinhaData.empty:\r\n",
        "#                     # feature_names = [\r\n",
        "#                     # 'hour_sin', 'hour_cos', \r\n",
        "#                     # 'd_mes', 'mes', 'semana_do_mes', \r\n",
        "#                     # 'domingo','segunda', 'terca', 'quarta', 'quinta', 'sexta', 'sabado', \r\n",
        "#                     # 'feriado', 'vespera_feriado']\r\n",
        "#                     # target = 'validations_per_hour'\r\n",
        "\r\n",
        "#                     # a_row = pd.Series([1, 2])\r\n",
        "#                     # df = pd.DataFrame([[3, 4], [5, 6]])\r\n",
        "#                     # row_df = pd.DataFrame([a_row])\r\n",
        "#                     # df = pd.concat([row_df, df], ignore_index=True)\r\n",
        "\r\n",
        "#                     h_sin = np.sin(2 * np.pi * hora/23.0)\r\n",
        "#                     h_cos = np.cos(2 * np.pi * hora/23.0)\r\n",
        "#                     semana_do_mes = (dia-1) // 7 + 1\r\n",
        "#                     #dia do ano\r\n",
        "#                     ins = pd.Series([linha, data_hora, 0, h_sin, h_cos, dia, mes, semana_do_mes *DIASDASEMANAENCODED, *feriado, *vesperaferiado])\r\n",
        "#                     ins_df = pd.DataFrame([ins])\r\n",
        "\r\n",
        "#                     currentLinhaData = pd.concat([ins_df, currentLinhaData], ignore_index=True)\r\n",
        "#                     print(f\"INSERINDO MISSING HORA {hora} no dia {dia} do mes {mes}\")\r\n",
        "\r\n",
        "# t = data_model[data_model.linha.isin(data_model.linha.value_counts().index[:100])]\r\n",
        "# t"
      ],
      "outputs": [
        {
          "output_type": "stream",
          "name": "stdout",
          "text": "         linha            data_hora  validations_per_hour  d_semana  \\\n19          10  2020-03-01 00:00:00                    15         6   \n20          10  2020-03-01 01:00:00                    10         6   \n21          10  2020-03-01 02:00:00                     6         6   \n22          10  2020-03-01 03:00:00                    16         6   \n23          10  2020-03-01 04:00:00                    54         6   \n...        ...                  ...                   ...       ...   \n1415831     10  2020-12-31 19:00:00                   223         3   \n1415832     10  2020-12-31 20:00:00                   139         3   \n1415833     10  2020-12-31 21:00:00                   157         3   \n1415834     10  2020-12-31 22:00:00                   105         3   \n1415835     10  2020-12-31 23:00:00                    17         3   \n\n             hour_sin  hour_cos  hora  d_mes  d_ano  mes  semana_do_mes  \\\n19       0.000000e+00  1.000000     0      1     61    3              0   \n20       2.697968e-01  0.962917     1      1     61    3              0   \n21       5.195840e-01  0.854419     2      1     61    3              0   \n22       7.308360e-01  0.682553     3      1     61    3              0   \n23       8.878852e-01  0.460065     4      1     61    3              0   \n...               ...       ...   ...    ...    ...  ...            ...   \n1415831 -8.878852e-01  0.460065    19     31    366   12              4   \n1415832 -7.308360e-01  0.682553    20     31    366   12              4   \n1415833 -5.195840e-01  0.854419    21     31    366   12              4   \n1415834 -2.697968e-01  0.962917    22     31    366   12              4   \n1415835 -2.449294e-16  1.000000    23     31    366   12              4   \n\n         domingo  segunda  terca  quarta  quinta  sexta  sabado  feriado  \\\n19           0.0      0.0    0.0     0.0     0.0    0.0     1.0        0   \n20           0.0      0.0    0.0     0.0     0.0    0.0     1.0        0   \n21           0.0      0.0    0.0     0.0     0.0    0.0     1.0        0   \n22           0.0      0.0    0.0     0.0     0.0    0.0     1.0        0   \n23           0.0      0.0    0.0     0.0     0.0    0.0     1.0        0   \n...          ...      ...    ...     ...     ...    ...     ...      ...   \n1415831      0.0      0.0    0.0     1.0     0.0    0.0     0.0        0   \n1415832      0.0      0.0    0.0     1.0     0.0    0.0     0.0        0   \n1415833      0.0      0.0    0.0     1.0     0.0    0.0     0.0        0   \n1415834      0.0      0.0    0.0     1.0     0.0    0.0     0.0        0   \n1415835      0.0      0.0    0.0     1.0     0.0    0.0     0.0        0   \n\n         vespera_feriado  \n19                     0  \n20                     0  \n21                     0  \n22                     0  \n23                     0  \n...                  ...  \n1415831                1  \n1415832                1  \n1415833                1  \n1415834                1  \n1415835                1  \n\n[7255 rows x 20 columns]\n"
        },
        {
          "output_type": "error",
          "ename": "NameError",
          "evalue": "name 'data_hora' is not defined",
          "traceback": [
            "\u001b[0;31m---------------------------------------------------------------------------\u001b[0m",
            "\u001b[0;31mNameError\u001b[0m                                 Traceback (most recent call last)",
            "\u001b[0;32m<ipython-input-26-6aab3d310b1c>\u001b[0m in \u001b[0;36m<module>\u001b[0;34m\u001b[0m\n\u001b[1;32m     60\u001b[0m                     \u001b[0msemana_do_mes\u001b[0m \u001b[0;34m=\u001b[0m \u001b[0;34m(\u001b[0m\u001b[0mdia\u001b[0m\u001b[0;34m-\u001b[0m\u001b[0;36m1\u001b[0m\u001b[0;34m)\u001b[0m \u001b[0;34m//\u001b[0m \u001b[0;36m7\u001b[0m \u001b[0;34m+\u001b[0m \u001b[0;36m1\u001b[0m\u001b[0;34m\u001b[0m\u001b[0;34m\u001b[0m\u001b[0m\n\u001b[1;32m     61\u001b[0m                     \u001b[0;31m#dia do ano\u001b[0m\u001b[0;34m\u001b[0m\u001b[0;34m\u001b[0m\u001b[0;34m\u001b[0m\u001b[0m\n\u001b[0;32m---> 62\u001b[0;31m                     \u001b[0mins\u001b[0m \u001b[0;34m=\u001b[0m \u001b[0mpd\u001b[0m\u001b[0;34m.\u001b[0m\u001b[0mSeries\u001b[0m\u001b[0;34m(\u001b[0m\u001b[0;34m[\u001b[0m\u001b[0mlinha\u001b[0m\u001b[0;34m,\u001b[0m \u001b[0mdata_hora\u001b[0m\u001b[0;34m,\u001b[0m \u001b[0;36m0\u001b[0m\u001b[0;34m,\u001b[0m \u001b[0mh_sin\u001b[0m\u001b[0;34m,\u001b[0m \u001b[0mh_cos\u001b[0m\u001b[0;34m,\u001b[0m \u001b[0mdia\u001b[0m\u001b[0;34m,\u001b[0m \u001b[0mmes\u001b[0m\u001b[0;34m,\u001b[0m \u001b[0msemana_do_mes\u001b[0m \u001b[0;34m*\u001b[0m\u001b[0mDIASDASEMANAENCODED\u001b[0m\u001b[0;34m,\u001b[0m \u001b[0;34m*\u001b[0m\u001b[0mferiado\u001b[0m\u001b[0;34m,\u001b[0m \u001b[0;34m*\u001b[0m\u001b[0mvesperaferiado\u001b[0m\u001b[0;34m]\u001b[0m\u001b[0;34m)\u001b[0m\u001b[0;34m\u001b[0m\u001b[0;34m\u001b[0m\u001b[0m\n\u001b[0m\u001b[1;32m     63\u001b[0m                     \u001b[0mins_df\u001b[0m \u001b[0;34m=\u001b[0m \u001b[0mpd\u001b[0m\u001b[0;34m.\u001b[0m\u001b[0mDataFrame\u001b[0m\u001b[0;34m(\u001b[0m\u001b[0;34m[\u001b[0m\u001b[0mins\u001b[0m\u001b[0;34m]\u001b[0m\u001b[0;34m)\u001b[0m\u001b[0;34m\u001b[0m\u001b[0;34m\u001b[0m\u001b[0m\n\u001b[1;32m     64\u001b[0m \u001b[0;34m\u001b[0m\u001b[0m\n",
            "\u001b[0;31mNameError\u001b[0m: name 'data_hora' is not defined"
          ]
        }
      ],
      "execution_count": 26,
      "metadata": {
        "jupyter": {
          "source_hidden": false,
          "outputs_hidden": false
        },
        "nteract": {
          "transient": {
            "deleting": false
          }
        }
      },
      "id": "c1694bb2-b1a0-48bd-9bab-20d6016faaa9"
    },
    {
      "cell_type": "markdown",
      "source": [
        "## Ranking Linhas de Onibus"
      ],
      "metadata": {
        "nteract": {
          "transient": {
            "deleting": false
          }
        }
      },
      "id": "f0ebeee3-574e-4540-a5f9-554c9be63133"
    },
    {
      "cell_type": "code",
      "source": [
        "\r\n",
        "# print(data_model.linha.value_counts(ascending=True)[data_model['linha'].value_counts() < 100])\r\n",
        "\r\n",
        "# linha_lista = data_model.linha.unique()\r\n",
        "# linha_lista = linha_lista[:10]\r\n",
        "# res_map = list()\r\n",
        "# for linha in linha_lista:\r\n",
        "#     for model in model_list:\r\n",
        "#         currentLinhaData = data_model.loc[data['linha'] == linha].copy()\r\n",
        "#         if len(currentLinhaData) < 10:\r\n",
        "#             continue\r\n",
        "#         X = currentLinhaData.filter(['hour_sin', 'hour_cos', \r\n",
        "#         'd_mes', 'd_ano', 'mes', 'semana_do_mes', \r\n",
        "#         'domingo','segunda', 'terca', 'quarta', 'quinta', 'sexta', 'sabado', \r\n",
        "#         'feriado', 'vespera_feriado'], axis=1)\r\n",
        "#         y = currentLinhaData.validations_per_hour\r\n",
        "\r\n",
        "#         #FAZER TODOS OS MODELOS PARA AS LINHAS E ADICIONAR NA TABELA PRINCIPAL\r\n",
        "#         #RANDOM FOREST COM GRID SEARCH\r\n",
        "#         #LINEAR REGRESSION COM GRID SEARCH\r\n",
        "#         #BAGGING STACKING AND BOOSTING\r\n",
        "#         #\r\n",
        "#         model.fit(X_train, Y_train)\r\n",
        "#         performance = get_performance(model)\r\n",
        "#         performance.insert(0, linha)\r\n",
        "#         res_map.append(performance)\r\n",
        "\r\n",
        "# res_map = pd.DataFrame(res_map,columns=['Linha', '[LR][DEF]R2', '[LR][DF]RMSE', '[LR][DF]MAE',\r\n",
        "#     '[RF][GS]R2', '[RF][GS]RMSE', '[RF][GS]MAE',\r\n",
        "#     '[LR][BAG]R2', '[LR][BAG]RMSE', '[LR][BAG]MAE',\r\n",
        "#     '[RF][BAG]R2', '[RF][BAG]RMSE', '[RF][BAG]MAE',\r\n",
        "#     '[STK]R2', '[STK]RMSE', '[STK]MAE',\r\n",
        "#     '[BOS]R2', '[BOS]RMSE', '[BOS]MAE' ])\r\n",
        "\r\n",
        "# #performance_scoring['Score'] = performance_scoring['Score'].astype('float64')\r\n",
        "# res_map = res_map.sort_values('R2').reset_index(drop=True)\r\n",
        "# res_map"
      ],
      "outputs": [],
      "execution_count": null,
      "metadata": {
        "gather": {
          "logged": 1630471358394
        }
      },
      "id": "1041cc61-251f-48c5-99c9-42ee7499027d"
    },
    {
      "cell_type": "markdown",
      "source": [
        "## Avaliacao dos dados atualmente\r\n",
        "404 linhas  \r\n",
        "358 com pelo menos 10 exemplos\r\n",
        "\r\n"
      ],
      "metadata": {
        "nteract": {
          "transient": {
            "deleting": false
          }
        }
      },
      "id": "bd279b72-5495-477e-9a31-f461d80c63eb"
    },
    {
      "cell_type": "code",
      "source": [
        "# res_map.to_csv('./classic-linha-comp.csv', index = False)"
      ],
      "outputs": [],
      "execution_count": null,
      "metadata": {
        "collapsed": true,
        "gather": {
          "logged": 1630471358536
        },
        "jupyter": {
          "outputs_hidden": false,
          "source_hidden": false
        },
        "nteract": {
          "transient": {
            "deleting": false
          }
        }
      },
      "id": "a4866fd1-9383-472d-9bb2-f32bcb6bfb0e"
    },
    {
      "cell_type": "code",
      "source": [],
      "outputs": [],
      "execution_count": null,
      "metadata": {
        "collapsed": true,
        "jupyter": {
          "source_hidden": false,
          "outputs_hidden": false
        },
        "nteract": {
          "transient": {
            "deleting": false
          }
        }
      },
      "id": "1b038eb4-08d3-4f90-b184-e0a4f29c99f9"
    }
  ],
  "metadata": {
    "interpreter": {
      "hash": "4caa081543ae4d7454eea2adf6270962382d99fc25b3a6423caed7aecce4d7f8"
    },
    "kernel_info": {
      "name": "python38-azureml"
    },
    "kernelspec": {
      "name": "python38-azureml",
      "language": "python",
      "display_name": "Python 3.8 - AzureML"
    },
    "language_info": {
      "name": "python",
      "version": "3.8.1",
      "mimetype": "text/x-python",
      "codemirror_mode": {
        "name": "ipython",
        "version": 3
      },
      "pygments_lexer": "ipython3",
      "nbconvert_exporter": "python",
      "file_extension": ".py"
    },
    "microsoft": {
      "host": {
        "AzureML": {
          "notebookHasBeenCompleted": true
        }
      }
    },
    "nteract": {
      "version": "nteract-front-end@1.0.0"
    }
  },
  "nbformat": 4,
  "nbformat_minor": 5
}