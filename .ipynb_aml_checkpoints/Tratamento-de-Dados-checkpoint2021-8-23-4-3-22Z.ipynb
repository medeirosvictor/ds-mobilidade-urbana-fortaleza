{
  "cells": [
    {
      "cell_type": "code",
      "source": [
        "import pandas as pd\n",
        "from calendar import monthrange\n",
        "from math import ceil\n",
        "import numpy as np\n",
        "import datetime as dt\n",
        "\n",
        "data = pd.read_csv('./df_input.csv', sep=';', delimiter=';')\n",
        "data_model = data.copy()\n",
        "\n",
        "#usando apenas as top 100 linhas (linhas com mais exemplos)\n",
        "top100_linhalist = data_model.linha.value_counts().index[:100]"
      ],
      "outputs": [],
      "execution_count": 3,
      "metadata": {
        "gather": {
          "logged": 1632324533886
        }
      }
    },
    {
      "cell_type": "code",
      "source": [
        "## Inserir zero rows\n",
        "def week_of_month(dt):\n",
        "    \"\"\" Returns the week of the month for the specified date.\n",
        "    \"\"\"\n",
        "\n",
        "    first_day = dt.replace(day=1)\n",
        "\n",
        "    dom = dt.day\n",
        "    adjusted_dom = dom + first_day.weekday()\n",
        "\n",
        "    return int(ceil(adjusted_dom/7.0))\n",
        "\n",
        "# linha_list = data_model.linha.unique()\n",
        "\n",
        "\n",
        "for linha in top100_linhalist:\n",
        "    currentDataModel_Linha = data_model.loc[data_model.linha == linha]\n",
        "    mes_max = currentDataModel_Linha.mes.max()\n",
        "    mes_min = currentDataModel_Linha.mes.min()\n",
        "    for mes in range(mes_min, mes_max+1):\n",
        "        currentDataModel_Mes = currentDataModel_Linha.loc[currentDataModel_Linha.mes == mes]\n",
        "        dia_max = monthrange(2020, mes)[1]\n",
        "        for dia in range(1, dia_max+1):\n",
        "            currentDataModel_Dia = currentDataModel_Mes.loc[currentDataModel_Mes.d_mes == dia]\n",
        "            \n",
        "            for hora in range(0, 24):\n",
        "                currentDataModel_Hora = currentDataModel_Dia[currentDataModel_Dia.hora == hora]\n",
        "                if currentDataModel_Hora.empty == False:\n",
        "                    continue\n",
        "                else:\n",
        "                    # print('INSERINDO NO MES '+str(mes)+' NO DIA '+str(dia)+ ' NA HORA '+str(hora))\n",
        "                    dd = dt.datetime.strptime('2020-'+str(mes)+'-'+str(dia)+' '+str(hora)+':00:00', \"%Y-%m-%d %H:00:00\")\n",
        "                    new_row = {\n",
        "                            'linha': linha,\n",
        "                            'data_hora': dd,\n",
        "                            'validations_per_hour': 0,\n",
        "                            'd_semana': dd.weekday(),\n",
        "                            'hour_sin': np.sin(2 * np.pi * hora/23.0),\n",
        "                            'hour_cos': np.cos(2 * np.pi * hora/23.0),\n",
        "                            'hora': hora,\n",
        "                            'd_mes': dia,\n",
        "                            'd_ano': dd.timetuple().tm_yday,\n",
        "                            'mes': mes,\n",
        "                            'semana_do_mes': week_of_month(dd)\n",
        "                        }\n",
        "                    # print(new_row)\n",
        "                    data_model = data_model.append(new_row, ignore_index=True)\n",
        "\n",
        "                #insert validation zero\n",
        "data_model.loc[data_model.mes == 3]"
      ],
      "outputs": [],
      "execution_count": 4,
      "metadata": {
        "jupyter": {
          "source_hidden": false,
          "outputs_hidden": false
        },
        "nteract": {
          "transient": {
            "deleting": false
          }
        }
      }
    },
    {
      "cell_type": "code",
      "source": [
        "data_model = data_model.sort_values(['linha', 'data_hora'], ascending=[True, True])"
      ],
      "outputs": [],
      "execution_count": 11,
      "metadata": {
        "jupyter": {
          "source_hidden": false,
          "outputs_hidden": false
        },
        "nteract": {
          "transient": {
            "deleting": false
          }
        },
        "gather": {
          "logged": 1632357479499
        }
      }
    },
    {
      "cell_type": "code",
      "source": [
        "data_model.to_csv('./data_input_zerofill.csv', index=False, sep=';')"
      ],
      "outputs": [],
      "execution_count": 16,
      "metadata": {
        "jupyter": {
          "source_hidden": false,
          "outputs_hidden": false
        },
        "nteract": {
          "transient": {
            "deleting": false
          }
        },
        "gather": {
          "logged": 1632360937933
        }
      }
    },
    {
      "cell_type": "code",
      "source": [
        "data_model"
      ],
      "outputs": [
        {
          "output_type": "execute_result",
          "execution_count": 14,
          "data": {
            "text/plain": "         linha            data_hora  validations_per_hour  d_semana  hour_sin  \\\n1421917      1  2020-03-01 00:00:00                     0         6  0.000000   \n1421918      1  2020-03-01 01:00:00                     0         6  0.269797   \n1421919      1  2020-03-01 02:00:00                     0         6  0.519584   \n1421920      1  2020-03-01 03:00:00                     0         6  0.730836   \n1421921      1  2020-03-01 04:00:00                     0         6  0.887885   \n...        ...                  ...                   ...       ...       ...   \n1278857    999  2020-12-01 08:00:00                    12         1  0.816970   \n1278858    999  2020-12-01 09:00:00                     1         1  0.631088   \n1278859    999  2020-12-01 10:00:00                     1         1  0.398401   \n1278860    999  2020-12-01 11:00:00                     5         1  0.136167   \n1278861    999  2020-12-01 12:00:00                     3         1 -0.136167   \n\n         hour_cos  hora  d_mes  d_ano  mes  semana_do_mes  \n1421917  1.000000     0      1     61    3              1  \n1421918  0.962917     1      1     61    3              1  \n1421919  0.854419     2      1     61    3              1  \n1421920  0.682553     3      1     61    3              1  \n1421921  0.460065     4      1     61    3              1  \n...           ...   ...    ...    ...  ...            ...  \n1278857 -0.576680     8      1    336   12              0  \n1278858 -0.775711     9      1    336   12              0  \n1278859 -0.917211    10      1    336   12              0  \n1278860 -0.990686    11      1    336   12              0  \n1278861 -0.990686    12      1    336   12              0  \n\n[1604354 rows x 11 columns]",
            "text/html": "<div>\n<style scoped>\n    .dataframe tbody tr th:only-of-type {\n        vertical-align: middle;\n    }\n\n    .dataframe tbody tr th {\n        vertical-align: top;\n    }\n\n    .dataframe thead th {\n        text-align: right;\n    }\n</style>\n<table border=\"1\" class=\"dataframe\">\n  <thead>\n    <tr style=\"text-align: right;\">\n      <th></th>\n      <th>linha</th>\n      <th>data_hora</th>\n      <th>validations_per_hour</th>\n      <th>d_semana</th>\n      <th>hour_sin</th>\n      <th>hour_cos</th>\n      <th>hora</th>\n      <th>d_mes</th>\n      <th>d_ano</th>\n      <th>mes</th>\n      <th>semana_do_mes</th>\n    </tr>\n  </thead>\n  <tbody>\n    <tr>\n      <th>1421917</th>\n      <td>1</td>\n      <td>2020-03-01 00:00:00</td>\n      <td>0</td>\n      <td>6</td>\n      <td>0.000000</td>\n      <td>1.000000</td>\n      <td>0</td>\n      <td>1</td>\n      <td>61</td>\n      <td>3</td>\n      <td>1</td>\n    </tr>\n    <tr>\n      <th>1421918</th>\n      <td>1</td>\n      <td>2020-03-01 01:00:00</td>\n      <td>0</td>\n      <td>6</td>\n      <td>0.269797</td>\n      <td>0.962917</td>\n      <td>1</td>\n      <td>1</td>\n      <td>61</td>\n      <td>3</td>\n      <td>1</td>\n    </tr>\n    <tr>\n      <th>1421919</th>\n      <td>1</td>\n      <td>2020-03-01 02:00:00</td>\n      <td>0</td>\n      <td>6</td>\n      <td>0.519584</td>\n      <td>0.854419</td>\n      <td>2</td>\n      <td>1</td>\n      <td>61</td>\n      <td>3</td>\n      <td>1</td>\n    </tr>\n    <tr>\n      <th>1421920</th>\n      <td>1</td>\n      <td>2020-03-01 03:00:00</td>\n      <td>0</td>\n      <td>6</td>\n      <td>0.730836</td>\n      <td>0.682553</td>\n      <td>3</td>\n      <td>1</td>\n      <td>61</td>\n      <td>3</td>\n      <td>1</td>\n    </tr>\n    <tr>\n      <th>1421921</th>\n      <td>1</td>\n      <td>2020-03-01 04:00:00</td>\n      <td>0</td>\n      <td>6</td>\n      <td>0.887885</td>\n      <td>0.460065</td>\n      <td>4</td>\n      <td>1</td>\n      <td>61</td>\n      <td>3</td>\n      <td>1</td>\n    </tr>\n    <tr>\n      <th>...</th>\n      <td>...</td>\n      <td>...</td>\n      <td>...</td>\n      <td>...</td>\n      <td>...</td>\n      <td>...</td>\n      <td>...</td>\n      <td>...</td>\n      <td>...</td>\n      <td>...</td>\n      <td>...</td>\n    </tr>\n    <tr>\n      <th>1278857</th>\n      <td>999</td>\n      <td>2020-12-01 08:00:00</td>\n      <td>12</td>\n      <td>1</td>\n      <td>0.816970</td>\n      <td>-0.576680</td>\n      <td>8</td>\n      <td>1</td>\n      <td>336</td>\n      <td>12</td>\n      <td>0</td>\n    </tr>\n    <tr>\n      <th>1278858</th>\n      <td>999</td>\n      <td>2020-12-01 09:00:00</td>\n      <td>1</td>\n      <td>1</td>\n      <td>0.631088</td>\n      <td>-0.775711</td>\n      <td>9</td>\n      <td>1</td>\n      <td>336</td>\n      <td>12</td>\n      <td>0</td>\n    </tr>\n    <tr>\n      <th>1278859</th>\n      <td>999</td>\n      <td>2020-12-01 10:00:00</td>\n      <td>1</td>\n      <td>1</td>\n      <td>0.398401</td>\n      <td>-0.917211</td>\n      <td>10</td>\n      <td>1</td>\n      <td>336</td>\n      <td>12</td>\n      <td>0</td>\n    </tr>\n    <tr>\n      <th>1278860</th>\n      <td>999</td>\n      <td>2020-12-01 11:00:00</td>\n      <td>5</td>\n      <td>1</td>\n      <td>0.136167</td>\n      <td>-0.990686</td>\n      <td>11</td>\n      <td>1</td>\n      <td>336</td>\n      <td>12</td>\n      <td>0</td>\n    </tr>\n    <tr>\n      <th>1278861</th>\n      <td>999</td>\n      <td>2020-12-01 12:00:00</td>\n      <td>3</td>\n      <td>1</td>\n      <td>-0.136167</td>\n      <td>-0.990686</td>\n      <td>12</td>\n      <td>1</td>\n      <td>336</td>\n      <td>12</td>\n      <td>0</td>\n    </tr>\n  </tbody>\n</table>\n<p>1604354 rows × 11 columns</p>\n</div>"
          },
          "metadata": {}
        }
      ],
      "execution_count": 14,
      "metadata": {
        "jupyter": {
          "source_hidden": false,
          "outputs_hidden": false
        },
        "nteract": {
          "transient": {
            "deleting": false
          }
        },
        "gather": {
          "logged": 1632358918050
        }
      }
    }
  ],
  "metadata": {
    "kernelspec": {
      "name": "python3-azureml",
      "language": "python",
      "display_name": "Python 3.6 - AzureML"
    },
    "language_info": {
      "name": "python",
      "version": "3.6.9",
      "mimetype": "text/x-python",
      "codemirror_mode": {
        "name": "ipython",
        "version": 3
      },
      "pygments_lexer": "ipython3",
      "nbconvert_exporter": "python",
      "file_extension": ".py"
    },
    "kernel_info": {
      "name": "python3-azureml"
    },
    "nteract": {
      "version": "nteract-front-end@1.0.0"
    },
    "microsoft": {
      "host": {
        "AzureML": {
          "notebookHasBeenCompleted": true
        }
      }
    }
  },
  "nbformat": 4,
  "nbformat_minor": 2
}