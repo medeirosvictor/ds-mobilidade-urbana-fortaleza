{
  "cells": [
    {
      "cell_type": "markdown",
      "source": [
        "## Previsao de Embarque - Sem Serie Temporal"
      ],
      "metadata": {},
      "id": "8cc651e1-73f0-4430-b12a-01e4a4c26b64"
    },
    {
      "cell_type": "code",
      "source": [
        "import pandas as pd\r\n",
        "import matplotlib.pyplot as plt\r\n",
        "import numpy as np\r\n",
        "from sklearn.compose import make_column_transformer, ColumnTransformer\r\n",
        "from sklearn.preprocessing import OneHotEncoder\r\n",
        "from sklearn.linear_model import LinearRegression\r\n",
        "from sklearn.ensemble import RandomForestRegressor\r\n",
        "from sklearn.model_selection import train_test_split, cross_val_score\r\n",
        "from sklearn.metrics import mean_squared_error, r2_score, mean_absolute_error\r\n",
        "#from sklearn.metrics import mean_absolute_percentage_error\r\n",
        "from sklearn.model_selection import RandomizedSearchCV\r\n",
        "from IPython.display import display\r\n",
        "from pprint import pprint\r\n",
        "from math import sqrt\r\n",
        "\r\n",
        "#from shutil import unpack_archive\r\n",
        "#unpack_archive('./df_input.zip', './')\r\n"
      ],
      "outputs": [],
      "execution_count": 1,
      "metadata": {
        "gather": {
          "logged": 1625507621177
        }
      },
      "id": "87307511-eda5-4c59-9bea-b2073be702d0"
    },
    {
      "cell_type": "code",
      "source": [
        "day_of_week_translator = {\n",
        "    0: \"Domingo\",\n",
        "    1: \"Segunda\",\n",
        "    2: \"Terca\",\n",
        "    3: \"Quarta\",\n",
        "    4: \"Quinta\",\n",
        "    5: \"Sexta\",\n",
        "    6: \"Sabado\"\n",
        "}\n",
        "\n",
        "feriados = [\n",
        "            ['Ano Novo', 1, 1],\n",
        "            ['Carnaval', 24, 2],\n",
        "            ['Carnaval', 25, 2],\n",
        "            ['Carnaval', 26, 2],\n",
        "            ['Dia de São José', 19, 3],\n",
        "            ['Data Magna', 25, 3],\n",
        "            ['Sexta-Feira Santa', 10, 4],\n",
        "            ['Aniversário de Fortaleza', 13, 4],\n",
        "            ['Tiradentes', 21, 4],\n",
        "            ['Dia do Trabalho', 1, 5],\n",
        "            ['Corpus Christi', 28, 5],\n",
        "            ['N. Senhora da Assunção', 27, 5],\n",
        "            ['Independência do Brasil', 7, 9],\n",
        "            ['N. Senhora de Aparecida', 12, 10],\n",
        "            ['Dia de Finados', 2, 11],\n",
        "            ['Proclamação da Republica', 15, 11],\n",
        "            ['Natal', 25, 12],\n",
        "]\n",
        "\n",
        "vesperas = [\n",
        "            ['Ano Novo', 31, 12],\n",
        "            ['Carnaval', 23, 2],\n",
        "            ['Dia de São José', 18, 3],\n",
        "            ['Data Magna', 24, 3],\n",
        "            ['Sexta-Feira Santa', 9, 4],\n",
        "            ['Aniversário de Fortaleza', 12, 4],\n",
        "            ['Tiradentes', 20, 4],\n",
        "            ['Dia do Trabalho', 30, 4],\n",
        "            ['N. Senhora da Assunção', 26, 5],\n",
        "            ['Independência do Brasil', 6, 9],\n",
        "            ['N. Senhora de Aparecida', 11, 10],\n",
        "            ['Dia de Finados', 1, 11],\n",
        "            ['Proclamação da Republica', 14, 11],\n",
        "            ['Natal', 24, 12],\n",
        "]"
      ],
      "outputs": [],
      "execution_count": 2,
      "metadata": {
        "gather": {
          "logged": 1625507621550
        }
      },
      "id": "8e22d704-967f-42a4-a381-731689a43d66"
    },
    {
      "cell_type": "code",
      "source": [
        "# Reading Data file (geolocalized)\r\n",
        "data = pd.read_csv('./df_input.csv', sep=';', delimiter=';')\r\n",
        "\r\n",
        "busline_filter = 41\r\n",
        "data_model = data.copy()\r\n",
        "\r\n",
        "one_hot_encoder = OneHotEncoder(sparse=False)\r\n",
        "\r\n",
        "data_model[['domingo','segunda', 'terca', 'quarta', 'quinta', 'sexta', 'sabado']] = one_hot_encoder.fit_transform(data_model['d_semana'].values.reshape(-1,1))\r\n",
        "data_model['feriado'] = [1 if any((x[0] == d and x[1] == m) for (_, d, m) in feriados) else 0 for x in list(zip(data_model.d_mes, data_model.mes))]\r\n",
        "data_model['vespera_feriado'] = [1 if any((x[0] == d and x[1] == m) for (_, d, m) in vesperas) else 0 for x in list(zip(data_model.d_mes, data_model.mes))]\r\n",
        "\r\n",
        "encoded_model_data = data_model.loc[data['linha'] == busline_filter].copy()\r\n",
        "display(encoded_model_data)"
      ],
      "outputs": [
        {
          "output_type": "display_data",
          "data": {
            "text/plain": "         linha            data_hora  validations_per_hour  d_semana  \\\n2418        41  2020-03-01 04:00:00                    25         6   \n2419        41  2020-03-01 05:00:00                   168         6   \n2420        41  2020-03-01 06:00:00                   310         6   \n2421        41  2020-03-01 07:00:00                   339         6   \n2422        41  2020-03-01 08:00:00                   286         6   \n...        ...                  ...                   ...       ...   \n1418148     41  2020-12-31 20:00:00                   138         3   \n1418149     41  2020-12-31 21:00:00                    83         3   \n1418150     41  2020-12-31 22:00:00                    54         3   \n1418151     41  2020-12-31 23:00:00                    30         3   \n1418152     41  2021-01-01 00:00:00                     2         4   \n\n             hour_sin  hour_cos  hora  d_mes  d_ano  mes  semana_do_mes  \\\n2418     8.878852e-01  0.460065     4      1     61    3              0   \n2419     9.790841e-01  0.203456     5      1     61    3              0   \n2420     9.976688e-01 -0.068242     6      1     61    3              0   \n2421     9.422609e-01 -0.334880     7      1     61    3              0   \n2422     8.169699e-01 -0.576680     8      1     61    3              0   \n...               ...       ...   ...    ...    ...  ...            ...   \n1418148 -7.308360e-01  0.682553    20     31    366   12              4   \n1418149 -5.195840e-01  0.854419    21     31    366   12              4   \n1418150 -2.697968e-01  0.962917    22     31    366   12              4   \n1418151 -2.449294e-16  1.000000    23     31    366   12              4   \n1418152  0.000000e+00  1.000000     0      1      1    1              0   \n\n         domingo  segunda  terca  quarta  quinta  sexta  sabado  feriado  \\\n2418         0.0      0.0    0.0     0.0     0.0    0.0     1.0        0   \n2419         0.0      0.0    0.0     0.0     0.0    0.0     1.0        0   \n2420         0.0      0.0    0.0     0.0     0.0    0.0     1.0        0   \n2421         0.0      0.0    0.0     0.0     0.0    0.0     1.0        0   \n2422         0.0      0.0    0.0     0.0     0.0    0.0     1.0        0   \n...          ...      ...    ...     ...     ...    ...     ...      ...   \n1418148      0.0      0.0    0.0     1.0     0.0    0.0     0.0        0   \n1418149      0.0      0.0    0.0     1.0     0.0    0.0     0.0        0   \n1418150      0.0      0.0    0.0     1.0     0.0    0.0     0.0        0   \n1418151      0.0      0.0    0.0     1.0     0.0    0.0     0.0        0   \n1418152      0.0      0.0    0.0     0.0     1.0    0.0     0.0        1   \n\n         vespera_feriado  \n2418                   0  \n2419                   0  \n2420                   0  \n2421                   0  \n2422                   0  \n...                  ...  \n1418148                1  \n1418149                1  \n1418150                1  \n1418151                1  \n1418152                0  \n\n[6172 rows x 20 columns]",
            "text/html": "<div>\n<style scoped>\n    .dataframe tbody tr th:only-of-type {\n        vertical-align: middle;\n    }\n\n    .dataframe tbody tr th {\n        vertical-align: top;\n    }\n\n    .dataframe thead th {\n        text-align: right;\n    }\n</style>\n<table border=\"1\" class=\"dataframe\">\n  <thead>\n    <tr style=\"text-align: right;\">\n      <th></th>\n      <th>linha</th>\n      <th>data_hora</th>\n      <th>validations_per_hour</th>\n      <th>d_semana</th>\n      <th>hour_sin</th>\n      <th>hour_cos</th>\n      <th>hora</th>\n      <th>d_mes</th>\n      <th>d_ano</th>\n      <th>mes</th>\n      <th>semana_do_mes</th>\n      <th>domingo</th>\n      <th>segunda</th>\n      <th>terca</th>\n      <th>quarta</th>\n      <th>quinta</th>\n      <th>sexta</th>\n      <th>sabado</th>\n      <th>feriado</th>\n      <th>vespera_feriado</th>\n    </tr>\n  </thead>\n  <tbody>\n    <tr>\n      <th>2418</th>\n      <td>41</td>\n      <td>2020-03-01 04:00:00</td>\n      <td>25</td>\n      <td>6</td>\n      <td>8.878852e-01</td>\n      <td>0.460065</td>\n      <td>4</td>\n      <td>1</td>\n      <td>61</td>\n      <td>3</td>\n      <td>0</td>\n      <td>0.0</td>\n      <td>0.0</td>\n      <td>0.0</td>\n      <td>0.0</td>\n      <td>0.0</td>\n      <td>0.0</td>\n      <td>1.0</td>\n      <td>0</td>\n      <td>0</td>\n    </tr>\n    <tr>\n      <th>2419</th>\n      <td>41</td>\n      <td>2020-03-01 05:00:00</td>\n      <td>168</td>\n      <td>6</td>\n      <td>9.790841e-01</td>\n      <td>0.203456</td>\n      <td>5</td>\n      <td>1</td>\n      <td>61</td>\n      <td>3</td>\n      <td>0</td>\n      <td>0.0</td>\n      <td>0.0</td>\n      <td>0.0</td>\n      <td>0.0</td>\n      <td>0.0</td>\n      <td>0.0</td>\n      <td>1.0</td>\n      <td>0</td>\n      <td>0</td>\n    </tr>\n    <tr>\n      <th>2420</th>\n      <td>41</td>\n      <td>2020-03-01 06:00:00</td>\n      <td>310</td>\n      <td>6</td>\n      <td>9.976688e-01</td>\n      <td>-0.068242</td>\n      <td>6</td>\n      <td>1</td>\n      <td>61</td>\n      <td>3</td>\n      <td>0</td>\n      <td>0.0</td>\n      <td>0.0</td>\n      <td>0.0</td>\n      <td>0.0</td>\n      <td>0.0</td>\n      <td>0.0</td>\n      <td>1.0</td>\n      <td>0</td>\n      <td>0</td>\n    </tr>\n    <tr>\n      <th>2421</th>\n      <td>41</td>\n      <td>2020-03-01 07:00:00</td>\n      <td>339</td>\n      <td>6</td>\n      <td>9.422609e-01</td>\n      <td>-0.334880</td>\n      <td>7</td>\n      <td>1</td>\n      <td>61</td>\n      <td>3</td>\n      <td>0</td>\n      <td>0.0</td>\n      <td>0.0</td>\n      <td>0.0</td>\n      <td>0.0</td>\n      <td>0.0</td>\n      <td>0.0</td>\n      <td>1.0</td>\n      <td>0</td>\n      <td>0</td>\n    </tr>\n    <tr>\n      <th>2422</th>\n      <td>41</td>\n      <td>2020-03-01 08:00:00</td>\n      <td>286</td>\n      <td>6</td>\n      <td>8.169699e-01</td>\n      <td>-0.576680</td>\n      <td>8</td>\n      <td>1</td>\n      <td>61</td>\n      <td>3</td>\n      <td>0</td>\n      <td>0.0</td>\n      <td>0.0</td>\n      <td>0.0</td>\n      <td>0.0</td>\n      <td>0.0</td>\n      <td>0.0</td>\n      <td>1.0</td>\n      <td>0</td>\n      <td>0</td>\n    </tr>\n    <tr>\n      <th>...</th>\n      <td>...</td>\n      <td>...</td>\n      <td>...</td>\n      <td>...</td>\n      <td>...</td>\n      <td>...</td>\n      <td>...</td>\n      <td>...</td>\n      <td>...</td>\n      <td>...</td>\n      <td>...</td>\n      <td>...</td>\n      <td>...</td>\n      <td>...</td>\n      <td>...</td>\n      <td>...</td>\n      <td>...</td>\n      <td>...</td>\n      <td>...</td>\n      <td>...</td>\n    </tr>\n    <tr>\n      <th>1418148</th>\n      <td>41</td>\n      <td>2020-12-31 20:00:00</td>\n      <td>138</td>\n      <td>3</td>\n      <td>-7.308360e-01</td>\n      <td>0.682553</td>\n      <td>20</td>\n      <td>31</td>\n      <td>366</td>\n      <td>12</td>\n      <td>4</td>\n      <td>0.0</td>\n      <td>0.0</td>\n      <td>0.0</td>\n      <td>1.0</td>\n      <td>0.0</td>\n      <td>0.0</td>\n      <td>0.0</td>\n      <td>0</td>\n      <td>1</td>\n    </tr>\n    <tr>\n      <th>1418149</th>\n      <td>41</td>\n      <td>2020-12-31 21:00:00</td>\n      <td>83</td>\n      <td>3</td>\n      <td>-5.195840e-01</td>\n      <td>0.854419</td>\n      <td>21</td>\n      <td>31</td>\n      <td>366</td>\n      <td>12</td>\n      <td>4</td>\n      <td>0.0</td>\n      <td>0.0</td>\n      <td>0.0</td>\n      <td>1.0</td>\n      <td>0.0</td>\n      <td>0.0</td>\n      <td>0.0</td>\n      <td>0</td>\n      <td>1</td>\n    </tr>\n    <tr>\n      <th>1418150</th>\n      <td>41</td>\n      <td>2020-12-31 22:00:00</td>\n      <td>54</td>\n      <td>3</td>\n      <td>-2.697968e-01</td>\n      <td>0.962917</td>\n      <td>22</td>\n      <td>31</td>\n      <td>366</td>\n      <td>12</td>\n      <td>4</td>\n      <td>0.0</td>\n      <td>0.0</td>\n      <td>0.0</td>\n      <td>1.0</td>\n      <td>0.0</td>\n      <td>0.0</td>\n      <td>0.0</td>\n      <td>0</td>\n      <td>1</td>\n    </tr>\n    <tr>\n      <th>1418151</th>\n      <td>41</td>\n      <td>2020-12-31 23:00:00</td>\n      <td>30</td>\n      <td>3</td>\n      <td>-2.449294e-16</td>\n      <td>1.000000</td>\n      <td>23</td>\n      <td>31</td>\n      <td>366</td>\n      <td>12</td>\n      <td>4</td>\n      <td>0.0</td>\n      <td>0.0</td>\n      <td>0.0</td>\n      <td>1.0</td>\n      <td>0.0</td>\n      <td>0.0</td>\n      <td>0.0</td>\n      <td>0</td>\n      <td>1</td>\n    </tr>\n    <tr>\n      <th>1418152</th>\n      <td>41</td>\n      <td>2021-01-01 00:00:00</td>\n      <td>2</td>\n      <td>4</td>\n      <td>0.000000e+00</td>\n      <td>1.000000</td>\n      <td>0</td>\n      <td>1</td>\n      <td>1</td>\n      <td>1</td>\n      <td>0</td>\n      <td>0.0</td>\n      <td>0.0</td>\n      <td>0.0</td>\n      <td>0.0</td>\n      <td>1.0</td>\n      <td>0.0</td>\n      <td>0.0</td>\n      <td>1</td>\n      <td>0</td>\n    </tr>\n  </tbody>\n</table>\n<p>6172 rows × 20 columns</p>\n</div>"
          },
          "metadata": {}
        }
      ],
      "execution_count": 3,
      "metadata": {
        "gather": {
          "logged": 1625507635235
        }
      },
      "id": "bf0866fc-bc4e-4d57-b1e5-d5587975c7cf"
    },
    {
      "cell_type": "code",
      "source": [
        "X = encoded_model_data.filter(['hour_sin', 'hour_cos', \n",
        "    'd_mes', 'd_ano', 'mes', 'semana_do_mes', \n",
        "    'domingo','segunda', 'terca', 'quarta', 'quinta', 'sexta', 'sabado', \n",
        "    'feriado', 'vespera_feriado'], axis=1)\n",
        "y = encoded_model_data.validations_per_hour\n",
        "display(X)\n",
        "display(y)"
      ],
      "outputs": [
        {
          "output_type": "display_data",
          "data": {
            "text/plain": "             hour_sin  hour_cos  d_mes  d_ano  mes  semana_do_mes  domingo  \\\n2418     8.878852e-01  0.460065      1     61    3              0      0.0   \n2419     9.790841e-01  0.203456      1     61    3              0      0.0   \n2420     9.976688e-01 -0.068242      1     61    3              0      0.0   \n2421     9.422609e-01 -0.334880      1     61    3              0      0.0   \n2422     8.169699e-01 -0.576680      1     61    3              0      0.0   \n...               ...       ...    ...    ...  ...            ...      ...   \n1418148 -7.308360e-01  0.682553     31    366   12              4      0.0   \n1418149 -5.195840e-01  0.854419     31    366   12              4      0.0   \n1418150 -2.697968e-01  0.962917     31    366   12              4      0.0   \n1418151 -2.449294e-16  1.000000     31    366   12              4      0.0   \n1418152  0.000000e+00  1.000000      1      1    1              0      0.0   \n\n         segunda  terca  quarta  quinta  sexta  sabado  feriado  \\\n2418         0.0    0.0     0.0     0.0    0.0     1.0        0   \n2419         0.0    0.0     0.0     0.0    0.0     1.0        0   \n2420         0.0    0.0     0.0     0.0    0.0     1.0        0   \n2421         0.0    0.0     0.0     0.0    0.0     1.0        0   \n2422         0.0    0.0     0.0     0.0    0.0     1.0        0   \n...          ...    ...     ...     ...    ...     ...      ...   \n1418148      0.0    0.0     1.0     0.0    0.0     0.0        0   \n1418149      0.0    0.0     1.0     0.0    0.0     0.0        0   \n1418150      0.0    0.0     1.0     0.0    0.0     0.0        0   \n1418151      0.0    0.0     1.0     0.0    0.0     0.0        0   \n1418152      0.0    0.0     0.0     1.0    0.0     0.0        1   \n\n         vespera_feriado  \n2418                   0  \n2419                   0  \n2420                   0  \n2421                   0  \n2422                   0  \n...                  ...  \n1418148                1  \n1418149                1  \n1418150                1  \n1418151                1  \n1418152                0  \n\n[6172 rows x 15 columns]",
            "text/html": "<div>\n<style scoped>\n    .dataframe tbody tr th:only-of-type {\n        vertical-align: middle;\n    }\n\n    .dataframe tbody tr th {\n        vertical-align: top;\n    }\n\n    .dataframe thead th {\n        text-align: right;\n    }\n</style>\n<table border=\"1\" class=\"dataframe\">\n  <thead>\n    <tr style=\"text-align: right;\">\n      <th></th>\n      <th>hour_sin</th>\n      <th>hour_cos</th>\n      <th>d_mes</th>\n      <th>d_ano</th>\n      <th>mes</th>\n      <th>semana_do_mes</th>\n      <th>domingo</th>\n      <th>segunda</th>\n      <th>terca</th>\n      <th>quarta</th>\n      <th>quinta</th>\n      <th>sexta</th>\n      <th>sabado</th>\n      <th>feriado</th>\n      <th>vespera_feriado</th>\n    </tr>\n  </thead>\n  <tbody>\n    <tr>\n      <th>2418</th>\n      <td>8.878852e-01</td>\n      <td>0.460065</td>\n      <td>1</td>\n      <td>61</td>\n      <td>3</td>\n      <td>0</td>\n      <td>0.0</td>\n      <td>0.0</td>\n      <td>0.0</td>\n      <td>0.0</td>\n      <td>0.0</td>\n      <td>0.0</td>\n      <td>1.0</td>\n      <td>0</td>\n      <td>0</td>\n    </tr>\n    <tr>\n      <th>2419</th>\n      <td>9.790841e-01</td>\n      <td>0.203456</td>\n      <td>1</td>\n      <td>61</td>\n      <td>3</td>\n      <td>0</td>\n      <td>0.0</td>\n      <td>0.0</td>\n      <td>0.0</td>\n      <td>0.0</td>\n      <td>0.0</td>\n      <td>0.0</td>\n      <td>1.0</td>\n      <td>0</td>\n      <td>0</td>\n    </tr>\n    <tr>\n      <th>2420</th>\n      <td>9.976688e-01</td>\n      <td>-0.068242</td>\n      <td>1</td>\n      <td>61</td>\n      <td>3</td>\n      <td>0</td>\n      <td>0.0</td>\n      <td>0.0</td>\n      <td>0.0</td>\n      <td>0.0</td>\n      <td>0.0</td>\n      <td>0.0</td>\n      <td>1.0</td>\n      <td>0</td>\n      <td>0</td>\n    </tr>\n    <tr>\n      <th>2421</th>\n      <td>9.422609e-01</td>\n      <td>-0.334880</td>\n      <td>1</td>\n      <td>61</td>\n      <td>3</td>\n      <td>0</td>\n      <td>0.0</td>\n      <td>0.0</td>\n      <td>0.0</td>\n      <td>0.0</td>\n      <td>0.0</td>\n      <td>0.0</td>\n      <td>1.0</td>\n      <td>0</td>\n      <td>0</td>\n    </tr>\n    <tr>\n      <th>2422</th>\n      <td>8.169699e-01</td>\n      <td>-0.576680</td>\n      <td>1</td>\n      <td>61</td>\n      <td>3</td>\n      <td>0</td>\n      <td>0.0</td>\n      <td>0.0</td>\n      <td>0.0</td>\n      <td>0.0</td>\n      <td>0.0</td>\n      <td>0.0</td>\n      <td>1.0</td>\n      <td>0</td>\n      <td>0</td>\n    </tr>\n    <tr>\n      <th>...</th>\n      <td>...</td>\n      <td>...</td>\n      <td>...</td>\n      <td>...</td>\n      <td>...</td>\n      <td>...</td>\n      <td>...</td>\n      <td>...</td>\n      <td>...</td>\n      <td>...</td>\n      <td>...</td>\n      <td>...</td>\n      <td>...</td>\n      <td>...</td>\n      <td>...</td>\n    </tr>\n    <tr>\n      <th>1418148</th>\n      <td>-7.308360e-01</td>\n      <td>0.682553</td>\n      <td>31</td>\n      <td>366</td>\n      <td>12</td>\n      <td>4</td>\n      <td>0.0</td>\n      <td>0.0</td>\n      <td>0.0</td>\n      <td>1.0</td>\n      <td>0.0</td>\n      <td>0.0</td>\n      <td>0.0</td>\n      <td>0</td>\n      <td>1</td>\n    </tr>\n    <tr>\n      <th>1418149</th>\n      <td>-5.195840e-01</td>\n      <td>0.854419</td>\n      <td>31</td>\n      <td>366</td>\n      <td>12</td>\n      <td>4</td>\n      <td>0.0</td>\n      <td>0.0</td>\n      <td>0.0</td>\n      <td>1.0</td>\n      <td>0.0</td>\n      <td>0.0</td>\n      <td>0.0</td>\n      <td>0</td>\n      <td>1</td>\n    </tr>\n    <tr>\n      <th>1418150</th>\n      <td>-2.697968e-01</td>\n      <td>0.962917</td>\n      <td>31</td>\n      <td>366</td>\n      <td>12</td>\n      <td>4</td>\n      <td>0.0</td>\n      <td>0.0</td>\n      <td>0.0</td>\n      <td>1.0</td>\n      <td>0.0</td>\n      <td>0.0</td>\n      <td>0.0</td>\n      <td>0</td>\n      <td>1</td>\n    </tr>\n    <tr>\n      <th>1418151</th>\n      <td>-2.449294e-16</td>\n      <td>1.000000</td>\n      <td>31</td>\n      <td>366</td>\n      <td>12</td>\n      <td>4</td>\n      <td>0.0</td>\n      <td>0.0</td>\n      <td>0.0</td>\n      <td>1.0</td>\n      <td>0.0</td>\n      <td>0.0</td>\n      <td>0.0</td>\n      <td>0</td>\n      <td>1</td>\n    </tr>\n    <tr>\n      <th>1418152</th>\n      <td>0.000000e+00</td>\n      <td>1.000000</td>\n      <td>1</td>\n      <td>1</td>\n      <td>1</td>\n      <td>0</td>\n      <td>0.0</td>\n      <td>0.0</td>\n      <td>0.0</td>\n      <td>0.0</td>\n      <td>1.0</td>\n      <td>0.0</td>\n      <td>0.0</td>\n      <td>1</td>\n      <td>0</td>\n    </tr>\n  </tbody>\n</table>\n<p>6172 rows × 15 columns</p>\n</div>"
          },
          "metadata": {}
        },
        {
          "output_type": "display_data",
          "data": {
            "text/plain": "2418        25\n2419       168\n2420       310\n2421       339\n2422       286\n          ... \n1418148    138\n1418149     83\n1418150     54\n1418151     30\n1418152      2\nName: validations_per_hour, Length: 6172, dtype: int64"
          },
          "metadata": {}
        }
      ],
      "execution_count": 4,
      "metadata": {
        "gather": {
          "logged": 1625507635447
        }
      },
      "id": "38e5aec3-9e51-4a24-bdff-846c4f86822d"
    },
    {
      "cell_type": "code",
      "source": [
        "LinearRegressionModel = LinearRegression()\r\n",
        "RandomForestModel = RandomForestRegressor(n_jobs=4)\r\n",
        "\r\n",
        "# Number of trees in random forest\r\n",
        "n_estimators = [int(x) for x in np.linspace(start = 200, stop = 2000, num = 10)]\r\n",
        "\r\n",
        "n_jobs = [2, 4, 6, 8]\r\n",
        "# Number of features to consider at every split\r\n",
        "max_features = ['auto', 'sqrt']\r\n",
        "# Maximum number of levels in tree\r\n",
        "max_depth = [int(x) for x in np.linspace(10, 110, num = 11)]\r\n",
        "max_depth.append(None)\r\n",
        "# Minimum number of samples required to split a node\r\n",
        "min_samples_split = [2, 5, 10]\r\n",
        "# Minimum number of samples required at each leaf node\r\n",
        "min_samples_leaf = [1, 2, 4]\r\n",
        "# Method of selecting samples for training each tree\r\n",
        "bootstrap = [True, False]\r\n",
        "# Create the random grid\r\n",
        "random_grid = {'n_estimators': n_estimators,\r\n",
        "               'max_features': max_features,\r\n",
        "               'max_depth': max_depth,\r\n",
        "               'min_samples_split': min_samples_split,\r\n",
        "               'min_samples_leaf': min_samples_leaf,\r\n",
        "               'bootstrap': bootstrap,\r\n",
        "               'n_jobs': n_jobs}\r\n",
        "\r\n",
        "#pprint(RandomForestModel.get_params())\r\n",
        "#pprint(random_grid)\r\n",
        "\r\n",
        "# Random search of parameters, using 3 fold cross validation, \r\n",
        "# search across 100 different combinations, and use all available cores\r\n",
        "#rf_random = RandomizedSearchCV(estimator = RandomForestModel, param_distributions = random_grid, n_iter = 100, cv = 3, verbose=2, random_state=42, n_jobs = -1)\r\n",
        "# Fit the random search model\r\n",
        "#X_train, X_test, Y_train, Y_test = train_test_split(X, y, test_size = 0.2, random_state=5)\r\n",
        "\r\n",
        "#rf_random.fit(X_train, Y_train)\r\n",
        "#pprint(rf_random.best_params_)\r\n",
        "#best_random = rf_random.best_estimator_\r\n",
        "\r\n",
        "\r\n",
        "\r\n",
        "def singlebusline_model(model, X, y):\r\n",
        "    singlebusline_model = model\r\n",
        "    X_train, X_test, Y_train, Y_test = train_test_split(X, y, test_size = 0.2, random_state=5)\r\n",
        "    singlebusline_model.fit(X_train, Y_train)\r\n",
        "    performance_scoring = get_performance(model, X_test, Y_test)\r\n",
        "    return singlebusline_model, performance_scoring"
      ],
      "outputs": [],
      "execution_count": 6,
      "metadata": {
        "gather": {
          "logged": 1625507688482
        }
      },
      "id": "16a10a24-e110-4a04-9a3e-1bf9a52db55c"
    },
    {
      "cell_type": "code",
      "source": [
        "def get_performance(model, X_test, Y_test):\r\n",
        "    y_test_predict = model.predict(X_test)\r\n",
        "    mse = mean_squared_error(Y_test, y_test_predict)\r\n",
        "    rmse = (np.sqrt(mse))\r\n",
        "    r2 = r2_score(Y_test, y_test_predict)\r\n",
        "    mae = mean_absolute_error(Y_test, y_test_predict)\r\n",
        "    #mape = mean_absolute_percentage_error(Y_test, y_test_predict)\r\n",
        "    performance_scoring = [\r\n",
        "        r2,\r\n",
        "        rmse,\r\n",
        "        mae,\r\n",
        "        #mape\r\n",
        "    ]\r\n",
        "    #performance_scoring = pd.DataFrame(performance_scoring,columns=['Metrica', 'Score'])\r\n",
        "    #performance_scoring['Score'] = performance_scoring['Score'].astype('float64')\r\n",
        "    return performance_scoring"
      ],
      "outputs": [],
      "execution_count": 7,
      "metadata": {
        "gather": {
          "logged": 1625507691237
        }
      },
      "id": "bde7d3d8-5370-46bc-bada-564a1139181b"
    },
    {
      "cell_type": "code",
      "source": [
        "print(\"###  1 Modelo Por Linha (dado completo de treino)\")\r\n",
        "\r\n",
        "model_per_line_lr, model_per_line_lr_performance = singlebusline_model(LinearRegressionModel, X, y)\r\n",
        "model_per_line_rf, model_per_line_rf_performance = singlebusline_model(RandomForestModel, X, y)\r\n",
        "\r\n",
        "print('Regressao Linear: \\n', model_per_line_lr_performance)\r\n",
        "print(\"\\n----------------------------------------------------\\n\")\r\n",
        "print('Random Forest: \\n', model_per_line_rf_performance)\r\n",
        "\r\n",
        "print(\"\\nUtilizando sample aleatorio de dado para teste de previsao: \")\r\n",
        "\r\n",
        "sample = X.sample(n=1)\r\n",
        "predict_res = model_per_line_lr.predict(sample)\r\n",
        "\r\n",
        "print(\"Regressao Linear -> resultado do predict de test: \", predict_res)\r\n",
        "\r\n",
        "predict_res2 = model_per_line_rf.predict(sample)\r\n",
        "print(\"Random Forest -> resultado do predict de test: \", predict_res2)\r\n",
        "\r\n",
        "random_res = best_random.predict(sample)\r\n",
        "print(\"Random -> resultado do predict de test: \", predict_res2)\r\n",
        "\r\n",
        "display(data_model.loc[sample.index[0]:sample.index[0]])"
      ],
      "outputs": [
        {
          "output_type": "stream",
          "name": "stdout",
          "text": [
            "###  1 Modelo Por Linha (dado completo de treino)\n",
            "Regressao Linear: \n",
            " [0.3724476627164204, 215.73460401278615, 161.58880229914652]\n",
            "\n",
            "----------------------------------------------------\n",
            "\n",
            "Random Forest: \n",
            " [0.9770343194610285, 41.27000256306273, 29.683889338731444]\n",
            "\n",
            "Utilizando sample aleatorio de dado para teste de previsao: \n",
            "Regressao Linear -> resultado do predict de test:  [472.5968997]\n",
            "Random Forest -> resultado do predict de test:  [236.85]\n"
          ]
        },
        {
          "output_type": "error",
          "ename": "NameError",
          "evalue": "name 'best_random' is not defined",
          "traceback": [
            "\u001b[0;31m---------------------------------------------------------------------------\u001b[0m",
            "\u001b[0;31mNameError\u001b[0m                                 Traceback (most recent call last)",
            "\u001b[0;32m<ipython-input-8-db35f5bd750e>\u001b[0m in \u001b[0;36m<module>\u001b[0;34m\u001b[0m\n\u001b[1;32m     18\u001b[0m \u001b[0mprint\u001b[0m\u001b[0;34m(\u001b[0m\u001b[0;34m\"Random Forest -> resultado do predict de test: \"\u001b[0m\u001b[0;34m,\u001b[0m \u001b[0mpredict_res2\u001b[0m\u001b[0;34m)\u001b[0m\u001b[0;34m\u001b[0m\u001b[0;34m\u001b[0m\u001b[0m\n\u001b[1;32m     19\u001b[0m \u001b[0;34m\u001b[0m\u001b[0m\n\u001b[0;32m---> 20\u001b[0;31m \u001b[0mrandom_res\u001b[0m \u001b[0;34m=\u001b[0m \u001b[0mbest_random\u001b[0m\u001b[0;34m.\u001b[0m\u001b[0mpredict\u001b[0m\u001b[0;34m(\u001b[0m\u001b[0msample\u001b[0m\u001b[0;34m)\u001b[0m\u001b[0;34m\u001b[0m\u001b[0;34m\u001b[0m\u001b[0m\n\u001b[0m\u001b[1;32m     21\u001b[0m \u001b[0mprint\u001b[0m\u001b[0;34m(\u001b[0m\u001b[0;34m\"Random -> resultado do predict de test: \"\u001b[0m\u001b[0;34m,\u001b[0m \u001b[0mpredict_res2\u001b[0m\u001b[0;34m)\u001b[0m\u001b[0;34m\u001b[0m\u001b[0;34m\u001b[0m\u001b[0m\n\u001b[1;32m     22\u001b[0m \u001b[0;34m\u001b[0m\u001b[0m\n",
            "\u001b[0;31mNameError\u001b[0m: name 'best_random' is not defined"
          ]
        }
      ],
      "execution_count": 8,
      "metadata": {
        "gather": {
          "logged": 1625507166681
        }
      },
      "id": "adf0ad3a-dee8-4221-b4a3-da4a2f50df5c"
    },
    {
      "cell_type": "code",
      "source": [
        "sample"
      ],
      "outputs": [],
      "execution_count": null,
      "metadata": {
        "gather": {
          "logged": 1625507166993
        }
      },
      "id": "eee40051-8e92-4aee-acd6-b3e5b8681f64"
    },
    {
      "cell_type": "code",
      "source": [
        "data_model.linha.value_counts(ascending=True)[data_model['linha'].value_counts() < 100]\r\n"
      ],
      "outputs": [
        {
          "output_type": "execute_result",
          "execution_count": 20,
          "data": {
            "text/plain": "pandas.core.series.Series"
          },
          "metadata": {}
        }
      ],
      "execution_count": 20,
      "metadata": {
        "collapsed": true,
        "jupyter": {
          "source_hidden": false,
          "outputs_hidden": false
        },
        "nteract": {
          "transient": {
            "deleting": false
          }
        },
        "gather": {
          "logged": 1625508172662
        }
      },
      "id": "d5404e9d-abd2-4d3b-9e95-95915ea5fd22"
    },
    {
      "cell_type": "code",
      "source": [
        "#data_model\r\n",
        "#data_model.loc[data['linha'] == busline_filter].copy()\r\n",
        "linha_lista = data_model.linha.unique()\r\n",
        "#linha_lista = linha_lista[:5]\r\n",
        "res_map = list()\r\n",
        "print(linha_lista)\r\n",
        "for linha in linha_lista:\r\n",
        "    #print(linha) it is working\r\n",
        "    currentLinhaData = data_model.loc[data['linha'] == linha].copy()\r\n",
        "    if len(currentLinhaData) < 100:\r\n",
        "        pass\r\n",
        "    X = currentLinhaData.filter(['hour_sin', 'hour_cos', \r\n",
        "    'd_mes', 'd_ano', 'mes', 'semana_do_mes', \r\n",
        "    'domingo','segunda', 'terca', 'quarta', 'quinta', 'sexta', 'sabado', \r\n",
        "    'feriado', 'vespera_feriado'], axis=1)\r\n",
        "    y = currentLinhaData.validations_per_hour\r\n",
        "    model, performance = singlebusline_model(RandomForestModel, X, y)\r\n",
        "    performance.insert(0, linha)\r\n",
        "    res_map.append(performance)\r\n",
        "\r\n",
        "res_map = pd.DataFrame(res_map,columns=['Linha', 'R2', 'RMSE', 'MAE'])\r\n",
        "\r\n",
        "#performance_scoring['Score'] = performance_scoring['Score'].astype('float64')\r\n",
        "df_comp = pd.DataFrame(res_map, columns =['linha', 'R2', 'RMSE', 'MAE'])\r\n",
        "display(res_map.sort_values('R2').reset_index(drop=True))"
      ],
      "outputs": [
        {
          "output_type": "stream",
          "name": "stdout",
          "text": [
            "[  1  10 101 102 106 108  11 110 111 112 114 115  12 122  13 130  14  15\n",
            " 172 192 200 205 206  21 210 211 212 213 214 215 216 217  22 220 221 222\n",
            " 225  23 236 243  25  26  27  28  29   3  30 302 303 304 305 308 309  31\n",
            " 310 311 312 313 314 315 317 318 319  32 321 322 323 324 325 327 329  33\n",
            " 330 332 334 335 336 337 338 339  34 340 342 344 345 346 347 348 349  35\n",
            " 350 351 353 355 356 357 358 359  36 360 361 362 365 366 367 368 369  37\n",
            " 372 375 376 377 378 379  38 381 382 383 384 385 386 388 389  39 390 391\n",
            " 392 393 394 395 397 398 399 403 404 405 406 407  41  42 421  43  44  45\n",
            " 456  46 466  47  48   5 501 502  51  52  53  54  55  56  57  58  59   6\n",
            "  60 600 601 602 603 604 605 606 609 610 611 612 613 615 616 617 618 619\n",
            "  62 620 621 622 625 626 627 628 629  63 630 631 632 633 634 635 636 637\n",
            " 639  64 640 641 642 643 645 646 647 648 649 650 653 655 656 657  66 660\n",
            " 665 666 668 676 679  68 680 681 685 686  69 696 699   7  70 701 702 703\n",
            " 706 709  71 711 712 725  74  75 752 754 755 757  76 762  77  78  79   8\n",
            "  80 804 806  81 813 814 815 820 825  83 831 832 836 841  85 855  88  90\n",
            " 901 903 905 906 907 909 913 917  92 920  95 991 992 993 994 995 997 120\n",
            " 127 132  16  17  19 226  24 244 286 299 300 307 316 320 331 333 341 343\n",
            " 354 363 364 371 374 387   4  40 400 401 411  50 503 504 513  61 644 663\n",
            "  67 670 675 690 710 713  72 728  73 753 810 816  82 823 833 835  84  86\n",
            " 860  87 916  96  97 971  98  99  65  91 941  89  93 140 947 983 986 987\n",
            "  20 232 150 138 999 599 826 935 985 927 141 144 705 759 142 661 145 797\n",
            " 918 199 251 177 774 775 842  18 919 129 870 811 250 773 170 152 989 900\n",
            " 965 980 413 678 996 922 233 202]\n"
          ]
        },
        {
          "output_type": "stream",
          "name": "stderr",
          "text": [
            "/anaconda/envs/azureml_py38/lib/python3.8/site-packages/sklearn/metrics/_regression.py:582: UndefinedMetricWarning: R^2 score is not well-defined with less than two samples.\n",
            "  warnings.warn(msg, UndefinedMetricWarning)\n",
            "/anaconda/envs/azureml_py38/lib/python3.8/site-packages/sklearn/metrics/_regression.py:582: UndefinedMetricWarning: R^2 score is not well-defined with less than two samples.\n",
            "  warnings.warn(msg, UndefinedMetricWarning)\n",
            "/anaconda/envs/azureml_py38/lib/python3.8/site-packages/sklearn/metrics/_regression.py:582: UndefinedMetricWarning: R^2 score is not well-defined with less than two samples.\n",
            "  warnings.warn(msg, UndefinedMetricWarning)\n"
          ]
        },
        {
          "output_type": "error",
          "ename": "ValueError",
          "evalue": "With n_samples=1, test_size=0.2 and train_size=None, the resulting train set will be empty. Adjust any of the aforementioned parameters.",
          "traceback": [
            "\u001b[0;31m---------------------------------------------------------------------------\u001b[0m",
            "\u001b[0;31mValueError\u001b[0m                                Traceback (most recent call last)",
            "\u001b[0;32m<ipython-input-11-51d6a8fec5b2>\u001b[0m in \u001b[0;36m<module>\u001b[0;34m\u001b[0m\n\u001b[1;32m     13\u001b[0m     'feriado', 'vespera_feriado'], axis=1)\n\u001b[1;32m     14\u001b[0m     \u001b[0my\u001b[0m \u001b[0;34m=\u001b[0m \u001b[0mcurrentLinhaData\u001b[0m\u001b[0;34m.\u001b[0m\u001b[0mvalidations_per_hour\u001b[0m\u001b[0;34m\u001b[0m\u001b[0;34m\u001b[0m\u001b[0m\n\u001b[0;32m---> 15\u001b[0;31m     \u001b[0mmodel\u001b[0m\u001b[0;34m,\u001b[0m \u001b[0mperformance\u001b[0m \u001b[0;34m=\u001b[0m \u001b[0msinglebusline_model\u001b[0m\u001b[0;34m(\u001b[0m\u001b[0mRandomForestModel\u001b[0m\u001b[0;34m,\u001b[0m \u001b[0mX\u001b[0m\u001b[0;34m,\u001b[0m \u001b[0my\u001b[0m\u001b[0;34m)\u001b[0m\u001b[0;34m\u001b[0m\u001b[0;34m\u001b[0m\u001b[0m\n\u001b[0m\u001b[1;32m     16\u001b[0m     \u001b[0mperformance\u001b[0m\u001b[0;34m.\u001b[0m\u001b[0minsert\u001b[0m\u001b[0;34m(\u001b[0m\u001b[0;36m0\u001b[0m\u001b[0;34m,\u001b[0m \u001b[0mlinha\u001b[0m\u001b[0;34m)\u001b[0m\u001b[0;34m\u001b[0m\u001b[0;34m\u001b[0m\u001b[0m\n\u001b[1;32m     17\u001b[0m     \u001b[0mres_map\u001b[0m\u001b[0;34m.\u001b[0m\u001b[0mappend\u001b[0m\u001b[0;34m(\u001b[0m\u001b[0mperformance\u001b[0m\u001b[0;34m)\u001b[0m\u001b[0;34m\u001b[0m\u001b[0;34m\u001b[0m\u001b[0m\n",
            "\u001b[0;32m<ipython-input-6-79b180310dcb>\u001b[0m in \u001b[0;36msinglebusline_model\u001b[0;34m(model, X, y)\u001b[0m\n\u001b[1;32m     43\u001b[0m \u001b[0;32mdef\u001b[0m \u001b[0msinglebusline_model\u001b[0m\u001b[0;34m(\u001b[0m\u001b[0mmodel\u001b[0m\u001b[0;34m,\u001b[0m \u001b[0mX\u001b[0m\u001b[0;34m,\u001b[0m \u001b[0my\u001b[0m\u001b[0;34m)\u001b[0m\u001b[0;34m:\u001b[0m\u001b[0;34m\u001b[0m\u001b[0;34m\u001b[0m\u001b[0m\n\u001b[1;32m     44\u001b[0m     \u001b[0msinglebusline_model\u001b[0m \u001b[0;34m=\u001b[0m \u001b[0mmodel\u001b[0m\u001b[0;34m\u001b[0m\u001b[0;34m\u001b[0m\u001b[0m\n\u001b[0;32m---> 45\u001b[0;31m     \u001b[0mX_train\u001b[0m\u001b[0;34m,\u001b[0m \u001b[0mX_test\u001b[0m\u001b[0;34m,\u001b[0m \u001b[0mY_train\u001b[0m\u001b[0;34m,\u001b[0m \u001b[0mY_test\u001b[0m \u001b[0;34m=\u001b[0m \u001b[0mtrain_test_split\u001b[0m\u001b[0;34m(\u001b[0m\u001b[0mX\u001b[0m\u001b[0;34m,\u001b[0m \u001b[0my\u001b[0m\u001b[0;34m,\u001b[0m \u001b[0mtest_size\u001b[0m \u001b[0;34m=\u001b[0m \u001b[0;36m0.2\u001b[0m\u001b[0;34m,\u001b[0m \u001b[0mrandom_state\u001b[0m\u001b[0;34m=\u001b[0m\u001b[0;36m5\u001b[0m\u001b[0;34m)\u001b[0m\u001b[0;34m\u001b[0m\u001b[0;34m\u001b[0m\u001b[0m\n\u001b[0m\u001b[1;32m     46\u001b[0m     \u001b[0msinglebusline_model\u001b[0m\u001b[0;34m.\u001b[0m\u001b[0mfit\u001b[0m\u001b[0;34m(\u001b[0m\u001b[0mX_train\u001b[0m\u001b[0;34m,\u001b[0m \u001b[0mY_train\u001b[0m\u001b[0;34m)\u001b[0m\u001b[0;34m\u001b[0m\u001b[0;34m\u001b[0m\u001b[0m\n\u001b[1;32m     47\u001b[0m     \u001b[0mperformance_scoring\u001b[0m \u001b[0;34m=\u001b[0m \u001b[0mget_performance\u001b[0m\u001b[0;34m(\u001b[0m\u001b[0mmodel\u001b[0m\u001b[0;34m,\u001b[0m \u001b[0mX_test\u001b[0m\u001b[0;34m,\u001b[0m \u001b[0mY_test\u001b[0m\u001b[0;34m)\u001b[0m\u001b[0;34m\u001b[0m\u001b[0;34m\u001b[0m\u001b[0m\n",
            "\u001b[0;32m/anaconda/envs/azureml_py38/lib/python3.8/site-packages/sklearn/model_selection/_split.py\u001b[0m in \u001b[0;36mtrain_test_split\u001b[0;34m(*arrays, **options)\u001b[0m\n\u001b[1;32m   2119\u001b[0m \u001b[0;34m\u001b[0m\u001b[0m\n\u001b[1;32m   2120\u001b[0m     \u001b[0mn_samples\u001b[0m \u001b[0;34m=\u001b[0m \u001b[0m_num_samples\u001b[0m\u001b[0;34m(\u001b[0m\u001b[0marrays\u001b[0m\u001b[0;34m[\u001b[0m\u001b[0;36m0\u001b[0m\u001b[0;34m]\u001b[0m\u001b[0;34m)\u001b[0m\u001b[0;34m\u001b[0m\u001b[0;34m\u001b[0m\u001b[0m\n\u001b[0;32m-> 2121\u001b[0;31m     n_train, n_test = _validate_shuffle_split(n_samples, test_size, train_size,\n\u001b[0m\u001b[1;32m   2122\u001b[0m                                               default_test_size=0.25)\n\u001b[1;32m   2123\u001b[0m \u001b[0;34m\u001b[0m\u001b[0m\n",
            "\u001b[0;32m/anaconda/envs/azureml_py38/lib/python3.8/site-packages/sklearn/model_selection/_split.py\u001b[0m in \u001b[0;36m_validate_shuffle_split\u001b[0;34m(n_samples, test_size, train_size, default_test_size)\u001b[0m\n\u001b[1;32m   1799\u001b[0m \u001b[0;34m\u001b[0m\u001b[0m\n\u001b[1;32m   1800\u001b[0m     \u001b[0;32mif\u001b[0m \u001b[0mn_train\u001b[0m \u001b[0;34m==\u001b[0m \u001b[0;36m0\u001b[0m\u001b[0;34m:\u001b[0m\u001b[0;34m\u001b[0m\u001b[0;34m\u001b[0m\u001b[0m\n\u001b[0;32m-> 1801\u001b[0;31m         raise ValueError(\n\u001b[0m\u001b[1;32m   1802\u001b[0m             \u001b[0;34m'With n_samples={}, test_size={} and train_size={}, the '\u001b[0m\u001b[0;34m\u001b[0m\u001b[0;34m\u001b[0m\u001b[0m\n\u001b[1;32m   1803\u001b[0m             \u001b[0;34m'resulting train set will be empty. Adjust any of the '\u001b[0m\u001b[0;34m\u001b[0m\u001b[0;34m\u001b[0m\u001b[0m\n",
            "\u001b[0;31mValueError\u001b[0m: With n_samples=1, test_size=0.2 and train_size=None, the resulting train set will be empty. Adjust any of the aforementioned parameters."
          ]
        }
      ],
      "execution_count": 11,
      "metadata": {
        "gather": {
          "logged": 1625502943696
        }
      },
      "id": "4ab4ce8a-aedd-413e-a53a-486b199f446b"
    },
    {
      "cell_type": "code",
      "source": [
        "print(linha_lista)\r\n"
      ],
      "outputs": [],
      "execution_count": null,
      "metadata": {},
      "id": "f4ee512a-b3e7-483c-80d1-431fd3059554"
    },
    {
      "cell_type": "code",
      "source": [],
      "outputs": [],
      "execution_count": null,
      "metadata": {
        "collapsed": true,
        "jupyter": {
          "source_hidden": false,
          "outputs_hidden": false
        },
        "nteract": {
          "transient": {
            "deleting": false
          }
        }
      },
      "id": "082ec1b1-9ac2-41d1-a46a-a94769c63234"
    }
  ],
  "metadata": {
    "interpreter": {
      "hash": "4caa081543ae4d7454eea2adf6270962382d99fc25b3a6423caed7aecce4d7f8"
    },
    "kernelspec": {
      "name": "python38-azureml",
      "language": "python",
      "display_name": "Python 3.8 - AzureML"
    },
    "language_info": {
      "name": "python",
      "version": "3.8.1",
      "mimetype": "text/x-python",
      "codemirror_mode": {
        "name": "ipython",
        "version": 3
      },
      "pygments_lexer": "ipython3",
      "nbconvert_exporter": "python",
      "file_extension": ".py"
    },
    "kernel_info": {
      "name": "python38-azureml"
    },
    "nteract": {
      "version": "nteract-front-end@1.0.0"
    },
    "microsoft": {
      "host": {
        "AzureML": {
          "notebookHasBeenCompleted": true
        }
      }
    }
  },
  "nbformat": 4,
  "nbformat_minor": 5
}