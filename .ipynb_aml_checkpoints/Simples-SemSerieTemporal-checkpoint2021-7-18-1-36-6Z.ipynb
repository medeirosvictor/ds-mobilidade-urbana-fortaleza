{
  "cells": [
    {
      "cell_type": "markdown",
      "source": [
        "## Previsao de Embarque \r\n",
        "- Simples \r\n",
        "- Sem Serie Temporal\r\n",
        "- Regressao Linear\r\n",
        "- Random Forest"
      ],
      "metadata": {},
      "id": "cb33d1de-7a2c-42c9-ace8-56f64b8c5847"
    },
    {
      "cell_type": "code",
      "source": [
        "import pandas as pd\r\n",
        "import matplotlib.pyplot as plt\r\n",
        "import numpy as np\r\n",
        "from sklearn.preprocessing import OneHotEncoder\r\n",
        "from sklearn.linear_model import LinearRegression\r\n",
        "from sklearn.ensemble import RandomForestRegressor\r\n",
        "from sklearn.model_selection import train_test_split, cross_val_score\r\n",
        "from sklearn.metrics import mean_squared_error, r2_score, mean_absolute_error\r\n",
        "#from sklearn.metrics import mean_absolute_percentage_error\r\n",
        "from sklearn.model_selection import RandomizedSearchCV\r\n",
        "from IPython.display import display\r\n",
        "from pprint import pprint\r\n",
        "from math import sqrt\r\n",
        "\r\n",
        "#from shutil import unpack_archive\r\n",
        "#unpack_archive('./df_input.zip', './')"
      ],
      "outputs": [],
      "execution_count": 1,
      "metadata": {
        "gather": {
          "logged": 1629155636347
        }
      },
      "id": "590f3a91-077c-483c-8472-063d0d47c026"
    },
    {
      "cell_type": "markdown",
      "source": [
        "## Filtro de Onibus e definicoes de features/target"
      ],
      "metadata": {
        "nteract": {
          "transient": {
            "deleting": false
          }
        }
      },
      "id": "869d1469-9da1-453e-bdf1-39e6456a90f0"
    },
    {
      "cell_type": "code",
      "source": [
        "# Reading Data file (geolocalized)\r\n",
        "data = pd.read_csv('./df_input.csv', sep=';', delimiter=';')\r\n",
        "\r\n",
        "busline_filter = 41\r\n",
        "data_model = data.copy()\r\n",
        "\r\n",
        "feature_names = [\r\n",
        "    'hour_sin', 'hour_cos', \r\n",
        "    'd_mes', 'd_ano', 'mes', 'semana_do_mes', \r\n",
        "    'domingo','segunda', 'terca', 'quarta', 'quinta', 'sexta', 'sabado', \r\n",
        "    'feriado', 'vespera_feriado']\r\n",
        "\r\n",
        "target = 'validations_per_hour'"
      ],
      "outputs": [],
      "execution_count": 2,
      "metadata": {
        "collapsed": true,
        "jupyter": {
          "source_hidden": false,
          "outputs_hidden": false
        },
        "nteract": {
          "transient": {
            "deleting": false
          }
        },
        "gather": {
          "logged": 1629155639974
        }
      },
      "id": "5e22e982-8dfb-4a0d-aea8-afb0a085ceb3"
    },
    {
      "cell_type": "code",
      "source": [
        "day_of_week_translator = {\n",
        "    0: \"Domingo\",\n",
        "    1: \"Segunda\",\n",
        "    2: \"Terca\",\n",
        "    3: \"Quarta\",\n",
        "    4: \"Quinta\",\n",
        "    5: \"Sexta\",\n",
        "    6: \"Sabado\"\n",
        "}\n",
        "\n",
        "feriados = [\n",
        "            ['Ano Novo', 1, 1],\n",
        "            ['Carnaval', 24, 2],\n",
        "            ['Carnaval', 25, 2],\n",
        "            ['Carnaval', 26, 2],\n",
        "            ['Dia de São José', 19, 3],\n",
        "            ['Data Magna', 25, 3],\n",
        "            ['Sexta-Feira Santa', 10, 4],\n",
        "            ['Aniversário de Fortaleza', 13, 4],\n",
        "            ['Tiradentes', 21, 4],\n",
        "            ['Dia do Trabalho', 1, 5],\n",
        "            ['Corpus Christi', 28, 5],\n",
        "            ['N. Senhora da Assunção', 27, 5],\n",
        "            ['Independência do Brasil', 7, 9],\n",
        "            ['N. Senhora de Aparecida', 12, 10],\n",
        "            ['Dia de Finados', 2, 11],\n",
        "            ['Proclamação da Republica', 15, 11],\n",
        "            ['Natal', 25, 12],\n",
        "]\n",
        "\n",
        "vesperas = [\n",
        "            ['Ano Novo', 31, 12],\n",
        "            ['Carnaval', 23, 2],\n",
        "            ['Dia de São José', 18, 3],\n",
        "            ['Data Magna', 24, 3],\n",
        "            ['Sexta-Feira Santa', 9, 4],\n",
        "            ['Aniversário de Fortaleza', 12, 4],\n",
        "            ['Tiradentes', 20, 4],\n",
        "            ['Dia do Trabalho', 30, 4],\n",
        "            ['N. Senhora da Assunção', 26, 5],\n",
        "            ['Independência do Brasil', 6, 9],\n",
        "            ['N. Senhora de Aparecida', 11, 10],\n",
        "            ['Dia de Finados', 1, 11],\n",
        "            ['Proclamação da Republica', 14, 11],\n",
        "            ['Natal', 24, 12],\n",
        "]"
      ],
      "outputs": [],
      "execution_count": 3,
      "metadata": {
        "gather": {
          "logged": 1629155640366
        }
      },
      "id": "fa96d5ca-4a79-4bc9-849d-a47e61639274"
    },
    {
      "cell_type": "code",
      "source": [
        "one_hot_encoder = OneHotEncoder(sparse=False)\r\n",
        "\r\n",
        "data_model[['domingo','segunda', 'terca', 'quarta', 'quinta', 'sexta', 'sabado']] = one_hot_encoder.fit_transform(data_model['d_semana'].values.reshape(-1,1))\r\n",
        "data_model['feriado'] = [1 if any((x[0] == d and x[1] == m) for (_, d, m) in feriados) else 0 for x in list(zip(data_model.d_mes, data_model.mes))]\r\n",
        "data_model['vespera_feriado'] = [1 if any((x[0] == d and x[1] == m) for (_, d, m) in vesperas) else 0 for x in list(zip(data_model.d_mes, data_model.mes))]\r\n",
        "\r\n",
        "line_data_model = data_model.loc[data['linha'] == busline_filter].copy()\r\n",
        "display(line_data_model)"
      ],
      "outputs": [
        {
          "output_type": "display_data",
          "data": {
            "text/plain": "         linha            data_hora  validations_per_hour  d_semana  \\\n2418        41  2020-03-01 04:00:00                    25         6   \n2419        41  2020-03-01 05:00:00                   168         6   \n2420        41  2020-03-01 06:00:00                   310         6   \n2421        41  2020-03-01 07:00:00                   339         6   \n2422        41  2020-03-01 08:00:00                   286         6   \n...        ...                  ...                   ...       ...   \n1418148     41  2020-12-31 20:00:00                   138         3   \n1418149     41  2020-12-31 21:00:00                    83         3   \n1418150     41  2020-12-31 22:00:00                    54         3   \n1418151     41  2020-12-31 23:00:00                    30         3   \n1418152     41  2021-01-01 00:00:00                     2         4   \n\n             hour_sin  hour_cos  hora  d_mes  d_ano  mes  semana_do_mes  \\\n2418     8.878852e-01  0.460065     4      1     61    3              0   \n2419     9.790841e-01  0.203456     5      1     61    3              0   \n2420     9.976688e-01 -0.068242     6      1     61    3              0   \n2421     9.422609e-01 -0.334880     7      1     61    3              0   \n2422     8.169699e-01 -0.576680     8      1     61    3              0   \n...               ...       ...   ...    ...    ...  ...            ...   \n1418148 -7.308360e-01  0.682553    20     31    366   12              4   \n1418149 -5.195840e-01  0.854419    21     31    366   12              4   \n1418150 -2.697968e-01  0.962917    22     31    366   12              4   \n1418151 -2.449294e-16  1.000000    23     31    366   12              4   \n1418152  0.000000e+00  1.000000     0      1      1    1              0   \n\n         domingo  segunda  terca  quarta  quinta  sexta  sabado  feriado  \\\n2418         0.0      0.0    0.0     0.0     0.0    0.0     1.0        0   \n2419         0.0      0.0    0.0     0.0     0.0    0.0     1.0        0   \n2420         0.0      0.0    0.0     0.0     0.0    0.0     1.0        0   \n2421         0.0      0.0    0.0     0.0     0.0    0.0     1.0        0   \n2422         0.0      0.0    0.0     0.0     0.0    0.0     1.0        0   \n...          ...      ...    ...     ...     ...    ...     ...      ...   \n1418148      0.0      0.0    0.0     1.0     0.0    0.0     0.0        0   \n1418149      0.0      0.0    0.0     1.0     0.0    0.0     0.0        0   \n1418150      0.0      0.0    0.0     1.0     0.0    0.0     0.0        0   \n1418151      0.0      0.0    0.0     1.0     0.0    0.0     0.0        0   \n1418152      0.0      0.0    0.0     0.0     1.0    0.0     0.0        1   \n\n         vespera_feriado  \n2418                   0  \n2419                   0  \n2420                   0  \n2421                   0  \n2422                   0  \n...                  ...  \n1418148                1  \n1418149                1  \n1418150                1  \n1418151                1  \n1418152                0  \n\n[6172 rows x 20 columns]",
            "text/html": "<div>\n<style scoped>\n    .dataframe tbody tr th:only-of-type {\n        vertical-align: middle;\n    }\n\n    .dataframe tbody tr th {\n        vertical-align: top;\n    }\n\n    .dataframe thead th {\n        text-align: right;\n    }\n</style>\n<table border=\"1\" class=\"dataframe\">\n  <thead>\n    <tr style=\"text-align: right;\">\n      <th></th>\n      <th>linha</th>\n      <th>data_hora</th>\n      <th>validations_per_hour</th>\n      <th>d_semana</th>\n      <th>hour_sin</th>\n      <th>hour_cos</th>\n      <th>hora</th>\n      <th>d_mes</th>\n      <th>d_ano</th>\n      <th>mes</th>\n      <th>semana_do_mes</th>\n      <th>domingo</th>\n      <th>segunda</th>\n      <th>terca</th>\n      <th>quarta</th>\n      <th>quinta</th>\n      <th>sexta</th>\n      <th>sabado</th>\n      <th>feriado</th>\n      <th>vespera_feriado</th>\n    </tr>\n  </thead>\n  <tbody>\n    <tr>\n      <th>2418</th>\n      <td>41</td>\n      <td>2020-03-01 04:00:00</td>\n      <td>25</td>\n      <td>6</td>\n      <td>8.878852e-01</td>\n      <td>0.460065</td>\n      <td>4</td>\n      <td>1</td>\n      <td>61</td>\n      <td>3</td>\n      <td>0</td>\n      <td>0.0</td>\n      <td>0.0</td>\n      <td>0.0</td>\n      <td>0.0</td>\n      <td>0.0</td>\n      <td>0.0</td>\n      <td>1.0</td>\n      <td>0</td>\n      <td>0</td>\n    </tr>\n    <tr>\n      <th>2419</th>\n      <td>41</td>\n      <td>2020-03-01 05:00:00</td>\n      <td>168</td>\n      <td>6</td>\n      <td>9.790841e-01</td>\n      <td>0.203456</td>\n      <td>5</td>\n      <td>1</td>\n      <td>61</td>\n      <td>3</td>\n      <td>0</td>\n      <td>0.0</td>\n      <td>0.0</td>\n      <td>0.0</td>\n      <td>0.0</td>\n      <td>0.0</td>\n      <td>0.0</td>\n      <td>1.0</td>\n      <td>0</td>\n      <td>0</td>\n    </tr>\n    <tr>\n      <th>2420</th>\n      <td>41</td>\n      <td>2020-03-01 06:00:00</td>\n      <td>310</td>\n      <td>6</td>\n      <td>9.976688e-01</td>\n      <td>-0.068242</td>\n      <td>6</td>\n      <td>1</td>\n      <td>61</td>\n      <td>3</td>\n      <td>0</td>\n      <td>0.0</td>\n      <td>0.0</td>\n      <td>0.0</td>\n      <td>0.0</td>\n      <td>0.0</td>\n      <td>0.0</td>\n      <td>1.0</td>\n      <td>0</td>\n      <td>0</td>\n    </tr>\n    <tr>\n      <th>2421</th>\n      <td>41</td>\n      <td>2020-03-01 07:00:00</td>\n      <td>339</td>\n      <td>6</td>\n      <td>9.422609e-01</td>\n      <td>-0.334880</td>\n      <td>7</td>\n      <td>1</td>\n      <td>61</td>\n      <td>3</td>\n      <td>0</td>\n      <td>0.0</td>\n      <td>0.0</td>\n      <td>0.0</td>\n      <td>0.0</td>\n      <td>0.0</td>\n      <td>0.0</td>\n      <td>1.0</td>\n      <td>0</td>\n      <td>0</td>\n    </tr>\n    <tr>\n      <th>2422</th>\n      <td>41</td>\n      <td>2020-03-01 08:00:00</td>\n      <td>286</td>\n      <td>6</td>\n      <td>8.169699e-01</td>\n      <td>-0.576680</td>\n      <td>8</td>\n      <td>1</td>\n      <td>61</td>\n      <td>3</td>\n      <td>0</td>\n      <td>0.0</td>\n      <td>0.0</td>\n      <td>0.0</td>\n      <td>0.0</td>\n      <td>0.0</td>\n      <td>0.0</td>\n      <td>1.0</td>\n      <td>0</td>\n      <td>0</td>\n    </tr>\n    <tr>\n      <th>...</th>\n      <td>...</td>\n      <td>...</td>\n      <td>...</td>\n      <td>...</td>\n      <td>...</td>\n      <td>...</td>\n      <td>...</td>\n      <td>...</td>\n      <td>...</td>\n      <td>...</td>\n      <td>...</td>\n      <td>...</td>\n      <td>...</td>\n      <td>...</td>\n      <td>...</td>\n      <td>...</td>\n      <td>...</td>\n      <td>...</td>\n      <td>...</td>\n      <td>...</td>\n    </tr>\n    <tr>\n      <th>1418148</th>\n      <td>41</td>\n      <td>2020-12-31 20:00:00</td>\n      <td>138</td>\n      <td>3</td>\n      <td>-7.308360e-01</td>\n      <td>0.682553</td>\n      <td>20</td>\n      <td>31</td>\n      <td>366</td>\n      <td>12</td>\n      <td>4</td>\n      <td>0.0</td>\n      <td>0.0</td>\n      <td>0.0</td>\n      <td>1.0</td>\n      <td>0.0</td>\n      <td>0.0</td>\n      <td>0.0</td>\n      <td>0</td>\n      <td>1</td>\n    </tr>\n    <tr>\n      <th>1418149</th>\n      <td>41</td>\n      <td>2020-12-31 21:00:00</td>\n      <td>83</td>\n      <td>3</td>\n      <td>-5.195840e-01</td>\n      <td>0.854419</td>\n      <td>21</td>\n      <td>31</td>\n      <td>366</td>\n      <td>12</td>\n      <td>4</td>\n      <td>0.0</td>\n      <td>0.0</td>\n      <td>0.0</td>\n      <td>1.0</td>\n      <td>0.0</td>\n      <td>0.0</td>\n      <td>0.0</td>\n      <td>0</td>\n      <td>1</td>\n    </tr>\n    <tr>\n      <th>1418150</th>\n      <td>41</td>\n      <td>2020-12-31 22:00:00</td>\n      <td>54</td>\n      <td>3</td>\n      <td>-2.697968e-01</td>\n      <td>0.962917</td>\n      <td>22</td>\n      <td>31</td>\n      <td>366</td>\n      <td>12</td>\n      <td>4</td>\n      <td>0.0</td>\n      <td>0.0</td>\n      <td>0.0</td>\n      <td>1.0</td>\n      <td>0.0</td>\n      <td>0.0</td>\n      <td>0.0</td>\n      <td>0</td>\n      <td>1</td>\n    </tr>\n    <tr>\n      <th>1418151</th>\n      <td>41</td>\n      <td>2020-12-31 23:00:00</td>\n      <td>30</td>\n      <td>3</td>\n      <td>-2.449294e-16</td>\n      <td>1.000000</td>\n      <td>23</td>\n      <td>31</td>\n      <td>366</td>\n      <td>12</td>\n      <td>4</td>\n      <td>0.0</td>\n      <td>0.0</td>\n      <td>0.0</td>\n      <td>1.0</td>\n      <td>0.0</td>\n      <td>0.0</td>\n      <td>0.0</td>\n      <td>0</td>\n      <td>1</td>\n    </tr>\n    <tr>\n      <th>1418152</th>\n      <td>41</td>\n      <td>2021-01-01 00:00:00</td>\n      <td>2</td>\n      <td>4</td>\n      <td>0.000000e+00</td>\n      <td>1.000000</td>\n      <td>0</td>\n      <td>1</td>\n      <td>1</td>\n      <td>1</td>\n      <td>0</td>\n      <td>0.0</td>\n      <td>0.0</td>\n      <td>0.0</td>\n      <td>0.0</td>\n      <td>1.0</td>\n      <td>0.0</td>\n      <td>0.0</td>\n      <td>1</td>\n      <td>0</td>\n    </tr>\n  </tbody>\n</table>\n<p>6172 rows × 20 columns</p>\n</div>"
          },
          "metadata": {}
        }
      ],
      "execution_count": 4,
      "metadata": {
        "gather": {
          "logged": 1629155649967
        }
      },
      "id": "6bce8a86-d991-4364-96e9-dbd3e82084e3"
    },
    {
      "cell_type": "code",
      "source": [
        "X = line_data_model.filter(feature_names, axis=1)\r\n",
        "y = line_data_model.validations_per_hour\r\n",
        "display(X)\r\n",
        "display(y)"
      ],
      "outputs": [
        {
          "output_type": "display_data",
          "data": {
            "text/plain": "             hour_sin  hour_cos  d_mes  d_ano  mes  semana_do_mes  domingo  \\\n2418     8.878852e-01  0.460065      1     61    3              0      0.0   \n2419     9.790841e-01  0.203456      1     61    3              0      0.0   \n2420     9.976688e-01 -0.068242      1     61    3              0      0.0   \n2421     9.422609e-01 -0.334880      1     61    3              0      0.0   \n2422     8.169699e-01 -0.576680      1     61    3              0      0.0   \n...               ...       ...    ...    ...  ...            ...      ...   \n1418148 -7.308360e-01  0.682553     31    366   12              4      0.0   \n1418149 -5.195840e-01  0.854419     31    366   12              4      0.0   \n1418150 -2.697968e-01  0.962917     31    366   12              4      0.0   \n1418151 -2.449294e-16  1.000000     31    366   12              4      0.0   \n1418152  0.000000e+00  1.000000      1      1    1              0      0.0   \n\n         segunda  terca  quarta  quinta  sexta  sabado  feriado  \\\n2418         0.0    0.0     0.0     0.0    0.0     1.0        0   \n2419         0.0    0.0     0.0     0.0    0.0     1.0        0   \n2420         0.0    0.0     0.0     0.0    0.0     1.0        0   \n2421         0.0    0.0     0.0     0.0    0.0     1.0        0   \n2422         0.0    0.0     0.0     0.0    0.0     1.0        0   \n...          ...    ...     ...     ...    ...     ...      ...   \n1418148      0.0    0.0     1.0     0.0    0.0     0.0        0   \n1418149      0.0    0.0     1.0     0.0    0.0     0.0        0   \n1418150      0.0    0.0     1.0     0.0    0.0     0.0        0   \n1418151      0.0    0.0     1.0     0.0    0.0     0.0        0   \n1418152      0.0    0.0     0.0     1.0    0.0     0.0        1   \n\n         vespera_feriado  \n2418                   0  \n2419                   0  \n2420                   0  \n2421                   0  \n2422                   0  \n...                  ...  \n1418148                1  \n1418149                1  \n1418150                1  \n1418151                1  \n1418152                0  \n\n[6172 rows x 15 columns]",
            "text/html": "<div>\n<style scoped>\n    .dataframe tbody tr th:only-of-type {\n        vertical-align: middle;\n    }\n\n    .dataframe tbody tr th {\n        vertical-align: top;\n    }\n\n    .dataframe thead th {\n        text-align: right;\n    }\n</style>\n<table border=\"1\" class=\"dataframe\">\n  <thead>\n    <tr style=\"text-align: right;\">\n      <th></th>\n      <th>hour_sin</th>\n      <th>hour_cos</th>\n      <th>d_mes</th>\n      <th>d_ano</th>\n      <th>mes</th>\n      <th>semana_do_mes</th>\n      <th>domingo</th>\n      <th>segunda</th>\n      <th>terca</th>\n      <th>quarta</th>\n      <th>quinta</th>\n      <th>sexta</th>\n      <th>sabado</th>\n      <th>feriado</th>\n      <th>vespera_feriado</th>\n    </tr>\n  </thead>\n  <tbody>\n    <tr>\n      <th>2418</th>\n      <td>8.878852e-01</td>\n      <td>0.460065</td>\n      <td>1</td>\n      <td>61</td>\n      <td>3</td>\n      <td>0</td>\n      <td>0.0</td>\n      <td>0.0</td>\n      <td>0.0</td>\n      <td>0.0</td>\n      <td>0.0</td>\n      <td>0.0</td>\n      <td>1.0</td>\n      <td>0</td>\n      <td>0</td>\n    </tr>\n    <tr>\n      <th>2419</th>\n      <td>9.790841e-01</td>\n      <td>0.203456</td>\n      <td>1</td>\n      <td>61</td>\n      <td>3</td>\n      <td>0</td>\n      <td>0.0</td>\n      <td>0.0</td>\n      <td>0.0</td>\n      <td>0.0</td>\n      <td>0.0</td>\n      <td>0.0</td>\n      <td>1.0</td>\n      <td>0</td>\n      <td>0</td>\n    </tr>\n    <tr>\n      <th>2420</th>\n      <td>9.976688e-01</td>\n      <td>-0.068242</td>\n      <td>1</td>\n      <td>61</td>\n      <td>3</td>\n      <td>0</td>\n      <td>0.0</td>\n      <td>0.0</td>\n      <td>0.0</td>\n      <td>0.0</td>\n      <td>0.0</td>\n      <td>0.0</td>\n      <td>1.0</td>\n      <td>0</td>\n      <td>0</td>\n    </tr>\n    <tr>\n      <th>2421</th>\n      <td>9.422609e-01</td>\n      <td>-0.334880</td>\n      <td>1</td>\n      <td>61</td>\n      <td>3</td>\n      <td>0</td>\n      <td>0.0</td>\n      <td>0.0</td>\n      <td>0.0</td>\n      <td>0.0</td>\n      <td>0.0</td>\n      <td>0.0</td>\n      <td>1.0</td>\n      <td>0</td>\n      <td>0</td>\n    </tr>\n    <tr>\n      <th>2422</th>\n      <td>8.169699e-01</td>\n      <td>-0.576680</td>\n      <td>1</td>\n      <td>61</td>\n      <td>3</td>\n      <td>0</td>\n      <td>0.0</td>\n      <td>0.0</td>\n      <td>0.0</td>\n      <td>0.0</td>\n      <td>0.0</td>\n      <td>0.0</td>\n      <td>1.0</td>\n      <td>0</td>\n      <td>0</td>\n    </tr>\n    <tr>\n      <th>...</th>\n      <td>...</td>\n      <td>...</td>\n      <td>...</td>\n      <td>...</td>\n      <td>...</td>\n      <td>...</td>\n      <td>...</td>\n      <td>...</td>\n      <td>...</td>\n      <td>...</td>\n      <td>...</td>\n      <td>...</td>\n      <td>...</td>\n      <td>...</td>\n      <td>...</td>\n    </tr>\n    <tr>\n      <th>1418148</th>\n      <td>-7.308360e-01</td>\n      <td>0.682553</td>\n      <td>31</td>\n      <td>366</td>\n      <td>12</td>\n      <td>4</td>\n      <td>0.0</td>\n      <td>0.0</td>\n      <td>0.0</td>\n      <td>1.0</td>\n      <td>0.0</td>\n      <td>0.0</td>\n      <td>0.0</td>\n      <td>0</td>\n      <td>1</td>\n    </tr>\n    <tr>\n      <th>1418149</th>\n      <td>-5.195840e-01</td>\n      <td>0.854419</td>\n      <td>31</td>\n      <td>366</td>\n      <td>12</td>\n      <td>4</td>\n      <td>0.0</td>\n      <td>0.0</td>\n      <td>0.0</td>\n      <td>1.0</td>\n      <td>0.0</td>\n      <td>0.0</td>\n      <td>0.0</td>\n      <td>0</td>\n      <td>1</td>\n    </tr>\n    <tr>\n      <th>1418150</th>\n      <td>-2.697968e-01</td>\n      <td>0.962917</td>\n      <td>31</td>\n      <td>366</td>\n      <td>12</td>\n      <td>4</td>\n      <td>0.0</td>\n      <td>0.0</td>\n      <td>0.0</td>\n      <td>1.0</td>\n      <td>0.0</td>\n      <td>0.0</td>\n      <td>0.0</td>\n      <td>0</td>\n      <td>1</td>\n    </tr>\n    <tr>\n      <th>1418151</th>\n      <td>-2.449294e-16</td>\n      <td>1.000000</td>\n      <td>31</td>\n      <td>366</td>\n      <td>12</td>\n      <td>4</td>\n      <td>0.0</td>\n      <td>0.0</td>\n      <td>0.0</td>\n      <td>1.0</td>\n      <td>0.0</td>\n      <td>0.0</td>\n      <td>0.0</td>\n      <td>0</td>\n      <td>1</td>\n    </tr>\n    <tr>\n      <th>1418152</th>\n      <td>0.000000e+00</td>\n      <td>1.000000</td>\n      <td>1</td>\n      <td>1</td>\n      <td>1</td>\n      <td>0</td>\n      <td>0.0</td>\n      <td>0.0</td>\n      <td>0.0</td>\n      <td>0.0</td>\n      <td>1.0</td>\n      <td>0.0</td>\n      <td>0.0</td>\n      <td>1</td>\n      <td>0</td>\n    </tr>\n  </tbody>\n</table>\n<p>6172 rows × 15 columns</p>\n</div>"
          },
          "metadata": {}
        },
        {
          "output_type": "display_data",
          "data": {
            "text/plain": "2418        25\n2419       168\n2420       310\n2421       339\n2422       286\n          ... \n1418148    138\n1418149     83\n1418150     54\n1418151     30\n1418152      2\nName: validations_per_hour, Length: 6172, dtype: int64"
          },
          "metadata": {}
        }
      ],
      "execution_count": 5,
      "metadata": {
        "gather": {
          "logged": 1629155650193
        }
      },
      "id": "3cf95fdb-7224-4161-8af2-7421c4396f97"
    },
    {
      "cell_type": "markdown",
      "source": [
        "### Criacao dos Modelos"
      ],
      "metadata": {
        "nteract": {
          "transient": {
            "deleting": false
          }
        }
      },
      "id": "72de803e-424a-42c5-9ba4-dab62dd89ab1"
    },
    {
      "cell_type": "code",
      "source": [
        "LinearRegressionModel = LinearRegression()\r\n",
        "RandomForestModel = RandomForestRegressor(n_jobs=4)\r\n",
        "\r\n",
        "def singlebusline_model(model, X, y):\r\n",
        "    singlebusline_model = model\r\n",
        "    X_train, X_test, Y_train, Y_test = train_test_split(X, y, test_size = 0.2, random_state=5)\r\n",
        "    singlebusline_model.fit(X_train, Y_train)\r\n",
        "    performance_scoring = get_performance(model, X_test, Y_test)\r\n",
        "    return singlebusline_model, performance_scoring\r\n",
        "\r\n",
        "def get_performance(model, X_test, Y_test):\r\n",
        "    y_test_predict = model.predict(X_test)\r\n",
        "    mse = mean_squared_error(Y_test, y_test_predict)\r\n",
        "    rmse = (np.sqrt(mse))\r\n",
        "    r2 = r2_score(Y_test, y_test_predict)\r\n",
        "    mae = mean_absolute_error(Y_test, y_test_predict)\r\n",
        "    #mape = mean_absolute_percentage_error(Y_test, y_test_predict)\r\n",
        "    performance_scoring = [\r\n",
        "        r2,\r\n",
        "        rmse,\r\n",
        "        mae,\r\n",
        "        #mape\r\n",
        "    ]\r\n",
        "    #performance_scoring = pd.DataFrame(performance_scoring,columns=['Metrica', 'Score'])\r\n",
        "    #performance_scoring['Score'] = performance_scoring['Score'].astype('float64')\r\n",
        "    return performance_scoring"
      ],
      "outputs": [],
      "execution_count": 6,
      "metadata": {
        "collapsed": true,
        "jupyter": {
          "source_hidden": false,
          "outputs_hidden": false
        },
        "nteract": {
          "transient": {
            "deleting": false
          }
        },
        "gather": {
          "logged": 1629155650431
        }
      },
      "id": "871f0085-01e9-4694-9d3e-0210e260c87f"
    },
    {
      "cell_type": "markdown",
      "source": [
        "### Grid Search"
      ],
      "metadata": {
        "nteract": {
          "transient": {
            "deleting": false
          }
        }
      },
      "id": "4dae3130-a63c-4ac7-a471-a1e428809d7b"
    },
    {
      "cell_type": "code",
      "source": [
        "# Number of trees in random forest\r\n",
        "n_estimators = [int(x) for x in np.linspace(start = 200, stop = 2000, num = 10)]\r\n",
        "\r\n",
        "n_jobs = [2, 4, 6, 8]\r\n",
        "\r\n",
        "# Number of features to consider at every split\r\n",
        "max_features = ['auto', 'sqrt']\r\n",
        "\r\n",
        "# Maximum number of levels in tree\r\n",
        "max_depth = [int(x) for x in np.linspace(10, 110, num = 11)]\r\n",
        "max_depth.append(None)\r\n",
        "\r\n",
        "# Minimum number of samples required to split a node\r\n",
        "min_samples_split = [2, 5, 10]\r\n",
        "\r\n",
        "# Minimum number of samples required at each leaf node\r\n",
        "min_samples_leaf = [1, 2, 4]\r\n",
        "\r\n",
        "# Method of selecting samples for training each tree\r\n",
        "bootstrap = [True, False]\r\n",
        "\r\n",
        "# Create the random grid\r\n",
        "random_grid = {'n_estimators': n_estimators,\r\n",
        "               'max_features': max_features,\r\n",
        "               'max_depth': max_depth,\r\n",
        "               'min_samples_split': min_samples_split,\r\n",
        "               'min_samples_leaf': min_samples_leaf,\r\n",
        "               'bootstrap': bootstrap,\r\n",
        "               'n_jobs': n_jobs}\r\n",
        "print(\"Random Forest Model Params ----> \")\r\n",
        "pprint(RandomForestModel.get_params())\r\n",
        "print(\"Random Grid \")\r\n",
        "pprint(random_grid)\r\n",
        "\r\n",
        "# Random search of parameters, using 3 fold cross validation, \r\n",
        "# search across 100 different combinations, and use all available cores\r\n",
        "rf_random = RandomizedSearchCV(estimator = RandomForestModel, param_distributions = random_grid, n_iter = 100, cv = 3, verbose=2, random_state=42, n_jobs = -1)\r\n",
        "\r\n",
        "# Fit the random search model\r\n",
        "X_train, X_test, Y_train, Y_test = train_test_split(X, y, test_size = 0.2, random_state=5)\r\n",
        "\r\n",
        "rf_random.fit(X_train, Y_train)\r\n",
        "print(\"Random Forest Best Parameters -----> \")\r\n",
        "pprint(rf_random.best_params_)\r\n",
        "best_random = rf_random.best_estimator_\r\n"
      ],
      "outputs": [
        {
          "output_type": "stream",
          "name": "stdout",
          "text": [
            "Random Forest Model Params ----> \n",
            "{'bootstrap': True,\n",
            " 'ccp_alpha': 0.0,\n",
            " 'criterion': 'mse',\n",
            " 'max_depth': None,\n",
            " 'max_features': 'auto',\n",
            " 'max_leaf_nodes': None,\n",
            " 'max_samples': None,\n",
            " 'min_impurity_decrease': 0.0,\n",
            " 'min_impurity_split': None,\n",
            " 'min_samples_leaf': 1,\n",
            " 'min_samples_split': 2,\n",
            " 'min_weight_fraction_leaf': 0.0,\n",
            " 'n_estimators': 100,\n",
            " 'n_jobs': 4,\n",
            " 'oob_score': False,\n",
            " 'random_state': None,\n",
            " 'verbose': 0,\n",
            " 'warm_start': False}\n",
            "Random Grid \n",
            "{'bootstrap': [True, False],\n",
            " 'max_depth': [10, 20, 30, 40, 50, 60, 70, 80, 90, 100, 110, None],\n",
            " 'max_features': ['auto', 'sqrt'],\n",
            " 'min_samples_leaf': [1, 2, 4],\n",
            " 'min_samples_split': [2, 5, 10],\n",
            " 'n_estimators': [200, 400, 600, 800, 1000, 1200, 1400, 1600, 1800, 2000],\n",
            " 'n_jobs': [2, 4, 6, 8]}\n",
            "Fitting 3 folds for each of 100 candidates, totalling 300 fits\n",
            "Random Forest Best Parameters -----> \n",
            "{'bootstrap': True,\n",
            " 'max_depth': 20,\n",
            " 'max_features': 'auto',\n",
            " 'min_samples_leaf': 1,\n",
            " 'min_samples_split': 5,\n",
            " 'n_estimators': 600,\n",
            " 'n_jobs': 4}\n"
          ]
        },
        {
          "output_type": "stream",
          "name": "stderr",
          "text": [
            "[Parallel(n_jobs=-1)]: Using backend LokyBackend with 4 concurrent workers.\n",
            "/anaconda/envs/azureml_py38/lib/python3.8/site-packages/joblib/externals/loky/process_executor.py:703: UserWarning: A worker stopped while some jobs were given to the executor. This can be caused by a too short worker timeout or by a memory leak.\n",
            "  warnings.warn(\n",
            "[Parallel(n_jobs=-1)]: Done  33 tasks      | elapsed:  1.3min\n",
            "[Parallel(n_jobs=-1)]: Done 154 tasks      | elapsed:  6.4min\n",
            "[Parallel(n_jobs=-1)]: Done 300 out of 300 | elapsed: 11.8min finished\n"
          ]
        }
      ],
      "execution_count": 7,
      "metadata": {
        "collapsed": true,
        "jupyter": {
          "source_hidden": false,
          "outputs_hidden": false
        },
        "nteract": {
          "transient": {
            "deleting": false
          }
        },
        "gather": {
          "logged": 1629156361009
        }
      },
      "id": "f775c71d-f8ed-459b-a4e3-1569d6fa6a00"
    },
    {
      "cell_type": "code",
      "source": [
        "sample = X.sample(n=1)\r\n",
        "sample"
      ],
      "outputs": [
        {
          "output_type": "execute_result",
          "execution_count": 8,
          "data": {
            "text/plain": "        hour_sin  hour_cos  d_mes  d_ano  mes  semana_do_mes  domingo  \\\n998787 -0.979084  0.203456      3    277   10              0      0.0   \n\n        segunda  terca  quarta  quinta  sexta  sabado  feriado  \\\n998787      0.0    0.0     0.0     0.0    1.0     0.0        0   \n\n        vespera_feriado  \n998787                0  ",
            "text/html": "<div>\n<style scoped>\n    .dataframe tbody tr th:only-of-type {\n        vertical-align: middle;\n    }\n\n    .dataframe tbody tr th {\n        vertical-align: top;\n    }\n\n    .dataframe thead th {\n        text-align: right;\n    }\n</style>\n<table border=\"1\" class=\"dataframe\">\n  <thead>\n    <tr style=\"text-align: right;\">\n      <th></th>\n      <th>hour_sin</th>\n      <th>hour_cos</th>\n      <th>d_mes</th>\n      <th>d_ano</th>\n      <th>mes</th>\n      <th>semana_do_mes</th>\n      <th>domingo</th>\n      <th>segunda</th>\n      <th>terca</th>\n      <th>quarta</th>\n      <th>quinta</th>\n      <th>sexta</th>\n      <th>sabado</th>\n      <th>feriado</th>\n      <th>vespera_feriado</th>\n    </tr>\n  </thead>\n  <tbody>\n    <tr>\n      <th>998787</th>\n      <td>-0.979084</td>\n      <td>0.203456</td>\n      <td>3</td>\n      <td>277</td>\n      <td>10</td>\n      <td>0</td>\n      <td>0.0</td>\n      <td>0.0</td>\n      <td>0.0</td>\n      <td>0.0</td>\n      <td>0.0</td>\n      <td>1.0</td>\n      <td>0.0</td>\n      <td>0</td>\n      <td>0</td>\n    </tr>\n  </tbody>\n</table>\n</div>"
          },
          "metadata": {}
        }
      ],
      "execution_count": 8,
      "metadata": {
        "collapsed": true,
        "jupyter": {
          "source_hidden": false,
          "outputs_hidden": false
        },
        "nteract": {
          "transient": {
            "deleting": false
          }
        },
        "gather": {
          "logged": 1629156361298
        }
      },
      "id": "b97a4671-b20c-4109-bf85-0e1d8df65a2c"
    },
    {
      "cell_type": "code",
      "source": [
        "print(\"###  1 Modelo Por Linha (dado completo de treino)\")\r\n",
        "\r\n",
        "model_per_line_lr, model_per_line_lr_performance = singlebusline_model(LinearRegressionModel, X, y)\r\n",
        "model_per_line_rf, model_per_line_rf_performance = singlebusline_model(RandomForestModel, X, y)\r\n",
        "\r\n",
        "print('Regressao Linear: \\n', model_per_line_lr_performance)\r\n",
        "print(\"\\n----------------------------------------------------\\n\")\r\n",
        "print('Random Forest: \\n', model_per_line_rf_performance)\r\n",
        "\r\n",
        "print(\"\\nUtilizando sample aleatorio de dado para teste de previsao: \")\r\n",
        "\r\n",
        "\r\n",
        "predict_res = model_per_line_lr.predict(sample)\r\n",
        "\r\n",
        "print(\"Regressao Linear -> resultado do predict de test: \", predict_res)\r\n",
        "\r\n",
        "predict_res2 = model_per_line_rf.predict(sample)\r\n",
        "print(\"Random Forest -> resultado do predict de test: \", predict_res2)\r\n",
        "\r\n",
        "random_res = best_random.predict(sample)\r\n",
        "print(\"Random Grid Searched -> resultado do predict de test: \", predict_res2)\r\n",
        "\r\n",
        "display(data_model.loc[sample.index[0]:sample.index[0]])"
      ],
      "outputs": [
        {
          "output_type": "stream",
          "name": "stdout",
          "text": [
            "###  1 Modelo Por Linha (dado completo de treino)\n",
            "Regressao Linear: \n",
            " [0.3724476627164204, 215.73460401278615, 161.58880229914652]\n",
            "\n",
            "----------------------------------------------------\n",
            "\n",
            "Random Forest: \n",
            " [0.9769061255060684, 41.385026422664744, 29.68958042220937]\n",
            "\n",
            "Utilizando sample aleatorio de dado para teste de previsao: \n",
            "Regressao Linear -> resultado do predict de test:  [385.33998011]\n",
            "Random Forest -> resultado do predict de test:  [476.55]\n",
            "Random Grid Searched -> resultado do predict de test:  [476.55]\n"
          ]
        },
        {
          "output_type": "display_data",
          "data": {
            "text/plain": "        linha            data_hora  validations_per_hour  d_semana  hour_sin  \\\n998787     41  2020-10-03 18:00:00                   489         5 -0.979084   \n\n        hour_cos  hora  d_mes  d_ano  mes  semana_do_mes  domingo  segunda  \\\n998787  0.203456    18      3    277   10              0      0.0      0.0   \n\n        terca  quarta  quinta  sexta  sabado  feriado  vespera_feriado  \n998787    0.0     0.0     0.0    1.0     0.0        0                0  ",
            "text/html": "<div>\n<style scoped>\n    .dataframe tbody tr th:only-of-type {\n        vertical-align: middle;\n    }\n\n    .dataframe tbody tr th {\n        vertical-align: top;\n    }\n\n    .dataframe thead th {\n        text-align: right;\n    }\n</style>\n<table border=\"1\" class=\"dataframe\">\n  <thead>\n    <tr style=\"text-align: right;\">\n      <th></th>\n      <th>linha</th>\n      <th>data_hora</th>\n      <th>validations_per_hour</th>\n      <th>d_semana</th>\n      <th>hour_sin</th>\n      <th>hour_cos</th>\n      <th>hora</th>\n      <th>d_mes</th>\n      <th>d_ano</th>\n      <th>mes</th>\n      <th>semana_do_mes</th>\n      <th>domingo</th>\n      <th>segunda</th>\n      <th>terca</th>\n      <th>quarta</th>\n      <th>quinta</th>\n      <th>sexta</th>\n      <th>sabado</th>\n      <th>feriado</th>\n      <th>vespera_feriado</th>\n    </tr>\n  </thead>\n  <tbody>\n    <tr>\n      <th>998787</th>\n      <td>41</td>\n      <td>2020-10-03 18:00:00</td>\n      <td>489</td>\n      <td>5</td>\n      <td>-0.979084</td>\n      <td>0.203456</td>\n      <td>18</td>\n      <td>3</td>\n      <td>277</td>\n      <td>10</td>\n      <td>0</td>\n      <td>0.0</td>\n      <td>0.0</td>\n      <td>0.0</td>\n      <td>0.0</td>\n      <td>0.0</td>\n      <td>1.0</td>\n      <td>0.0</td>\n      <td>0</td>\n      <td>0</td>\n    </tr>\n  </tbody>\n</table>\n</div>"
          },
          "metadata": {}
        }
      ],
      "execution_count": 9,
      "metadata": {
        "gather": {
          "logged": 1629156361707
        }
      },
      "id": "19ec5db2-903e-4d5e-ac06-e218249b1bdd"
    },
    {
      "cell_type": "markdown",
      "source": [
        "## BAGGING"
      ],
      "metadata": {
        "nteract": {
          "transient": {
            "deleting": false
          }
        }
      },
      "id": "4b8fd889-6b65-486c-8d1a-6b7f0d298400"
    },
    {
      "cell_type": "code",
      "source": [
        "from sklearn.ensemble import BaggingRegressor\r\n",
        "\r\n",
        "def bagging_predictions(estimator):\r\n",
        "    \"\"\"\r\n",
        "    I/P\r\n",
        "    estimator: The base estimator from which the ensemble is grown.\r\n",
        "    O/P\r\n",
        "    br_y_pred: Predictions on test data for the base estimator.\r\n",
        "    \r\n",
        "    \"\"\"\r\n",
        "    regr = BaggingRegressor(base_estimator=estimator,\r\n",
        "                            n_estimators=10,\r\n",
        "                            max_samples=1.0,\r\n",
        "                            bootstrap=True, # Samples are drawn with replacement\r\n",
        "                            n_jobs= n_jobs,\r\n",
        "                            random_state=random_state).fit(X_train, y_train)\r\n",
        "\r\n",
        "    br_y_pred = regr.predict(X_test)\r\n",
        "\r\n",
        "    rmse_val = mean_squared_error(y_test, br_y_pred, squared= False) # squared= False > returns Root Mean Square Error   \r\n",
        "\r\n",
        "    print(f'RMSE for base estimator {regr.base_estimator_} = {rmse_val}\\n')\r\n",
        "    return br_y_pred\r\n",
        "\r\n",
        "\r\n",
        "predictions = np.column_stack((bagging_predictions(linear_regression),\r\n",
        "                              bagging_predictions(lasso),\r\n",
        "                              bagging_predictions(elastic_net),\r\n",
        "                              bagging_predictions(kernel_ridge)))\r\n",
        "print(f\"Bagged predictions shape: {predictions.shape}\")\r\n",
        "       \r\n",
        "y_pred = np.mean(predictions, axis=1)\r\n",
        "print(\"Aggregated predictions (y_pred) shape\", y_pred.shape)\r\n",
        "\r\n",
        "rmse_val = mean_squared_error(y_test, y_pred, squared= False) # squared= False > returns Root Mean Square Error   \r\n",
        "models_scores.append(['Bagging', rmse_val])\r\n",
        "\r\n",
        "print(f'\\nBagging RMSE= {rmse_val}')"
      ],
      "outputs": [],
      "execution_count": null,
      "metadata": {
        "collapsed": true,
        "jupyter": {
          "source_hidden": false,
          "outputs_hidden": false
        },
        "nteract": {
          "transient": {
            "deleting": false
          }
        }
      },
      "id": "7808b1b3-dc28-4d3f-8b14-15781bd7f294"
    },
    {
      "cell_type": "markdown",
      "source": [
        "## Ranking Linhas de Onibus"
      ],
      "metadata": {
        "nteract": {
          "transient": {
            "deleting": false
          }
        }
      },
      "id": "f0ebeee3-574e-4540-a5f9-554c9be63133"
    },
    {
      "cell_type": "code",
      "source": [
        "#data_model\r\n",
        "#data_model.loc[data['linha'] == busline_filter].copy()\r\n",
        "print(data_model.linha.value_counts(ascending=True)[data_model['linha'].value_counts() < 100])\r\n",
        "linha_lista = data_model.linha.unique()\r\n",
        "\r\n",
        "#linha_lista = linha_lista[:5]\r\n",
        "res_map = list()\r\n",
        "for linha in linha_lista:\r\n",
        "    #print(linha) it is working\r\n",
        "    currentLinhaData = data_model.loc[data['linha'] == linha].copy()\r\n",
        "    #print(len(currentLinhaData))\r\n",
        "    if len(currentLinhaData) < 10:\r\n",
        "        continue\r\n",
        "    X = currentLinhaData.filter(['hour_sin', 'hour_cos', \r\n",
        "    'd_mes', 'd_ano', 'mes', 'semana_do_mes', \r\n",
        "    'domingo','segunda', 'terca', 'quarta', 'quinta', 'sexta', 'sabado', \r\n",
        "    'feriado', 'vespera_feriado'], axis=1)\r\n",
        "    y = currentLinhaData.validations_per_hour\r\n",
        "    model, performance = singlebusline_model(RandomForestModel, X, y)\r\n",
        "    performance.insert(0, linha)\r\n",
        "    res_map.append(performance)\r\n",
        "\r\n",
        "res_map = pd.DataFrame(res_map,columns=['Linha', 'R2', 'RMSE', 'MAE'])\r\n",
        "\r\n",
        "#performance_scoring['Score'] = performance_scoring['Score'].astype('float64')\r\n",
        "res_map = res_map.sort_values('R2').reset_index(drop=True)\r\n",
        "res_map"
      ],
      "outputs": [
        {
          "output_type": "stream",
          "name": "stdout",
          "text": [
            "941     1\n",
            "233     1\n",
            "811     1\n",
            "202     1\n",
            "935     1\n",
            "       ..\n",
            "140    69\n",
            "40     76\n",
            "999    79\n",
            "91     81\n",
            "33     84\n",
            "Name: linha, Length: 63, dtype: int64\n"
          ]
        },
        {
          "output_type": "execute_result",
          "execution_count": 10,
          "data": {
            "text/plain": "     Linha         R2       RMSE        MAE\n0      999 -42.008836  75.630729  42.888125\n1      145  -5.581574   5.591286   4.917500\n2       47  -3.699014   2.492704   1.768182\n3      138  -3.559959  13.617574  13.513333\n4      413  -3.538664  26.630176  20.985000\n..     ...        ...        ...        ...\n353     41   0.976889  41.400216  29.643769\n354     38   0.977918  30.181997  20.024185\n355    345   0.978990  14.750102   9.697902\n356    660   0.979458  27.851624  17.926024\n357     76   0.982129  33.311699  23.250987\n\n[358 rows x 4 columns]",
            "text/html": "<div>\n<style scoped>\n    .dataframe tbody tr th:only-of-type {\n        vertical-align: middle;\n    }\n\n    .dataframe tbody tr th {\n        vertical-align: top;\n    }\n\n    .dataframe thead th {\n        text-align: right;\n    }\n</style>\n<table border=\"1\" class=\"dataframe\">\n  <thead>\n    <tr style=\"text-align: right;\">\n      <th></th>\n      <th>Linha</th>\n      <th>R2</th>\n      <th>RMSE</th>\n      <th>MAE</th>\n    </tr>\n  </thead>\n  <tbody>\n    <tr>\n      <th>0</th>\n      <td>999</td>\n      <td>-42.008836</td>\n      <td>75.630729</td>\n      <td>42.888125</td>\n    </tr>\n    <tr>\n      <th>1</th>\n      <td>145</td>\n      <td>-5.581574</td>\n      <td>5.591286</td>\n      <td>4.917500</td>\n    </tr>\n    <tr>\n      <th>2</th>\n      <td>47</td>\n      <td>-3.699014</td>\n      <td>2.492704</td>\n      <td>1.768182</td>\n    </tr>\n    <tr>\n      <th>3</th>\n      <td>138</td>\n      <td>-3.559959</td>\n      <td>13.617574</td>\n      <td>13.513333</td>\n    </tr>\n    <tr>\n      <th>4</th>\n      <td>413</td>\n      <td>-3.538664</td>\n      <td>26.630176</td>\n      <td>20.985000</td>\n    </tr>\n    <tr>\n      <th>...</th>\n      <td>...</td>\n      <td>...</td>\n      <td>...</td>\n      <td>...</td>\n    </tr>\n    <tr>\n      <th>353</th>\n      <td>41</td>\n      <td>0.976889</td>\n      <td>41.400216</td>\n      <td>29.643769</td>\n    </tr>\n    <tr>\n      <th>354</th>\n      <td>38</td>\n      <td>0.977918</td>\n      <td>30.181997</td>\n      <td>20.024185</td>\n    </tr>\n    <tr>\n      <th>355</th>\n      <td>345</td>\n      <td>0.978990</td>\n      <td>14.750102</td>\n      <td>9.697902</td>\n    </tr>\n    <tr>\n      <th>356</th>\n      <td>660</td>\n      <td>0.979458</td>\n      <td>27.851624</td>\n      <td>17.926024</td>\n    </tr>\n    <tr>\n      <th>357</th>\n      <td>76</td>\n      <td>0.982129</td>\n      <td>33.311699</td>\n      <td>23.250987</td>\n    </tr>\n  </tbody>\n</table>\n<p>358 rows × 4 columns</p>\n</div>"
          },
          "metadata": {}
        }
      ],
      "execution_count": 10,
      "metadata": {
        "gather": {
          "logged": 1629156505042
        }
      },
      "id": "1041cc61-251f-48c5-99c9-42ee7499027d"
    },
    {
      "cell_type": "markdown",
      "source": [
        "## Avaliacao dos dados atualmente\r\n",
        "404 linhas  \r\n",
        "358 com pelo menos 10 exemplos\r\n",
        "\r\n"
      ],
      "metadata": {
        "nteract": {
          "transient": {
            "deleting": false
          }
        }
      },
      "id": "bd279b72-5495-477e-9a31-f461d80c63eb"
    },
    {
      "cell_type": "code",
      "source": [
        "res_map.to_csv('./classic-linha-comp.csv', index = False)"
      ],
      "outputs": [],
      "execution_count": 12,
      "metadata": {
        "collapsed": true,
        "gather": {
          "logged": 1629157188896
        },
        "jupyter": {
          "outputs_hidden": false,
          "source_hidden": false
        },
        "nteract": {
          "transient": {
            "deleting": false
          }
        }
      },
      "id": "a4866fd1-9383-472d-9bb2-f32bcb6bfb0e"
    },
    {
      "cell_type": "code",
      "source": [],
      "outputs": [],
      "execution_count": null,
      "metadata": {
        "collapsed": true,
        "jupyter": {
          "source_hidden": false,
          "outputs_hidden": false
        },
        "nteract": {
          "transient": {
            "deleting": false
          }
        }
      },
      "id": "1b038eb4-08d3-4f90-b184-e0a4f29c99f9"
    }
  ],
  "metadata": {
    "interpreter": {
      "hash": "4caa081543ae4d7454eea2adf6270962382d99fc25b3a6423caed7aecce4d7f8"
    },
    "kernel_info": {
      "name": "python38-azureml"
    },
    "kernelspec": {
      "name": "python38-azureml",
      "language": "python",
      "display_name": "Python 3.8 - AzureML"
    },
    "language_info": {
      "name": "python",
      "version": "3.8.1",
      "mimetype": "text/x-python",
      "codemirror_mode": {
        "name": "ipython",
        "version": 3
      },
      "pygments_lexer": "ipython3",
      "nbconvert_exporter": "python",
      "file_extension": ".py"
    },
    "microsoft": {
      "host": {
        "AzureML": {
          "notebookHasBeenCompleted": true
        }
      }
    },
    "nteract": {
      "version": "nteract-front-end@1.0.0"
    }
  },
  "nbformat": 4,
  "nbformat_minor": 5
}