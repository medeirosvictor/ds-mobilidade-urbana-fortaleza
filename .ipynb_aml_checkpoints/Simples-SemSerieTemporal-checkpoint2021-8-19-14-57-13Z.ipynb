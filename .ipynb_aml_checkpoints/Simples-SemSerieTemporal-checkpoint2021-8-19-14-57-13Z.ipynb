{
  "cells": [
    {
      "cell_type": "markdown",
      "source": [
        "## Previsao de Embarque \r\n",
        "- Simples \r\n",
        "- Sem Serie Temporal\r\n",
        "- Regressao Linear\r\n",
        "- Random Forest\r\n",
        "- Com Grid Search\r\n",
        "- Bagging, Stacking e Boosting"
      ],
      "metadata": {},
      "id": "cb33d1de-7a2c-42c9-ace8-56f64b8c5847"
    },
    {
      "cell_type": "code",
      "source": [
        "import pandas as pd\r\n",
        "import matplotlib.pyplot as plt\r\n",
        "import numpy as np\r\n",
        "import seaborn as sns\r\n",
        "\r\n",
        "from sklearn.preprocessing import OneHotEncoder\r\n",
        "from sklearn.linear_model import LinearRegression\r\n",
        "from sklearn.ensemble import RandomForestRegressor, BaggingRegressor, StackingRegressor, GradientBoostingRegressor\r\n",
        "from sklearn.pipeline import make_pipeline\r\n",
        "from sklearn.datasets import make_regression\r\n",
        "\r\n",
        "import warnings\r\n",
        "\r\n",
        "from sklearn.model_selection import train_test_split, cross_val_score\r\n",
        "from sklearn.metrics import mean_squared_error, r2_score, mean_absolute_error\r\n",
        "#from sklearn.metrics import mean_absolute_percentage_error\r\n",
        "from sklearn.model_selection import RandomizedSearchCV\r\n",
        "from IPython.display import display\r\n",
        "from pprint import pprint\r\n",
        "from math import sqrt\r\n",
        "\r\n",
        "#from shutil import unpack_archive\r\n",
        "#unpack_archive('./df_input.zip', './')"
      ],
      "outputs": [],
      "execution_count": 1,
      "metadata": {
        "gather": {
          "logged": 1632007771976
        }
      },
      "id": "590f3a91-077c-483c-8472-063d0d47c026"
    },
    {
      "cell_type": "markdown",
      "source": [
        "## Filtro de Onibus e definicoes de features/target"
      ],
      "metadata": {
        "nteract": {
          "transient": {
            "deleting": false
          }
        }
      },
      "id": "869d1469-9da1-453e-bdf1-39e6456a90f0"
    },
    {
      "cell_type": "code",
      "source": [
        "# Reading Data file (geolocalized)\r\n",
        "data = pd.read_csv('./df_input.csv', sep=';', delimiter=';')\r\n",
        "\r\n",
        "busline_filter = 41\r\n",
        "data_model = data.copy()\r\n",
        "\r\n",
        "#d_ano,  estao disponiveis para inserir once eu tive mais de 1 ano de dados\r\n",
        "feature_names = [\r\n",
        "    'hour_sin', 'hour_cos', \r\n",
        "    'd_mes', 'd_ano', 'mes', 'semana_do_mes', \r\n",
        "    'domingo','segunda', 'terca', 'quarta', 'quinta', 'sexta', 'sabado', \r\n",
        "    'feriado', 'vespera_feriado']\r\n",
        "\r\n",
        "target = 'validations_per_hour'"
      ],
      "outputs": [],
      "execution_count": 2,
      "metadata": {
        "collapsed": true,
        "jupyter": {
          "source_hidden": false,
          "outputs_hidden": false
        },
        "nteract": {
          "transient": {
            "deleting": false
          }
        },
        "gather": {
          "logged": 1632007776038
        }
      },
      "id": "5e22e982-8dfb-4a0d-aea8-afb0a085ceb3"
    },
    {
      "cell_type": "code",
      "source": [
        "day_of_week_translator = {\n",
        "    0: \"Domingo\",\n",
        "    1: \"Segunda\",\n",
        "    2: \"Terca\",\n",
        "    3: \"Quarta\",\n",
        "    4: \"Quinta\",\n",
        "    5: \"Sexta\",\n",
        "    6: \"Sabado\"\n",
        "}\n",
        "\n",
        "feriados = [\n",
        "            ['Ano Novo', 1, 1],\n",
        "            ['Carnaval', 24, 2],\n",
        "            ['Carnaval', 25, 2],\n",
        "            ['Carnaval', 26, 2],\n",
        "            ['Dia de São José', 19, 3],\n",
        "            ['Data Magna', 25, 3],\n",
        "            ['Sexta-Feira Santa', 10, 4],\n",
        "            ['Aniversário de Fortaleza', 13, 4],\n",
        "            ['Tiradentes', 21, 4],\n",
        "            ['Dia do Trabalho', 1, 5],\n",
        "            ['Corpus Christi', 28, 5],\n",
        "            ['N. Senhora da Assunção', 27, 5],\n",
        "            ['Independência do Brasil', 7, 9],\n",
        "            ['N. Senhora de Aparecida', 12, 10],\n",
        "            ['Dia de Finados', 2, 11],\n",
        "            ['Proclamação da Republica', 15, 11],\n",
        "            ['Natal', 25, 12],\n",
        "]\n",
        "\n",
        "vesperas = [\n",
        "            ['Ano Novo', 31, 12],\n",
        "            ['Carnaval', 23, 2],\n",
        "            ['Dia de São José', 18, 3],\n",
        "            ['Data Magna', 24, 3],\n",
        "            ['Sexta-Feira Santa', 9, 4],\n",
        "            ['Aniversário de Fortaleza', 12, 4],\n",
        "            ['Tiradentes', 20, 4],\n",
        "            ['Dia do Trabalho', 30, 4],\n",
        "            ['N. Senhora da Assunção', 26, 5],\n",
        "            ['Independência do Brasil', 6, 9],\n",
        "            ['N. Senhora de Aparecida', 11, 10],\n",
        "            ['Dia de Finados', 1, 11],\n",
        "            ['Proclamação da Republica', 14, 11],\n",
        "            ['Natal', 24, 12],\n",
        "]"
      ],
      "outputs": [],
      "execution_count": 3,
      "metadata": {
        "gather": {
          "logged": 1632007776206
        }
      },
      "id": "fa96d5ca-4a79-4bc9-849d-a47e61639274"
    },
    {
      "cell_type": "code",
      "source": [
        "one_hot_encoder = OneHotEncoder(sparse=False)\r\n",
        "\r\n",
        "data_model[['domingo','segunda', 'terca', 'quarta', 'quinta', 'sexta', 'sabado']] = one_hot_encoder.fit_transform(data_model['d_semana'].values.reshape(-1,1))\r\n",
        "data_model['feriado'] = [1 if any((x[0] == d and x[1] == m) for (_, d, m) in feriados) else 0 for x in list(zip(data_model.d_mes, data_model.mes))]\r\n",
        "data_model['vespera_feriado'] = [1 if any((x[0] == d and x[1] == m) for (_, d, m) in vesperas) else 0 for x in list(zip(data_model.d_mes, data_model.mes))]\r\n",
        "\r\n",
        "top100_linhas = data_model.linha.value_counts().index[:100]\r\n",
        "top100_linhas_data_model = data_model[data_model.linha.isin(top100_linhas)].loc[data['mes'] != 1]\r\n",
        "\r\n",
        "line_data_model = data_model.loc[data['linha'] == busline_filter].loc[data['mes'] != 1].copy()"
      ],
      "outputs": [],
      "execution_count": 4,
      "metadata": {
        "gather": {
          "logged": 1632007784979
        }
      },
      "id": "6bce8a86-d991-4364-96e9-dbd3e82084e3"
    },
    {
      "cell_type": "code",
      "source": [
        "top100_linhas_data_model.to_csv('./top100.csv', index=False)\r\n",
        "top100_linhas_data_model"
      ],
      "outputs": [
        {
          "output_type": "execute_result",
          "execution_count": 5,
          "data": {
            "text/plain": "         linha            data_hora  validations_per_hour  d_semana  \\\n0            1  2020-03-01 05:00:00                    39         6   \n1            1  2020-03-01 06:00:00                   233         6   \n2            1  2020-03-01 07:00:00                   258         6   \n3            1  2020-03-01 08:00:00                   238         6   \n4            1  2020-03-01 09:00:00                   248         6   \n...        ...                  ...                   ...       ...   \n1420557    920  2020-12-31 19:00:00                    94         3   \n1420558    920  2020-12-31 20:00:00                    49         3   \n1420559    920  2020-12-31 21:00:00                    20         3   \n1420560    920  2020-12-31 22:00:00                    24         3   \n1420561    920  2020-12-31 23:00:00                     2         3   \n\n             hour_sin  hour_cos  hora  d_mes  d_ano  mes  semana_do_mes  \\\n0        9.790841e-01  0.203456     5      1     61    3              0   \n1        9.976688e-01 -0.068242     6      1     61    3              0   \n2        9.422609e-01 -0.334880     7      1     61    3              0   \n3        8.169699e-01 -0.576680     8      1     61    3              0   \n4        6.310879e-01 -0.775711     9      1     61    3              0   \n...               ...       ...   ...    ...    ...  ...            ...   \n1420557 -8.878852e-01  0.460065    19     31    366   12              4   \n1420558 -7.308360e-01  0.682553    20     31    366   12              4   \n1420559 -5.195840e-01  0.854419    21     31    366   12              4   \n1420560 -2.697968e-01  0.962917    22     31    366   12              4   \n1420561 -2.449294e-16  1.000000    23     31    366   12              4   \n\n         domingo  segunda  terca  quarta  quinta  sexta  sabado  feriado  \\\n0            0.0      0.0    0.0     0.0     0.0    0.0     1.0        0   \n1            0.0      0.0    0.0     0.0     0.0    0.0     1.0        0   \n2            0.0      0.0    0.0     0.0     0.0    0.0     1.0        0   \n3            0.0      0.0    0.0     0.0     0.0    0.0     1.0        0   \n4            0.0      0.0    0.0     0.0     0.0    0.0     1.0        0   \n...          ...      ...    ...     ...     ...    ...     ...      ...   \n1420557      0.0      0.0    0.0     1.0     0.0    0.0     0.0        0   \n1420558      0.0      0.0    0.0     1.0     0.0    0.0     0.0        0   \n1420559      0.0      0.0    0.0     1.0     0.0    0.0     0.0        0   \n1420560      0.0      0.0    0.0     1.0     0.0    0.0     0.0        0   \n1420561      0.0      0.0    0.0     1.0     0.0    0.0     0.0        0   \n\n         vespera_feriado  \n0                      0  \n1                      0  \n2                      0  \n3                      0  \n4                      0  \n...                  ...  \n1420557                1  \n1420558                1  \n1420559                1  \n1420560                1  \n1420561                1  \n\n[586210 rows x 20 columns]",
            "text/html": "<div>\n<style scoped>\n    .dataframe tbody tr th:only-of-type {\n        vertical-align: middle;\n    }\n\n    .dataframe tbody tr th {\n        vertical-align: top;\n    }\n\n    .dataframe thead th {\n        text-align: right;\n    }\n</style>\n<table border=\"1\" class=\"dataframe\">\n  <thead>\n    <tr style=\"text-align: right;\">\n      <th></th>\n      <th>linha</th>\n      <th>data_hora</th>\n      <th>validations_per_hour</th>\n      <th>d_semana</th>\n      <th>hour_sin</th>\n      <th>hour_cos</th>\n      <th>hora</th>\n      <th>d_mes</th>\n      <th>d_ano</th>\n      <th>mes</th>\n      <th>semana_do_mes</th>\n      <th>domingo</th>\n      <th>segunda</th>\n      <th>terca</th>\n      <th>quarta</th>\n      <th>quinta</th>\n      <th>sexta</th>\n      <th>sabado</th>\n      <th>feriado</th>\n      <th>vespera_feriado</th>\n    </tr>\n  </thead>\n  <tbody>\n    <tr>\n      <th>0</th>\n      <td>1</td>\n      <td>2020-03-01 05:00:00</td>\n      <td>39</td>\n      <td>6</td>\n      <td>9.790841e-01</td>\n      <td>0.203456</td>\n      <td>5</td>\n      <td>1</td>\n      <td>61</td>\n      <td>3</td>\n      <td>0</td>\n      <td>0.0</td>\n      <td>0.0</td>\n      <td>0.0</td>\n      <td>0.0</td>\n      <td>0.0</td>\n      <td>0.0</td>\n      <td>1.0</td>\n      <td>0</td>\n      <td>0</td>\n    </tr>\n    <tr>\n      <th>1</th>\n      <td>1</td>\n      <td>2020-03-01 06:00:00</td>\n      <td>233</td>\n      <td>6</td>\n      <td>9.976688e-01</td>\n      <td>-0.068242</td>\n      <td>6</td>\n      <td>1</td>\n      <td>61</td>\n      <td>3</td>\n      <td>0</td>\n      <td>0.0</td>\n      <td>0.0</td>\n      <td>0.0</td>\n      <td>0.0</td>\n      <td>0.0</td>\n      <td>0.0</td>\n      <td>1.0</td>\n      <td>0</td>\n      <td>0</td>\n    </tr>\n    <tr>\n      <th>2</th>\n      <td>1</td>\n      <td>2020-03-01 07:00:00</td>\n      <td>258</td>\n      <td>6</td>\n      <td>9.422609e-01</td>\n      <td>-0.334880</td>\n      <td>7</td>\n      <td>1</td>\n      <td>61</td>\n      <td>3</td>\n      <td>0</td>\n      <td>0.0</td>\n      <td>0.0</td>\n      <td>0.0</td>\n      <td>0.0</td>\n      <td>0.0</td>\n      <td>0.0</td>\n      <td>1.0</td>\n      <td>0</td>\n      <td>0</td>\n    </tr>\n    <tr>\n      <th>3</th>\n      <td>1</td>\n      <td>2020-03-01 08:00:00</td>\n      <td>238</td>\n      <td>6</td>\n      <td>8.169699e-01</td>\n      <td>-0.576680</td>\n      <td>8</td>\n      <td>1</td>\n      <td>61</td>\n      <td>3</td>\n      <td>0</td>\n      <td>0.0</td>\n      <td>0.0</td>\n      <td>0.0</td>\n      <td>0.0</td>\n      <td>0.0</td>\n      <td>0.0</td>\n      <td>1.0</td>\n      <td>0</td>\n      <td>0</td>\n    </tr>\n    <tr>\n      <th>4</th>\n      <td>1</td>\n      <td>2020-03-01 09:00:00</td>\n      <td>248</td>\n      <td>6</td>\n      <td>6.310879e-01</td>\n      <td>-0.775711</td>\n      <td>9</td>\n      <td>1</td>\n      <td>61</td>\n      <td>3</td>\n      <td>0</td>\n      <td>0.0</td>\n      <td>0.0</td>\n      <td>0.0</td>\n      <td>0.0</td>\n      <td>0.0</td>\n      <td>0.0</td>\n      <td>1.0</td>\n      <td>0</td>\n      <td>0</td>\n    </tr>\n    <tr>\n      <th>...</th>\n      <td>...</td>\n      <td>...</td>\n      <td>...</td>\n      <td>...</td>\n      <td>...</td>\n      <td>...</td>\n      <td>...</td>\n      <td>...</td>\n      <td>...</td>\n      <td>...</td>\n      <td>...</td>\n      <td>...</td>\n      <td>...</td>\n      <td>...</td>\n      <td>...</td>\n      <td>...</td>\n      <td>...</td>\n      <td>...</td>\n      <td>...</td>\n      <td>...</td>\n    </tr>\n    <tr>\n      <th>1420557</th>\n      <td>920</td>\n      <td>2020-12-31 19:00:00</td>\n      <td>94</td>\n      <td>3</td>\n      <td>-8.878852e-01</td>\n      <td>0.460065</td>\n      <td>19</td>\n      <td>31</td>\n      <td>366</td>\n      <td>12</td>\n      <td>4</td>\n      <td>0.0</td>\n      <td>0.0</td>\n      <td>0.0</td>\n      <td>1.0</td>\n      <td>0.0</td>\n      <td>0.0</td>\n      <td>0.0</td>\n      <td>0</td>\n      <td>1</td>\n    </tr>\n    <tr>\n      <th>1420558</th>\n      <td>920</td>\n      <td>2020-12-31 20:00:00</td>\n      <td>49</td>\n      <td>3</td>\n      <td>-7.308360e-01</td>\n      <td>0.682553</td>\n      <td>20</td>\n      <td>31</td>\n      <td>366</td>\n      <td>12</td>\n      <td>4</td>\n      <td>0.0</td>\n      <td>0.0</td>\n      <td>0.0</td>\n      <td>1.0</td>\n      <td>0.0</td>\n      <td>0.0</td>\n      <td>0.0</td>\n      <td>0</td>\n      <td>1</td>\n    </tr>\n    <tr>\n      <th>1420559</th>\n      <td>920</td>\n      <td>2020-12-31 21:00:00</td>\n      <td>20</td>\n      <td>3</td>\n      <td>-5.195840e-01</td>\n      <td>0.854419</td>\n      <td>21</td>\n      <td>31</td>\n      <td>366</td>\n      <td>12</td>\n      <td>4</td>\n      <td>0.0</td>\n      <td>0.0</td>\n      <td>0.0</td>\n      <td>1.0</td>\n      <td>0.0</td>\n      <td>0.0</td>\n      <td>0.0</td>\n      <td>0</td>\n      <td>1</td>\n    </tr>\n    <tr>\n      <th>1420560</th>\n      <td>920</td>\n      <td>2020-12-31 22:00:00</td>\n      <td>24</td>\n      <td>3</td>\n      <td>-2.697968e-01</td>\n      <td>0.962917</td>\n      <td>22</td>\n      <td>31</td>\n      <td>366</td>\n      <td>12</td>\n      <td>4</td>\n      <td>0.0</td>\n      <td>0.0</td>\n      <td>0.0</td>\n      <td>1.0</td>\n      <td>0.0</td>\n      <td>0.0</td>\n      <td>0.0</td>\n      <td>0</td>\n      <td>1</td>\n    </tr>\n    <tr>\n      <th>1420561</th>\n      <td>920</td>\n      <td>2020-12-31 23:00:00</td>\n      <td>2</td>\n      <td>3</td>\n      <td>-2.449294e-16</td>\n      <td>1.000000</td>\n      <td>23</td>\n      <td>31</td>\n      <td>366</td>\n      <td>12</td>\n      <td>4</td>\n      <td>0.0</td>\n      <td>0.0</td>\n      <td>0.0</td>\n      <td>1.0</td>\n      <td>0.0</td>\n      <td>0.0</td>\n      <td>0.0</td>\n      <td>0</td>\n      <td>1</td>\n    </tr>\n  </tbody>\n</table>\n<p>586210 rows × 20 columns</p>\n</div>"
          },
          "metadata": {}
        }
      ],
      "execution_count": 5,
      "metadata": {
        "jupyter": {
          "source_hidden": false,
          "outputs_hidden": false
        },
        "nteract": {
          "transient": {
            "deleting": false
          }
        },
        "gather": {
          "logged": 1632007790249
        }
      },
      "id": "cce410a4-2c61-4339-b028-4da9033a61df"
    },
    {
      "cell_type": "code",
      "source": [
        "#display(X)"
      ],
      "outputs": [],
      "execution_count": 6,
      "metadata": {
        "collapsed": true,
        "jupyter": {
          "source_hidden": false,
          "outputs_hidden": false
        },
        "nteract": {
          "transient": {
            "deleting": false
          }
        },
        "gather": {
          "logged": 1632007790436
        }
      },
      "id": "f2a98351-c864-49d0-a182-3cba98de2eb7"
    },
    {
      "cell_type": "code",
      "source": [
        "#display(y)"
      ],
      "outputs": [],
      "execution_count": 7,
      "metadata": {
        "collapsed": true,
        "jupyter": {
          "source_hidden": false,
          "outputs_hidden": false
        },
        "nteract": {
          "transient": {
            "deleting": false
          }
        },
        "gather": {
          "logged": 1632007790705
        }
      },
      "id": "cbda2dde-fe1d-4c91-823e-c1d4f1af5ec1"
    },
    {
      "cell_type": "markdown",
      "source": [
        "---------------------------------------------------------------------------- Fim Setup ----------------------------------------------------------------------------  \r\n",
        "# Criacao dos Modelos"
      ],
      "metadata": {
        "nteract": {
          "transient": {
            "deleting": false
          }
        }
      },
      "id": "72de803e-424a-42c5-9ba4-dab62dd89ab1"
    },
    {
      "cell_type": "code",
      "source": [
        "model_list = []"
      ],
      "outputs": [],
      "execution_count": 8,
      "metadata": {
        "collapsed": true,
        "jupyter": {
          "source_hidden": false,
          "outputs_hidden": false
        },
        "nteract": {
          "transient": {
            "deleting": false
          }
        },
        "gather": {
          "logged": 1632007790970
        }
      },
      "id": "f467e4f4-195c-4df1-b1c6-01a12cf5a2f8"
    },
    {
      "cell_type": "code",
      "source": [
        "def get_performance(model):\r\n",
        "    y_test_predict = model.predict(X_test)\r\n",
        "    mse = mean_squared_error(Y_test, y_test_predict)\r\n",
        "    rmse = (np.sqrt(mse))\r\n",
        "    r2 = r2_score(Y_test, y_test_predict)\r\n",
        "    mae = mean_absolute_error(Y_test, y_test_predict)\r\n",
        "    #mape = mean_absolute_percentage_error(Y_test, y_test_predict)\r\n",
        "    performance_scoring = [\r\n",
        "        r2,\r\n",
        "        rmse,\r\n",
        "        mae,\r\n",
        "        #mape\r\n",
        "    ]\r\n",
        "    #performance_scoring = pd.DataFrame(performance_scoring,columns=['Metrica', 'Score'])\r\n",
        "    #performance_scoring['Score'] = performance_scoring['Score'].astype('float64')\r\n",
        "    return performance_scoring"
      ],
      "outputs": [],
      "execution_count": 9,
      "metadata": {
        "collapsed": true,
        "jupyter": {
          "source_hidden": false,
          "outputs_hidden": false
        },
        "nteract": {
          "transient": {
            "deleting": false
          }
        },
        "gather": {
          "logged": 1632007791168
        }
      },
      "id": "871f0085-01e9-4694-9d3e-0210e260c87f"
    },
    {
      "cell_type": "markdown",
      "source": [
        "### Grid Search"
      ],
      "metadata": {
        "nteract": {
          "transient": {
            "deleting": false
          }
        }
      },
      "id": "4dae3130-a63c-4ac7-a471-a1e428809d7b"
    },
    {
      "cell_type": "code",
      "source": [
        "LinearRegressionModel = LinearRegression()\r\n",
        "RandomForestModel = RandomForestRegressor()"
      ],
      "outputs": [],
      "execution_count": 10,
      "metadata": {
        "collapsed": true,
        "jupyter": {
          "source_hidden": false,
          "outputs_hidden": false
        },
        "nteract": {
          "transient": {
            "deleting": false
          }
        },
        "gather": {
          "logged": 1632007791335
        }
      },
      "id": "2d8e04cf-b35c-4d00-8a55-c96e1863e9d5"
    },
    {
      "cell_type": "markdown",
      "source": [
        "#### Linear Regression Model Parameters"
      ],
      "metadata": {
        "nteract": {
          "transient": {
            "deleting": false
          }
        }
      },
      "id": "42cb2b42-702e-4ddb-943a-dd4d6e5b8f01"
    },
    {
      "cell_type": "code",
      "source": [
        "# print(\"Linear Regression  Params ----> \")\r\n",
        "# pprint(LinearRegressionModel.get_params())\r\n",
        "\r\n",
        "copy_X = [True, False]\r\n",
        "fit_intercept = [True, False]\r\n",
        "n_jobs = [2, 4, 6, 8]\r\n",
        "normalize = [True, False]\r\n",
        "\r\n",
        "# Create the random grid\r\n",
        "random_grid_linearregression = {'copy_X': copy_X, 'fit_intercept': fit_intercept, 'n_jobs': n_jobs, 'normalize': normalize}"
      ],
      "outputs": [],
      "execution_count": 11,
      "metadata": {
        "collapsed": true,
        "jupyter": {
          "source_hidden": false,
          "outputs_hidden": false
        },
        "nteract": {
          "transient": {
            "deleting": false
          }
        },
        "gather": {
          "logged": 1632007791617
        }
      },
      "id": "bc5966c3-11f4-43e0-8f23-fc3a3da37702"
    },
    {
      "cell_type": "markdown",
      "source": [
        "#### Random Forest Model Parameters"
      ],
      "metadata": {
        "nteract": {
          "transient": {
            "deleting": false
          }
        }
      },
      "id": "62959193-309d-45aa-9882-5c798cf85fcf"
    },
    {
      "cell_type": "code",
      "source": [
        "# print(\"Random Forest Model Params ----> \")\r\n",
        "# pprint(RandomForestModel.get_params())\r\n",
        "\r\n",
        "# Number of trees in random forest\r\n",
        "n_estimators = [int(x) for x in np.linspace(start = 20, stop = 1000, num = 10)]\r\n",
        "\r\n",
        "n_jobs = [2, 4, 6, 8]\r\n",
        "\r\n",
        "# Number of features to consider at every split\r\n",
        "max_features = ['auto', 'sqrt']\r\n",
        "\r\n",
        "# Maximum number of levels in tree\r\n",
        "max_depth = [int(x) for x in np.linspace(10, 110, num = 11)]\r\n",
        "max_depth.append(None)\r\n",
        "\r\n",
        "# Minimum number of samples required to split a node\r\n",
        "min_samples_split = [2, 5, 10]\r\n",
        "\r\n",
        "# Minimum number of samples required at each leaf node\r\n",
        "min_samples_leaf = [1, 2, 4]\r\n",
        "\r\n",
        "# Method of selecting samples for training each tree\r\n",
        "bootstrap = [True, False]\r\n",
        "\r\n",
        "# Create the random grid\r\n",
        "random_grid_randomforest = {'n_estimators': n_estimators,\r\n",
        "               'max_features': max_features,\r\n",
        "               'max_depth': max_depth,\r\n",
        "               'min_samples_split': min_samples_split,\r\n",
        "               'min_samples_leaf': min_samples_leaf,\r\n",
        "               'bootstrap': bootstrap,\r\n",
        "               'n_jobs': n_jobs}"
      ],
      "outputs": [],
      "execution_count": 12,
      "metadata": {
        "collapsed": true,
        "jupyter": {
          "source_hidden": false,
          "outputs_hidden": false
        },
        "nteract": {
          "transient": {
            "deleting": false
          }
        },
        "gather": {
          "logged": 1632007791792
        }
      },
      "id": "6485223f-efbf-48ee-9f5f-3b728871a9ed"
    },
    {
      "cell_type": "code",
      "source": [
        "X = line_data_model.filter(feature_names, axis=1)\r\n",
        "y = line_data_model.validations_per_hour\r\n",
        "\r\n",
        "# Random search of parameters, using 3 fold cross validation, \r\n",
        "# search across 100 different combinations, and use all available cores\r\n",
        "LinearRegressionModel = LinearRegression()\r\n",
        "RandomForestModel = RandomForestRegressor()\r\n",
        "gridsearch_result_randomforest = RandomizedSearchCV(estimator = RandomForestModel, param_distributions = random_grid_randomforest, n_iter = 100, cv = 3, verbose=2, random_state=42, n_jobs = -1)\r\n",
        "gridsearch_result_linearregression = RandomizedSearchCV(estimator = LinearRegressionModel, param_distributions = random_grid_linearregression, n_iter = 100, cv = 3, verbose=2, random_state=42, n_jobs = -1)\r\n",
        "\r\n",
        "# Fit the random search model\r\n",
        "X_train, X_test, Y_train, Y_test = train_test_split(X, y, test_size = 0.2, random_state=5)\r\n",
        "\r\n",
        "gridsearch_result_randomforest.fit(X_train, Y_train)\r\n",
        "gridsearch_result_linearregression.fit(X_train, Y_train)\r\n",
        "\r\n",
        "print(\"Random Forest Best Parameters -----> \")\r\n",
        "pprint(gridsearch_result_randomforest.best_params_)\r\n",
        "\r\n",
        "print(\"Linear Regression Best Parameters -----> \")\r\n",
        "pprint(gridsearch_result_linearregression.best_params_)\r\n",
        "\r\n",
        "gridsearched_random_randomforest = gridsearch_result_randomforest.best_estimator_\r\n",
        "gridsearch_random_linearregression = gridsearch_result_linearregression.best_estimator_\r\n",
        "\r\n",
        "default_linearregression_model = LinearRegressionModel.fit(X_train, Y_train)\r\n",
        "default_randomforest_model = RandomForestModel.fit(X_train, Y_train)\r\n"
      ],
      "outputs": [
        {
          "output_type": "stream",
          "name": "stdout",
          "text": "Fitting 3 folds for each of 100 candidates, totalling 300 fits\nFitting 3 folds for each of 32 candidates, totalling 96 fits\nRandom Forest Best Parameters -----> \n{'bootstrap': True,\n 'max_depth': 110,\n 'max_features': 'auto',\n 'min_samples_leaf': 1,\n 'min_samples_split': 2,\n 'n_estimators': 237,\n 'n_jobs': 2}\nLinear Regression Best Parameters -----> \n{'copy_X': True, 'fit_intercept': False, 'n_jobs': 2, 'normalize': True}\n"
        },
        {
          "output_type": "stream",
          "name": "stderr",
          "text": "[Parallel(n_jobs=-1)]: Using backend LokyBackend with 4 concurrent workers.\n[Parallel(n_jobs=-1)]: Done  33 tasks      | elapsed:   32.4s\n/anaconda/envs/azureml_py38/lib/python3.8/site-packages/joblib/externals/loky/process_executor.py:703: UserWarning: A worker stopped while some jobs were given to the executor. This can be caused by a too short worker timeout or by a memory leak.\n  warnings.warn(\n[Parallel(n_jobs=-1)]: Done 154 tasks      | elapsed:  2.9min\n[Parallel(n_jobs=-1)]: Done 300 out of 300 | elapsed:  5.4min finished\n/anaconda/envs/azureml_py38/lib/python3.8/site-packages/sklearn/model_selection/_search.py:277: UserWarning: The total space of parameters 32 is smaller than n_iter=100. Running 32 iterations. For exhaustive searches, use GridSearchCV.\n  warnings.warn(\n[Parallel(n_jobs=-1)]: Using backend LokyBackend with 4 concurrent workers.\n[Parallel(n_jobs=-1)]: Done  44 tasks      | elapsed:    0.8s\n[Parallel(n_jobs=-1)]: Done  96 out of  96 | elapsed:    0.9s finished\n"
        }
      ],
      "execution_count": 13,
      "metadata": {
        "collapsed": true,
        "jupyter": {
          "source_hidden": false,
          "outputs_hidden": false
        },
        "nteract": {
          "transient": {
            "deleting": false
          }
        },
        "gather": {
          "logged": 1632008120474
        }
      },
      "id": "f775c71d-f8ed-459b-a4e3-1569d6fa6a00"
    },
    {
      "cell_type": "code",
      "source": [
        "sample = X.sample(n=1)\r\n",
        "sample"
      ],
      "outputs": [
        {
          "output_type": "execute_result",
          "execution_count": 14,
          "data": {
            "text/plain": "        hour_sin  hour_cos  d_mes  d_ano  mes  semana_do_mes  domingo  \\\n317922 -0.631088 -0.775711      6    127    5              1      0.0   \n\n        segunda  terca  quarta  quinta  sexta  sabado  feriado  \\\n317922      0.0    1.0     0.0     0.0    0.0     0.0        0   \n\n        vespera_feriado  \n317922                0  ",
            "text/html": "<div>\n<style scoped>\n    .dataframe tbody tr th:only-of-type {\n        vertical-align: middle;\n    }\n\n    .dataframe tbody tr th {\n        vertical-align: top;\n    }\n\n    .dataframe thead th {\n        text-align: right;\n    }\n</style>\n<table border=\"1\" class=\"dataframe\">\n  <thead>\n    <tr style=\"text-align: right;\">\n      <th></th>\n      <th>hour_sin</th>\n      <th>hour_cos</th>\n      <th>d_mes</th>\n      <th>d_ano</th>\n      <th>mes</th>\n      <th>semana_do_mes</th>\n      <th>domingo</th>\n      <th>segunda</th>\n      <th>terca</th>\n      <th>quarta</th>\n      <th>quinta</th>\n      <th>sexta</th>\n      <th>sabado</th>\n      <th>feriado</th>\n      <th>vespera_feriado</th>\n    </tr>\n  </thead>\n  <tbody>\n    <tr>\n      <th>317922</th>\n      <td>-0.631088</td>\n      <td>-0.775711</td>\n      <td>6</td>\n      <td>127</td>\n      <td>5</td>\n      <td>1</td>\n      <td>0.0</td>\n      <td>0.0</td>\n      <td>1.0</td>\n      <td>0.0</td>\n      <td>0.0</td>\n      <td>0.0</td>\n      <td>0.0</td>\n      <td>0</td>\n      <td>0</td>\n    </tr>\n  </tbody>\n</table>\n</div>"
          },
          "metadata": {}
        }
      ],
      "execution_count": 14,
      "metadata": {
        "collapsed": true,
        "jupyter": {
          "source_hidden": false,
          "outputs_hidden": false
        },
        "nteract": {
          "transient": {
            "deleting": false
          }
        },
        "gather": {
          "logged": 1632008120717
        }
      },
      "id": "b97a4671-b20c-4109-bf85-0e1d8df65a2c"
    },
    {
      "cell_type": "code",
      "source": [
        "print(\"###  1 Modelo Por Linha (dado completo de treino)\")\r\n",
        "\r\n",
        "performance_default_linearregression_model = get_performance(default_linearregression_model)\r\n",
        "performance_default_randomforest_model = get_performance(default_randomforest_model)\r\n",
        "performance_gridsearched_linearregression_model = get_performance(gridsearch_random_linearregression)\r\n",
        "performance_gridsearched_randomforest_model = get_performance(gridsearched_random_randomforest)\r\n",
        "\r\n",
        "print(\"\\n----------------------------------------------------\\n\")\r\n",
        "print('Regressao Linear [DEFAULT]: \\n', performance_default_linearregression_model)\r\n",
        "print(\"\\n----------------------------------------------------\\n\")\r\n",
        "print('Random Forest [DEFAULT]: \\n', performance_default_randomforest_model)\r\n",
        "print(\"\\n----------------------------------------------------\\n\")\r\n",
        "print('Regressao Linear [GRID SEARCH]: \\n', performance_gridsearched_linearregression_model)\r\n",
        "print(\"\\n----------------------------------------------------\\n\")\r\n",
        "print('Random Forest [GRID SEARCH]: \\n', performance_gridsearched_randomforest_model)\r\n",
        "print(\"\\n----------------------------------------------------\\n\")\r\n",
        "\r\n",
        "print(\"\\nUtilizando sample aleatorio de dado para teste de previsao: \")\r\n",
        "\r\n",
        "predict_res = default_linearregression_model.predict(sample)\r\n",
        "\r\n",
        "print(\"Regressao Linear -> resultado do predict de test: \", predict_res)\r\n",
        "\r\n",
        "predict_res2 = default_randomforest_model.predict(sample)\r\n",
        "print(\"Random Forest -> resultado do predict de test: \", predict_res2)\r\n",
        "\r\n",
        "random_res = gridsearch_random_linearregression.predict(sample)\r\n",
        "print(\"Regressao Linear Best Grid Searched -> resultado do predict de test: \", predict_res2)\r\n",
        "\r\n",
        "random_res = gridsearched_random_randomforest.predict(sample)\r\n",
        "print(\"Random Forest Best Grid Searched -> resultado do predict de test: \", predict_res2)\r\n",
        "\r\n",
        "display(data_model.loc[sample.index[0]:sample.index[0]])\r\n",
        "\r\n",
        "print('LINHA UTILIZADA PARA OS TESTES: ', busline_filter)\r\n",
        "\r\n",
        "performance_total = [performance_default_linearregression_model,\r\n",
        "    performance_default_randomforest_model,\r\n",
        "    performance_gridsearched_linearregression_model,\r\n",
        "    performance_gridsearched_randomforest_model]\r\n",
        "\r\n",
        "performance_total = pd.DataFrame.from_records(performance_total, columns=['R2', 'RMSE', 'MAE'], \r\n",
        "    index=['LinearReg Default', 'RandomForest Default', 'LinearReg GridSearched', 'RandomForest GridSearched'])\r\n",
        "performance_total"
      ],
      "outputs": [
        {
          "output_type": "stream",
          "name": "stdout",
          "text": "###  1 Modelo Por Linha (dado completo de treino)\n\n----------------------------------------------------\n\nRegressao Linear [DEFAULT]: \n [0.38108258495687986, 212.46178497824638, 158.53020063087848]\n\n----------------------------------------------------\n\nRandom Forest [DEFAULT]: \n [0.9769859087291921, 40.96956850002502, 29.60537519760941]\n\n----------------------------------------------------\n\nRegressao Linear [GRID SEARCH]: \n [0.3810825849568801, 212.46178497824636, 158.53020063087783]\n\n----------------------------------------------------\n\nRandom Forest [GRID SEARCH]: \n [0.9771209888469143, 40.84915708265401, 29.76700103065193]\n\n----------------------------------------------------\n\n\nUtilizando sample aleatorio de dado para teste de previsao: \nRegressao Linear -> resultado do predict de test:  [493.01329453]\nRandom Forest -> resultado do predict de test:  [256.64]\nRegressao Linear Best Grid Searched -> resultado do predict de test:  [256.64]\nRandom Forest Best Grid Searched -> resultado do predict de test:  [256.64]\n"
        },
        {
          "output_type": "display_data",
          "data": {
            "text/plain": "        linha            data_hora  validations_per_hour  d_semana  hour_sin  \\\n317922     41  2020-05-06 14:00:00                   268         2 -0.631088   \n\n        hour_cos  hora  d_mes  d_ano  mes  semana_do_mes  domingo  segunda  \\\n317922 -0.775711    14      6    127    5              1      0.0      0.0   \n\n        terca  quarta  quinta  sexta  sabado  feriado  vespera_feriado  \n317922    1.0     0.0     0.0    0.0     0.0        0                0  ",
            "text/html": "<div>\n<style scoped>\n    .dataframe tbody tr th:only-of-type {\n        vertical-align: middle;\n    }\n\n    .dataframe tbody tr th {\n        vertical-align: top;\n    }\n\n    .dataframe thead th {\n        text-align: right;\n    }\n</style>\n<table border=\"1\" class=\"dataframe\">\n  <thead>\n    <tr style=\"text-align: right;\">\n      <th></th>\n      <th>linha</th>\n      <th>data_hora</th>\n      <th>validations_per_hour</th>\n      <th>d_semana</th>\n      <th>hour_sin</th>\n      <th>hour_cos</th>\n      <th>hora</th>\n      <th>d_mes</th>\n      <th>d_ano</th>\n      <th>mes</th>\n      <th>semana_do_mes</th>\n      <th>domingo</th>\n      <th>segunda</th>\n      <th>terca</th>\n      <th>quarta</th>\n      <th>quinta</th>\n      <th>sexta</th>\n      <th>sabado</th>\n      <th>feriado</th>\n      <th>vespera_feriado</th>\n    </tr>\n  </thead>\n  <tbody>\n    <tr>\n      <th>317922</th>\n      <td>41</td>\n      <td>2020-05-06 14:00:00</td>\n      <td>268</td>\n      <td>2</td>\n      <td>-0.631088</td>\n      <td>-0.775711</td>\n      <td>14</td>\n      <td>6</td>\n      <td>127</td>\n      <td>5</td>\n      <td>1</td>\n      <td>0.0</td>\n      <td>0.0</td>\n      <td>1.0</td>\n      <td>0.0</td>\n      <td>0.0</td>\n      <td>0.0</td>\n      <td>0.0</td>\n      <td>0</td>\n      <td>0</td>\n    </tr>\n  </tbody>\n</table>\n</div>"
          },
          "metadata": {}
        },
        {
          "output_type": "stream",
          "name": "stdout",
          "text": "LINHA UTILIZADA PARA OS TESTES:  41\n"
        },
        {
          "output_type": "execute_result",
          "execution_count": 15,
          "data": {
            "text/plain": "                                 R2        RMSE         MAE\nLinearReg Default          0.381083  212.461785  158.530201\nRandomForest Default       0.976986   40.969569   29.605375\nLinearReg GridSearched     0.381083  212.461785  158.530201\nRandomForest GridSearched  0.977121   40.849157   29.767001",
            "text/html": "<div>\n<style scoped>\n    .dataframe tbody tr th:only-of-type {\n        vertical-align: middle;\n    }\n\n    .dataframe tbody tr th {\n        vertical-align: top;\n    }\n\n    .dataframe thead th {\n        text-align: right;\n    }\n</style>\n<table border=\"1\" class=\"dataframe\">\n  <thead>\n    <tr style=\"text-align: right;\">\n      <th></th>\n      <th>R2</th>\n      <th>RMSE</th>\n      <th>MAE</th>\n    </tr>\n  </thead>\n  <tbody>\n    <tr>\n      <th>LinearReg Default</th>\n      <td>0.381083</td>\n      <td>212.461785</td>\n      <td>158.530201</td>\n    </tr>\n    <tr>\n      <th>RandomForest Default</th>\n      <td>0.976986</td>\n      <td>40.969569</td>\n      <td>29.605375</td>\n    </tr>\n    <tr>\n      <th>LinearReg GridSearched</th>\n      <td>0.381083</td>\n      <td>212.461785</td>\n      <td>158.530201</td>\n    </tr>\n    <tr>\n      <th>RandomForest GridSearched</th>\n      <td>0.977121</td>\n      <td>40.849157</td>\n      <td>29.767001</td>\n    </tr>\n  </tbody>\n</table>\n</div>"
          },
          "metadata": {}
        }
      ],
      "execution_count": 15,
      "metadata": {
        "gather": {
          "logged": 1632008120992
        }
      },
      "id": "19ec5db2-903e-4d5e-ac06-e218249b1bdd"
    },
    {
      "cell_type": "markdown",
      "source": [
        "## BAGGING"
      ],
      "metadata": {
        "nteract": {
          "transient": {
            "deleting": false
          }
        }
      },
      "id": "4b8fd889-6b65-486c-8d1a-6b7f0d298400"
    },
    {
      "cell_type": "code",
      "source": [
        "#X_train, X_test, Y_train, Y_test = train_test_split(X, y, test_size = 0.2, random_state=5)\r\n",
        "warnings.filterwarnings(\"ignore\") # To ignore warnings\r\n",
        "n_jobs = -1 # This parameter conrols the parallel processing. -1 means using all processors.\r\n",
        "random_state = 42 # This parameter controls the randomness of the data. Using some int value to get same results everytime this code is run\r\n",
        "models_scores = [] # To store model scores               \r\n",
        "\r\n",
        "def bagging_model(estimator):\r\n",
        "    \"\"\"\r\n",
        "    I/P\r\n",
        "    estimator: The base estimator from which the ensemble is grown.\r\n",
        "    O/P\r\n",
        "    br_y_pred: Predictions on test data for the base estimator.\r\n",
        "    \r\n",
        "    \"\"\"\r\n",
        "    regr = BaggingRegressor(base_estimator=estimator,\r\n",
        "                            n_estimators=10,\r\n",
        "                            max_samples=1.0,\r\n",
        "                            bootstrap=True, # Samples are drawn with replacement\r\n",
        "                            n_jobs= n_jobs,\r\n",
        "                            random_state=random_state).fit(X_train, Y_train)\r\n",
        "\r\n",
        "    br_y_pred = regr.predict(X_test)\r\n",
        "\r\n",
        "    performance = get_performance(regr)\r\n",
        "    \r\n",
        "    print(f'Performance for base estimator {regr.base_estimator_} = {performance}\\n')\r\n",
        "\r\n",
        "    return regr, performance\r\n",
        "\r\n",
        "LinearRegressionModelPipeline = make_pipeline(LinearRegression())\r\n",
        "RandomForestModelPipeline = make_pipeline(RandomForestRegressor())\r\n",
        "\r\n",
        "bagging_lr_model, performance_bagging_lr_model = bagging_model(LinearRegressionModelPipeline)\r\n",
        "bagging_rf_model, performance_bagging_rf_model = bagging_model(RandomForestModelPipeline)\r\n",
        "\r\n",
        "df2 = pd.DataFrame([performance_bagging_lr_model, performance_bagging_rf_model], columns=['R2','RMSE','MAE'], \r\n",
        "    index=['LinearRegression Bagging', 'RandomForest Bagging'])\r\n",
        "performance_total = pd.concat([df2, performance_total])\r\n"
      ],
      "outputs": [
        {
          "output_type": "stream",
          "name": "stdout",
          "text": "Performance for base estimator Pipeline(memory=None,\n         steps=[('linearregression',\n                 LinearRegression(copy_X=True, fit_intercept=True, n_jobs=None,\n                                  normalize=False))],\n         verbose=False) = [0.38046972703661563, 212.56694979259984, 158.72459287274364]\n\nPerformance for base estimator Pipeline(memory=None,\n         steps=[('randomforestregressor',\n                 RandomForestRegressor(bootstrap=True, ccp_alpha=0.0,\n                                       criterion='mse', max_depth=None,\n                                       max_features='auto', max_leaf_nodes=None,\n                                       max_samples=None,\n                                       min_impurity_decrease=0.0,\n                                       min_impurity_split=None,\n                                       min_samples_leaf=1, min_samples_split=2,\n                                       min_weight_fraction_leaf=0.0,\n                                       n_estimators=100, n_jobs=None,\n                                       oob_score=False, random_state=None,\n                                       verbose=0, warm_start=False))],\n         verbose=False) = [0.9760571367115033, 41.78808959901574, 29.900033053687203]\n\n"
        }
      ],
      "execution_count": 16,
      "metadata": {
        "collapsed": true,
        "jupyter": {
          "source_hidden": false,
          "outputs_hidden": false
        },
        "nteract": {
          "transient": {
            "deleting": false
          }
        },
        "gather": {
          "logged": 1632008128234
        }
      },
      "id": "7808b1b3-dc28-4d3f-8b14-15781bd7f294"
    },
    {
      "cell_type": "markdown",
      "source": [
        "# STACKING"
      ],
      "metadata": {
        "nteract": {
          "transient": {
            "deleting": false
          }
        }
      },
      "id": "731700fd-b25f-4051-a677-e5e8cdf17363"
    },
    {
      "cell_type": "code",
      "source": [
        "\r\n",
        "estimators = [ ('random_forest', RandomForestModelPipeline), ('linear_reg', LinearRegressionModelPipeline)]\r\n",
        "\r\n",
        "stack = StackingRegressor(estimators=estimators, final_estimator= RandomForestModelPipeline, cv= 5, n_jobs= n_jobs, passthrough = True)\r\n",
        "\r\n",
        "stack.fit(X_train, Y_train)\r\n",
        "\r\n",
        "performance = get_performance(stack)\r\n",
        "\r\n",
        "df2 = pd.DataFrame([performance], columns=['R2','RMSE','MAE'], \r\n",
        "    index=['Stacking Regressors'])\r\n",
        "\r\n",
        "performance_total = pd.concat([df2, performance_total])\r\n"
      ],
      "outputs": [],
      "execution_count": 17,
      "metadata": {
        "collapsed": true,
        "jupyter": {
          "source_hidden": false,
          "outputs_hidden": false
        },
        "nteract": {
          "transient": {
            "deleting": false
          }
        },
        "gather": {
          "logged": 1632008136218
        }
      },
      "id": "47711335-0579-4ce4-a2a8-3dbdd690125c"
    },
    {
      "cell_type": "markdown",
      "source": [
        "# BOOSTING"
      ],
      "metadata": {
        "nteract": {
          "transient": {
            "deleting": false
          }
        }
      },
      "id": "59d186e1-0c00-4178-9028-d5ba275f5563"
    },
    {
      "cell_type": "code",
      "source": [
        "gradient_boosting_regressor= GradientBoostingRegressor(n_estimators=3000, learning_rate=0.05,\r\n",
        "                                   max_depth=4, max_features='sqrt',\r\n",
        "                                   min_samples_leaf=15, min_samples_split=10, \r\n",
        "                                   loss='huber', random_state = random_state)\r\n",
        "\r\n",
        "gradient_boosting_regressor.fit(X_train, Y_train)\r\n",
        "\r\n",
        "performance = get_performance(gradient_boosting_regressor)\r\n",
        "\r\n",
        "df2 = pd.DataFrame([performance], columns=['R2','RMSE','MAE'], \r\n",
        "    index=['GradientBoostingRegressor'])\r\n",
        "\r\n",
        "performance_total = pd.concat([df2, performance_total])\r\n"
      ],
      "outputs": [],
      "execution_count": 18,
      "metadata": {
        "collapsed": true,
        "jupyter": {
          "source_hidden": false,
          "outputs_hidden": false
        },
        "nteract": {
          "transient": {
            "deleting": false
          }
        },
        "gather": {
          "logged": 1632008151232
        }
      },
      "id": "b773e04f-0613-494a-b113-f7c357b0fb39"
    },
    {
      "cell_type": "code",
      "source": [
        "print('PERFORMANCE DOS MODELOS PARA A LINHA: ', busline_filter)\n",
        "performance_total.sort_values('R2', ascending=False)"
      ],
      "outputs": [
        {
          "output_type": "stream",
          "name": "stdout",
          "text": "PERFORMANCE DOS MODELOS PARA A LINHA:  41\n"
        },
        {
          "output_type": "execute_result",
          "execution_count": 19,
          "data": {
            "text/plain": "                                 R2        RMSE         MAE\nRandomForest GridSearched  0.977121   40.849157   29.767001\nRandomForest Default       0.976986   40.969569   29.605375\nStacking Regressors        0.976485   41.413393   29.594434\nRandomForest Bagging       0.976057   41.788090   29.900033\nGradientBoostingRegressor  0.973293   44.134100   31.719544\nLinearReg GridSearched     0.381083  212.461785  158.530201\nLinearReg Default          0.381083  212.461785  158.530201\nLinearRegression Bagging   0.380470  212.566950  158.724593",
            "text/html": "<div>\n<style scoped>\n    .dataframe tbody tr th:only-of-type {\n        vertical-align: middle;\n    }\n\n    .dataframe tbody tr th {\n        vertical-align: top;\n    }\n\n    .dataframe thead th {\n        text-align: right;\n    }\n</style>\n<table border=\"1\" class=\"dataframe\">\n  <thead>\n    <tr style=\"text-align: right;\">\n      <th></th>\n      <th>R2</th>\n      <th>RMSE</th>\n      <th>MAE</th>\n    </tr>\n  </thead>\n  <tbody>\n    <tr>\n      <th>RandomForest GridSearched</th>\n      <td>0.977121</td>\n      <td>40.849157</td>\n      <td>29.767001</td>\n    </tr>\n    <tr>\n      <th>RandomForest Default</th>\n      <td>0.976986</td>\n      <td>40.969569</td>\n      <td>29.605375</td>\n    </tr>\n    <tr>\n      <th>Stacking Regressors</th>\n      <td>0.976485</td>\n      <td>41.413393</td>\n      <td>29.594434</td>\n    </tr>\n    <tr>\n      <th>RandomForest Bagging</th>\n      <td>0.976057</td>\n      <td>41.788090</td>\n      <td>29.900033</td>\n    </tr>\n    <tr>\n      <th>GradientBoostingRegressor</th>\n      <td>0.973293</td>\n      <td>44.134100</td>\n      <td>31.719544</td>\n    </tr>\n    <tr>\n      <th>LinearReg GridSearched</th>\n      <td>0.381083</td>\n      <td>212.461785</td>\n      <td>158.530201</td>\n    </tr>\n    <tr>\n      <th>LinearReg Default</th>\n      <td>0.381083</td>\n      <td>212.461785</td>\n      <td>158.530201</td>\n    </tr>\n    <tr>\n      <th>LinearRegression Bagging</th>\n      <td>0.380470</td>\n      <td>212.566950</td>\n      <td>158.724593</td>\n    </tr>\n  </tbody>\n</table>\n</div>"
          },
          "metadata": {}
        }
      ],
      "execution_count": 19,
      "metadata": {
        "collapsed": true,
        "jupyter": {
          "source_hidden": false,
          "outputs_hidden": false
        },
        "nteract": {
          "transient": {
            "deleting": false
          }
        },
        "gather": {
          "logged": 1632008151485
        }
      },
      "id": "19ecda2f-975d-407f-915e-86fb10e9f6ee"
    },
    {
      "cell_type": "markdown",
      "source": [
        "### Todos os modelos treinados dentro de *model_list*"
      ],
      "metadata": {
        "nteract": {
          "transient": {
            "deleting": false
          }
        }
      },
      "id": "c9ecde7a-fa59-465a-937f-a49031e1f9cf"
    },
    {
      "cell_type": "code",
      "source": [
        "model_list = [\n",
        "    #default_linearregression_model,\n",
        "    default_randomforest_model,\n",
        "    #gridsearch_result_linearregression,\n",
        "    #gridsearch_result_randomforest,\n",
        "    #bagging_lr_model,\n",
        "    bagging_rf_model,\n",
        "    stack,\n",
        "    #gradient_boosting_regressor\n",
        "]"
      ],
      "outputs": [],
      "execution_count": 20,
      "metadata": {
        "collapsed": true,
        "jupyter": {
          "source_hidden": false,
          "outputs_hidden": false
        },
        "nteract": {
          "transient": {
            "deleting": false
          }
        },
        "gather": {
          "logged": 1632008151668
        }
      },
      "id": "11b581ce-baa4-4cb1-9fef-cc50b1c59c0a"
    },
    {
      "cell_type": "markdown",
      "source": [
        "## Treinar com 1 mes, prever N semanas"
      ],
      "metadata": {
        "nteract": {
          "transient": {
            "deleting": false
          }
        }
      },
      "id": "48968961-f8cf-4714-bc11-af7c6eaa45e1"
    },
    {
      "cell_type": "code",
      "source": [
        "# Jan, Fev, Mar, Abril, Maio\r\n",
        "# treina com mar, preve 2 semanas de abril\r\n",
        "\r\n",
        "line_mes_data_model = line_data_model[line_data_model.mes == 3]\r\n",
        "\r\n",
        "line_mes_data_model_predict = line_data_model[line_data_model.mes == 4]\r\n",
        "\r\n",
        "df_prev = line_mes_data_model_predict[line_mes_data_model_predict.semana_do_mes <=  2].filter(feature_names, axis = 1)\r\n",
        "real_values = line_mes_data_model_predict[line_mes_data_model_predict.semana_do_mes <=  2].filter('validations_per_hour', axis = 1)\r\n",
        "\r\n",
        "X = line_mes_data_model.filter(feature_names, axis=1)\r\n",
        "y = line_mes_data_model.validations_per_hour\r\n",
        "X_train, X_test, Y_train, Y_test = train_test_split(X, y, test_size = 0.2, random_state=5)\r\n",
        "\r\n",
        "predictions = list()\r\n",
        "performances = list()\r\n",
        "df_prev\r\n",
        "for i, model in enumerate(model_list):\r\n",
        "        model.fit(X_train, Y_train)\r\n",
        "        performances.append(get_performance(model))\r\n",
        "\r\n",
        "        for index, row in df_prev.iterrows():\r\n",
        "            predictions.append(model.predict([row])[0])\r\n",
        "        \r\n",
        "df_performance = pd.DataFrame(performances)\r\n",
        "df_performance.to_csv('./performance_1mes(mar)_2semana(abr)_predict.csv', index=False)"
      ],
      "outputs": [],
      "execution_count": 33,
      "metadata": {
        "jupyter": {
          "source_hidden": false,
          "outputs_hidden": false
        },
        "nteract": {
          "transient": {
            "deleting": false
          }
        },
        "gather": {
          "logged": 1632009069687
        }
      },
      "id": "726c65bb-227c-4b74-9bf6-25a82143bf29"
    },
    {
      "cell_type": "code",
      "source": [
        "predictions"
      ],
      "outputs": [
        {
          "output_type": "execute_result",
          "execution_count": 34,
          "data": {
            "text/plain": "[40.558,\n 40.86833333333333,\n 345.28,\n 594.56,\n 540.9,\n 342.07,\n 303.18,\n 300.25,\n 327.14,\n 359.32,\n 329.91,\n 344.22,\n 389.63,\n 521.29,\n 667.93,\n 569.14,\n 371.5,\n 221.03,\n 189.63,\n 167.75,\n 40.558,\n 45.635,\n 43.6545,\n 364.45,\n 657.14,\n 603.15,\n 379.94,\n 334.94,\n 333.18,\n 352.74,\n 381.43,\n 356.02,\n 361.66,\n 417.2,\n 565.28,\n 710.11,\n 609.62,\n 377.07,\n 223.45,\n 185.85,\n 172.73,\n 45.635,\n 54.78416666666668,\n 47.09283333333333,\n 426.0,\n 700.47,\n 645.71,\n 418.82,\n 364.27,\n 356.38,\n 375.34,\n 413.16,\n 374.11,\n 387.03,\n 448.34,\n 607.3,\n 754.99,\n 636.76,\n 399.89,\n 231.2,\n 186.83,\n 171.89,\n 54.78416666666668,\n 45.2055,\n 38.02583333333334,\n 285.47,\n 501.48,\n 491.29,\n 341.21,\n 311.33,\n 302.6,\n 336.81,\n 373.46,\n 324.42,\n 340.28,\n 372.46,\n 418.81,\n 442.16,\n 332.72,\n 325.76,\n 177.96,\n 152.43,\n 146.08,\n 45.2055,\n 54.06033333333334,\n 182.34,\n 234.42,\n 251.47,\n 187.96,\n 177.42,\n 156.34,\n 175.15,\n 205.46,\n 178.2,\n 213.92,\n 228.66,\n 253.9,\n 282.91,\n 257.63,\n 281.52,\n 171.27,\n 156.01,\n 123.91,\n 54.06033333333334,\n 40.031666666666666,\n 41.376999999999995,\n 357.74,\n 653.18,\n 601.39,\n 392.32,\n 352.01,\n 346.9,\n 362.14,\n 391.53,\n 359.09,\n 370.09,\n 415.07,\n 585.89,\n 745.53,\n 633.62,\n 405.12,\n 236.88,\n 208.21,\n 209.2,\n 40.031666666666666,\n 35.665333333333336,\n 40.480333333333334,\n 371.97,\n 650.96,\n 599.57,\n 377.04,\n 335.8,\n 332.48,\n 359.6,\n 386.87,\n 352.34,\n 363.1,\n 410.3,\n 568.89,\n 712.69,\n 612.36,\n 401.84,\n 223.0,\n 193.37,\n 183.25,\n 35.665333333333336,\n 37.39583333333333,\n 38.830333333333336,\n 346.58,\n 595.99,\n 539.97,\n 339.64,\n 303.09,\n 300.29,\n 326.16,\n 356.48,\n 329.03,\n 341.02,\n 384.27,\n 517.26,\n 675.39,\n 574.33,\n 385.21,\n 229.02,\n 198.99,\n 178.83,\n 37.39583333333333,\n 41.76190476190476,\n 42.8522380952381,\n 372.79,\n 647.05,\n 586.97,\n 365.05,\n 321.82,\n 315.67,\n 327.34,\n 353.98,\n 332.87,\n 343.79,\n 394.94,\n 552.82,\n 690.88,\n 590.97,\n 379.91,\n 228.3,\n 188.24,\n 176.62,\n 41.76190476190476,\n 50.72066666666666,\n 45.96533333333333,\n 409.09,\n 681.86,\n 625.21,\n 391.46,\n 341.75,\n 334.77,\n 354.76,\n 388.03,\n 351.99,\n 363.83,\n 423.2,\n 589.22,\n 738.9,\n 625.66,\n 413.27,\n 234.21,\n 190.44,\n 176.65,\n 50.72066666666666,\n 42.143,\n 35.16833333333334,\n 282.71,\n 501.51,\n 490.94,\n 332.76,\n 304.3,\n 295.85,\n 333.68,\n 367.92,\n 319.98,\n 331.64,\n 370.4,\n 421.13,\n 445.0,\n 330.5,\n 334.96,\n 179.19,\n 152.91,\n 147.56,\n 42.143,\n 48.514238095238085,\n 29.818071428571425,\n 185.98,\n 236.36,\n 262.55,\n 184.49,\n 181.12,\n 166.28,\n 183.22,\n 206.95,\n 185.69,\n 213.21,\n 224.93,\n 259.02,\n 292.62,\n 268.49,\n 302.36,\n 183.65,\n 163.56,\n 129.09,\n 48.514238095238085,\n 38.705,\n 42.292,\n 343.91,\n 617.08,\n 573.86,\n 362.09,\n 327.46,\n 324.33,\n 332.72,\n 355.9,\n 334.9,\n 354.43,\n 396.44,\n 561.77,\n 716.57,\n 599.06,\n 405.96,\n 245.75,\n 210.32,\n 210.03,\n 38.705,\n 31.625333333333334,\n 40.830333333333336,\n 359.84,\n 630.3,\n 579.22,\n 361.48,\n 316.33,\n 313.87,\n 333.54,\n 358.61,\n 332.16,\n 343.34,\n 391.37,\n 545.15,\n 686.13,\n 571.12,\n 368.82,\n 185.79,\n 153.26,\n 145.99,\n 31.625333333333334,\n 33.65333333333333,\n 37.160333333333334,\n 338.94,\n 569.65,\n 525.12,\n 327.11,\n 287.85,\n 285.67,\n 296.19,\n 322.41,\n 305.26,\n 319.33,\n 361.94,\n 494.73,\n 639.86,\n 533.91,\n 349.42,\n 187.51,\n 145.37,\n 132.89,\n 33.65333333333333,\n 40.67,\n 42.067,\n 354.58,\n 621.59,\n 583.09,\n 368.15,\n 314.34,\n 315.32,\n 327.58,\n 348.77,\n 332.48,\n 340.69,\n 397.22,\n 540.35,\n 676.98,\n 564.32,\n 342.89,\n 191.4,\n 151.1,\n 139.79,\n 40.67,\n 41.315666666666665,\n 43.46533333333333,\n 423.31,\n 665.28,\n 621.47,\n 396.77,\n 339.37,\n 327.1,\n 339.52,\n 366.05,\n 342.87,\n 357.26,\n 418.84,\n 576.89,\n 710.3,\n 586.24,\n 367.56,\n 198.25,\n 150.02,\n 135.96,\n 41.315666666666665,\n 32.916333333333334,\n 31.99166666666667,\n 293.28,\n 486.4,\n 477.48,\n 318.27,\n 282.11,\n 270.0,\n 282.08,\n 310.2,\n 279.59,\n 297.88,\n 336.48,\n 401.09,\n 435.3,\n 320.02,\n 305.02,\n 180.81,\n 136.89,\n 126.35,\n 32.916333333333334,\n 24.968809523809522,\n 27.38380952380952,\n 128.85,\n 170.82,\n 178.14,\n 125.63,\n 99.07,\n 84.23,\n 84.55,\n 93.8,\n 93.84,\n 122.56,\n 125.69,\n 140.26,\n 145.79,\n 127.64,\n 142.35,\n 70.47,\n 65.97,\n 58.48,\n 24.968809523809522,\n 45.802162554112556,\n 52.128376190476196,\n 385.76099999999997,\n 669.109,\n 602.743,\n 405.49,\n 363.755,\n 361.47200000000004,\n 391.178,\n 426.578,\n 388.96700000000004,\n 400.65199999999993,\n 441.20500000000004,\n 593.258,\n 749.6030000000001,\n 608.22,\n 418.51000000000005,\n 260.877,\n 230.05700000000002,\n 220.39000000000001,\n 45.802162554112556,\n 48.18734509379509,\n 55.618878968253966,\n 408.803,\n 716.458,\n 650.925,\n 425.312,\n 389.046,\n 383.40999999999997,\n 401.197,\n 438.75100000000003,\n 404.975,\n 412.468,\n 451.60699999999997,\n 632.249,\n 776.9379999999999,\n 639.287,\n 421.53600000000006,\n 257.027,\n 224.692,\n 216.9083333333333,\n 48.18734509379509,\n 55.57891071428571,\n 65.36262857142857,\n 454.899,\n 756.5930000000001,\n 688.756,\n 466.765,\n 419.59,\n 414.054,\n 431.992,\n 472.437,\n 424.28900000000004,\n 433.924,\n 477.241,\n 651.5240000000001,\n 810.0709999999999,\n 657.492,\n 429.559,\n 261.461,\n 227.17200000000003,\n 220.79449999999997,\n 55.57891071428571,\n 50.22237128427128,\n 48.93122777777778,\n 338.957,\n 537.538,\n 532.442,\n 398.099,\n 362.31500000000005,\n 357.178,\n 391.621,\n 425.5570000000001,\n 370.95199999999994,\n 384.56800000000004,\n 415.2120000000001,\n 469.03999999999996,\n 553.849,\n 391.932,\n 355.09700000000004,\n 193.825,\n 170.484,\n 171.2866,\n 50.22237128427128,\n 57.1263185064935,\n 215.49,\n 281.83900000000006,\n 285.14,\n 230.50099999999998,\n 214.731,\n 198.79500000000002,\n 215.40500000000003,\n 238.545,\n 218.586,\n 240.72899999999998,\n 259.334,\n 302.012,\n 350.386,\n 300.424,\n 343.85900000000004,\n 202.261,\n 184.11899999999997,\n 162.475,\n 57.1263185064935,\n 47.72256056998557,\n 56.73977063492064,\n 398.641,\n 692.4569999999999,\n 631.668,\n 431.89900000000006,\n 396.943,\n 391.707,\n 410.00699999999995,\n 447.03499999999997,\n 410.85,\n 417.34,\n 453.803,\n 629.837,\n 815.2390000000001,\n 659.576,\n 434.927,\n 266.764,\n 234.99,\n 231.46733333333336,\n 47.72256056998557,\n 44.22802922077922,\n 53.61906507936508,\n 411.54400000000004,\n 697.042,\n 637.22,\n 416.43199999999996,\n 381.92600000000004,\n 377.23999999999995,\n 397.02500000000003,\n 437.218,\n 403.98900000000003,\n 409.7220000000001,\n 451.611,\n 630.675,\n 787.5889999999999,\n 652.792,\n 425.515,\n 254.74,\n 230.747,\n 223.8673333333333,\n 44.22802922077922,\n 45.394724458874464,\n 52.55778095238095,\n 388.169,\n 665.4280000000001,\n 596.567,\n 397.463,\n 361.352,\n 356.5,\n 384.57800000000003,\n 421.20799999999997,\n 385.99899999999997,\n 393.33900000000006,\n 438.936,\n 589.119,\n 767.5530000000001,\n 616.019,\n 423.09399999999994,\n 271.525,\n 242.64000000000001,\n 232.04300000000003,\n 45.394724458874464,\n 46.86958437950938,\n 54.24367658730159,\n 408.581,\n 708.2120000000001,\n 639.913,\n 409.60999999999996,\n 376.049,\n 369.62500000000006,\n 383.668,\n 420.662,\n 393.033,\n 396.3,\n 438.601,\n 618.404,\n 778.0550000000001,\n 624.9849999999999,\n 427.679,\n 264.28599999999994,\n 228.324,\n 220.40033333333332,\n 46.86958437950938,\n 53.85489523809523,\n 63.8684373015873,\n 446.753,\n 735.865,\n 667.4739999999999,\n 439.331,\n 397.954,\n 391.783,\n 407.92600000000004,\n 447.47300000000007,\n 406.648,\n 412.678,\n 461.328,\n 631.112,\n 803.443,\n 647.146,\n 436.5920000000001,\n 264.848,\n 231.837,\n 225.40349999999998,\n 53.85489523809523,\n 48.66776533189034,\n 47.88652777777777,\n 341.13800000000003,\n 540.031,\n 537.45,\n 387.412,\n 355.68500000000006,\n 349.11999999999995,\n 380.613,\n 415.697,\n 364.57699999999994,\n 375.858,\n 410.276,\n 474.6049999999999,\n 562.7379999999999,\n 396.04499999999996,\n 365.674,\n 193.172,\n 170.081,\n 172.0676,\n 48.66776533189034,\n 54.0617946969697,\n 46.36770714285715,\n 217.18199999999996,\n 281.26800000000003,\n 287.738,\n 228.86899999999997,\n 215.392,\n 200.56199999999998,\n 215.95,\n 234.67800000000003,\n 216.77000000000004,\n 240.39900000000003,\n 258.974,\n 307.38,\n 358.07700000000006,\n 308.27799999999996,\n 353.477,\n 213.507,\n 189.40699999999998,\n 166.82999999999998,\n 54.0617946969697,\n 45.17783437950938,\n 54.81243968253968,\n 386.52,\n 666.001,\n 611.556,\n 401.704,\n 371.43399999999997,\n 366.35900000000004,\n 373.563,\n 403.861,\n 389.77000000000004,\n 398.033,\n 437.16499999999996,\n 604.8480000000001,\n 792.4100000000001,\n 633.5440000000001,\n 435.06899999999996,\n 261.2219999999999,\n 224.76899999999995,\n 225.3023333333333,\n 45.17783437950938,\n 38.895239935064936,\n 53.81795238095238,\n 403.213,\n 675.573,\n 611.979,\n 393.87199999999996,\n 357.93600000000004,\n 354.11899999999997,\n 363.063,\n 395.709,\n 379.293,\n 388.856,\n 431.86499999999995,\n 603.707,\n 753.539,\n 615.313,\n 395.356,\n 215.17399999999998,\n 186.342,\n 185.32233333333335,\n 38.895239935064936,\n 38.15199112554112,\n 49.51325714285714,\n 375.888,\n 621.519,\n 560.488,\n 370.12399999999997,\n 332.79,\n 328.698,\n 340.491,\n 367.175,\n 350.82300000000004,\n 361.01300000000003,\n 402.31699999999995,\n 546.6160000000001,\n 704.173,\n 562.894,\n 377.105,\n 222.36700000000002,\n 185.00800000000004,\n 177.663,\n 38.15199112554112,\n 39.81374033189034,\n 53.12649325396826,\n 392.65899999999993,\n 664.203,\n 601.4739999999999,\n 387.77900000000005,\n 350.6,\n 344.736,\n 349.552,\n 375.696,\n 365.1160000000001,\n 373.513,\n 415.429,\n 579.199,\n 721.8059999999999,\n 576.472,\n 377.469,\n 212.948,\n 178.847,\n 174.47533333333334,\n 39.81374033189034,\n 41.64739047619047,\n 62.68063452380952,\n 440.07699999999994,\n 697.3530000000001,\n 624.1089999999999,\n 411.466,\n 362.03499999999997,\n 353.6940000000001,\n 354.4889999999999,\n 375.328,\n 364.96200000000005,\n 379.203,\n 425.89099999999996,\n 593.248,\n 736.24,\n 585.452,\n 378.705,\n 207.64299999999997,\n 170.952,\n 165.62650000000002,\n 41.64739047619047,\n 34.115956601731604,\n 46.29321666666666,\n 336.04800000000006,\n 505.003,\n 479.946,\n 339.637,\n 297.106,\n 286.83900000000006,\n 287.524,\n 305.753,\n 291.211,\n 312.621,\n 346.443,\n 436.7460000000001,\n 501.383,\n 371.37300000000005,\n 311.729,\n 172.701,\n 138.83800000000002,\n 138.9516,\n 34.115956601731604,\n 28.270115367965367,\n 36.061682539682536,\n 165.47700000000003,\n 239.33599999999996,\n 213.01800000000003,\n 164.905,\n 136.301,\n 123.18199999999999,\n 123.31500000000001,\n 131.615,\n 130.083,\n 154.99300000000002,\n 162.93800000000002,\n 191.328,\n 199.692,\n 175.29500000000002,\n 151.926,\n 83.204,\n 69.50800000000001,\n 63.80839999999999,\n 28.270115367965367,\n 76.095,\n 56.9175,\n 337.17,\n 659.34,\n 469.19,\n 380.8,\n 383.74,\n 343.13,\n 325.1,\n 391.13,\n 325.86,\n 366.57,\n 473.89,\n 454.86,\n 706.72,\n 381.82,\n 393.15,\n 256.05,\n 170.68,\n 171.74,\n 76.095,\n 78.219,\n 54.7,\n 381.15,\n 714.05,\n 663.35,\n 415.96,\n 373.15,\n 342.4,\n 343.18,\n 439.3,\n 337.55,\n 369.26,\n 498.15,\n 531.66,\n 658.84,\n 580.92,\n 401.76,\n 232.62,\n 186.96,\n 197.53,\n 78.219,\n 73.755,\n 56.11,\n 459.12,\n 658.88,\n 723.42,\n 528.22,\n 393.56,\n 361.48,\n 483.37,\n 510.56,\n 394.72,\n 449.52,\n 513.43,\n 703.39,\n 771.12,\n 669.54,\n 491.38,\n 238.37,\n 203.27,\n 198.48,\n 73.755,\n 79.18333333333334,\n 67.57333333333332,\n 222.51,\n 493.67,\n 496.9,\n 364.43,\n 352.76,\n 331.62,\n 336.53,\n 397.25,\n 321.71,\n 354.05,\n 376.57,\n 494.53,\n 473.08,\n 338.25,\n 247.26,\n 188.01,\n 190.13,\n 171.42,\n 79.18333333333334,\n 81.85,\n 197.0,\n 237.33,\n 318.32,\n 257.44,\n 212.66,\n 198.71,\n 209.85,\n 225.9,\n 218.21,\n 229.4,\n 249.4,\n 258.81,\n 301.39,\n 246.13,\n 225.83,\n 191.55,\n 201.69,\n 116.5,\n 81.85,\n 72.41,\n 54.77,\n 389.21,\n 715.11,\n 676.0,\n 524.94,\n 388.37,\n 350.42,\n 357.13,\n 514.95,\n 352.31,\n 397.09,\n 498.58,\n 564.93,\n 826.28,\n 706.52,\n 411.83,\n 245.04,\n 216.68,\n 214.95,\n 72.41,\n 77.86,\n 53.46,\n 385.81,\n 706.0,\n 676.87,\n 428.99,\n 380.2,\n 343.57,\n 362.32,\n 505.81,\n 348.29,\n 379.57,\n 514.73,\n 549.67,\n 703.54,\n 686.69,\n 409.85,\n 231.33,\n 204.3,\n 201.69,\n 77.86,\n 75.82,\n 51.64,\n 349.62,\n 670.41,\n 503.52,\n 386.66,\n 380.36,\n 353.55,\n 346.3,\n 373.13,\n 334.74,\n 364.06,\n 440.11,\n 477.92,\n 713.02,\n 491.32,\n 412.35,\n 259.51,\n 201.04,\n 192.67,\n 75.82,\n 80.63333333333333,\n 51.75333333333334,\n 382.52,\n 697.38,\n 670.1,\n 380.33,\n 366.66,\n 335.24,\n 340.33,\n 361.52,\n 339.26,\n 371.16,\n 424.17,\n 547.12,\n 649.06,\n 493.46,\n 388.43,\n 236.5,\n 204.84,\n 197.31,\n 80.63333333333333,\n 73.22333333333333,\n 53.30333333333334,\n 392.34,\n 732.97,\n 721.89,\n 557.2,\n 384.35,\n 348.58,\n 348.39,\n 530.5,\n 352.36,\n 380.05,\n 510.8,\n 680.19,\n 787.19,\n 619.69,\n ...]"
          },
          "metadata": {}
        }
      ],
      "execution_count": 34,
      "metadata": {
        "jupyter": {
          "source_hidden": false,
          "outputs_hidden": false
        },
        "nteract": {
          "transient": {
            "deleting": false
          }
        },
        "gather": {
          "logged": 1632012166112
        }
      },
      "id": "d315d1a8-c24d-441c-9f99-cfd86b2e631f"
    },
    {
      "cell_type": "code",
      "source": [
        "plt.figure(figsize=(30, 10))\r\n",
        "plt.plot(range(len(real_values)), real_values, color='blue')\r\n",
        "plt.plot(range(len(predictions)), predictions, color='red')\r\n",
        "plt.xlabel('True Values')\r\n",
        "plt.ylabel('Predictions')\r\n",
        "plt.show()"
      ],
      "outputs": [
        {
          "output_type": "error",
          "ename": "ZeroDivisionError",
          "evalue": "integer division or modulo by zero",
          "traceback": [
            "\u001b[0;31m---------------------------------------------------------------------------\u001b[0m",
            "\u001b[0;31mZeroDivisionError\u001b[0m                         Traceback (most recent call last)",
            "\u001b[0;32m<ipython-input-37-3169615f73d7>\u001b[0m in \u001b[0;36m<module>\u001b[0;34m\u001b[0m\n\u001b[1;32m      1\u001b[0m \u001b[0mplt\u001b[0m\u001b[0;34m.\u001b[0m\u001b[0mfigure\u001b[0m\u001b[0;34m(\u001b[0m\u001b[0mfigsize\u001b[0m\u001b[0;34m=\u001b[0m\u001b[0;34m(\u001b[0m\u001b[0;36m30\u001b[0m\u001b[0;34m,\u001b[0m \u001b[0;36m10\u001b[0m\u001b[0;34m)\u001b[0m\u001b[0;34m)\u001b[0m\u001b[0;34m\u001b[0m\u001b[0;34m\u001b[0m\u001b[0m\n\u001b[0;32m----> 2\u001b[0;31m \u001b[0mplt\u001b[0m\u001b[0;34m.\u001b[0m\u001b[0mplot\u001b[0m\u001b[0;34m(\u001b[0m\u001b[0mrange\u001b[0m\u001b[0;34m(\u001b[0m\u001b[0mlen\u001b[0m\u001b[0;34m(\u001b[0m\u001b[0mreal_values\u001b[0m\u001b[0;34m)\u001b[0m\u001b[0;34m)\u001b[0m\u001b[0;34m,\u001b[0m \u001b[0mreal_values\u001b[0m\u001b[0;34m,\u001b[0m \u001b[0mcolor\u001b[0m\u001b[0;34m=\u001b[0m\u001b[0;34m'blue'\u001b[0m\u001b[0;34m)\u001b[0m\u001b[0;34m\u001b[0m\u001b[0;34m\u001b[0m\u001b[0m\n\u001b[0m\u001b[1;32m      3\u001b[0m \u001b[0mplt\u001b[0m\u001b[0;34m.\u001b[0m\u001b[0mplot\u001b[0m\u001b[0;34m(\u001b[0m\u001b[0mrange\u001b[0m\u001b[0;34m(\u001b[0m\u001b[0mlen\u001b[0m\u001b[0;34m(\u001b[0m\u001b[0mpredictions\u001b[0m\u001b[0;34m)\u001b[0m\u001b[0;34m)\u001b[0m\u001b[0;34m,\u001b[0m \u001b[0mpredictions\u001b[0m\u001b[0;34m,\u001b[0m \u001b[0mcolor\u001b[0m\u001b[0;34m=\u001b[0m\u001b[0;34m'red'\u001b[0m\u001b[0;34m)\u001b[0m\u001b[0;34m\u001b[0m\u001b[0;34m\u001b[0m\u001b[0m\n\u001b[1;32m      4\u001b[0m \u001b[0mplt\u001b[0m\u001b[0;34m.\u001b[0m\u001b[0mxlabel\u001b[0m\u001b[0;34m(\u001b[0m\u001b[0;34m'True Values'\u001b[0m\u001b[0;34m)\u001b[0m\u001b[0;34m\u001b[0m\u001b[0;34m\u001b[0m\u001b[0m\n\u001b[1;32m      5\u001b[0m \u001b[0mplt\u001b[0m\u001b[0;34m.\u001b[0m\u001b[0mylabel\u001b[0m\u001b[0;34m(\u001b[0m\u001b[0;34m'Predictions'\u001b[0m\u001b[0;34m)\u001b[0m\u001b[0;34m\u001b[0m\u001b[0;34m\u001b[0m\u001b[0m\n",
            "\u001b[0;32m/anaconda/envs/azureml_py38/lib/python3.8/site-packages/matplotlib/pyplot.py\u001b[0m in \u001b[0;36mplot\u001b[0;34m(scalex, scaley, data, *args, **kwargs)\u001b[0m\n\u001b[1;32m   2759\u001b[0m \u001b[0;34m@\u001b[0m\u001b[0mdocstring\u001b[0m\u001b[0;34m.\u001b[0m\u001b[0mcopy\u001b[0m\u001b[0;34m(\u001b[0m\u001b[0mAxes\u001b[0m\u001b[0;34m.\u001b[0m\u001b[0mplot\u001b[0m\u001b[0;34m)\u001b[0m\u001b[0;34m\u001b[0m\u001b[0;34m\u001b[0m\u001b[0m\n\u001b[1;32m   2760\u001b[0m \u001b[0;32mdef\u001b[0m \u001b[0mplot\u001b[0m\u001b[0;34m(\u001b[0m\u001b[0;34m*\u001b[0m\u001b[0margs\u001b[0m\u001b[0;34m,\u001b[0m \u001b[0mscalex\u001b[0m\u001b[0;34m=\u001b[0m\u001b[0;32mTrue\u001b[0m\u001b[0;34m,\u001b[0m \u001b[0mscaley\u001b[0m\u001b[0;34m=\u001b[0m\u001b[0;32mTrue\u001b[0m\u001b[0;34m,\u001b[0m \u001b[0mdata\u001b[0m\u001b[0;34m=\u001b[0m\u001b[0;32mNone\u001b[0m\u001b[0;34m,\u001b[0m \u001b[0;34m**\u001b[0m\u001b[0mkwargs\u001b[0m\u001b[0;34m)\u001b[0m\u001b[0;34m:\u001b[0m\u001b[0;34m\u001b[0m\u001b[0;34m\u001b[0m\u001b[0m\n\u001b[0;32m-> 2761\u001b[0;31m     return gca().plot(\n\u001b[0m\u001b[1;32m   2762\u001b[0m         *args, scalex=scalex, scaley=scaley, **({\"data\": data} if data\n\u001b[1;32m   2763\u001b[0m         is not None else {}), **kwargs)\n",
            "\u001b[0;32m/anaconda/envs/azureml_py38/lib/python3.8/site-packages/matplotlib/axes/_axes.py\u001b[0m in \u001b[0;36mplot\u001b[0;34m(self, scalex, scaley, data, *args, **kwargs)\u001b[0m\n\u001b[1;32m   1644\u001b[0m         \"\"\"\n\u001b[1;32m   1645\u001b[0m         \u001b[0mkwargs\u001b[0m \u001b[0;34m=\u001b[0m \u001b[0mcbook\u001b[0m\u001b[0;34m.\u001b[0m\u001b[0mnormalize_kwargs\u001b[0m\u001b[0;34m(\u001b[0m\u001b[0mkwargs\u001b[0m\u001b[0;34m,\u001b[0m \u001b[0mmlines\u001b[0m\u001b[0;34m.\u001b[0m\u001b[0mLine2D\u001b[0m\u001b[0;34m)\u001b[0m\u001b[0;34m\u001b[0m\u001b[0;34m\u001b[0m\u001b[0m\n\u001b[0;32m-> 1646\u001b[0;31m         \u001b[0mlines\u001b[0m \u001b[0;34m=\u001b[0m \u001b[0;34m[\u001b[0m\u001b[0;34m*\u001b[0m\u001b[0mself\u001b[0m\u001b[0;34m.\u001b[0m\u001b[0m_get_lines\u001b[0m\u001b[0;34m(\u001b[0m\u001b[0;34m*\u001b[0m\u001b[0margs\u001b[0m\u001b[0;34m,\u001b[0m \u001b[0mdata\u001b[0m\u001b[0;34m=\u001b[0m\u001b[0mdata\u001b[0m\u001b[0;34m,\u001b[0m \u001b[0;34m**\u001b[0m\u001b[0mkwargs\u001b[0m\u001b[0;34m)\u001b[0m\u001b[0;34m]\u001b[0m\u001b[0;34m\u001b[0m\u001b[0;34m\u001b[0m\u001b[0m\n\u001b[0m\u001b[1;32m   1647\u001b[0m         \u001b[0;32mfor\u001b[0m \u001b[0mline\u001b[0m \u001b[0;32min\u001b[0m \u001b[0mlines\u001b[0m\u001b[0;34m:\u001b[0m\u001b[0;34m\u001b[0m\u001b[0;34m\u001b[0m\u001b[0m\n\u001b[1;32m   1648\u001b[0m             \u001b[0mself\u001b[0m\u001b[0;34m.\u001b[0m\u001b[0madd_line\u001b[0m\u001b[0;34m(\u001b[0m\u001b[0mline\u001b[0m\u001b[0;34m)\u001b[0m\u001b[0;34m\u001b[0m\u001b[0;34m\u001b[0m\u001b[0m\n",
            "\u001b[0;32m/anaconda/envs/azureml_py38/lib/python3.8/site-packages/matplotlib/axes/_base.py\u001b[0m in \u001b[0;36m__call__\u001b[0;34m(self, *args, **kwargs)\u001b[0m\n\u001b[1;32m    214\u001b[0m                 \u001b[0mthis\u001b[0m \u001b[0;34m+=\u001b[0m \u001b[0margs\u001b[0m\u001b[0;34m[\u001b[0m\u001b[0;36m0\u001b[0m\u001b[0;34m]\u001b[0m\u001b[0;34m,\u001b[0m\u001b[0;34m\u001b[0m\u001b[0;34m\u001b[0m\u001b[0m\n\u001b[1;32m    215\u001b[0m                 \u001b[0margs\u001b[0m \u001b[0;34m=\u001b[0m \u001b[0margs\u001b[0m\u001b[0;34m[\u001b[0m\u001b[0;36m1\u001b[0m\u001b[0;34m:\u001b[0m\u001b[0;34m]\u001b[0m\u001b[0;34m\u001b[0m\u001b[0;34m\u001b[0m\u001b[0m\n\u001b[0;32m--> 216\u001b[0;31m             \u001b[0;32myield\u001b[0m \u001b[0;32mfrom\u001b[0m \u001b[0mself\u001b[0m\u001b[0;34m.\u001b[0m\u001b[0m_plot_args\u001b[0m\u001b[0;34m(\u001b[0m\u001b[0mthis\u001b[0m\u001b[0;34m,\u001b[0m \u001b[0mkwargs\u001b[0m\u001b[0;34m)\u001b[0m\u001b[0;34m\u001b[0m\u001b[0;34m\u001b[0m\u001b[0m\n\u001b[0m\u001b[1;32m    217\u001b[0m \u001b[0;34m\u001b[0m\u001b[0m\n\u001b[1;32m    218\u001b[0m     \u001b[0;32mdef\u001b[0m \u001b[0mget_next_color\u001b[0m\u001b[0;34m(\u001b[0m\u001b[0mself\u001b[0m\u001b[0;34m)\u001b[0m\u001b[0;34m:\u001b[0m\u001b[0;34m\u001b[0m\u001b[0;34m\u001b[0m\u001b[0m\n",
            "\u001b[0;32m/anaconda/envs/azureml_py38/lib/python3.8/site-packages/matplotlib/axes/_base.py\u001b[0m in \u001b[0;36m_plot_args\u001b[0;34m(self, tup, kwargs)\u001b[0m\n\u001b[1;32m    361\u001b[0m                 \u001b[0;34m\"2.2\"\u001b[0m\u001b[0;34m,\u001b[0m \u001b[0mmessage\u001b[0m\u001b[0;34m=\u001b[0m\u001b[0;34m\"cycling among columns of inputs with \"\u001b[0m\u001b[0;34m\u001b[0m\u001b[0;34m\u001b[0m\u001b[0m\n\u001b[1;32m    362\u001b[0m                 \"non-matching shapes is deprecated.\")\n\u001b[0;32m--> 363\u001b[0;31m         return [func(x[:, j % ncx], y[:, j % ncy], kw, kwargs)\n\u001b[0m\u001b[1;32m    364\u001b[0m                 for j in range(max(ncx, ncy))]\n\u001b[1;32m    365\u001b[0m \u001b[0;34m\u001b[0m\u001b[0m\n",
            "\u001b[0;32m/anaconda/envs/azureml_py38/lib/python3.8/site-packages/matplotlib/axes/_base.py\u001b[0m in \u001b[0;36m<listcomp>\u001b[0;34m(.0)\u001b[0m\n\u001b[1;32m    361\u001b[0m                 \u001b[0;34m\"2.2\"\u001b[0m\u001b[0;34m,\u001b[0m \u001b[0mmessage\u001b[0m\u001b[0;34m=\u001b[0m\u001b[0;34m\"cycling among columns of inputs with \"\u001b[0m\u001b[0;34m\u001b[0m\u001b[0;34m\u001b[0m\u001b[0m\n\u001b[1;32m    362\u001b[0m                 \"non-matching shapes is deprecated.\")\n\u001b[0;32m--> 363\u001b[0;31m         return [func(x[:, j % ncx], y[:, j % ncy], kw, kwargs)\n\u001b[0m\u001b[1;32m    364\u001b[0m                 for j in range(max(ncx, ncy))]\n\u001b[1;32m    365\u001b[0m \u001b[0;34m\u001b[0m\u001b[0m\n",
            "\u001b[0;31mZeroDivisionError\u001b[0m: integer division or modulo by zero"
          ]
        }
      ],
      "execution_count": 37,
      "metadata": {
        "jupyter": {
          "source_hidden": false,
          "outputs_hidden": false
        },
        "nteract": {
          "transient": {
            "deleting": false
          }
        },
        "gather": {
          "logged": 1632008878775
        }
      },
      "id": "e3ef41a5-751d-422a-918e-cd5dec81cd78"
    },
    {
      "cell_type": "markdown",
      "source": [
        "### Treinar com (N-Y) meses, Prever mes (N)"
      ],
      "metadata": {
        "nteract": {
          "transient": {
            "deleting": false
          }
        }
      },
      "id": "a967473b-956b-41f9-bb16-1fdc58690c81"
    },
    {
      "cell_type": "code",
      "source": [
        "#X_train, Y_train\r\n",
        "#X_test, Y_test\r\n",
        "#X_train, X_test, Y_train, Y_test = train_test_split(X, y, test_size = 0.2, random_state=5)\r\n",
        "# X = line_data_model.filter(feature_names, axis=1)\r\n",
        "# y = line_data_model.validations_per_hour\r\n",
        "\r\n",
        "#quantos meses (comecando do final do dado) vou prever\r\n",
        "\r\n",
        "# model_list = [\r\n",
        "#     default_linearregression_model,\r\n",
        "#     default_randomforest_model,\r\n",
        "#     gridsearch_result_linearregression,\r\n",
        "#     gridsearch_result_randomforest,\r\n",
        "#     bagging_lr_model,\r\n",
        "#     bagging_rf_model,\r\n",
        "#     stack,\r\n",
        "#     gradient_boosting_regressor\r\n",
        "# ]\r\n",
        "\r\n",
        "for hzp in range(4, 8):\r\n",
        "    horizonte_de_previsao = hzp\r\n",
        "    meses = line_data_model.mes.sort_values().unique()\r\n",
        "    horizonte_de_treinamento = meses[:meses.size - horizonte_de_previsao]\r\n",
        "    meses_de_previsao = meses[meses.size - horizonte_de_previsao:]\r\n",
        "\r\n",
        "    predictions = [[],[],[],[],[],[],[],[]]\r\n",
        "    performances = [[],[],[],[],[],[],[],[]]\r\n",
        "\r\n",
        "    df_treinamento = line_data_model[line_data_model.mes.isin(horizonte_de_treinamento)].copy()\r\n",
        "    df_previsao = line_data_model[line_data_model.mes.isin(meses_de_previsao)].copy()\r\n",
        "    df_prev = df_previsao.filter(feature_names, axis = 1)\r\n",
        "    df_results = df_previsao.filter('validations_per_hour', axis = 1)\r\n",
        "\r\n",
        "    print(df_results.__len__())\r\n",
        "\r\n",
        "    X = df_treinamento.filter(feature_names, axis=1)\r\n",
        "    y = df_treinamento.validations_per_hour\r\n",
        "    X_train, X_test, Y_train, Y_test = train_test_split(X, y, test_size = 0.2, random_state=5)\r\n",
        "\r\n",
        "    for i, model in enumerate(model_list):\r\n",
        "        model.fit(X_train, Y_train)\r\n",
        "        performances[i].append(get_performance(model))\r\n",
        "\r\n",
        "        for index, row in df_prev.iterrows():\r\n",
        "            predictions[i].append(model.predict([row])[0])\r\n",
        "    \r\n",
        "    df_results = df_previsao.validations_per_hour\r\n",
        "\r\n",
        "    df_performance = pd.DataFrame(performances)\r\n",
        "    df_performance.to_csv('./performance_'+str(hzp)+'_meses.csv', index=False)\r\n",
        "\r\n",
        "    plt_size = hzp * 360\r\n",
        "\r\n",
        "    plt.figure(figsize=(30, 10))\r\n",
        "    plt.plot(range(len(df_results) - plt_size), df_results[plt_size:], color='blue')\r\n",
        "    plt.plot(range(len(predictions[2]) - plt_size ), predictions[2][plt_size:], color='red')\r\n",
        "    plt.xlabel('True Values')\r\n",
        "    plt.ylabel('Predictions')\r\n",
        "    plt.show()\r\n",
        "\r\n",
        "#print(predictions[0])\r\n"
      ],
      "outputs": [],
      "execution_count": null,
      "metadata": {
        "jupyter": {
          "source_hidden": false,
          "outputs_hidden": false
        },
        "nteract": {
          "transient": {
            "deleting": false
          }
        },
        "gather": {
          "logged": 1631467016584
        }
      },
      "id": "0e6903d9-7ebb-4aa9-8ee2-97b71c80e379"
    },
    {
      "cell_type": "code",
      "source": [
        "plt.figure(figsize=(30, 10))\r\n",
        "plt.plot(range(len(df_results) - plt_size), df_results[plt_size:], color='blue')\r\n",
        "plt.plot(range(len(predictions[2]) - plt_size ), predictions[0][plt_size:], color='red')\r\n",
        "plt.xlabel('True Values')\r\n",
        "plt.ylabel('Predictions')\r\n",
        "plt.show()"
      ],
      "outputs": [],
      "execution_count": null,
      "metadata": {
        "jupyter": {
          "source_hidden": false,
          "outputs_hidden": false
        },
        "nteract": {
          "transient": {
            "deleting": false
          }
        },
        "gather": {
          "logged": 1631409753552
        }
      },
      "id": "d071a8d4-e118-4241-bbde-9026e6bd8e4d"
    },
    {
      "cell_type": "code",
      "source": [
        "performances"
      ],
      "outputs": [],
      "execution_count": null,
      "metadata": {
        "jupyter": {
          "source_hidden": false,
          "outputs_hidden": false
        },
        "nteract": {
          "transient": {
            "deleting": false
          }
        },
        "gather": {
          "logged": 1631409753830
        }
      },
      "id": "bc399eac-e71c-49eb-a945-751138193d94"
    },
    {
      "cell_type": "code",
      "source": [
        "df = pd.DataFrame(predictions)\n",
        "df.to_csv('predictions0.csv', index=False)"
      ],
      "outputs": [],
      "execution_count": null,
      "metadata": {
        "jupyter": {
          "source_hidden": false,
          "outputs_hidden": false
        },
        "nteract": {
          "transient": {
            "deleting": false
          }
        },
        "gather": {
          "logged": 1631409754004
        }
      },
      "id": "16cf83c6-7905-483b-bdd9-3c22504cb6cf"
    },
    {
      "cell_type": "code",
      "source": [
        "# ACCESS IN ORDER PREDICTION VALUES\n",
        "df.iloc[0]"
      ],
      "outputs": [],
      "execution_count": null,
      "metadata": {
        "jupyter": {
          "source_hidden": false,
          "outputs_hidden": false
        },
        "nteract": {
          "transient": {
            "deleting": false
          }
        },
        "gather": {
          "logged": 1631409754185
        }
      },
      "id": "ab226546-84f4-493e-baab-ddc591f26a50"
    },
    {
      "cell_type": "code",
      "source": [
        "# #top 100 exampled linhas\r\n",
        "# #data_model.linha.value_counts().index[:100]\r\n",
        "\r\n",
        "# print(data_model.linha.value_counts().index[:100])\r\n",
        "\r\n",
        "d_31 = [1, 3, 5, 7, 8, 10, 12]\r\n",
        "d_30 = [4, 6, 9, 11]\r\n",
        "\r\n",
        "from datetime import datetime\r\n",
        "import datetime\r\n",
        "import calendar\r\n",
        "\r\n",
        "def week_of_month(tgtdate):\r\n",
        "    tgtdate = tgtdate.to_pydatetime()\r\n",
        "    startdate = 0\r\n",
        "\r\n",
        "    days_this_month = calendar.mdays[tgtdate.month]\r\n",
        "    for i in range(1, days_this_month):\r\n",
        "        d = datetime.datetime(tgtdate.year, tgtdate.month, i)\r\n",
        "        if d.day - d.weekday() > 0:\r\n",
        "            startdate = d\r\n",
        "            break\r\n",
        "    # now we canuse the modulo 7 appraoch\r\n",
        "    return (tgtdate - startdate).days //7 + 1\r\n",
        "\r\n",
        "# #ate outubro para prever novembro\r\n",
        "# for linha in top100_linhas:\r\n",
        "#     #linha filter\r\n",
        "#     currentLinhaData = data_model[data_model.linha == linha]\r\n",
        "#     print(currentLinhaData)\r\n",
        "#     for mes in range(3, 12):\r\n",
        "#         currentLinhaData = currentLinhaData[currentLinhaData.mes == mes]\r\n",
        "\r\n",
        "#         if mes in d_31:\r\n",
        "#             d_d = 31\r\n",
        "#         elif mes in d_30:\r\n",
        "#             d_d = 30\r\n",
        "#         else:\r\n",
        "#             d_d = 29\r\n",
        "        \r\n",
        "#         for dia in range(1, d_d):\r\n",
        "#             currentLinhaData = currentLinhaData[currentLinhaData.d_mes == dia]\r\n",
        "#             for hora in range(24):\r\n",
        "#                 currentLinhaData = currentLinhaData[currentLinhaData.hora == hora]\r\n",
        "#                 if currentLinhaData.empty:\r\n",
        "#                     # feature_names = [\r\n",
        "#                     # 'hour_sin', 'hour_cos', \r\n",
        "#                     # 'd_mes', 'mes', 'semana_do_mes', \r\n",
        "#                     # 'domingo','segunda', 'terca', 'quarta', 'quinta', 'sexta', 'sabado', \r\n",
        "#                     # 'feriado', 'vespera_feriado']\r\n",
        "#                     # target = 'validations_per_hour'\r\n",
        "\r\n",
        "#                     # a_row = pd.Series([1, 2])\r\n",
        "#                     # df = pd.DataFrame([[3, 4], [5, 6]])\r\n",
        "#                     # row_df = pd.DataFrame([a_row])\r\n",
        "#                     # df = pd.concat([row_df, df], ignore_index=True)\r\n",
        "\r\n",
        "#                     h_sin = np.sin(2 * np.pi * hora/23.0)\r\n",
        "#                     h_cos = np.cos(2 * np.pi * hora/23.0)\r\n",
        "#                     semana_do_mes = (dia-1) // 7 + 1\r\n",
        "#                     #dia do ano\r\n",
        "#                     ins = pd.Series([linha, data_hora, 0, h_sin, h_cos, dia, mes, semana_do_mes *DIASDASEMANAENCODED, *feriado, *vesperaferiado])\r\n",
        "#                     ins_df = pd.DataFrame([ins])\r\n",
        "\r\n",
        "#                     currentLinhaData = pd.concat([ins_df, currentLinhaData], ignore_index=True)\r\n",
        "#                     print(f\"INSERINDO MISSING HORA {hora} no dia {dia} do mes {mes}\")\r\n",
        "\r\n",
        "# t = data_model[data_model.linha.isin(data_model.linha.value_counts().index[:100])]\r\n",
        "# t"
      ],
      "outputs": [],
      "execution_count": null,
      "metadata": {
        "jupyter": {
          "source_hidden": false,
          "outputs_hidden": false
        },
        "nteract": {
          "transient": {
            "deleting": false
          }
        },
        "gather": {
          "logged": 1631409754438
        }
      },
      "id": "c1694bb2-b1a0-48bd-9bab-20d6016faaa9"
    },
    {
      "cell_type": "markdown",
      "source": [
        "## Ranking Linhas de Onibus"
      ],
      "metadata": {
        "nteract": {
          "transient": {
            "deleting": false
          }
        }
      },
      "id": "f0ebeee3-574e-4540-a5f9-554c9be63133"
    },
    {
      "cell_type": "code",
      "source": [
        "\r\n",
        "# print(data_model.linha.value_counts(ascending=True)[data_model['linha'].value_counts() < 100])\r\n",
        "\r\n",
        "# linha_lista = data_model.linha.unique()\r\n",
        "# linha_lista = linha_lista[:10]\r\n",
        "res_map = list()\r\n",
        "for linha in top100_linhas:\r\n",
        "    for model in model_list:\r\n",
        "        currentLinhaData = data_model.loc[data['linha'] == linha].copy()\r\n",
        "        if len(currentLinhaData) < 10:\r\n",
        "            continue\r\n",
        "        # X = currentLinhaData.filter(['hour_sin', 'hour_cos', \r\n",
        "        # 'd_mes', 'd_ano', 'mes', 'semana_do_mes', \r\n",
        "        # 'domingo','segunda', 'terca', 'quarta', 'quinta', 'sexta', 'sabado', \r\n",
        "        # 'feriado', 'vespera_feriado'], axis=1)\r\n",
        "        # y = currentLinhaData.validations_per_hour\r\n",
        "\r\n",
        "        #FAZER TODOS OS MODELOS PARA AS LINHAS E ADICIONAR NA TABELA PRINCIPAL\r\n",
        "        #RANDOM FOREST COM GRID SEARCH\r\n",
        "        #LINEAR REGRESSION COM GRID SEARCH\r\n",
        "        #BAGGING STACKING AND BOOSTING\r\n",
        "        #\r\n",
        "        model.fit(X_train, Y_train)\r\n",
        "        performance = get_performance(model)\r\n",
        "        performance.insert(0, linha)\r\n",
        "        res_map.append(performance)\r\n",
        "\r\n"
      ],
      "outputs": [],
      "execution_count": null,
      "metadata": {
        "gather": {
          "logged": 1631409754617
        }
      },
      "id": "1041cc61-251f-48c5-99c9-42ee7499027d"
    },
    {
      "cell_type": "code",
      "source": [
        "res_map[res_map.Linha == 213]\r\n",
        "res_map.sort_values('MAE').reset_index(drop=True)"
      ],
      "outputs": [],
      "execution_count": null,
      "metadata": {
        "jupyter": {
          "source_hidden": false,
          "outputs_hidden": false
        },
        "nteract": {
          "transient": {
            "deleting": false
          }
        },
        "gather": {
          "logged": 1631504448928
        }
      },
      "id": "ec78c64a-f463-4aea-903e-4c58ad808099"
    },
    {
      "cell_type": "code",
      "source": [
        "# res_map = pd.DataFrame(res_map,columns=['Linha', \r\n",
        "#     # '[LR][DEF]R2', '[LR][DF]RMSE', '[LR][DF]MAE',\r\n",
        "#     '[RF][GS]R2', '[RF][GS]RMSE', '[RF][GS]MAE',\r\n",
        "#     # '[LR][BAG]R2', '[LR][BAG]RMSE', '[LR][BAG]MAE',\r\n",
        "#     '[RF][BAG]R2', '[RF][BAG]RMSE', '[RF][BAG]MAE',\r\n",
        "#     '[STK]R2', '[STK]RMSE', '[STK]MAE',\r\n",
        "#     # '[BOS]R2', '[BOS]RMSE', '[BOS]MAE' \r\n",
        "#     ])\r\n",
        "res_map = pd.DataFrame(res_map,columns=['Linha','R2', 'RMSE', 'MAE'])\r\n",
        "\r\n",
        "#performance_scoring['Score'] = performance_scoring['Score'].astype('float64')\r\n",
        "res_map = res_map.sort_values('R2').reset_index(drop=True)\r\n",
        "res_map.to_csv('./top100linhas_rank.csv', index=False)\r\n",
        "res_map"
      ],
      "outputs": [],
      "execution_count": null,
      "metadata": {
        "jupyter": {
          "source_hidden": false,
          "outputs_hidden": false
        },
        "nteract": {
          "transient": {
            "deleting": false
          }
        },
        "gather": {
          "logged": 1631504114908
        }
      },
      "id": "6871fa19-7172-4b8d-877b-c16ae6a06741"
    },
    {
      "cell_type": "markdown",
      "source": [
        "## Avaliacao dos dados atualmente\r\n",
        "404 linhas  \r\n",
        "358 com pelo menos 10 exemplos\r\n",
        "\r\n"
      ],
      "metadata": {
        "nteract": {
          "transient": {
            "deleting": false
          }
        }
      },
      "id": "bd279b72-5495-477e-9a31-f461d80c63eb"
    },
    {
      "cell_type": "code",
      "source": [
        "# res_map.to_csv('./classic-linha-comp.csv', index = False)"
      ],
      "outputs": [],
      "execution_count": null,
      "metadata": {
        "collapsed": true,
        "gather": {
          "logged": 1631409754780
        },
        "jupyter": {
          "outputs_hidden": false,
          "source_hidden": false
        },
        "nteract": {
          "transient": {
            "deleting": false
          }
        }
      },
      "id": "a4866fd1-9383-472d-9bb2-f32bcb6bfb0e"
    },
    {
      "cell_type": "code",
      "source": [],
      "outputs": [],
      "execution_count": null,
      "metadata": {
        "collapsed": true,
        "jupyter": {
          "source_hidden": false,
          "outputs_hidden": false
        },
        "nteract": {
          "transient": {
            "deleting": false
          }
        }
      },
      "id": "1b038eb4-08d3-4f90-b184-e0a4f29c99f9"
    }
  ],
  "metadata": {
    "interpreter": {
      "hash": "4caa081543ae4d7454eea2adf6270962382d99fc25b3a6423caed7aecce4d7f8"
    },
    "kernel_info": {
      "name": "python38-azureml"
    },
    "kernelspec": {
      "name": "python38-azureml",
      "language": "python",
      "display_name": "Python 3.8 - AzureML"
    },
    "language_info": {
      "name": "python",
      "version": "3.8.1",
      "mimetype": "text/x-python",
      "codemirror_mode": {
        "name": "ipython",
        "version": 3
      },
      "pygments_lexer": "ipython3",
      "nbconvert_exporter": "python",
      "file_extension": ".py"
    },
    "microsoft": {
      "host": {
        "AzureML": {
          "notebookHasBeenCompleted": true
        }
      }
    },
    "nteract": {
      "version": "nteract-front-end@1.0.0"
    }
  },
  "nbformat": 4,
  "nbformat_minor": 5
}