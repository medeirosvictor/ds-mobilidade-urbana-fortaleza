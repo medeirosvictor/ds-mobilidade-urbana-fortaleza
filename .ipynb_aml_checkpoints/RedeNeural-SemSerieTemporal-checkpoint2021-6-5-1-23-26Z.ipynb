{
  "cells": [
    {
      "cell_type": "code",
      "source": [
        "import pandas as pd\n",
        "import matplotlib.pyplot as plt\n",
        "import numpy as np\n",
        "import tensorflow as tf\n",
        "from sklearn.compose import make_column_transformer, ColumnTransformer\n",
        "from sklearn.preprocessing import OneHotEncoder\n",
        "from sklearn.linear_model import LinearRegression\n",
        "from sklearn.ensemble import RandomForestRegressor\n",
        "from sklearn.model_selection import train_test_split, cross_val_score\n",
        "from sklearn.metrics import mean_squared_error, r2_score, mean_absolute_error\n",
        "#from sklearn.metrics import mean_absolute_percentage_error\n",
        "from sklearn.model_selection import RandomizedSearchCV\n",
        "from sklearn.preprocessing import MinMaxScaler\n",
        "from IPython.display import display\n",
        "from pprint import pprint\n",
        "from math import sqrt\n",
        "\n",
        "#from shutil import unpack_archive\n",
        "#unpack_archive('./df_input.zip', './')\n"
      ],
      "outputs": [],
      "execution_count": 1,
      "metadata": {
        "gather": {
          "logged": 1625424957965
        }
      }
    },
    {
      "cell_type": "code",
      "source": [
        "day_of_week_translator = {\r\n",
        "    0: \"Domingo\",\r\n",
        "    1: \"Segunda\",\r\n",
        "    2: \"Terca\",\r\n",
        "    3: \"Quarta\",\r\n",
        "    4: \"Quinta\",\r\n",
        "    5: \"Sexta\",\r\n",
        "    6: \"Sabado\"\r\n",
        "}\r\n",
        "\r\n",
        "feriados = [\r\n",
        "            ['Ano Novo', 1, 1],\r\n",
        "            ['Carnaval', 24, 2],\r\n",
        "            ['Carnaval', 25, 2],\r\n",
        "            ['Carnaval', 26, 2],\r\n",
        "            ['Dia de São José', 19, 3],\r\n",
        "            ['Data Magna', 25, 3],\r\n",
        "            ['Sexta-Feira Santa', 10, 4],\r\n",
        "            ['Aniversário de Fortaleza', 13, 4],\r\n",
        "            ['Tiradentes', 21, 4],\r\n",
        "            ['Dia do Trabalho', 1, 5],\r\n",
        "            ['Corpus Christi', 28, 5],\r\n",
        "            ['N. Senhora da Assunção', 27, 5],\r\n",
        "            ['Independência do Brasil', 7, 9],\r\n",
        "            ['N. Senhora de Aparecida', 12, 10],\r\n",
        "            ['Dia de Finados', 2, 11],\r\n",
        "            ['Proclamação da Republica', 15, 11],\r\n",
        "            ['Natal', 25, 12],\r\n",
        "]\r\n",
        "\r\n",
        "vesperas = [\r\n",
        "            ['Ano Novo', 31, 12],\r\n",
        "            ['Carnaval', 23, 2],\r\n",
        "            ['Dia de São José', 18, 3],\r\n",
        "            ['Data Magna', 24, 3],\r\n",
        "            ['Sexta-Feira Santa', 9, 4],\r\n",
        "            ['Aniversário de Fortaleza', 12, 4],\r\n",
        "            ['Tiradentes', 20, 4],\r\n",
        "            ['Dia do Trabalho', 30, 4],\r\n",
        "            ['N. Senhora da Assunção', 26, 5],\r\n",
        "            ['Independência do Brasil', 6, 9],\r\n",
        "            ['N. Senhora de Aparecida', 11, 10],\r\n",
        "            ['Dia de Finados', 1, 11],\r\n",
        "            ['Proclamação da Republica', 14, 11],\r\n",
        "            ['Natal', 24, 12],\r\n",
        "]"
      ],
      "outputs": [],
      "execution_count": 2,
      "metadata": {
        "collapsed": true,
        "jupyter": {
          "source_hidden": false,
          "outputs_hidden": false
        },
        "nteract": {
          "transient": {
            "deleting": false
          }
        },
        "gather": {
          "logged": 1625424958119
        }
      }
    },
    {
      "cell_type": "code",
      "source": [
        "# Reading Data file (geolocalized)\n",
        "data = pd.read_csv('./df_input.csv', sep=';', delimiter=';')\n",
        "\n",
        "transformar_features = True\n",
        "busline_filter = 41\n",
        "data_model = data.copy()\n",
        "\n",
        "one_hot_encoder = OneHotEncoder(sparse=False)\n",
        "\n",
        "data_model[['domingo','segunda', 'terca', 'quarta', 'quinta', 'sexta', 'sabado']] = one_hot_encoder.fit_transform(data_model['d_semana'].values.reshape(-1,1))\n",
        "data_model['feriado'] = [1 if any((x[0] == d and x[1] == m) for (_, d, m) in feriados) else 0 for x in list(zip(data_model.d_mes, data_model.mes))]\n",
        "data_model['vespera_feriado'] = [1 if any((x[0] == d and x[1] == m) for (_, d, m) in vesperas) else 0 for x in list(zip(data_model.d_mes, data_model.mes))]\n",
        "\n",
        "encoded_model_data = data_model.loc[data['linha'] == busline_filter].copy()\n",
        "df_dados_model = encoded_model_data.copy()\n",
        "display(encoded_model_data)"
      ],
      "outputs": [
        {
          "output_type": "display_data",
          "data": {
            "text/plain": "         linha            data_hora  validations_per_hour  d_semana  \\\n2418        41  2020-03-01 04:00:00                    25         6   \n2419        41  2020-03-01 05:00:00                   168         6   \n2420        41  2020-03-01 06:00:00                   310         6   \n2421        41  2020-03-01 07:00:00                   339         6   \n2422        41  2020-03-01 08:00:00                   286         6   \n...        ...                  ...                   ...       ...   \n1418148     41  2020-12-31 20:00:00                   138         3   \n1418149     41  2020-12-31 21:00:00                    83         3   \n1418150     41  2020-12-31 22:00:00                    54         3   \n1418151     41  2020-12-31 23:00:00                    30         3   \n1418152     41  2021-01-01 00:00:00                     2         4   \n\n             hour_sin  hour_cos  hora  d_mes  d_ano  mes  semana_do_mes  \\\n2418     8.878852e-01  0.460065     4      1     61    3              0   \n2419     9.790841e-01  0.203456     5      1     61    3              0   \n2420     9.976688e-01 -0.068242     6      1     61    3              0   \n2421     9.422609e-01 -0.334880     7      1     61    3              0   \n2422     8.169699e-01 -0.576680     8      1     61    3              0   \n...               ...       ...   ...    ...    ...  ...            ...   \n1418148 -7.308360e-01  0.682553    20     31    366   12              4   \n1418149 -5.195840e-01  0.854419    21     31    366   12              4   \n1418150 -2.697968e-01  0.962917    22     31    366   12              4   \n1418151 -2.449294e-16  1.000000    23     31    366   12              4   \n1418152  0.000000e+00  1.000000     0      1      1    1              0   \n\n         domingo  segunda  terca  quarta  quinta  sexta  sabado  feriado  \\\n2418         0.0      0.0    0.0     0.0     0.0    0.0     1.0        0   \n2419         0.0      0.0    0.0     0.0     0.0    0.0     1.0        0   \n2420         0.0      0.0    0.0     0.0     0.0    0.0     1.0        0   \n2421         0.0      0.0    0.0     0.0     0.0    0.0     1.0        0   \n2422         0.0      0.0    0.0     0.0     0.0    0.0     1.0        0   \n...          ...      ...    ...     ...     ...    ...     ...      ...   \n1418148      0.0      0.0    0.0     1.0     0.0    0.0     0.0        0   \n1418149      0.0      0.0    0.0     1.0     0.0    0.0     0.0        0   \n1418150      0.0      0.0    0.0     1.0     0.0    0.0     0.0        0   \n1418151      0.0      0.0    0.0     1.0     0.0    0.0     0.0        0   \n1418152      0.0      0.0    0.0     0.0     1.0    0.0     0.0        1   \n\n         vespera_feriado  \n2418                   0  \n2419                   0  \n2420                   0  \n2421                   0  \n2422                   0  \n...                  ...  \n1418148                1  \n1418149                1  \n1418150                1  \n1418151                1  \n1418152                0  \n\n[6172 rows x 20 columns]",
            "text/html": "<div>\n<style scoped>\n    .dataframe tbody tr th:only-of-type {\n        vertical-align: middle;\n    }\n\n    .dataframe tbody tr th {\n        vertical-align: top;\n    }\n\n    .dataframe thead th {\n        text-align: right;\n    }\n</style>\n<table border=\"1\" class=\"dataframe\">\n  <thead>\n    <tr style=\"text-align: right;\">\n      <th></th>\n      <th>linha</th>\n      <th>data_hora</th>\n      <th>validations_per_hour</th>\n      <th>d_semana</th>\n      <th>hour_sin</th>\n      <th>hour_cos</th>\n      <th>hora</th>\n      <th>d_mes</th>\n      <th>d_ano</th>\n      <th>mes</th>\n      <th>semana_do_mes</th>\n      <th>domingo</th>\n      <th>segunda</th>\n      <th>terca</th>\n      <th>quarta</th>\n      <th>quinta</th>\n      <th>sexta</th>\n      <th>sabado</th>\n      <th>feriado</th>\n      <th>vespera_feriado</th>\n    </tr>\n  </thead>\n  <tbody>\n    <tr>\n      <th>2418</th>\n      <td>41</td>\n      <td>2020-03-01 04:00:00</td>\n      <td>25</td>\n      <td>6</td>\n      <td>8.878852e-01</td>\n      <td>0.460065</td>\n      <td>4</td>\n      <td>1</td>\n      <td>61</td>\n      <td>3</td>\n      <td>0</td>\n      <td>0.0</td>\n      <td>0.0</td>\n      <td>0.0</td>\n      <td>0.0</td>\n      <td>0.0</td>\n      <td>0.0</td>\n      <td>1.0</td>\n      <td>0</td>\n      <td>0</td>\n    </tr>\n    <tr>\n      <th>2419</th>\n      <td>41</td>\n      <td>2020-03-01 05:00:00</td>\n      <td>168</td>\n      <td>6</td>\n      <td>9.790841e-01</td>\n      <td>0.203456</td>\n      <td>5</td>\n      <td>1</td>\n      <td>61</td>\n      <td>3</td>\n      <td>0</td>\n      <td>0.0</td>\n      <td>0.0</td>\n      <td>0.0</td>\n      <td>0.0</td>\n      <td>0.0</td>\n      <td>0.0</td>\n      <td>1.0</td>\n      <td>0</td>\n      <td>0</td>\n    </tr>\n    <tr>\n      <th>2420</th>\n      <td>41</td>\n      <td>2020-03-01 06:00:00</td>\n      <td>310</td>\n      <td>6</td>\n      <td>9.976688e-01</td>\n      <td>-0.068242</td>\n      <td>6</td>\n      <td>1</td>\n      <td>61</td>\n      <td>3</td>\n      <td>0</td>\n      <td>0.0</td>\n      <td>0.0</td>\n      <td>0.0</td>\n      <td>0.0</td>\n      <td>0.0</td>\n      <td>0.0</td>\n      <td>1.0</td>\n      <td>0</td>\n      <td>0</td>\n    </tr>\n    <tr>\n      <th>2421</th>\n      <td>41</td>\n      <td>2020-03-01 07:00:00</td>\n      <td>339</td>\n      <td>6</td>\n      <td>9.422609e-01</td>\n      <td>-0.334880</td>\n      <td>7</td>\n      <td>1</td>\n      <td>61</td>\n      <td>3</td>\n      <td>0</td>\n      <td>0.0</td>\n      <td>0.0</td>\n      <td>0.0</td>\n      <td>0.0</td>\n      <td>0.0</td>\n      <td>0.0</td>\n      <td>1.0</td>\n      <td>0</td>\n      <td>0</td>\n    </tr>\n    <tr>\n      <th>2422</th>\n      <td>41</td>\n      <td>2020-03-01 08:00:00</td>\n      <td>286</td>\n      <td>6</td>\n      <td>8.169699e-01</td>\n      <td>-0.576680</td>\n      <td>8</td>\n      <td>1</td>\n      <td>61</td>\n      <td>3</td>\n      <td>0</td>\n      <td>0.0</td>\n      <td>0.0</td>\n      <td>0.0</td>\n      <td>0.0</td>\n      <td>0.0</td>\n      <td>0.0</td>\n      <td>1.0</td>\n      <td>0</td>\n      <td>0</td>\n    </tr>\n    <tr>\n      <th>...</th>\n      <td>...</td>\n      <td>...</td>\n      <td>...</td>\n      <td>...</td>\n      <td>...</td>\n      <td>...</td>\n      <td>...</td>\n      <td>...</td>\n      <td>...</td>\n      <td>...</td>\n      <td>...</td>\n      <td>...</td>\n      <td>...</td>\n      <td>...</td>\n      <td>...</td>\n      <td>...</td>\n      <td>...</td>\n      <td>...</td>\n      <td>...</td>\n      <td>...</td>\n    </tr>\n    <tr>\n      <th>1418148</th>\n      <td>41</td>\n      <td>2020-12-31 20:00:00</td>\n      <td>138</td>\n      <td>3</td>\n      <td>-7.308360e-01</td>\n      <td>0.682553</td>\n      <td>20</td>\n      <td>31</td>\n      <td>366</td>\n      <td>12</td>\n      <td>4</td>\n      <td>0.0</td>\n      <td>0.0</td>\n      <td>0.0</td>\n      <td>1.0</td>\n      <td>0.0</td>\n      <td>0.0</td>\n      <td>0.0</td>\n      <td>0</td>\n      <td>1</td>\n    </tr>\n    <tr>\n      <th>1418149</th>\n      <td>41</td>\n      <td>2020-12-31 21:00:00</td>\n      <td>83</td>\n      <td>3</td>\n      <td>-5.195840e-01</td>\n      <td>0.854419</td>\n      <td>21</td>\n      <td>31</td>\n      <td>366</td>\n      <td>12</td>\n      <td>4</td>\n      <td>0.0</td>\n      <td>0.0</td>\n      <td>0.0</td>\n      <td>1.0</td>\n      <td>0.0</td>\n      <td>0.0</td>\n      <td>0.0</td>\n      <td>0</td>\n      <td>1</td>\n    </tr>\n    <tr>\n      <th>1418150</th>\n      <td>41</td>\n      <td>2020-12-31 22:00:00</td>\n      <td>54</td>\n      <td>3</td>\n      <td>-2.697968e-01</td>\n      <td>0.962917</td>\n      <td>22</td>\n      <td>31</td>\n      <td>366</td>\n      <td>12</td>\n      <td>4</td>\n      <td>0.0</td>\n      <td>0.0</td>\n      <td>0.0</td>\n      <td>1.0</td>\n      <td>0.0</td>\n      <td>0.0</td>\n      <td>0.0</td>\n      <td>0</td>\n      <td>1</td>\n    </tr>\n    <tr>\n      <th>1418151</th>\n      <td>41</td>\n      <td>2020-12-31 23:00:00</td>\n      <td>30</td>\n      <td>3</td>\n      <td>-2.449294e-16</td>\n      <td>1.000000</td>\n      <td>23</td>\n      <td>31</td>\n      <td>366</td>\n      <td>12</td>\n      <td>4</td>\n      <td>0.0</td>\n      <td>0.0</td>\n      <td>0.0</td>\n      <td>1.0</td>\n      <td>0.0</td>\n      <td>0.0</td>\n      <td>0.0</td>\n      <td>0</td>\n      <td>1</td>\n    </tr>\n    <tr>\n      <th>1418152</th>\n      <td>41</td>\n      <td>2021-01-01 00:00:00</td>\n      <td>2</td>\n      <td>4</td>\n      <td>0.000000e+00</td>\n      <td>1.000000</td>\n      <td>0</td>\n      <td>1</td>\n      <td>1</td>\n      <td>1</td>\n      <td>0</td>\n      <td>0.0</td>\n      <td>0.0</td>\n      <td>0.0</td>\n      <td>0.0</td>\n      <td>1.0</td>\n      <td>0.0</td>\n      <td>0.0</td>\n      <td>1</td>\n      <td>0</td>\n    </tr>\n  </tbody>\n</table>\n<p>6172 rows × 20 columns</p>\n</div>"
          },
          "metadata": {}
        }
      ],
      "execution_count": 3,
      "metadata": {
        "gather": {
          "logged": 1625424971676
        }
      }
    },
    {
      "cell_type": "code",
      "source": [
        "feature_names = [\n",
        "    'd_semana', 'hour_sin', 'hour_cos', \n",
        "    'd_mes', 'd_ano', 'mes', 'semana_do_mes', \n",
        "    'domingo','segunda', 'terca', 'quarta', 'quinta', 'sexta', 'sabado', \n",
        "    'feriado', 'vespera_feriado']\n",
        "\n",
        "target = encoded_model_data['validations_per_hour']\n",
        "\n",
        "if(transformar_features): \n",
        "    scaler = MinMaxScaler(feature_range=(0, 1))\n",
        "\n",
        "    df_dados_model[feature_names] = scaler.fit_transform(df_dados_model[feature_names])\n",
        "\n",
        "    df_dados_model\n",
        "df_dados_model"
      ],
      "outputs": [
        {
          "output_type": "execute_result",
          "execution_count": 4,
          "data": {
            "text/plain": "         linha            data_hora  validations_per_hour  d_semana  hour_sin  \\\n2418        41  2020-03-01 04:00:00                    25  1.000000  0.944980   \n2419        41  2020-03-01 05:00:00                   168  1.000000  0.990686   \n2420        41  2020-03-01 06:00:00                   310  1.000000  1.000000   \n2421        41  2020-03-01 07:00:00                   339  1.000000  0.972231   \n2422        41  2020-03-01 08:00:00                   286  1.000000  0.909439   \n...        ...                  ...                   ...       ...       ...   \n1418148     41  2020-12-31 20:00:00                   138  0.500000  0.133728   \n1418149     41  2020-12-31 21:00:00                    83  0.500000  0.239601   \n1418150     41  2020-12-31 22:00:00                    54  0.500000  0.364786   \n1418151     41  2020-12-31 23:00:00                    30  0.500000  0.500000   \n1418152     41  2021-01-01 00:00:00                     2  0.666667  0.500000   \n\n         hour_cos  hora  d_mes     d_ano       mes  semana_do_mes  domingo  \\\n2418     0.728769     4    0.0  0.164384  0.181818            0.0      0.0   \n2419     0.599865     5    0.0  0.164384  0.181818            0.0      0.0   \n2420     0.463380     6    0.0  0.164384  0.181818            0.0      0.0   \n2421     0.329437     7    0.0  0.164384  0.181818            0.0      0.0   \n2422     0.207971     8    0.0  0.164384  0.181818            0.0      0.0   \n...           ...   ...    ...       ...       ...            ...      ...   \n1418148  0.840534    20    1.0  1.000000  1.000000            0.8      0.0   \n1418149  0.926869    21    1.0  1.000000  1.000000            0.8      0.0   \n1418150  0.981372    22    1.0  1.000000  1.000000            0.8      0.0   \n1418151  1.000000    23    1.0  1.000000  1.000000            0.8      0.0   \n1418152  1.000000     0    0.0  0.000000  0.000000            0.0      0.0   \n\n         segunda  terca  quarta  quinta  sexta  sabado  feriado  \\\n2418         0.0    0.0     0.0     0.0    0.0     1.0      0.0   \n2419         0.0    0.0     0.0     0.0    0.0     1.0      0.0   \n2420         0.0    0.0     0.0     0.0    0.0     1.0      0.0   \n2421         0.0    0.0     0.0     0.0    0.0     1.0      0.0   \n2422         0.0    0.0     0.0     0.0    0.0     1.0      0.0   \n...          ...    ...     ...     ...    ...     ...      ...   \n1418148      0.0    0.0     1.0     0.0    0.0     0.0      0.0   \n1418149      0.0    0.0     1.0     0.0    0.0     0.0      0.0   \n1418150      0.0    0.0     1.0     0.0    0.0     0.0      0.0   \n1418151      0.0    0.0     1.0     0.0    0.0     0.0      0.0   \n1418152      0.0    0.0     0.0     1.0    0.0     0.0      1.0   \n\n         vespera_feriado  \n2418                 0.0  \n2419                 0.0  \n2420                 0.0  \n2421                 0.0  \n2422                 0.0  \n...                  ...  \n1418148              1.0  \n1418149              1.0  \n1418150              1.0  \n1418151              1.0  \n1418152              0.0  \n\n[6172 rows x 20 columns]",
            "text/html": "<div>\n<style scoped>\n    .dataframe tbody tr th:only-of-type {\n        vertical-align: middle;\n    }\n\n    .dataframe tbody tr th {\n        vertical-align: top;\n    }\n\n    .dataframe thead th {\n        text-align: right;\n    }\n</style>\n<table border=\"1\" class=\"dataframe\">\n  <thead>\n    <tr style=\"text-align: right;\">\n      <th></th>\n      <th>linha</th>\n      <th>data_hora</th>\n      <th>validations_per_hour</th>\n      <th>d_semana</th>\n      <th>hour_sin</th>\n      <th>hour_cos</th>\n      <th>hora</th>\n      <th>d_mes</th>\n      <th>d_ano</th>\n      <th>mes</th>\n      <th>semana_do_mes</th>\n      <th>domingo</th>\n      <th>segunda</th>\n      <th>terca</th>\n      <th>quarta</th>\n      <th>quinta</th>\n      <th>sexta</th>\n      <th>sabado</th>\n      <th>feriado</th>\n      <th>vespera_feriado</th>\n    </tr>\n  </thead>\n  <tbody>\n    <tr>\n      <th>2418</th>\n      <td>41</td>\n      <td>2020-03-01 04:00:00</td>\n      <td>25</td>\n      <td>1.000000</td>\n      <td>0.944980</td>\n      <td>0.728769</td>\n      <td>4</td>\n      <td>0.0</td>\n      <td>0.164384</td>\n      <td>0.181818</td>\n      <td>0.0</td>\n      <td>0.0</td>\n      <td>0.0</td>\n      <td>0.0</td>\n      <td>0.0</td>\n      <td>0.0</td>\n      <td>0.0</td>\n      <td>1.0</td>\n      <td>0.0</td>\n      <td>0.0</td>\n    </tr>\n    <tr>\n      <th>2419</th>\n      <td>41</td>\n      <td>2020-03-01 05:00:00</td>\n      <td>168</td>\n      <td>1.000000</td>\n      <td>0.990686</td>\n      <td>0.599865</td>\n      <td>5</td>\n      <td>0.0</td>\n      <td>0.164384</td>\n      <td>0.181818</td>\n      <td>0.0</td>\n      <td>0.0</td>\n      <td>0.0</td>\n      <td>0.0</td>\n      <td>0.0</td>\n      <td>0.0</td>\n      <td>0.0</td>\n      <td>1.0</td>\n      <td>0.0</td>\n      <td>0.0</td>\n    </tr>\n    <tr>\n      <th>2420</th>\n      <td>41</td>\n      <td>2020-03-01 06:00:00</td>\n      <td>310</td>\n      <td>1.000000</td>\n      <td>1.000000</td>\n      <td>0.463380</td>\n      <td>6</td>\n      <td>0.0</td>\n      <td>0.164384</td>\n      <td>0.181818</td>\n      <td>0.0</td>\n      <td>0.0</td>\n      <td>0.0</td>\n      <td>0.0</td>\n      <td>0.0</td>\n      <td>0.0</td>\n      <td>0.0</td>\n      <td>1.0</td>\n      <td>0.0</td>\n      <td>0.0</td>\n    </tr>\n    <tr>\n      <th>2421</th>\n      <td>41</td>\n      <td>2020-03-01 07:00:00</td>\n      <td>339</td>\n      <td>1.000000</td>\n      <td>0.972231</td>\n      <td>0.329437</td>\n      <td>7</td>\n      <td>0.0</td>\n      <td>0.164384</td>\n      <td>0.181818</td>\n      <td>0.0</td>\n      <td>0.0</td>\n      <td>0.0</td>\n      <td>0.0</td>\n      <td>0.0</td>\n      <td>0.0</td>\n      <td>0.0</td>\n      <td>1.0</td>\n      <td>0.0</td>\n      <td>0.0</td>\n    </tr>\n    <tr>\n      <th>2422</th>\n      <td>41</td>\n      <td>2020-03-01 08:00:00</td>\n      <td>286</td>\n      <td>1.000000</td>\n      <td>0.909439</td>\n      <td>0.207971</td>\n      <td>8</td>\n      <td>0.0</td>\n      <td>0.164384</td>\n      <td>0.181818</td>\n      <td>0.0</td>\n      <td>0.0</td>\n      <td>0.0</td>\n      <td>0.0</td>\n      <td>0.0</td>\n      <td>0.0</td>\n      <td>0.0</td>\n      <td>1.0</td>\n      <td>0.0</td>\n      <td>0.0</td>\n    </tr>\n    <tr>\n      <th>...</th>\n      <td>...</td>\n      <td>...</td>\n      <td>...</td>\n      <td>...</td>\n      <td>...</td>\n      <td>...</td>\n      <td>...</td>\n      <td>...</td>\n      <td>...</td>\n      <td>...</td>\n      <td>...</td>\n      <td>...</td>\n      <td>...</td>\n      <td>...</td>\n      <td>...</td>\n      <td>...</td>\n      <td>...</td>\n      <td>...</td>\n      <td>...</td>\n      <td>...</td>\n    </tr>\n    <tr>\n      <th>1418148</th>\n      <td>41</td>\n      <td>2020-12-31 20:00:00</td>\n      <td>138</td>\n      <td>0.500000</td>\n      <td>0.133728</td>\n      <td>0.840534</td>\n      <td>20</td>\n      <td>1.0</td>\n      <td>1.000000</td>\n      <td>1.000000</td>\n      <td>0.8</td>\n      <td>0.0</td>\n      <td>0.0</td>\n      <td>0.0</td>\n      <td>1.0</td>\n      <td>0.0</td>\n      <td>0.0</td>\n      <td>0.0</td>\n      <td>0.0</td>\n      <td>1.0</td>\n    </tr>\n    <tr>\n      <th>1418149</th>\n      <td>41</td>\n      <td>2020-12-31 21:00:00</td>\n      <td>83</td>\n      <td>0.500000</td>\n      <td>0.239601</td>\n      <td>0.926869</td>\n      <td>21</td>\n      <td>1.0</td>\n      <td>1.000000</td>\n      <td>1.000000</td>\n      <td>0.8</td>\n      <td>0.0</td>\n      <td>0.0</td>\n      <td>0.0</td>\n      <td>1.0</td>\n      <td>0.0</td>\n      <td>0.0</td>\n      <td>0.0</td>\n      <td>0.0</td>\n      <td>1.0</td>\n    </tr>\n    <tr>\n      <th>1418150</th>\n      <td>41</td>\n      <td>2020-12-31 22:00:00</td>\n      <td>54</td>\n      <td>0.500000</td>\n      <td>0.364786</td>\n      <td>0.981372</td>\n      <td>22</td>\n      <td>1.0</td>\n      <td>1.000000</td>\n      <td>1.000000</td>\n      <td>0.8</td>\n      <td>0.0</td>\n      <td>0.0</td>\n      <td>0.0</td>\n      <td>1.0</td>\n      <td>0.0</td>\n      <td>0.0</td>\n      <td>0.0</td>\n      <td>0.0</td>\n      <td>1.0</td>\n    </tr>\n    <tr>\n      <th>1418151</th>\n      <td>41</td>\n      <td>2020-12-31 23:00:00</td>\n      <td>30</td>\n      <td>0.500000</td>\n      <td>0.500000</td>\n      <td>1.000000</td>\n      <td>23</td>\n      <td>1.0</td>\n      <td>1.000000</td>\n      <td>1.000000</td>\n      <td>0.8</td>\n      <td>0.0</td>\n      <td>0.0</td>\n      <td>0.0</td>\n      <td>1.0</td>\n      <td>0.0</td>\n      <td>0.0</td>\n      <td>0.0</td>\n      <td>0.0</td>\n      <td>1.0</td>\n    </tr>\n    <tr>\n      <th>1418152</th>\n      <td>41</td>\n      <td>2021-01-01 00:00:00</td>\n      <td>2</td>\n      <td>0.666667</td>\n      <td>0.500000</td>\n      <td>1.000000</td>\n      <td>0</td>\n      <td>0.0</td>\n      <td>0.000000</td>\n      <td>0.000000</td>\n      <td>0.0</td>\n      <td>0.0</td>\n      <td>0.0</td>\n      <td>0.0</td>\n      <td>0.0</td>\n      <td>1.0</td>\n      <td>0.0</td>\n      <td>0.0</td>\n      <td>1.0</td>\n      <td>0.0</td>\n    </tr>\n  </tbody>\n</table>\n<p>6172 rows × 20 columns</p>\n</div>"
          },
          "metadata": {}
        }
      ],
      "execution_count": 4,
      "metadata": {
        "gather": {
          "logged": 1625424971871
        }
      }
    },
    {
      "cell_type": "code",
      "source": [
        "X = df_dados_model.filter(['d_semana', 'hour_sin', 'hour_cos', 'hour_cos', \n",
        "    'd_mes', 'd_ano', 'mes', 'semana_do_mes', \n",
        "    'domingo','segunda', 'terca', 'quarta', 'quinta', 'sexta', 'sabado', \n",
        "    'feriado', 'vespera_feriado'], axis=1)\n",
        "y = df_dados_model.validations_per_hour\n",
        "X_train, X_test, y_train, y_test = train_test_split(X, y, test_size = 0.2, random_state=5)"
      ],
      "outputs": [],
      "execution_count": 5,
      "metadata": {
        "gather": {
          "logged": 1625424972030
        }
      }
    },
    {
      "cell_type": "code",
      "source": [
        "def getModel():\n",
        "    model = tf.keras.Sequential()\n",
        "    \n",
        "    # MLP    \n",
        "    model.add(tf.keras.layers.Dense(300, activation=\"relu\"))\n",
        "    model.add(tf.keras.layers.Dense(100, activation=\"relu\"))\n",
        "    model.add(tf.keras.layers.Dense(30, activation=\"relu\"))\n",
        "    model.add(tf.keras.layers.Dense(10, activation=\"relu\"))\n",
        "    \n",
        "    # Vanilla LSTM\n",
        "    # model.add(tf.keras.layers.LSTM(100, activation='relu', input_shape=(X_train.shape[1], X_train.shape[2])))\n",
        "        \n",
        "    # Stacked LSTM\n",
        "    # model.add(tf.keras.layers.LSTM(100, activation='relu', return_sequences=True, input_shape=(X_train.shape[1], X_train.shape[2]) ))\n",
        "    # model.add(tf.keras.layers.LSTM(75, activation='relu', return_sequences=True))\n",
        "    # model.add(tf.keras.layers.LSTM(50, activation='relu', return_sequences=True))\n",
        "    # model.add(tf.keras.layers.LSTM(10, activation='relu'))\n",
        "    \n",
        "    # Bidirectional LSTM\n",
        "#     model.add(tf.keras.layers.Bidirectional(tf.keras.layers.LSTM(50, activation='relu'), input_shape=(X_train.shape[1], X_train.shape[2])))\n",
        "    \n",
        "    model.add(tf.keras.layers.Dense(units=1,activation='softplus'))\n",
        "    # model.add(tf.keras.layers.Dense(units=1))\n",
        "\n",
        "    return model"
      ],
      "outputs": [],
      "execution_count": 10,
      "metadata": {
        "gather": {
          "logged": 1625425767766
        }
      }
    },
    {
      "cell_type": "code",
      "source": [
        "model = getModel()\n",
        "\n",
        "optimizer = tf.keras.optimizers.Adam(0.002)\n",
        "\n",
        "model.compile(\n",
        "  loss='mse',\n",
        "  optimizer=optimizer\n",
        ")\n",
        "# model.compile(\n",
        "#   loss='mean_squared_error',\n",
        "#   optimizer=tf.keras.optimizers.SGD(0.05)\n",
        "# )\n",
        "\n",
        "#model.summary()"
      ],
      "outputs": [],
      "execution_count": 21,
      "metadata": {
        "gather": {
          "logged": 1625426733297
        }
      }
    },
    {
      "cell_type": "code",
      "source": [
        "callbacks = [tf.keras.callbacks.ReduceLROnPlateau(monitor='val_loss', factor=0.1, patience=10, verbose=1, min_delta=1e-4, mode='min')]\n",
        "\n",
        "callbacks.append(tf.keras.callbacks.EarlyStopping(monitor='val_loss', patience=10, verbose=0, restore_best_weights=True))\n",
        "\n",
        "history = model.fit(\n",
        "    X_train, y_train,\n",
        "    epochs=500,\n",
        "    batch_size=48,\n",
        "    validation_split=0.2,\n",
        "    callbacks=callbacks,\n",
        "    shuffle=False\n",
        ")"
      ],
      "outputs": [
        {
          "output_type": "stream",
          "name": "stdout",
          "text": [
            "Epoch 1/500\n",
            "WARNING:tensorflow:Layer dense_5 is casting an input tensor from dtype float64 to the layer's dtype of float32, which is new behavior in TensorFlow 2.  The layer has dtype float32 because its dtype defaults to floatx.\n",
            "\n",
            "If you intended to run this layer in float32, you can safely ignore this warning. If in doubt, this warning is likely only an issue if you are porting a TensorFlow 1.X model to TensorFlow 2.\n",
            "\n",
            "To change all layers to have dtype float64 by default, call `tf.keras.backend.set_floatx('float64')`. To change just this layer, pass dtype='float64' to the layer constructor. If you are the author of this layer, you can disable autocasting by passing autocast=False to the base Layer constructor.\n",
            "\n",
            "83/83 [==============================] - 0s 3ms/step - loss: 107718.9609 - val_loss: 61927.3594\b\b\b\b\b\b\b\b\b\b\b\b\b\b\b\b\b\b\b\b\b\b\b\b\b\b\b\b\b\b\b\b\b\b\b\b\b\b\b\b\b\n",
            "Epoch 2/500\n",
            "83/83 [==============================] - 0s 1ms/step - loss: 50941.9961 - val_loss: 45152.4492\b\b\b\b\b\b\b\b\b\b\b\b\b\b\b\b\b\b\b\b\b\b\b\b\b\b\b\b\b\b\b\b\b\b\b\b\b\b\b\b\n",
            "Epoch 3/500\n",
            "83/83 [==============================] - 0s 1ms/step - loss: 41947.7344 - val_loss: 43127.7969\b\b\b\b\b\b\b\b\b\b\b\b\b\b\b\b\b\b\b\b\b\b\b\b\b\b\b\b\b\b\b\b\b\b\b\b\b\b\b\b\n",
            "Epoch 4/500\n",
            "83/83 [==============================] - 0s 1ms/step - loss: 40160.8906 - val_loss: 41910.1367\b\b\b\b\b\b\b\b\b\b\b\b\b\b\b\b\b\b\b\b\b\b\b\b\b\b\b\b\b\b\b\b\b\b\b\b\b\b\b\b\n",
            "Epoch 5/500\n",
            "83/83 [==============================] - 0s 1ms/step - loss: 38569.1172 - val_loss: 40127.7695\b\b\b\b\b\b\b\b\b\b\b\b\b\b\b\b\b\b\b\b\b\b\b\b\b\b\b\b\b\b\b\b\b\b\b\b\b\b\b\b\n",
            "Epoch 6/500\n",
            "83/83 [==============================] - 0s 1ms/step - loss: 36438.2617 - val_loss: 37776.8906\b\b\b\b\b\b\b\b\b\b\b\b\b\b\b\b\b\b\b\b\b\b\b\b\b\b\b\b\b\b\b\b\b\b\b\b\b\b\b\b\n",
            "Epoch 7/500\n",
            "83/83 [==============================] - 0s 1ms/step - loss: 33802.3125 - val_loss: 35032.9336\b\b\b\b\b\b\b\b\b\b\b\b\b\b\b\b\b\b\b\b\b\b\b\b\b\b\b\b\b\b\b\b\b\b\b\b\b\b\b\b\n",
            "Epoch 8/500\n",
            "83/83 [==============================] - 0s 1ms/step - loss: 30856.1309 - val_loss: 31956.0742\b\b\b\b\b\b\b\b\b\b\b\b\b\b\b\b\b\b\b\b\b\b\b\b\b\b\b\b\b\b\b\b\b\b\b\b\b\b\b\b\n",
            "Epoch 9/500\n",
            "83/83 [==============================] - 0s 1ms/step - loss: 27811.7363 - val_loss: 28325.5801\b\b\b\b\b\b\b\b\b\b\b\b\b\b\b\b\b\b\b\b\b\b\b\b\b\b\b\b\b\b\b\b\b\b\b\b\b\b\b\b\n",
            "Epoch 10/500\n",
            "83/83 [==============================] - 0s 1ms/step - loss: 24994.3945 - val_loss: 25236.0781\b\b\b\b\b\b\b\b\b\b\b\b\b\b\b\b\b\b\b\b\b\b\b\b\b\b\b\b\b\b\b\b\b\b\b\b\b\b\b\b\n",
            "Epoch 11/500\n",
            "83/83 [==============================] - 0s 2ms/step - loss: 22490.0508 - val_loss: 22561.5156\b\b\b\b\b\b\b\b\b\b\b\b\b\b\b\b\b\b\b\b\b\b\b\b\b\b\b\b\b\b\b\b\b\b\b\b\b\b\b\b\n",
            "Epoch 12/500\n",
            "83/83 [==============================] - 0s 1ms/step - loss: 20270.1738 - val_loss: 20307.7812\b\b\b\b\b\b\b\b\b\b\b\b\b\b\b\b\b\b\b\b\b\b\b\b\b\b\b\b\b\b\b\b\b\b\b\b\b\b\b\b\n",
            "Epoch 13/500\n",
            "83/83 [==============================] - 0s 1ms/step - loss: 18372.8125 - val_loss: 18295.1777\b\b\b\b\b\b\b\b\b\b\b\b\b\b\b\b\b\b\b\b\b\b\b\b\b\b\b\b\b\b\b\b\b\b\b\b\b\b\b\b\n",
            "Epoch 14/500\n",
            "83/83 [==============================] - 0s 1ms/step - loss: 16753.0312 - val_loss: 16471.5605\b\b\b\b\b\b\b\b\b\b\b\b\b\b\b\b\b\b\b\b\b\b\b\b\b\b\b\b\b\b\b\b\b\b\b\b\b\b\b\b\n",
            "Epoch 15/500\n",
            "83/83 [==============================] - 0s 1ms/step - loss: 15278.5352 - val_loss: 15000.8018\b\b\b\b\b\b\b\b\b\b\b\b\b\b\b\b\b\b\b\b\b\b\b\b\b\b\b\b\b\b\b\b\b\b\b\b\b\b\b\b\n",
            "Epoch 16/500\n",
            "83/83 [==============================] - 0s 1ms/step - loss: 13859.6348 - val_loss: 13383.1104\b\b\b\b\b\b\b\b\b\b\b\b\b\b\b\b\b\b\b\b\b\b\b\b\b\b\b\b\b\b\b\b\b\b\b\b\b\b\b\b\n",
            "Epoch 17/500\n",
            "83/83 [==============================] - 0s 2ms/step - loss: 12479.8398 - val_loss: 12373.4561\b\b\b\b\b\b\b\b\b\b\b\b\b\b\b\b\b\b\b\b\b\b\b\b\b\b\b\b\b\b\b\b\b\b\b\b\b\b\b\b\n",
            "Epoch 18/500\n",
            "83/83 [==============================] - 0s 2ms/step - loss: 11328.3047 - val_loss: 11236.1719\b\b\b\b\b\b\b\b\b\b\b\b\b\b\b\b\b\b\b\b\b\b\b\b\b\b\b\b\b\b\b\b\b\b\b\b\b\b\b\b\n",
            "Epoch 19/500\n",
            "83/83 [==============================] - 0s 2ms/step - loss: 10203.9775 - val_loss: 10241.0967\b\b\b\b\b\b\b\b\b\b\b\b\b\b\b\b\b\b\b\b\b\b\b\b\b\b\b\b\b\b\b\b\b\b\b\b\b\b\b\b\n",
            "Epoch 20/500\n",
            "83/83 [==============================] - 0s 1ms/step - loss: 9231.3379 - val_loss: 9361.9150\b\b\b\b\b\b\b\b\b\b\b\b\b\b\b\b\b\b\b\b\b\b\b\b\b\b\b\b\b\b\b\b\b\b\b\b\b\b\b\b\n",
            "Epoch 21/500\n",
            "83/83 [==============================] - 0s 2ms/step - loss: 8390.4014 - val_loss: 8634.0742\b\b\b\b\b\b\b\b\b\b\b\b\b\b\b\b\b\b\b\b\b\b\b\b\b\b\b\b\b\b\b\b\b\b\b\b\b\b\b\b\n",
            "Epoch 22/500\n",
            "83/83 [==============================] - 0s 2ms/step - loss: 7597.1733 - val_loss: 7774.8066\b\b\b\b\b\b\b\b\b\b\b\b\b\b\b\b\b\b\b\b\b\b\b\b\b\b\b\b\b\b\b\b\b\b\b\b\b\b\b\b\n",
            "Epoch 23/500\n",
            "83/83 [==============================] - 0s 2ms/step - loss: 6948.4038 - val_loss: 7200.2388\b\b\b\b\b\b\b\b\b\b\b\b\b\b\b\b\b\b\b\b\b\b\b\b\b\b\b\b\b\b\b\b\b\b\b\b\b\b\b\b\n",
            "Epoch 24/500\n",
            "83/83 [==============================] - 0s 1ms/step - loss: 6444.7261 - val_loss: 6743.1162\b\b\b\b\b\b\b\b\b\b\b\b\b\b\b\b\b\b\b\b\b\b\b\b\b\b\b\b\b\b\b\b\b\b\b\b\b\b\b\b\n",
            "Epoch 25/500\n",
            "83/83 [==============================] - 0s 1ms/step - loss: 6006.7876 - val_loss: 6308.8164\b\b\b\b\b\b\b\b\b\b\b\b\b\b\b\b\b\b\b\b\b\b\b\b\b\b\b\b\b\b\b\b\b\b\b\b\b\b\b\b\n",
            "Epoch 26/500\n",
            "83/83 [==============================] - 0s 1ms/step - loss: 5647.9448 - val_loss: 5903.8916\b\b\b\b\b\b\b\b\b\b\b\b\b\b\b\b\b\b\b\b\b\b\b\b\b\b\b\b\b\b\b\b\b\b\b\b\b\b\b\b\n",
            "Epoch 27/500\n",
            "83/83 [==============================] - 0s 1ms/step - loss: 5354.6240 - val_loss: 5613.0996\b\b\b\b\b\b\b\b\b\b\b\b\b\b\b\b\b\b\b\b\b\b\b\b\b\b\b\b\b\b\b\b\b\b\b\b\b\b\b\b\n",
            "Epoch 28/500\n",
            "83/83 [==============================] - 0s 1ms/step - loss: 5092.1270 - val_loss: 5382.0337\b\b\b\b\b\b\b\b\b\b\b\b\b\b\b\b\b\b\b\b\b\b\b\b\b\b\b\b\b\b\b\b\b\b\b\b\b\b\b\b\n",
            "Epoch 29/500\n",
            "83/83 [==============================] - 0s 2ms/step - loss: 4872.2407 - val_loss: 5154.2812\b\b\b\b\b\b\b\b\b\b\b\b\b\b\b\b\b\b\b\b\b\b\b\b\b\b\b\b\b\b\b\b\b\b\b\b\b\b\b\b\n",
            "Epoch 30/500\n",
            "83/83 [==============================] - 0s 1ms/step - loss: 4680.8433 - val_loss: 4959.4712\b\b\b\b\b\b\b\b\b\b\b\b\b\b\b\b\b\b\b\b\b\b\b\b\b\b\b\b\b\b\b\b\b\b\b\b\b\b\b\b\n",
            "Epoch 31/500\n",
            "83/83 [==============================] - 0s 1ms/step - loss: 4512.7344 - val_loss: 4817.0083\b\b\b\b\b\b\b\b\b\b\b\b\b\b\b\b\b\b\b\b\b\b\b\b\b\b\b\b\b\b\b\b\b\b\b\b\b\b\b\b\n",
            "Epoch 32/500\n",
            "83/83 [==============================] - 0s 1ms/step - loss: 4380.0249 - val_loss: 4610.3447\b\b\b\b\b\b\b\b\b\b\b\b\b\b\b\b\b\b\b\b\b\b\b\b\b\b\b\b\b\b\b\b\b\b\b\b\b\b\b\b\n",
            "Epoch 33/500\n",
            "83/83 [==============================] - 0s 1ms/step - loss: 4258.9688 - val_loss: 4501.1187\b\b\b\b\b\b\b\b\b\b\b\b\b\b\b\b\b\b\b\b\b\b\b\b\b\b\b\b\b\b\b\b\b\b\b\b\b\b\b\b\n",
            "Epoch 34/500\n",
            "83/83 [==============================] - 0s 1ms/step - loss: 4154.2070 - val_loss: 4360.0371\b\b\b\b\b\b\b\b\b\b\b\b\b\b\b\b\b\b\b\b\b\b\b\b\b\b\b\b\b\b\b\b\b\b\b\b\b\b\b\b\n",
            "Epoch 35/500\n",
            "83/83 [==============================] - 0s 1ms/step - loss: 4047.1270 - val_loss: 4238.1089\b\b\b\b\b\b\b\b\b\b\b\b\b\b\b\b\b\b\b\b\b\b\b\b\b\b\b\b\b\b\b\b\b\b\b\b\b\b\b\b\n",
            "Epoch 36/500\n",
            "83/83 [==============================] - 0s 1ms/step - loss: 3970.1096 - val_loss: 4156.9775\b\b\b\b\b\b\b\b\b\b\b\b\b\b\b\b\b\b\b\b\b\b\b\b\b\b\b\b\b\b\b\b\b\b\b\b\b\b\b\b\n",
            "Epoch 37/500\n",
            "83/83 [==============================] - 0s 1ms/step - loss: 3891.2283 - val_loss: 4085.8691\b\b\b\b\b\b\b\b\b\b\b\b\b\b\b\b\b\b\b\b\b\b\b\b\b\b\b\b\b\b\b\b\b\b\b\b\b\b\b\b\n",
            "Epoch 38/500\n",
            "83/83 [==============================] - 0s 1ms/step - loss: 3809.1772 - val_loss: 4011.8772\b\b\b\b\b\b\b\b\b\b\b\b\b\b\b\b\b\b\b\b\b\b\b\b\b\b\b\b\b\b\b\b\b\b\b\b\b\b\b\b\n",
            "Epoch 39/500\n",
            "83/83 [==============================] - 0s 1ms/step - loss: 3747.0869 - val_loss: 4009.6372\b\b\b\b\b\b\b\b\b\b\b\b\b\b\b\b\b\b\b\b\b\b\b\b\b\b\b\b\b\b\b\b\b\b\b\b\b\b\b\b\n",
            "Epoch 40/500\n",
            "83/83 [==============================] - 0s 1ms/step - loss: 3696.4788 - val_loss: 3964.9458\b\b\b\b\b\b\b\b\b\b\b\b\b\b\b\b\b\b\b\b\b\b\b\b\b\b\b\b\b\b\b\b\b\b\b\b\b\b\b\b\n",
            "Epoch 41/500\n",
            "83/83 [==============================] - 0s 2ms/step - loss: 3656.7688 - val_loss: 3901.9602\b\b\b\b\b\b\b\b\b\b\b\b\b\b\b\b\b\b\b\b\b\b\b\b\b\b\b\b\b\b\b\b\b\b\b\b\b\b\b\b\n",
            "Epoch 42/500\n",
            "83/83 [==============================] - 0s 2ms/step - loss: 3605.1790 - val_loss: 3897.6738\b\b\b\b\b\b\b\b\b\b\b\b\b\b\b\b\b\b\b\b\b\b\b\b\b\b\b\b\b\b\b\b\b\b\b\b\b\b\b\b\n",
            "Epoch 43/500\n",
            "83/83 [==============================] - 0s 1ms/step - loss: 3565.3069 - val_loss: 3894.4758\b\b\b\b\b\b\b\b\b\b\b\b\b\b\b\b\b\b\b\b\b\b\b\b\b\b\b\b\b\b\b\b\b\b\b\b\b\b\b\b\n",
            "Epoch 44/500\n",
            "83/83 [==============================] - 0s 2ms/step - loss: 3511.8865 - val_loss: 3880.3987\b\b\b\b\b\b\b\b\b\b\b\b\b\b\b\b\b\b\b\b\b\b\b\b\b\b\b\b\b\b\b\b\b\b\b\b\b\b\b\b\n",
            "Epoch 45/500\n",
            "83/83 [==============================] - 0s 1ms/step - loss: 3475.8386 - val_loss: 3869.4661\b\b\b\b\b\b\b\b\b\b\b\b\b\b\b\b\b\b\b\b\b\b\b\b\b\b\b\b\b\b\b\b\b\b\b\b\b\b\b\b\n",
            "Epoch 46/500\n",
            "83/83 [==============================] - 0s 1ms/step - loss: 3439.3521 - val_loss: 3829.1045\b\b\b\b\b\b\b\b\b\b\b\b\b\b\b\b\b\b\b\b\b\b\b\b\b\b\b\b\b\b\b\b\b\b\b\b\b\b\b\b\n",
            "Epoch 47/500\n",
            "83/83 [==============================] - 0s 2ms/step - loss: 3407.4172 - val_loss: 3826.7766\b\b\b\b\b\b\b\b\b\b\b\b\b\b\b\b\b\b\b\b\b\b\b\b\b\b\b\b\b\b\b\b\b\b\b\b\b\b\b\b\n",
            "Epoch 48/500\n",
            "83/83 [==============================] - 0s 1ms/step - loss: 3369.3730 - val_loss: 3796.5242\b\b\b\b\b\b\b\b\b\b\b\b\b\b\b\b\b\b\b\b\b\b\b\b\b\b\b\b\b\b\b\b\b\b\b\b\b\b\b\b\n",
            "Epoch 49/500\n",
            "83/83 [==============================] - 0s 1ms/step - loss: 3317.1421 - val_loss: 3766.0376\b\b\b\b\b\b\b\b\b\b\b\b\b\b\b\b\b\b\b\b\b\b\b\b\b\b\b\b\b\b\b\b\b\b\b\b\b\b\b\b\n",
            "Epoch 50/500\n",
            "83/83 [==============================] - 0s 1ms/step - loss: 3293.0212 - val_loss: 3743.3896\b\b\b\b\b\b\b\b\b\b\b\b\b\b\b\b\b\b\b\b\b\b\b\b\b\b\b\b\b\b\b\b\b\b\b\b\b\b\b\b\n",
            "Epoch 51/500\n",
            "83/83 [==============================] - 0s 1ms/step - loss: 3271.1670 - val_loss: 3705.6223\b\b\b\b\b\b\b\b\b\b\b\b\b\b\b\b\b\b\b\b\b\b\b\b\b\b\b\b\b\b\b\b\b\b\b\b\b\b\b\b\n",
            "Epoch 52/500\n",
            "83/83 [==============================] - 0s 2ms/step - loss: 3228.4822 - val_loss: 3736.3933\b\b\b\b\b\b\b\b\b\b\b\b\b\b\b\b\b\b\b\b\b\b\b\b\b\b\b\b\b\b\b\b\b\b\b\b\b\b\b\b\n",
            "Epoch 53/500\n",
            "83/83 [==============================] - 0s 1ms/step - loss: 3203.4111 - val_loss: 3702.2522\b\b\b\b\b\b\b\b\b\b\b\b\b\b\b\b\b\b\b\b\b\b\b\b\b\b\b\b\b\b\b\b\b\b\b\b\b\b\b\b\n",
            "Epoch 54/500\n",
            "83/83 [==============================] - 0s 2ms/step - loss: 3166.9653 - val_loss: 3689.2209\b\b\b\b\b\b\b\b\b\b\b\b\b\b\b\b\b\b\b\b\b\b\b\b\b\b\b\b\b\b\b\b\b\b\b\b\b\b\b\b\n",
            "Epoch 55/500\n",
            "83/83 [==============================] - 0s 1ms/step - loss: 3147.5042 - val_loss: 3716.8313\b\b\b\b\b\b\b\b\b\b\b\b\b\b\b\b\b\b\b\b\b\b\b\b\b\b\b\b\b\b\b\b\b\b\b\b\b\b\b\b\n",
            "Epoch 56/500\n",
            "83/83 [==============================] - 0s 1ms/step - loss: 3119.6965 - val_loss: 3701.3591\b\b\b\b\b\b\b\b\b\b\b\b\b\b\b\b\b\b\b\b\b\b\b\b\b\b\b\b\b\b\b\b\b\b\b\b\b\b\b\b\n",
            "Epoch 57/500\n",
            "83/83 [==============================] - 0s 1ms/step - loss: 3107.7896 - val_loss: 3683.4038\b\b\b\b\b\b\b\b\b\b\b\b\b\b\b\b\b\b\b\b\b\b\b\b\b\b\b\b\b\b\b\b\b\b\b\b\b\b\b\b\n",
            "Epoch 58/500\n",
            "83/83 [==============================] - 0s 1ms/step - loss: 3082.8110 - val_loss: 3659.9114\b\b\b\b\b\b\b\b\b\b\b\b\b\b\b\b\b\b\b\b\b\b\b\b\b\b\b\b\b\b\b\b\b\b\b\b\b\b\b\b\n",
            "Epoch 59/500\n",
            "83/83 [==============================] - 0s 1ms/step - loss: 3060.1917 - val_loss: 3671.0703\b\b\b\b\b\b\b\b\b\b\b\b\b\b\b\b\b\b\b\b\b\b\b\b\b\b\b\b\b\b\b\b\b\b\b\b\b\b\b\b\n",
            "Epoch 60/500\n",
            "83/83 [==============================] - 0s 2ms/step - loss: 3038.6650 - val_loss: 3681.9050\b\b\b\b\b\b\b\b\b\b\b\b\b\b\b\b\b\b\b\b\b\b\b\b\b\b\b\b\b\b\b\b\b\b\b\b\b\b\b\b\n",
            "Epoch 61/500\n",
            "83/83 [==============================] - 0s 1ms/step - loss: 3014.6851 - val_loss: 3672.4915\b\b\b\b\b\b\b\b\b\b\b\b\b\b\b\b\b\b\b\b\b\b\b\b\b\b\b\b\b\b\b\b\b\b\b\b\b\b\b\b\n",
            "Epoch 62/500\n",
            "83/83 [==============================] - 0s 2ms/step - loss: 3001.4180 - val_loss: 3674.4683\b\b\b\b\b\b\b\b\b\b\b\b\b\b\b\b\b\b\b\b\b\b\b\b\b\b\b\b\b\b\b\b\b\b\b\b\b\b\b\b\n",
            "Epoch 63/500\n",
            "83/83 [==============================] - 0s 2ms/step - loss: 2979.6755 - val_loss: 3634.0332\b\b\b\b\b\b\b\b\b\b\b\b\b\b\b\b\b\b\b\b\b\b\b\b\b\b\b\b\b\b\b\b\b\b\b\b\b\b\b\b\n",
            "Epoch 64/500\n",
            "83/83 [==============================] - 0s 1ms/step - loss: 2973.7830 - val_loss: 3639.0742\b\b\b\b\b\b\b\b\b\b\b\b\b\b\b\b\b\b\b\b\b\b\b\b\b\b\b\b\b\b\b\b\b\b\b\b\b\b\b\b\n",
            "Epoch 65/500\n",
            "83/83 [==============================] - 0s 2ms/step - loss: 2960.4443 - val_loss: 3616.7019\b\b\b\b\b\b\b\b\b\b\b\b\b\b\b\b\b\b\b\b\b\b\b\b\b\b\b\b\b\b\b\b\b\b\b\b\b\b\b\b\n",
            "Epoch 66/500\n",
            "83/83 [==============================] - 0s 2ms/step - loss: 2940.7273 - val_loss: 3599.6270\b\b\b\b\b\b\b\b\b\b\b\b\b\b\b\b\b\b\b\b\b\b\b\b\b\b\b\b\b\b\b\b\b\b\b\b\b\b\b\b\n",
            "Epoch 67/500\n",
            "83/83 [==============================] - 0s 1ms/step - loss: 2928.3665 - val_loss: 3604.3550\b\b\b\b\b\b\b\b\b\b\b\b\b\b\b\b\b\b\b\b\b\b\b\b\b\b\b\b\b\b\b\b\b\b\b\b\b\b\b\b\n",
            "Epoch 68/500\n",
            "83/83 [==============================] - 0s 2ms/step - loss: 2910.1074 - val_loss: 3610.8015\b\b\b\b\b\b\b\b\b\b\b\b\b\b\b\b\b\b\b\b\b\b\b\b\b\b\b\b\b\b\b\b\b\b\b\b\b\b\b\b\n",
            "Epoch 69/500\n",
            "83/83 [==============================] - 0s 2ms/step - loss: 2893.8584 - val_loss: 3584.0444\b\b\b\b\b\b\b\b\b\b\b\b\b\b\b\b\b\b\b\b\b\b\b\b\b\b\b\b\b\b\b\b\b\b\b\b\b\b\b\b\n",
            "Epoch 70/500\n",
            "83/83 [==============================] - 0s 1ms/step - loss: 2881.8223 - val_loss: 3577.1877\b\b\b\b\b\b\b\b\b\b\b\b\b\b\b\b\b\b\b\b\b\b\b\b\b\b\b\b\b\b\b\b\b\b\b\b\b\b\b\b\n",
            "Epoch 71/500\n",
            "83/83 [==============================] - 0s 1ms/step - loss: 2862.5679 - val_loss: 3559.9587\b\b\b\b\b\b\b\b\b\b\b\b\b\b\b\b\b\b\b\b\b\b\b\b\b\b\b\b\b\b\b\b\b\b\b\b\b\b\b\b\n",
            "Epoch 72/500\n",
            "83/83 [==============================] - 0s 2ms/step - loss: 2844.4556 - val_loss: 3541.7664\b\b\b\b\b\b\b\b\b\b\b\b\b\b\b\b\b\b\b\b\b\b\b\b\b\b\b\b\b\b\b\b\b\b\b\b\b\b\b\b\n",
            "Epoch 73/500\n",
            "83/83 [==============================] - 0s 2ms/step - loss: 2831.9294 - val_loss: 3571.3076\b\b\b\b\b\b\b\b\b\b\b\b\b\b\b\b\b\b\b\b\b\b\b\b\b\b\b\b\b\b\b\b\b\b\b\b\b\b\b\b\n",
            "Epoch 74/500\n",
            "83/83 [==============================] - 0s 1ms/step - loss: 2819.1372 - val_loss: 3559.9893\b\b\b\b\b\b\b\b\b\b\b\b\b\b\b\b\b\b\b\b\b\b\b\b\b\b\b\b\b\b\b\b\b\b\b\b\b\b\b\b\n",
            "Epoch 75/500\n",
            "83/83 [==============================] - 0s 1ms/step - loss: 2807.6646 - val_loss: 3515.5610\b\b\b\b\b\b\b\b\b\b\b\b\b\b\b\b\b\b\b\b\b\b\b\b\b\b\b\b\b\b\b\b\b\b\b\b\b\b\b\b\n",
            "Epoch 76/500\n",
            "83/83 [==============================] - 0s 1ms/step - loss: 2785.6675 - val_loss: 3514.3215\b\b\b\b\b\b\b\b\b\b\b\b\b\b\b\b\b\b\b\b\b\b\b\b\b\b\b\b\b\b\b\b\b\b\b\b\b\b\b\b\n",
            "Epoch 77/500\n",
            "83/83 [==============================] - 0s 1ms/step - loss: 2784.2437 - val_loss: 3565.1133\b\b\b\b\b\b\b\b\b\b\b\b\b\b\b\b\b\b\b\b\b\b\b\b\b\b\b\b\b\b\b\b\b\b\b\b\b\b\b\b\n",
            "Epoch 78/500\n",
            "83/83 [==============================] - 0s 2ms/step - loss: 2772.6829 - val_loss: 3504.2847\b\b\b\b\b\b\b\b\b\b\b\b\b\b\b\b\b\b\b\b\b\b\b\b\b\b\b\b\b\b\b\b\b\b\b\b\b\b\b\b\n",
            "Epoch 79/500\n",
            "83/83 [==============================] - 0s 1ms/step - loss: 2750.9478 - val_loss: 3514.5825\b\b\b\b\b\b\b\b\b\b\b\b\b\b\b\b\b\b\b\b\b\b\b\b\b\b\b\b\b\b\b\b\b\b\b\b\b\b\b\b\n",
            "Epoch 80/500\n",
            "83/83 [==============================] - 0s 1ms/step - loss: 2736.3486 - val_loss: 3560.4705\b\b\b\b\b\b\b\b\b\b\b\b\b\b\b\b\b\b\b\b\b\b\b\b\b\b\b\b\b\b\b\b\b\b\b\b\b\b\b\b\n",
            "Epoch 81/500\n",
            "83/83 [==============================] - 0s 1ms/step - loss: 2723.7866 - val_loss: 3524.8821\b\b\b\b\b\b\b\b\b\b\b\b\b\b\b\b\b\b\b\b\b\b\b\b\b\b\b\b\b\b\b\b\b\b\b\b\b\b\b\b\n",
            "Epoch 82/500\n",
            "83/83 [==============================] - 0s 1ms/step - loss: 2717.8821 - val_loss: 3543.2849\b\b\b\b\b\b\b\b\b\b\b\b\b\b\b\b\b\b\b\b\b\b\b\b\b\b\b\b\b\b\b\b\b\b\b\b\b\b\b\b\n",
            "Epoch 83/500\n",
            "83/83 [==============================] - 0s 1ms/step - loss: 2704.5298 - val_loss: 3528.3232\b\b\b\b\b\b\b\b\b\b\b\b\b\b\b\b\b\b\b\b\b\b\b\b\b\b\b\b\b\b\b\b\b\b\b\b\b\b\b\b\n",
            "Epoch 84/500\n",
            "83/83 [==============================] - 0s 2ms/step - loss: 2700.2817 - val_loss: 3540.1172\b\b\b\b\b\b\b\b\b\b\b\b\b\b\b\b\b\b\b\b\b\b\b\b\b\b\b\b\b\b\b\b\b\b\b\b\b\b\b\b\n",
            "Epoch 85/500\n",
            "83/83 [==============================] - 0s 2ms/step - loss: 2695.4216 - val_loss: 3545.5840\b\b\b\b\b\b\b\b\b\b\b\b\b\b\b\b\b\b\b\b\b\b\b\b\b\b\b\b\b\b\b\b\b\b\b\b\b\b\b\b\n",
            "Epoch 86/500\n",
            "83/83 [==============================] - 0s 1ms/step - loss: 2676.9673 - val_loss: 3541.4731\b\b\b\b\b\b\b\b\b\b\b\b\b\b\b\b\b\b\b\b\b\b\b\b\b\b\b\b\b\b\b\b\b\b\b\b\b\b\b\b\n",
            "Epoch 87/500\n",
            "83/83 [==============================] - 0s 1ms/step - loss: 2656.3459 - val_loss: 3548.1936\b\b\b\b\b\b\b\b\b\b\b\b\b\b\b\b\b\b\b\b\b\b\b\b\b\b\b\b\b\b\b\b\b\b\b\b\b\b\b\b\n",
            "Epoch 88/500\n",
            "47/83 [===============>..............] - ETA: 0s - loss: 2725.7844\b\b\b\b\b\b\b\b\b\b\b\b\b\b\b\b\b\b\b\b\b\b\b\b\b\b\b\b\b\b\b\b\b\b\b\b\b\b\b\b\b\b\b\b\b\b\b\b\b\b\b\b\b\b\b\b\b\b\b\b\b\b\b\b\b\b\n",
            "Epoch 00088: ReduceLROnPlateau reducing learning rate to 0.00020000000949949026.\n",
            "83/83 [==============================] - 0s 1ms/step - loss: 2644.1333 - val_loss: 3599.3694\n"
          ]
        }
      ],
      "execution_count": 12,
      "metadata": {
        "tags": [],
        "gather": {
          "logged": 1625426354216
        }
      }
    },
    {
      "cell_type": "code",
      "source": [
        "pd.DataFrame(history.history).plot(figsize=(8, 5))\n",
        "plt.grid(True)\n",
        "# plt.gca().set_ylim(0, 1) # set the vertical range to [0-1]\n",
        "plt.show()"
      ],
      "outputs": [
        {
          "output_type": "display_data",
          "data": {
            "text/plain": "<Figure size 576x360 with 1 Axes>",
            "image/png": "[encoded data removed]"
          },
          "metadata": {
            "needs_background": "light"
          }
        }
      ],
      "execution_count": 13,
      "metadata": {
        "gather": {
          "logged": 1625426361033
        }
      }
    },
    {
      "cell_type": "code",
      "source": [
        "sample = X_test.sample(n=1)\r\n",
        "predict_res = model.predict(sample)\r\n",
        "\r\n",
        "print(\"Random -> resultado do predict de test: \", predict_res)"
      ],
      "outputs": [
        {
          "output_type": "stream",
          "name": "stdout",
          "text": [
            "Random -> resultado do predict de test:  [[403.2064]]\n"
          ]
        }
      ],
      "execution_count": 19,
      "metadata": {
        "collapsed": true,
        "jupyter": {
          "source_hidden": false,
          "outputs_hidden": false
        },
        "nteract": {
          "transient": {
            "deleting": false
          }
        },
        "gather": {
          "logged": 1625426683183
        }
      }
    },
    {
      "cell_type": "code",
      "source": [
        "display(df_dados_model.loc[sample.index[0]:sample.index[0]])"
      ],
      "outputs": [
        {
          "output_type": "display_data",
          "data": {
            "text/plain": "        linha            data_hora  validations_per_hour  d_semana  hour_sin  \\\n645855     41  2020-07-17 13:00:00                   349  0.666667  0.300334   \n\n        hour_cos  hora     d_mes     d_ano       mes  semana_do_mes  domingo  \\\n645855  0.036909    13  0.533333  0.542466  0.545455            0.4      0.0   \n\n        segunda  terca  quarta  quinta  sexta  sabado  feriado  \\\n645855      0.0    0.0     0.0     1.0    0.0     0.0      0.0   \n\n        vespera_feriado  \n645855              0.0  ",
            "text/html": "<div>\n<style scoped>\n    .dataframe tbody tr th:only-of-type {\n        vertical-align: middle;\n    }\n\n    .dataframe tbody tr th {\n        vertical-align: top;\n    }\n\n    .dataframe thead th {\n        text-align: right;\n    }\n</style>\n<table border=\"1\" class=\"dataframe\">\n  <thead>\n    <tr style=\"text-align: right;\">\n      <th></th>\n      <th>linha</th>\n      <th>data_hora</th>\n      <th>validations_per_hour</th>\n      <th>d_semana</th>\n      <th>hour_sin</th>\n      <th>hour_cos</th>\n      <th>hora</th>\n      <th>d_mes</th>\n      <th>d_ano</th>\n      <th>mes</th>\n      <th>semana_do_mes</th>\n      <th>domingo</th>\n      <th>segunda</th>\n      <th>terca</th>\n      <th>quarta</th>\n      <th>quinta</th>\n      <th>sexta</th>\n      <th>sabado</th>\n      <th>feriado</th>\n      <th>vespera_feriado</th>\n    </tr>\n  </thead>\n  <tbody>\n    <tr>\n      <th>645855</th>\n      <td>41</td>\n      <td>2020-07-17 13:00:00</td>\n      <td>349</td>\n      <td>0.666667</td>\n      <td>0.300334</td>\n      <td>0.036909</td>\n      <td>13</td>\n      <td>0.533333</td>\n      <td>0.542466</td>\n      <td>0.545455</td>\n      <td>0.4</td>\n      <td>0.0</td>\n      <td>0.0</td>\n      <td>0.0</td>\n      <td>0.0</td>\n      <td>1.0</td>\n      <td>0.0</td>\n      <td>0.0</td>\n      <td>0.0</td>\n      <td>0.0</td>\n    </tr>\n  </tbody>\n</table>\n</div>"
          },
          "metadata": {}
        }
      ],
      "execution_count": 20,
      "metadata": {
        "collapsed": true,
        "jupyter": {
          "source_hidden": false,
          "outputs_hidden": false
        },
        "nteract": {
          "transient": {
            "deleting": false
          }
        },
        "gather": {
          "logged": 1625426684356
        }
      }
    },
    {
      "cell_type": "code",
      "source": [
        "## Contrucao de exemplo para previsoes\r\n",
        "# 'd_semana', 'hour_sin', 'hour_cos', \r\n",
        "    # 'd_mes', 'd_ano', 'mes', 'semana_do_mes', \r\n",
        "    # 'domingo','segunda', 'terca', 'quarta', 'quinta', 'sexta', 'sabado', \r\n",
        "    # 'feriado', 'vespera_feriado'\r\n",
        "# 24hrs para cada dia para uma determinada linha unica no caso do treinamento\r\n",
        "predicts = []\r\n",
        "test_cases = [\r\n",
        "    [0, 24, 24, 2, 122, 5, 2,1,0,0,0,0,0,0,0,0] #domingo (2 de maio de 2021)\r\n",
        "    [1, 24, 24, 3, 123, 5, 2,0,1,0,0,0,0,0,0,0] #segunda\r\n",
        "    [2, 24, 24, 4, 124, 5, 2,0,0,1,0,0,0,0,0,0] #terca\r\n",
        "    [3, 24, 24, 5, 125, 5, 2,0,0,0,1,0,0,0,0,0] #quarta\r\n",
        "    [4, 24, 24, 6, 126, 5, 2,0,0,0,0,1,0,0,0,0] #quinta\r\n",
        "    [5, 24, 24, 7, 127, 5, 2,0,0,0,0,0,1,0,0,0] #sexta\r\n",
        "    [6, 24, 24, 8, 128, 5, 2,0,0,0,0,0,0,1,0,0] #sabado\r\n",
        "]\r\n",
        "\r\n",
        "\r\n",
        "for case in test_cases:\r\n",
        "    for h in range(0,23):\r\n",
        "        case[1] = np.sin(2 * np.pi * h /23.0) #h_sin\r\n",
        "        case[2] = np.cos(2 * np.pi * h /23.0) #h_cos\r\n",
        "        pred = model.predict(case)\r\n",
        "        predicts.append(pred)\r\n",
        "\r\n",
        "#plot predictions\r\n",
        "\r\n",
        "plt.figure(figsize=(12, 5))\r\n",
        "plt.plot(predicts)\r\n"
      ],
      "outputs": [],
      "execution_count": null,
      "metadata": {
        "collapsed": true,
        "jupyter": {
          "source_hidden": false,
          "outputs_hidden": false
        },
        "nteract": {
          "transient": {
            "deleting": false
          }
        }
      }
    },
    {
      "cell_type": "code",
      "source": [
        "# PREVENDO test_size DIAS\n",
        "\n",
        "# preds = []\n",
        "\n",
        "# base_teste = np.copy(X_test)\n",
        "\n",
        "# for i in range(len(base_teste)):\n",
        "    \n",
        "#     y_pred = model.predict(np.array([base_teste[i]]))[0][0]\n",
        "\n",
        "#     preds.append(y_pred)\n",
        "\n",
        "#     for k in range(len(preds)):\n",
        "        \n",
        "#         if k < time_steps:\n",
        "#             if(i<len(base_teste)-1):\n",
        "#                 base_teste[i+1][0][(time_steps-1)-k] = preds[(len(preds)-1)-k]\n",
        "\n",
        "# preds"
      ],
      "outputs": [
        {
          "output_type": "error",
          "ename": "NameError",
          "evalue": "name 'time_steps' is not defined",
          "traceback": [
            "\u001b[0;31m---------------------------------------------------------------------------\u001b[0m",
            "\u001b[0;31mNameError\u001b[0m                                 Traceback (most recent call last)",
            "\u001b[0;32m<ipython-input-14-a415335e0d18>\u001b[0m in \u001b[0;36m<module>\u001b[0;34m\u001b[0m\n\u001b[1;32m     13\u001b[0m     \u001b[0;32mfor\u001b[0m \u001b[0mk\u001b[0m \u001b[0;32min\u001b[0m \u001b[0mrange\u001b[0m\u001b[0;34m(\u001b[0m\u001b[0mlen\u001b[0m\u001b[0;34m(\u001b[0m\u001b[0mpreds\u001b[0m\u001b[0;34m)\u001b[0m\u001b[0;34m)\u001b[0m\u001b[0;34m:\u001b[0m\u001b[0;34m\u001b[0m\u001b[0;34m\u001b[0m\u001b[0m\n\u001b[1;32m     14\u001b[0m \u001b[0;34m\u001b[0m\u001b[0m\n\u001b[0;32m---> 15\u001b[0;31m         \u001b[0;32mif\u001b[0m \u001b[0mk\u001b[0m \u001b[0;34m<\u001b[0m \u001b[0mtime_steps\u001b[0m\u001b[0;34m:\u001b[0m\u001b[0;34m\u001b[0m\u001b[0;34m\u001b[0m\u001b[0m\n\u001b[0m\u001b[1;32m     16\u001b[0m             \u001b[0;32mif\u001b[0m\u001b[0;34m(\u001b[0m\u001b[0mi\u001b[0m\u001b[0;34m<\u001b[0m\u001b[0mlen\u001b[0m\u001b[0;34m(\u001b[0m\u001b[0mbase_teste\u001b[0m\u001b[0;34m)\u001b[0m\u001b[0;34m-\u001b[0m\u001b[0;36m1\u001b[0m\u001b[0;34m)\u001b[0m\u001b[0;34m:\u001b[0m\u001b[0;34m\u001b[0m\u001b[0;34m\u001b[0m\u001b[0m\n\u001b[1;32m     17\u001b[0m                 \u001b[0mbase_teste\u001b[0m\u001b[0;34m[\u001b[0m\u001b[0mi\u001b[0m\u001b[0;34m+\u001b[0m\u001b[0;36m1\u001b[0m\u001b[0;34m]\u001b[0m\u001b[0;34m[\u001b[0m\u001b[0;36m0\u001b[0m\u001b[0;34m]\u001b[0m\u001b[0;34m[\u001b[0m\u001b[0;34m(\u001b[0m\u001b[0mtime_steps\u001b[0m\u001b[0;34m-\u001b[0m\u001b[0;36m1\u001b[0m\u001b[0;34m)\u001b[0m\u001b[0;34m-\u001b[0m\u001b[0mk\u001b[0m\u001b[0;34m]\u001b[0m \u001b[0;34m=\u001b[0m \u001b[0mpreds\u001b[0m\u001b[0;34m[\u001b[0m\u001b[0;34m(\u001b[0m\u001b[0mlen\u001b[0m\u001b[0;34m(\u001b[0m\u001b[0mpreds\u001b[0m\u001b[0;34m)\u001b[0m\u001b[0;34m-\u001b[0m\u001b[0;36m1\u001b[0m\u001b[0;34m)\u001b[0m\u001b[0;34m-\u001b[0m\u001b[0mk\u001b[0m\u001b[0;34m]\u001b[0m\u001b[0;34m\u001b[0m\u001b[0;34m\u001b[0m\u001b[0m\n",
            "\u001b[0;31mNameError\u001b[0m: name 'time_steps' is not defined"
          ]
        }
      ],
      "execution_count": 14,
      "metadata": {}
    },
    {
      "cell_type": "code",
      "source": [
        "base_teste[0].shape"
      ],
      "outputs": [],
      "execution_count": null,
      "metadata": {}
    },
    {
      "cell_type": "code",
      "source": [
        "# APLICANDO O INVERSE SCALING NOS DADOS\n",
        "if(transformar_features):\n",
        "    df_dados_model[feature_names] = scaler.inverse_transform(df_dados_model[feature_names])\n",
        "# dados_predito"
      ],
      "outputs": [],
      "execution_count": null,
      "metadata": {}
    },
    {
      "cell_type": "code",
      "source": [
        "df_real_predito = pd.DataFrame({'real':dados_real,'predito':dados_predito})\n",
        "\n",
        "df_real_predito"
      ],
      "outputs": [],
      "execution_count": null,
      "metadata": {}
    },
    {
      "cell_type": "code",
      "source": [
        "plt.figure(figsize=(15,5))\n",
        "# plt.plot(range(len(y_train)),y_train, 'g--')\n",
        "plt.plot(range(len(df_real_predito['predito'])),df_real_predito['predito'], 'g--')\n",
        "plt.plot(range(len(df_real_predito['real'])),df_real_predito['real'], 'b')\n",
        "# plt.xlim(0,200)\n",
        "# plt.ylim(40,200)\n",
        "plt.show()"
      ],
      "outputs": [],
      "execution_count": null,
      "metadata": {}
    },
    {
      "cell_type": "code",
      "source": [
        "plt.scatter(df_real_predito['real'],df_real_predito['predito'])\n",
        "\n",
        "plt.xlabel('Real')\n",
        "plt.ylabel('Predito')\n",
        "\n",
        "plt.show()\n",
        "print('r2=',r2_score(df_real_predito['real'].array,df_real_predito['predito'].array))\n",
        "print('rmse=',sqrt(mean_squared_error(df_real_predito['real'].array,df_real_predito['predito'].array)))\n",
        "print('mae=',mean_absolute_error(df_real_predito['real'].array,df_real_predito['predito'].array))"
      ],
      "outputs": [],
      "execution_count": null,
      "metadata": {}
    },
    {
      "cell_type": "code",
      "source": [],
      "outputs": [],
      "execution_count": null,
      "metadata": {}
    }
  ],
  "metadata": {
    "interpreter": {
      "hash": "4caa081543ae4d7454eea2adf6270962382d99fc25b3a6423caed7aecce4d7f8"
    },
    "kernelspec": {
      "name": "python38-azureml",
      "language": "python",
      "display_name": "Python 3.8 - AzureML"
    },
    "language_info": {
      "name": "python",
      "version": "3.8.1",
      "mimetype": "text/x-python",
      "codemirror_mode": {
        "name": "ipython",
        "version": 3
      },
      "pygments_lexer": "ipython3",
      "nbconvert_exporter": "python",
      "file_extension": ".py"
    },
    "nteract": {
      "version": "nteract-front-end@1.0.0"
    },
    "kernel_info": {
      "name": "python38-azureml"
    }
  },
  "nbformat": 4,
  "nbformat_minor": 2
}